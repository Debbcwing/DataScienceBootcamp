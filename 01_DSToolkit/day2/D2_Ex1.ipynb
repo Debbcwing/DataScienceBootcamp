{
 "cells": [
  {
   "cell_type": "markdown",
   "id": "f0adbe07-06c6-4037-83db-061ab2f2f50c",
   "metadata": {},
   "source": [
    "# D2 - Ex.1 Inheritance - Animals"
   ]
  },
  {
   "cell_type": "markdown",
   "id": "76a6393f-c290-451c-9dfa-6bd5d541ad18",
   "metadata": {},
   "source": [
    "## Classes"
   ]
  },
  {
   "cell_type": "markdown",
   "id": "d13c860e-9265-4606-8551-d00d34d10519",
   "metadata": {},
   "source": [
    "#### Animal\n",
    "\n",
    "The base class. It should have following properties and methods:\n",
    "\n",
    "- name\n",
    "- color\n",
    "- introduce() => should print the animals name and color"
   ]
  },
  {
   "cell_type": "code",
   "execution_count": 1,
   "id": "af6aec4f-354c-4923-992b-7d1bf8d82e64",
   "metadata": {},
   "outputs": [],
   "source": [
    "class Animal:\n",
    "    def __init__(self, name, color):\n",
    "        self.name = name\n",
    "        self.color = color\n",
    "    \n",
    "    def introduce(self):\n",
    "        return 'This is a ' + self.color + ' ' + self.name + '.'\n"
   ]
  },
  {
   "cell_type": "code",
   "execution_count": 2,
   "id": "b7c93135-7254-44ae-8e46-f678391d7e0c",
   "metadata": {},
   "outputs": [
    {
     "data": {
      "text/plain": [
       "'This is a white cat.'"
      ]
     },
     "execution_count": 2,
     "metadata": {},
     "output_type": "execute_result"
    }
   ],
   "source": [
    "pet = Animal('cat', 'white')\n",
    "pet.introduce()"
   ]
  },
  {
   "cell_type": "markdown",
   "id": "72d5f85b-c9f6-4b53-ad1c-e41abe2331ec",
   "metadata": {},
   "source": [
    "#### Bird\n",
    "It should have following properties and methods:\n",
    "\n",
    "- should inherit from Animal\n",
    "- wings = amount of wings\n",
    "- melody\n",
    "- fly() => should print ‘<name> is flying with it’s <amount of wings> <color> wings!’\n",
    "- sing() => should print the melody that bird can sing 3 times\n",
    "\n",
    "#### Owl\n",
    "\n",
    "- should inherit from Bird\n",
    "- degree = degree this owl can twist his neck (for example 360)\n",
    "- neck_twist() => should print ‘<name> is doing a <degree> degree neck twist’\n",
    "\n",
    "#### Woodpecker\n",
    "\n",
    "- should inherit from Bird\n",
    "- strength = should be a number\n",
    "- make_hole() => should print the noise of a woodpecker making a hole x times (x = strength)"
   ]
  },
  {
   "cell_type": "code",
   "execution_count": 11,
   "id": "2290b304",
   "metadata": {},
   "outputs": [],
   "source": [
    "class Bird(Animal):\n",
    "    def __init__(self, name, color=None, wings=None, melody=None):\n",
    "        super().__init__(name, color)\n",
    "        self.wings = wings\n",
    "        self.melody = melody\n",
    "\n",
    "    def fly(self):\n",
    "        return self.name + \" is flying with it's \" + self.wings + ' ' + self.color + ' wings!'\n",
    "    \n",
    "    def sing(self):\n",
    "        return np.repeat(self.melody, 3)\n",
    "    \n",
    "    \n",
    "class Owl(Bird):\n",
    "    def __init__(self, name, color, wings, melody, degree):\n",
    "        super().__init__(name, color, wings, melody)\n",
    "        self.degree = degree\n",
    "    \n",
    "    def neck_twist(self):\n",
    "        return self.name + \" is doing a \" + self.degree + \" degree neck twist.\"\n",
    "\n",
    "\n",
    "class Woodpecker(Bird):\n",
    "    def __init__(self, name,  color, wings, melody, strength):\n",
    "        super().__init__(name, color, wings, melody)\n",
    "        self.strength = strength   # in terms of decibel\n",
    "    \n",
    "    def make_hole(self):\n",
    "        return np.repeat(\"Peck!\", self.strength)\n",
    "\n",
    "\n"
   ]
  },
  {
   "cell_type": "code",
   "execution_count": 4,
   "id": "6aeab949",
   "metadata": {},
   "outputs": [
    {
     "data": {
      "text/plain": [
       "\"A swallow is flying with it's beautiful blue wings!\""
      ]
     },
     "execution_count": 4,
     "metadata": {},
     "output_type": "execute_result"
    }
   ],
   "source": [
    "bird1 = Bird(name='A swallow', color='blue', wings='beautiful', melody='whistles')\n",
    "bird1.fly()"
   ]
  },
  {
   "cell_type": "code",
   "execution_count": 5,
   "id": "65ed443d-f242-4b47-9542-90c8a4d952e3",
   "metadata": {},
   "outputs": [
    {
     "data": {
      "text/plain": [
       "array(['whistles', 'whistles', 'whistles'], dtype='<U8')"
      ]
     },
     "execution_count": 5,
     "metadata": {},
     "output_type": "execute_result"
    }
   ],
   "source": [
    "import numpy as np\n",
    "bird1.sing()"
   ]
  },
  {
   "cell_type": "code",
   "execution_count": 15,
   "id": "39515f33",
   "metadata": {},
   "outputs": [
    {
     "name": "stdout",
     "output_type": "stream",
     "text": [
      "Charles the owl is flying with it's 2 blue wings!\n"
     ]
    },
    {
     "data": {
      "text/plain": [
       "'Charles the owl is doing a 75 degree neck twist.'"
      ]
     },
     "execution_count": 15,
     "metadata": {},
     "output_type": "execute_result"
    }
   ],
   "source": [
    "bird2 = Owl(name='Charles the owl', color='blue', melody='twist!', wings='2', degree='75')\n",
    "print(bird2.fly())\n",
    "bird2.neck_twist()"
   ]
  },
  {
   "cell_type": "code",
   "execution_count": 7,
   "id": "deb0817f",
   "metadata": {},
   "outputs": [
    {
     "data": {
      "text/plain": [
       "array(['Peck!', 'Peck!', 'Peck!', 'Peck!', 'Peck!'], dtype='<U5')"
      ]
     },
     "execution_count": 7,
     "metadata": {},
     "output_type": "execute_result"
    }
   ],
   "source": [
    "bird3 = Woodpecker(name='Tom the woodpecker', strength=5)\n",
    "bird3.make_hole()"
   ]
  },
  {
   "cell_type": "markdown",
   "id": "2634651b",
   "metadata": {},
   "source": [
    "#### Fish\n",
    "\n",
    "- should inherit from Animal\n",
    "- speed = speed in km/h this fish can swim\n",
    "- swim() => should print  ‘<name>, the <color> fish, is swimming at a speed of <speed> km/h!’"
   ]
  },
  {
   "cell_type": "code",
   "execution_count": 16,
   "id": "662cb66a",
   "metadata": {},
   "outputs": [],
   "source": [
    "class Fish(Animal):\n",
    "    def __init__(self, name, color, speed):\n",
    "        super().__init__(name, color)\n",
    "        self.speed = speed\n",
    "    \n",
    "    def swim(self):\n",
    "        return self.name + \" the \" + self.color + \" fish, is swimming at a speed of \" + self.speed + \" km/h!\"\n",
    "\n",
    "class Salmon(Fish):\n",
    "    def __init__(self, name, color, speed):\n",
    "        super().__init__(name, color, speed)\n",
    "\n",
    "    def swim(self):\n",
    "        return \"The \" + self.color + self.name + \" is swimming at \" + self.speed + \" against the current!\"\n",
    "\n",
    "class Shark(Fish):\n",
    "    def __init__(self, name, color, speed):\n",
    "        super().__init__(name, color, speed)\n",
    "\n",
    "    def bite(self):\n",
    "        return 'nham ' * 3"
   ]
  },
  {
   "cell_type": "code",
   "execution_count": null,
   "id": "23e5ee2c",
   "metadata": {},
   "outputs": [],
   "source": [
    "fish11 = Fish(name='')"
   ]
  },
  {
   "cell_type": "markdown",
   "id": "37ffb73f",
   "metadata": {},
   "source": [
    "### Test\n",
    "\n",
    "- Create one object for your owl, woodpecker, salmon and shark\n",
    "- Both birds should be able to introduce, fly and sing\n",
    "- Both fishes should be able to introduce and swim\n",
    "- All the specific methods per class should work\n",
    "\n",
    "**If you wrote the exact same method twice in your classes, something is wrong. Try to fix it**"
   ]
  },
  {
   "cell_type": "code",
   "execution_count": 9,
   "id": "24074047",
   "metadata": {},
   "outputs": [],
   "source": [
    "\n",
    "bird1 = Bird(name='owl', color='brown')\n",
    "bird2 = Bird(name='woodpecker', color='white')\n",
    "fish1 = Fish(name='salmon', color='pink', speed=50)\n",
    "fish2 = Fish(name='shark', color='gray', speed=80)"
   ]
  },
  {
   "cell_type": "code",
   "execution_count": 10,
   "id": "853a566d",
   "metadata": {},
   "outputs": [
    {
     "data": {
      "text/plain": [
       "('This is a brown owl.',\n",
       " 'This is a white woodpecker.',\n",
       " 'This is a pink salmon.',\n",
       " 'This is a gray shark.')"
      ]
     },
     "execution_count": 10,
     "metadata": {},
     "output_type": "execute_result"
    }
   ],
   "source": [
    "bird1.introduce(), bird2.introduce(), fish1.introduce(), fish2.introduce()"
   ]
  },
  {
   "cell_type": "code",
   "execution_count": null,
   "id": "79007d2a",
   "metadata": {},
   "outputs": [],
   "source": []
  }
 ],
 "metadata": {
  "kernelspec": {
   "display_name": "CDBootcamp",
   "language": "python",
   "name": "python3"
  },
  "language_info": {
   "codemirror_mode": {
    "name": "ipython",
    "version": 3
   },
   "file_extension": ".py",
   "mimetype": "text/x-python",
   "name": "python",
   "nbconvert_exporter": "python",
   "pygments_lexer": "ipython3",
   "version": "3.10.18"
  }
 },
 "nbformat": 4,
 "nbformat_minor": 5
}
