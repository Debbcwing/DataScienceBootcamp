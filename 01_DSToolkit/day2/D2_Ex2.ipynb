{
 "cells": [
  {
   "cell_type": "markdown",
   "id": "7ee21f65",
   "metadata": {},
   "source": [
    "## Data Cleaning and Analysis"
   ]
  },
  {
   "cell_type": "markdown",
   "id": "3814c0ac",
   "metadata": {},
   "source": [
    "IGN data set\n",
    "\n",
    "Use the IGN game review data set to answer the following questions:\n",
    "\n",
    "- What’s the first game ever released?\n",
    "- How do the game scores vary from year to year?\n",
    "- What’s the platform with the highest average reviews?\n",
    "- Are blockbuster games (“Amazing”, “Masterpiece”) released at a specific time of the year?\n",
    "\n",
    "**Bonus**: And what if we wanted to analyse sales too? Try to merge the IGN data set with this data set on video game sales: https://www.kaggle.com/gregorut/videogamesales\n",
    "\n",
    "**NOTE**: Make sure you commit and push your changes to your gitlab project."
   ]
  },
  {
   "cell_type": "code",
   "execution_count": 2,
   "id": "e9b213ac",
   "metadata": {},
   "outputs": [],
   "source": [
    "import pandas as pd\n",
    "import matplotlib as plt"
   ]
  },
  {
   "cell_type": "code",
   "execution_count": 3,
   "id": "a27b58a6",
   "metadata": {},
   "outputs": [
    {
     "data": {
      "text/html": [
       "<div>\n",
       "<style scoped>\n",
       "    .dataframe tbody tr th:only-of-type {\n",
       "        vertical-align: middle;\n",
       "    }\n",
       "\n",
       "    .dataframe tbody tr th {\n",
       "        vertical-align: top;\n",
       "    }\n",
       "\n",
       "    .dataframe thead th {\n",
       "        text-align: right;\n",
       "    }\n",
       "</style>\n",
       "<table border=\"1\" class=\"dataframe\">\n",
       "  <thead>\n",
       "    <tr style=\"text-align: right;\">\n",
       "      <th></th>\n",
       "      <th>Unnamed: 0</th>\n",
       "      <th>score_phrase</th>\n",
       "      <th>title</th>\n",
       "      <th>url</th>\n",
       "      <th>platform</th>\n",
       "      <th>score</th>\n",
       "      <th>genre</th>\n",
       "      <th>editors_choice</th>\n",
       "      <th>release_year</th>\n",
       "      <th>release_month</th>\n",
       "      <th>release_day</th>\n",
       "    </tr>\n",
       "  </thead>\n",
       "  <tbody>\n",
       "    <tr>\n",
       "      <th>0</th>\n",
       "      <td>0</td>\n",
       "      <td>Amazing</td>\n",
       "      <td>LittleBigPlanet PS Vita</td>\n",
       "      <td>/games/littlebigplanet-vita/vita-98907</td>\n",
       "      <td>PlayStation Vita</td>\n",
       "      <td>9.0</td>\n",
       "      <td>Platformer</td>\n",
       "      <td>Y</td>\n",
       "      <td>2012</td>\n",
       "      <td>9</td>\n",
       "      <td>12</td>\n",
       "    </tr>\n",
       "    <tr>\n",
       "      <th>1</th>\n",
       "      <td>1</td>\n",
       "      <td>Amazing</td>\n",
       "      <td>LittleBigPlanet PS Vita -- Marvel Super Hero E...</td>\n",
       "      <td>/games/littlebigplanet-ps-vita-marvel-super-he...</td>\n",
       "      <td>PlayStation Vita</td>\n",
       "      <td>9.0</td>\n",
       "      <td>Platformer</td>\n",
       "      <td>Y</td>\n",
       "      <td>2012</td>\n",
       "      <td>9</td>\n",
       "      <td>12</td>\n",
       "    </tr>\n",
       "    <tr>\n",
       "      <th>2</th>\n",
       "      <td>2</td>\n",
       "      <td>Great</td>\n",
       "      <td>Splice: Tree of Life</td>\n",
       "      <td>/games/splice/ipad-141070</td>\n",
       "      <td>iPad</td>\n",
       "      <td>8.5</td>\n",
       "      <td>Puzzle</td>\n",
       "      <td>N</td>\n",
       "      <td>2012</td>\n",
       "      <td>9</td>\n",
       "      <td>12</td>\n",
       "    </tr>\n",
       "    <tr>\n",
       "      <th>3</th>\n",
       "      <td>3</td>\n",
       "      <td>Great</td>\n",
       "      <td>NHL 13</td>\n",
       "      <td>/games/nhl-13/xbox-360-128182</td>\n",
       "      <td>Xbox 360</td>\n",
       "      <td>8.5</td>\n",
       "      <td>Sports</td>\n",
       "      <td>N</td>\n",
       "      <td>2012</td>\n",
       "      <td>9</td>\n",
       "      <td>11</td>\n",
       "    </tr>\n",
       "    <tr>\n",
       "      <th>4</th>\n",
       "      <td>4</td>\n",
       "      <td>Great</td>\n",
       "      <td>NHL 13</td>\n",
       "      <td>/games/nhl-13/ps3-128181</td>\n",
       "      <td>PlayStation 3</td>\n",
       "      <td>8.5</td>\n",
       "      <td>Sports</td>\n",
       "      <td>N</td>\n",
       "      <td>2012</td>\n",
       "      <td>9</td>\n",
       "      <td>11</td>\n",
       "    </tr>\n",
       "  </tbody>\n",
       "</table>\n",
       "</div>"
      ],
      "text/plain": [
       "   Unnamed: 0 score_phrase                                              title  \\\n",
       "0           0      Amazing                            LittleBigPlanet PS Vita   \n",
       "1           1      Amazing  LittleBigPlanet PS Vita -- Marvel Super Hero E...   \n",
       "2           2        Great                               Splice: Tree of Life   \n",
       "3           3        Great                                             NHL 13   \n",
       "4           4        Great                                             NHL 13   \n",
       "\n",
       "                                                 url          platform  score  \\\n",
       "0             /games/littlebigplanet-vita/vita-98907  PlayStation Vita    9.0   \n",
       "1  /games/littlebigplanet-ps-vita-marvel-super-he...  PlayStation Vita    9.0   \n",
       "2                          /games/splice/ipad-141070              iPad    8.5   \n",
       "3                      /games/nhl-13/xbox-360-128182          Xbox 360    8.5   \n",
       "4                           /games/nhl-13/ps3-128181     PlayStation 3    8.5   \n",
       "\n",
       "        genre editors_choice  release_year  release_month  release_day  \n",
       "0  Platformer              Y          2012              9           12  \n",
       "1  Platformer              Y          2012              9           12  \n",
       "2      Puzzle              N          2012              9           12  \n",
       "3      Sports              N          2012              9           11  \n",
       "4      Sports              N          2012              9           11  "
      ]
     },
     "execution_count": 3,
     "metadata": {},
     "output_type": "execute_result"
    }
   ],
   "source": [
    "data = pd.read_csv('/Users/szewing/Desktop/Course/CDBootcamp/debbie_to/01_DSToolkit/day2/ign.csv')\n",
    "data.head()"
   ]
  },
  {
   "cell_type": "code",
   "execution_count": 4,
   "id": "9f3ec271",
   "metadata": {},
   "outputs": [],
   "source": [
    "# import os\n",
    "# home_dir = os.path.expanduser(\"~\")\n",
    "# print(home_dir)"
   ]
  },
  {
   "cell_type": "code",
   "execution_count": 5,
   "id": "136952bf",
   "metadata": {},
   "outputs": [
    {
     "data": {
      "text/html": [
       "<div>\n",
       "<style scoped>\n",
       "    .dataframe tbody tr th:only-of-type {\n",
       "        vertical-align: middle;\n",
       "    }\n",
       "\n",
       "    .dataframe tbody tr th {\n",
       "        vertical-align: top;\n",
       "    }\n",
       "\n",
       "    .dataframe thead th {\n",
       "        text-align: right;\n",
       "    }\n",
       "</style>\n",
       "<table border=\"1\" class=\"dataframe\">\n",
       "  <thead>\n",
       "    <tr style=\"text-align: right;\">\n",
       "      <th></th>\n",
       "      <th>title</th>\n",
       "      <th>release_year</th>\n",
       "      <th>release_month</th>\n",
       "      <th>release_day</th>\n",
       "    </tr>\n",
       "  </thead>\n",
       "  <tbody>\n",
       "    <tr>\n",
       "      <th>516</th>\n",
       "      <td>The Walking Dead: The Game -- Episode 1: A New...</td>\n",
       "      <td>1970</td>\n",
       "      <td>1</td>\n",
       "      <td>1</td>\n",
       "    </tr>\n",
       "    <tr>\n",
       "      <th>515</th>\n",
       "      <td>Baku Baku</td>\n",
       "      <td>1996</td>\n",
       "      <td>6</td>\n",
       "      <td>18</td>\n",
       "    </tr>\n",
       "    <tr>\n",
       "      <th>488</th>\n",
       "      <td>Pilotwings 64</td>\n",
       "      <td>1996</td>\n",
       "      <td>9</td>\n",
       "      <td>25</td>\n",
       "    </tr>\n",
       "    <tr>\n",
       "      <th>514</th>\n",
       "      <td>Super Mario 64</td>\n",
       "      <td>1996</td>\n",
       "      <td>9</td>\n",
       "      <td>25</td>\n",
       "    </tr>\n",
       "    <tr>\n",
       "      <th>487</th>\n",
       "      <td>Batman Forever: The Arcade Game</td>\n",
       "      <td>1996</td>\n",
       "      <td>11</td>\n",
       "      <td>2</td>\n",
       "    </tr>\n",
       "  </tbody>\n",
       "</table>\n",
       "</div>"
      ],
      "text/plain": [
       "                                                 title  release_year  \\\n",
       "516  The Walking Dead: The Game -- Episode 1: A New...          1970   \n",
       "515                                          Baku Baku          1996   \n",
       "488                                      Pilotwings 64          1996   \n",
       "514                                     Super Mario 64          1996   \n",
       "487                    Batman Forever: The Arcade Game          1996   \n",
       "\n",
       "     release_month  release_day  \n",
       "516              1            1  \n",
       "515              6           18  \n",
       "488              9           25  \n",
       "514              9           25  \n",
       "487             11            2  "
      ]
     },
     "execution_count": 5,
     "metadata": {},
     "output_type": "execute_result"
    }
   ],
   "source": [
    "data.sort_values(['release_year', 'release_month', 'release_day']).head(5)[[\"title\", \"release_year\", \"release_month\", \"release_day\"]]\n",
    "# first game ever released."
   ]
  },
  {
   "cell_type": "code",
   "execution_count": 6,
   "id": "0c7d10cb",
   "metadata": {},
   "outputs": [
    {
     "name": "stdout",
     "output_type": "stream",
     "text": [
      "<class 'pandas.core.frame.DataFrame'>\n",
      "RangeIndex: 18625 entries, 0 to 18624\n",
      "Data columns (total 11 columns):\n",
      " #   Column          Non-Null Count  Dtype  \n",
      "---  ------          --------------  -----  \n",
      " 0   Unnamed: 0      18625 non-null  int64  \n",
      " 1   score_phrase    18625 non-null  object \n",
      " 2   title           18625 non-null  object \n",
      " 3   url             18625 non-null  object \n",
      " 4   platform        18625 non-null  object \n",
      " 5   score           18625 non-null  float64\n",
      " 6   genre           18589 non-null  object \n",
      " 7   editors_choice  18625 non-null  object \n",
      " 8   release_year    18625 non-null  int64  \n",
      " 9   release_month   18625 non-null  int64  \n",
      " 10  release_day     18625 non-null  int64  \n",
      "dtypes: float64(1), int64(4), object(6)\n",
      "memory usage: 1.6+ MB\n"
     ]
    }
   ],
   "source": [
    "data.info()"
   ]
  },
  {
   "cell_type": "code",
   "execution_count": 7,
   "id": "b88821db",
   "metadata": {},
   "outputs": [
    {
     "data": {
      "image/png": "[encoded data removed]",
      "text/plain": [
       "<Figure size 1000x500 with 1 Axes>"
      ]
     },
     "metadata": {},
     "output_type": "display_data"
    }
   ],
   "source": [
    "_ = data.boxplot(column='score', by='release_year', figsize=(10, 5), fontsize=9, rot=45)"
   ]
  },
  {
   "cell_type": "code",
   "execution_count": null,
   "id": "b8058ef9",
   "metadata": {},
   "outputs": [
    {
     "data": {
      "text/plain": [
       "platform\n",
       "PC                      3370\n",
       "PlayStation 2           1686\n",
       "Xbox 360                1631\n",
       "Wii                     1366\n",
       "PlayStation 3           1356\n",
       "Nintendo DS             1045\n",
       "PlayStation              952\n",
       "Wireless                 910\n",
       "iPhone                   842\n",
       "Xbox                     821\n",
       "PlayStation Portable     633\n",
       "Game Boy Advance         623\n",
       "GameCube                 509\n",
       "Game Boy Color           356\n",
       "Nintendo 64              302\n",
       "Dreamcast                286\n",
       "PlayStation 4            277\n",
       "Nintendo DSi             254\n",
       "Nintendo 3DS             225\n",
       "Xbox One                 208\n",
       "PlayStation Vita         155\n",
       "Wii U                    114\n",
       "iPad                      99\n",
       "Lynx                      82\n",
       "Macintosh                 81\n",
       "Genesis                   58\n",
       "NES                       49\n",
       "TurboGrafx-16             40\n",
       "Android                   39\n",
       "Super NES                 33\n",
       "NeoGeo Pocket Color       31\n",
       "N-Gage                    30\n",
       "Game Boy                  22\n",
       "iPod                      17\n",
       "Sega 32X                  16\n",
       "Windows Phone             14\n",
       "Master System             13\n",
       "Arcade                    11\n",
       "NeoGeo                    10\n",
       "Linux                     10\n",
       "Nintendo 64DD              7\n",
       "Commodore 64/128           6\n",
       "Saturn                     6\n",
       "Atari 2600                 5\n",
       "WonderSwan                 4\n",
       "TurboGrafx-CD              3\n",
       "Game.Com                   3\n",
       "New Nintendo 3DS           2\n",
       "Atari 5200                 2\n",
       "Vectrex                    2\n",
       "Dreamcast VMU              1\n",
       "Pocket PC                  1\n",
       "DVD / HD Video Game        1\n",
       "WonderSwan Color           1\n",
       "Sega CD                    1\n",
       "Web Games                  1\n",
       "Windows Surface            1\n",
       "Ouya                       1\n",
       "SteamOS                    1\n",
       "Name: count, dtype: int64"
      ]
     },
     "execution_count": 9,
     "metadata": {},
     "output_type": "execute_result"
    }
   ],
   "source": [
    "data[\"platform\"].value_counts()     #streamOS has only one count => should set some thresholds for the groupby"
   ]
  },
  {
   "cell_type": "code",
   "execution_count": 15,
   "id": "9f2f2f38",
   "metadata": {},
   "outputs": [
    {
     "ename": "TypeError",
     "evalue": "'>=' not supported between instances of 'method' and 'int'",
     "output_type": "error",
     "traceback": [
      "\u001b[0;31m---------------------------------------------------------------------------\u001b[0m",
      "\u001b[0;31mTypeError\u001b[0m                                 Traceback (most recent call last)",
      "Cell \u001b[0;32mIn[15], line 1\u001b[0m\n\u001b[0;32m----> 1\u001b[0m data[\u001b[43mdata\u001b[49m\u001b[43m[\u001b[49m\u001b[38;5;124;43m'\u001b[39;49m\u001b[38;5;124;43mplatform\u001b[39;49m\u001b[38;5;124;43m'\u001b[39;49m\u001b[43m]\u001b[49m\u001b[38;5;241;43m.\u001b[39;49m\u001b[43mvalue_counts\u001b[49m\u001b[43m \u001b[49m\u001b[38;5;241;43m>\u001b[39;49m\u001b[38;5;241;43m=\u001b[39;49m\u001b[43m \u001b[49m\u001b[38;5;241;43m5\u001b[39;49m]\n",
      "\u001b[0;31mTypeError\u001b[0m: '>=' not supported between instances of 'method' and 'int'"
     ]
    }
   ],
   "source": [
    "data[data['platform'].value_counts >= 5]"
   ]
  },
  {
   "cell_type": "code",
   "execution_count": 8,
   "id": "4c4e8f83",
   "metadata": {},
   "outputs": [
    {
     "data": {
      "text/html": [
       "<div>\n",
       "<style scoped>\n",
       "    .dataframe tbody tr th:only-of-type {\n",
       "        vertical-align: middle;\n",
       "    }\n",
       "\n",
       "    .dataframe tbody tr th {\n",
       "        vertical-align: top;\n",
       "    }\n",
       "\n",
       "    .dataframe thead th {\n",
       "        text-align: right;\n",
       "    }\n",
       "</style>\n",
       "<table border=\"1\" class=\"dataframe\">\n",
       "  <thead>\n",
       "    <tr style=\"text-align: right;\">\n",
       "      <th></th>\n",
       "      <th>average_score</th>\n",
       "    </tr>\n",
       "    <tr>\n",
       "      <th>platform</th>\n",
       "      <th></th>\n",
       "    </tr>\n",
       "  </thead>\n",
       "  <tbody>\n",
       "    <tr>\n",
       "      <th>SteamOS</th>\n",
       "      <td>8.900000</td>\n",
       "    </tr>\n",
       "    <tr>\n",
       "      <th>WonderSwan Color</th>\n",
       "      <td>8.600000</td>\n",
       "    </tr>\n",
       "    <tr>\n",
       "      <th>Pocket PC</th>\n",
       "      <td>8.500000</td>\n",
       "    </tr>\n",
       "    <tr>\n",
       "      <th>Macintosh</th>\n",
       "      <td>8.120988</td>\n",
       "    </tr>\n",
       "    <tr>\n",
       "      <th>Ouya</th>\n",
       "      <td>8.000000</td>\n",
       "    </tr>\n",
       "  </tbody>\n",
       "</table>\n",
       "</div>"
      ],
      "text/plain": [
       "                  average_score\n",
       "platform                       \n",
       "SteamOS                8.900000\n",
       "WonderSwan Color       8.600000\n",
       "Pocket PC              8.500000\n",
       "Macintosh              8.120988\n",
       "Ouya                   8.000000"
      ]
     },
     "execution_count": 8,
     "metadata": {},
     "output_type": "execute_result"
    }
   ],
   "source": [
    "data.groupby(\"platform\").agg(average_score=(\"score\", \"mean\")).sort_values(\"average_score\", ascending=False).head(5)\n",
    "# the platform with the highest average reviewsis SteamOS"
   ]
  },
  {
   "cell_type": "code",
   "execution_count": null,
   "id": "61066f5a",
   "metadata": {},
   "outputs": [],
   "source": [
    "# blockbuster game\n",
    "# groupby release_month by month for the entire dataset."
   ]
  },
  {
   "cell_type": "markdown",
   "id": "0caf13f5",
   "metadata": {},
   "source": [
    "### Merge with Sales Data"
   ]
  },
  {
   "cell_type": "code",
   "execution_count": null,
   "id": "c8c8a6d4",
   "metadata": {},
   "outputs": [],
   "source": [
    "import kagglepath\n",
    "\n",
    "path = kaggle"
   ]
  }
 ],
 "metadata": {
  "kernelspec": {
   "display_name": "CDBootcamp",
   "language": "python",
   "name": "python3"
  },
  "language_info": {
   "codemirror_mode": {
    "name": "ipython",
    "version": 3
   },
   "file_extension": ".py",
   "mimetype": "text/x-python",
   "name": "python",
   "nbconvert_exporter": "python",
   "pygments_lexer": "ipython3",
   "version": "3.10.18"
  }
 },
 "nbformat": 4,
 "nbformat_minor": 5
}
