{
 "cells": [
  {
   "cell_type": "markdown",
   "id": "f0adbe07-06c6-4037-83db-061ab2f2f50c",
   "metadata": {},
   "source": [
    "# D2 - Ex.1 Inheritance - Animals"
   ]
  },
  {
   "cell_type": "markdown",
   "id": "76a6393f-c290-451c-9dfa-6bd5d541ad18",
   "metadata": {},
   "source": [
    "## Classes"
   ]
  },
  {
   "cell_type": "markdown",
   "id": "d13c860e-9265-4606-8551-d00d34d10519",
   "metadata": {},
   "source": [
    "#### Animal"
   ]
  },
  {
   "cell_type": "code",
   "execution_count": null,
   "id": "af6aec4f-354c-4923-992b-7d1bf8d82e64",
   "metadata": {},
   "outputs": [],
   "source": [
    "Class Animal:\n",
    "    __init__(self, name, color)"
   ]
  },
  {
   "cell_type": "code",
   "execution_count": null,
   "id": "b7c93135-7254-44ae-8e46-f678391d7e0c",
   "metadata": {},
   "outputs": [],
   "source": []
  },
  {
   "cell_type": "code",
   "execution_count": null,
   "id": "72d5f85b-c9f6-4b53-ad1c-e41abe2331ec",
   "metadata": {},
   "outputs": [],
   "source": []
  },
  {
   "cell_type": "code",
   "execution_count": null,
   "id": "65ed443d-f242-4b47-9542-90c8a4d952e3",
   "metadata": {},
   "outputs": [],
   "source": []
  }
 ],
 "metadata": {
  "kernelspec": {
   "display_name": "Python 3 (ipykernel)",
   "language": "python",
   "name": "python3"
  },
  "language_info": {
   "codemirror_mode": {
    "name": "ipython",
    "version": 3
   },
   "file_extension": ".py",
   "mimetype": "text/x-python",
   "name": "python",
   "nbconvert_exporter": "python",
   "pygments_lexer": "ipython3",
   "version": "3.10.18"
  }
 },
 "nbformat": 4,
 "nbformat_minor": 5
}
