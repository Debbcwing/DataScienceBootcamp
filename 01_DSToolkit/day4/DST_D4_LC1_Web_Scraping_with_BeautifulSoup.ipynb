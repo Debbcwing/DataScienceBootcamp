{
 "cells": [
  {
   "cell_type": "markdown",
   "metadata": {
    "id": "OBzMIso9OGPe"
   },
   "source": [
    "<center><a target=\"_blank\" href=\"https://academy.constructor.org/\">\n",
    "<img src=\"data:image/png;base64,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\" width=\"500\" style=\"background:none; border:none; box-shadow:none;\"/></a> </center>\n",
    "<hr />\n",
    "\n",
    "# <h1 align=\"center\"> Web Scraping with BeautifulSoup </h1>\n",
    "\n",
    "<hr />\n",
    "<center>Constructor Academy, 2025</center>\n",
    "\n",
    "<!-- Last update: May 14, 2024 DB-->"
   ]
  },
  {
   "cell_type": "markdown",
   "metadata": {
    "id": "yz2JqnhKOGPk"
   },
   "source": [
    "## Table of Contents\n",
    "\n",
    "- [1. Introduction to Webscraping](#1.-introduction-to-webscraping)\n",
    "- [2. HTML Basics](#2.-html-basics)\n",
    "- [3. The Requests Library](#3.-the-requests-library)\n",
    "- [4. BeautifulSoup](#4.-beautifulsoup)"
   ]
  },
  {
   "cell_type": "markdown",
   "metadata": {
    "id": "cyUitqbPOGPl"
   },
   "source": [
    "We can get a lot of data from several public and paid API's.\n",
    "\n",
    "1. https://www.who.int/data/gho/  \n",
    "2. https://data.fivethirtyeight.com/\n",
    "3. https://data.gov/\n",
    "4. https://data.unicef.org/\n",
    "5. https://datasetsearch.research.google.com/\n",
    "\n",
    "But what if we want to access data not offered this way? Data which we only see though a website's page."
   ]
  },
  {
   "cell_type": "markdown",
   "metadata": {
    "id": "2ohDhLLTOGPm"
   },
   "source": [
    "## 1. Introduction to Webscraping"
   ]
  },
  {
   "cell_type": "markdown",
   "metadata": {
    "id": "sg3EaCoPOGPm"
   },
   "source": [
    "As we all know, the internet is a tremendous source of information, whatever your interest is. Ideally, every piece of interesting data would be available to download in the form of a csv file or equivalent, so that we could read it directly with pandas and start analyzing it. Of course, this is not the case.\n",
    "\n",
    "The aim of this session is to demonstrate how you can extract information from web pages. This task is called\n",
    "**Web scraping/web crawling**.\n",
    "\n",
    "In Python, we use mainly 4 packages for web scraping/crawling:\n",
    "\n",
    "- **[Requests](https://requests.readthedocs.io/en/master/user/quickstart/)**: is a package that lets you make http requests. In the context of web scraping, it allows you to get the content of a webpage, that can be further analyzed using a html parser.\n",
    "- **[BeautifulSoup](https://www.crummy.com/software/BeautifulSoup/bs4/doc/)**: is a library that allows you to extract information from html documents (but also xml, even though it is not relevant here.). This is exactly what we need since html is the standard language to write webpages.\n",
    "- [Selenium](https://selenium-python.readthedocs.io): is a library you can use for web pages that are rendered in real-time (e.g. have to physically click buttons, scroll down, ...).\n",
    "- [Scrapy](https://scrapy.org): is a library to create web-spiders, scripts that perform web-crawling.\n",
    "\n",
    "In this course, we learn how to use requests in combination with BeautifulSoup to extract online data. To do so, we first need to understand how information is structured on a web page."
   ]
  },
  {
   "cell_type": "markdown",
   "metadata": {
    "id": "n923rZTzOGPm"
   },
   "source": [
    "## 2. HTML Basics\n",
    "\n",
    "HyperText Markup Language (HTML) is a language that web pages are created in. HTML is not a programming language, like Python — instead, it is a **markup language**: it tells browsers how to layout content. HTML allows you to do similar things to what you do in a word processor like Microsoft Word — make text bold, create paragraphs, and so on. Because HTML is not a programming language, it is not nearly as complex as Python."
   ]
  },
  {
   "cell_type": "markdown",
   "metadata": {
    "id": "HgbBLm6ROGPn"
   },
   "source": [
    "### The components of a web page\n",
    "\n",
    "When we visit a web page, our web browser makes a request to a web server. The server then sends back files that tell our browser how to render the page for us. The files fall into 4 main types:\n",
    "\n",
    "* **HTML** — Contain the main content of the page.\n",
    "* **CSS** — Add styling to make the page look nicer.\n",
    "* **JS** — Javascript files add interactivity to web pages.\n",
    "* **Images** — Image formats, such as JPG and PNG allow web pages to show pictures.\n",
    "\n",
    "\n",
    "After our browser receives all the files, it renders the page and displays it to us. There's a lot that happens behind the scenes to render a page nicely, but we don't need to worry about most of it when web scraping: we are interested in the main content of the web page: HTML."
   ]
  },
  {
   "cell_type": "markdown",
   "metadata": {
    "id": "QnM9ViFDOGPo"
   },
   "source": [
    "You can write html in the code cells of your jupyter notebook by using the `%%HTML` magic. Let's do that:"
   ]
  },
  {
   "cell_type": "code",
   "execution_count": 1,
   "metadata": {
    "colab": {
     "base_uri": "https://localhost:8080/",
     "height": 241
    },
    "executionInfo": {
     "elapsed": 11,
     "status": "ok",
     "timestamp": 1715698860235,
     "user": {
      "displayName": "Adriano Persegani",
      "userId": "17739764701888244413"
     },
     "user_tz": -120
    },
    "id": "QBqKBkxsOGPo",
    "outputId": "dcdfc53e-c074-49a5-a56f-bd02dc554471"
   },
   "outputs": [
    {
     "data": {
      "text/html": [
       "\n",
       "<!DOCTYPE html>\n",
       "<html lang=\"en\">\n",
       "<head>\n",
       "    <meta charset=\"UTF-8\">\n",
       "    <title>Div Layout</title>\n",
       "    <style>\n",
       "        .container {\n",
       "            display: flex;\n",
       "        }\n",
       "        .side-by-side {\n",
       "            width: 50%;\n",
       "            box-sizing: border-box;\n",
       "            border: 2px solid black;\n",
       "            background-color: lightgray;\n",
       "            padding: 10px;\n",
       "        }\n",
       "        #main-top {\n",
       "            margin-bottom: 20px;\n",
       "            border: 2px solid black;\n",
       "            background-color: lightblue;\n",
       "            padding: 10px;\n",
       "            text-align: center;\n",
       "        }\n",
       "        a {\n",
       "            color: darkblue;\n",
       "            text-decoration: none;\n",
       "        }\n",
       "        a:hover {\n",
       "            text-decoration: underline;\n",
       "        }\n",
       "    </style>\n",
       "</head>\n",
       "<body>\n",
       "    <div id=\"main-top\">\n",
       "        <h1>Main Div at the Top</h1>\n",
       "        <p>This is a <span>paragraph</span> with some text in the main div. <a href=\"https://www.example.com\" target=\"_blank\">Visit our site</a></p>\n",
       "    </div>\n",
       "    <div class=\"container\">\n",
       "        <div class=\"side-by-side\">\n",
       "            <h2>Side by Side Div 1</h2>\n",
       "            <p>This is a <span>paragraph</span> with some text in the first side-by-side div.</p>\n",
       "        </div>\n",
       "        <div class=\"side-by-side\">\n",
       "            <h2>Side by Side Div 2</h2>\n",
       "            <p>This is a <span>paragraph</span> with some text in the second side-by-side div. Here is a <a href=\"https://www.example2.com\" target=\"_blank\">link</a>.</p>\n",
       "        </div>\n",
       "    </div>\n",
       "</body>\n",
       "</html>\n"
      ],
      "text/plain": [
       "<IPython.core.display.HTML object>"
      ]
     },
     "metadata": {},
     "output_type": "display_data"
    }
   ],
   "source": [
    "%%HTML\n",
    "\n",
    "<!DOCTYPE html>\n",
    "<html lang=\"en\">\n",
    "<head>\n",
    "    <meta charset=\"UTF-8\">\n",
    "    <title>Div Layout</title>\n",
    "    <style>\n",
    "        .container {\n",
    "            display: flex;\n",
    "        }\n",
    "        .side-by-side {\n",
    "            width: 50%;\n",
    "            box-sizing: border-box;\n",
    "            border: 2px solid black;\n",
    "            background-color: lightgray;\n",
    "            padding: 10px;\n",
    "        }\n",
    "        #main-top {\n",
    "            margin-bottom: 20px;\n",
    "            border: 2px solid black;\n",
    "            background-color: lightblue;\n",
    "            padding: 10px;\n",
    "            text-align: center;\n",
    "        }\n",
    "        a {\n",
    "            color: darkblue;\n",
    "            text-decoration: none;\n",
    "        }\n",
    "        a:hover {\n",
    "            text-decoration: underline;\n",
    "        }\n",
    "    </style>\n",
    "</head>\n",
    "<body>\n",
    "    <div id=\"main-top\">\n",
    "        <h1>Main Div at the Top</h1>\n",
    "        <p>This is a <span>paragraph</span> with some text in the main div. <a href=\"https://www.example.com\" target=\"_blank\">Visit our site</a></p>\n",
    "    </div>\n",
    "    <div class=\"container\">\n",
    "        <div class=\"side-by-side\">\n",
    "            <h2>Side by Side Div 1</h2>\n",
    "            <p>This is a <span>paragraph</span> with some text in the first side-by-side div.</p>\n",
    "        </div>\n",
    "        <div class=\"side-by-side\">\n",
    "            <h2>Side by Side Div 2</h2>\n",
    "            <p>This is a <span>paragraph</span> with some text in the second side-by-side div. Here is a <a href=\"https://www.example2.com\" target=\"_blank\">link</a>.</p>\n",
    "        </div>\n",
    "    </div>\n",
    "</body>\n",
    "</html>"
   ]
  },
  {
   "cell_type": "code",
   "execution_count": null,
   "metadata": {
    "id": "HyGLphWfOGPq"
   },
   "outputs": [],
   "source": [
    "## End of HTML example"
   ]
  },
  {
   "cell_type": "markdown",
   "metadata": {
    "id": "chLgULIaOGPr"
   },
   "source": [
    "In HTML, the information is organized in the form of nested elements. Each html element is delimited by tags, for example:\n",
    "\n",
    "- **`<html>  ... </html>`** is the tag that defines the root element: it tells the web browser that everything inside of it is HTML.\n",
    "- Right inside the HTML tag, we have **`<head> ... </head>`** and **`<body> ... </body>`** tags.\n",
    "- The **`<p> ... </p>`** tag defines the paragraph, and any text inside the tag is shown as a separate paragraph.\n",
    "- the **`<a> ... </a>`** tag declares a link to another webpage. The `href` property determines where the link goes.\n",
    "- **``<div>``** — Indicates a division, or area, of the page.\n",
    "- **``<b>``** — Bolds any text inside.\n",
    "- **``<i>``** — Italicizes any text inside.\n",
    "- **``<table>``** — Creates a table.\n",
    "- **``<form>``** — Creates an input form.\n",
    "\n",
    "Additionally, in HTML, apart from the generic `<div>`, there are specific types of “divs” or elements that help define the structure of a webpage more clearly:\n",
    "\n",
    "1. **`<header>`**: Used for the top part of a page or section, often containing titles or navigation menus.\n",
    "2. **`<footer>`**: Defines the bottom part, typically for copyright information or links.\n",
    "3. **`<article>`**: Represents a self-contained piece of content, like a blog post or news article.\n",
    "4. **`<section>`**: A generic section, usually with a heading, grouping thematically related content.\n",
    "5. **`<nav>`**: For navigation links, helping users find different parts of a site.\n",
    "6. **`<aside>`**: Used for tangentially related content, like sidebars.\n",
    "7. **`<main>`**: Represents the main content of a page; there should be only one `<main>` per page.\n",
    "8. **`<figure>` and `<figcaption>`**: For images, diagrams, or code, with `<figcaption>` providing a caption.\n",
    "9. **`<details>` and `<summary>`**: Creates an expandable and collapsible section, with `<summary>` giving a brief heading.\n",
    "10. **`<mark>`**: Highlights parts of text for emphasis.\n",
    "\n",
    "Using these elements helps make your website more accessible and easier to understand, as they provide extra information about the role of each part of your page.\n",
    "\n",
    "Checkout the full list of tags [here](https://developer.mozilla.org/en-US/docs/Web/HTML/Element).\n",
    "\n"
   ]
  },
  {
   "cell_type": "markdown",
   "metadata": {
    "id": "cYm6fW-VOGPr"
   },
   "source": [
    "The best way to learn about html is to explore the source code of actual webpages. You can do that in your browser. The procedure is slightly different depending on web browsers, in google chrome, you can just type `Ctrl`/`Cmd` + `Shift` + `C`. This is the result you have if you visit [Job.ch](https://www.jobs.ch/en/vacancies/?term=Data%20Engineer) (searching for Data Engineer):"
   ]
  },
  {
   "cell_type": "markdown",
   "metadata": {
    "id": "Zbb9F3TbOGPr"
   },
   "source": [
    "<center><a target=\"_blank\" href=\"https://www.jobs.ch/\"><img src=\"data:image/png;base64,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\" width=\"400\" style=\"background:none; border:none; box-shadow:none;\" /></a> </center>"
   ]
  },
  {
   "cell_type": "markdown",
   "metadata": {
    "id": "vION05v0OGPs"
   },
   "source": [
    "The pannel on the right side of the window shows you the raw html document. You can recognize the tags that we talked about and many more. While webscraping, we will alternate between this window and the jupyter notebook window."
   ]
  },
  {
   "cell_type": "markdown",
   "metadata": {
    "id": "6hMUyxfXOGPs"
   },
   "source": [
    "Html elements can also contain **attributes**. Attributes provide extra information about an HTML element. All attributes are made up of two sections − a name and a value. Common attributes include `id`, `title`, `class` and `style`. These attributes are specified within the tags. For example checkout a close up from the same page source code:"
   ]
  },
  {
   "cell_type": "markdown",
   "metadata": {
    "id": "FV4lOO0ZOGPs"
   },
   "source": [
    "![](https://lh3.googleusercontent.com/d/1I6exoU9KIzaXnHk9fC_w0btIMsOXCE7_)"
   ]
  },
  {
   "cell_type": "markdown",
   "metadata": {
    "id": "xOt4rGDDOGPs"
   },
   "source": [
    "`id` attributes a name to an HTML element, `class` assigns html elements to groups. These properties make elements easier to interact with when we are scraping. One element can have multiple classes, and a class can be shared between elements. Each element can only have one id and it can only be used once on a page. `class` and `id` are optional, and not all elements will have them."
   ]
  },
  {
   "cell_type": "markdown",
   "metadata": {
    "id": "-rsB5U5UOGPs"
   },
   "source": [
    "## 3. The Requests Library\n",
    "\n",
    "The first thing we need to do to scrape a web page is to download it. We can do so using the Python `requests` library. The requests library will make a `GET` request to a web server, which will download the HTML contents of a given web page for us. After running our request, one gets a Response object. This object has a `status_code` property, which indicates if the page was downloaded successfully. A `status_code` of 200 means that the page downloaded successfully. We won't fully dive into status codes here, but a status code starting with a 2 generally indicates success, and a code starting with a 4 or a 5 indicates an error.\n",
    "The page content can be printed using `page.content`."
   ]
  },
  {
   "cell_type": "code",
   "execution_count": 2,
   "metadata": {
    "id": "1S8uvp4-OGPs"
   },
   "outputs": [],
   "source": [
    "import requests"
   ]
  },
  {
   "cell_type": "markdown",
   "metadata": {
    "id": "01nhygMXOGPt"
   },
   "source": [
    "let's start with a simple page:"
   ]
  },
  {
   "cell_type": "code",
   "execution_count": 3,
   "metadata": {
    "colab": {
     "base_uri": "https://localhost:8080/"
    },
    "executionInfo": {
     "elapsed": 3,
     "status": "ok",
     "timestamp": 1724851458679,
     "user": {
      "displayName": "Adriano Persegani",
      "userId": "17739764701888244413"
     },
     "user_tz": -120
    },
    "id": "yTuHh5JtOGPt",
    "outputId": "197f7d64-ef40-4c71-8881-4effaf1807ed"
   },
   "outputs": [
    {
     "name": "stdout",
     "output_type": "stream",
     "text": [
      "<Response [200]>\n",
      "200\n",
      "b'<!DOCTYPE html>\\n<html>\\n    <head>\\n        <title>A simple example page</title>\\n    </head>\\n    <body>\\n        <p>Here is some simple content for this page.</p>\\n    </body>\\n</html>'\n"
     ]
    }
   ],
   "source": [
    "# making a request to a webpage\n",
    "page = requests.get(\"http://dataquestio.github.io/web-scraping-pages/simple.html\")\n",
    "print(page)\n",
    "print(page.status_code) ## prints 200 as status code\n",
    "print(page.content) ## prints the entire webpage content"
   ]
  },
  {
   "cell_type": "markdown",
   "metadata": {
    "id": "YIjThKhvOGPt"
   },
   "source": [
    "- When making a request to an external service, your system will need to wait for an answer before moving on.\n",
    "- By default, requests waits indefinitely, so you should almost always specify a `timeout` duration to prevent your script from getting stuck:"
   ]
  },
  {
   "cell_type": "code",
   "execution_count": 4,
   "metadata": {
    "id": "u8vsj8dvOGPt"
   },
   "outputs": [],
   "source": [
    "page = requests.get(\"http://dataquestio.github.io/web-scraping-pages/simple.html\", timeout=1) # timeout is for not lagging with the webpage server when it happens. "
   ]
  },
  {
   "cell_type": "markdown",
   "metadata": {
    "id": "8QHUERcvOGPt"
   },
   "source": [
    "The `timeout` variable denotes the maximum number of seconds that `requests.get()` will wait for an answer.\n",
    "\n",
    "Let's see the content for the jobs.ch page:"
   ]
  },
  {
   "cell_type": "code",
   "execution_count": 7,
   "metadata": {
    "colab": {
     "base_uri": "https://localhost:8080/"
    },
    "executionInfo": {
     "elapsed": 1375,
     "status": "ok",
     "timestamp": 1724851462381,
     "user": {
      "displayName": "Adriano Persegani",
      "userId": "17739764701888244413"
     },
     "user_tz": -120
    },
    "id": "LikUakRqOGPt",
    "outputId": "43a806e8-80af-4b50-81f7-882dc0f0aaeb"
   },
   "outputs": [
    {
     "ename": "ReadTimeout",
     "evalue": "HTTPSConnectionPool(host='www.jobs.ch', port=443): Read timed out. (read timeout=2)",
     "output_type": "error",
     "traceback": [
      "\u001b[0;31m---------------------------------------------------------------------------\u001b[0m",
      "\u001b[0;31mTimeoutError\u001b[0m                              Traceback (most recent call last)",
      "File \u001b[0;32m/opt/anaconda3/envs/CDBootcamp/lib/python3.10/site-packages/urllib3/connectionpool.py:464\u001b[0m, in \u001b[0;36mHTTPConnectionPool._make_request\u001b[0;34m(self, conn, method, url, body, headers, retries, timeout, chunked, response_conn, preload_content, decode_content, enforce_content_length)\u001b[0m\n\u001b[1;32m    463\u001b[0m \u001b[38;5;28;01mtry\u001b[39;00m:\n\u001b[0;32m--> 464\u001b[0m     \u001b[38;5;28;43mself\u001b[39;49m\u001b[38;5;241;43m.\u001b[39;49m\u001b[43m_validate_conn\u001b[49m\u001b[43m(\u001b[49m\u001b[43mconn\u001b[49m\u001b[43m)\u001b[49m\n\u001b[1;32m    465\u001b[0m \u001b[38;5;28;01mexcept\u001b[39;00m (SocketTimeout, BaseSSLError) \u001b[38;5;28;01mas\u001b[39;00m e:\n",
      "File \u001b[0;32m/opt/anaconda3/envs/CDBootcamp/lib/python3.10/site-packages/urllib3/connectionpool.py:1093\u001b[0m, in \u001b[0;36mHTTPSConnectionPool._validate_conn\u001b[0;34m(self, conn)\u001b[0m\n\u001b[1;32m   1092\u001b[0m \u001b[38;5;28;01mif\u001b[39;00m conn\u001b[38;5;241m.\u001b[39mis_closed:\n\u001b[0;32m-> 1093\u001b[0m     \u001b[43mconn\u001b[49m\u001b[38;5;241;43m.\u001b[39;49m\u001b[43mconnect\u001b[49m\u001b[43m(\u001b[49m\u001b[43m)\u001b[49m\n\u001b[1;32m   1095\u001b[0m \u001b[38;5;66;03m# TODO revise this, see https://github.com/urllib3/urllib3/issues/2791\u001b[39;00m\n",
      "File \u001b[0;32m/opt/anaconda3/envs/CDBootcamp/lib/python3.10/site-packages/urllib3/connection.py:790\u001b[0m, in \u001b[0;36mHTTPSConnection.connect\u001b[0;34m(self)\u001b[0m\n\u001b[1;32m    788\u001b[0m server_hostname_rm_dot \u001b[38;5;241m=\u001b[39m server_hostname\u001b[38;5;241m.\u001b[39mrstrip(\u001b[38;5;124m\"\u001b[39m\u001b[38;5;124m.\u001b[39m\u001b[38;5;124m\"\u001b[39m)\n\u001b[0;32m--> 790\u001b[0m sock_and_verified \u001b[38;5;241m=\u001b[39m \u001b[43m_ssl_wrap_socket_and_match_hostname\u001b[49m\u001b[43m(\u001b[49m\n\u001b[1;32m    791\u001b[0m \u001b[43m    \u001b[49m\u001b[43msock\u001b[49m\u001b[38;5;241;43m=\u001b[39;49m\u001b[43msock\u001b[49m\u001b[43m,\u001b[49m\n\u001b[1;32m    792\u001b[0m \u001b[43m    \u001b[49m\u001b[43mcert_reqs\u001b[49m\u001b[38;5;241;43m=\u001b[39;49m\u001b[38;5;28;43mself\u001b[39;49m\u001b[38;5;241;43m.\u001b[39;49m\u001b[43mcert_reqs\u001b[49m\u001b[43m,\u001b[49m\n\u001b[1;32m    793\u001b[0m \u001b[43m    \u001b[49m\u001b[43mssl_version\u001b[49m\u001b[38;5;241;43m=\u001b[39;49m\u001b[38;5;28;43mself\u001b[39;49m\u001b[38;5;241;43m.\u001b[39;49m\u001b[43mssl_version\u001b[49m\u001b[43m,\u001b[49m\n\u001b[1;32m    794\u001b[0m \u001b[43m    \u001b[49m\u001b[43mssl_minimum_version\u001b[49m\u001b[38;5;241;43m=\u001b[39;49m\u001b[38;5;28;43mself\u001b[39;49m\u001b[38;5;241;43m.\u001b[39;49m\u001b[43mssl_minimum_version\u001b[49m\u001b[43m,\u001b[49m\n\u001b[1;32m    795\u001b[0m \u001b[43m    \u001b[49m\u001b[43mssl_maximum_version\u001b[49m\u001b[38;5;241;43m=\u001b[39;49m\u001b[38;5;28;43mself\u001b[39;49m\u001b[38;5;241;43m.\u001b[39;49m\u001b[43mssl_maximum_version\u001b[49m\u001b[43m,\u001b[49m\n\u001b[1;32m    796\u001b[0m \u001b[43m    \u001b[49m\u001b[43mca_certs\u001b[49m\u001b[38;5;241;43m=\u001b[39;49m\u001b[38;5;28;43mself\u001b[39;49m\u001b[38;5;241;43m.\u001b[39;49m\u001b[43mca_certs\u001b[49m\u001b[43m,\u001b[49m\n\u001b[1;32m    797\u001b[0m \u001b[43m    \u001b[49m\u001b[43mca_cert_dir\u001b[49m\u001b[38;5;241;43m=\u001b[39;49m\u001b[38;5;28;43mself\u001b[39;49m\u001b[38;5;241;43m.\u001b[39;49m\u001b[43mca_cert_dir\u001b[49m\u001b[43m,\u001b[49m\n\u001b[1;32m    798\u001b[0m \u001b[43m    \u001b[49m\u001b[43mca_cert_data\u001b[49m\u001b[38;5;241;43m=\u001b[39;49m\u001b[38;5;28;43mself\u001b[39;49m\u001b[38;5;241;43m.\u001b[39;49m\u001b[43mca_cert_data\u001b[49m\u001b[43m,\u001b[49m\n\u001b[1;32m    799\u001b[0m \u001b[43m    \u001b[49m\u001b[43mcert_file\u001b[49m\u001b[38;5;241;43m=\u001b[39;49m\u001b[38;5;28;43mself\u001b[39;49m\u001b[38;5;241;43m.\u001b[39;49m\u001b[43mcert_file\u001b[49m\u001b[43m,\u001b[49m\n\u001b[1;32m    800\u001b[0m \u001b[43m    \u001b[49m\u001b[43mkey_file\u001b[49m\u001b[38;5;241;43m=\u001b[39;49m\u001b[38;5;28;43mself\u001b[39;49m\u001b[38;5;241;43m.\u001b[39;49m\u001b[43mkey_file\u001b[49m\u001b[43m,\u001b[49m\n\u001b[1;32m    801\u001b[0m \u001b[43m    \u001b[49m\u001b[43mkey_password\u001b[49m\u001b[38;5;241;43m=\u001b[39;49m\u001b[38;5;28;43mself\u001b[39;49m\u001b[38;5;241;43m.\u001b[39;49m\u001b[43mkey_password\u001b[49m\u001b[43m,\u001b[49m\n\u001b[1;32m    802\u001b[0m \u001b[43m    \u001b[49m\u001b[43mserver_hostname\u001b[49m\u001b[38;5;241;43m=\u001b[39;49m\u001b[43mserver_hostname_rm_dot\u001b[49m\u001b[43m,\u001b[49m\n\u001b[1;32m    803\u001b[0m \u001b[43m    \u001b[49m\u001b[43mssl_context\u001b[49m\u001b[38;5;241;43m=\u001b[39;49m\u001b[38;5;28;43mself\u001b[39;49m\u001b[38;5;241;43m.\u001b[39;49m\u001b[43mssl_context\u001b[49m\u001b[43m,\u001b[49m\n\u001b[1;32m    804\u001b[0m \u001b[43m    \u001b[49m\u001b[43mtls_in_tls\u001b[49m\u001b[38;5;241;43m=\u001b[39;49m\u001b[43mtls_in_tls\u001b[49m\u001b[43m,\u001b[49m\n\u001b[1;32m    805\u001b[0m \u001b[43m    \u001b[49m\u001b[43massert_hostname\u001b[49m\u001b[38;5;241;43m=\u001b[39;49m\u001b[38;5;28;43mself\u001b[39;49m\u001b[38;5;241;43m.\u001b[39;49m\u001b[43massert_hostname\u001b[49m\u001b[43m,\u001b[49m\n\u001b[1;32m    806\u001b[0m \u001b[43m    \u001b[49m\u001b[43massert_fingerprint\u001b[49m\u001b[38;5;241;43m=\u001b[39;49m\u001b[38;5;28;43mself\u001b[39;49m\u001b[38;5;241;43m.\u001b[39;49m\u001b[43massert_fingerprint\u001b[49m\u001b[43m,\u001b[49m\n\u001b[1;32m    807\u001b[0m \u001b[43m\u001b[49m\u001b[43m)\u001b[49m\n\u001b[1;32m    808\u001b[0m \u001b[38;5;28mself\u001b[39m\u001b[38;5;241m.\u001b[39msock \u001b[38;5;241m=\u001b[39m sock_and_verified\u001b[38;5;241m.\u001b[39msocket\n",
      "File \u001b[0;32m/opt/anaconda3/envs/CDBootcamp/lib/python3.10/site-packages/urllib3/connection.py:969\u001b[0m, in \u001b[0;36m_ssl_wrap_socket_and_match_hostname\u001b[0;34m(sock, cert_reqs, ssl_version, ssl_minimum_version, ssl_maximum_version, cert_file, key_file, key_password, ca_certs, ca_cert_dir, ca_cert_data, assert_hostname, assert_fingerprint, server_hostname, ssl_context, tls_in_tls)\u001b[0m\n\u001b[1;32m    967\u001b[0m         server_hostname \u001b[38;5;241m=\u001b[39m normalized\n\u001b[0;32m--> 969\u001b[0m ssl_sock \u001b[38;5;241m=\u001b[39m \u001b[43mssl_wrap_socket\u001b[49m\u001b[43m(\u001b[49m\n\u001b[1;32m    970\u001b[0m \u001b[43m    \u001b[49m\u001b[43msock\u001b[49m\u001b[38;5;241;43m=\u001b[39;49m\u001b[43msock\u001b[49m\u001b[43m,\u001b[49m\n\u001b[1;32m    971\u001b[0m \u001b[43m    \u001b[49m\u001b[43mkeyfile\u001b[49m\u001b[38;5;241;43m=\u001b[39;49m\u001b[43mkey_file\u001b[49m\u001b[43m,\u001b[49m\n\u001b[1;32m    972\u001b[0m \u001b[43m    \u001b[49m\u001b[43mcertfile\u001b[49m\u001b[38;5;241;43m=\u001b[39;49m\u001b[43mcert_file\u001b[49m\u001b[43m,\u001b[49m\n\u001b[1;32m    973\u001b[0m \u001b[43m    \u001b[49m\u001b[43mkey_password\u001b[49m\u001b[38;5;241;43m=\u001b[39;49m\u001b[43mkey_password\u001b[49m\u001b[43m,\u001b[49m\n\u001b[1;32m    974\u001b[0m \u001b[43m    \u001b[49m\u001b[43mca_certs\u001b[49m\u001b[38;5;241;43m=\u001b[39;49m\u001b[43mca_certs\u001b[49m\u001b[43m,\u001b[49m\n\u001b[1;32m    975\u001b[0m \u001b[43m    \u001b[49m\u001b[43mca_cert_dir\u001b[49m\u001b[38;5;241;43m=\u001b[39;49m\u001b[43mca_cert_dir\u001b[49m\u001b[43m,\u001b[49m\n\u001b[1;32m    976\u001b[0m \u001b[43m    \u001b[49m\u001b[43mca_cert_data\u001b[49m\u001b[38;5;241;43m=\u001b[39;49m\u001b[43mca_cert_data\u001b[49m\u001b[43m,\u001b[49m\n\u001b[1;32m    977\u001b[0m \u001b[43m    \u001b[49m\u001b[43mserver_hostname\u001b[49m\u001b[38;5;241;43m=\u001b[39;49m\u001b[43mserver_hostname\u001b[49m\u001b[43m,\u001b[49m\n\u001b[1;32m    978\u001b[0m \u001b[43m    \u001b[49m\u001b[43mssl_context\u001b[49m\u001b[38;5;241;43m=\u001b[39;49m\u001b[43mcontext\u001b[49m\u001b[43m,\u001b[49m\n\u001b[1;32m    979\u001b[0m \u001b[43m    \u001b[49m\u001b[43mtls_in_tls\u001b[49m\u001b[38;5;241;43m=\u001b[39;49m\u001b[43mtls_in_tls\u001b[49m\u001b[43m,\u001b[49m\n\u001b[1;32m    980\u001b[0m \u001b[43m\u001b[49m\u001b[43m)\u001b[49m\n\u001b[1;32m    982\u001b[0m \u001b[38;5;28;01mtry\u001b[39;00m:\n",
      "File \u001b[0;32m/opt/anaconda3/envs/CDBootcamp/lib/python3.10/site-packages/urllib3/util/ssl_.py:480\u001b[0m, in \u001b[0;36mssl_wrap_socket\u001b[0;34m(sock, keyfile, certfile, cert_reqs, ca_certs, server_hostname, ssl_version, ciphers, ssl_context, ca_cert_dir, key_password, ca_cert_data, tls_in_tls)\u001b[0m\n\u001b[1;32m    478\u001b[0m context\u001b[38;5;241m.\u001b[39mset_alpn_protocols(ALPN_PROTOCOLS)\n\u001b[0;32m--> 480\u001b[0m ssl_sock \u001b[38;5;241m=\u001b[39m \u001b[43m_ssl_wrap_socket_impl\u001b[49m\u001b[43m(\u001b[49m\u001b[43msock\u001b[49m\u001b[43m,\u001b[49m\u001b[43m \u001b[49m\u001b[43mcontext\u001b[49m\u001b[43m,\u001b[49m\u001b[43m \u001b[49m\u001b[43mtls_in_tls\u001b[49m\u001b[43m,\u001b[49m\u001b[43m \u001b[49m\u001b[43mserver_hostname\u001b[49m\u001b[43m)\u001b[49m\n\u001b[1;32m    481\u001b[0m \u001b[38;5;28;01mreturn\u001b[39;00m ssl_sock\n",
      "File \u001b[0;32m/opt/anaconda3/envs/CDBootcamp/lib/python3.10/site-packages/urllib3/util/ssl_.py:524\u001b[0m, in \u001b[0;36m_ssl_wrap_socket_impl\u001b[0;34m(sock, ssl_context, tls_in_tls, server_hostname)\u001b[0m\n\u001b[1;32m    522\u001b[0m     \u001b[38;5;28;01mreturn\u001b[39;00m SSLTransport(sock, ssl_context, server_hostname)\n\u001b[0;32m--> 524\u001b[0m \u001b[38;5;28;01mreturn\u001b[39;00m \u001b[43mssl_context\u001b[49m\u001b[38;5;241;43m.\u001b[39;49m\u001b[43mwrap_socket\u001b[49m\u001b[43m(\u001b[49m\u001b[43msock\u001b[49m\u001b[43m,\u001b[49m\u001b[43m \u001b[49m\u001b[43mserver_hostname\u001b[49m\u001b[38;5;241;43m=\u001b[39;49m\u001b[43mserver_hostname\u001b[49m\u001b[43m)\u001b[49m\n",
      "File \u001b[0;32m/opt/anaconda3/envs/CDBootcamp/lib/python3.10/ssl.py:513\u001b[0m, in \u001b[0;36mSSLContext.wrap_socket\u001b[0;34m(self, sock, server_side, do_handshake_on_connect, suppress_ragged_eofs, server_hostname, session)\u001b[0m\n\u001b[1;32m    507\u001b[0m \u001b[38;5;28;01mdef\u001b[39;00m\u001b[38;5;250m \u001b[39m\u001b[38;5;21mwrap_socket\u001b[39m(\u001b[38;5;28mself\u001b[39m, sock, server_side\u001b[38;5;241m=\u001b[39m\u001b[38;5;28;01mFalse\u001b[39;00m,\n\u001b[1;32m    508\u001b[0m                 do_handshake_on_connect\u001b[38;5;241m=\u001b[39m\u001b[38;5;28;01mTrue\u001b[39;00m,\n\u001b[1;32m    509\u001b[0m                 suppress_ragged_eofs\u001b[38;5;241m=\u001b[39m\u001b[38;5;28;01mTrue\u001b[39;00m,\n\u001b[1;32m    510\u001b[0m                 server_hostname\u001b[38;5;241m=\u001b[39m\u001b[38;5;28;01mNone\u001b[39;00m, session\u001b[38;5;241m=\u001b[39m\u001b[38;5;28;01mNone\u001b[39;00m):\n\u001b[1;32m    511\u001b[0m     \u001b[38;5;66;03m# SSLSocket class handles server_hostname encoding before it calls\u001b[39;00m\n\u001b[1;32m    512\u001b[0m     \u001b[38;5;66;03m# ctx._wrap_socket()\u001b[39;00m\n\u001b[0;32m--> 513\u001b[0m     \u001b[38;5;28;01mreturn\u001b[39;00m \u001b[38;5;28;43mself\u001b[39;49m\u001b[38;5;241;43m.\u001b[39;49m\u001b[43msslsocket_class\u001b[49m\u001b[38;5;241;43m.\u001b[39;49m\u001b[43m_create\u001b[49m\u001b[43m(\u001b[49m\n\u001b[1;32m    514\u001b[0m \u001b[43m        \u001b[49m\u001b[43msock\u001b[49m\u001b[38;5;241;43m=\u001b[39;49m\u001b[43msock\u001b[49m\u001b[43m,\u001b[49m\n\u001b[1;32m    515\u001b[0m \u001b[43m        \u001b[49m\u001b[43mserver_side\u001b[49m\u001b[38;5;241;43m=\u001b[39;49m\u001b[43mserver_side\u001b[49m\u001b[43m,\u001b[49m\n\u001b[1;32m    516\u001b[0m \u001b[43m        \u001b[49m\u001b[43mdo_handshake_on_connect\u001b[49m\u001b[38;5;241;43m=\u001b[39;49m\u001b[43mdo_handshake_on_connect\u001b[49m\u001b[43m,\u001b[49m\n\u001b[1;32m    517\u001b[0m \u001b[43m        \u001b[49m\u001b[43msuppress_ragged_eofs\u001b[49m\u001b[38;5;241;43m=\u001b[39;49m\u001b[43msuppress_ragged_eofs\u001b[49m\u001b[43m,\u001b[49m\n\u001b[1;32m    518\u001b[0m \u001b[43m        \u001b[49m\u001b[43mserver_hostname\u001b[49m\u001b[38;5;241;43m=\u001b[39;49m\u001b[43mserver_hostname\u001b[49m\u001b[43m,\u001b[49m\n\u001b[1;32m    519\u001b[0m \u001b[43m        \u001b[49m\u001b[43mcontext\u001b[49m\u001b[38;5;241;43m=\u001b[39;49m\u001b[38;5;28;43mself\u001b[39;49m\u001b[43m,\u001b[49m\n\u001b[1;32m    520\u001b[0m \u001b[43m        \u001b[49m\u001b[43msession\u001b[49m\u001b[38;5;241;43m=\u001b[39;49m\u001b[43msession\u001b[49m\n\u001b[1;32m    521\u001b[0m \u001b[43m    \u001b[49m\u001b[43m)\u001b[49m\n",
      "File \u001b[0;32m/opt/anaconda3/envs/CDBootcamp/lib/python3.10/ssl.py:1104\u001b[0m, in \u001b[0;36mSSLSocket._create\u001b[0;34m(cls, sock, server_side, do_handshake_on_connect, suppress_ragged_eofs, server_hostname, context, session)\u001b[0m\n\u001b[1;32m   1103\u001b[0m             \u001b[38;5;28;01mraise\u001b[39;00m \u001b[38;5;167;01mValueError\u001b[39;00m(\u001b[38;5;124m\"\u001b[39m\u001b[38;5;124mdo_handshake_on_connect should not be specified for non-blocking sockets\u001b[39m\u001b[38;5;124m\"\u001b[39m)\n\u001b[0;32m-> 1104\u001b[0m         \u001b[38;5;28;43mself\u001b[39;49m\u001b[38;5;241;43m.\u001b[39;49m\u001b[43mdo_handshake\u001b[49m\u001b[43m(\u001b[49m\u001b[43m)\u001b[49m\n\u001b[1;32m   1105\u001b[0m \u001b[38;5;28;01mexcept\u001b[39;00m (\u001b[38;5;167;01mOSError\u001b[39;00m, \u001b[38;5;167;01mValueError\u001b[39;00m):\n",
      "File \u001b[0;32m/opt/anaconda3/envs/CDBootcamp/lib/python3.10/ssl.py:1375\u001b[0m, in \u001b[0;36mSSLSocket.do_handshake\u001b[0;34m(self, block)\u001b[0m\n\u001b[1;32m   1374\u001b[0m         \u001b[38;5;28mself\u001b[39m\u001b[38;5;241m.\u001b[39msettimeout(\u001b[38;5;28;01mNone\u001b[39;00m)\n\u001b[0;32m-> 1375\u001b[0m     \u001b[38;5;28;43mself\u001b[39;49m\u001b[38;5;241;43m.\u001b[39;49m\u001b[43m_sslobj\u001b[49m\u001b[38;5;241;43m.\u001b[39;49m\u001b[43mdo_handshake\u001b[49m\u001b[43m(\u001b[49m\u001b[43m)\u001b[49m\n\u001b[1;32m   1376\u001b[0m \u001b[38;5;28;01mfinally\u001b[39;00m:\n",
      "\u001b[0;31mTimeoutError\u001b[0m: _ssl.c:1000: The handshake operation timed out",
      "\nThe above exception was the direct cause of the following exception:\n",
      "\u001b[0;31mReadTimeoutError\u001b[0m                          Traceback (most recent call last)",
      "File \u001b[0;32m/opt/anaconda3/envs/CDBootcamp/lib/python3.10/site-packages/requests/adapters.py:667\u001b[0m, in \u001b[0;36mHTTPAdapter.send\u001b[0;34m(self, request, stream, timeout, verify, cert, proxies)\u001b[0m\n\u001b[1;32m    666\u001b[0m \u001b[38;5;28;01mtry\u001b[39;00m:\n\u001b[0;32m--> 667\u001b[0m     resp \u001b[38;5;241m=\u001b[39m \u001b[43mconn\u001b[49m\u001b[38;5;241;43m.\u001b[39;49m\u001b[43murlopen\u001b[49m\u001b[43m(\u001b[49m\n\u001b[1;32m    668\u001b[0m \u001b[43m        \u001b[49m\u001b[43mmethod\u001b[49m\u001b[38;5;241;43m=\u001b[39;49m\u001b[43mrequest\u001b[49m\u001b[38;5;241;43m.\u001b[39;49m\u001b[43mmethod\u001b[49m\u001b[43m,\u001b[49m\n\u001b[1;32m    669\u001b[0m \u001b[43m        \u001b[49m\u001b[43murl\u001b[49m\u001b[38;5;241;43m=\u001b[39;49m\u001b[43murl\u001b[49m\u001b[43m,\u001b[49m\n\u001b[1;32m    670\u001b[0m \u001b[43m        \u001b[49m\u001b[43mbody\u001b[49m\u001b[38;5;241;43m=\u001b[39;49m\u001b[43mrequest\u001b[49m\u001b[38;5;241;43m.\u001b[39;49m\u001b[43mbody\u001b[49m\u001b[43m,\u001b[49m\n\u001b[1;32m    671\u001b[0m \u001b[43m        \u001b[49m\u001b[43mheaders\u001b[49m\u001b[38;5;241;43m=\u001b[39;49m\u001b[43mrequest\u001b[49m\u001b[38;5;241;43m.\u001b[39;49m\u001b[43mheaders\u001b[49m\u001b[43m,\u001b[49m\n\u001b[1;32m    672\u001b[0m \u001b[43m        \u001b[49m\u001b[43mredirect\u001b[49m\u001b[38;5;241;43m=\u001b[39;49m\u001b[38;5;28;43;01mFalse\u001b[39;49;00m\u001b[43m,\u001b[49m\n\u001b[1;32m    673\u001b[0m \u001b[43m        \u001b[49m\u001b[43massert_same_host\u001b[49m\u001b[38;5;241;43m=\u001b[39;49m\u001b[38;5;28;43;01mFalse\u001b[39;49;00m\u001b[43m,\u001b[49m\n\u001b[1;32m    674\u001b[0m \u001b[43m        \u001b[49m\u001b[43mpreload_content\u001b[49m\u001b[38;5;241;43m=\u001b[39;49m\u001b[38;5;28;43;01mFalse\u001b[39;49;00m\u001b[43m,\u001b[49m\n\u001b[1;32m    675\u001b[0m \u001b[43m        \u001b[49m\u001b[43mdecode_content\u001b[49m\u001b[38;5;241;43m=\u001b[39;49m\u001b[38;5;28;43;01mFalse\u001b[39;49;00m\u001b[43m,\u001b[49m\n\u001b[1;32m    676\u001b[0m \u001b[43m        \u001b[49m\u001b[43mretries\u001b[49m\u001b[38;5;241;43m=\u001b[39;49m\u001b[38;5;28;43mself\u001b[39;49m\u001b[38;5;241;43m.\u001b[39;49m\u001b[43mmax_retries\u001b[49m\u001b[43m,\u001b[49m\n\u001b[1;32m    677\u001b[0m \u001b[43m        \u001b[49m\u001b[43mtimeout\u001b[49m\u001b[38;5;241;43m=\u001b[39;49m\u001b[43mtimeout\u001b[49m\u001b[43m,\u001b[49m\n\u001b[1;32m    678\u001b[0m \u001b[43m        \u001b[49m\u001b[43mchunked\u001b[49m\u001b[38;5;241;43m=\u001b[39;49m\u001b[43mchunked\u001b[49m\u001b[43m,\u001b[49m\n\u001b[1;32m    679\u001b[0m \u001b[43m    \u001b[49m\u001b[43m)\u001b[49m\n\u001b[1;32m    681\u001b[0m \u001b[38;5;28;01mexcept\u001b[39;00m (ProtocolError, \u001b[38;5;167;01mOSError\u001b[39;00m) \u001b[38;5;28;01mas\u001b[39;00m err:\n",
      "File \u001b[0;32m/opt/anaconda3/envs/CDBootcamp/lib/python3.10/site-packages/urllib3/connectionpool.py:841\u001b[0m, in \u001b[0;36mHTTPConnectionPool.urlopen\u001b[0;34m(self, method, url, body, headers, retries, redirect, assert_same_host, timeout, pool_timeout, release_conn, chunked, body_pos, preload_content, decode_content, **response_kw)\u001b[0m\n\u001b[1;32m    839\u001b[0m     new_e \u001b[38;5;241m=\u001b[39m ProtocolError(\u001b[38;5;124m\"\u001b[39m\u001b[38;5;124mConnection aborted.\u001b[39m\u001b[38;5;124m\"\u001b[39m, new_e)\n\u001b[0;32m--> 841\u001b[0m retries \u001b[38;5;241m=\u001b[39m \u001b[43mretries\u001b[49m\u001b[38;5;241;43m.\u001b[39;49m\u001b[43mincrement\u001b[49m\u001b[43m(\u001b[49m\n\u001b[1;32m    842\u001b[0m \u001b[43m    \u001b[49m\u001b[43mmethod\u001b[49m\u001b[43m,\u001b[49m\u001b[43m \u001b[49m\u001b[43murl\u001b[49m\u001b[43m,\u001b[49m\u001b[43m \u001b[49m\u001b[43merror\u001b[49m\u001b[38;5;241;43m=\u001b[39;49m\u001b[43mnew_e\u001b[49m\u001b[43m,\u001b[49m\u001b[43m \u001b[49m\u001b[43m_pool\u001b[49m\u001b[38;5;241;43m=\u001b[39;49m\u001b[38;5;28;43mself\u001b[39;49m\u001b[43m,\u001b[49m\u001b[43m \u001b[49m\u001b[43m_stacktrace\u001b[49m\u001b[38;5;241;43m=\u001b[39;49m\u001b[43msys\u001b[49m\u001b[38;5;241;43m.\u001b[39;49m\u001b[43mexc_info\u001b[49m\u001b[43m(\u001b[49m\u001b[43m)\u001b[49m\u001b[43m[\u001b[49m\u001b[38;5;241;43m2\u001b[39;49m\u001b[43m]\u001b[49m\n\u001b[1;32m    843\u001b[0m \u001b[43m\u001b[49m\u001b[43m)\u001b[49m\n\u001b[1;32m    844\u001b[0m retries\u001b[38;5;241m.\u001b[39msleep()\n",
      "File \u001b[0;32m/opt/anaconda3/envs/CDBootcamp/lib/python3.10/site-packages/urllib3/util/retry.py:474\u001b[0m, in \u001b[0;36mRetry.increment\u001b[0;34m(self, method, url, response, error, _pool, _stacktrace)\u001b[0m\n\u001b[1;32m    473\u001b[0m \u001b[38;5;28;01mif\u001b[39;00m read \u001b[38;5;129;01mis\u001b[39;00m \u001b[38;5;28;01mFalse\u001b[39;00m \u001b[38;5;129;01mor\u001b[39;00m method \u001b[38;5;129;01mis\u001b[39;00m \u001b[38;5;28;01mNone\u001b[39;00m \u001b[38;5;129;01mor\u001b[39;00m \u001b[38;5;129;01mnot\u001b[39;00m \u001b[38;5;28mself\u001b[39m\u001b[38;5;241m.\u001b[39m_is_method_retryable(method):\n\u001b[0;32m--> 474\u001b[0m     \u001b[38;5;28;01mraise\u001b[39;00m \u001b[43mreraise\u001b[49m\u001b[43m(\u001b[49m\u001b[38;5;28;43mtype\u001b[39;49m\u001b[43m(\u001b[49m\u001b[43merror\u001b[49m\u001b[43m)\u001b[49m\u001b[43m,\u001b[49m\u001b[43m \u001b[49m\u001b[43merror\u001b[49m\u001b[43m,\u001b[49m\u001b[43m \u001b[49m\u001b[43m_stacktrace\u001b[49m\u001b[43m)\u001b[49m\n\u001b[1;32m    475\u001b[0m \u001b[38;5;28;01melif\u001b[39;00m read \u001b[38;5;129;01mis\u001b[39;00m \u001b[38;5;129;01mnot\u001b[39;00m \u001b[38;5;28;01mNone\u001b[39;00m:\n",
      "File \u001b[0;32m/opt/anaconda3/envs/CDBootcamp/lib/python3.10/site-packages/urllib3/util/util.py:39\u001b[0m, in \u001b[0;36mreraise\u001b[0;34m(tp, value, tb)\u001b[0m\n\u001b[1;32m     38\u001b[0m         \u001b[38;5;28;01mraise\u001b[39;00m value\u001b[38;5;241m.\u001b[39mwith_traceback(tb)\n\u001b[0;32m---> 39\u001b[0m     \u001b[38;5;28;01mraise\u001b[39;00m value\n\u001b[1;32m     40\u001b[0m \u001b[38;5;28;01mfinally\u001b[39;00m:\n",
      "File \u001b[0;32m/opt/anaconda3/envs/CDBootcamp/lib/python3.10/site-packages/urllib3/connectionpool.py:787\u001b[0m, in \u001b[0;36mHTTPConnectionPool.urlopen\u001b[0;34m(self, method, url, body, headers, retries, redirect, assert_same_host, timeout, pool_timeout, release_conn, chunked, body_pos, preload_content, decode_content, **response_kw)\u001b[0m\n\u001b[1;32m    786\u001b[0m \u001b[38;5;66;03m# Make the request on the HTTPConnection object\u001b[39;00m\n\u001b[0;32m--> 787\u001b[0m response \u001b[38;5;241m=\u001b[39m \u001b[38;5;28;43mself\u001b[39;49m\u001b[38;5;241;43m.\u001b[39;49m\u001b[43m_make_request\u001b[49m\u001b[43m(\u001b[49m\n\u001b[1;32m    788\u001b[0m \u001b[43m    \u001b[49m\u001b[43mconn\u001b[49m\u001b[43m,\u001b[49m\n\u001b[1;32m    789\u001b[0m \u001b[43m    \u001b[49m\u001b[43mmethod\u001b[49m\u001b[43m,\u001b[49m\n\u001b[1;32m    790\u001b[0m \u001b[43m    \u001b[49m\u001b[43murl\u001b[49m\u001b[43m,\u001b[49m\n\u001b[1;32m    791\u001b[0m \u001b[43m    \u001b[49m\u001b[43mtimeout\u001b[49m\u001b[38;5;241;43m=\u001b[39;49m\u001b[43mtimeout_obj\u001b[49m\u001b[43m,\u001b[49m\n\u001b[1;32m    792\u001b[0m \u001b[43m    \u001b[49m\u001b[43mbody\u001b[49m\u001b[38;5;241;43m=\u001b[39;49m\u001b[43mbody\u001b[49m\u001b[43m,\u001b[49m\n\u001b[1;32m    793\u001b[0m \u001b[43m    \u001b[49m\u001b[43mheaders\u001b[49m\u001b[38;5;241;43m=\u001b[39;49m\u001b[43mheaders\u001b[49m\u001b[43m,\u001b[49m\n\u001b[1;32m    794\u001b[0m \u001b[43m    \u001b[49m\u001b[43mchunked\u001b[49m\u001b[38;5;241;43m=\u001b[39;49m\u001b[43mchunked\u001b[49m\u001b[43m,\u001b[49m\n\u001b[1;32m    795\u001b[0m \u001b[43m    \u001b[49m\u001b[43mretries\u001b[49m\u001b[38;5;241;43m=\u001b[39;49m\u001b[43mretries\u001b[49m\u001b[43m,\u001b[49m\n\u001b[1;32m    796\u001b[0m \u001b[43m    \u001b[49m\u001b[43mresponse_conn\u001b[49m\u001b[38;5;241;43m=\u001b[39;49m\u001b[43mresponse_conn\u001b[49m\u001b[43m,\u001b[49m\n\u001b[1;32m    797\u001b[0m \u001b[43m    \u001b[49m\u001b[43mpreload_content\u001b[49m\u001b[38;5;241;43m=\u001b[39;49m\u001b[43mpreload_content\u001b[49m\u001b[43m,\u001b[49m\n\u001b[1;32m    798\u001b[0m \u001b[43m    \u001b[49m\u001b[43mdecode_content\u001b[49m\u001b[38;5;241;43m=\u001b[39;49m\u001b[43mdecode_content\u001b[49m\u001b[43m,\u001b[49m\n\u001b[1;32m    799\u001b[0m \u001b[43m    \u001b[49m\u001b[38;5;241;43m*\u001b[39;49m\u001b[38;5;241;43m*\u001b[39;49m\u001b[43mresponse_kw\u001b[49m\u001b[43m,\u001b[49m\n\u001b[1;32m    800\u001b[0m \u001b[43m\u001b[49m\u001b[43m)\u001b[49m\n\u001b[1;32m    802\u001b[0m \u001b[38;5;66;03m# Everything went great!\u001b[39;00m\n",
      "File \u001b[0;32m/opt/anaconda3/envs/CDBootcamp/lib/python3.10/site-packages/urllib3/connectionpool.py:488\u001b[0m, in \u001b[0;36mHTTPConnectionPool._make_request\u001b[0;34m(self, conn, method, url, body, headers, retries, timeout, chunked, response_conn, preload_content, decode_content, enforce_content_length)\u001b[0m\n\u001b[1;32m    487\u001b[0m         new_e \u001b[38;5;241m=\u001b[39m _wrap_proxy_error(new_e, conn\u001b[38;5;241m.\u001b[39mproxy\u001b[38;5;241m.\u001b[39mscheme)\n\u001b[0;32m--> 488\u001b[0m     \u001b[38;5;28;01mraise\u001b[39;00m new_e\n\u001b[1;32m    490\u001b[0m \u001b[38;5;66;03m# conn.request() calls http.client.*.request, not the method in\u001b[39;00m\n\u001b[1;32m    491\u001b[0m \u001b[38;5;66;03m# urllib3.request. It also calls makefile (recv) on the socket.\u001b[39;00m\n",
      "File \u001b[0;32m/opt/anaconda3/envs/CDBootcamp/lib/python3.10/site-packages/urllib3/connectionpool.py:466\u001b[0m, in \u001b[0;36mHTTPConnectionPool._make_request\u001b[0;34m(self, conn, method, url, body, headers, retries, timeout, chunked, response_conn, preload_content, decode_content, enforce_content_length)\u001b[0m\n\u001b[1;32m    465\u001b[0m \u001b[38;5;28;01mexcept\u001b[39;00m (SocketTimeout, BaseSSLError) \u001b[38;5;28;01mas\u001b[39;00m e:\n\u001b[0;32m--> 466\u001b[0m     \u001b[38;5;28;43mself\u001b[39;49m\u001b[38;5;241;43m.\u001b[39;49m\u001b[43m_raise_timeout\u001b[49m\u001b[43m(\u001b[49m\u001b[43merr\u001b[49m\u001b[38;5;241;43m=\u001b[39;49m\u001b[43me\u001b[49m\u001b[43m,\u001b[49m\u001b[43m \u001b[49m\u001b[43murl\u001b[49m\u001b[38;5;241;43m=\u001b[39;49m\u001b[43murl\u001b[49m\u001b[43m,\u001b[49m\u001b[43m \u001b[49m\u001b[43mtimeout_value\u001b[49m\u001b[38;5;241;43m=\u001b[39;49m\u001b[43mconn\u001b[49m\u001b[38;5;241;43m.\u001b[39;49m\u001b[43mtimeout\u001b[49m\u001b[43m)\u001b[49m\n\u001b[1;32m    467\u001b[0m     \u001b[38;5;28;01mraise\u001b[39;00m\n",
      "File \u001b[0;32m/opt/anaconda3/envs/CDBootcamp/lib/python3.10/site-packages/urllib3/connectionpool.py:367\u001b[0m, in \u001b[0;36mHTTPConnectionPool._raise_timeout\u001b[0;34m(self, err, url, timeout_value)\u001b[0m\n\u001b[1;32m    366\u001b[0m \u001b[38;5;28;01mif\u001b[39;00m \u001b[38;5;28misinstance\u001b[39m(err, SocketTimeout):\n\u001b[0;32m--> 367\u001b[0m     \u001b[38;5;28;01mraise\u001b[39;00m ReadTimeoutError(\n\u001b[1;32m    368\u001b[0m         \u001b[38;5;28mself\u001b[39m, url, \u001b[38;5;124mf\u001b[39m\u001b[38;5;124m\"\u001b[39m\u001b[38;5;124mRead timed out. (read timeout=\u001b[39m\u001b[38;5;132;01m{\u001b[39;00mtimeout_value\u001b[38;5;132;01m}\u001b[39;00m\u001b[38;5;124m)\u001b[39m\u001b[38;5;124m\"\u001b[39m\n\u001b[1;32m    369\u001b[0m     ) \u001b[38;5;28;01mfrom\u001b[39;00m\u001b[38;5;250m \u001b[39m\u001b[38;5;21;01merr\u001b[39;00m\n\u001b[1;32m    371\u001b[0m \u001b[38;5;66;03m# See the above comment about EAGAIN in Python 3.\u001b[39;00m\n",
      "\u001b[0;31mReadTimeoutError\u001b[0m: HTTPSConnectionPool(host='www.jobs.ch', port=443): Read timed out. (read timeout=2)",
      "\nDuring handling of the above exception, another exception occurred:\n",
      "\u001b[0;31mReadTimeout\u001b[0m                               Traceback (most recent call last)",
      "Cell \u001b[0;32mIn[7], line 1\u001b[0m\n\u001b[0;32m----> 1\u001b[0m page \u001b[38;5;241m=\u001b[39m \u001b[43mrequests\u001b[49m\u001b[38;5;241;43m.\u001b[39;49m\u001b[43mget\u001b[49m\u001b[43m(\u001b[49m\u001b[38;5;124;43mr\u001b[39;49m\u001b[38;5;124;43m\"\u001b[39;49m\u001b[38;5;124;43mhttps://www.jobs.ch/en/vacancies/?term=python\u001b[39;49m\u001b[38;5;132;43;01m%20d\u001b[39;49;00m\u001b[38;5;124;43meveloper\u001b[39;49m\u001b[38;5;124;43m\"\u001b[39;49m\u001b[43m,\u001b[49m\u001b[43m \u001b[49m\u001b[43mtimeout\u001b[49m\u001b[38;5;241;43m=\u001b[39;49m\u001b[38;5;241;43m2\u001b[39;49m\u001b[43m)\u001b[49m\n\u001b[1;32m      2\u001b[0m \u001b[38;5;28mprint\u001b[39m(page)\n\u001b[1;32m      3\u001b[0m \u001b[38;5;28mprint\u001b[39m(page\u001b[38;5;241m.\u001b[39mstatus_code)\n",
      "File \u001b[0;32m/opt/anaconda3/envs/CDBootcamp/lib/python3.10/site-packages/requests/api.py:73\u001b[0m, in \u001b[0;36mget\u001b[0;34m(url, params, **kwargs)\u001b[0m\n\u001b[1;32m     62\u001b[0m \u001b[38;5;28;01mdef\u001b[39;00m\u001b[38;5;250m \u001b[39m\u001b[38;5;21mget\u001b[39m(url, params\u001b[38;5;241m=\u001b[39m\u001b[38;5;28;01mNone\u001b[39;00m, \u001b[38;5;241m*\u001b[39m\u001b[38;5;241m*\u001b[39mkwargs):\n\u001b[1;32m     63\u001b[0m \u001b[38;5;250m    \u001b[39m\u001b[38;5;124mr\u001b[39m\u001b[38;5;124;03m\"\"\"Sends a GET request.\u001b[39;00m\n\u001b[1;32m     64\u001b[0m \n\u001b[1;32m     65\u001b[0m \u001b[38;5;124;03m    :param url: URL for the new :class:`Request` object.\u001b[39;00m\n\u001b[0;32m   (...)\u001b[0m\n\u001b[1;32m     70\u001b[0m \u001b[38;5;124;03m    :rtype: requests.Response\u001b[39;00m\n\u001b[1;32m     71\u001b[0m \u001b[38;5;124;03m    \"\"\"\u001b[39;00m\n\u001b[0;32m---> 73\u001b[0m     \u001b[38;5;28;01mreturn\u001b[39;00m \u001b[43mrequest\u001b[49m\u001b[43m(\u001b[49m\u001b[38;5;124;43m\"\u001b[39;49m\u001b[38;5;124;43mget\u001b[39;49m\u001b[38;5;124;43m\"\u001b[39;49m\u001b[43m,\u001b[49m\u001b[43m \u001b[49m\u001b[43murl\u001b[49m\u001b[43m,\u001b[49m\u001b[43m \u001b[49m\u001b[43mparams\u001b[49m\u001b[38;5;241;43m=\u001b[39;49m\u001b[43mparams\u001b[49m\u001b[43m,\u001b[49m\u001b[43m \u001b[49m\u001b[38;5;241;43m*\u001b[39;49m\u001b[38;5;241;43m*\u001b[39;49m\u001b[43mkwargs\u001b[49m\u001b[43m)\u001b[49m\n",
      "File \u001b[0;32m/opt/anaconda3/envs/CDBootcamp/lib/python3.10/site-packages/requests/api.py:59\u001b[0m, in \u001b[0;36mrequest\u001b[0;34m(method, url, **kwargs)\u001b[0m\n\u001b[1;32m     55\u001b[0m \u001b[38;5;66;03m# By using the 'with' statement we are sure the session is closed, thus we\u001b[39;00m\n\u001b[1;32m     56\u001b[0m \u001b[38;5;66;03m# avoid leaving sockets open which can trigger a ResourceWarning in some\u001b[39;00m\n\u001b[1;32m     57\u001b[0m \u001b[38;5;66;03m# cases, and look like a memory leak in others.\u001b[39;00m\n\u001b[1;32m     58\u001b[0m \u001b[38;5;28;01mwith\u001b[39;00m sessions\u001b[38;5;241m.\u001b[39mSession() \u001b[38;5;28;01mas\u001b[39;00m session:\n\u001b[0;32m---> 59\u001b[0m     \u001b[38;5;28;01mreturn\u001b[39;00m \u001b[43msession\u001b[49m\u001b[38;5;241;43m.\u001b[39;49m\u001b[43mrequest\u001b[49m\u001b[43m(\u001b[49m\u001b[43mmethod\u001b[49m\u001b[38;5;241;43m=\u001b[39;49m\u001b[43mmethod\u001b[49m\u001b[43m,\u001b[49m\u001b[43m \u001b[49m\u001b[43murl\u001b[49m\u001b[38;5;241;43m=\u001b[39;49m\u001b[43murl\u001b[49m\u001b[43m,\u001b[49m\u001b[43m \u001b[49m\u001b[38;5;241;43m*\u001b[39;49m\u001b[38;5;241;43m*\u001b[39;49m\u001b[43mkwargs\u001b[49m\u001b[43m)\u001b[49m\n",
      "File \u001b[0;32m/opt/anaconda3/envs/CDBootcamp/lib/python3.10/site-packages/requests/sessions.py:589\u001b[0m, in \u001b[0;36mSession.request\u001b[0;34m(self, method, url, params, data, headers, cookies, files, auth, timeout, allow_redirects, proxies, hooks, stream, verify, cert, json)\u001b[0m\n\u001b[1;32m    584\u001b[0m send_kwargs \u001b[38;5;241m=\u001b[39m {\n\u001b[1;32m    585\u001b[0m     \u001b[38;5;124m\"\u001b[39m\u001b[38;5;124mtimeout\u001b[39m\u001b[38;5;124m\"\u001b[39m: timeout,\n\u001b[1;32m    586\u001b[0m     \u001b[38;5;124m\"\u001b[39m\u001b[38;5;124mallow_redirects\u001b[39m\u001b[38;5;124m\"\u001b[39m: allow_redirects,\n\u001b[1;32m    587\u001b[0m }\n\u001b[1;32m    588\u001b[0m send_kwargs\u001b[38;5;241m.\u001b[39mupdate(settings)\n\u001b[0;32m--> 589\u001b[0m resp \u001b[38;5;241m=\u001b[39m \u001b[38;5;28;43mself\u001b[39;49m\u001b[38;5;241;43m.\u001b[39;49m\u001b[43msend\u001b[49m\u001b[43m(\u001b[49m\u001b[43mprep\u001b[49m\u001b[43m,\u001b[49m\u001b[43m \u001b[49m\u001b[38;5;241;43m*\u001b[39;49m\u001b[38;5;241;43m*\u001b[39;49m\u001b[43msend_kwargs\u001b[49m\u001b[43m)\u001b[49m\n\u001b[1;32m    591\u001b[0m \u001b[38;5;28;01mreturn\u001b[39;00m resp\n",
      "File \u001b[0;32m/opt/anaconda3/envs/CDBootcamp/lib/python3.10/site-packages/requests/sessions.py:703\u001b[0m, in \u001b[0;36mSession.send\u001b[0;34m(self, request, **kwargs)\u001b[0m\n\u001b[1;32m    700\u001b[0m start \u001b[38;5;241m=\u001b[39m preferred_clock()\n\u001b[1;32m    702\u001b[0m \u001b[38;5;66;03m# Send the request\u001b[39;00m\n\u001b[0;32m--> 703\u001b[0m r \u001b[38;5;241m=\u001b[39m \u001b[43madapter\u001b[49m\u001b[38;5;241;43m.\u001b[39;49m\u001b[43msend\u001b[49m\u001b[43m(\u001b[49m\u001b[43mrequest\u001b[49m\u001b[43m,\u001b[49m\u001b[43m \u001b[49m\u001b[38;5;241;43m*\u001b[39;49m\u001b[38;5;241;43m*\u001b[39;49m\u001b[43mkwargs\u001b[49m\u001b[43m)\u001b[49m\n\u001b[1;32m    705\u001b[0m \u001b[38;5;66;03m# Total elapsed time of the request (approximately)\u001b[39;00m\n\u001b[1;32m    706\u001b[0m elapsed \u001b[38;5;241m=\u001b[39m preferred_clock() \u001b[38;5;241m-\u001b[39m start\n",
      "File \u001b[0;32m/opt/anaconda3/envs/CDBootcamp/lib/python3.10/site-packages/requests/adapters.py:713\u001b[0m, in \u001b[0;36mHTTPAdapter.send\u001b[0;34m(self, request, stream, timeout, verify, cert, proxies)\u001b[0m\n\u001b[1;32m    711\u001b[0m     \u001b[38;5;28;01mraise\u001b[39;00m SSLError(e, request\u001b[38;5;241m=\u001b[39mrequest)\n\u001b[1;32m    712\u001b[0m \u001b[38;5;28;01melif\u001b[39;00m \u001b[38;5;28misinstance\u001b[39m(e, ReadTimeoutError):\n\u001b[0;32m--> 713\u001b[0m     \u001b[38;5;28;01mraise\u001b[39;00m ReadTimeout(e, request\u001b[38;5;241m=\u001b[39mrequest)\n\u001b[1;32m    714\u001b[0m \u001b[38;5;28;01melif\u001b[39;00m \u001b[38;5;28misinstance\u001b[39m(e, _InvalidHeader):\n\u001b[1;32m    715\u001b[0m     \u001b[38;5;28;01mraise\u001b[39;00m InvalidHeader(e, request\u001b[38;5;241m=\u001b[39mrequest)\n",
      "\u001b[0;31mReadTimeout\u001b[0m: HTTPSConnectionPool(host='www.jobs.ch', port=443): Read timed out. (read timeout=2)"
     ]
    }
   ],
   "source": [
    "page = requests.get(r\"https://www.jobs.ch/en/vacancies/?term=python%20developer\", timeout=2)\n",
    "print(page)\n",
    "print(page.status_code)\n",
    "print(page.content[:1000])"
   ]
  },
  {
   "cell_type": "markdown",
   "metadata": {
    "id": "QRzEE5I4OGPt"
   },
   "source": [
    "As you can see, finding elements within `page.content` is difficult. That is where BeautifulSoup will assist us."
   ]
  },
  {
   "cell_type": "markdown",
   "metadata": {
    "id": "Ib-W_DF-OGPt"
   },
   "source": [
    "## 4. BeautifulSoup\n",
    "\n",
    "BeautifulSoup is a html and xml parser. It means that it analyses the contents of a html or xml document and provides methods the access specific elements of the document. In this section, we will parse `page.content` using BeautifulSoup and create a pandas dataframe that contains:\n",
    "\n",
    "- job title\n",
    "- posting date\n",
    "- company\n",
    "- location\n",
    "- link to job add"
   ]
  },
  {
   "cell_type": "markdown",
   "metadata": {
    "id": "VBQH9zpnOGPu"
   },
   "source": [
    "### Import libraries and parse the page content"
   ]
  },
  {
   "cell_type": "code",
   "execution_count": 69,
   "metadata": {
    "id": "-TOfFGQFOGPu"
   },
   "outputs": [],
   "source": [
    "from bs4 import BeautifulSoup\n",
    "import pandas as pd"
   ]
  },
  {
   "cell_type": "code",
   "execution_count": 70,
   "metadata": {
    "colab": {
     "base_uri": "https://localhost:8080/"
    },
    "executionInfo": {
     "elapsed": 1112,
     "status": "ok",
     "timestamp": 1724851988235,
     "user": {
      "displayName": "Adriano Persegani",
      "userId": "17739764701888244413"
     },
     "user_tz": -120
    },
    "id": "nQuik6v9OGPu",
    "outputId": "c3528979-bb96-4fe1-b8d3-a83f77e111f5"
   },
   "outputs": [
    {
     "name": "stdout",
     "output_type": "stream",
     "text": [
      "200\n"
     ]
    },
    {
     "data": {
      "text/plain": [
       "b'<!doctype html>\\n<html  lang=\"en\">\\n  <head>\\n    <meta charset=\"utf-8\">\\n    <meta name=\"viewport\" content=\"width=device-width, initial-scale=1.0\" />\\n\\n    <!-- No cache for index.html -->\\n    \\n    <meta http-equiv=\"Pragma\" content=\"no-cache\" />\\n    <meta http-equiv=\"cache-control\" content=\"no-cache, must-revalidate\" />\\n    \\n\\n    <title>206 Data scientist jobs - jobs.ch</title>\\n\\n    <!-- Preconnects : only first party origin and used everywhere! -->\\n\\n    \\n\\n    \\n    <link rel=\"preconnect\" href=\"//c.jobs.ch\" />\\n    \\n\\n    <!-- Fonts -->\\n    \\n      <link as=\"font\" type=\"font/woff2\" href=\"/public/fonts/03d2aa5e66b427f22f38.woff2\" fetchpriority=\"high\" crossorigin />\\n    \\n      <link as=\"font\" type=\"font/woff2\" href=\"/public/fonts/1f8b60e7a2f4cbdb085a.woff2\" fetchpriority=\"high\" crossorigin />\\n    \\n      <link as=\"font\" type=\"font/woff2\" href=\"/public/fonts/fd84e3051ac1afa72e7a.woff2\" fetchpriority=\"high\" crossorigin />\\n    \\n\\n    \\n      <!-- Synchronous JS -->\\n      <!-- Sentry local -->\\n      <script src=\"/public/lib/sentry_bundle_prod_7.66.0.min.js\" crossorigin=\"anonymous\"></script>\\n      \\n\\n    <!-- CSS: put always after sync JS! to prevent CSS blocking JS execution -->\\n\\n    <!-- 1. Normalizer.css, 2. Global Styles  -->\\n    \\n      <link href=\"/public/styles/shell.5f5971d5.css\" rel=\"stylesheet\" fetchpriority=\"high\" />\\n    \\n\\n    <!-- Favicons, Facebook OpenGraph, manifests, \\xe2\\x80\\x98SEO\\xe2\\x80\\x99 meta tags -->\\n    \\n    <link rel=\"alternate\" hreflang=\"de\" href=\"https://www.jobs.ch/de/stellenangebote/?term=data%20scientist\" />\\n    \\n    <link rel=\"alternate\" hreflang=\"fr\" href=\"https://www.jobs.ch/fr/offres-emplois/?term=data%20scientist\" />\\n    \\n    <link rel=\"alternate\" hreflang=\"en\" href=\"https://www.jobs.ch/en/vacancies/?term=data%20scientist\" />\\n    \\n    <link rel=\"alternate\" hreflang=\"x-default\" href=\"https://www.jobs.ch/de/stellenangebote/?term=data%20scientist\" />\\n    \\n\\n    <meta name=\"description\" content=\"Apply now for Data scientist jobs! We have everything for your next job.\" />\\n    <meta name=\"robots\" content=\"index, follow\" />\\n\\n    <!-- Favicons. Minimalist approach -->\\n    <link rel=\"icon\" href=\"/public/favicon/favicon.ico?v=2281\"><!-- 48\\xc3\\x9748 -->\\n    <link rel=\"icon\" type=\"image/svg+xml\" href=\"/public/favicon/icon.svg?v=2281\">\\n    <link rel=\"apple-touch-icon\" href=\"/public/favicon/apple-touch-icon.png?v=2281\"><!-- 180\\xc3\\x97180 -->\\n    <link rel=\"manifest\" href=\"/public/favicon/manifest.json?v=2281\" fetchpriority=\"low\">\\n\\n    \\n    \\n    <link data-seo=\"meta-link\" href=\"/en/vacancies/?page=2&amp;term=data%20scientist\" rel=\"next\" />\\n    \\n    \\n\\n    \\n    \\n    <script type=\"application/ld+json\">[{\"@context\":\"http://schema.org/\",\"@type\":\"BreadcrumbList\",\"itemListElement\":[{\"@type\":\"ListItem\",\"position\":1,\"item\":{\"@id\":\"https://www.jobs.ch/en/vacancies/\",\"name\":\"Job%20Offers\"}},{\"@type\":\"ListItem\",\"position\":2,\"item\":{\"name\":\"data%20scientist\"}}]}]</script>\\n    \\n    \\n\\n      <script>window.dataLayer = window.dataLayer || [];</script>\\n\\n    <!-- address bar color in chrome mobile -->\\n    <meta name=\"theme-color\" content=\"#f5f5f5\">\\n    <!-- disable to prevent safari-DOM-manipulations that break react -->\\n    <meta name=\"format-detection\" content=\"telephone=no\">\\n    <meta property=\"og:title\" content=\"\" />\\n    <meta property=\"og:type\" content=\"website\" />\\n    <meta property=\"og:url\" content=\"\" />\\n    <meta property=\"og:description\" content=\"\" />\\n    <meta property=\"og:image\" content=\"https://media.jobs.ch/media/b068cead-ded3-4d98-ac66-d0962d05d7f8\" />\\n    <meta property=\"og:image:width\" content=\"124\" />\\n    <meta property=\"og:image:height\" content=\"44\" />\\n    <link rel=\"canonical\" href=\"https://www.jobs.ch/en/vacancies/?term=data%20scientist\" />\\n  </head>\\n\\n  <body>\\n    <!-- Asynchronous JS -->\\n    \\n    <!-- Tealium Universal Data Object -->\\n    <script type=\"text/javascript\" fetchpriority=\"low\">\\n      var utag_data = {};\\n      window.utag_cfg_ovrd = { secure_cookie: true };\\n    </script>\\n    <!-- Tealium Universal Tag -->\\n    <script type=\"text/javascript\" fetchpriority=\"low\">\\n      (function(a,b,c,d) {\\n        a=\\'//c.jobs.ch/u/jobcloud/jobs.ch/prod/u.js\\';\\n        b=document;c=\\'script\\';d=b.createElement(c);d.src=a;\\n        d.type=\\'text/java\\'+c;d.defer=true;\\n        a=b.getElementsByTagName(c)[0];a.parentNode.insertBefore(d,a)})();\\n    </script>\\n    \\n\\n    <!-- global-conf will be replaced by a js config object -->\\n    <script>\\n      __GLOBAL__ = {\"COOKIE_SECURE\":true,\"ENV\":\"prod\",\"INTERNAL_LINK_GEN_PROTOCOL\":\"https\",\"JOBCLOUD_HOST\":\"www.jobcloud.ch\",\"PROTOCOL\":\"https\",\"RELEASE\":\"23.74.2\",\"SENTRY_DSN\":\"https://0a006695b9724da380146d45dc995cde@sentry.io/166054\",\"SENTRY_FILE_NAME\":\"sentry_bundle_prod_7.66.0\",\"SENTRY_PUBLIC_KEY\":\"0a006695b9724da380146d45dc995cde\",\"VACANCY_COMPANY_PUBLISHED_ON\":[\"SEARCH\",\"SEARCH_COMPANY_PROFILE\"],\"VIMEO_THUMBNAIL_URL\":\"https://i.vimeocdn.com/video/\",\"VIMEO_URL\":\"https://player.vimeo.com/video/{ID}\",\"YOUTUBE_THUMBNAIL_URL\":\"https://img.youtube.com/vi/\",\"YOUTUBE_URL\":\"https://www.youtube.com/embed/{ID}\",\"APIS\":{\"AI_PROXY\":\"https://ai-proxy-api.jobs.ch/\",\"APPLICATION_SERVICE\":\"https://application-service-api.jobs.ch/\",\"COMPANY_API\":\"https://b2c-company-api.jobcloud.services/api/v1/\",\"CONTACT_API\":\"https://contact-api.jobs.ch/\",\"CONTENT_INJECTION_API\":\"https://b2c-seo-content-injection.jobcloud.services/\",\"CONTENT_PAGE_API\":\"https://b2c-seo-content-page-api.jobcloud.services/api/v1/\",\"DATA_TRACKING_API\":\"https://data-tracking-api-gtw-prod.jobcloud.services/\",\"DATA_TRACKING_API_V2\":\"https://b2c-tracking-api.jobcloud.services/\",\"INFO_LINK_API\":\"https://termsuggester.jobcloud.services/prod/seo-suggest/\",\"JOB_FIT\":\"https://api.prod.jobfit.jobcloud.services\",\"JOB_SEARCH_API\":\"https://job-search-api.jobs.ch\",\"JOB_TRANSLATION_API\":\"https://b2c-job-translation-api.jobcloud.services\",\"MEDIA_API_HOST\":\"https://media.jobs.ch/\",\"METADATA_API\":\"https://metadata-api.jobs.ch/api/v1/meta/\",\"NOTIFICATION_API\":\"https://user-notification-api.jobs.ch/\",\"PLATFORM\":{\"CLIENT\":\"https://www.jobs.ch/api/v1/\",\"SERVER\":\"https://jobs-backend.prod.private.jobcloud.services/api/v1/\"},\"REVIEW_API\":\"https://review-api.jobs.ch/api/v1/\",\"RICO_API\":\"https://job-recommender-api.jobs.ch/\",\"SALARY_API\":\"https://b2c-salary-api.jobcloud.services/\",\"SFMC_API\":\"https://sfmc-api.jobs.ch/\",\"SURVEY_API\":\"https://survey-api.jobs.ch/\",\"USER_ACTION_API\":\"https://user-action-api.jobs.ch/\",\"WEBINAR_API\":\"https://webinar-api.jobs.ch/\"},\"CLARITY_ID\":\"i2s2d36dy7\",\"CONSULTANT_LOGO_RESOURCE\":\"https://img.jobs.ch/www/img/beraterPortraits/\",\"COOKIE_DOMAIN\":\".jobs.ch\",\"DEFAULT_SEARCH_RESULTS\":20,\"EXTERNAL_ROUTES\":{\"ABOUT_CAREER\":{\"en\":\"https://careers.jobcloud.ch/en/\",\"fr\":\"https://careers.jobcloud.ch/fr/\",\"de\":\"https://careers.jobcloud.ch/de/\"},\"ABOUT_PRODUCTS\":{\"en\":\"https://www.jobcloud.ch/c/en/\",\"fr\":\"https://www.jobcloud.ch/c/fr-ch/\",\"de\":\"https://www.jobcloud.ch/c/de-ch/\"},\"ABOUT_TEAM\":{\"en\":\"https://careers.jobcloud.ch/en/departments/\",\"fr\":\"https://careers.jobcloud.ch/fr/domaines/\",\"de\":\"https://careers.jobcloud.ch/de/berufsfelder/\"},\"ADVISER_OVERVIEW\":{\"en\":\"https://www.jobs.ch/en/tipps/\",\"fr\":\"https://www.jobs.ch/fr/tipps/\",\"de\":\"https://www.jobs.ch/de/tipps/\"},\"APPLE_APPSTORE\":{\"en\":\"https://apps.apple.com/us/app/jobs-ch-jobsuche/id391497378\",\"fr\":\"https://apps.apple.com/fr/app/jobs-ch-jobsuche/id391497378\",\"de\":\"https://apps.apple.com/ch/app/jobs-ch-jobsuche/id391497378\"},\"B2B_AREA\":{\"en\":\"https://b2b.jobs.ch/en-recruiter-publish-job-ad\",\"fr\":\"https://b2b.jobs.ch/fr-recruteurs-postuler-emploi\",\"de\":\"https://b2b.jobs.ch/de-arbeitgeber-stelle-job-inserieren\"},\"COOKIE_NOTICE\":{\"en\":\"https://www.jobcloud.ch/c/en/privacy-policy/#cookie-notice\",\"fr\":\"https://www.jobcloud.ch/c/fr-ch/protection-des-donnees/#avis-cookies\",\"de\":\"https://www.jobcloud.ch/c/de-ch/datenschutzerklarung/#cookie-hinweis\"},\"COOP_INTL\":{\"en\":\"https://www.jobcloud.ch/c/en/products/international-recruitment/\",\"fr\":\"https://www.jobcloud.ch/c/fr-ch/produits/recrutement-international/\",\"de\":\"https://www.jobcloud.ch/c/de-ch/produkte/internationale-rekrutierung/\"},\"GOOGLE_PLAYSTORE\":{\"en\":\"https://play.google.com/store/apps/details?id=com.iAgentur.jobsCh\",\"fr\":\"https://play.google.com/store/apps/details?id=com.iAgentur.jobsCh&hl=fr&gl=FR\",\"de\":\"https://play.google.com/store/apps/details?id=com.iAgentur.jobsCh&hl=de&gl=DE\"},\"INFO_PP\":{\"en\":\"https://www.jobcloud.ch/c/en/privacy-policy/\",\"fr\":\"https://www.jobcloud.ch/c/fr-ch/protection-des-donnees/\",\"de\":\"https://www.jobcloud.ch/c/de-ch/datenschutzerklarung/\"},\"INFO_PP_OLD\":{\"en\":\"https://www.jobcloud.ch/c/en/privacy-policy/old\",\"fr\":\"https://www.jobcloud.ch/c/fr-ch/protection-des-donnees/ancien\",\"de\":\"https://www.jobcloud.ch/c/de-ch/datenschutzerklarung/alt\"},\"INFO_PP_SPOTTED\":{\"en\":\"https://www.jobcloud.ch/c/en/privacy-notice-spotted/\",\"fr\":\"https://www.jobcloud.ch/c/fr-ch/protection-des-donnees-spotted/\",\"de\":\"https://www.jobcloud.ch/c/de-ch/datenschutzerklaerung-spotted/\"},\"INFO_TERMS\":{\"en\":\"https://www.jobcloud.ch/c/en/terms/\",\"fr\":\"https://www.jobcloud.ch/c/fr-ch/conditions-generales/\",\"de\":\"https://www.jobcloud.ch/c/de-ch/agb/\"},\"INFO_TERMS_DR\":{\"en\":\"https://www.jobcloud.ch/c/en/terms/#use-of-services\",\"fr\":\"https://www.jobcloud.ch/c/fr-ch/conditions-generales/#use-of-services\",\"de\":\"https://www.jobcloud.ch/c/de-ch/agb/#use-of-services\"},\"INFO_TERMS_OLD\":{\"en\":\"https://www.jobcloud.ch/c/en/general-terms-and-conditions/old\",\"fr\":\"https://www.jobcloud.ch/c/fr-ch/conditions-generales/ancien\",\"de\":\"https://www.jobcloud.ch/c/de-ch/allgemeine-geschaftsbedingungen/alt\"},\"INFO_TERMS_SPOTTED\":{\"en\":\"https://www.jobcloud.ch/c/en/terms-spotted/\",\"fr\":\"https://www.jobcloud.ch/c/fr-ch/conditions-d-utilisation-spotted/\",\"de\":\"https://www.jobcloud.ch/c/de-ch/nutzungsbedingungen-spotted/\"},\"JOB_COACH_ACADEMY\":{\"en\":\"https://www.jobs.ch/en/job-coach/academy/\",\"fr\":\"https://www.jobs.ch/fr/job-coach/academy/\",\"de\":\"https://www.jobs.ch/de/job-coach/academy/\"},\"JOB_COACH_ADVISER\":{\"en\":\"https://www.jobs.ch/en/job-coach/ratgeber-checklisten/\",\"fr\":\"https://www.jobs.ch/fr'"
      ]
     },
     "execution_count": 70,
     "metadata": {},
     "output_type": "execute_result"
    }
   ],
   "source": [
    "headers = {\n",
    "    \"User-Agent\": \"Mozilla/5.0 (Windows NT 10.0; Win64; x64) AppleWebKit/537.36 (KHTML, like Gecko) Chrome/109.0.0.0 Safari/537.36\"\n",
    "}\n",
    "url = \"https://www.jobs.ch/en/vacancies/?term=data%20scientist\"\n",
    "page = requests.get(url, headers=headers, timeout=2)\n",
    "print(page.status_code)\n",
    "page.content[:10000]"
   ]
  },
  {
   "cell_type": "code",
   "execution_count": 71,
   "metadata": {
    "id": "yDwVBWkqOGPu"
   },
   "outputs": [],
   "source": [
    "soup = BeautifulSoup(page.content, \"html.parser\") # converts the page content into a beautifulsoup object"
   ]
  },
  {
   "cell_type": "code",
   "execution_count": 11,
   "metadata": {
    "colab": {
     "base_uri": "https://localhost:8080/",
     "height": 186
    },
    "executionInfo": {
     "elapsed": 4,
     "status": "ok",
     "timestamp": 1724843460465,
     "user": {
      "displayName": "Adriano Persegani",
      "userId": "17739764701888244413"
     },
     "user_tz": -120
    },
    "id": "vuq5x5OvOGPv",
    "outputId": "d6a60706-231d-4349-ef36-11c8f2872d41"
   },
   "outputs": [
    {
     "data": {
      "text/plain": [
       "bs4.BeautifulSoup"
      ]
     },
     "execution_count": 11,
     "metadata": {},
     "output_type": "execute_result"
    }
   ],
   "source": [
    "type(soup)"
   ]
  },
  {
   "cell_type": "markdown",
   "metadata": {
    "id": "d2KcIYeqOGPv"
   },
   "source": [
    "We now have a BeautifoulSoup object that contains all the content of the original webpage in a format that is much easier to access. For example you can extract all the text content of the page by typing:"
   ]
  },
  {
   "cell_type": "code",
   "execution_count": 72,
   "metadata": {
    "colab": {
     "base_uri": "https://localhost:8080/",
     "height": 313
    },
    "executionInfo": {
     "elapsed": 261,
     "status": "ok",
     "timestamp": 1724843694882,
     "user": {
      "displayName": "Adriano Persegani",
      "userId": "17739764701888244413"
     },
     "user_tz": -120
    },
    "id": "wYtbBtPPOGPv",
    "outputId": "a23d93d4-7037-4807-d4cb-5efe9338396c"
   },
   "outputs": [
    {
     "data": {
      "text/plain": [
       "\"\\n\\n\\n\\n\\n\\n\\n\\n206 Data scientist jobs - jobs.ch\\n\\n\\n\\n\\n\\n\\n\\n\\n\\n\\n\\n\\n\\n\\n\\n\\n\\n\\n\\n\\n\\n\\n\\n\\n\\n\\n\\n\\n\\n\\n\\n\\n\\n\\n\\n\\n\\n\\n\\n\\n\\n\\n\\n\\n\\n\\n\\n\\n\\n\\n\\n\\n\\nSkip to contentjobs.ch Navigation logoFind a jobSkip to contentExplore companiesCompare salariesRecruiter AreaHire now for free DeutschFrançaisEnglishLoginFind a jobSkip to contentExplore companiesCompare salariesRecruiter AreaHire now for free My accountLoginDon't have an account yet?Sign upSelect LanguageDeutschFrançaisEnglishSearchSmart SearchBetaFind better matchesFind better matchesJob title or keywordsdata scientistCity or regionChoose a regionSearchAll filtersPublished sinceWorkloadOccupational fieldContract typeLanguagePositionAll filters206 Data scientist job offersRelevanceNewestRelevance2 weeks agoData ScientistPlace of work:LausanneWorkload:80 – 100%Contract type:Unlimited employment SamanTree Medical (Switzerland) SAEasy applyLast weekPrincipal Machine Learning Engineer\\x0cPlace of work:BernWorkload:100%Contract type:Unlimited employment machineMD AGLast weekHead of Data Engineering (f/m/d) | 80-100% | Hybrid working model | Zurich, SwitzerlandPlace of work:ZürichWorkload:80 – 100%Contract type:Unlimited employment SMG Swiss Marketplace GroupAre you paid fairly?Add your salary anonymously to uncover your earnings potential.Add salary2 days agoSpezialist Ereignisanalyse und Erfahrungsauswertung 80% - 100% (alle)Place of work:Kernkraftwerk Gösgen-Däniken AGWorkload:100%Contract type:Unlimited employment Kernkraftwerk Gösgen-Däniken13 hours agoML / Data Science Specialist (80-100%)Place of work:BernWorkload:80 – 100%Contract type:Unlimited employmentDV BernLast weekWorking student in Business Intelligence/ Data analytics (f/m/d)Place of work:GümlingenWorkload:40 – 50%Contract type:Unlimited employment Schneider Electric (Schweiz) AG5 days ago(Senior) Data Science & Data Analytics Consultant 60-100%Place of work:Zürich, Lausanne, BernWorkload:60 – 100%Contract type:Unlimited employment Eraneos Switzerland AG4 days agoStatistische*r Datanalyst*in (60% bis 100%)Place of work:BernWorkload:60 – 100%Contract type:Unlimited employment SwissDRG AGEasy apply3 weeks agoAnalyste de données pour le controlling des achatsPlace of work:Berne et travail à domicileWorkload:80 – 100%Contract type:Unlimited employment Office fédéral constructions et logistique OFCLLast monthData Analyst (Focus Online-Shops)Place of work:MägenwilWorkload:80 – 100%Contract type:Unlimited employment Brack.Alltron AG3 weeks agoDatenanalyst/-in Polizeiliche Lage 100%Place of work:BernWorkload:100%Contract type:Unlimited employment Kantonspolizei BernLast week(Senior) Data Analyst Marketing (m/f/d)Place of work:ZürichWorkload:80 – 100%Contract type:Unlimited employment Digitec Galaxus AG3 weeks agoDatenanalyst/-in BeschaffungscontrollingPlace of work:BernaWorkload:80 – 100%Contract type:Unlimited employment Bundesamt für Bauten und Logistik BBL3 days agoResponsable des données de comptage à 100%Place of work:NyonWorkload:100%Contract type:Unlimited employmentVille de Nyon2 days agoData Scientist Asset Finance & Information (alle)Place of work:OstermundigenWorkload:80 – 100%Contract type:Unlimited employment BKW Energie AGLast monthProduct Development Intern (f/m/d)Place of work:BadenWorkload:100%Contract type:Temporary Axpo Group4 weeks agoBAUINGENIEUR*IN – TECHNISCHE*R LEITER*IN - BERNPlace of work:BernWorkload:80 – 100%Contract type:Unlimited employment VSL (Schweiz) AGEasy apply5 hours agoFull Stack Software Engineer - Java 80-100%Place of work:ZollikofenWorkload:80 – 100%Contract type:Unlimited employment Xovis AGNew3 days agoAnalytical Cloud Software Engineer (all genders)Place of work:WinterthurWorkload:80 – 100%Contract type:Unlimited employment AXAYesterdayData Engineer (m/f/d) - 100%Place of work:ZugWorkload:5%Contract type:Unlimited employment ITech Consult AGEasy applyNewCurrent page1Page 22Page 33Page 44Page 11... 11NextJump to active search results listJob Ad DetailsYou also find this job inBaselLausanneZürichBernStartJob Offersdata scientistPopular featuresFind a jobLatest job adsSearch by companyJoin our teamFor employersAbout jobs.chPost a jobResourcesCompare salariesSupportGeneral Terms and ConditionsData privacy noticeCookie noticeCookie settingsLegal noticejobs.ch Navigation logoSitemapContact© 2025 JobCloud AGDeutschFrançaisEnglish\\n\\n\\n\\n\\n\\n\\n\""
      ]
     },
     "execution_count": 72,
     "metadata": {},
     "output_type": "execute_result"
    }
   ],
   "source": [
    "soup.get_text()[:5000]  # check a bit to make sure one is on the correct webpage"
   ]
  },
  {
   "cell_type": "markdown",
   "metadata": {
    "id": "OlNTWIHxOGPv"
   },
   "source": [
    "You can find the first element that has tag `<a>...</a>` by typing:"
   ]
  },
  {
   "cell_type": "code",
   "execution_count": 73,
   "metadata": {
    "colab": {
     "base_uri": "https://localhost:8080/"
    },
    "executionInfo": {
     "elapsed": 256,
     "status": "ok",
     "timestamp": 1724843468043,
     "user": {
      "displayName": "Adriano Persegani",
      "userId": "17739764701888244413"
     },
     "user_tz": -120
    },
    "id": "aNftu070OGPw",
    "outputId": "78362a62-942f-4683-8d7d-488d08235e61"
   },
   "outputs": [
    {
     "data": {
      "text/plain": [
       "<a class=\"cursor_pointer trs-dur_d125 trs-prop_color trs-tmf_ease-out td_none hover:td_underline c_colorPalette.base hover:c_colorPalette.hover visited:c_colorPalette.visited color-palette_link.brand mr_s16\" data-cy=\"header-logo\" href=\"/en/\" title=\"Home\"><span class=\"ac_center d_inline-block lh_0 va_middle c_white h_[24px] w_[107px]\"><span class=\"pos_absolute w_1px h_1px p_s0 ov_hidden clip_rect(0,_0,_0,_0) white-space_nowrap cp-path_inset(50%) bd_0\">jobs.ch Navigation logo</span><svg aria-hidden=\"true\" fill=\"currentColor\" focusable=\"false\" viewbox=\"0 0 120 24\"><path d=\"m11.8,10.69l-7.8,-4.64c-2.2,-1.21 -4,-0.202 -4,2.42v9.277c0,2.52 1.8,3.63 4,2.32l7.9,-4.64c2.1,-1.31 2.1,-3.427 -0.1,-4.737\"></path><path d=\"m35.9,5.647c-7.6,0 -8.5,1.815 -8.5,7.462s1,7.36 8.5,7.36s8.5,-1.816 8.5,-7.36c0,-5.65 -1,-7.464 -8.5,-7.464m0,12.202c-3.9,0 -4.2,-0.808 -4.2,-4.74s0.3,-4.84 4.2,-4.84s4.2,0.908 4.2,4.84c0,3.83 -0.3,4.74 -4.2,4.74m21,-12.203c-2.2,0 -4.5,0.303 -5.4,2.118h-0.2v-7.156c0,-0.303 -0.3,-0.606 -0.60001,-0.606h-3.1c-0.3,0 -0.6,0.303 -0.6,0.605v19.16c0,0.303 0.3,0.605 0.6,0.605h3.4c0.1,0 0.2,-0.1 0.2,-0.202l-0.1,-0.807v-1.21h0.1c1.10001,1.918 3.10001,2.32 5.7,2.32c6.7,0 6.9,-3.43 6.9,-7.865c0,-4.234 -0.7,-6.957 -6.9,-6.957m-1.3,12.201c-4.4,0 -4.3,-1.715 -4.3,-5.144c0,-3.126 0.6,-4.336 4.3,-4.336c3,0 3.9,0.706 3.9,4.336c0,3.227 0.1,5.143 -3.9,5.144m19,-6.356c-3.8,-0.1 -4.3,-0.202 -4.3,-1.613c0,-1.916 1.6,-1.916 3.89999,-1.916c2.10001,0 3.2,0 3.4,1.31c0,0.304 0.3,0.505 0.6,0.505h3.10001c0.29999,0 0.59999,-0.302 0.59999,-0.604v-0.202c-0.5,-3.328 -4.39999,-3.328 -7.7,-3.328c-4.7,0 -8.2,0.1 -8.2,4.034c0,3.732 1.2,4.438 7.9,4.54c4.4,0.1 4.5,0.705 4.5,1.915c0,2.017 -1.5,1.916 -4.1,1.916c-2.9,0 -3.7,-0.2 -3.9,-1.813c0,-0.303 -0.3,-0.605 -0.6,-0.605h-3.2c-0.3,0 -0.6,0.304 -0.6,0.606v0.202c0.3,4.034 3.5,4.034 8.2,4.034c4.60001,0 8.39999,-0.403 8.39999,-4.336c0.10001,-4.64 -3.69999,-4.44 -7.99999,-4.64m-50,-11.297h-3.2c-0.3,0 -0.6,0.303 -0.6,0.605v1.916c0,0.303 0.3,0.605 0.6,0.605h3.2c0.3,0 0.6,-0.303 0.6,-0.605v-1.916c0,-0.303 -0.3,-0.605 -0.6,-0.605m0,5.647h-3.2c-0.3,0 -0.6,0.3 -0.6,0.603v13.31c0,1.01 -0.2,1.715 -1.9,1.715h-0.1c-0.10001,0 -0.2,0.1 -0.2,0.2v2.023c0,0.1 0.1,0.202 0.2,0.202c0.5,0.1 1,0.1 1.5,0.1c4,0 4.89999,-1.916 4.89999,-4.74v-12.807c0,-0.404 -0.29999,-0.605 -0.6,-0.606m95.4,12.001v-7.16c0.10001,-4.035 -2.2,-5.043 -6.8,-5.043c-2.09999,0 -4.7,0.202 -5.59999,1.916h-0.10001v-6.958c0,-0.303 -0.3,-0.605 -0.60001,-0.605h-1.29999c-0.3,0 -0.60001,0.303 -0.60001,0.605v19.06c0,0.303 0.3,0.605 0.60001,0.605h1.29999c0.3,0 0.60001,-0.304 0.60001,-0.606v-7.866c0,-3.328 1.2,-4.437 5.60001,-4.437c3.09999,0 4.29999,0.405 4.29999,3.128v9.276c0,0.303 0.3,0.605 0.60001,0.605h1.3c0.3,0 0.59999,-0.305 0.59999,-0.607l0.10001,-1.915m-33.60001,-0.505h-1.7c-0.3,0 -0.59999,0.303 -0.59999,0.605v1.815c0,0.303 0.29999,0.605 0.59999,0.605h1.7c0.3,0 0.60001,-0.303 0.60001,-0.605v-1.813c0,-0.303 -0.3,-0.605 -0.60001,-0.605m9,-11.698c-6.5,0 -7.60001,2.32 -7.60001,6.958v0.808c0,4.64 1.10001,6.958 7.60001,6.958c4.39999,0 7.60001,-0.402 7.60001,-4.537v-0.202c0,-0.302 -0.3,-0.604 -0.60001,-0.604h-1.29999c-0.30002,0 -0.60001,0.303 -0.60001,0.605v0.303c0,2.622 -2,2.723 -4.89999,2.723c-4.70001,0 -5.10001,-1.31 -5.20001,-5.647c0,-4.338 0.5,-5.65 5.20001,-5.65c2.89999,0 4.89999,0.1 4.89999,2.724v0.303c0,0.304 0.29999,0.606 0.60001,0.606h1.29999c0.3,0 0.60001,-0.303 0.60001,-0.605v-0.202c0,-4.136 -3.20001,-4.54 -7.60001,-4.54\"></path></svg></span></a>"
      ]
     },
     "execution_count": 73,
     "metadata": {},
     "output_type": "execute_result"
    }
   ],
   "source": [
    "soup.find('a') # navigate to the page and find an HTML element"
   ]
  },
  {
   "cell_type": "code",
   "execution_count": 14,
   "metadata": {
    "colab": {
     "base_uri": "https://localhost:8080/",
     "height": 35
    },
    "executionInfo": {
     "elapsed": 288,
     "status": "ok",
     "timestamp": 1724843470772,
     "user": {
      "displayName": "Adriano Persegani",
      "userId": "17739764701888244413"
     },
     "user_tz": -120
    },
    "id": "DmAAkaEGOGPw",
    "outputId": "759289c2-d6b1-4477-b2c1-09882fe64ab4"
   },
   "outputs": [
    {
     "data": {
      "text/plain": [
       "'jobs.ch Navigation logo'"
      ]
     },
     "execution_count": 14,
     "metadata": {},
     "output_type": "execute_result"
    }
   ],
   "source": [
    "soup.find('a').get_text() # content of that element"
   ]
  },
  {
   "cell_type": "markdown",
   "metadata": {
    "id": "kQl8scDkOGPw"
   },
   "source": [
    "And you can find all elements that have tags `<a>...</a>` by typing:"
   ]
  },
  {
   "cell_type": "code",
   "execution_count": 15,
   "metadata": {
    "colab": {
     "base_uri": "https://localhost:8080/"
    },
    "executionInfo": {
     "elapsed": 397,
     "status": "ok",
     "timestamp": 1724843479012,
     "user": {
      "displayName": "Adriano Persegani",
      "userId": "17739764701888244413"
     },
     "user_tz": -120
    },
    "id": "SuyquhXxOGPw",
    "outputId": "4f4572cd-9214-4abb-9c47-7ab40cdac584"
   },
   "outputs": [
    {
     "data": {
      "text/plain": [
       "[<a class=\"cursor_pointer trs-dur_d125 trs-prop_color trs-tmf_ease-out td_none hover:td_underline c_colorPalette.base hover:c_colorPalette.hover visited:c_colorPalette.visited color-palette_link.brand mr_s16\" data-cy=\"header-logo\" href=\"/en/\" title=\"Home\"><span class=\"ac_center d_inline-block lh_0 va_middle c_white h_[24px] w_[107px]\"><span class=\"pos_absolute w_1px h_1px p_s0 ov_hidden clip_rect(0,_0,_0,_0) white-space_nowrap cp-path_inset(50%) bd_0\">jobs.ch Navigation logo</span><svg aria-hidden=\"true\" fill=\"currentColor\" focusable=\"false\" viewbox=\"0 0 120 24\"><path d=\"m11.8,10.69l-7.8,-4.64c-2.2,-1.21 -4,-0.202 -4,2.42v9.277c0,2.52 1.8,3.63 4,2.32l7.9,-4.64c2.1,-1.31 2.1,-3.427 -0.1,-4.737\"></path><path d=\"m35.9,5.647c-7.6,0 -8.5,1.815 -8.5,7.462s1,7.36 8.5,7.36s8.5,-1.816 8.5,-7.36c0,-5.65 -1,-7.464 -8.5,-7.464m0,12.202c-3.9,0 -4.2,-0.808 -4.2,-4.74s0.3,-4.84 4.2,-4.84s4.2,0.908 4.2,4.84c0,3.83 -0.3,4.74 -4.2,4.74m21,-12.203c-2.2,0 -4.5,0.303 -5.4,2.118h-0.2v-7.156c0,-0.303 -0.3,-0.606 -0.60001,-0.606h-3.1c-0.3,0 -0.6,0.303 -0.6,0.605v19.16c0,0.303 0.3,0.605 0.6,0.605h3.4c0.1,0 0.2,-0.1 0.2,-0.202l-0.1,-0.807v-1.21h0.1c1.10001,1.918 3.10001,2.32 5.7,2.32c6.7,0 6.9,-3.43 6.9,-7.865c0,-4.234 -0.7,-6.957 -6.9,-6.957m-1.3,12.201c-4.4,0 -4.3,-1.715 -4.3,-5.144c0,-3.126 0.6,-4.336 4.3,-4.336c3,0 3.9,0.706 3.9,4.336c0,3.227 0.1,5.143 -3.9,5.144m19,-6.356c-3.8,-0.1 -4.3,-0.202 -4.3,-1.613c0,-1.916 1.6,-1.916 3.89999,-1.916c2.10001,0 3.2,0 3.4,1.31c0,0.304 0.3,0.505 0.6,0.505h3.10001c0.29999,0 0.59999,-0.302 0.59999,-0.604v-0.202c-0.5,-3.328 -4.39999,-3.328 -7.7,-3.328c-4.7,0 -8.2,0.1 -8.2,4.034c0,3.732 1.2,4.438 7.9,4.54c4.4,0.1 4.5,0.705 4.5,1.915c0,2.017 -1.5,1.916 -4.1,1.916c-2.9,0 -3.7,-0.2 -3.9,-1.813c0,-0.303 -0.3,-0.605 -0.6,-0.605h-3.2c-0.3,0 -0.6,0.304 -0.6,0.606v0.202c0.3,4.034 3.5,4.034 8.2,4.034c4.60001,0 8.39999,-0.403 8.39999,-4.336c0.10001,-4.64 -3.69999,-4.44 -7.99999,-4.64m-50,-11.297h-3.2c-0.3,0 -0.6,0.303 -0.6,0.605v1.916c0,0.303 0.3,0.605 0.6,0.605h3.2c0.3,0 0.6,-0.303 0.6,-0.605v-1.916c0,-0.303 -0.3,-0.605 -0.6,-0.605m0,5.647h-3.2c-0.3,0 -0.6,0.3 -0.6,0.603v13.31c0,1.01 -0.2,1.715 -1.9,1.715h-0.1c-0.10001,0 -0.2,0.1 -0.2,0.2v2.023c0,0.1 0.1,0.202 0.2,0.202c0.5,0.1 1,0.1 1.5,0.1c4,0 4.89999,-1.916 4.89999,-4.74v-12.807c0,-0.404 -0.29999,-0.605 -0.6,-0.606m95.4,12.001v-7.16c0.10001,-4.035 -2.2,-5.043 -6.8,-5.043c-2.09999,0 -4.7,0.202 -5.59999,1.916h-0.10001v-6.958c0,-0.303 -0.3,-0.605 -0.60001,-0.605h-1.29999c-0.3,0 -0.60001,0.303 -0.60001,0.605v19.06c0,0.303 0.3,0.605 0.60001,0.605h1.29999c0.3,0 0.60001,-0.304 0.60001,-0.606v-7.866c0,-3.328 1.2,-4.437 5.60001,-4.437c3.09999,0 4.29999,0.405 4.29999,3.128v9.276c0,0.303 0.3,0.605 0.60001,0.605h1.3c0.3,0 0.59999,-0.305 0.59999,-0.607l0.10001,-1.915m-33.60001,-0.505h-1.7c-0.3,0 -0.59999,0.303 -0.59999,0.605v1.815c0,0.303 0.29999,0.605 0.59999,0.605h1.7c0.3,0 0.60001,-0.303 0.60001,-0.605v-1.813c0,-0.303 -0.3,-0.605 -0.60001,-0.605m9,-11.698c-6.5,0 -7.60001,2.32 -7.60001,6.958v0.808c0,4.64 1.10001,6.958 7.60001,6.958c4.39999,0 7.60001,-0.402 7.60001,-4.537v-0.202c0,-0.302 -0.3,-0.604 -0.60001,-0.604h-1.29999c-0.30002,0 -0.60001,0.303 -0.60001,0.605v0.303c0,2.622 -2,2.723 -4.89999,2.723c-4.70001,0 -5.10001,-1.31 -5.20001,-5.647c0,-4.338 0.5,-5.65 5.20001,-5.65c2.89999,0 4.89999,0.1 4.89999,2.724v0.303c0,0.304 0.29999,0.606 0.60001,0.606h1.29999c0.3,0 0.60001,-0.303 0.60001,-0.605v-0.202c0,-4.136 -3.20001,-4.54 -7.60001,-4.54\"></path></svg></span></a>,\n",
       " <a aria-current=\"page\" class=\"cursor_pointer trs-dur_d125 trs-prop_border-bottom-color,_color trs-tmf_ease-out td_none c_colorPalette.base hover:c_colorPalette.hover visited:c_colorPalette.visited color-palette_link.white bd-b_[3px_solid] bd-b-c_white hover:bd-b-c_white fw_semibold mx_s8 px_s8 py_s12\" data-cy=\"main-nav-link\" href=\"/en/vacancies/?term=\">Find a job</a>,\n",
       " <a class=\"cursor_pointer trs-dur_d125 trs-prop_border-bottom-color,_color trs-tmf_ease-out td_none c_colorPalette.base hover:c_colorPalette.hover visited:c_colorPalette.visited color-palette_link.white bd-b_[3px_solid] bd-b-c_[transparent] hover:bd-b-c_white fw_semibold mx_s8 px_s8 py_s12\" data-cy=\"main-nav-link\" href=\"/en/companies/start/\">Explore companies</a>]"
      ]
     },
     "execution_count": 15,
     "metadata": {},
     "output_type": "execute_result"
    }
   ],
   "source": [
    "soup.find_all('a')[:3]"
   ]
  },
  {
   "cell_type": "code",
   "execution_count": 20,
   "metadata": {
    "colab": {
     "base_uri": "https://localhost:8080/"
    },
    "executionInfo": {
     "elapsed": 261,
     "status": "ok",
     "timestamp": 1724843482314,
     "user": {
      "displayName": "Adriano Persegani",
      "userId": "17739764701888244413"
     },
     "user_tz": -120
    },
    "id": "-fzWWrjeOGPy",
    "outputId": "248f699c-e242-4a53-f546-6ab8f28bcad4"
   },
   "outputs": [
    {
     "data": {
      "text/plain": [
       "<div class=\"c_brand.base avatarCircular avatarCircular--avatarSize_md\" data-clarity-mask=\"true\"><span class=\"icon icon--iconSize_sm\" data-cy=\"icon-user-avatar\"><svg aria-hidden=\"true\" class=\"fill_[currentColor] h_100% w_100%\" focusable=\"false\" viewbox=\"0 0 24 24\"><path d=\"M12 12c-1.1 0-2.042-.392-2.825-1.175C8.392 10.042 8 9.1 8 8s.392-2.042 1.175-2.825C9.958 4.392 10.9 4 12 4s2.042.392 2.825 1.175C15.608 5.958 16 6.9 16 8s-.392 2.042-1.175 2.825C14.042 11.608 13.1 12 12 12zm6 8H6c-.55 0-1.02-.196-1.412-.587A1.927 1.927 0 0 1 4 18v-.8c0-.567.146-1.088.438-1.563A2.914 2.914 0 0 1 5.6 14.55a14.866 14.866 0 0 1 3.15-1.163A13.776 13.776 0 0 1 12 13c1.1 0 2.183.129 3.25.387 1.067.259 2.117.646 3.15 1.163.483.25.87.612 1.162 1.087.292.475.438.996.438 1.563v.8a1.93 1.93 0 0 1-.587 1.413A1.928 1.928 0 0 1 18 20zM6 18h12v-.8a.943.943 0 0 0-.137-.5.977.977 0 0 0-.363-.35 13.03 13.03 0 0 0-2.725-1.013 11.615 11.615 0 0 0-5.55 0A13.03 13.03 0 0 0 6.5 16.35a.97.97 0 0 0-.5.85v.8zm6-8c.55 0 1.021-.196 1.413-.588C13.804 9.021 14 8.55 14 8c0-.55-.196-1.02-.587-1.412A1.927 1.927 0 0 0 12 6c-.55 0-1.02.196-1.412.588A1.923 1.923 0 0 0 10 8c0 .55.196 1.02.588 1.412.391.392.862.588 1.412.588z\"></path></svg></span></div>"
      ]
     },
     "execution_count": 20,
     "metadata": {},
     "output_type": "execute_result"
    }
   ],
   "source": [
    "soup.find_all('div')[16]"
   ]
  },
  {
   "cell_type": "code",
   "execution_count": 19,
   "metadata": {},
   "outputs": [
    {
     "data": {
      "text/plain": [
       "''"
      ]
     },
     "execution_count": 19,
     "metadata": {},
     "output_type": "execute_result"
    }
   ],
   "source": [
    "soup.find_all('div')[16].text"
   ]
  },
  {
   "cell_type": "code",
   "execution_count": 25,
   "metadata": {},
   "outputs": [
    {
     "data": {
      "text/plain": [
       "'5 days ago(Senior) Data Science & Data Analytics Consultant 60-100%Place of work:Zürich, Lausanne, BernWorkload:60 – 100%Contract type:Unlimited employment Eraneos Switzerland AG'"
      ]
     },
     "execution_count": 25,
     "metadata": {},
     "output_type": "execute_result"
    }
   ],
   "source": [
    "soup.find_all('a')[25].text"
   ]
  },
  {
   "cell_type": "markdown",
   "metadata": {
    "id": "r9qpPUbrOGPy"
   },
   "source": [
    "but you can also filter through tags using attributes:"
   ]
  },
  {
   "cell_type": "code",
   "execution_count": 28,
   "metadata": {},
   "outputs": [
    {
     "data": {
      "text/plain": [
       "'jobs.ch Navigation logo'"
      ]
     },
     "execution_count": 28,
     "metadata": {},
     "output_type": "execute_result"
    }
   ],
   "source": [
    "soup.find('a').text # this is to find the first 'a' item"
   ]
  },
  {
   "cell_type": "code",
   "execution_count": 74,
   "metadata": {},
   "outputs": [
    {
     "data": {
      "text/plain": [
       "'2 weeks agoData ScientistPlace of work:LausanneWorkload:80 – 100%Contract type:Unlimited employment SamanTree Medical (Switzerland) SAEasy apply'"
      ]
     },
     "execution_count": 74,
     "metadata": {},
     "output_type": "execute_result"
    }
   ],
   "source": [
    "soup.find('a', {\"data-cy\": \"job-link\"}).text # this is to find the first 'a' item that is related to an attribute, like job link here"
   ]
  },
  {
   "cell_type": "code",
   "execution_count": 32,
   "metadata": {},
   "outputs": [
    {
     "data": {
      "text/plain": [
       "{'data-cy': 'job-link',\n",
       " 'id': 'vacancy-link-9de7145c-d836-4e00-9b5d-d5f68d83d2ab',\n",
       " 'tabindex': '0',\n",
       " 'title': 'Data Scientist',\n",
       " 'class': ['cursor_pointer',\n",
       "  'trs-dur_d125',\n",
       "  'trs-prop_color',\n",
       "  'trs-tmf_ease-out',\n",
       "  'td_none',\n",
       "  'c_colorPalette.base',\n",
       "  'hover:c_colorPalette.hover',\n",
       "  'visited:c_colorPalette.visited',\n",
       "  'color-palette_link.brand',\n",
       "  'd_block',\n",
       "  'wb_break-word',\n",
       "  'h_100%',\n",
       "  'group'],\n",
       " 'href': '/en/vacancies/detail/9de7145c-d836-4e00-9b5d-d5f68d83d2ab/'}"
      ]
     },
     "execution_count": 32,
     "metadata": {},
     "output_type": "execute_result"
    }
   ],
   "source": [
    "soup.find('a', {\"data-cy\": \"job-link\"}).attrs # check out all attributes from a dictionary object"
   ]
  },
  {
   "cell_type": "code",
   "execution_count": 30,
   "metadata": {},
   "outputs": [
    {
     "data": {
      "text/plain": [
       "'/en/vacancies/detail/9de7145c-d836-4e00-9b5d-d5f68d83d2ab/'"
      ]
     },
     "execution_count": 30,
     "metadata": {},
     "output_type": "execute_result"
    }
   ],
   "source": [
    "soup.find('a', {\"data-cy\": \"job-link\"}).get('href') # get something from the a dictionary attribute"
   ]
  },
  {
   "cell_type": "code",
   "execution_count": 41,
   "metadata": {},
   "outputs": [
    {
     "data": {
      "text/plain": [
       "[<a class=\"cursor_pointer trs-dur_d125 trs-prop_color trs-tmf_ease-out td_none c_colorPalette.base hover:c_colorPalette.hover visited:c_colorPalette.visited color-palette_link.brand d_block wb_break-word h_100% group\" data-cy=\"job-link\" href=\"/en/vacancies/detail/9de7145c-d836-4e00-9b5d-d5f68d83d2ab/\" id=\"vacancy-link-9de7145c-d836-4e00-9b5d-d5f68d83d2ab\" tabindex=\"0\" title=\"Data Scientist\"><div class=\"d_flex bg-c_brand.01 bdr_r16 flex-d_column h_100% p_s16 pos_relative\" data-cy=\"vacancy-serp-item-active\"><div class=\"d_flex jc_space-between mb_s12\" data-cy=\"serp-item-9de7145c-d836-4e00-9b5d-d5f68d83d2ab\"><p class=\"mb_s12 lastOfType:mb_s0 textStyle_p2 c_gray.50 max-w_[min-content] white-space_nowrap\">2 weeks ago</p><button aria-label=\"Save job\" aria-pressed=\"false\" class=\"color-palette_button.brand pos_absolute right_s4 top_s4 iconButton iconButton--buttonSize_md iconButton--buttonType_blended notranslate\" data-cy=\"bookmark-icon-unchecked\" id=\"vacancy-bookmark-icon-9de7145c-d836-4e00-9b5d-d5f68d83d2ab\" title=\"Save job\" type=\"button\"><span class=\"icon icon--iconSize_sm\"><svg aria-hidden=\"true\" class=\"fill_[currentColor] h_100% w_100%\" focusable=\"false\" viewbox=\"0 0 24 24\"><path d=\"m12 17.41-4.2 2.9c-.667.283-1.3.23-1.9-.162-.6-.392-.9-.946-.9-1.663V5.51c0-.55.196-1.02.588-1.412A1.926 1.926 0 0 1 7 3.51h10c.55 0 1.02.196 1.413.588.391.391.587.862.587 1.412v12.975c0 .717-.3 1.27-.9 1.663-.6.391-1.233.445-1.9.162l-4.2-2.9Zm0-2.4 5 3.45V5.51H7v12.95l5-3.45Z\"></path></svg></span></button></div><div class=\"mb_s8\"><span class=\"c_gray.90 textStyle_h6 wb_break-word ov_hidden tov_ellipsis d_-webkit-box hy_auto ov-wrap_break-word white-space_normal word-wrap_break-word box-orient_vertical lc_4\">Data Scientist</span></div><div class=\"d_flex c_gray.90 flex-d_column gap_s4\"><div class=\"d_grid ai_start gap_s12 grid-tc_[auto_1fr]\"><span class=\"mt_s4 icon icon--iconSize_xs\"><svg aria-hidden=\"true\" class=\"fill_[currentColor] h_100% w_100%\" focusable=\"false\" viewbox=\"0 0 24 24\"><path d=\"M12 12c.55 0 1.021-.196 1.413-.588.391-.391.587-.862.587-1.412a1.93 1.93 0 0 0-.587-1.413A1.928 1.928 0 0 0 12 8c-.55 0-1.02.196-1.412.587A1.927 1.927 0 0 0 10 10c0 .55.196 1.02.588 1.412.391.392.862.588 1.412.588zm0 7.35c2.033-1.867 3.542-3.563 4.525-5.088C17.508 12.737 18 11.383 18 10.2c0-1.817-.58-3.304-1.738-4.463C15.104 4.579 13.683 4 12 4c-1.683 0-3.104.579-4.263 1.737C6.579 6.896 6 8.383 6 10.2c0 1.183.492 2.537 1.475 4.062.983 1.525 2.492 3.221 4.525 5.088zM12 22c-2.683-2.283-4.687-4.404-6.012-6.363C4.663 13.679 4 11.867 4 10.2c0-2.5.804-4.492 2.413-5.975C8.021 2.742 9.883 2 12 2c2.117 0 3.979.742 5.587 2.225C19.196 5.708 20 7.7 20 10.2c0 1.667-.662 3.479-1.987 5.437-1.325 1.959-3.33 4.08-6.013 6.363z\"></path></svg></span><span class=\"pos_absolute w_1px h_1px p_s0 ov_hidden clip_rect(0,_0,_0,_0) white-space_nowrap cp-path_inset(50%) bd_0\">Place of work<!-- -->:</span><p class=\"mb_s12 lastOfType:mb_s0 textStyle_p2\">Lausanne</p></div><div class=\"d_grid ai_start gap_s12 grid-tc_[auto_1fr]\"><span class=\"mt_s4 icon icon--iconSize_xs\"><svg aria-hidden=\"true\" class=\"fill_[currentColor] h_100% w_100%\" focusable=\"false\" viewbox=\"0 0 24 24\"><path d=\"M14.625 16.025a.918.918 0 0 0 .675.275c.267 0 .5-.1.7-.3a.948.948 0 0 0 .275-.7.948.948 0 0 0-.275-.7l-3-3V7.975a.928.928 0 0 0-.287-.7A.993.993 0 0 0 12 7a.967.967 0 0 0-.712.287A.968.968 0 0 0 11 8v3.975a1.03 1.03 0 0 0 .3.725l3.325 3.325zM12 22a9.733 9.733 0 0 1-3.9-.788 10.092 10.092 0 0 1-3.175-2.137c-.9-.9-1.612-1.958-2.137-3.175A9.733 9.733 0 0 1 2 12a9.74 9.74 0 0 1 .788-3.9 10.092 10.092 0 0 1 2.137-3.175c.9-.9 1.958-1.613 3.175-2.138A9.743 9.743 0 0 1 12 2a9.74 9.74 0 0 1 3.9.787 10.105 10.105 0 0 1 3.175 2.138c.9.9 1.612 1.958 2.137 3.175A9.733 9.733 0 0 1 22 12a9.733 9.733 0 0 1-.788 3.9 10.092 10.092 0 0 1-2.137 3.175c-.9.9-1.958 1.612-3.175 2.137A9.733 9.733 0 0 1 12 22zm0-2c2.217 0 4.104-.779 5.663-2.337C19.221 16.104 20 14.217 20 12s-.779-4.104-2.337-5.663C16.104 4.779 14.217 4 12 4s-4.104.779-5.662 2.337C4.779 7.896 4 9.783 4 12s.78 4.104 2.338 5.663C7.896 19.221 9.783 20 12 20z\"></path></svg></span><span class=\"pos_absolute w_1px h_1px p_s0 ov_hidden clip_rect(0,_0,_0,_0) white-space_nowrap cp-path_inset(50%) bd_0\">Workload<!-- -->:</span><p class=\"mb_s12 lastOfType:mb_s0 textStyle_p2\">80 – 100%</p></div><div class=\"d_grid ai_start gap_s12 grid-tc_[auto_1fr]\"><span class=\"mt_s4 icon icon--iconSize_xs\"><svg aria-hidden=\"true\" class=\"fill_[currentColor] h_100% w_100%\" focusable=\"false\" viewbox=\"0 0 24 24\"><path d=\"M9 18h6a.968.968 0 0 0 .713-.288A.967.967 0 0 0 16 17a.967.967 0 0 0-.287-.712A.968.968 0 0 0 15 16H9a.965.965 0 0 0-.712.288A.965.965 0 0 0 8 17c0 .283.096.52.288.712A.965.965 0 0 0 9 18zm0-4h6a.968.968 0 0 0 .713-.288A.967.967 0 0 0 16 13a.97.97 0 0 0-.287-.713A.97.97 0 0 0 15 12H9a.967.967 0 0 0-.712.287A.968.968 0 0 0 8 13c0 .283.096.52.288.712A.965.965 0 0 0 9 14zm-3 8c-.55 0-1.02-.196-1.412-.587A1.927 1.927 0 0 1 4 20V4c0-.55.196-1.021.588-1.413A1.925 1.925 0 0 1 6 2h8.175a1.978 1.978 0 0 1 1.4.575l3.85 3.85a1.978 1.978 0 0 1 .575 1.4V20c0 .55-.196 1.021-.587 1.413A1.928 1.928 0 0 1 18 22H6zm8-15V4H6v16h12V8h-3a.965.965 0 0 1-.712-.288A.965.965 0 0 1 14 7z\"></path></svg></span><span class=\"pos_absolute w_1px h_1px p_s0 ov_hidden clip_rect(0,_0,_0,_0) white-space_nowrap cp-path_inset(50%) bd_0\">Contract type<!-- -->:</span><p class=\"mb_s12 lastOfType:mb_s0 textStyle_p2\">Unlimited employment</p></div></div><div class=\"d_grid ai_center gap_s12 grid-tc_[auto_1fr] mt_s12\"><div class=\"grid-ce_2 grid-cs_1 op_1 avatarSquare avatarSquare--avatarSize_xs\"><picture style=\"height:100%\"><source srcset=\"https://media.jobs.ch/media/b068cead-ded3-4d98-ac66-d0962d05d7f8?format=png&amp;dimensions=30x0 1x, https://media.jobs.ch/media/b068cead-ded3-4d98-ac66-d0962d05d7f8?format=png&amp;dimensions=60x0 2x\"/><img alt=\"\" class=\"h_100% obj-f_contain pos_relative w_100%\" decoding=\"auto\" loading=\"eager\" src=\"https://media.jobs.ch/media/b068cead-ded3-4d98-ac66-d0962d05d7f8?format=png&amp;dimensions=48x0\"/> </picture></div><p class=\"mb_s12 lastOfType:mb_s0 textStyle_p2 c_gray.90\"><strong>SamanTree Medical (Switzerland) SA</strong></p></div><div class=\"d_inline-flex ai_center flex-wrap_wrap gap_s8 justify-items_start mt_s12\"><span class=\"white-space_nowrap ai_center bd_[1px_solid_transparent] bdr_r16 d_inline-flex lh_1.66 px_s8 bg_gray.10 c_gray.80 fs_f14 fw_regular\" data-cy=\"quick-apply\"><span class=\"icon icon--iconSize_xs\"><svg aria-hidden=\"true\" class=\"fill_[currentColor] h_100% w_100%\" focusable=\"false\" viewbox=\"0 0 24 24\"><path d=\"m10.55 18.2 5.175-6.2h-4l.725-5.675L7.825 13H11.3l-.75 5.2ZM9 15H5.9c-.4 0-.696-.18-.888-.537-.191-.359-.17-.705.063-1.038l7.475-10.75c.167-.233.383-.396.65-.488.267-.091.542-.087.825.013.283.1.492.275.625.525s.183.517.15.8L14 10h3.875c.433 0 .738.192.913.575.174.383.12.742-.163 1.075L10.4 21.5a1.27 1.27 0 0 1-.675.425 1.133 1.133 0 0 1-.775-.075 1.31 1.31 0 0 1-.588-.538 1.232 1.232 0 0 1-.162-.787L9 15Z\"></path></svg></span>Easy apply</span></div></div></a>,\n",
       " <a class=\"cursor_pointer trs-dur_d125 trs-prop_color trs-tmf_ease-out td_none c_colorPalette.base hover:c_colorPalette.hover visited:c_colorPalette.visited color-palette_link.brand d_block wb_break-word h_100% group\" data-cy=\"job-link\" href=\"/en/vacancies/detail/d59c316b-8aa2-46af-80da-e69c5b0429e4/\" id=\"vacancy-link-d59c316b-8aa2-46af-80da-e69c5b0429e4\" tabindex=\"0\" title=\"Principal Machine Learning Engineer\n",
       " \"><div class=\"d_flex bg-c_white bdr_r16 flex-d_column h_100% p_s16 pos_relative\" data-cy=\"vacancy-serp-item\"><div class=\"d_flex jc_space-between mb_s12\" data-cy=\"serp-item-d59c316b-8aa2-46af-80da-e69c5b0429e4\"><p class=\"mb_s12 lastOfType:mb_s0 textStyle_p2 c_gray.50 max-w_[min-content] white-space_nowrap\">Last week</p><button aria-label=\"Save job\" aria-pressed=\"false\" class=\"color-palette_button.brand pos_absolute right_s4 top_s4 iconButton iconButton--buttonSize_md iconButton--buttonType_blended notranslate\" data-cy=\"bookmark-icon-unchecked\" id=\"vacancy-bookmark-icon-d59c316b-8aa2-46af-80da-e69c5b0429e4\" title=\"Save job\" type=\"button\"><span class=\"icon icon--iconSize_sm\"><svg aria-hidden=\"true\" class=\"fill_[currentColor] h_100% w_100%\" focusable=\"false\" viewbox=\"0 0 24 24\"><path d=\"m12 17.41-4.2 2.9c-.667.283-1.3.23-1.9-.162-.6-.392-.9-.946-.9-1.663V5.51c0-.55.196-1.02.588-1.412A1.926 1.926 0 0 1 7 3.51h10c.55 0 1.02.196 1.413.588.391.391.587.862.587 1.412v12.975c0 .717-.3 1.27-.9 1.663-.6.391-1.233.445-1.9.162l-4.2-2.9Zm0-2.4 5 3.45V5.51H7v12.95l5-3.45Z\"></path></svg></span></button></div><div class=\"mb_s8\"><span class=\"textStyle_h6 wb_break-word ov_hidden tov_ellipsis d_-webkit-box hy_auto ov-wrap_break-word white-space_normal word-wrap_break-word box-orient_vertical lc_4\">Principal Machine Learning Engineer\n",
       " </span></div><div class=\"d_flex c_gray.90 flex-d_column gap_s4\"><div class=\"d_grid ai_start gap_s12 grid-tc_[auto_1fr]\"><span class=\"mt_s4 icon icon--iconSize_xs\"><svg aria-hidden=\"true\" class=\"fill_[currentColor] h_100% w_100%\" focusable=\"false\" viewbox=\"0 0 24 24\"><path d=\"M12 12c.55 0 1.021-.196 1.413-.588.391-.391.587-.862.587-1.412a1.93 1.93 0 0 0-.587-1.413A1.928 1.928 0 0 0 12 8c-.55 0-1.02.196-1.412.587A1.927 1.927 0 0 0 10 10c0 .55.196 1.02.588 1.412.391.392.862.588 1.412.588zm0 7.35c2.033-1.867 3.542-3.563 4.525-5.088C17.508 12.737 18 11.383 18 10.2c0-1.817-.58-3.304-1.738-4.463C15.104 4.579 13.683 4 12 4c-1.683 0-3.104.579-4.263 1.737C6.579 6.896 6 8.383 6 10.2c0 1.183.492 2.537 1.475 4.062.983 1.525 2.492 3.221 4.525 5.088zM12 22c-2.683-2.283-4.687-4.404-6.012-6.363C4.663 13.679 4 11.867 4 10.2c0-2.5.804-4.492 2.413-5.975C8.021 2.742 9.883 2 12 2c2.117 0 3.979.742 5.587 2.225C19.196 5.708 20 7.7 20 10.2c0 1.667-.662 3.479-1.987 5.437-1.325 1.959-3.33 4.08-6.013 6.363z\"></path></svg></span><span class=\"pos_absolute w_1px h_1px p_s0 ov_hidden clip_rect(0,_0,_0,_0) white-space_nowrap cp-path_inset(50%) bd_0\">Place of work<!-- -->:</span><p class=\"mb_s12 lastOfType:mb_s0 textStyle_p2\">Bern</p></div><div class=\"d_grid ai_start gap_s12 grid-tc_[auto_1fr]\"><span class=\"mt_s4 icon icon--iconSize_xs\"><svg aria-hidden=\"true\" class=\"fill_[currentColor] h_100% w_100%\" focusable=\"false\" viewbox=\"0 0 24 24\"><path d=\"M14.625 16.025a.918.918 0 0 0 .675.275c.267 0 .5-.1.7-.3a.948.948 0 0 0 .275-.7.948.948 0 0 0-.275-.7l-3-3V7.975a.928.928 0 0 0-.287-.7A.993.993 0 0 0 12 7a.967.967 0 0 0-.712.287A.968.968 0 0 0 11 8v3.975a1.03 1.03 0 0 0 .3.725l3.325 3.325zM12 22a9.733 9.733 0 0 1-3.9-.788 10.092 10.092 0 0 1-3.175-2.137c-.9-.9-1.612-1.958-2.137-3.175A9.733 9.733 0 0 1 2 12a9.74 9.74 0 0 1 .788-3.9 10.092 10.092 0 0 1 2.137-3.175c.9-.9 1.958-1.613 3.175-2.138A9.743 9.743 0 0 1 12 2a9.74 9.74 0 0 1 3.9.787 10.105 10.105 0 0 1 3.175 2.138c.9.9 1.612 1.958 2.137 3.175A9.733 9.733 0 0 1 22 12a9.733 9.733 0 0 1-.788 3.9 10.092 10.092 0 0 1-2.137 3.175c-.9.9-1.958 1.612-3.175 2.137A9.733 9.733 0 0 1 12 22zm0-2c2.217 0 4.104-.779 5.663-2.337C19.221 16.104 20 14.217 20 12s-.779-4.104-2.337-5.663C16.104 4.779 14.217 4 12 4s-4.104.779-5.662 2.337C4.779 7.896 4 9.783 4 12s.78 4.104 2.338 5.663C7.896 19.221 9.783 20 12 20z\"></path></svg></span><span class=\"pos_absolute w_1px h_1px p_s0 ov_hidden clip_rect(0,_0,_0,_0) white-space_nowrap cp-path_inset(50%) bd_0\">Workload<!-- -->:</span><p class=\"mb_s12 lastOfType:mb_s0 textStyle_p2\">100%</p></div><div class=\"d_grid ai_start gap_s12 grid-tc_[auto_1fr]\"><span class=\"mt_s4 icon icon--iconSize_xs\"><svg aria-hidden=\"true\" class=\"fill_[currentColor] h_100% w_100%\" focusable=\"false\" viewbox=\"0 0 24 24\"><path d=\"M9 18h6a.968.968 0 0 0 .713-.288A.967.967 0 0 0 16 17a.967.967 0 0 0-.287-.712A.968.968 0 0 0 15 16H9a.965.965 0 0 0-.712.288A.965.965 0 0 0 8 17c0 .283.096.52.288.712A.965.965 0 0 0 9 18zm0-4h6a.968.968 0 0 0 .713-.288A.967.967 0 0 0 16 13a.97.97 0 0 0-.287-.713A.97.97 0 0 0 15 12H9a.967.967 0 0 0-.712.287A.968.968 0 0 0 8 13c0 .283.096.52.288.712A.965.965 0 0 0 9 14zm-3 8c-.55 0-1.02-.196-1.412-.587A1.927 1.927 0 0 1 4 20V4c0-.55.196-1.021.588-1.413A1.925 1.925 0 0 1 6 2h8.175a1.978 1.978 0 0 1 1.4.575l3.85 3.85a1.978 1.978 0 0 1 .575 1.4V20c0 .55-.196 1.021-.587 1.413A1.928 1.928 0 0 1 18 22H6zm8-15V4H6v16h12V8h-3a.965.965 0 0 1-.712-.288A.965.965 0 0 1 14 7z\"></path></svg></span><span class=\"pos_absolute w_1px h_1px p_s0 ov_hidden clip_rect(0,_0,_0,_0) white-space_nowrap cp-path_inset(50%) bd_0\">Contract type<!-- -->:</span><p class=\"mb_s12 lastOfType:mb_s0 textStyle_p2\">Unlimited employment</p></div></div><div class=\"d_grid ai_center gap_s12 grid-tc_[auto_1fr] mt_s12\"><div class=\"grid-ce_2 grid-cs_1 op_1 avatarSquare avatarSquare--avatarSize_xs\"><picture style=\"height:100%\"><source srcset=\"https://media.jobs.ch/media/0405f80e-03f7-45b7-a40f-6e671751ef0a?format=png&amp;dimensions=30x0 1x, https://media.jobs.ch/media/0405f80e-03f7-45b7-a40f-6e671751ef0a?format=png&amp;dimensions=60x0 2x\"/><img alt=\"\" class=\"h_100% obj-f_contain pos_relative w_100%\" decoding=\"auto\" loading=\"eager\" src=\"https://media.jobs.ch/media/0405f80e-03f7-45b7-a40f-6e671751ef0a?format=png&amp;dimensions=48x0\"/> </picture></div><p class=\"mb_s12 lastOfType:mb_s0 textStyle_p2 c_gray.90\"><strong>machineMD AG</strong></p></div></div></a>]"
      ]
     },
     "execution_count": 41,
     "metadata": {},
     "output_type": "execute_result"
    }
   ],
   "source": [
    "soup.find_all('a', {\"data-cy\": \"job-link\"})[:2]"
   ]
  },
  {
   "cell_type": "code",
   "execution_count": 33,
   "metadata": {
    "colab": {
     "base_uri": "https://localhost:8080/"
    },
    "executionInfo": {
     "elapsed": 328,
     "status": "ok",
     "timestamp": 1724843629768,
     "user": {
      "displayName": "Adriano Persegani",
      "userId": "17739764701888244413"
     },
     "user_tz": -120
    },
    "id": "ZAsXMyelOGPy",
    "outputId": "4a46d324-3ad0-4fb9-f165-5816af4f400f"
   },
   "outputs": [
    {
     "data": {
      "text/plain": [
       "[]"
      ]
     },
     "execution_count": 33,
     "metadata": {},
     "output_type": "execute_result"
    }
   ],
   "source": [
    "soup.find_all('a', {'class': 'A-sc-1q4zv2a-0'})[0:3]"
   ]
  },
  {
   "cell_type": "code",
   "execution_count": 42,
   "metadata": {
    "colab": {
     "base_uri": "https://localhost:8080/",
     "height": 141
    },
    "executionInfo": {
     "elapsed": 257,
     "status": "error",
     "timestamp": 1724843498744,
     "user": {
      "displayName": "Adriano Persegani",
      "userId": "17739764701888244413"
     },
     "user_tz": -120
    },
    "id": "3moOmfizOGPy",
    "outputId": "109a2d5d-82a3-454f-e64f-e99d2a8b7a30"
   },
   "outputs": [
    {
     "ename": "IndexError",
     "evalue": "list index out of range",
     "output_type": "error",
     "traceback": [
      "\u001b[0;31m---------------------------------------------------------------------------\u001b[0m",
      "\u001b[0;31mIndexError\u001b[0m                                Traceback (most recent call last)",
      "Cell \u001b[0;32mIn[42], line 1\u001b[0m\n\u001b[0;32m----> 1\u001b[0m \u001b[43msoup\u001b[49m\u001b[38;5;241;43m.\u001b[39;49m\u001b[43mfind_all\u001b[49m\u001b[43m(\u001b[49m\u001b[38;5;124;43m'\u001b[39;49m\u001b[38;5;124;43ma\u001b[39;49m\u001b[38;5;124;43m'\u001b[39;49m\u001b[43m,\u001b[49m\u001b[43m \u001b[49m\u001b[43m{\u001b[49m\u001b[38;5;124;43m'\u001b[39;49m\u001b[38;5;124;43mclass\u001b[39;49m\u001b[38;5;124;43m'\u001b[39;49m\u001b[43m:\u001b[49m\u001b[43m \u001b[49m\u001b[43m[\u001b[49m\u001b[38;5;124;43m'\u001b[39;49m\u001b[38;5;124;43mA-sc-1q4zv2a-0 gFUeCQ Link-sc-czsz28-2 sc-dcJsrY\u001b[39;49m\u001b[38;5;124;43m'\u001b[39;49m\u001b[43m]\u001b[49m\u001b[43m}\u001b[49m\u001b[43m)\u001b[49m\u001b[43m[\u001b[49m\u001b[38;5;241;43m1\u001b[39;49m\u001b[43m]\u001b[49m\n",
      "\u001b[0;31mIndexError\u001b[0m: list index out of range"
     ]
    }
   ],
   "source": [
    "soup.find_all('a', {'class': ['A-sc-1q4zv2a-0 gFUeCQ Link-sc-czsz28-2 sc-dcJsrY']})[1] # old code; class not updated"
   ]
  },
  {
   "cell_type": "markdown",
   "metadata": {
    "id": "nNr7D1PZOGPy"
   },
   "source": [
    "Yet, when we separate the tags with a comma, it instructs the query to find a tag containing at least one of the given values, not necessarily all of them."
   ]
  },
  {
   "cell_type": "code",
   "execution_count": null,
   "metadata": {
    "colab": {
     "base_uri": "https://localhost:8080/"
    },
    "executionInfo": {
     "elapsed": 224,
     "status": "ok",
     "timestamp": 1715699041630,
     "user": {
      "displayName": "Adriano Persegani",
      "userId": "17739764701888244413"
     },
     "user_tz": -120
    },
    "id": "K4Os0OLzOGPy",
    "outputId": "2177588e-2695-4ffd-8db8-6b506e0aeb93"
   },
   "outputs": [
    {
     "data": {
      "text/plain": [
       "[<a aria-selected=\"false\" class=\"A-sc-1q4zv2a-0 gFUeCQ Link-sc-czsz28-2 sc-dcJsrY bXaQoj dvPTHl LanguageSwitch___StyledContextMenuLinkItem-sc-1biraw8-0 gUbQQF\" data-cy=\"language-menu-item\" href=\"/de/stellenangebote/?term=data%20scientist\"><span class=\"Span-sc-1ybanni-0 ContextMenuItem___StyledSpan2-sc-1d471t4-0 ihATYV yBZno\">Deutsch</span></a>]"
      ]
     },
     "execution_count": 24,
     "metadata": {},
     "output_type": "execute_result"
    }
   ],
   "source": [
    "soup.find_all('a', {'class': ['A-sc-1q4zv2a-0', 'eMGuAx', 'Link-sc-czsz28-2', 'bzpUGN']})[:1]"
   ]
  },
  {
   "cell_type": "markdown",
   "metadata": {
    "id": "OJbpj0zaOGPy"
   },
   "source": [
    "If we are trying to be more specific with our query, we can use the `.select()` method. Selectors provide a way to select and manipulate HTML elements based on their id, class, attributes, and hierarchy in the document."
   ]
  },
  {
   "cell_type": "markdown",
   "metadata": {
    "id": "ypmBDMrkOGPy"
   },
   "source": [
    "In comparison to `.find()`, `.select()` requires that all the values given in the query are a match."
   ]
  },
  {
   "cell_type": "code",
   "execution_count": null,
   "metadata": {
    "colab": {
     "base_uri": "https://localhost:8080/"
    },
    "executionInfo": {
     "elapsed": 208,
     "status": "ok",
     "timestamp": 1715699045580,
     "user": {
      "displayName": "Adriano Persegani",
      "userId": "17739764701888244413"
     },
     "user_tz": -120
    },
    "id": "fG_9PiMgOGPz",
    "outputId": "33ede6a6-2940-4231-bc38-2e796a6f9064"
   },
   "outputs": [
    {
     "data": {
      "text/plain": [
       "[]"
      ]
     },
     "execution_count": 25,
     "metadata": {},
     "output_type": "execute_result"
    }
   ],
   "source": [
    "soup.select('a.A-sc-1q4zv2a-0.eMGuAx.Link-sc-czsz28-2.bzpUGN')[:1]"
   ]
  },
  {
   "cell_type": "markdown",
   "metadata": {
    "id": "smajuitIOGPz"
   },
   "source": [
    "Once you have an element of interest, you can extract data using:"
   ]
  },
  {
   "cell_type": "code",
   "execution_count": null,
   "metadata": {
    "colab": {
     "base_uri": "https://localhost:8080/",
     "height": 141
    },
    "executionInfo": {
     "elapsed": 233,
     "status": "error",
     "timestamp": 1715699047172,
     "user": {
      "displayName": "Adriano Persegani",
      "userId": "17739764701888244413"
     },
     "user_tz": -120
    },
    "id": "CuJ2Wq1gOGPz",
    "outputId": "148cb4cb-8c37-4ee2-db00-b68f822a7aaf"
   },
   "outputs": [
    {
     "ename": "AttributeError",
     "evalue": "'NoneType' object has no attribute 'get_text'",
     "output_type": "error",
     "traceback": [
      "\u001b[0;31m---------------------------------------------------------------------------\u001b[0m",
      "\u001b[0;31mAttributeError\u001b[0m                            Traceback (most recent call last)",
      "\u001b[0;32m<ipython-input-26-fc8dfec55d28>\u001b[0m in \u001b[0;36m<cell line: 1>\u001b[0;34m()\u001b[0m\n\u001b[0;32m----> 1\u001b[0;31m \u001b[0msoup\u001b[0m\u001b[0;34m.\u001b[0m\u001b[0mselect_one\u001b[0m\u001b[0;34m(\u001b[0m\u001b[0;34m'a.A-sc-1q4zv2a-0.eMGuAx.Link-sc-czsz28-2.bzpUGN'\u001b[0m\u001b[0;34m)\u001b[0m\u001b[0;34m.\u001b[0m\u001b[0mget_text\u001b[0m\u001b[0;34m(\u001b[0m\u001b[0;34m)\u001b[0m\u001b[0;34m\u001b[0m\u001b[0;34m\u001b[0m\u001b[0m\n\u001b[0m",
      "\u001b[0;31mAttributeError\u001b[0m: 'NoneType' object has no attribute 'get_text'"
     ]
    }
   ],
   "source": [
    "soup.select_one('a.A-sc-1q4zv2a-0.eMGuAx.Link-sc-czsz28-2.bzpUGN').get_text()"
   ]
  },
  {
   "cell_type": "code",
   "execution_count": null,
   "metadata": {
    "id": "J6ckBoicOGPz",
    "outputId": "ad4b0a31-cfab-4819-e9ec-b69920b37cd3"
   },
   "outputs": [
    {
     "data": {
      "text/plain": [
       "'https://www.mozilla.org/en-US/firefox/new/'"
      ]
     },
     "execution_count": 21,
     "metadata": {},
     "output_type": "execute_result"
    }
   ],
   "source": [
    "soup.select_one('a.A-sc-1q4zv2a-0.eMGuAx.Link-sc-czsz28-2.bzpUGN').get('href')"
   ]
  },
  {
   "cell_type": "markdown",
   "metadata": {
    "id": "omSn-ZeSOGPz"
   },
   "source": [
    "Now that we know how to extract data from a webpage, let's find the relevant html elements for our project. We need to locate them in the original page:"
   ]
  },
  {
   "cell_type": "markdown",
   "metadata": {
    "id": "w5C5I5kNOGPz"
   },
   "source": [
    "### Browse the source code in a web browser\n",
    "\n",
    "The html code inspector is slightly different depending on your web browser. here we use Chrome. With Chrome, we can select the following icon at the top of the code inspector tab:"
   ]
  },
  {
   "cell_type": "markdown",
   "metadata": {
    "id": "9xVeKmShOGPz"
   },
   "source": [
    "![](https://lh3.googleusercontent.com/d/1piq5H0kGqufsgeKQTs5VifXCGwDBVs1e)"
   ]
  },
  {
   "cell_type": "markdown",
   "metadata": {
    "id": "Ll0PPz2aOGPz"
   },
   "source": [
    "This allows us to select any component of the page and find the corresponding element in the html code. Let's do this for the list of jobs:"
   ]
  },
  {
   "cell_type": "markdown",
   "metadata": {
    "id": "yhINXuLkOGP0"
   },
   "source": [
    "![](https://lh3.googleusercontent.com/d/1gpxxDzK0WZR73rLGNVIHkHEqP17X1CN_)"
   ]
  },
  {
   "cell_type": "markdown",
   "metadata": {
    "id": "ngIaVlPIOGP0"
   },
   "source": [
    "After navigating within the html element tree, we observe that each job box is a seperate `div`element and has the `class` attribute `VacancySerpItem__ShadowBox-qr45cp-0`."
   ]
  },
  {
   "cell_type": "markdown",
   "metadata": {
    "id": "kvmJJYNpOGP0"
   },
   "source": [
    "![](https://lh3.googleusercontent.com/d/1p3_xg7cS8Era6dl4dHKsePxAtprMNeYR)"
   ]
  },
  {
   "cell_type": "markdown",
   "metadata": {
    "id": "vzNT6neIOGP0"
   },
   "source": [
    "Note that websites get updated, so the name of the class might be different by the time you follow this tutorial!\n",
    "\n",
    "Here, we can get the html element for a job by typing:"
   ]
  },
  {
   "cell_type": "code",
   "execution_count": null,
   "metadata": {
    "id": "OcsCI2MJOGP0",
    "outputId": "a0fbff37-38d3-48d2-dbc6-69884ed755b0"
   },
   "outputs": [],
   "source": [
    "one_job_ad = soup.find('article', {'class' : 'Div-sc-1cpunnt-0'}) # 'article' may be outdated.\n",
    "one_job_ad"
   ]
  },
  {
   "cell_type": "markdown",
   "metadata": {
    "id": "s-5ZFATUOGP1"
   },
   "source": [
    "To find all of them, we can write:"
   ]
  },
  {
   "cell_type": "code",
   "execution_count": 46,
   "metadata": {
    "id": "SSS7Ir6oOGP1"
   },
   "outputs": [],
   "source": [
    "job_ads = soup.find_all('div', {'data-cy' : 'serp-item'})"
   ]
  },
  {
   "cell_type": "code",
   "execution_count": 47,
   "metadata": {
    "id": "REUQAZ9-OGP1",
    "outputId": "49bb054c-a326-47b2-cc12-ea332a8601bf"
   },
   "outputs": [
    {
     "data": {
      "text/plain": [
       "20"
      ]
     },
     "execution_count": 47,
     "metadata": {},
     "output_type": "execute_result"
    }
   ],
   "source": [
    "len(job_ads)"
   ]
  },
  {
   "cell_type": "markdown",
   "metadata": {
    "id": "9f5aJ5wlOGP1"
   },
   "source": [
    "we obtain a list of 23 job ads! Each component of the list contains the html element describing the job ad:"
   ]
  },
  {
   "cell_type": "code",
   "execution_count": 48,
   "metadata": {
    "id": "fVR_586MOGP1",
    "outputId": "0cbff033-dcd4-4c37-adfa-5d878370e639",
    "scrolled": true
   },
   "outputs": [
    {
     "data": {
      "text/plain": [
       "<div class='after:bdr_r16 after:bx-sh_bs50 after:content_\"\" after:d_block after:h_100% after:isolation_isolate after:left_s0 after:op_0 after:pointer-events_none after:pos_absolute after:top_s0 after:trs-dur_d125 after:trs-prop_opacity after:trs-tmf_ease-out after:w_100% after:will-change_opacity bd_[1px_solid_{colors.brand.60}] hover:after:op_0 active:after:op_0 bdr_r16 h_100% pos_relative' data-cy=\"serp-item\"><a class=\"cursor_pointer trs-dur_d125 trs-prop_color trs-tmf_ease-out td_none c_colorPalette.base hover:c_colorPalette.hover visited:c_colorPalette.visited color-palette_link.brand d_block wb_break-word h_100% group\" data-cy=\"job-link\" href=\"/en/vacancies/detail/9de7145c-d836-4e00-9b5d-d5f68d83d2ab/\" id=\"vacancy-link-9de7145c-d836-4e00-9b5d-d5f68d83d2ab\" tabindex=\"0\" title=\"Data Scientist\"><div class=\"d_flex bg-c_brand.01 bdr_r16 flex-d_column h_100% p_s16 pos_relative\" data-cy=\"vacancy-serp-item-active\"><div class=\"d_flex jc_space-between mb_s12\" data-cy=\"serp-item-9de7145c-d836-4e00-9b5d-d5f68d83d2ab\"><p class=\"mb_s12 lastOfType:mb_s0 textStyle_p2 c_gray.50 max-w_[min-content] white-space_nowrap\">2 weeks ago</p><button aria-label=\"Save job\" aria-pressed=\"false\" class=\"color-palette_button.brand pos_absolute right_s4 top_s4 iconButton iconButton--buttonSize_md iconButton--buttonType_blended notranslate\" data-cy=\"bookmark-icon-unchecked\" id=\"vacancy-bookmark-icon-9de7145c-d836-4e00-9b5d-d5f68d83d2ab\" title=\"Save job\" type=\"button\"><span class=\"icon icon--iconSize_sm\"><svg aria-hidden=\"true\" class=\"fill_[currentColor] h_100% w_100%\" focusable=\"false\" viewbox=\"0 0 24 24\"><path d=\"m12 17.41-4.2 2.9c-.667.283-1.3.23-1.9-.162-.6-.392-.9-.946-.9-1.663V5.51c0-.55.196-1.02.588-1.412A1.926 1.926 0 0 1 7 3.51h10c.55 0 1.02.196 1.413.588.391.391.587.862.587 1.412v12.975c0 .717-.3 1.27-.9 1.663-.6.391-1.233.445-1.9.162l-4.2-2.9Zm0-2.4 5 3.45V5.51H7v12.95l5-3.45Z\"></path></svg></span></button></div><div class=\"mb_s8\"><span class=\"c_gray.90 textStyle_h6 wb_break-word ov_hidden tov_ellipsis d_-webkit-box hy_auto ov-wrap_break-word white-space_normal word-wrap_break-word box-orient_vertical lc_4\">Data Scientist</span></div><div class=\"d_flex c_gray.90 flex-d_column gap_s4\"><div class=\"d_grid ai_start gap_s12 grid-tc_[auto_1fr]\"><span class=\"mt_s4 icon icon--iconSize_xs\"><svg aria-hidden=\"true\" class=\"fill_[currentColor] h_100% w_100%\" focusable=\"false\" viewbox=\"0 0 24 24\"><path d=\"M12 12c.55 0 1.021-.196 1.413-.588.391-.391.587-.862.587-1.412a1.93 1.93 0 0 0-.587-1.413A1.928 1.928 0 0 0 12 8c-.55 0-1.02.196-1.412.587A1.927 1.927 0 0 0 10 10c0 .55.196 1.02.588 1.412.391.392.862.588 1.412.588zm0 7.35c2.033-1.867 3.542-3.563 4.525-5.088C17.508 12.737 18 11.383 18 10.2c0-1.817-.58-3.304-1.738-4.463C15.104 4.579 13.683 4 12 4c-1.683 0-3.104.579-4.263 1.737C6.579 6.896 6 8.383 6 10.2c0 1.183.492 2.537 1.475 4.062.983 1.525 2.492 3.221 4.525 5.088zM12 22c-2.683-2.283-4.687-4.404-6.012-6.363C4.663 13.679 4 11.867 4 10.2c0-2.5.804-4.492 2.413-5.975C8.021 2.742 9.883 2 12 2c2.117 0 3.979.742 5.587 2.225C19.196 5.708 20 7.7 20 10.2c0 1.667-.662 3.479-1.987 5.437-1.325 1.959-3.33 4.08-6.013 6.363z\"></path></svg></span><span class=\"pos_absolute w_1px h_1px p_s0 ov_hidden clip_rect(0,_0,_0,_0) white-space_nowrap cp-path_inset(50%) bd_0\">Place of work<!-- -->:</span><p class=\"mb_s12 lastOfType:mb_s0 textStyle_p2\">Lausanne</p></div><div class=\"d_grid ai_start gap_s12 grid-tc_[auto_1fr]\"><span class=\"mt_s4 icon icon--iconSize_xs\"><svg aria-hidden=\"true\" class=\"fill_[currentColor] h_100% w_100%\" focusable=\"false\" viewbox=\"0 0 24 24\"><path d=\"M14.625 16.025a.918.918 0 0 0 .675.275c.267 0 .5-.1.7-.3a.948.948 0 0 0 .275-.7.948.948 0 0 0-.275-.7l-3-3V7.975a.928.928 0 0 0-.287-.7A.993.993 0 0 0 12 7a.967.967 0 0 0-.712.287A.968.968 0 0 0 11 8v3.975a1.03 1.03 0 0 0 .3.725l3.325 3.325zM12 22a9.733 9.733 0 0 1-3.9-.788 10.092 10.092 0 0 1-3.175-2.137c-.9-.9-1.612-1.958-2.137-3.175A9.733 9.733 0 0 1 2 12a9.74 9.74 0 0 1 .788-3.9 10.092 10.092 0 0 1 2.137-3.175c.9-.9 1.958-1.613 3.175-2.138A9.743 9.743 0 0 1 12 2a9.74 9.74 0 0 1 3.9.787 10.105 10.105 0 0 1 3.175 2.138c.9.9 1.612 1.958 2.137 3.175A9.733 9.733 0 0 1 22 12a9.733 9.733 0 0 1-.788 3.9 10.092 10.092 0 0 1-2.137 3.175c-.9.9-1.958 1.612-3.175 2.137A9.733 9.733 0 0 1 12 22zm0-2c2.217 0 4.104-.779 5.663-2.337C19.221 16.104 20 14.217 20 12s-.779-4.104-2.337-5.663C16.104 4.779 14.217 4 12 4s-4.104.779-5.662 2.337C4.779 7.896 4 9.783 4 12s.78 4.104 2.338 5.663C7.896 19.221 9.783 20 12 20z\"></path></svg></span><span class=\"pos_absolute w_1px h_1px p_s0 ov_hidden clip_rect(0,_0,_0,_0) white-space_nowrap cp-path_inset(50%) bd_0\">Workload<!-- -->:</span><p class=\"mb_s12 lastOfType:mb_s0 textStyle_p2\">80 – 100%</p></div><div class=\"d_grid ai_start gap_s12 grid-tc_[auto_1fr]\"><span class=\"mt_s4 icon icon--iconSize_xs\"><svg aria-hidden=\"true\" class=\"fill_[currentColor] h_100% w_100%\" focusable=\"false\" viewbox=\"0 0 24 24\"><path d=\"M9 18h6a.968.968 0 0 0 .713-.288A.967.967 0 0 0 16 17a.967.967 0 0 0-.287-.712A.968.968 0 0 0 15 16H9a.965.965 0 0 0-.712.288A.965.965 0 0 0 8 17c0 .283.096.52.288.712A.965.965 0 0 0 9 18zm0-4h6a.968.968 0 0 0 .713-.288A.967.967 0 0 0 16 13a.97.97 0 0 0-.287-.713A.97.97 0 0 0 15 12H9a.967.967 0 0 0-.712.287A.968.968 0 0 0 8 13c0 .283.096.52.288.712A.965.965 0 0 0 9 14zm-3 8c-.55 0-1.02-.196-1.412-.587A1.927 1.927 0 0 1 4 20V4c0-.55.196-1.021.588-1.413A1.925 1.925 0 0 1 6 2h8.175a1.978 1.978 0 0 1 1.4.575l3.85 3.85a1.978 1.978 0 0 1 .575 1.4V20c0 .55-.196 1.021-.587 1.413A1.928 1.928 0 0 1 18 22H6zm8-15V4H6v16h12V8h-3a.965.965 0 0 1-.712-.288A.965.965 0 0 1 14 7z\"></path></svg></span><span class=\"pos_absolute w_1px h_1px p_s0 ov_hidden clip_rect(0,_0,_0,_0) white-space_nowrap cp-path_inset(50%) bd_0\">Contract type<!-- -->:</span><p class=\"mb_s12 lastOfType:mb_s0 textStyle_p2\">Unlimited employment</p></div></div><div class=\"d_grid ai_center gap_s12 grid-tc_[auto_1fr] mt_s12\"><div class=\"grid-ce_2 grid-cs_1 op_1 avatarSquare avatarSquare--avatarSize_xs\"><picture style=\"height:100%\"><source srcset=\"https://media.jobs.ch/media/b068cead-ded3-4d98-ac66-d0962d05d7f8?format=png&amp;dimensions=30x0 1x, https://media.jobs.ch/media/b068cead-ded3-4d98-ac66-d0962d05d7f8?format=png&amp;dimensions=60x0 2x\"/><img alt=\"\" class=\"h_100% obj-f_contain pos_relative w_100%\" decoding=\"auto\" loading=\"eager\" src=\"https://media.jobs.ch/media/b068cead-ded3-4d98-ac66-d0962d05d7f8?format=png&amp;dimensions=48x0\"/> </picture></div><p class=\"mb_s12 lastOfType:mb_s0 textStyle_p2 c_gray.90\"><strong>SamanTree Medical (Switzerland) SA</strong></p></div><div class=\"d_inline-flex ai_center flex-wrap_wrap gap_s8 justify-items_start mt_s12\"><span class=\"white-space_nowrap ai_center bd_[1px_solid_transparent] bdr_r16 d_inline-flex lh_1.66 px_s8 bg_gray.10 c_gray.80 fs_f14 fw_regular\" data-cy=\"quick-apply\"><span class=\"icon icon--iconSize_xs\"><svg aria-hidden=\"true\" class=\"fill_[currentColor] h_100% w_100%\" focusable=\"false\" viewbox=\"0 0 24 24\"><path d=\"m10.55 18.2 5.175-6.2h-4l.725-5.675L7.825 13H11.3l-.75 5.2ZM9 15H5.9c-.4 0-.696-.18-.888-.537-.191-.359-.17-.705.063-1.038l7.475-10.75c.167-.233.383-.396.65-.488.267-.091.542-.087.825.013.283.1.492.275.625.525s.183.517.15.8L14 10h3.875c.433 0 .738.192.913.575.174.383.12.742-.163 1.075L10.4 21.5a1.27 1.27 0 0 1-.675.425 1.133 1.133 0 0 1-.775-.075 1.31 1.31 0 0 1-.588-.538 1.232 1.232 0 0 1-.162-.787L9 15Z\"></path></svg></span>Easy apply</span></div></div></a></div>"
      ]
     },
     "execution_count": 48,
     "metadata": {},
     "output_type": "execute_result"
    }
   ],
   "source": [
    "job_ads[0]"
   ]
  },
  {
   "cell_type": "markdown",
   "metadata": {
    "id": "6I_zmiEpOGP1"
   },
   "source": [
    "now that we have identified the data blocks for jobs, we can extract the individual pieces of information. Let's start with the link to the job ad. This will be located within a `<a>` tag, and we are interested in the `href` attribute:"
   ]
  },
  {
   "cell_type": "code",
   "execution_count": 49,
   "metadata": {
    "id": "t7CTDWu4OGP2",
    "outputId": "5af69fea-c971-4fa4-ac07-6698ffbeff9b"
   },
   "outputs": [
    {
     "data": {
      "text/plain": [
       "'/en/vacancies/detail/9de7145c-d836-4e00-9b5d-d5f68d83d2ab/'"
      ]
     },
     "execution_count": 49,
     "metadata": {},
     "output_type": "execute_result"
    }
   ],
   "source": [
    "job_ads[0].find('a').get('href')"
   ]
  },
  {
   "cell_type": "markdown",
   "metadata": {
    "id": "2ALWYSCBOGP2"
   },
   "source": [
    "Obtaining the link can be done without specifying any attribute, as that is the sole content of the `a` tag in one job-ad box. However, it is advisable to specify the attribute to prevent confusion or in cases where there could be more than one `a` tag."
   ]
  },
  {
   "cell_type": "code",
   "execution_count": null,
   "metadata": {
    "id": "Bfr3j5gIOGP2",
    "outputId": "bf69fc2a-a598-4be6-c7dc-2c942502b5b7"
   },
   "outputs": [
    {
     "data": {
      "text/plain": [
       "'/en/vacancies/detail/1761ead5-cd4d-4502-a6a1-e8ea8a36b313/?source=vacancy_search_promo'"
      ]
     },
     "execution_count": 27,
     "metadata": {},
     "output_type": "execute_result"
    }
   ],
   "source": [
    "job_ads[0].find('a', {'data-cy': 'job-link'}).get('href')"
   ]
  },
  {
   "cell_type": "markdown",
   "metadata": {
    "id": "Y_psR4WIOGP2"
   },
   "source": [
    "We get the link to the job ad page but to access the page from outside, we need to add 'https://www.jobs.ch' as prefix:"
   ]
  },
  {
   "cell_type": "code",
   "execution_count": null,
   "metadata": {
    "id": "8r63QszvOGP2"
   },
   "outputs": [],
   "source": [
    "'https://www.jobs.ch' + job_ads[0].find('a',{'data-cy' : 'job-link'}).get('href')"
   ]
  },
  {
   "cell_type": "markdown",
   "metadata": {
    "id": "-iJDwrzDOGP2"
   },
   "source": [
    "let's check it works for other links:"
   ]
  },
  {
   "cell_type": "code",
   "execution_count": null,
   "metadata": {
    "id": "zLKg7jYmOGP3",
    "outputId": "345d416c-be41-4bbc-c69e-125ccd9fe33d"
   },
   "outputs": [
    {
     "data": {
      "text/plain": [
       "['https://www.jobs.ch/en/vacancies/detail/1761ead5-cd4d-4502-a6a1-e8ea8a36b313/?source=vacancy_search_promo',\n",
       " 'https://www.jobs.ch/en/vacancies/detail/1e2d4bcc-496e-4b2f-b8a1-e24c6d5df629/?source=vacancy_search_promo',\n",
       " 'https://www.jobs.ch/en/vacancies/detail/6bd7e6a1-12ef-413b-89e8-606edce8ef67/?source=vacancy_search',\n",
       " 'https://www.jobs.ch/en/vacancies/detail/f29e20b2-750a-4ffc-bd6d-dd43c99f80ee/?source=vacancy_search',\n",
       " 'https://www.jobs.ch/en/vacancies/detail/ac6ec8b4-a5fe-484b-a48a-a20e4410149a/?source=vacancy_search',\n",
       " 'https://www.jobs.ch/en/vacancies/detail/e2bc3bfc-d8dc-461a-96d0-62558b6e79f3/?source=vacancy_search',\n",
       " 'https://www.jobs.ch/en/vacancies/detail/1097dc27-7e32-4c7f-96fb-ebf9dfbbd0a5/?source=vacancy_search',\n",
       " 'https://www.jobs.ch/en/vacancies/detail/1bac11a2-587a-429b-bcd7-d90129ece208/?source=vacancy_search',\n",
       " 'https://www.jobs.ch/en/vacancies/detail/64268273-d7db-45a3-8b2b-1bf7f93ad60d/?source=vacancy_search',\n",
       " 'https://www.jobs.ch/en/vacancies/detail/8cbba32c-0bfa-4312-9757-2ebe4c4aaa25/?source=vacancy_search',\n",
       " 'https://www.jobs.ch/en/vacancies/detail/2e0eb5f1-0f75-44ee-a6bf-d2036bce77c3/?source=vacancy_search',\n",
       " 'https://www.jobs.ch/en/vacancies/detail/d9b28edf-166a-4371-acd5-a1cb1f592874/?source=vacancy_search',\n",
       " 'https://www.jobs.ch/en/vacancies/detail/9189645b-ba79-4def-8e28-d5f43fd4e7fe/?source=vacancy_search',\n",
       " 'https://www.jobs.ch/en/vacancies/detail/7aae53c3-22f6-4390-ace4-5116d7a35b12/?source=vacancy_search',\n",
       " 'https://www.jobs.ch/en/vacancies/detail/7fe73873-b9a8-414e-af6d-167cbb62f7d2/?source=vacancy_search',\n",
       " 'https://www.jobs.ch/en/vacancies/detail/afa4be35-04d0-4655-af18-9366ab144448/?source=vacancy_search',\n",
       " 'https://www.jobs.ch/en/vacancies/detail/6489b73c-a10e-4d80-8933-e61432c45f18/?source=vacancy_search',\n",
       " 'https://www.jobs.ch/en/vacancies/detail/25eee61c-2a49-43a4-8d48-f6bae25dc66c/?source=vacancy_search',\n",
       " 'https://www.jobs.ch/en/vacancies/detail/9469fe3c-08e6-4794-9f35-1aec2917c96a/?source=vacancy_search',\n",
       " 'https://www.jobs.ch/en/vacancies/detail/0fcaf43b-959f-4dfe-9a86-afbd648fa5ab/?source=vacancy_search',\n",
       " 'https://www.jobs.ch/en/vacancies/detail/0ce56f60-59d5-44bb-bdef-9c0918156ef9/?source=vacancy_search',\n",
       " 'https://www.jobs.ch/en/vacancies/detail/d662c845-4931-4a06-9b10-1886a15064c9/?source=vacancy_search',\n",
       " 'https://www.jobs.ch/en/vacancies/detail/2899476e-d931-4732-826c-13767a78d26c/?source=vacancy_search_promo']"
      ]
     },
     "execution_count": 29,
     "metadata": {},
     "output_type": "execute_result"
    }
   ],
   "source": [
    "['https://www.jobs.ch' + job.find('a',{'data-cy' : 'job-link'}).get('href') for job in job_ads]"
   ]
  },
  {
   "cell_type": "markdown",
   "metadata": {
    "id": "yqAG64qQOGP3"
   },
   "source": [
    "now we can see that in the `<a>`element, we have an attribute called title, which corresponds the the title of the ad:"
   ]
  },
  {
   "cell_type": "code",
   "execution_count": 51,
   "metadata": {
    "id": "LWm02j0wOGP3",
    "outputId": "2ee0f1fb-8bf9-409a-e850-e8d34a913f1c"
   },
   "outputs": [
    {
     "data": {
      "text/plain": [
       "'Principal Machine Learning Engineer\\x0c'"
      ]
     },
     "execution_count": 51,
     "metadata": {},
     "output_type": "execute_result"
    }
   ],
   "source": [
    "job_ads[0].find('a',{'data-cy' : 'job-link'}).get('title')"
   ]
  },
  {
   "cell_type": "code",
   "execution_count": 56,
   "metadata": {},
   "outputs": [
    {
     "data": {
      "text/plain": [
       "['Data Scientist',\n",
       " 'Principal Machine Learning Engineer\\x0c',\n",
       " 'Head of Data Engineering (f/m/d) | 80-100% | Hybrid working model | Zurich, Switzerland',\n",
       " 'Spezialist Ereignisanalyse und Erfahrungsauswertung 80% - 100% (alle)',\n",
       " 'ML / Data Science Specialist (80-100%)',\n",
       " 'Statistische*r Datanalyst*in (60% bis 100%)',\n",
       " 'Working student in Business Intelligence/ Data analytics (f/m/d)',\n",
       " '(Senior) Data Science & Data Analytics Consultant 60-100%',\n",
       " 'Analyste de données pour le controlling des achats',\n",
       " 'Data Analyst (Focus Online-Shops)',\n",
       " 'Datenanalyst/-in Polizeiliche Lage 100%',\n",
       " '(Senior) Data Analyst Marketing (m/f/d)',\n",
       " 'Datenanalyst/-in Beschaffungscontrolling',\n",
       " 'Responsable des données de comptage à 100%',\n",
       " 'Data Scientist Asset Finance & Information (alle)',\n",
       " 'Product Development Intern (f/m/d)',\n",
       " 'BAUINGENIEUR*IN – TECHNISCHE*R LEITER*IN - BERN',\n",
       " 'Full Stack Software Engineer - Java 80-100%',\n",
       " 'Analytical Cloud Software Engineer (all genders)',\n",
       " 'Data Engineer (m/f/d) - 100%']"
      ]
     },
     "execution_count": 56,
     "metadata": {},
     "output_type": "execute_result"
    }
   ],
   "source": [
    "job_title = []\n",
    "for i in range(len(job_ads)):\n",
    "    job_title.append(job_ads[i].find('a',{'data-cy' : 'job-link'}).get('title'))\n",
    "job_title\n",
    "\n",
    "# or simply print it."
   ]
  },
  {
   "cell_type": "code",
   "execution_count": 61,
   "metadata": {},
   "outputs": [
    {
     "data": {
      "text/plain": [
       "[<p class=\"mb_s12 lastOfType:mb_s0 textStyle_p2 c_gray.50 max-w_[min-content] white-space_nowrap\">2 weeks ago</p>,\n",
       " <p class=\"mb_s12 lastOfType:mb_s0 textStyle_p2\">Lausanne</p>,\n",
       " <p class=\"mb_s12 lastOfType:mb_s0 textStyle_p2\">80 – 100%</p>,\n",
       " <p class=\"mb_s12 lastOfType:mb_s0 textStyle_p2\">Unlimited employment</p>,\n",
       " <p class=\"mb_s12 lastOfType:mb_s0 textStyle_p2 c_gray.90\"><strong>SamanTree Medical (Switzerland) SA</strong></p>]"
      ]
     },
     "execution_count": 61,
     "metadata": {},
     "output_type": "execute_result"
    }
   ],
   "source": [
    "job_ads[0].find_all('p')"
   ]
  },
  {
   "cell_type": "code",
   "execution_count": 64,
   "metadata": {},
   "outputs": [
    {
     "data": {
      "text/plain": [
       "('2 weeks ago', 'Lausanne', '80 – 100%')"
      ]
     },
     "execution_count": 64,
     "metadata": {},
     "output_type": "execute_result"
    }
   ],
   "source": [
    "date = job_ads[0].find_all('p')[0].text\n",
    "loc = job_ads[0].find_all('p')[1].text\n",
    "workload = job_ads[0].find_all('p')[2].text\n",
    "date, loc, workload"
   ]
  },
  {
   "cell_type": "markdown",
   "metadata": {
    "id": "fn2QNzA9OGP3"
   },
   "source": [
    "However, we require additional details about the job posting. Upon examining the child tags, we observe that the remaining information is encapsulated within `p` tags. Regardless of whether these `p` tags contain further tags as a child or not, we can still retrieve the text from the child taga, if they exist."
   ]
  },
  {
   "cell_type": "code",
   "execution_count": null,
   "metadata": {
    "id": "CoEzmAkWOGP3",
    "outputId": "eede1ac6-89c9-4f71-ad00-a412dc0cb250"
   },
   "outputs": [
    {
     "data": {
      "text/plain": [
       "[<p class=\"P-sc-hyu5hk-0 Text__p2-sc-1lu7urs-10 Span-sc-1ybanni-0 Text__span-sc-1lu7urs-12 Text-sc-1lu7urs-13 VacancySerpItemUpdated___StyledText-sc-i0986f-4 gVjNwq bZOJvH\"><span class=\"Span-sc-1ybanni-0 Text__span-sc-1lu7urs-12 Text-sc-1lu7urs-13 ftUOUz eEFkdA\">Published: 23 January 2024</span><span aria-hidden=\"true\" class=\"Span-sc-1ybanni-0\" title=\"23 January 2024\">23 Jan</span></p>,\n",
       " <p class=\"P-sc-hyu5hk-0 Text__p2-sc-1lu7urs-10 Span-sc-1ybanni-0 Text__span-sc-1lu7urs-12 Text-sc-1lu7urs-13 cMsiEU\">Schlieren</p>,\n",
       " <p class=\"P-sc-hyu5hk-0 Text__p2-sc-1lu7urs-10 Span-sc-1ybanni-0 Text__span-sc-1lu7urs-12 Text-sc-1lu7urs-13 cMsiEU\">80% – 100%</p>,\n",
       " <p class=\"P-sc-hyu5hk-0 Text__p2-sc-1lu7urs-10 Span-sc-1ybanni-0 Text__span-sc-1lu7urs-12 Text-sc-1lu7urs-13 cMsiEU\">Unlimited employment</p>,\n",
       " <p class=\"P-sc-hyu5hk-0 Text__p2-sc-1lu7urs-10 Span-sc-1ybanni-0 Text__span-sc-1lu7urs-12 Text-sc-1lu7urs-13 cMsiEU\"><strong>Zühlke Engineering AG</strong></p>]"
      ]
     },
     "execution_count": 31,
     "metadata": {},
     "output_type": "execute_result"
    }
   ],
   "source": [
    "job_ads[0].find_all('p', {'class' : 'Span-sc-1ybanni-0'})"
   ]
  },
  {
   "cell_type": "markdown",
   "metadata": {
    "id": "2lGVTw3WOGP4"
   },
   "source": [
    "This way, we notice that it always come in the following order:\n",
    "\n",
    "- job title\n",
    "- company\n",
    "- location\n",
    "- date of publication\n",
    "\n",
    "we can then extract the data using `find_all` and `.get_text()`:"
   ]
  },
  {
   "cell_type": "code",
   "execution_count": null,
   "metadata": {
    "id": "Oeb9zaoxOGP4",
    "outputId": "85f45da8-cb86-4110-92cd-c53d5de44cfb"
   },
   "outputs": [
    {
     "name": "stdout",
     "output_type": "stream",
     "text": [
      "Published: 23 January 202423 Jan\n",
      "Schlieren\n",
      "80% – 100%\n",
      "Unlimited employment\n",
      "Zühlke Engineering AG\n"
     ]
    }
   ],
   "source": [
    "for section in job_ads[0].find_all('p', {'class' : 'Span-sc-1ybanni-0'}):\n",
    "    print(section.get_text())"
   ]
  },
  {
   "cell_type": "markdown",
   "metadata": {
    "id": "DR2ZMLDtOGP4"
   },
   "source": [
    "However, some items may not display the information in a suitable format, such as the date in this example. This is why we might need to scrape each tag independently in certain cases. It all depends on how the data is presented."
   ]
  },
  {
   "cell_type": "code",
   "execution_count": null,
   "metadata": {
    "id": "xNr8Cw0TOGP4",
    "outputId": "44d6638a-be86-4252-933b-a2810765c2d8"
   },
   "outputs": [
    {
     "data": {
      "text/plain": [
       "<span class=\"Span-sc-1ybanni-0 Text__span-sc-1lu7urs-12 Text-sc-1lu7urs-13 ftUOUz eEFkdA\">Published: 23 January 2024</span>"
      ]
     },
     "execution_count": 33,
     "metadata": {},
     "output_type": "execute_result"
    }
   ],
   "source": [
    "job_ads[0].select_one('p > span.ftUOUz')"
   ]
  },
  {
   "cell_type": "code",
   "execution_count": null,
   "metadata": {
    "id": "zOqpWWb9OGP4",
    "outputId": "45f8d242-5976-4150-801d-fe23e8cb4dfc"
   },
   "outputs": [
    {
     "data": {
      "text/plain": [
       "<span aria-hidden=\"true\" class=\"Span-sc-1ybanni-0\" title=\"23 January 2024\">23 Jan</span>"
      ]
     },
     "execution_count": 34,
     "metadata": {},
     "output_type": "execute_result"
    }
   ],
   "source": [
    "job_ads[0].select_one('p > span.ftUOUz').find_next()"
   ]
  },
  {
   "cell_type": "markdown",
   "metadata": {
    "id": "24cXb2cHOGP4"
   },
   "source": [
    "Now, we can programmatically create a dataframe containing all the job posts found on the scraped page."
   ]
  },
  {
   "cell_type": "code",
   "execution_count": null,
   "metadata": {},
   "outputs": [],
   "source": [
    "import pandas as pd\n",
    "\n",
    "headers = {\n",
    "    \"User-Agent\": \"Mozilla/5.0 (Windows NT 10.0; Win64; x64) AppleWebKit/537.36 (KHTML, like Gecko) Chrome/109.0.0.0 Safari/537.36\"\n",
    "}\n",
    "\n",
    "profession = \"Data Scientist\"\n",
    "processed_profesion = profession.lower().replace(\" \", \"%20\")   # %20 stands for a space in html code\n",
    "\n",
    "url = f\"https://www.jobs.ch/en/vacancies/?page=1&term={processed_profesion}\"\n"
   ]
  },
  {
   "cell_type": "code",
   "execution_count": null,
   "metadata": {},
   "outputs": [],
   "source": [
    "import time\n"
   ]
  },
  {
   "cell_type": "code",
   "execution_count": 67,
   "metadata": {},
   "outputs": [],
   "source": [
    "import pandas as pd\n",
    "\n",
    "headers = {\n",
    "    \"User-Agent\": \"Mozilla/5.0 (Windows NT 10.0; Win64; x64) AppleWebKit/537.36 (KHTML, like Gecko) Chrome/109.0.0.0 Safari/537.36\"\n",
    "}\n",
    "\n",
    "profession = \"Data Scientist\"\n",
    "processed_profession = profession.lower().replace(\" \", \"%20\")\n",
    "\n",
    "url = f\"https://www.jobs.ch/en/vacancies/?page=1&term={processed_profession}\"\n",
    "\n",
    "# /?page={page}&term={processed_profession}\n",
    "# can loop aroud the page\n",
    "# automatize the process of finding/getting the max. page\n",
    "# soup.find_all('span', {'tabindex': \"-1\"})[-2].text.split()[1]    # split is done based on spaces\n",
    "#time.sleep(2)  # in sec; put the sleep before the request so it is more like a human-based operations than a machine operation\n",
    "page = requests.get(url, headers=headers, timeout=2)\n",
    "soup = BeautifulSoup(page.content, \"html.parser\")"
   ]
  },
  {
   "cell_type": "code",
   "execution_count": null,
   "metadata": {
    "id": "dXPAbyLkOGP5"
   },
   "outputs": [],
   "source": [
    "job_ads = soup.find_all('article', {'class' : 'Div-sc-1cpunnt-0'})\n",
    "\n",
    "df = pd.DataFrame(columns=['profession', 'title', 'query'])     # add columns that apply\n",
    "\n",
    "for job in job_ads:\n",
    "    try:\n",
    "        title = job.find('a',{'data-cy' : 'job-link'}).get('title')    # title\n",
    "    except AttributeError:                         # note the error we encounter and except those, if multiple errors than except (ErrorA, ErrorB)\n",
    "        title = None\n",
    "\n",
    "    try:\n",
    "        location = job.find_all('p', {'class' : 'Span-sc-1ybanni-0'})[1].get_text()    # location\n",
    "    except AttributeError:\n",
    "        location = None\n",
    "\n",
    "    try:\n",
    "        date = job.select_one('p > span.ftUOUz').get_text()    # date\n",
    "    except AttributeError: \n",
    "        date = None\n",
    "\n",
    "    try:\n",
    "        query = job.find('a', {'data-cy': 'job-link'}).get('href')   # link \n",
    "    except AttributeError:\n",
    "        query = None\n",
    "\n",
    "\n",
    "    job_dict = {\n",
    "                \"profession\": profession,\n",
    "                \"title\": title,\n",
    "                \"location\": location,\n",
    "                \"date\": date,\n",
    "                \"query\": query\n",
    "            }\n",
    "\n",
    "    df = pd.concat(\n",
    "        [df, pd.DataFrame([job_dict])],\n",
    "        ignore_index=True,     # remove all index values, otherwise put False\n",
    "    )"
   ]
  },
  {
   "cell_type": "code",
   "execution_count": null,
   "metadata": {
    "id": "ghHB29msOGP5",
    "outputId": "c86cfe34-ae58-4467-83cb-dff2aff18a3f"
   },
   "outputs": [
    {
     "data": {
      "text/html": [
       "<div>\n",
       "<style scoped>\n",
       "    .dataframe tbody tr th:only-of-type {\n",
       "        vertical-align: middle;\n",
       "    }\n",
       "\n",
       "    .dataframe tbody tr th {\n",
       "        vertical-align: top;\n",
       "    }\n",
       "\n",
       "    .dataframe thead th {\n",
       "        text-align: right;\n",
       "    }\n",
       "</style>\n",
       "<table border=\"1\" class=\"dataframe\">\n",
       "  <thead>\n",
       "    <tr style=\"text-align: right;\">\n",
       "      <th></th>\n",
       "      <th>profession</th>\n",
       "      <th>title</th>\n",
       "      <th>query</th>\n",
       "      <th>location</th>\n",
       "      <th>date</th>\n",
       "    </tr>\n",
       "  </thead>\n",
       "  <tbody>\n",
       "    <tr>\n",
       "      <th>0</th>\n",
       "      <td>Data Scientist</td>\n",
       "      <td>Senior Data Engineer</td>\n",
       "      <td>/en/vacancies/detail/1761ead5-cd4d-4502-a6a1-e...</td>\n",
       "      <td>Schlieren</td>\n",
       "      <td>Published: 23 January 2024</td>\n",
       "    </tr>\n",
       "    <tr>\n",
       "      <th>1</th>\n",
       "      <td>Data Scientist</td>\n",
       "      <td>Business Analyst Supply Chain</td>\n",
       "      <td>/en/vacancies/detail/1e2d4bcc-496e-4b2f-b8a1-e...</td>\n",
       "      <td>Haag</td>\n",
       "      <td>Published: 26 January 2024</td>\n",
       "    </tr>\n",
       "    <tr>\n",
       "      <th>2</th>\n",
       "      <td>Data Scientist</td>\n",
       "      <td>GIS Specialist / GIS Data Scientist 80-100% (m...</td>\n",
       "      <td>/en/vacancies/detail/6bd7e6a1-12ef-413b-89e8-6...</td>\n",
       "      <td>Zürich</td>\n",
       "      <td>Published: 07 February 2024</td>\n",
       "    </tr>\n",
       "    <tr>\n",
       "      <th>3</th>\n",
       "      <td>Data Scientist</td>\n",
       "      <td>Data Scientist / Analyst (m/w/d)</td>\n",
       "      <td>/en/vacancies/detail/f29e20b2-750a-4ffc-bd6d-d...</td>\n",
       "      <td>Domat/Ems</td>\n",
       "      <td>Published: 13 February 2024</td>\n",
       "    </tr>\n",
       "    <tr>\n",
       "      <th>4</th>\n",
       "      <td>Data Scientist</td>\n",
       "      <td>Data Scientist for LLM Applications f/m/d</td>\n",
       "      <td>/en/vacancies/detail/ac6ec8b4-a5fe-484b-a48a-a...</td>\n",
       "      <td>Graz</td>\n",
       "      <td>Published: 13 February 2024</td>\n",
       "    </tr>\n",
       "    <tr>\n",
       "      <th>5</th>\n",
       "      <td>Data Scientist</td>\n",
       "      <td>Datenspezialist/-in CAFM / SAP</td>\n",
       "      <td>/en/vacancies/detail/e2bc3bfc-d8dc-461a-96d0-6...</td>\n",
       "      <td>Zürich</td>\n",
       "      <td>Published: 09 February 2024</td>\n",
       "    </tr>\n",
       "    <tr>\n",
       "      <th>6</th>\n",
       "      <td>Data Scientist</td>\n",
       "      <td>Data Engineering Lead Consultant in Basel</td>\n",
       "      <td>/en/vacancies/detail/1097dc27-7e32-4c7f-96fb-e...</td>\n",
       "      <td>Basel, Luzern</td>\n",
       "      <td>Published: 07 February 2024</td>\n",
       "    </tr>\n",
       "    <tr>\n",
       "      <th>7</th>\n",
       "      <td>Data Scientist</td>\n",
       "      <td>Data Analyst</td>\n",
       "      <td>/en/vacancies/detail/1bac11a2-587a-429b-bcd7-d...</td>\n",
       "      <td>Nyon</td>\n",
       "      <td>Published: 12 February 2024</td>\n",
       "    </tr>\n",
       "    <tr>\n",
       "      <th>8</th>\n",
       "      <td>Data Scientist</td>\n",
       "      <td>Datenanalyst/in / Ökonom/in 50-100%</td>\n",
       "      <td>/en/vacancies/detail/64268273-d7db-45a3-8b2b-1...</td>\n",
       "      <td>Solothurn</td>\n",
       "      <td>Published: 29 January 2024</td>\n",
       "    </tr>\n",
       "    <tr>\n",
       "      <th>9</th>\n",
       "      <td>Data Scientist</td>\n",
       "      <td>Professional Data &amp; BI Specialist</td>\n",
       "      <td>/en/vacancies/detail/8cbba32c-0bfa-4312-9757-2...</td>\n",
       "      <td>Bern</td>\n",
       "      <td>Published: 07 February 2024</td>\n",
       "    </tr>\n",
       "    <tr>\n",
       "      <th>10</th>\n",
       "      <td>Data Scientist</td>\n",
       "      <td>Business Data Analyst Einzelleben 80-100% (m/w/d)</td>\n",
       "      <td>/en/vacancies/detail/2e0eb5f1-0f75-44ee-a6bf-d...</td>\n",
       "      <td>Richtipl. 1, 8304 Wallisellen</td>\n",
       "      <td>Published: 09 February 2024</td>\n",
       "    </tr>\n",
       "    <tr>\n",
       "      <th>11</th>\n",
       "      <td>Data Scientist</td>\n",
       "      <td>Senior Data Analyst:in und Data Architekt:in f...</td>\n",
       "      <td>/en/vacancies/detail/d9b28edf-166a-4371-acd5-a...</td>\n",
       "      <td>Horgen</td>\n",
       "      <td>Published: 07 February 2024</td>\n",
       "    </tr>\n",
       "    <tr>\n",
       "      <th>12</th>\n",
       "      <td>Data Scientist</td>\n",
       "      <td>Marketing Data Analyst:in</td>\n",
       "      <td>/en/vacancies/detail/9189645b-ba79-4def-8e28-d...</td>\n",
       "      <td>Winterthur</td>\n",
       "      <td>Published: 10 February 2024</td>\n",
       "    </tr>\n",
       "    <tr>\n",
       "      <th>13</th>\n",
       "      <td>Data Scientist</td>\n",
       "      <td>QA Data Reviewer (m/w) Chem./Phys. 100 %</td>\n",
       "      <td>/en/vacancies/detail/7fe73873-b9a8-414e-af6d-1...</td>\n",
       "      <td>Hettlingen CH</td>\n",
       "      <td>Published: 13 February 2024</td>\n",
       "    </tr>\n",
       "    <tr>\n",
       "      <th>14</th>\n",
       "      <td>Data Scientist</td>\n",
       "      <td>Business Intelligence Data Engineer (w/m/d)</td>\n",
       "      <td>/en/vacancies/detail/7aae53c3-22f6-4390-ace4-5...</td>\n",
       "      <td>Sursee</td>\n",
       "      <td>Published: 15 January 2024</td>\n",
       "    </tr>\n",
       "    <tr>\n",
       "      <th>15</th>\n",
       "      <td>Data Scientist</td>\n",
       "      <td>Schnittstellen- und Datenspezialistin/Datenspe...</td>\n",
       "      <td>/en/vacancies/detail/afa4be35-04d0-4655-af18-9...</td>\n",
       "      <td>Muri AG</td>\n",
       "      <td>Published: 08 January 2024</td>\n",
       "    </tr>\n",
       "    <tr>\n",
       "      <th>16</th>\n",
       "      <td>Data Scientist</td>\n",
       "      <td>Reference Data Analyst (One-year contract with...</td>\n",
       "      <td>/en/vacancies/detail/6489b73c-a10e-4d80-8933-e...</td>\n",
       "      <td>Baar</td>\n",
       "      <td>Published: 15 January 2024</td>\n",
       "    </tr>\n",
       "    <tr>\n",
       "      <th>17</th>\n",
       "      <td>Data Scientist</td>\n",
       "      <td>Datenanalyst Leistungen (w/m/d), 80-100 %</td>\n",
       "      <td>/en/vacancies/detail/25eee61c-2a49-43a4-8d48-f...</td>\n",
       "      <td>Luzern</td>\n",
       "      <td>Published: 06 February 2024</td>\n",
       "    </tr>\n",
       "    <tr>\n",
       "      <th>18</th>\n",
       "      <td>Data Scientist</td>\n",
       "      <td>Spezialist/in Data Governance / Data Analyst/i...</td>\n",
       "      <td>/en/vacancies/detail/9469fe3c-08e6-4794-9f35-1...</td>\n",
       "      <td>Bern-Bümpliz</td>\n",
       "      <td>Published: 25 January 2024</td>\n",
       "    </tr>\n",
       "    <tr>\n",
       "      <th>19</th>\n",
       "      <td>Data Scientist</td>\n",
       "      <td>Quality Data Analyst</td>\n",
       "      <td>/en/vacancies/detail/0fcaf43b-959f-4dfe-9a86-a...</td>\n",
       "      <td>Vaud</td>\n",
       "      <td>Published: 13 February 2024</td>\n",
       "    </tr>\n",
       "    <tr>\n",
       "      <th>20</th>\n",
       "      <td>Data Scientist</td>\n",
       "      <td>Senior Data Scientist (a)*</td>\n",
       "      <td>/en/vacancies/detail/0ce56f60-59d5-44bb-bdef-9...</td>\n",
       "      <td>Zürich-Seefeld</td>\n",
       "      <td>Published: 14 February 2024</td>\n",
       "    </tr>\n",
       "    <tr>\n",
       "      <th>21</th>\n",
       "      <td>Data Scientist</td>\n",
       "      <td>Analytics Expert / Data Scientist</td>\n",
       "      <td>/en/vacancies/detail/d662c845-4931-4a06-9b10-1...</td>\n",
       "      <td>Horgen</td>\n",
       "      <td>Published: 15 January 2024</td>\n",
       "    </tr>\n",
       "    <tr>\n",
       "      <th>22</th>\n",
       "      <td>Data Scientist</td>\n",
       "      <td>(Senior) Data Engineer (w/m/d)</td>\n",
       "      <td>/en/vacancies/detail/2899476e-d931-4732-826c-1...</td>\n",
       "      <td>Basel</td>\n",
       "      <td>Published: 05 February 2024</td>\n",
       "    </tr>\n",
       "  </tbody>\n",
       "</table>\n",
       "</div>"
      ],
      "text/plain": [
       "        profession                                              title  \\\n",
       "0   Data Scientist                               Senior Data Engineer   \n",
       "1   Data Scientist                      Business Analyst Supply Chain   \n",
       "2   Data Scientist  GIS Specialist / GIS Data Scientist 80-100% (m...   \n",
       "3   Data Scientist                   Data Scientist / Analyst (m/w/d)   \n",
       "4   Data Scientist          Data Scientist for LLM Applications f/m/d   \n",
       "5   Data Scientist                     Datenspezialist/-in CAFM / SAP   \n",
       "6   Data Scientist          Data Engineering Lead Consultant in Basel   \n",
       "7   Data Scientist                                       Data Analyst   \n",
       "8   Data Scientist                Datenanalyst/in / Ökonom/in 50-100%   \n",
       "9   Data Scientist                  Professional Data & BI Specialist   \n",
       "10  Data Scientist  Business Data Analyst Einzelleben 80-100% (m/w/d)   \n",
       "11  Data Scientist  Senior Data Analyst:in und Data Architekt:in f...   \n",
       "12  Data Scientist                          Marketing Data Analyst:in   \n",
       "13  Data Scientist           QA Data Reviewer (m/w) Chem./Phys. 100 %   \n",
       "14  Data Scientist        Business Intelligence Data Engineer (w/m/d)   \n",
       "15  Data Scientist  Schnittstellen- und Datenspezialistin/Datenspe...   \n",
       "16  Data Scientist  Reference Data Analyst (One-year contract with...   \n",
       "17  Data Scientist          Datenanalyst Leistungen (w/m/d), 80-100 %   \n",
       "18  Data Scientist  Spezialist/in Data Governance / Data Analyst/i...   \n",
       "19  Data Scientist                               Quality Data Analyst   \n",
       "20  Data Scientist                         Senior Data Scientist (a)*   \n",
       "21  Data Scientist                  Analytics Expert / Data Scientist   \n",
       "22  Data Scientist                     (Senior) Data Engineer (w/m/d)   \n",
       "\n",
       "                                                query  \\\n",
       "0   /en/vacancies/detail/1761ead5-cd4d-4502-a6a1-e...   \n",
       "1   /en/vacancies/detail/1e2d4bcc-496e-4b2f-b8a1-e...   \n",
       "2   /en/vacancies/detail/6bd7e6a1-12ef-413b-89e8-6...   \n",
       "3   /en/vacancies/detail/f29e20b2-750a-4ffc-bd6d-d...   \n",
       "4   /en/vacancies/detail/ac6ec8b4-a5fe-484b-a48a-a...   \n",
       "5   /en/vacancies/detail/e2bc3bfc-d8dc-461a-96d0-6...   \n",
       "6   /en/vacancies/detail/1097dc27-7e32-4c7f-96fb-e...   \n",
       "7   /en/vacancies/detail/1bac11a2-587a-429b-bcd7-d...   \n",
       "8   /en/vacancies/detail/64268273-d7db-45a3-8b2b-1...   \n",
       "9   /en/vacancies/detail/8cbba32c-0bfa-4312-9757-2...   \n",
       "10  /en/vacancies/detail/2e0eb5f1-0f75-44ee-a6bf-d...   \n",
       "11  /en/vacancies/detail/d9b28edf-166a-4371-acd5-a...   \n",
       "12  /en/vacancies/detail/9189645b-ba79-4def-8e28-d...   \n",
       "13  /en/vacancies/detail/7fe73873-b9a8-414e-af6d-1...   \n",
       "14  /en/vacancies/detail/7aae53c3-22f6-4390-ace4-5...   \n",
       "15  /en/vacancies/detail/afa4be35-04d0-4655-af18-9...   \n",
       "16  /en/vacancies/detail/6489b73c-a10e-4d80-8933-e...   \n",
       "17  /en/vacancies/detail/25eee61c-2a49-43a4-8d48-f...   \n",
       "18  /en/vacancies/detail/9469fe3c-08e6-4794-9f35-1...   \n",
       "19  /en/vacancies/detail/0fcaf43b-959f-4dfe-9a86-a...   \n",
       "20  /en/vacancies/detail/0ce56f60-59d5-44bb-bdef-9...   \n",
       "21  /en/vacancies/detail/d662c845-4931-4a06-9b10-1...   \n",
       "22  /en/vacancies/detail/2899476e-d931-4732-826c-1...   \n",
       "\n",
       "                         location                         date  \n",
       "0                       Schlieren   Published: 23 January 2024  \n",
       "1                            Haag   Published: 26 January 2024  \n",
       "2                          Zürich  Published: 07 February 2024  \n",
       "3                       Domat/Ems  Published: 13 February 2024  \n",
       "4                            Graz  Published: 13 February 2024  \n",
       "5                          Zürich  Published: 09 February 2024  \n",
       "6                   Basel, Luzern  Published: 07 February 2024  \n",
       "7                            Nyon  Published: 12 February 2024  \n",
       "8                       Solothurn   Published: 29 January 2024  \n",
       "9                            Bern  Published: 07 February 2024  \n",
       "10  Richtipl. 1, 8304 Wallisellen  Published: 09 February 2024  \n",
       "11                         Horgen  Published: 07 February 2024  \n",
       "12                     Winterthur  Published: 10 February 2024  \n",
       "13                  Hettlingen CH  Published: 13 February 2024  \n",
       "14                         Sursee   Published: 15 January 2024  \n",
       "15                        Muri AG   Published: 08 January 2024  \n",
       "16                           Baar   Published: 15 January 2024  \n",
       "17                         Luzern  Published: 06 February 2024  \n",
       "18                   Bern-Bümpliz   Published: 25 January 2024  \n",
       "19                           Vaud  Published: 13 February 2024  \n",
       "20                 Zürich-Seefeld  Published: 14 February 2024  \n",
       "21                         Horgen   Published: 15 January 2024  \n",
       "22                          Basel  Published: 05 February 2024  "
      ]
     },
     "execution_count": 38,
     "metadata": {},
     "output_type": "execute_result"
    }
   ],
   "source": [
    "df"
   ]
  },
  {
   "cell_type": "markdown",
   "metadata": {
    "id": "akwc4CibOGP5"
   },
   "source": [
    "### Saving Extracted Data"
   ]
  },
  {
   "cell_type": "code",
   "execution_count": null,
   "metadata": {
    "id": "RlM_cEjqOGP6"
   },
   "outputs": [],
   "source": [
    "df.to_csv(\"data_scientist_jobs.csv\")"
   ]
  },
  {
   "cell_type": "markdown",
   "metadata": {
    "id": "zY31yZkCOGP6"
   },
   "source": [
    "## Conclusion:\n",
    "\n",
    "You now know the most important commands to work with requests and BeautifulSoup and have fun extracting data from webpages!\n",
    "If you would like to go further, here are resources you should checkout:\n",
    "\n",
    "* [Web Scraping Tutorial](https://www.dataquest.io/blog/web-scraping-tutorial-python/)\n",
    "* [Selenium](https://www.seleniumhq.org/) a library for javascript rendered pages,\n",
    "* [Scrapy](https://scrapy.org) a python library for web crawling\n",
    "\n",
    "But first, let's practice!"
   ]
  }
 ],
 "metadata": {
  "colab": {
   "provenance": []
  },
  "kernelspec": {
   "display_name": "CDBootcamp",
   "language": "python",
   "name": "python3"
  },
  "language_info": {
   "codemirror_mode": {
    "name": "ipython",
    "version": 3
   },
   "file_extension": ".py",
   "mimetype": "text/x-python",
   "name": "python",
   "nbconvert_exporter": "python",
   "pygments_lexer": "ipython3",
   "version": "3.10.18"
  }
 },
 "nbformat": 4,
 "nbformat_minor": 0
}
