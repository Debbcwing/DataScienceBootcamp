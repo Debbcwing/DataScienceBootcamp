{
 "cells": [
  {
   "cell_type": "markdown",
   "metadata": {},
   "source": [
    "<center><a target=\"_blank\" href=\"https://academy.constructor.org/\"><img src=https://lh3.googleusercontent.com/d/1EmH3Jks5CpJy0zK3JbkvJZkeqWtVcxhB width=\"500\" style=\"background:none; border:none; box-shadow:none;\" /></a> </center>\n",
    "<hr />\n",
    "\n",
    "# <h1 align=\"center\"> DST Day 4, Exercise 1 Part 1: Webscraping jobs.ch with BeautifulSoup </h1>\n",
    "\n",
    "<hr />\n",
    "<center>Constructor Academy, 2024</center>"
   ]
  },
  {
   "cell_type": "markdown",
   "metadata": {},
   "source": [
    "\n",
    "<div style=\"background:#EEEDF5;border-top:0.1cm solid #EF475B;border-bottom:0.1cm solid #EF475B;\">\n",
    "    <div style=\"margin-left: 0.5cm;margin-top: 0.5cm;margin-bottom: 0.5cm;color:#303030\">\n",
    "        <p><strong>Goal:</strong> Scrape job details from jobs.ch and store data as a csv file</p>\n",
    "        <strong> Outline:</strong>\n",
    "        <a id='Q0' name=\"Q0\"></a>\n",
    "        <ol>\n",
    "            <li> <a style=\"color:#303030\" href='#Q1'>Setup</a></li>\n",
    "            <li> <a style=\"color:#303030\" href='#Q2'>Getting webpage content using the requests library</a></li>\n",
    "            <li> <a style=\"color:#303030\" href='#Q3'>Building and saving the dataframe</a></li>\n",
    "            <li> <a style=\"color:#303030\" href='#Q4'>Conclusion</a></li>\n",
    "        </ol>\n",
    "        <strong>Topics Trained:</strong> Web Scraping, HTML, requests, BeautifulSoup \n",
    "    </div>\n",
    "</div>\n",
    "\n",
    "<nav style=\"text-align:right\"><strong>\n",
    "        <a style=\"color:#00BAE5\" href=\"https://monolith.propulsion-home.ch/backend/api/momentum/materials/ds-materials/01_DSToolkit/index.html\" title=\"momentum\"> Module 1, The Data Science Toolkit </a>|\n",
    "        <a style=\"color:#00BAE5\" href=\"https://monolith.propulsion-home.ch/backend/api/momentum/materials/ds-materials/01_DSToolkit/day4/index.html\" title=\"momentum\">Day 4, Web Scraping </a>|\n",
    "        <a style=\"color:#00BAE5\" href=\"https://monolith.propulsion-home.ch/backend/api/momentum/materials/ds-materials/01_DSToolkit/day4/pages/exercises.html#id1\" title=\"momentum\"> Exercise 1: Scrape Jobs.ch</a>\n",
    "</strong></nav>"
   ]
  },
  {
   "cell_type": "markdown",
   "metadata": {},
   "source": [
    "As a job seeker, one has to search through job portals to find the most relevant jobs related to your profile. In this exercise, your goal is to find all jobs related to keywords: “Data Scientist”, “Data Analyst”, “Python Developer”, “Data Engineer”, “Data Manager”, “Data Architect”, “Big Data Analyst” and “Data Python” on jobs.ch."
   ]
  },
  {
   "cell_type": "markdown",
   "metadata": {},
   "source": [
    "To do this, we are going to scrape as much information as possible regarding these position."
   ]
  },
  {
   "cell_type": "markdown",
   "metadata": {},
   "source": [
    "<div style=\"background:#EEEDF5;border:0.1cm solid #00BAE5;color:#303030\">\n",
    "    <div style=\"margin: 0.2cm 0.2cm 0.2cm 0.2cm\">\n",
    "       <b style=\"color:#00BAE5\">The Steps of Webscraping:</b>\n",
    "      <ol> \n",
    "          <li> Check the robots.txt file to make sure you are allowed to scrape the page</li>\n",
    "          <li> Get content of the webpage/url using the requests library </li>\n",
    "          <li> Parse content using BeautifulSoup </li>\n",
    "          <li> Define the information/data that you require </li>\n",
    "          <li> Use find() to navigate through parsed html </li>\n",
    "          <li> Use get() to extract required information </li>\n",
    "          <li> Save extracted data into a pandas dataframe and/or csv file. </li>\n",
    "      </ol>\n",
    "   </div>\n",
    "</div>"
   ]
  },
  {
   "cell_type": "code",
   "execution_count": 9,
   "metadata": {},
   "outputs": [],
   "source": [
    "from bs4 import BeautifulSoup  # to parse html\n",
    "import requests # to send http requests\n",
    "\n",
    "# function that allows you to pause the program. helpful to stagger requests\n",
    "from time import sleep\n",
    "from tqdm import tqdm\n",
    "\n",
    "import pandas as pd\n",
    "import re\n",
    "\n",
    "import warnings\n",
    "warnings.filterwarnings(\"ignore\", category=UserWarning)"
   ]
  },
  {
   "cell_type": "markdown",
   "metadata": {},
   "source": [
    "<a id='Q2' name=\"Q2\"></a>\n",
    "## [Getting webpage content using the requests library](#Q0)"
   ]
  },
  {
   "cell_type": "markdown",
   "metadata": {},
   "source": [
    "### Robots.txt"
   ]
  },
  {
   "cell_type": "markdown",
   "metadata": {},
   "source": [
    "The first thing we need to do is to head over https://www.jobs.ch/robots.txt to read the guidelines about scraping this website:"
   ]
  },
  {
   "cell_type": "markdown",
   "metadata": {},
   "source": [
    "```\n",
    "# www.jobs.ch\n",
    "\n",
    "User-agent: *\n",
    "Disallow: /external/\n",
    "Disallow: /api/\n",
    "Disallow: /api/v1/\n",
    "Disallow: /api_proxy/\n",
    "Disallow: /de/_uploader\n",
    "Disallow: /en/_uploader\n",
    "Disallow: /fr/_uploader\n",
    "Disallow: /de/registrieren/\n",
    "Disallow: /fr/inscription/\n",
    "Disallow: /en/register/\n",
    "Disallow: /de/login/*?\n",
    "Disallow: /fr/login/*?\n",
    "Disallow: /en/login/*?\n",
    "Disallow: /login/\n",
    "Disallow: /Login/\n",
    "Disallow: /de/auth/\n",
    "Disallow: /fr/auth/\n",
    "Disallow: /en/auth/\n",
    "Disallow: /0\n",
    "Disallow: /1\n",
    "Disallow: /2\n",
    "Disallow: /3\n",
    "Disallow: /4\n",
    "Disallow: /5\n",
    "Disallow: /6\n",
    "Disallow: /7\n",
    "Disallow: /8\n",
    "Disallow: /9\n",
    "Disallow: /de/stellenangebote/detail/*/*/*\n",
    "Disallow: /en/vacancies/detail/*/*/*\n",
    "Disallow: /fr/offres-emplois/detail/*/*/*\n",
    "Disallow: *-two-column/*\n",
    "\n",
    "User-agent: SemrushBot\n",
    "Disallow: /\n",
    "\n",
    "Sitemap: https://www.jobs.ch/sitemaps/sitemap.xml\n",
    "```"
   ]
  },
  {
   "cell_type": "markdown",
   "metadata": {},
   "source": [
    "You can see the list of urls that are off limits for `jobs.ch`. In this documentation, the developers used the `*` notation, also called a wild card. When this is used, that means \"any\".\n",
    "\n",
    "For example:\n",
    "\n",
    "- the line `User-agent: *` means the following rule apply to any agent (= webscraping script).\n",
    "- `Disallow: /en/vacancies/detail/*/*/*` means do not scrape url of the form https://www.jobs.ch/en/vacancies/detail/ any string / any string / any string"
   ]
  },
  {
   "cell_type": "markdown",
   "metadata": {},
   "source": [
    "### URL pattern"
   ]
  },
  {
   "cell_type": "markdown",
   "metadata": {},
   "source": [
    "After inspection of an [example search page](https://www.jobs.ch/en/vacancies/?page=2&region=19&term=data%20engineer), we find that it follows the pattern:\n",
    "\n",
    "  https://www.jobs.ch/en/vacancies/?page={page}&region={reg}&term={key%20word}\n",
    "  \n",
    "  with \n",
    "  - {page} the page number of the research,\n",
    "  - {reg} the region code\n",
    "  - {key%20word} the search keyword, with each space replaced by %20\n",
    "  \n",
    "for example, checkout https://www.jobs.ch/en/vacancies/?page=2&region=19&term=data%20engineer"
   ]
  },
  {
   "cell_type": "markdown",
   "metadata": {},
   "source": [
    "If we are interested in reading a specific job ad, we can see that the url pattern can be modified to:\n",
    "\n",
    "https://www.jobs.ch/en/vacancies/?page={page}&region={reg}&term={key%20word}&jobid={jobid}\n",
    "\n",
    "to access specific job details. So our first task will be to parse the search pages to get the list urls of all the individual job descriptions, and then parse each job description for more content."
   ]
  },
  {
   "cell_type": "code",
   "execution_count": 10,
   "metadata": {},
   "outputs": [],
   "source": [
    "keywords = [\n",
    "    \"Data Scientist\",\n",
    "    \"Data Analyst\",\n",
    "    \"Python Developer\",\n",
    "    \"Data Engineer\",\n",
    "    \"Data Manager\",\n",
    "    \"Data Architect\",\n",
    "    \"Big Data Analyst\",\n",
    "    \"Data Python\",\n",
    "]"
   ]
  },
  {
   "cell_type": "markdown",
   "metadata": {},
   "source": [
    "### Scrape Search page for urls of individual jobs descriptions"
   ]
  },
  {
   "cell_type": "markdown",
   "metadata": {},
   "source": [
    "We already explored the search page during livecoding. here is what we found:\n",
    "\n",
    "- for each page, we can find hyper links to individual job ads by parsing all `a` elements with attribute `data-cy` of value `job-link`:\n",
    "\n",
    "```python\n",
    "job_ads = soup.find_all(\"a\", {\"data-cy\": \"job-link\"})\n",
    "```\n",
    "\n",
    "from this, we can get the link to the details page by iterating over `job_ads` and getting the `href` field:\n",
    "\n",
    "```python\n",
    "job_links = []\n",
    "job_ads = soup.find_all(\"a\", {\"data-cy\": \"job-link\"})\n",
    "for job_ad in job_ads:\n",
    "    job_links.append(url + '&jobid=' + job_ad.get(\"href\").split('/')[-2])\n",
    "```\n",
    "\n",
    "the problem is, this link is of the form:\n",
    "\n",
    "https://www.jobs.ch/en/vacancies/detail/{job_id}/?source=vacancy_search_promo\n",
    "\n",
    "which corresponds to the pattern on the robots.txt file: `Disallow: /en/vacancies/detail/*/*/*`.\n",
    "\n",
    "Fortunately, we can extract the jobid variable like so:\n",
    "\n",
    "```python\n",
    "job_ad.get(\"href\").split('/')[-2]\n",
    "```\n",
    "\n",
    "and reconstruct the url we found in the section above, which is allowed:\n",
    "\n",
    "https://www.jobs.ch/en/vacancies/?page={page}&region={reg}&term={key%20word}&jobid={jobid}\n",
    "\n",
    "Finally, we can directly send a get request to the url and save the response onto a file. To do that we use the following syntax:\n",
    "\n",
    "```python\n",
    "with open(full_file_name, \"wb\") as f:\n",
    "    f.write(page_content)\n",
    "```\n",
    "\n",
    "we can then reload the page later on by typing:\n",
    "\n",
    "```python\n",
    "with open(full_file_name, 'rb') as f:\n",
    "    page_content = f.open()\n",
    "```\n",
    "\n",
    "Here is the function that downloads all the job pages for us:"
   ]
  },
  {
   "cell_type": "markdown",
   "metadata": {},
   "source": [
    "Besides all the individual job descriptions for a given search page, we also need to go over all the pages for a given search. For this, we need to extract the total number of pages per search, and then construct the url pattern as follows:\n",
    "\n",
    "https://www.jobs.ch/en/vacancies/?page={page}&region={reg}&term={key%20word}\n",
    "\n",
    "we find that the maximum number of pages is given in the `span` element with attribute `data-cy` of value `page-count`.\n",
    "Once we have the number of pages, we can loop over them to extract all the job pages and ids (within `a` elements of `data-cy = job-link`)."
   ]
  },
  {
   "cell_type": "markdown",
   "metadata": {},
   "source": [
    "---\n",
    "1.1. Download all necessary information (including job text, job rank, company name, job keyword…) for all webpages."
   ]
  },
  {
   "cell_type": "markdown",
   "metadata": {},
   "source": [
    "**Note**\n",
    "\n",
    "We are always using the structure \n",
    "\n",
    "```python\n",
    "try:\n",
    "    # extract some information\n",
    "except:\n",
    "    # the information extraction failed, fill result with nan\n",
    "```\n",
    "\n",
    "this prevents the code from stopping whenever an information is not available for a given job ad"
   ]
  },
  {
   "cell_type": "markdown",
   "metadata": {},
   "source": [
    "As you can see from the function above, extracting the content of the ad is a bit tricky. For some job ads, Jobs.ch is actually embeding the description within its page in an iframe element and for other, it is in a div element. we write a nested `try ... except ...` block to make sure we get all the data. "
   ]
  },
  {
   "cell_type": "code",
   "execution_count": 14,
   "metadata": {},
   "outputs": [],
   "source": [
    "import time\n",
    "\n",
    "contract_types = ['Apprenticeship', 'Freelance', 'Internship',\n",
    "                  'Supplementary income', 'Temporary', 'Unlimited employment']\n",
    "# validate contract types via: https://www.jobs.ch/en/advanced-search-vacancies/\n",
    "\n",
    "def get_all_pages(keyword, df):\n",
    "    processed_profesion = keyword.lower().replace(\" \", \"%20\")\n",
    "    try:\n",
    "        page = requests.get(f\"https://www.jobs.ch/en/vacancies/?term={processed_profesion}\", timeout=15)\n",
    "    except requests.RequestException as e:\n",
    "        print(f\"Failed to load initial page: {e}\")\n",
    "        return []\n",
    "    soup = BeautifulSoup(page.content, \"html.parser\")\n",
    "\n",
    "    # Extracting max pages\n",
    "    max_pages = soup.find('div', {'data-cy':'paginator'}).find_all('span')[-4].text.split()[-1]\n",
    "    print(f\"{max_pages} pages found for {keyword}...\")\n",
    "    \n",
    "    for pg in tqdm(range(1, int(max_pages) + 1)):\n",
    "        url = f\"https://www.jobs.ch/en/vacancies/?page={pg}&term={keyword}\"\n",
    "        try:\n",
    "            page = requests.get(url, timeout=15)\n",
    "            soup = BeautifulSoup(page.content, \"html.parser\")\n",
    "        except requests.RequestException as e:\n",
    "            print(f\"Failed to load page {pg}: {e}\")\n",
    "            continue\n",
    "        base_link = \"https://www.jobs.ch\"\n",
    "        time.sleep(1)\n",
    "        job_ads = soup.find_all('article', {'data-cy' : 'serp-item'})\n",
    "        for job_ad in job_ads:\n",
    "            job_link = job_ad.find('a', {'data-cy': 'job-link'}).get('href')\n",
    "            job_url = base_link + job_link\n",
    "            title = job_ad.find('a', {'data-cy': 'job-link'}).get('title')\n",
    "            \n",
    "            try:\n",
    "                publish = job_ad.find_all('p')[0].text\n",
    "            except IndexError:\n",
    "                publish = None\n",
    "                \n",
    "            try:\n",
    "                location = job_ad.find_all('p')[1].text\n",
    "            except IndexError:\n",
    "                location = None\n",
    "                \n",
    "            try:\n",
    "                workload = job_ad.find_all('p')[2].text\n",
    "            except IndexError:\n",
    "                workload = None\n",
    "                \n",
    "            try:\n",
    "                empoy_type = job_ad.find_all('p')[3].text\n",
    "            except IndexError:\n",
    "                empoy_type = None\n",
    "            try:\n",
    "                company = job_ad.find_all('p')[4].text\n",
    "            except IndexError:\n",
    "                company = None\n",
    "        \n",
    "        # 'url', 'title', 'publish_date','location','workload','employment_type','company'\n",
    "            job_dict = {\n",
    "                        \"profession\" : keyword,\n",
    "                        \"url\": job_url,\n",
    "                        \"title\": title,\n",
    "                        \"publish_date\": publish,\n",
    "                        \"location\": location,\n",
    "                        \"workload\": workload,\n",
    "                        \"employment_type\": empoy_type,\n",
    "                        \"company\": company\n",
    "                    }\n",
    "        \n",
    "            df = pd.concat(\n",
    "                [df, pd.DataFrame([job_dict])],\n",
    "                ignore_index=True,\n",
    "            )\n",
    "    print(len(df), \"job postings retrieved.\\n\")\n",
    "    return df"
   ]
  },
  {
   "cell_type": "code",
   "execution_count": 15,
   "metadata": {},
   "outputs": [
    {
     "name": "stdout",
     "output_type": "stream",
     "text": [
      "12 pages found for Data Scientist...\n"
     ]
    },
    {
     "name": "stderr",
     "output_type": "stream",
     "text": [
      "100%|██████████| 12/12 [00:13<00:00,  1.14s/it]\n"
     ]
    },
    {
     "name": "stdout",
     "output_type": "stream",
     "text": [
      "235 job postings retrieved.\n",
      "\n",
      "14 pages found for Data Analyst...\n"
     ]
    },
    {
     "name": "stderr",
     "output_type": "stream",
     "text": [
      "100%|██████████| 14/14 [00:15<00:00,  1.14s/it]\n"
     ]
    },
    {
     "name": "stdout",
     "output_type": "stream",
     "text": [
      "515 job postings retrieved.\n",
      "\n",
      "5 pages found for Python Developer...\n"
     ]
    },
    {
     "name": "stderr",
     "output_type": "stream",
     "text": [
      "100%|██████████| 5/5 [00:05<00:00,  1.14s/it]\n"
     ]
    },
    {
     "name": "stdout",
     "output_type": "stream",
     "text": [
      "599 job postings retrieved.\n",
      "\n",
      "74 pages found for Data Engineer...\n"
     ]
    },
    {
     "name": "stderr",
     "output_type": "stream",
     "text": [
      "100%|██████████| 74/74 [01:49<00:00,  1.48s/it]\n"
     ]
    },
    {
     "name": "stdout",
     "output_type": "stream",
     "text": [
      "2075 job postings retrieved.\n",
      "\n",
      "74 pages found for Data Manager...\n"
     ]
    },
    {
     "name": "stderr",
     "output_type": "stream",
     "text": [
      "100%|██████████| 74/74 [01:48<00:00,  1.46s/it]\n"
     ]
    },
    {
     "name": "stdout",
     "output_type": "stream",
     "text": [
      "3541 job postings retrieved.\n",
      "\n",
      "9 pages found for Data Architect...\n"
     ]
    },
    {
     "name": "stderr",
     "output_type": "stream",
     "text": [
      "100%|██████████| 9/9 [00:10<00:00,  1.17s/it]\n"
     ]
    },
    {
     "name": "stdout",
     "output_type": "stream",
     "text": [
      "3716 job postings retrieved.\n",
      "\n",
      "5 pages found for Big Data Analyst...\n"
     ]
    },
    {
     "name": "stderr",
     "output_type": "stream",
     "text": [
      "100%|██████████| 5/5 [00:05<00:00,  1.16s/it]\n"
     ]
    },
    {
     "name": "stdout",
     "output_type": "stream",
     "text": [
      "3816 job postings retrieved.\n",
      "\n",
      "24 pages found for Data Python...\n"
     ]
    },
    {
     "name": "stderr",
     "output_type": "stream",
     "text": [
      "100%|██████████| 24/24 [00:27<00:00,  1.15s/it]"
     ]
    },
    {
     "name": "stdout",
     "output_type": "stream",
     "text": [
      "4288 job postings retrieved.\n",
      "\n"
     ]
    },
    {
     "name": "stderr",
     "output_type": "stream",
     "text": [
      "\n"
     ]
    }
   ],
   "source": [
    "#all_jobs = {k:get_all_pages(k) for k in keywords}\n",
    "df = pd.DataFrame(columns=['profession', 'url', 'title', 'publish_date','location','workload','employment_type','company'])\n",
    "for job_desc in keywords:\n",
    "    df = get_all_pages(job_desc, df)"
   ]
  },
  {
   "cell_type": "code",
   "execution_count": 16,
   "metadata": {},
   "outputs": [
    {
     "data": {
      "text/html": [
       "<div>\n",
       "<style scoped>\n",
       "    .dataframe tbody tr th:only-of-type {\n",
       "        vertical-align: middle;\n",
       "    }\n",
       "\n",
       "    .dataframe tbody tr th {\n",
       "        vertical-align: top;\n",
       "    }\n",
       "\n",
       "    .dataframe thead th {\n",
       "        text-align: right;\n",
       "    }\n",
       "</style>\n",
       "<table border=\"1\" class=\"dataframe\">\n",
       "  <thead>\n",
       "    <tr style=\"text-align: right;\">\n",
       "      <th></th>\n",
       "      <th>profession</th>\n",
       "      <th>url</th>\n",
       "      <th>title</th>\n",
       "      <th>publish_date</th>\n",
       "      <th>location</th>\n",
       "      <th>workload</th>\n",
       "      <th>employment_type</th>\n",
       "      <th>company</th>\n",
       "    </tr>\n",
       "  </thead>\n",
       "  <tbody>\n",
       "    <tr>\n",
       "      <th>0</th>\n",
       "      <td>Data Scientist</td>\n",
       "      <td>https://www.jobs.ch/en/vacancies/detail/5106c5...</td>\n",
       "      <td>(Senior) Data Platform Engineer</td>\n",
       "      <td>2 weeks ago</td>\n",
       "      <td>Pfingstweidstrasse 60b, Zürich</td>\n",
       "      <td>80 – 100%</td>\n",
       "      <td>Unlimited employment</td>\n",
       "      <td>Digitec Galaxus AG</td>\n",
       "    </tr>\n",
       "    <tr>\n",
       "      <th>1</th>\n",
       "      <td>Data Scientist</td>\n",
       "      <td>https://www.jobs.ch/en/vacancies/detail/25d826...</td>\n",
       "      <td>Fachexperte:in Planung und Steuerung (Datenman...</td>\n",
       "      <td>Last week</td>\n",
       "      <td>Region Bern Mittelland (BE/SO/AG)</td>\n",
       "      <td>60 – 100%</td>\n",
       "      <td>Unlimited employment</td>\n",
       "      <td>SBB CFF FFS</td>\n",
       "    </tr>\n",
       "    <tr>\n",
       "      <th>2</th>\n",
       "      <td>Data Scientist</td>\n",
       "      <td>https://www.jobs.ch/en/vacancies/detail/d5063a...</td>\n",
       "      <td>Pricing &amp; Data Analyst (m/w/d) Marketing &amp; Sal...</td>\n",
       "      <td>Yesterday</td>\n",
       "      <td>Reinach BL</td>\n",
       "      <td>50%</td>\n",
       "      <td>Unlimited employment</td>\n",
       "      <td>Montagetechnik BERNER AG</td>\n",
       "    </tr>\n",
       "    <tr>\n",
       "      <th>3</th>\n",
       "      <td>Data Scientist</td>\n",
       "      <td>https://www.jobs.ch/en/vacancies/detail/638350...</td>\n",
       "      <td>(Senior) Data Science &amp; Data Analytics Consult...</td>\n",
       "      <td>Last month</td>\n",
       "      <td>Zürich</td>\n",
       "      <td>60 – 100%</td>\n",
       "      <td>Unlimited employment</td>\n",
       "      <td>Eraneos Switzerland AG</td>\n",
       "    </tr>\n",
       "    <tr>\n",
       "      <th>4</th>\n",
       "      <td>Data Scientist</td>\n",
       "      <td>https://www.jobs.ch/en/vacancies/detail/426c95...</td>\n",
       "      <td>Datenspezialist*in und Applikationsmanager*in</td>\n",
       "      <td>Last week</td>\n",
       "      <td>Zürich</td>\n",
       "      <td>80 – 100%</td>\n",
       "      <td>Unlimited employment</td>\n",
       "      <td>Stadt Zürich – Amt für Hochbauten</td>\n",
       "    </tr>\n",
       "  </tbody>\n",
       "</table>\n",
       "</div>"
      ],
      "text/plain": [
       "       profession                                                url  \\\n",
       "0  Data Scientist  https://www.jobs.ch/en/vacancies/detail/5106c5...   \n",
       "1  Data Scientist  https://www.jobs.ch/en/vacancies/detail/25d826...   \n",
       "2  Data Scientist  https://www.jobs.ch/en/vacancies/detail/d5063a...   \n",
       "3  Data Scientist  https://www.jobs.ch/en/vacancies/detail/638350...   \n",
       "4  Data Scientist  https://www.jobs.ch/en/vacancies/detail/426c95...   \n",
       "\n",
       "                                               title publish_date  \\\n",
       "0                    (Senior) Data Platform Engineer  2 weeks ago   \n",
       "1  Fachexperte:in Planung und Steuerung (Datenman...    Last week   \n",
       "2  Pricing & Data Analyst (m/w/d) Marketing & Sal...    Yesterday   \n",
       "3  (Senior) Data Science & Data Analytics Consult...   Last month   \n",
       "4      Datenspezialist*in und Applikationsmanager*in    Last week   \n",
       "\n",
       "                            location   workload       employment_type  \\\n",
       "0     Pfingstweidstrasse 60b, Zürich  80 – 100%  Unlimited employment   \n",
       "1  Region Bern Mittelland (BE/SO/AG)  60 – 100%  Unlimited employment   \n",
       "2                         Reinach BL        50%  Unlimited employment   \n",
       "3                             Zürich  60 – 100%  Unlimited employment   \n",
       "4                             Zürich  80 – 100%  Unlimited employment   \n",
       "\n",
       "                             company  \n",
       "0                 Digitec Galaxus AG  \n",
       "1                        SBB CFF FFS  \n",
       "2           Montagetechnik BERNER AG  \n",
       "3             Eraneos Switzerland AG  \n",
       "4  Stadt Zürich – Amt für Hochbauten  "
      ]
     },
     "execution_count": 16,
     "metadata": {},
     "output_type": "execute_result"
    }
   ],
   "source": [
    "df.head()"
   ]
  },
  {
   "cell_type": "markdown",
   "metadata": {},
   "source": [
    "---\n",
    "1.2. Using the information obtained, perform a descriptive analysis on this data including questions:\n"
   ]
  },
  {
   "cell_type": "markdown",
   "metadata": {},
   "source": [
    "---\n",
    "- Are there some companies doing more hires than average?"
   ]
  },
  {
   "cell_type": "code",
   "execution_count": 6,
   "metadata": {},
   "outputs": [
    {
     "data": {
      "text/plain": [
       "'/en/vacancies/detail/ee7617a1-bde1-47b4-9a2f-8dd864eb0258/?source=vacancy_search'"
      ]
     },
     "execution_count": 6,
     "metadata": {},
     "output_type": "execute_result"
    }
   ],
   "source": [
    "df.sort_values('company').iloc[0]['url']"
   ]
  },
  {
   "cell_type": "code",
   "execution_count": 17,
   "metadata": {},
   "outputs": [
    {
     "name": "stdout",
     "output_type": "stream",
     "text": [
      "1161\n"
     ]
    },
    {
     "data": {
      "text/html": [
       "<div>\n",
       "<style scoped>\n",
       "    .dataframe tbody tr th:only-of-type {\n",
       "        vertical-align: middle;\n",
       "    }\n",
       "\n",
       "    .dataframe tbody tr th {\n",
       "        vertical-align: top;\n",
       "    }\n",
       "\n",
       "    .dataframe thead th {\n",
       "        text-align: right;\n",
       "    }\n",
       "</style>\n",
       "<table border=\"1\" class=\"dataframe\">\n",
       "  <thead>\n",
       "    <tr style=\"text-align: right;\">\n",
       "      <th></th>\n",
       "      <th>company</th>\n",
       "      <th>job_postings</th>\n",
       "    </tr>\n",
       "  </thead>\n",
       "  <tbody>\n",
       "    <tr>\n",
       "      <th>0</th>\n",
       "      <td>Akros AG</td>\n",
       "      <td>43</td>\n",
       "    </tr>\n",
       "    <tr>\n",
       "      <th>1</th>\n",
       "      <td>MSC Cruises SA</td>\n",
       "      <td>43</td>\n",
       "    </tr>\n",
       "    <tr>\n",
       "      <th>2</th>\n",
       "      <td>Deloitte AG</td>\n",
       "      <td>40</td>\n",
       "    </tr>\n",
       "    <tr>\n",
       "      <th>3</th>\n",
       "      <td>Accenture</td>\n",
       "      <td>35</td>\n",
       "    </tr>\n",
       "    <tr>\n",
       "      <th>4</th>\n",
       "      <td>ETH Zürich</td>\n",
       "      <td>30</td>\n",
       "    </tr>\n",
       "    <tr>\n",
       "      <th>5</th>\n",
       "      <td>Eraneos Switzerland AG</td>\n",
       "      <td>30</td>\n",
       "    </tr>\n",
       "    <tr>\n",
       "      <th>6</th>\n",
       "      <td>ti&amp;m AG</td>\n",
       "      <td>28</td>\n",
       "    </tr>\n",
       "    <tr>\n",
       "      <th>7</th>\n",
       "      <td>Ernst &amp; Young AG</td>\n",
       "      <td>27</td>\n",
       "    </tr>\n",
       "    <tr>\n",
       "      <th>8</th>\n",
       "      <td>Kurath Engineering AG</td>\n",
       "      <td>25</td>\n",
       "    </tr>\n",
       "    <tr>\n",
       "      <th>9</th>\n",
       "      <td>Digitec Galaxus AG</td>\n",
       "      <td>23</td>\n",
       "    </tr>\n",
       "  </tbody>\n",
       "</table>\n",
       "</div>"
      ],
      "text/plain": [
       "                  company job_postings\n",
       "0                Akros AG           43\n",
       "1          MSC Cruises SA           43\n",
       "2             Deloitte AG           40\n",
       "3               Accenture           35\n",
       "4              ETH Zürich           30\n",
       "5  Eraneos Switzerland AG           30\n",
       "6                 ti&m AG           28\n",
       "7        Ernst & Young AG           27\n",
       "8   Kurath Engineering AG           25\n",
       "9      Digitec Galaxus AG           23"
      ]
     },
     "execution_count": 17,
     "metadata": {},
     "output_type": "execute_result"
    }
   ],
   "source": [
    "companies_hiring = pd.DataFrame(columns=[\"company\", \"job_postings\"])\n",
    "\n",
    "companies_hiring = pd.concat(\n",
    "    [companies_hiring, df[df['company']!=''].groupby(\"company\").agg(job_postings=(\"url\", \"count\")).reset_index()]\n",
    ")\n",
    "\n",
    "companies_hiring = companies_hiring.sort_values(by=\"job_postings\", ascending=False)\n",
    "companies_hiring = companies_hiring.drop_duplicates(subset=[\"company\"]).reset_index(drop=True)\n",
    "\n",
    "print(len(companies_hiring))\n",
    "companies_hiring.head(10)"
   ]
  },
  {
   "cell_type": "code",
   "execution_count": 18,
   "metadata": {},
   "outputs": [
    {
     "data": {
      "image/png": "[encoded data removed]",
      "text/plain": [
       "<Figure size 640x480 with 1 Axes>"
      ]
     },
     "metadata": {},
     "output_type": "display_data"
    }
   ],
   "source": [
    "import matplotlib.pyplot as plt\n",
    "\n",
    "companies_hiring.head(10).plot(x=\"company\", y=\"job_postings\", kind=\"bar\")\n",
    "plt.title(\"10 companies that hire the most in Switzerland:\")\n",
    "plt.xlabel(\"\")\n",
    "plt.ylabel(\"Number of job-offers\")\n",
    "plt.legend([])\n",
    "plt.show()"
   ]
  },
  {
   "cell_type": "markdown",
   "metadata": {},
   "source": [
    "---\n",
    "- How many jobs are there in different Kantons?"
   ]
  },
  {
   "cell_type": "code",
   "execution_count": 9,
   "metadata": {},
   "outputs": [],
   "source": [
    "df.to_csv('swiss_job_postings.csv', index = None)"
   ]
  },
  {
   "cell_type": "code",
   "execution_count": null,
   "metadata": {},
   "outputs": [
    {
     "name": "stdout",
     "output_type": "stream",
     "text": [
      "Requirement already satisfied: pgeocode in c:\\users\\constructor academy\\anaconda3\\envs\\constructor\\lib\\site-packages (0.5.0)\n",
      "Requirement already satisfied: requests in c:\\users\\constructor academy\\anaconda3\\envs\\constructor\\lib\\site-packages (from pgeocode) (2.32.3)\n",
      "Requirement already satisfied: numpy in c:\\users\\constructor academy\\anaconda3\\envs\\constructor\\lib\\site-packages (from pgeocode) (1.26.4)\n",
      "Requirement already satisfied: pandas in c:\\users\\constructor academy\\anaconda3\\envs\\constructor\\lib\\site-packages (from pgeocode) (2.2.2)\n",
      "Requirement already satisfied: python-dateutil>=2.8.2 in c:\\users\\constructor academy\\anaconda3\\envs\\constructor\\lib\\site-packages (from pandas->pgeocode) (2.9.0)\n",
      "Requirement already satisfied: pytz>=2020.1 in c:\\users\\constructor academy\\anaconda3\\envs\\constructor\\lib\\site-packages (from pandas->pgeocode) (2024.1)\n",
      "Requirement already satisfied: tzdata>=2022.7 in c:\\users\\constructor academy\\anaconda3\\envs\\constructor\\lib\\site-packages (from pandas->pgeocode) (2023.3)\n",
      "Requirement already satisfied: charset-normalizer<4,>=2 in c:\\users\\constructor academy\\anaconda3\\envs\\constructor\\lib\\site-packages (from requests->pgeocode) (3.3.2)\n",
      "Requirement already satisfied: idna<4,>=2.5 in c:\\users\\constructor academy\\anaconda3\\envs\\constructor\\lib\\site-packages (from requests->pgeocode) (3.7)\n",
      "Requirement already satisfied: urllib3<3,>=1.21.1 in c:\\users\\constructor academy\\anaconda3\\envs\\constructor\\lib\\site-packages (from requests->pgeocode) (2.2.3)\n",
      "Requirement already satisfied: certifi>=2017.4.17 in c:\\users\\constructor academy\\anaconda3\\envs\\constructor\\lib\\site-packages (from requests->pgeocode) (2024.8.30)\n",
      "Requirement already satisfied: six>=1.5 in c:\\users\\constructor academy\\anaconda3\\envs\\constructor\\lib\\site-packages (from python-dateutil>=2.8.2->pandas->pgeocode) (1.16.0)\n"
     ]
    }
   ],
   "source": [
    "!pip install pgeocode"
   ]
  },
  {
   "cell_type": "code",
   "execution_count": 20,
   "metadata": {},
   "outputs": [],
   "source": [
    "import pgeocode\n",
    "pgeocode_nomi = pgeocode.Nominatim('ch')\n",
    "switzerland = pgeocode_nomi._data_frame\n",
    "cantons = switzerland.state_name.unique()"
   ]
  },
  {
   "cell_type": "code",
   "execution_count": 12,
   "metadata": {},
   "outputs": [
    {
     "data": {
      "text/plain": [
       "array(['Canton de Vaud', 'Genève', 'Canton de Fribourg',\n",
       "       'Canton de Berne', 'Canton du Valais', 'Neuchâtel', 'Jura',\n",
       "       'Kanton Solothurn', 'Kanton Basel-Landschaft',\n",
       "       'Kanton Basel-Stadt', 'Kanton Aargau', 'Kanton Luzern',\n",
       "       'Kanton Nidwalden', 'Kanton Obwalden', 'Kanton Zug', 'Kanton Uri',\n",
       "       'Kanton Schwyz', 'Ticino', 'Kanton Graubünden',\n",
       "       'Kanton St. Gallen', 'Kanton Zürich', 'Kanton Schaffhausen',\n",
       "       'Kanton Thurgau', 'Kanton Glarus', 'Kanton Appenzell Ausserrhoden',\n",
       "       'Kanton Appenzell Innerrhoden'], dtype=object)"
      ]
     },
     "execution_count": 12,
     "metadata": {},
     "output_type": "execute_result"
    }
   ],
   "source": [
    "cantons"
   ]
  },
  {
   "cell_type": "code",
   "execution_count": 21,
   "metadata": {},
   "outputs": [],
   "source": [
    "def get_canton_name(x):\n",
    "    # Normalize input\n",
    "    x_clean = re.sub(r\"[^\\w\\s]\", \"\", x).strip()\n",
    "    x_lower = x_clean.lower()\n",
    "\n",
    "    # Check directly against known canton names\n",
    "    for canton in cantons:\n",
    "        if x_lower in canton.lower():\n",
    "            return canton\n",
    "\n",
    "    # Attempt to resolve location through postal code or city name\n",
    "    try:\n",
    "        query = re.sub(r'\\D', '', x_clean)\n",
    "        if len(query) == 4:  # Swiss postal codes are 4 digits\n",
    "            postal_result = pgeocode_nomi.query_postal_code(query)\n",
    "            if postal_result is not None and not postal_result.empty:\n",
    "                return postal_result[\"state_name\"].values[0]\n",
    "        # Resolve based on city name\n",
    "        city_result = pgeocode_nomi.query_location(x_clean)\n",
    "        if city_result is not None and not city_result.empty:\n",
    "            return city_result[\"state_name\"].values[0]\n",
    "    except:\n",
    "        return None  # Return None if all lookups fail"
   ]
  },
  {
   "cell_type": "code",
   "execution_count": 22,
   "metadata": {},
   "outputs": [
    {
     "name": "stdout",
     "output_type": "stream",
     "text": [
      "                    canton  job_postings\n",
      "0            Kanton Zürich           992\n",
      "1          Canton de Berne           382\n",
      "2  Kanton Basel-Landschaft           278\n",
      "3            Kanton Aargau           246\n",
      "4           Canton de Vaud           218\n",
      "5            Kanton Luzern           130\n",
      "6        Kanton St. Gallen           114\n",
      "7               Kanton Zug            70\n",
      "8                   Ticino            66\n",
      "9         Kanton Solothurn            65\n"
     ]
    }
   ],
   "source": [
    "# Apply function and aggregate data\n",
    "df['canton'] = df['location'].apply(get_canton_name)\n",
    "df_cantons = df.groupby(\"canton\").agg(job_postings=pd.NamedAgg(column=\"url\", aggfunc=\"count\")).reset_index()\n",
    "df_cantons = df_cantons.sort_values(by=\"job_postings\", ascending=False).reset_index(drop=True)\n",
    "\n",
    "# Display the top 10 cantons with most job postings\n",
    "print(df_cantons.head(10))"
   ]
  },
  {
   "cell_type": "code",
   "execution_count": 23,
   "metadata": {},
   "outputs": [
    {
     "data": {
      "image/png": "[encoded data removed]",
      "text/plain": [
       "<Figure size 1000x800 with 1 Axes>"
      ]
     },
     "metadata": {},
     "output_type": "display_data"
    }
   ],
   "source": [
    "top_cantons = df_cantons.head(10)\n",
    "\n",
    "plt.figure(figsize=(10, 8))\n",
    "plt.barh(top_cantons['canton'], top_cantons['job_postings'], color='skyblue')\n",
    "plt.title(\"10 Cantons that hire the most in Switzerland:\")\n",
    "plt.xlabel(\"Number of job-offers\")\n",
    "plt.ylabel(\"\")  \n",
    "plt.xticks(rotation=45)  \n",
    "plt.gca().invert_yaxis()\n",
    "plt.show()"
   ]
  }
 ],
 "metadata": {
  "kernelspec": {
   "display_name": "constructor",
   "language": "python",
   "name": "python3"
  },
  "language_info": {
   "codemirror_mode": {
    "name": "ipython",
    "version": 3
   },
   "file_extension": ".py",
   "mimetype": "text/x-python",
   "name": "python",
   "nbconvert_exporter": "python",
   "pygments_lexer": "ipython3",
   "version": "3.10.15"
  }
 },
 "nbformat": 4,
 "nbformat_minor": 4
}
