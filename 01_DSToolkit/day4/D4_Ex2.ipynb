{
 "cells": [
  {
   "cell_type": "markdown",
   "id": "79742c6b",
   "metadata": {},
   "source": [
    "# Custom Scraper"
   ]
  },
  {
   "cell_type": "markdown",
   "id": "cf4a9853",
   "metadata": {},
   "source": [
    "You are free to scrape any website of your choice. The only constraint is that you should have fun while doing it! Pick an interesting site to scrape and analyze its content. Let us know what you find!"
   ]
  },
  {
   "cell_type": "markdown",
   "id": "8934de54",
   "metadata": {},
   "source": [
    "## Google scholar\n",
    "#### Google scholar is a common platform to scrap literature data at preliminary stage, including getting an initial idea of whether the topic is prominent in the field (i.e., the total no. of literatures), the current trend (i.e., the trend of publications) etc. \n",
    "Here I will try to get these information from the current research landscape of \"chatgpt\". I included only review articles."
   ]
  },
  {
   "cell_type": "markdown",
   "id": "c1cf2d6e",
   "metadata": {},
   "source": [
    "1.1. Download all necessary information"
   ]
  },
  {
   "cell_type": "code",
   "execution_count": 2,
   "id": "96ae02ab",
   "metadata": {},
   "outputs": [],
   "source": [
    "# import libraries\n",
    "import requests\n",
    "from bs4 import BeautifulSoup\n",
    "import pandas as pd"
   ]
  },
  {
   "cell_type": "code",
   "execution_count": 3,
   "id": "b6098441",
   "metadata": {},
   "outputs": [],
   "source": [
    "search_kw = 'chatgpt'\n",
    "search_kw_html = search_kw.replace(\" \", \"+\")"
   ]
  },
  {
   "cell_type": "code",
   "execution_count": null,
   "id": "782e42e7",
   "metadata": {},
   "outputs": [],
   "source": [
    "# <!----> is an HTML comment placeholder (often used in frameworks like Vue or Angular), but BeautifulSoup skips empty comment tags, so .get_text() still returns the inner visible content.\n"
   ]
  },
  {
   "cell_type": "markdown",
   "id": "94233e3c",
   "metadata": {},
   "source": [
    "I am interested in the name of first_author (to see if a, and which, person or research group is dominating), the date, title, journal, popularity (cited by), and accessible hyperlink."
   ]
  },
  {
   "cell_type": "code",
   "execution_count": 4,
   "id": "fefa1805",
   "metadata": {},
   "outputs": [],
   "source": [
    "# parsing\n",
    "headers = {\n",
    "    \"User-Agent\": \"Mozilla/5.0 (Windows NT 10.0; Win64; x64) AppleWebKit/537.36 (KHTML, like Gecko) Chrome/109.0.0.0 Safari/537.36\"\n",
    "}"
   ]
  },
  {
   "cell_type": "code",
   "execution_count": 76,
   "id": "61922c48",
   "metadata": {},
   "outputs": [],
   "source": [
    "# try\n",
    "# start_no='10'\n",
    "# url = f\"https://scholar.google.com/scholar?start={start_no}&q=%22chatgpt%22&hl=en&as_sdt=0,5&as_rr=1\"\n",
    "# print(url)\n",
    "# url = f\"https://scholar.google.com/scholar?q=%22chatgpt%22&hl=en&as_sdt=0,5&as_rr=1\"\n",
    "\n",
    "url = 'https://scholar.google.com/scholar?start=10&q=%22chatgpt%22+%22human+connection%22&hl=en&as_sdt=0,5&as_rr=1'\n",
    "\n",
    "page = requests.get(url, headers=headers, timeout=2)    # order soup\n",
    "soup = BeautifulSoup(page.content, \"html.parser\")       # cooking soup\n"
   ]
  },
  {
   "cell_type": "code",
   "execution_count": 77,
   "id": "72045552",
   "metadata": {},
   "outputs": [
    {
     "data": {
      "text/plain": [
       "<Response [200]>"
      ]
     },
     "execution_count": 77,
     "metadata": {},
     "output_type": "execute_result"
    }
   ],
   "source": [
    "page"
   ]
  },
  {
   "cell_type": "code",
   "execution_count": null,
   "id": "f5fe6c38",
   "metadata": {},
   "outputs": [
    {
     "data": {
      "text/plain": [
       "<Response [429]>"
      ]
     },
     "execution_count": 5,
     "metadata": {},
     "output_type": "execute_result"
    }
   ],
   "source": [
    "# page # too many requests sent, see https://www.rfc-editor.org/rfc/rfc6585#page-3\n",
    "\n",
    "# should adjust to 50 requests per hour -> sleep accordingly."
   ]
  },
  {
   "cell_type": "code",
   "execution_count": 8,
   "id": "922bba05",
   "metadata": {},
   "outputs": [
    {
     "name": "stdout",
     "output_type": "stream",
     "text": [
      "10\n"
     ]
    },
    {
     "data": {
      "text/plain": [
       "'A Conversation with ChatGPT: Philosophy, Critical Thinking, and Higher Education'"
      ]
     },
     "execution_count": 8,
     "metadata": {},
     "output_type": "execute_result"
    }
   ],
   "source": [
    "# find title\n",
    "title = soup.find_all('h3', {'class': 'gs_rt'})  # scoping soup\n",
    "print(len(title))\n",
    "title[0].find('a').get_text()"
   ]
  },
  {
   "cell_type": "code",
   "execution_count": 11,
   "id": "a1d1d8e5",
   "metadata": {},
   "outputs": [
    {
     "data": {
      "text/plain": [
       "'https://dergipark.org.tr/en/pub/jai/issue/87787/1498257'"
      ]
     },
     "execution_count": 11,
     "metadata": {},
     "output_type": "execute_result"
    }
   ],
   "source": [
    "# find link\n",
    "title[0].find('a')['href']"
   ]
  },
  {
   "cell_type": "code",
   "execution_count": 12,
   "id": "962e5627",
   "metadata": {},
   "outputs": [
    {
     "data": {
      "text/plain": [
       "10"
      ]
     },
     "execution_count": 12,
     "metadata": {},
     "output_type": "execute_result"
    }
   ],
   "source": [
    "author = soup.find_all('div', {'class':\"gs_a\"})\n",
    "len(author)\n",
    "# author[0].get_text()\n",
    "# author[1].find('a').get_text()"
   ]
  },
  {
   "cell_type": "code",
   "execution_count": 27,
   "id": "d874f1ad",
   "metadata": {},
   "outputs": [
    {
     "data": {
      "text/plain": [
       "['I Baruwa',\n",
       " 'B Pani',\n",
       " 'J Dron',\n",
       " 'P Arjanto',\n",
       " 'TTJE Arets',\n",
       " 'LH Al-Obaydi',\n",
       " 'A CHALKE',\n",
       " 'H Ahmari Tehran',\n",
       " 'Vİ Kavak',\n",
       " 'SR Shihab']"
      ]
     },
     "execution_count": 27,
     "metadata": {},
     "output_type": "execute_result"
    }
   ],
   "source": [
    "[author[i].get_text().split('\\xa0-')[0].split(', ')[0] for i in range(10)]\n"
   ]
  },
  {
   "cell_type": "code",
   "execution_count": 28,
   "id": "d753e88d",
   "metadata": {},
   "outputs": [
    {
     "data": {
      "text/plain": [
       "['2024']"
      ]
     },
     "execution_count": 28,
     "metadata": {},
     "output_type": "execute_result"
    }
   ],
   "source": [
    "# find date - year\n",
    "import re       # package to extract no. from a string  \n",
    "\n",
    "date = soup.find_all('div', {'class': 'gs_a'})\n",
    "date[1].get_text(strip=True)\n",
    "re.findall(r'\\d+', date[1].get_text(strip=True))    # output a list\n",
    "# for i in range(10):\n",
    "#     print(date[i].get_text(strip=True).split()[-3])"
   ]
  },
  {
   "cell_type": "code",
   "execution_count": 88,
   "id": "3097882b",
   "metadata": {},
   "outputs": [],
   "source": [
    "# find journal\n",
    "# j = soup.find_all('div', {'class': 'gs_a'})\n",
    "\n",
    "# j[3].get_text().split(\"\\xa0\")[1].split('- ')[1]\n",
    "\n",
    "# j[5].get_text().split(\"\\xa0-\")[1].split(',')[0].strip()\n",
    "\n",
    "# journal too complicated; leave it."
   ]
  },
  {
   "cell_type": "code",
   "execution_count": 55,
   "id": "a0323755",
   "metadata": {},
   "outputs": [
    {
     "name": "stdout",
     "output_type": "stream",
     "text": [
      "['2', '39', '23', 'View', 'All', 'All', 'All', 'All', '15', '47']\n"
     ]
    },
    {
     "data": {
      "text/plain": [
       "[True, True, True, False, False, False, False, False, True, True]"
      ]
     },
     "execution_count": 55,
     "metadata": {},
     "output_type": "execute_result"
    }
   ],
   "source": [
    "# find cited by\n",
    "cb = soup.find_all('div', {'class': 'gs_fl gs_flb'})\n",
    "\n",
    "print([cb[i].get_text().split()[4] for i in range(10)])\n",
    "[cb[i].get_text().split()[4].isdigit() for i in range(10)]"
   ]
  },
  {
   "cell_type": "code",
   "execution_count": null,
   "id": "ad7d158c",
   "metadata": {},
   "outputs": [
    {
     "data": {
      "text/plain": [
       "False"
      ]
     },
     "execution_count": 42,
     "metadata": {},
     "output_type": "execute_result"
    }
   ],
   "source": [
    "for i in range(10):\n",
    "    if cb[i].get_text().split()[4].isdigit() == False:\n",
    "        out = None\n",
    "    else: \n",
    "        out = cb[i].get_text().split()[4]"
   ]
  },
  {
   "cell_type": "code",
   "execution_count": 56,
   "id": "b8335a9a",
   "metadata": {},
   "outputs": [
    {
     "data": {
      "text/plain": [
       "['2024',\n",
       " '2024',\n",
       " '2023',\n",
       " '2026',\n",
       " '2025',\n",
       " '2025',\n",
       " '2025',\n",
       " '2025',\n",
       " '2024',\n",
       " '2023']"
      ]
     },
     "execution_count": 56,
     "metadata": {},
     "output_type": "execute_result"
    }
   ],
   "source": [
    "# find date\n",
    "\n",
    "date = soup.find_all('div', {'class': 'gs_a'})\n",
    "# date_out = []\n",
    "# for i in range(10):\n",
    "    # date[i].get_text(strip=True)\n",
    "date_out = [date[i].get_text(strip=True).split(\", \")[-1].split(\" - \")[0] for i in range(10)]\n",
    "date_out"
   ]
  },
  {
   "cell_type": "code",
   "execution_count": 78,
   "id": "7c561f6d",
   "metadata": {},
   "outputs": [
    {
     "name": "stdout",
     "output_type": "stream",
     "text": [
      "['MN Sakib', 'J Dempere', 'S Biswas', 'GG Genelza', 'S Murtiningsih', 'A Adel', 'P Choudhary', 'M Alawida', 'F Vahedifard', 'O Albaloul']\n",
      "['The ChatGPT and the future of HR: A critical review on the benefits and challenges of Al chatbots in human resource management', 'The impact of ChatGPT on higher education', 'ChatGPT and the future of journal reviews: a feasibility study', 'Unlocking the opportunities and challenges of using ChatGPT tools for educational services: A narrative literature review', 'Challenges of using ChatGPT in education: A digital pedagogy analysis', 'ChatGPT promises and challenges in education: Computational and ethical perspectives', 'Enhancing training by incorporating ChatGPT in learning modules: an exploration of benefits, challenges, and best practices', 'A comprehensive study of ChatGPT: Advancements, limitations, and ethical considerations in natural language processing and cybersecurity', 'Practical use of ChatGPT in psychiatry for treatment plan and psychoeducation', 'Unlocking educational potential: How physical education teachers can thoughtfully benefit from using ChatGPT for planning, instruction, and assessment']\n",
      "['2024', '2023', '2023', '2024', '2024', '2024', '2024', '2023', '2023', '2024']\n",
      "['2', '39', '23', '0', '0', '0', '0', '0', '15', '47']\n",
      "['https://www.malque.pub/ojs/index.php/mr/article/view/2157', 'https://www.frontiersin.org/journals/education/articles/10.3389/feduc.2023.1206936/full', 'https://pmc.ncbi.nlm.nih.gov/articles/PMC10524821/', 'https://www.ajol.info/index.php/jet/article/view/280084', 'https://www.academia.edu/download/122314366/66_29467.pdf', 'https://www.mdpi.com/2227-7102/14/8/814', 'https://www.researchgate.net/profile/Prity-Choudhary-2/publication/386418769_Enhancing_Training_by_Incorporating_ChatGPT_in_Learning_Modules_An_Exploration_of_Benefits_Challenges_and_Best_Practices/links/675075a63d17281c7df95291/Enhancing-Training-by-Incorporating-ChatGPT-in-Learning-Modules-An-Exploration-of-Benefits-Challenges-and-Best-Practices.pdf', 'https://www.mdpi.com/2078-2489/14/8/462', 'https://arxiv.org/abs/2311.09131', 'https://www.tandfonline.com/doi/abs/10.1080/07303084.2024.2378776']\n"
     ]
    },
    {
     "data": {
      "text/plain": [
       "(10, 10, 10, 10, 10)"
      ]
     },
     "execution_count": 78,
     "metadata": {},
     "output_type": "execute_result"
    }
   ],
   "source": [
    "# try one page\n",
    "import re\n",
    "\n",
    "author = soup.find_all('div', {'class':\"gs_a\"})\n",
    "author_out = [author[i].get_text().split('\\xa0-')[0].split(', ')[0] for i in range(10)]\n",
    "print(author_out)\n",
    "\n",
    "title = soup.find_all('h3', {'class': 'gs_rt'}) \n",
    "title_out = [title[i].find('a').get_text() for i in range(10)]\n",
    "print(title_out)\n",
    "\n",
    "date = soup.find_all('div', {'class': 'gs_a'})\n",
    "date_out = [date[i].get_text(strip=True).split(\", \")[-1].split(\" - \")[0] for i in range(10)]\n",
    "print(date_out)\n",
    "\n",
    "# cited = soup.find_all('div', {'class': 'gs_fl gs_flb'})\n",
    "# cited_out = [cited[i].get_text().split()[4] for i in range(10)]\n",
    "# print(cited_out)\n",
    "\n",
    "cited_out = []\n",
    "for i in range(10):\n",
    "    if cb[i].get_text().split()[4].isdigit() == False:\n",
    "        cited_out.append('0')\n",
    "    else: \n",
    "        cited_out.append(cb[i].get_text().split()[4])\n",
    "print(cited_out)\n",
    "\n",
    "href_out = [title[i].find('a')['href'] for i in range(10)]\n",
    "print(href_out)\n",
    "\n",
    "len(author_out), len(title_out), len(date_out), len(cited_out), len(href_out)\n"
   ]
  },
  {
   "cell_type": "code",
   "execution_count": 73,
   "id": "709c5e42",
   "metadata": {},
   "outputs": [],
   "source": [
    "lit_df = pd.DataFrame(columns=['first_author', 'year', 'title', 'cited_by', 'link'])"
   ]
  },
  {
   "cell_type": "code",
   "execution_count": 74,
   "id": "7405c5db",
   "metadata": {},
   "outputs": [
    {
     "data": {
      "text/html": [
       "<div>\n",
       "<style scoped>\n",
       "    .dataframe tbody tr th:only-of-type {\n",
       "        vertical-align: middle;\n",
       "    }\n",
       "\n",
       "    .dataframe tbody tr th {\n",
       "        vertical-align: top;\n",
       "    }\n",
       "\n",
       "    .dataframe thead th {\n",
       "        text-align: right;\n",
       "    }\n",
       "</style>\n",
       "<table border=\"1\" class=\"dataframe\">\n",
       "  <thead>\n",
       "    <tr style=\"text-align: right;\">\n",
       "      <th></th>\n",
       "      <th>first_author</th>\n",
       "      <th>year</th>\n",
       "      <th>title</th>\n",
       "      <th>cited_by</th>\n",
       "      <th>link</th>\n",
       "    </tr>\n",
       "  </thead>\n",
       "  <tbody>\n",
       "    <tr>\n",
       "      <th>0</th>\n",
       "      <td>MN Sakib</td>\n",
       "      <td>2024</td>\n",
       "      <td>The ChatGPT and the future of HR: A critical r...</td>\n",
       "      <td>2</td>\n",
       "      <td>https://www.malque.pub/ojs/index.php/mr/articl...</td>\n",
       "    </tr>\n",
       "    <tr>\n",
       "      <th>1</th>\n",
       "      <td>J Dempere</td>\n",
       "      <td>2023</td>\n",
       "      <td>The impact of ChatGPT on higher education</td>\n",
       "      <td>39</td>\n",
       "      <td>https://www.frontiersin.org/journals/education...</td>\n",
       "    </tr>\n",
       "    <tr>\n",
       "      <th>2</th>\n",
       "      <td>S Biswas</td>\n",
       "      <td>2023</td>\n",
       "      <td>ChatGPT and the future of journal reviews: a f...</td>\n",
       "      <td>23</td>\n",
       "      <td>https://pmc.ncbi.nlm.nih.gov/articles/PMC10524...</td>\n",
       "    </tr>\n",
       "    <tr>\n",
       "      <th>3</th>\n",
       "      <td>GG Genelza</td>\n",
       "      <td>2024</td>\n",
       "      <td>Unlocking the opportunities and challenges of ...</td>\n",
       "      <td>0</td>\n",
       "      <td>https://www.ajol.info/index.php/jet/article/vi...</td>\n",
       "    </tr>\n",
       "    <tr>\n",
       "      <th>4</th>\n",
       "      <td>S Murtiningsih</td>\n",
       "      <td>2024</td>\n",
       "      <td>Challenges of using ChatGPT in education: A di...</td>\n",
       "      <td>0</td>\n",
       "      <td>https://www.academia.edu/download/122314366/66...</td>\n",
       "    </tr>\n",
       "    <tr>\n",
       "      <th>5</th>\n",
       "      <td>A Adel</td>\n",
       "      <td>2024</td>\n",
       "      <td>ChatGPT promises and challenges in education: ...</td>\n",
       "      <td>0</td>\n",
       "      <td>https://www.mdpi.com/2227-7102/14/8/814</td>\n",
       "    </tr>\n",
       "    <tr>\n",
       "      <th>6</th>\n",
       "      <td>P Choudhary</td>\n",
       "      <td>2024</td>\n",
       "      <td>Enhancing training by incorporating ChatGPT in...</td>\n",
       "      <td>0</td>\n",
       "      <td>https://www.researchgate.net/profile/Prity-Cho...</td>\n",
       "    </tr>\n",
       "    <tr>\n",
       "      <th>7</th>\n",
       "      <td>M Alawida</td>\n",
       "      <td>2023</td>\n",
       "      <td>A comprehensive study of ChatGPT: Advancements...</td>\n",
       "      <td>0</td>\n",
       "      <td>https://www.mdpi.com/2078-2489/14/8/462</td>\n",
       "    </tr>\n",
       "    <tr>\n",
       "      <th>8</th>\n",
       "      <td>F Vahedifard</td>\n",
       "      <td>2023</td>\n",
       "      <td>Practical use of ChatGPT in psychiatry for tre...</td>\n",
       "      <td>15</td>\n",
       "      <td>https://arxiv.org/abs/2311.09131</td>\n",
       "    </tr>\n",
       "    <tr>\n",
       "      <th>9</th>\n",
       "      <td>O Albaloul</td>\n",
       "      <td>2024</td>\n",
       "      <td>Unlocking educational potential: How physical ...</td>\n",
       "      <td>47</td>\n",
       "      <td>https://www.tandfonline.com/doi/abs/10.1080/07...</td>\n",
       "    </tr>\n",
       "  </tbody>\n",
       "</table>\n",
       "</div>"
      ],
      "text/plain": [
       "     first_author  year                                              title  \\\n",
       "0        MN Sakib  2024  The ChatGPT and the future of HR: A critical r...   \n",
       "1       J Dempere  2023          The impact of ChatGPT on higher education   \n",
       "2        S Biswas  2023  ChatGPT and the future of journal reviews: a f...   \n",
       "3      GG Genelza  2024  Unlocking the opportunities and challenges of ...   \n",
       "4  S Murtiningsih  2024  Challenges of using ChatGPT in education: A di...   \n",
       "5          A Adel  2024  ChatGPT promises and challenges in education: ...   \n",
       "6     P Choudhary  2024  Enhancing training by incorporating ChatGPT in...   \n",
       "7       M Alawida  2023  A comprehensive study of ChatGPT: Advancements...   \n",
       "8    F Vahedifard  2023  Practical use of ChatGPT in psychiatry for tre...   \n",
       "9      O Albaloul  2024  Unlocking educational potential: How physical ...   \n",
       "\n",
       "  cited_by                                               link  \n",
       "0        2  https://www.malque.pub/ojs/index.php/mr/articl...  \n",
       "1       39  https://www.frontiersin.org/journals/education...  \n",
       "2       23  https://pmc.ncbi.nlm.nih.gov/articles/PMC10524...  \n",
       "3        0  https://www.ajol.info/index.php/jet/article/vi...  \n",
       "4        0  https://www.academia.edu/download/122314366/66...  \n",
       "5        0            https://www.mdpi.com/2227-7102/14/8/814  \n",
       "6        0  https://www.researchgate.net/profile/Prity-Cho...  \n",
       "7        0            https://www.mdpi.com/2078-2489/14/8/462  \n",
       "8       15                   https://arxiv.org/abs/2311.09131  \n",
       "9       47  https://www.tandfonline.com/doi/abs/10.1080/07...  "
      ]
     },
     "execution_count": 74,
     "metadata": {},
     "output_type": "execute_result"
    }
   ],
   "source": [
    "lit_dict = {\n",
    "    \"first_author\": author_out,\n",
    "    \"year\": date_out,\n",
    "    \"title\": title_out,\n",
    "    \"cited_by\": cited_out,\n",
    "    \"link\": href_out\n",
    "}\n",
    "lit_df = pd.concat([lit_df, pd.DataFrame(lit_dict)], ignore_index=True)\n",
    "lit_df\n",
    "\n",
    "\n",
    "\n"
   ]
  },
  {
   "cell_type": "code",
   "execution_count": 75,
   "id": "1eb6d190",
   "metadata": {},
   "outputs": [
    {
     "data": {
      "text/html": [
       "<div>\n",
       "<style scoped>\n",
       "    .dataframe tbody tr th:only-of-type {\n",
       "        vertical-align: middle;\n",
       "    }\n",
       "\n",
       "    .dataframe tbody tr th {\n",
       "        vertical-align: top;\n",
       "    }\n",
       "\n",
       "    .dataframe thead th {\n",
       "        text-align: right;\n",
       "    }\n",
       "</style>\n",
       "<table border=\"1\" class=\"dataframe\">\n",
       "  <thead>\n",
       "    <tr style=\"text-align: right;\">\n",
       "      <th></th>\n",
       "      <th>first_author</th>\n",
       "      <th>year</th>\n",
       "      <th>title</th>\n",
       "      <th>cited_by</th>\n",
       "      <th>link</th>\n",
       "    </tr>\n",
       "  </thead>\n",
       "  <tbody>\n",
       "    <tr>\n",
       "      <th>0</th>\n",
       "      <td>MN Sakib</td>\n",
       "      <td>2024</td>\n",
       "      <td>The ChatGPT and the future of HR: A critical r...</td>\n",
       "      <td>2</td>\n",
       "      <td>https://www.malque.pub/ojs/index.php/mr/articl...</td>\n",
       "    </tr>\n",
       "    <tr>\n",
       "      <th>1</th>\n",
       "      <td>J Dempere</td>\n",
       "      <td>2023</td>\n",
       "      <td>The impact of ChatGPT on higher education</td>\n",
       "      <td>39</td>\n",
       "      <td>https://www.frontiersin.org/journals/education...</td>\n",
       "    </tr>\n",
       "    <tr>\n",
       "      <th>2</th>\n",
       "      <td>S Biswas</td>\n",
       "      <td>2023</td>\n",
       "      <td>ChatGPT and the future of journal reviews: a f...</td>\n",
       "      <td>23</td>\n",
       "      <td>https://pmc.ncbi.nlm.nih.gov/articles/PMC10524...</td>\n",
       "    </tr>\n",
       "    <tr>\n",
       "      <th>3</th>\n",
       "      <td>GG Genelza</td>\n",
       "      <td>2024</td>\n",
       "      <td>Unlocking the opportunities and challenges of ...</td>\n",
       "      <td>0</td>\n",
       "      <td>https://www.ajol.info/index.php/jet/article/vi...</td>\n",
       "    </tr>\n",
       "    <tr>\n",
       "      <th>4</th>\n",
       "      <td>S Murtiningsih</td>\n",
       "      <td>2024</td>\n",
       "      <td>Challenges of using ChatGPT in education: A di...</td>\n",
       "      <td>0</td>\n",
       "      <td>https://www.academia.edu/download/122314366/66...</td>\n",
       "    </tr>\n",
       "    <tr>\n",
       "      <th>5</th>\n",
       "      <td>A Adel</td>\n",
       "      <td>2024</td>\n",
       "      <td>ChatGPT promises and challenges in education: ...</td>\n",
       "      <td>0</td>\n",
       "      <td>https://www.mdpi.com/2227-7102/14/8/814</td>\n",
       "    </tr>\n",
       "    <tr>\n",
       "      <th>6</th>\n",
       "      <td>P Choudhary</td>\n",
       "      <td>2024</td>\n",
       "      <td>Enhancing training by incorporating ChatGPT in...</td>\n",
       "      <td>0</td>\n",
       "      <td>https://www.researchgate.net/profile/Prity-Cho...</td>\n",
       "    </tr>\n",
       "    <tr>\n",
       "      <th>7</th>\n",
       "      <td>M Alawida</td>\n",
       "      <td>2023</td>\n",
       "      <td>A comprehensive study of ChatGPT: Advancements...</td>\n",
       "      <td>0</td>\n",
       "      <td>https://www.mdpi.com/2078-2489/14/8/462</td>\n",
       "    </tr>\n",
       "    <tr>\n",
       "      <th>8</th>\n",
       "      <td>F Vahedifard</td>\n",
       "      <td>2023</td>\n",
       "      <td>Practical use of ChatGPT in psychiatry for tre...</td>\n",
       "      <td>15</td>\n",
       "      <td>https://arxiv.org/abs/2311.09131</td>\n",
       "    </tr>\n",
       "    <tr>\n",
       "      <th>9</th>\n",
       "      <td>O Albaloul</td>\n",
       "      <td>2024</td>\n",
       "      <td>Unlocking educational potential: How physical ...</td>\n",
       "      <td>47</td>\n",
       "      <td>https://www.tandfonline.com/doi/abs/10.1080/07...</td>\n",
       "    </tr>\n",
       "    <tr>\n",
       "      <th>10</th>\n",
       "      <td>MN Sakib</td>\n",
       "      <td>2024</td>\n",
       "      <td>The ChatGPT and the future of HR: A critical r...</td>\n",
       "      <td>2</td>\n",
       "      <td>https://www.malque.pub/ojs/index.php/mr/articl...</td>\n",
       "    </tr>\n",
       "    <tr>\n",
       "      <th>11</th>\n",
       "      <td>J Dempere</td>\n",
       "      <td>2023</td>\n",
       "      <td>The impact of ChatGPT on higher education</td>\n",
       "      <td>39</td>\n",
       "      <td>https://www.frontiersin.org/journals/education...</td>\n",
       "    </tr>\n",
       "    <tr>\n",
       "      <th>12</th>\n",
       "      <td>S Biswas</td>\n",
       "      <td>2023</td>\n",
       "      <td>ChatGPT and the future of journal reviews: a f...</td>\n",
       "      <td>23</td>\n",
       "      <td>https://pmc.ncbi.nlm.nih.gov/articles/PMC10524...</td>\n",
       "    </tr>\n",
       "    <tr>\n",
       "      <th>13</th>\n",
       "      <td>GG Genelza</td>\n",
       "      <td>2024</td>\n",
       "      <td>Unlocking the opportunities and challenges of ...</td>\n",
       "      <td>0</td>\n",
       "      <td>https://www.ajol.info/index.php/jet/article/vi...</td>\n",
       "    </tr>\n",
       "    <tr>\n",
       "      <th>14</th>\n",
       "      <td>S Murtiningsih</td>\n",
       "      <td>2024</td>\n",
       "      <td>Challenges of using ChatGPT in education: A di...</td>\n",
       "      <td>0</td>\n",
       "      <td>https://www.academia.edu/download/122314366/66...</td>\n",
       "    </tr>\n",
       "    <tr>\n",
       "      <th>15</th>\n",
       "      <td>A Adel</td>\n",
       "      <td>2024</td>\n",
       "      <td>ChatGPT promises and challenges in education: ...</td>\n",
       "      <td>0</td>\n",
       "      <td>https://www.mdpi.com/2227-7102/14/8/814</td>\n",
       "    </tr>\n",
       "    <tr>\n",
       "      <th>16</th>\n",
       "      <td>P Choudhary</td>\n",
       "      <td>2024</td>\n",
       "      <td>Enhancing training by incorporating ChatGPT in...</td>\n",
       "      <td>0</td>\n",
       "      <td>https://www.researchgate.net/profile/Prity-Cho...</td>\n",
       "    </tr>\n",
       "    <tr>\n",
       "      <th>17</th>\n",
       "      <td>M Alawida</td>\n",
       "      <td>2023</td>\n",
       "      <td>A comprehensive study of ChatGPT: Advancements...</td>\n",
       "      <td>0</td>\n",
       "      <td>https://www.mdpi.com/2078-2489/14/8/462</td>\n",
       "    </tr>\n",
       "    <tr>\n",
       "      <th>18</th>\n",
       "      <td>F Vahedifard</td>\n",
       "      <td>2023</td>\n",
       "      <td>Practical use of ChatGPT in psychiatry for tre...</td>\n",
       "      <td>15</td>\n",
       "      <td>https://arxiv.org/abs/2311.09131</td>\n",
       "    </tr>\n",
       "    <tr>\n",
       "      <th>19</th>\n",
       "      <td>O Albaloul</td>\n",
       "      <td>2024</td>\n",
       "      <td>Unlocking educational potential: How physical ...</td>\n",
       "      <td>47</td>\n",
       "      <td>https://www.tandfonline.com/doi/abs/10.1080/07...</td>\n",
       "    </tr>\n",
       "  </tbody>\n",
       "</table>\n",
       "</div>"
      ],
      "text/plain": [
       "      first_author  year                                              title  \\\n",
       "0         MN Sakib  2024  The ChatGPT and the future of HR: A critical r...   \n",
       "1        J Dempere  2023          The impact of ChatGPT on higher education   \n",
       "2         S Biswas  2023  ChatGPT and the future of journal reviews: a f...   \n",
       "3       GG Genelza  2024  Unlocking the opportunities and challenges of ...   \n",
       "4   S Murtiningsih  2024  Challenges of using ChatGPT in education: A di...   \n",
       "5           A Adel  2024  ChatGPT promises and challenges in education: ...   \n",
       "6      P Choudhary  2024  Enhancing training by incorporating ChatGPT in...   \n",
       "7        M Alawida  2023  A comprehensive study of ChatGPT: Advancements...   \n",
       "8     F Vahedifard  2023  Practical use of ChatGPT in psychiatry for tre...   \n",
       "9       O Albaloul  2024  Unlocking educational potential: How physical ...   \n",
       "10        MN Sakib  2024  The ChatGPT and the future of HR: A critical r...   \n",
       "11       J Dempere  2023          The impact of ChatGPT on higher education   \n",
       "12        S Biswas  2023  ChatGPT and the future of journal reviews: a f...   \n",
       "13      GG Genelza  2024  Unlocking the opportunities and challenges of ...   \n",
       "14  S Murtiningsih  2024  Challenges of using ChatGPT in education: A di...   \n",
       "15          A Adel  2024  ChatGPT promises and challenges in education: ...   \n",
       "16     P Choudhary  2024  Enhancing training by incorporating ChatGPT in...   \n",
       "17       M Alawida  2023  A comprehensive study of ChatGPT: Advancements...   \n",
       "18    F Vahedifard  2023  Practical use of ChatGPT in psychiatry for tre...   \n",
       "19      O Albaloul  2024  Unlocking educational potential: How physical ...   \n",
       "\n",
       "   cited_by                                               link  \n",
       "0         2  https://www.malque.pub/ojs/index.php/mr/articl...  \n",
       "1        39  https://www.frontiersin.org/journals/education...  \n",
       "2        23  https://pmc.ncbi.nlm.nih.gov/articles/PMC10524...  \n",
       "3         0  https://www.ajol.info/index.php/jet/article/vi...  \n",
       "4         0  https://www.academia.edu/download/122314366/66...  \n",
       "5         0            https://www.mdpi.com/2227-7102/14/8/814  \n",
       "6         0  https://www.researchgate.net/profile/Prity-Cho...  \n",
       "7         0            https://www.mdpi.com/2078-2489/14/8/462  \n",
       "8        15                   https://arxiv.org/abs/2311.09131  \n",
       "9        47  https://www.tandfonline.com/doi/abs/10.1080/07...  \n",
       "10        2  https://www.malque.pub/ojs/index.php/mr/articl...  \n",
       "11       39  https://www.frontiersin.org/journals/education...  \n",
       "12       23  https://pmc.ncbi.nlm.nih.gov/articles/PMC10524...  \n",
       "13        0  https://www.ajol.info/index.php/jet/article/vi...  \n",
       "14        0  https://www.academia.edu/download/122314366/66...  \n",
       "15        0            https://www.mdpi.com/2227-7102/14/8/814  \n",
       "16        0  https://www.researchgate.net/profile/Prity-Cho...  \n",
       "17        0            https://www.mdpi.com/2078-2489/14/8/462  \n",
       "18       15                   https://arxiv.org/abs/2311.09131  \n",
       "19       47  https://www.tandfonline.com/doi/abs/10.1080/07...  "
      ]
     },
     "execution_count": 75,
     "metadata": {},
     "output_type": "execute_result"
    }
   ],
   "source": [
    "lit_df = pd.concat([lit_df, pd.DataFrame(lit_dict)], ignore_index=True)\n",
    "lit_df"
   ]
  },
  {
   "cell_type": "code",
   "execution_count": null,
   "id": "531a43f0",
   "metadata": {},
   "outputs": [
    {
     "ename": "AttributeError",
     "evalue": "'NoneType' object has no attribute 'get_text'",
     "output_type": "error",
     "traceback": [
      "\u001b[0;31m---------------------------------------------------------------------------\u001b[0m",
      "\u001b[0;31mAttributeError\u001b[0m                            Traceback (most recent call last)",
      "Cell \u001b[0;32mIn[81], line 27\u001b[0m\n\u001b[1;32m     24\u001b[0m author_out \u001b[38;5;241m=\u001b[39m [author[i]\u001b[38;5;241m.\u001b[39mget_text()\u001b[38;5;241m.\u001b[39msplit(\u001b[38;5;124m'\u001b[39m\u001b[38;5;130;01m\\xa0\u001b[39;00m\u001b[38;5;124m-\u001b[39m\u001b[38;5;124m'\u001b[39m)[\u001b[38;5;241m0\u001b[39m]\u001b[38;5;241m.\u001b[39msplit(\u001b[38;5;124m'\u001b[39m\u001b[38;5;124m, \u001b[39m\u001b[38;5;124m'\u001b[39m)[\u001b[38;5;241m0\u001b[39m] \u001b[38;5;28;01mfor\u001b[39;00m i \u001b[38;5;129;01min\u001b[39;00m \u001b[38;5;28mrange\u001b[39m(\u001b[38;5;241m10\u001b[39m)]\n\u001b[1;32m     26\u001b[0m title \u001b[38;5;241m=\u001b[39m soup\u001b[38;5;241m.\u001b[39mfind_all(\u001b[38;5;124m'\u001b[39m\u001b[38;5;124mh3\u001b[39m\u001b[38;5;124m'\u001b[39m, {\u001b[38;5;124m'\u001b[39m\u001b[38;5;124mclass\u001b[39m\u001b[38;5;124m'\u001b[39m: \u001b[38;5;124m'\u001b[39m\u001b[38;5;124mgs_rt\u001b[39m\u001b[38;5;124m'\u001b[39m}) \n\u001b[0;32m---> 27\u001b[0m title_out \u001b[38;5;241m=\u001b[39m [title[i]\u001b[38;5;241m.\u001b[39mfind(\u001b[38;5;124m'\u001b[39m\u001b[38;5;124ma\u001b[39m\u001b[38;5;124m'\u001b[39m)\u001b[38;5;241m.\u001b[39mget_text() \u001b[38;5;28;01mfor\u001b[39;00m i \u001b[38;5;129;01min\u001b[39;00m \u001b[38;5;28mrange\u001b[39m(\u001b[38;5;241m10\u001b[39m)]\n\u001b[1;32m     29\u001b[0m date \u001b[38;5;241m=\u001b[39m soup\u001b[38;5;241m.\u001b[39mfind_all(\u001b[38;5;124m'\u001b[39m\u001b[38;5;124mdiv\u001b[39m\u001b[38;5;124m'\u001b[39m, {\u001b[38;5;124m'\u001b[39m\u001b[38;5;124mclass\u001b[39m\u001b[38;5;124m'\u001b[39m: \u001b[38;5;124m'\u001b[39m\u001b[38;5;124mgs_a\u001b[39m\u001b[38;5;124m'\u001b[39m})\n\u001b[1;32m     30\u001b[0m date_out \u001b[38;5;241m=\u001b[39m [date[i]\u001b[38;5;241m.\u001b[39mget_text(strip\u001b[38;5;241m=\u001b[39m\u001b[38;5;28;01mTrue\u001b[39;00m)\u001b[38;5;241m.\u001b[39msplit(\u001b[38;5;124m\"\u001b[39m\u001b[38;5;124m, \u001b[39m\u001b[38;5;124m\"\u001b[39m)[\u001b[38;5;241m-\u001b[39m\u001b[38;5;241m1\u001b[39m]\u001b[38;5;241m.\u001b[39msplit(\u001b[38;5;124m\"\u001b[39m\u001b[38;5;124m - \u001b[39m\u001b[38;5;124m\"\u001b[39m)[\u001b[38;5;241m0\u001b[39m] \u001b[38;5;28;01mfor\u001b[39;00m i \u001b[38;5;129;01min\u001b[39;00m \u001b[38;5;28mrange\u001b[39m(\u001b[38;5;241m10\u001b[39m)]\n",
      "Cell \u001b[0;32mIn[81], line 27\u001b[0m, in \u001b[0;36m<listcomp>\u001b[0;34m(.0)\u001b[0m\n\u001b[1;32m     24\u001b[0m author_out \u001b[38;5;241m=\u001b[39m [author[i]\u001b[38;5;241m.\u001b[39mget_text()\u001b[38;5;241m.\u001b[39msplit(\u001b[38;5;124m'\u001b[39m\u001b[38;5;130;01m\\xa0\u001b[39;00m\u001b[38;5;124m-\u001b[39m\u001b[38;5;124m'\u001b[39m)[\u001b[38;5;241m0\u001b[39m]\u001b[38;5;241m.\u001b[39msplit(\u001b[38;5;124m'\u001b[39m\u001b[38;5;124m, \u001b[39m\u001b[38;5;124m'\u001b[39m)[\u001b[38;5;241m0\u001b[39m] \u001b[38;5;28;01mfor\u001b[39;00m i \u001b[38;5;129;01min\u001b[39;00m \u001b[38;5;28mrange\u001b[39m(\u001b[38;5;241m10\u001b[39m)]\n\u001b[1;32m     26\u001b[0m title \u001b[38;5;241m=\u001b[39m soup\u001b[38;5;241m.\u001b[39mfind_all(\u001b[38;5;124m'\u001b[39m\u001b[38;5;124mh3\u001b[39m\u001b[38;5;124m'\u001b[39m, {\u001b[38;5;124m'\u001b[39m\u001b[38;5;124mclass\u001b[39m\u001b[38;5;124m'\u001b[39m: \u001b[38;5;124m'\u001b[39m\u001b[38;5;124mgs_rt\u001b[39m\u001b[38;5;124m'\u001b[39m}) \n\u001b[0;32m---> 27\u001b[0m title_out \u001b[38;5;241m=\u001b[39m [\u001b[43mtitle\u001b[49m\u001b[43m[\u001b[49m\u001b[43mi\u001b[49m\u001b[43m]\u001b[49m\u001b[38;5;241;43m.\u001b[39;49m\u001b[43mfind\u001b[49m\u001b[43m(\u001b[49m\u001b[38;5;124;43m'\u001b[39;49m\u001b[38;5;124;43ma\u001b[39;49m\u001b[38;5;124;43m'\u001b[39;49m\u001b[43m)\u001b[49m\u001b[38;5;241;43m.\u001b[39;49m\u001b[43mget_text\u001b[49m() \u001b[38;5;28;01mfor\u001b[39;00m i \u001b[38;5;129;01min\u001b[39;00m \u001b[38;5;28mrange\u001b[39m(\u001b[38;5;241m10\u001b[39m)]\n\u001b[1;32m     29\u001b[0m date \u001b[38;5;241m=\u001b[39m soup\u001b[38;5;241m.\u001b[39mfind_all(\u001b[38;5;124m'\u001b[39m\u001b[38;5;124mdiv\u001b[39m\u001b[38;5;124m'\u001b[39m, {\u001b[38;5;124m'\u001b[39m\u001b[38;5;124mclass\u001b[39m\u001b[38;5;124m'\u001b[39m: \u001b[38;5;124m'\u001b[39m\u001b[38;5;124mgs_a\u001b[39m\u001b[38;5;124m'\u001b[39m})\n\u001b[1;32m     30\u001b[0m date_out \u001b[38;5;241m=\u001b[39m [date[i]\u001b[38;5;241m.\u001b[39mget_text(strip\u001b[38;5;241m=\u001b[39m\u001b[38;5;28;01mTrue\u001b[39;00m)\u001b[38;5;241m.\u001b[39msplit(\u001b[38;5;124m\"\u001b[39m\u001b[38;5;124m, \u001b[39m\u001b[38;5;124m\"\u001b[39m)[\u001b[38;5;241m-\u001b[39m\u001b[38;5;241m1\u001b[39m]\u001b[38;5;241m.\u001b[39msplit(\u001b[38;5;124m\"\u001b[39m\u001b[38;5;124m - \u001b[39m\u001b[38;5;124m\"\u001b[39m)[\u001b[38;5;241m0\u001b[39m] \u001b[38;5;28;01mfor\u001b[39;00m i \u001b[38;5;129;01min\u001b[39;00m \u001b[38;5;28mrange\u001b[39m(\u001b[38;5;241m10\u001b[39m)]\n",
      "\u001b[0;31mAttributeError\u001b[0m: 'NoneType' object has no attribute 'get_text'"
     ]
    }
   ],
   "source": [
    "# try multiple pages - a total of 22000 results are obtained. I used only the first 5000 results.\n",
    "# 10 results -> 1 page; 222 results = 22 pages\n",
    "\n",
    "import pandas as pd\n",
    "import numpy as np\n",
    "import time\n",
    "\n",
    "lit_df = pd.DataFrame(columns=['first_author', 'year', 'title', 'cited_by', 'link'])\n",
    "\n",
    "\n",
    "for n in range(0, 220, 10):\n",
    "    start_no = str(n)\n",
    "    url = f'https://scholar.google.com/scholar?start={start_no}&q=%22chatgpt%22+%22human+connection%22&hl=en&as_sdt=0,5&as_rr=1'\n",
    "    time.sleep(10)\n",
    "\n",
    "    try:\n",
    "        page = requests.get(url, headers=headers, timeout=10)\n",
    "    except TimeoutError:\n",
    "        page = requests.get(url, headers=headers, timeout=30)\n",
    "\n",
    "    soup = BeautifulSoup(page.content, \"html.parser\")\n",
    "    \n",
    "    for i in range(10):     # 10 articles in each page\n",
    "        try:\n",
    "            author = soup.find_all('div', {'class':\"gs_a\"})\n",
    "            author_out = author[i].get_text().split('\\xa0-')[0].split(', ')[0]\n",
    "        except AttributeError:\n",
    "            author_out = None\n",
    "\n",
    "        try:\n",
    "            date = soup.find_all('div', {'class': 'gs_a'})\n",
    "            date_out = date[i].get_text(strip=True).split(\", \")[-1].split(\" - \")[0]\n",
    "        except AttributeError:\n",
    "            date_out = None\n",
    "\n",
    "        try:\n",
    "            title = soup.find_all('h3', {'class': 'gs_rt'}) \n",
    "            title_out = title[i].find('a').get_text()\n",
    "        except AttributeError:\n",
    "            title_out = None\n",
    "        \n",
    "        # cited = soup.find_all('div', {'class': 'gs_fl gs_flb'})\n",
    "        # cited_out = [cited[i].get_text().split()[4] for i in range(10)]\n",
    "        try:\n",
    "            if cb[i].get_text().split()[4].isdigit() == False:\n",
    "                cited_out = None\n",
    "            else: \n",
    "                cited_out = cb[i].get_text().split()[4]\n",
    "        except AttributeError:\n",
    "            cited_out = None\n",
    "\n",
    "\n",
    "        href_out = title[i].find('a')['href']\n",
    "\n",
    "        lit_dict = {\n",
    "            \"first_author\": author_out,\n",
    "            \"year\": date_out,\n",
    "            \"title\": title_out,\n",
    "            \"cited_by\": cited_out,\n",
    "            \"link\": href_out\n",
    "        }\n",
    "\n",
    "        lit_df = pd.concat(\n",
    "            [lit_df, pd.DataFrame(lit_dict)], \n",
    "            ignore_index=True)      # keeping the index\n",
    "\n"
   ]
  },
  {
   "cell_type": "code",
   "execution_count": 80,
   "id": "686aebcf",
   "metadata": {},
   "outputs": [
    {
     "data": {
      "text/html": [
       "<div>\n",
       "<style scoped>\n",
       "    .dataframe tbody tr th:only-of-type {\n",
       "        vertical-align: middle;\n",
       "    }\n",
       "\n",
       "    .dataframe tbody tr th {\n",
       "        vertical-align: top;\n",
       "    }\n",
       "\n",
       "    .dataframe thead th {\n",
       "        text-align: right;\n",
       "    }\n",
       "</style>\n",
       "<table border=\"1\" class=\"dataframe\">\n",
       "  <thead>\n",
       "    <tr style=\"text-align: right;\">\n",
       "      <th></th>\n",
       "      <th>first_author</th>\n",
       "      <th>year</th>\n",
       "      <th>title</th>\n",
       "      <th>cited_by</th>\n",
       "      <th>link</th>\n",
       "    </tr>\n",
       "  </thead>\n",
       "  <tbody>\n",
       "    <tr>\n",
       "      <th>0</th>\n",
       "      <td>I Baruwa</td>\n",
       "      <td>2024</td>\n",
       "      <td>A Conversation with ChatGPT: Philosophy, Criti...</td>\n",
       "      <td>2</td>\n",
       "      <td>https://dergipark.org.tr/en/pub/jai/issue/8778...</td>\n",
       "    </tr>\n",
       "    <tr>\n",
       "      <th>1</th>\n",
       "      <td>B Pani</td>\n",
       "      <td>2024</td>\n",
       "      <td>Can generative artificial intelligence foster ...</td>\n",
       "      <td>39</td>\n",
       "      <td>https://link.springer.com/chapter/10.1007/978-...</td>\n",
       "    </tr>\n",
       "    <tr>\n",
       "      <th>2</th>\n",
       "      <td>J Dron</td>\n",
       "      <td>2023</td>\n",
       "      <td>The human nature of generative AIs and the tec...</td>\n",
       "      <td>23</td>\n",
       "      <td>https://www.mdpi.com/2673-6470/3/4/20</td>\n",
       "    </tr>\n",
       "    <tr>\n",
       "      <th>3</th>\n",
       "      <td>P Arjanto</td>\n",
       "      <td>2026</td>\n",
       "      <td>Augmenting Human Connection: A Systematic Revi...</td>\n",
       "      <td>0</td>\n",
       "      <td>https://e-journal.upr.ac.id/index.php/pdhp/art...</td>\n",
       "    </tr>\n",
       "    <tr>\n",
       "      <th>4</th>\n",
       "      <td>TTJE Arets</td>\n",
       "      <td>2025</td>\n",
       "      <td>The Role of Generative AI in Facilitating Soci...</td>\n",
       "      <td>0</td>\n",
       "      <td>https://arxiv.org/abs/2506.10927</td>\n",
       "    </tr>\n",
       "    <tr>\n",
       "      <th>5</th>\n",
       "      <td>LH Al-Obaydi</td>\n",
       "      <td>2025</td>\n",
       "      <td>Artificial intelligence addiction: exploring t...</td>\n",
       "      <td>0</td>\n",
       "      <td>https://link.springer.com/article/10.1007/s001...</td>\n",
       "    </tr>\n",
       "    <tr>\n",
       "      <th>6</th>\n",
       "      <td>A CHALKE</td>\n",
       "      <td>2025</td>\n",
       "      <td>BEYOND THE CODE: A REVIEW OF SOCIETAL CHALLENG...</td>\n",
       "      <td>0</td>\n",
       "      <td>https://qjssh.com/index.php/qjssh/article/view...</td>\n",
       "    </tr>\n",
       "    <tr>\n",
       "      <th>7</th>\n",
       "      <td>H Ahmari Tehran</td>\n",
       "      <td>2025</td>\n",
       "      <td>The Role of Artificial Intelligence in Support...</td>\n",
       "      <td>0</td>\n",
       "      <td>https://www.medicaleducation-bulletin.ir/artic...</td>\n",
       "    </tr>\n",
       "    <tr>\n",
       "      <th>8</th>\n",
       "      <td>Vİ Kavak</td>\n",
       "      <td>2024</td>\n",
       "      <td>The use of ChatGPT in language education</td>\n",
       "      <td>15</td>\n",
       "      <td>https://dergipark.org.tr/en/pub/eams/issue/838...</td>\n",
       "    </tr>\n",
       "    <tr>\n",
       "      <th>9</th>\n",
       "      <td>SR Shihab</td>\n",
       "      <td>2023</td>\n",
       "      <td>Revisiting the use of ChatGPT in business and ...</td>\n",
       "      <td>47</td>\n",
       "      <td>https://www.neliti.com/publications/592192/rev...</td>\n",
       "    </tr>\n",
       "    <tr>\n",
       "      <th>10</th>\n",
       "      <td>MN Sakib</td>\n",
       "      <td>2024</td>\n",
       "      <td>The ChatGPT and the future of HR: A critical r...</td>\n",
       "      <td>2</td>\n",
       "      <td>https://www.malque.pub/ojs/index.php/mr/articl...</td>\n",
       "    </tr>\n",
       "    <tr>\n",
       "      <th>11</th>\n",
       "      <td>J Dempere</td>\n",
       "      <td>2023</td>\n",
       "      <td>The impact of ChatGPT on higher education</td>\n",
       "      <td>39</td>\n",
       "      <td>https://www.frontiersin.org/journals/education...</td>\n",
       "    </tr>\n",
       "    <tr>\n",
       "      <th>12</th>\n",
       "      <td>S Biswas</td>\n",
       "      <td>2023</td>\n",
       "      <td>ChatGPT and the future of journal reviews: a f...</td>\n",
       "      <td>23</td>\n",
       "      <td>https://pmc.ncbi.nlm.nih.gov/articles/PMC10524...</td>\n",
       "    </tr>\n",
       "    <tr>\n",
       "      <th>13</th>\n",
       "      <td>GG Genelza</td>\n",
       "      <td>2024</td>\n",
       "      <td>Unlocking the opportunities and challenges of ...</td>\n",
       "      <td>0</td>\n",
       "      <td>https://www.ajol.info/index.php/jet/article/vi...</td>\n",
       "    </tr>\n",
       "    <tr>\n",
       "      <th>14</th>\n",
       "      <td>S Murtiningsih</td>\n",
       "      <td>2024</td>\n",
       "      <td>Challenges of using ChatGPT in education: A di...</td>\n",
       "      <td>0</td>\n",
       "      <td>https://www.academia.edu/download/122314366/66...</td>\n",
       "    </tr>\n",
       "    <tr>\n",
       "      <th>15</th>\n",
       "      <td>A Adel</td>\n",
       "      <td>2024</td>\n",
       "      <td>ChatGPT promises and challenges in education: ...</td>\n",
       "      <td>0</td>\n",
       "      <td>https://www.mdpi.com/2227-7102/14/8/814</td>\n",
       "    </tr>\n",
       "    <tr>\n",
       "      <th>16</th>\n",
       "      <td>P Choudhary</td>\n",
       "      <td>2024</td>\n",
       "      <td>Enhancing training by incorporating ChatGPT in...</td>\n",
       "      <td>0</td>\n",
       "      <td>https://www.researchgate.net/profile/Prity-Cho...</td>\n",
       "    </tr>\n",
       "    <tr>\n",
       "      <th>17</th>\n",
       "      <td>M Alawida</td>\n",
       "      <td>2023</td>\n",
       "      <td>A comprehensive study of ChatGPT: Advancements...</td>\n",
       "      <td>0</td>\n",
       "      <td>https://www.mdpi.com/2078-2489/14/8/462</td>\n",
       "    </tr>\n",
       "    <tr>\n",
       "      <th>18</th>\n",
       "      <td>F Vahedifard</td>\n",
       "      <td>2023</td>\n",
       "      <td>Practical use of ChatGPT in psychiatry for tre...</td>\n",
       "      <td>15</td>\n",
       "      <td>https://arxiv.org/abs/2311.09131</td>\n",
       "    </tr>\n",
       "    <tr>\n",
       "      <th>19</th>\n",
       "      <td>O Albaloul</td>\n",
       "      <td>2024</td>\n",
       "      <td>Unlocking educational potential: How physical ...</td>\n",
       "      <td>47</td>\n",
       "      <td>https://www.tandfonline.com/doi/abs/10.1080/07...</td>\n",
       "    </tr>\n",
       "  </tbody>\n",
       "</table>\n",
       "</div>"
      ],
      "text/plain": [
       "       first_author  year                                              title  \\\n",
       "0          I Baruwa  2024  A Conversation with ChatGPT: Philosophy, Criti...   \n",
       "1            B Pani  2024  Can generative artificial intelligence foster ...   \n",
       "2            J Dron  2023  The human nature of generative AIs and the tec...   \n",
       "3         P Arjanto  2026  Augmenting Human Connection: A Systematic Revi...   \n",
       "4        TTJE Arets  2025  The Role of Generative AI in Facilitating Soci...   \n",
       "5      LH Al-Obaydi  2025  Artificial intelligence addiction: exploring t...   \n",
       "6          A CHALKE  2025  BEYOND THE CODE: A REVIEW OF SOCIETAL CHALLENG...   \n",
       "7   H Ahmari Tehran  2025  The Role of Artificial Intelligence in Support...   \n",
       "8          Vİ Kavak  2024           The use of ChatGPT in language education   \n",
       "9         SR Shihab  2023  Revisiting the use of ChatGPT in business and ...   \n",
       "10         MN Sakib  2024  The ChatGPT and the future of HR: A critical r...   \n",
       "11        J Dempere  2023          The impact of ChatGPT on higher education   \n",
       "12         S Biswas  2023  ChatGPT and the future of journal reviews: a f...   \n",
       "13       GG Genelza  2024  Unlocking the opportunities and challenges of ...   \n",
       "14   S Murtiningsih  2024  Challenges of using ChatGPT in education: A di...   \n",
       "15           A Adel  2024  ChatGPT promises and challenges in education: ...   \n",
       "16      P Choudhary  2024  Enhancing training by incorporating ChatGPT in...   \n",
       "17        M Alawida  2023  A comprehensive study of ChatGPT: Advancements...   \n",
       "18     F Vahedifard  2023  Practical use of ChatGPT in psychiatry for tre...   \n",
       "19       O Albaloul  2024  Unlocking educational potential: How physical ...   \n",
       "\n",
       "   cited_by                                               link  \n",
       "0         2  https://dergipark.org.tr/en/pub/jai/issue/8778...  \n",
       "1        39  https://link.springer.com/chapter/10.1007/978-...  \n",
       "2        23              https://www.mdpi.com/2673-6470/3/4/20  \n",
       "3         0  https://e-journal.upr.ac.id/index.php/pdhp/art...  \n",
       "4         0                   https://arxiv.org/abs/2506.10927  \n",
       "5         0  https://link.springer.com/article/10.1007/s001...  \n",
       "6         0  https://qjssh.com/index.php/qjssh/article/view...  \n",
       "7         0  https://www.medicaleducation-bulletin.ir/artic...  \n",
       "8        15  https://dergipark.org.tr/en/pub/eams/issue/838...  \n",
       "9        47  https://www.neliti.com/publications/592192/rev...  \n",
       "10        2  https://www.malque.pub/ojs/index.php/mr/articl...  \n",
       "11       39  https://www.frontiersin.org/journals/education...  \n",
       "12       23  https://pmc.ncbi.nlm.nih.gov/articles/PMC10524...  \n",
       "13        0  https://www.ajol.info/index.php/jet/article/vi...  \n",
       "14        0  https://www.academia.edu/download/122314366/66...  \n",
       "15        0            https://www.mdpi.com/2227-7102/14/8/814  \n",
       "16        0  https://www.researchgate.net/profile/Prity-Cho...  \n",
       "17        0            https://www.mdpi.com/2078-2489/14/8/462  \n",
       "18       15                   https://arxiv.org/abs/2311.09131  \n",
       "19       47  https://www.tandfonline.com/doi/abs/10.1080/07...  "
      ]
     },
     "execution_count": 80,
     "metadata": {},
     "output_type": "execute_result"
    }
   ],
   "source": [
    "lit_df"
   ]
  },
  {
   "cell_type": "markdown",
   "id": "5c07c38e",
   "metadata": {},
   "source": [
    "1.2. Using the information obtained, perform a descriptive analysis on this data. You will need to formulate your own questions about what to find the data.\n",
    "\n",
    "When thinking about the website you would like to scrape and the information you can find from it, keep these points in mind:\n",
    "\n",
    "What kind of websites do I frequently visit?\n",
    "What type of data on these websites could be interesting to collect?\n",
    "What type of data would be interesting in your professional domain? (E.g. healthcare, finance, social media)\n",
    "If there is an API for the specific data you are planning to scrape, it’s probably not worth trying to scrape it (E.g. Spotify API)"
   ]
  },
  {
   "cell_type": "code",
   "execution_count": null,
   "id": "fe9edc1a",
   "metadata": {},
   "outputs": [],
   "source": []
  },
  {
   "cell_type": "code",
   "execution_count": null,
   "id": "575addb2",
   "metadata": {},
   "outputs": [],
   "source": []
  },
  {
   "cell_type": "code",
   "execution_count": null,
   "id": "27fed66a",
   "metadata": {},
   "outputs": [],
   "source": []
  },
  {
   "cell_type": "code",
   "execution_count": null,
   "id": "aec1c1ab",
   "metadata": {},
   "outputs": [],
   "source": []
  },
  {
   "cell_type": "code",
   "execution_count": null,
   "id": "dd0a5543",
   "metadata": {},
   "outputs": [],
   "source": []
  },
  {
   "cell_type": "markdown",
   "id": "84613cb0",
   "metadata": {},
   "source": [
    "1.3. Produce a report in the form of a clean notebook (or jupyter slides), with commented code and markdown cells for structuring and interpretations."
   ]
  },
  {
   "cell_type": "code",
   "execution_count": null,
   "id": "1b0bebe7",
   "metadata": {},
   "outputs": [],
   "source": []
  },
  {
   "cell_type": "code",
   "execution_count": null,
   "id": "379e9f72",
   "metadata": {},
   "outputs": [],
   "source": []
  },
  {
   "cell_type": "code",
   "execution_count": null,
   "id": "1f0533e4",
   "metadata": {},
   "outputs": [],
   "source": []
  },
  {
   "cell_type": "code",
   "execution_count": null,
   "id": "4a8e4473",
   "metadata": {},
   "outputs": [],
   "source": []
  }
 ],
 "metadata": {
  "kernelspec": {
   "display_name": "CDBootcamp",
   "language": "python",
   "name": "python3"
  },
  "language_info": {
   "codemirror_mode": {
    "name": "ipython",
    "version": 3
   },
   "file_extension": ".py",
   "mimetype": "text/x-python",
   "name": "python",
   "nbconvert_exporter": "python",
   "pygments_lexer": "ipython3",
   "version": "3.10.18"
  }
 },
 "nbformat": 4,
 "nbformat_minor": 5
}
