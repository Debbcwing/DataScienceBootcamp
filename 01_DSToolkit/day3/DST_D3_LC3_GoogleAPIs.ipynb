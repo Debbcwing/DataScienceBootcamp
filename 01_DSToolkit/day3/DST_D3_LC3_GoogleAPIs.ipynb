{
 "cells": [
  {
   "cell_type": "markdown",
   "metadata": {
    "id": "D9vLGGJ3yjgh",
    "tags": [
     "headers"
    ]
   },
   "source": [
    "<center><a target=\"_blank\" href=\"https://academy.constructor.org/\">\n",
    "<img src=\"data:image/png;base64,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\" width=\"500\" style=\"background:none; border:none; box-shadow:none;\"/></a> </center>\n",
    "<hr />\n",
    "\n",
    "# <h1 align=\"center\"> Live coding 3: Google APIs </h1>\n",
    "\n",
    "<hr />\n",
    "<center>Constructor Academy, 2024</center>"
   ]
  },
  {
   "cell_type": "markdown",
   "metadata": {
    "id": "cgGnOKV-yjgk",
    "tags": [
     "headers"
    ]
   },
   "source": [
    "<div style=\"background:#EEEDF5;border-top:0.1cm solid #EF475B;border-bottom:0.1cm solid #EF475B;\">\n",
    "    <div style=\"margin-left: 0.5cm;margin-top: 0.5cm;margin-bottom: 0.5cm;color:#303030\">\n",
    "        <p><strong>Goal:</strong> learn about google APIs, how to get access to them and how to interact with them.</p>\n",
    "        <strong> Outline:</strong>\n",
    "        <a id='P0' name=\"P0\"></a>\n",
    "        <ol>\n",
    "            <li> <a style=\"color:#303030\" href='#SU'>Set up</a></li>\n",
    "            <li> <a style=\"color:#303030\" href='#P1'>Load key from external file</a></li>\n",
    "            <li> <a style=\"color:#303030\" href='#P2'>Send a Query to the google Maps API</a></li>\n",
    "        </ol>\n",
    "        <strong>Topics Trained:</strong> Requests, REST APIs, JSON, YAML, GMAPS API\n",
    "    </div>\n",
    "</div>\n",
    "\n",
    "<nav style=\"text-align:right\"><strong>\n",
    "        <a style=\"color:#00BAE5\" href=\"https://monolith.propulsion-home.ch/backend/api/momentum/materials/ds-materials/01_DSToolkit/index.html\" title=\"momentum\"> Module 2, The Data Science Toolkit </a>|\n",
    "        <a style=\"color:#00BAE5\" href=\"https://monolith.propulsion-home.ch/backend/api/momentum/materials/ds-materials/01_DSToolkit/day3/index.html\" title=\"momentum\">Day 3, JSON, REST APIS, the Request Module </a>|\n",
    "        <a style=\"color:#00BAE5\" href=\"https://monolith.propulsion-home.ch/backend/api/momentum/materials/ds-materials/01_DSToolkit/day3/pages/DST_D3_LC3_GoogleAPIs.html\" title=\"momentum\"> Live Coding 3, Google Maps API</a>\n",
    "</strong></nav>"
   ]
  },
  {
   "cell_type": "markdown",
   "metadata": {
    "id": "MeXebt_byjgk"
   },
   "source": [
    "<a id='SU' name=\"SU\"></a>\n",
    "## [Set up](#P0)"
   ]
  },
  {
   "cell_type": "markdown",
   "metadata": {
    "id": "bGI2qeswyjgl"
   },
   "source": [
    "### Packages"
   ]
  },
  {
   "cell_type": "code",
   "execution_count": 3,
   "metadata": {
    "id": "esgfUhrkyjgl"
   },
   "outputs": [],
   "source": [
    "import json\n",
    "import requests\n",
    "import yaml"
   ]
  },
  {
   "cell_type": "markdown",
   "metadata": {
    "id": "gDXYGrLHyjgl"
   },
   "source": [
    "<a id='P1' name=\"P1\"></a>\n",
    "## [Load key from external source](#P0)"
   ]
  },
  {
   "cell_type": "markdown",
   "metadata": {
    "id": "FkVk8528yjgl"
   },
   "source": [
    "If authentication is needed, we provide a personal **key**.   \n",
    "Our key should be a **secret** from external viewers.\n",
    "\n",
    "So, if you provide a code to somebody, they will not be able to see your key, but they will be able to use their own."
   ]
  },
  {
   "cell_type": "markdown",
   "metadata": {
    "id": "0USR8BiWyjgm"
   },
   "source": [
    "1. Resources for the companies are not free so for you it also might be “not free” if you use it too much.   \n",
    "2. Data providers might limit the number of requests/day, demand an API “key”, or take money.   \n",
    "3. Situation might change as things progress.  \n",
    "4. Or allow using API only for certain needs (Like LinkedIn).  "
   ]
  },
  {
   "cell_type": "markdown",
   "metadata": {
    "id": "AVYKaH0de9kP"
   },
   "source": [
    "**Note**:  \n",
    "The key is shared via Discord. Please do not abuse it (up to few hundreds requests should be fine). It is attached to our credit card.   \n",
    "\n",
    "For the exercise session in the afternoon, please set up your own account as explained in the slides."
   ]
  },
  {
   "cell_type": "markdown",
   "metadata": {
    "id": "UL4pH1Iqyjgm"
   },
   "source": [
    "### Get the key from a .json file"
   ]
  },
  {
   "cell_type": "markdown",
   "metadata": {
    "id": "rPEjYYzLyjgm"
   },
   "source": [
    "In separate script, write:"
   ]
  },
  {
   "cell_type": "code",
   "execution_count": null,
   "metadata": {},
   "outputs": [],
   "source": []
  },
  {
   "cell_type": "code",
   "execution_count": 1,
   "metadata": {
    "id": "q9s3fWknyjgm"
   },
   "outputs": [],
   "source": [
    "# key_dict = {\n",
    "#     'key':''\n",
    "# }"
   ]
  },
  {
   "cell_type": "code",
   "execution_count": 4,
   "metadata": {
    "id": "E-qShDZxyjgn"
   },
   "outputs": [],
   "source": [
    "with open(\"credentials.json\", \"w\") as output:\n",
    "    json.dump(key_dict, output)"
   ]
  },
  {
   "cell_type": "markdown",
   "metadata": {
    "id": "CtnftbuHyjgn"
   },
   "source": [
    "In actual script (ie, this notebook, get the key):"
   ]
  },
  {
   "cell_type": "code",
   "execution_count": 5,
   "metadata": {
    "id": "Srpmt2lWyjgn"
   },
   "outputs": [],
   "source": [
    "key_json = json.load(open(\"credentials.json\"))\n",
    "# key_json[\"key\"]"
   ]
  },
  {
   "cell_type": "code",
   "execution_count": 8,
   "metadata": {},
   "outputs": [],
   "source": [
    "# key_json[\"key\"]"
   ]
  },
  {
   "cell_type": "markdown",
   "metadata": {
    "id": "x7GO_A7Fyjgn"
   },
   "source": [
    "### Get the key from a .yaml or .yml file\n",
    "\n",
    "it is almost like json, just without brackets"
   ]
  },
  {
   "cell_type": "markdown",
   "metadata": {
    "id": "9NkDCsUSyjgn"
   },
   "source": [
    "```python\n",
    "!pip install pyyaml # if 'conda install -c anaconda yaml' did not work\n",
    "\n",
    "import yaml\n",
    "key_dict = {'key' : 'your_key'}\n",
    "\n",
    "# dump the key into yaml\n",
    "with open('credentials.yml','w') as output:\n",
    "    yaml.dump(key_dict, output)\n",
    "    \n",
    "# get the key from .yaml file\n",
    "key_dict = yaml.load(open('credentials.yml'), Loader=yaml.FullLoader)\n",
    "key_dict['key']    \n",
    "```"
   ]
  },
  {
   "cell_type": "markdown",
   "metadata": {
    "id": "YDMD6_Psyjgn"
   },
   "source": [
    "**Exercise**:\n",
    "\n",
    "With the key provided create a 'credentials.yml' file as in example and load the key. We will use it to access Google Maps.\n"
   ]
  },
  {
   "cell_type": "code",
   "execution_count": 9,
   "metadata": {},
   "outputs": [],
   "source": [
    "import yaml\n",
    "\n",
    "\n",
    "# dump the key into yaml\n",
    "with open('credentials.yml','w') as output:\n",
    "    yaml.dump(key_json, output)\n",
    "    \n",
    "# get the key from .yaml file\n",
    "key_dict = yaml.load(open('credentials.yml'), Loader=yaml.FullLoader)\n",
    "# key_dict['key']    "
   ]
  },
  {
   "cell_type": "code",
   "execution_count": 10,
   "metadata": {
    "id": "b4AW9ApZyjgo"
   },
   "outputs": [],
   "source": [
    "key_dict = yaml.load(open(\"credentials.yml\"), Loader=yaml.FullLoader)\n",
    "gmaps_key = key_dict[\"key\"]\n",
    "# gmaps_key"
   ]
  },
  {
   "cell_type": "markdown",
   "metadata": {
    "id": "VOoBC3zicz6u"
   },
   "source": [
    "### Get the key from Secrets in Google Colab\n",
    "\n",
    "To store a key securely in Google Colab"
   ]
  },
  {
   "cell_type": "markdown",
   "metadata": {
    "id": "BTuGSClDfVSD"
   },
   "source": [
    "1. **Open Secrets**: Click the key icon on the left sidebar in Colab.\n",
    "2. **Add a New Secret**: Click `+ Add new Secret`, enter the key name and value.\n",
    "3. **Access the Stored Secret**: Use the code below to retrieve your secret in the notebook:\n",
    "   ```python\n",
    "   from google.colab import secrets\n",
    "   api_key = secrets.get('api_key')\n",
    "   ```\n",
    "Replace `'api_key'` with the name of your key.\n",
    "4. **Grant Access**: give the permission to the notebook to retrieve the key\n",
    "\n",
    "This approach ensures that your API keys or other sensitive information are kept secure and private in your Colab projects."
   ]
  },
  {
   "cell_type": "code",
   "execution_count": null,
   "metadata": {
    "id": "-g86RES5c-TQ"
   },
   "outputs": [],
   "source": [
    "# from google.colab import userdata\n",
    "# gmaps_key = userdata.get('google_key')"
   ]
  },
  {
   "cell_type": "markdown",
   "metadata": {
    "id": "0Bc3JnvYyjgo"
   },
   "source": [
    "<a id='P2' name=\"P2\"></a>\n",
    "## [Send a Query to the google Maps API](#P0)"
   ]
  },
  {
   "cell_type": "markdown",
   "metadata": {},
   "source": [
    "Documentation Text search:  https://developers.google.com/maps/documentation/places/web-service/text-search"
   ]
  },
  {
   "cell_type": "markdown",
   "metadata": {},
   "source": [
    "example stackoverflow: https://stackoverflow.com/questions/77890446/how-to-call-via-google-places-apinew-text-search-id-only-in-python\n"
   ]
  },
  {
   "cell_type": "code",
   "execution_count": 18,
   "metadata": {},
   "outputs": [],
   "source": [
    "url = \"https://places.googleapis.com/v1/places:searchText\"\n",
    "\n",
    "query = \"constructor academy\" #input(\"Search query: \")\n",
    "\n",
    "headers = {\n",
    "    'X-Goog-FieldMask': 'places.displayName,places.formattedAddress',\n",
    "    'Content-Type': 'application/json',\n",
    "    'X-Goog-Api-Key': key_json[\"key\"]\n",
    "}\n",
    "\n",
    "data = {\n",
    "  \"textQuery\" : query\n",
    "}\n",
    "\n",
    "places_json = requests.post(url, headers=headers, json=data).json()"
   ]
  },
  {
   "cell_type": "code",
   "execution_count": 19,
   "metadata": {},
   "outputs": [
    {
     "data": {
      "text/plain": [
       "{'places': [{'formattedAddress': 'Lintheschergasse 7, 8001 Zürich, Switzerland',\n",
       "   'displayName': {'text': 'Constructor Academy', 'languageCode': 'en'}}]}"
      ]
     },
     "execution_count": 19,
     "metadata": {},
     "output_type": "execute_result"
    }
   ],
   "source": [
    "places_json"
   ]
  },
  {
   "cell_type": "code",
   "execution_count": 20,
   "metadata": {},
   "outputs": [
    {
     "name": "stdin",
     "output_type": "stream",
     "text": [
      "Search query:  uetliberg\n"
     ]
    }
   ],
   "source": [
    "url = \"https://places.googleapis.com/v1/places:searchText\"\n",
    "\n",
    "query = input(\"Search query: \")\n",
    "\n",
    "headers = {\n",
    "    'X-Goog-FieldMask': '*',\n",
    "    'Content-Type': 'application/json',\n",
    "    'X-Goog-Api-Key': key_json[\"key\"]\n",
    "}\n",
    "\n",
    "data = {\n",
    "  \"textQuery\" : query\n",
    "}\n",
    "\n",
    "places_json = requests.post(url, headers=headers, json=data).json()"
   ]
  },
  {
   "cell_type": "code",
   "execution_count": 21,
   "metadata": {
    "scrolled": true
   },
   "outputs": [
    {
     "data": {
      "text/plain": [
       "{'places': [{'name': 'places/ChIJzVWL8qEJkEcRILng_v2ccPg',\n",
       "   'id': 'ChIJzVWL8qEJkEcRILng_v2ccPg',\n",
       "   'types': ['natural_feature', 'establishment'],\n",
       "   'formattedAddress': 'Uetliberg, 8143 Stallikon, Switzerland',\n",
       "   'addressComponents': [{'longText': 'Uetliberg',\n",
       "     'shortText': 'Uetliberg',\n",
       "     'types': ['natural_feature', 'establishment'],\n",
       "     'languageCode': 'en'},\n",
       "    {'longText': 'Stallikon',\n",
       "     'shortText': 'Stallikon',\n",
       "     'types': ['locality', 'political'],\n",
       "     'languageCode': 'en'},\n",
       "    {'longText': 'Affoltern District',\n",
       "     'shortText': 'Affoltern District',\n",
       "     'types': ['administrative_area_level_2', 'political'],\n",
       "     'languageCode': 'en'},\n",
       "    {'longText': 'Zurich',\n",
       "     'shortText': 'ZH',\n",
       "     'types': ['administrative_area_level_1', 'political'],\n",
       "     'languageCode': 'en'},\n",
       "    {'longText': 'Switzerland',\n",
       "     'shortText': 'CH',\n",
       "     'types': ['country', 'political'],\n",
       "     'languageCode': 'en'},\n",
       "    {'longText': '8143',\n",
       "     'shortText': '8143',\n",
       "     'types': ['postal_code'],\n",
       "     'languageCode': 'en-US'}],\n",
       "   'plusCode': {'globalCode': '8FVC8FXR+RR',\n",
       "    'compoundCode': '8FXR+RR Stallikon, Switzerland'},\n",
       "   'location': {'latitude': 47.3495, 'longitude': 8.492049999999999},\n",
       "   'viewport': {'low': {'latitude': 47.34947569999999,\n",
       "     'longitude': 8.466977299999998},\n",
       "    'high': {'latitude': 47.369720699999995, 'longitude': 8.49205}},\n",
       "   'rating': 4.8,\n",
       "   'googleMapsUri': 'https://maps.google.com/?cid=17901981133514520864',\n",
       "   'utcOffsetMinutes': 120,\n",
       "   'adrFormatAddress': 'Uetliberg, <span class=\"postal-code\">8143</span> <span class=\"locality\">Stallikon</span>, <span class=\"country-name\">Switzerland</span>',\n",
       "   'userRatingCount': 2336,\n",
       "   'iconMaskBaseUri': 'https://maps.gstatic.com/mapfiles/place_api/icons/v2/generic_pinlet',\n",
       "   'iconBackgroundColor': '#7B9EB0',\n",
       "   'displayName': {'text': 'Uetliberg', 'languageCode': 'en'},\n",
       "   'shortFormattedAddress': 'Stallikon',\n",
       "   'editorialSummary': {'text': 'Small mountain with hiking trails to panoramas over Zürich, its lake & the Alps on clear days.',\n",
       "    'languageCode': 'en'},\n",
       "   'reviews': [{'name': 'places/ChIJzVWL8qEJkEcRILng_v2ccPg/reviews/ChZDSUhNMG9nS0VJQ0FnTUNZM0luUllREAE',\n",
       "     'relativePublishTimeDescription': 'a week ago',\n",
       "     'rating': 4,\n",
       "     'text': {'text': 'A really nice hike up the radio tower from Strassenverkerhrsamt with some parts with some quite high inclination ~30° but short. As usual in Switzerland you feel a bit in a very urban hike when you get to the top, with restaurants and a couple of stores. The view is amazing you can see almost the whole Alps range and Zurich city with a 180° view.\\nThere are people taking a different route to get up with a mountain bike as well.',\n",
       "      'languageCode': 'en'},\n",
       "     'originalText': {'text': 'A really nice hike up the radio tower from Strassenverkerhrsamt with some parts with some quite high inclination ~30° but short. As usual in Switzerland you feel a bit in a very urban hike when you get to the top, with restaurants and a couple of stores. The view is amazing you can see almost the whole Alps range and Zurich city with a 180° view.\\nThere are people taking a different route to get up with a mountain bike as well.',\n",
       "      'languageCode': 'en'},\n",
       "     'authorAttribution': {'displayName': 'Julio Tapia',\n",
       "      'uri': 'https://www.google.com/maps/contrib/112507334677014944798/reviews',\n",
       "      'photoUri': 'https://lh3.googleusercontent.com/a-/ALV-UjWt5DWpcXT74cBeyo8YkpJ-8h9D6v8xesh94bKuN2Z2iS9UXbfq=s128-c0x00000000-cc-rp-mo-ba4'},\n",
       "     'publishTime': '2025-05-02T12:00:18.647828Z',\n",
       "     'flagContentUri': 'https://www.google.com/local/review/rap/report?postId=ChZDSUhNMG9nS0VJQ0FnTUNZM0luUllREAE&d=17924085&t=1',\n",
       "     'googleMapsUri': 'https://www.google.com/maps/reviews/data=!4m6!14m5!1m4!2m3!1sChZDSUhNMG9nS0VJQ0FnTUNZM0luUllREAE!2m1!1s0x479009a1f28b55cd:0xf8709cfdfee0b920'},\n",
       "    {'name': 'places/ChIJzVWL8qEJkEcRILng_v2ccPg/reviews/ChZDSUhNMG9nS0VJQ0FnTUN3MjQ2dVZREAE',\n",
       "     'relativePublishTimeDescription': 'a month ago',\n",
       "     'rating': 5,\n",
       "     'text': {'text': 'We walked up from Waldegg (but there are other paths to reach this mountain,  besides the train) and it was an easy and nice walk in the nature and woods. At the top it was crowded and full of life, with stalls of food and a Chistmas-like atmosphere (despite being February). The view over Zurich was great.',\n",
       "      'languageCode': 'en'},\n",
       "     'originalText': {'text': 'We walked up from Waldegg (but there are other paths to reach this mountain,  besides the train) and it was an easy and nice walk in the nature and woods. At the top it was crowded and full of life, with stalls of food and a Chistmas-like atmosphere (despite being February). The view over Zurich was great.',\n",
       "      'languageCode': 'en'},\n",
       "     'authorAttribution': {'displayName': 'monica pronzini',\n",
       "      'uri': 'https://www.google.com/maps/contrib/118184612867290557134/reviews',\n",
       "      'photoUri': 'https://lh3.googleusercontent.com/a/ACg8ocKsGLY37weNZhwombMKWepls0IySuS2w9pHw_AOQrdzP7J2Eg=s128-c0x00000000-cc-rp-mo-ba7'},\n",
       "     'publishTime': '2025-03-21T11:23:56.702080Z',\n",
       "     'flagContentUri': 'https://www.google.com/local/review/rap/report?postId=ChZDSUhNMG9nS0VJQ0FnTUN3MjQ2dVZREAE&d=17924085&t=1',\n",
       "     'googleMapsUri': 'https://www.google.com/maps/reviews/data=!4m6!14m5!1m4!2m3!1sChZDSUhNMG9nS0VJQ0FnTUN3MjQ2dVZREAE!2m1!1s0x479009a1f28b55cd:0xf8709cfdfee0b920'},\n",
       "    {'name': 'places/ChIJzVWL8qEJkEcRILng_v2ccPg/reviews/ChZDSUhNMG9nS0VJQ0FnTUN3bk1ub05REAE',\n",
       "     'relativePublishTimeDescription': 'a month ago',\n",
       "     'rating': 5,\n",
       "     'text': {'text': 'The mountain has stunning views at the top. There is also a restaurant, coffee van, and a viewing tower.\\nThere are lots of walking trails, a set of planet sculptures, playgrounds, barbecue areas, WW2 ruins, bike trails, and the remains of what were once fortifications.\\nThere are mainly pine, sequoia, and birch trees. Dotted around, there are information boards about the history of the forest. These have an English translation.\\nIt was very busy at the weekend, so I had to go down some of the smaller tracks to get time alone. There was not very much birdsong, but I did see a bird of prey.\\nYou can either walk one of the trails up and down or catch the train. The station is located around 10 minutes from the top. It has a couple of toilets, though these had big queues throughout the day, and they were not very clean. They were free to use, though I am not sure whether that is the case all year round, so I would suggest having some loose change. There was also a restaurant, though this was closed.\\nThe station is accessible to wheelchair users. There is a wide main path from this point, but it is graveled and steep, so it would be difficult in a wheelchair. The hotel runs an electric cart from the station to the hotel for guests. It might be worth contacting them to see whether you can book a ride.',\n",
       "      'languageCode': 'en'},\n",
       "     'originalText': {'text': 'The mountain has stunning views at the top. There is also a restaurant, coffee van, and a viewing tower.\\nThere are lots of walking trails, a set of planet sculptures, playgrounds, barbecue areas, WW2 ruins, bike trails, and the remains of what were once fortifications.\\nThere are mainly pine, sequoia, and birch trees. Dotted around, there are information boards about the history of the forest. These have an English translation.\\nIt was very busy at the weekend, so I had to go down some of the smaller tracks to get time alone. There was not very much birdsong, but I did see a bird of prey.\\nYou can either walk one of the trails up and down or catch the train. The station is located around 10 minutes from the top. It has a couple of toilets, though these had big queues throughout the day, and they were not very clean. They were free to use, though I am not sure whether that is the case all year round, so I would suggest having some loose change. There was also a restaurant, though this was closed.\\nThe station is accessible to wheelchair users. There is a wide main path from this point, but it is graveled and steep, so it would be difficult in a wheelchair. The hotel runs an electric cart from the station to the hotel for guests. It might be worth contacting them to see whether you can book a ride.',\n",
       "      'languageCode': 'en'},\n",
       "     'authorAttribution': {'displayName': 'Shelley C',\n",
       "      'uri': 'https://www.google.com/maps/contrib/103761861645047489361/reviews',\n",
       "      'photoUri': 'https://lh3.googleusercontent.com/a/ACg8ocLi1LgAk2IVYLFqX1kMysQYSJfPD8OdIlW1P43X3C6JJkilhw=s128-c0x00000000-cc-rp-mo-ba6'},\n",
       "     'publishTime': '2025-03-17T07:42:58.012855Z',\n",
       "     'flagContentUri': 'https://www.google.com/local/review/rap/report?postId=ChZDSUhNMG9nS0VJQ0FnTUN3bk1ub05REAE&d=17924085&t=1',\n",
       "     'googleMapsUri': 'https://www.google.com/maps/reviews/data=!4m6!14m5!1m4!2m3!1sChZDSUhNMG9nS0VJQ0FnTUN3bk1ub05REAE!2m1!1s0x479009a1f28b55cd:0xf8709cfdfee0b920'},\n",
       "    {'name': 'places/ChIJzVWL8qEJkEcRILng_v2ccPg/reviews/ChdDSUhNMG9nS0VJQ0FnTUR3OTRLbGpRRRAB',\n",
       "     'relativePublishTimeDescription': 'a month ago',\n",
       "     'rating': 5,\n",
       "     'text': {'text': 'Awesome place! View of Zurich from top to the mountain! Frequent trains from Zurich HBB! Get one day pass for the train… you are free to go around Zurich!!! Top of Zurich!!!',\n",
       "      'languageCode': 'en'},\n",
       "     'originalText': {'text': 'Awesome place! View of Zurich from top to the mountain! Frequent trains from Zurich HBB! Get one day pass for the train… you are free to go around Zurich!!! Top of Zurich!!!',\n",
       "      'languageCode': 'en'},\n",
       "     'authorAttribution': {'displayName': 'Mohamed Rafi',\n",
       "      'uri': 'https://www.google.com/maps/contrib/114873572080972326366/reviews',\n",
       "      'photoUri': 'https://lh3.googleusercontent.com/a-/ALV-UjVY2FDQpx3Yqi3QFTHXk42_r5l-PLfqUlidt8k8EOHraZNcAd181w=s128-c0x00000000-cc-rp-mo-ba8'},\n",
       "     'publishTime': '2025-03-29T00:05:01.582913Z',\n",
       "     'flagContentUri': 'https://www.google.com/local/review/rap/report?postId=ChdDSUhNMG9nS0VJQ0FnTUR3OTRLbGpRRRAB&d=17924085&t=1',\n",
       "     'googleMapsUri': 'https://www.google.com/maps/reviews/data=!4m6!14m5!1m4!2m3!1sChdDSUhNMG9nS0VJQ0FnTUR3OTRLbGpRRRAB!2m1!1s0x479009a1f28b55cd:0xf8709cfdfee0b920'},\n",
       "    {'name': 'places/ChIJzVWL8qEJkEcRILng_v2ccPg/reviews/ChZDSUhNMG9nS0VJQ0FnSUR2c2ZtNVRBEAE',\n",
       "     'relativePublishTimeDescription': '4 months ago',\n",
       "     'rating': 5,\n",
       "     'text': {'text': 'The best view from the Top of Zurich. Easy to reach by tram from the central station Zurich HB. The view very beautiful as in daylight and in the night. The most time i prefer in December full with lighting cozy place to visit.',\n",
       "      'languageCode': 'en'},\n",
       "     'originalText': {'text': 'The best view from the Top of Zurich. Easy to reach by tram from the central station Zurich HB. The view very beautiful as in daylight and in the night. The most time i prefer in December full with lighting cozy place to visit.',\n",
       "      'languageCode': 'en'},\n",
       "     'authorAttribution': {'displayName': 'Iwan Iwan',\n",
       "      'uri': 'https://www.google.com/maps/contrib/101523106065568112758/reviews',\n",
       "      'photoUri': 'https://lh3.googleusercontent.com/a-/ALV-UjVCFm4maTl6yhZIbyH0fMERx0WP9uxgrVc6-QD2CLMv9cKwpIno=s128-c0x00000000-cc-rp-mo-ba4'},\n",
       "     'publishTime': '2024-12-21T12:07:28.858642Z',\n",
       "     'flagContentUri': 'https://www.google.com/local/review/rap/report?postId=ChZDSUhNMG9nS0VJQ0FnSUR2c2ZtNVRBEAE&d=17924085&t=1',\n",
       "     'googleMapsUri': 'https://www.google.com/maps/reviews/data=!4m6!14m5!1m4!2m3!1sChZDSUhNMG9nS0VJQ0FnSUR2c2ZtNVRBEAE!2m1!1s0x479009a1f28b55cd:0xf8709cfdfee0b920'}],\n",
       "   'photos': [{'name': 'places/ChIJzVWL8qEJkEcRILng_v2ccPg/photos/AXQCQNTjN7mlcRFphz9VSW3T-gObnQ4nqqGjFSGNNDyCtpcZjzwk-E9uA9LGwjfMPNo1P4vZm2TU9iw0ad0xNBVWpjorobv4euBxnTXw8rxH8yPxBZYujcXVNCtSfNDjLJ_e65Zpk_iAmC6pDtyE8wFZh0JAdVwJc8TCcSg0o7KkfYGeBZNv1FUfnwQ1w1a19q0o-96NgJ2u8ROz7QV9Co3vlQrwpGqszmwlFlej-Ve0CizlxsT4RLctqjL-CD7wxvG1OIHotF8kQie3mowTwz_umPC9iwoSlQuQ1aEwYS5z0EDZLUm7NDH28g5wI2qMZcUeKl0Myb1fql8Me8197-WXuMQBqFmXiIF60t69eUaIaZd116dGg030mg37CmsBrmFtkaGN7_i1iyhZa7wE8NyNLvT1YwYc-2PvtXAzoVT-ek_go-Cc',\n",
       "     'widthPx': 3319,\n",
       "     'heightPx': 1949,\n",
       "     'authorAttributions': [{'displayName': 'Sacha Leu CH',\n",
       "       'uri': 'https://maps.google.com/maps/contrib/118115080819670871640',\n",
       "       'photoUri': 'https://lh3.googleusercontent.com/a-/ALV-UjVjEDiWxtP_jFHps0BQWRvnvn-AUG8LAw-60lgWLrdqg6y-uBQg=s100-p-k-no-mo'}],\n",
       "     'flagContentUri': 'https://www.google.com/local/imagery/report/?cb_client=maps_api_places.places_api&image_key=!1e10!2sCIHM0ogKEICAgICeouWu5gE&hl=en-US',\n",
       "     'googleMapsUri': 'https://www.google.com/maps/place//data=!3m4!1e2!3m2!1sCIHM0ogKEICAgICeouWu5gE!2e10!4m2!3m1!1s0x479009a1f28b55cd:0xf8709cfdfee0b920'},\n",
       "    {'name': 'places/ChIJzVWL8qEJkEcRILng_v2ccPg/photos/AXQCQNRl9rMIWUcMl4aiCdLzTx5ORhZDyI-vAyJB4HvRLvqWVf75h0Zo-YwXmYiccPalQB5UqTEhyQaKnvoWDjrLUODMZil29ROldPW5tHNOGlkMf8T31XzY3tWMVuOHFL4hGB8cxPXF4Kw7WXqh8DJzY-LV4QDkaVLPEvVj-P8h2dfs9jr5c1KRTw25y2z-jynoaSbnyX-TPmL6F8u9nwPu8buAREnaWaG305p5_xH6XqeTHRkbZ-6kbsAcgxNof5wftxJvKgt_sKDlvow1PIbhM57St92NaDMyGLnvPevTmMnGKKzoToYx9WIfXpqdkaebVjy38W91YX9KKcADQ6jo6ATfXFH5P_w9FDZ4rkIRPlXpZQq0QUU13J0cYwJXzlrxdbIAkO7cadiYnPWU2NJp_Pixul5pLL4Hp7sO6Mf2lzf1Kg',\n",
       "     'widthPx': 4000,\n",
       "     'heightPx': 3000,\n",
       "     'authorAttributions': [{'displayName': 'Denis Blazak',\n",
       "       'uri': 'https://maps.google.com/maps/contrib/110095663535736885131',\n",
       "       'photoUri': 'https://lh3.googleusercontent.com/a/ACg8ocI-tyRKhKPIu5SYNyISQkVCFfT2eQMTgc7zJRCo1Hj27xX8DQ=s100-p-k-no-mo'}],\n",
       "     'flagContentUri': 'https://www.google.com/local/imagery/report/?cb_client=maps_api_places.places_api&image_key=!1e10!2sCIHM0ogKEICAgICe-df4Zw&hl=en-US',\n",
       "     'googleMapsUri': 'https://www.google.com/maps/place//data=!3m4!1e2!3m2!1sCIHM0ogKEICAgICe-df4Zw!2e10!4m2!3m1!1s0x479009a1f28b55cd:0xf8709cfdfee0b920'},\n",
       "    {'name': 'places/ChIJzVWL8qEJkEcRILng_v2ccPg/photos/AXQCQNQB6I5cG4O784RV41X9pU9Tt7KanuGEQLjmcJKT8isM_59x3kWioo0GehyZg1SDYG-fmw8sm5cqzIXse2cSwC_9roP4o9LXvdOx8ihkt66JMVbcFzLne56pTWUIGfHOghaTQ-9SU61rviaetqq2EzunFLFOBmNHfne-JUjyhv3J3i0db703Iab6FYCWesPgQltCMEjMLaHBvUiEpGvJnAYCXTM0gfu6_SiPtgXwt7na5iDegDW4ZVqgqe2bZAEFomN2W2INy_ItPqXSD2a9G-1fWBuMYo1830JjTJ_uoEnNZv3AZZsEXBNjwRzRqaiR8ErHhQUpEA0-qXW7tIdpEE8XaUDwVoVBE_bp32zY3gEA-4i85ClJw1pvXCNNDoT7bbOnf8aCNYOarnP1C2JDjUQO7fl0aZ3UmSELbN0kr8w4urL8',\n",
       "     'widthPx': 3866,\n",
       "     'heightPx': 2899,\n",
       "     'authorAttributions': [{'displayName': 'Lorenzo Wölckner',\n",
       "       'uri': 'https://maps.google.com/maps/contrib/112787289266083005867',\n",
       "       'photoUri': 'https://lh3.googleusercontent.com/a/ACg8ocIMsbsIbq9FQZ4Bsn1A1wYgkMeK20W-HoRM-ulhkCpvmZB5vw=s100-p-k-no-mo'}],\n",
       "     'flagContentUri': 'https://www.google.com/local/imagery/report/?cb_client=maps_api_places.places_api&image_key=!1e10!2sCIHM0ogKEICAgIDjqLGN6AE&hl=en-US',\n",
       "     'googleMapsUri': 'https://www.google.com/maps/place//data=!3m4!1e2!3m2!1sCIHM0ogKEICAgIDjqLGN6AE!2e10!4m2!3m1!1s0x479009a1f28b55cd:0xf8709cfdfee0b920'},\n",
       "    {'name': 'places/ChIJzVWL8qEJkEcRILng_v2ccPg/photos/AXQCQNR1WvuxBb3ysi_N9XNtm2SP6F1XXw9Fr9MP3uG5RrLpBTKcT6hkjrB5S-l07lWHK-WlhvJqPqdE-Spq6wTt4Oc7wXfFl2yc_bATm9lPvf4kJTLxbf4rszcUIFqlZvEc3jfUz5hmjVf1WbUpQUboanyk8xue1ZZXhdy1brd2LwUfe-E878Xl4h5uMMJqdqZA64RqqnID1prsuUxaFPbkAyvqxQWEZ0q9jgvWRZ2CgbqBNvXi9BFDeYQc5dALfs7yVvetzIyRqPuCYg0Gv4xIQyRXVIZUYhyqWYd8od-95eeInxJN-lAdpnxapNAoIsSNh7eUTJXMLgzu9X4KwXEAZEPSp5xixPRJ54_NWMtOP9l10GS1Fc_7s_BQr9j1mLEmF0UcGf0Yax4iCtULLIcYjlgF6V9Tu-fhoF0HU3zfHaSteo8',\n",
       "     'widthPx': 3720,\n",
       "     'heightPx': 4688,\n",
       "     'authorAttributions': [{'displayName': 'Edwin Flüeli',\n",
       "       'uri': 'https://maps.google.com/maps/contrib/112569502794754915008',\n",
       "       'photoUri': 'https://lh3.googleusercontent.com/a-/ALV-UjURkLWh-Ac2NQlDLUTdJ911QUMRe3QOwZQXt-9OwrSuupWLEp79_w=s100-p-k-no-mo'}],\n",
       "     'flagContentUri': 'https://www.google.com/local/imagery/report/?cb_client=maps_api_places.places_api&image_key=!1e10!2sCIHM0ogKEICAgID6qLvY0gE&hl=en-US',\n",
       "     'googleMapsUri': 'https://www.google.com/maps/place//data=!3m4!1e2!3m2!1sCIHM0ogKEICAgID6qLvY0gE!2e10!4m2!3m1!1s0x479009a1f28b55cd:0xf8709cfdfee0b920'},\n",
       "    {'name': 'places/ChIJzVWL8qEJkEcRILng_v2ccPg/photos/AXQCQNQ_mkYpJVFi2P-9RqnCXQCNwearMI8z5lP3XzlFx-J7MJgtrKqtzm0HfEhUPDQFPlLWmbMDoz2pFbgQmnsAnsl8xRwgasFpPcmiW0biAuQMxiIOT7AoALRtxDnv-tq4OG4PrTriPat_wQpA5DibGNF0mf279pOTH1rivb7dAWtrHUHvh5ZkHlbnLy8fZtXm0ammKpxAHpWL7UIeyjAoW9yQxg881iUsJ1p7MJp_bMOLfMEq-f8AXIq17e3IXhAAcHcehVmzaQc3woTV8Cn9Sz8ZyTKAPtOj1l-iAcHZp1VHEZ2fm9o5LrcrU8cCgkrgE4CjcWh58ToSDstB2eTokK9OUaErYuMjTIocORdnRMM9tnbtg29eC76yB9xWgKLBko5VY4-41Dz3suqNlPpdr9urd8LfFflpi7sFwGW02ts',\n",
       "     'widthPx': 4032,\n",
       "     'heightPx': 3024,\n",
       "     'authorAttributions': [{'displayName': 'Beat Aebischer',\n",
       "       'uri': 'https://maps.google.com/maps/contrib/102177433881407458614',\n",
       "       'photoUri': 'https://lh3.googleusercontent.com/a-/ALV-UjXU8aA1w8dC_NRMcq71pQ1mt0ZIb6aWuC8I9jD3znxTiEZUNj54=s100-p-k-no-mo'}],\n",
       "     'flagContentUri': 'https://www.google.com/local/imagery/report/?cb_client=maps_api_places.places_api&image_key=!1e10!2sCIHM0ogKEICAgIDO_ZXZag&hl=en-US',\n",
       "     'googleMapsUri': 'https://www.google.com/maps/place//data=!3m4!1e2!3m2!1sCIHM0ogKEICAgIDO_ZXZag!2e10!4m2!3m1!1s0x479009a1f28b55cd:0xf8709cfdfee0b920'},\n",
       "    {'name': 'places/ChIJzVWL8qEJkEcRILng_v2ccPg/photos/AXQCQNRMG1GF6_7gwjbIPe2LCDEWiXOl65Yn6ikXg7L0NUpoC0jL2n18vEi7qG7PYGqUldzsJmiIPCQAAKPQ7yZGXlmZZUMzu_PTUuHaSPMKBzOACE8Nif7ZCR2LYPLNiBvhgE-0eLAcyDF0wJ3E1k-SyVATVPvAI9cfgEGtNSbHvy9MpLzmAfDKHKA_10kh9xWgM2l-bzwIBaMcyH0kq4A0uTYvFWpbMCqAVtMFa6Xae0d271aoN68U7ZulefQEzKjlkzvoCrWq_RIuDW9cvERg4J_aRO3WxqkwCXF4B4Ep0nZrv4lcyWJJGZWGHQhC6pJx-gTx5duCzBlivNWi8icyEz3iPhJeOyV0Xs86sqk9qP5Z3FhaXPdAVEHNacSUKhbxqGI6bCoPLUVoJPNGm_og2Rq8afH54MafKoR0Q26_-5szsg',\n",
       "     'widthPx': 3264,\n",
       "     'heightPx': 2448,\n",
       "     'authorAttributions': [{'displayName': 'Sabine Stoy',\n",
       "       'uri': 'https://maps.google.com/maps/contrib/113936056803034569650',\n",
       "       'photoUri': 'https://lh3.googleusercontent.com/a-/ALV-UjVyKVOERpKfaPnmcxeAjZhUXy5fO4t1uGAIrEr_TodJelUbXoo=s100-p-k-no-mo'}],\n",
       "     'flagContentUri': 'https://www.google.com/local/imagery/report/?cb_client=maps_api_places.places_api&image_key=!1e10!2sCIHM0ogKEICAgICO5PuPcw&hl=en-US',\n",
       "     'googleMapsUri': 'https://www.google.com/maps/place//data=!3m4!1e2!3m2!1sCIHM0ogKEICAgICO5PuPcw!2e10!4m2!3m1!1s0x479009a1f28b55cd:0xf8709cfdfee0b920'},\n",
       "    {'name': 'places/ChIJzVWL8qEJkEcRILng_v2ccPg/photos/AXQCQNRnzHnTfGKGOyX6-3Iut10aDbeGogVP75pay8sNNW9EMPeRHKjydSTOGVDHyM0NhjaOVoNDs5FmJfY1MMWscBALBHRPvx_idvbGCt5iAFyKZ3t7b57m29pV3VhRPPBBUkzvEuYAp3v8xRREah1k0hmc_E2zHuOuxn0SCotANKZdbUqvClFKp3Yc4kJGe4GY6AZl6xgsGJZz7uyYHwMT_Y4wHJTrUPbnWdrc685aZ0Z5B2TsKhJmLgFcu6OsbdAdTpc5paetopHTGFzfOBx5YLDYe6wb4FzWlKR6Zeee1ryJN5H8cv8x2QCRFvVtrzVw6ghvhZZ7KH-TmY-hZJ7gaI3VEBUgKZU49kXSWHM6h_jSO9Cmjrbt_DGzzlpAH-xUo379TYEpijX0nDy-I_jc-tIe40_EytCrjDSKAoAsU30IOQ',\n",
       "     'widthPx': 2268,\n",
       "     'heightPx': 3149,\n",
       "     'authorAttributions': [{'displayName': 'Go Green',\n",
       "       'uri': 'https://maps.google.com/maps/contrib/100629515701423718340',\n",
       "       'photoUri': 'https://lh3.googleusercontent.com/a-/ALV-UjULLtRVR3QPqAyOlZ5T_K3xvPcaAjsF7NJj7F1wobNJ0R1e26Hg8Q=s100-p-k-no-mo'}],\n",
       "     'flagContentUri': 'https://www.google.com/local/imagery/report/?cb_client=maps_api_places.places_api&image_key=!1e10!2sCIHM0ogKEICAgIDm9rr0dQ&hl=en-US',\n",
       "     'googleMapsUri': 'https://www.google.com/maps/place//data=!3m4!1e2!3m2!1sCIHM0ogKEICAgIDm9rr0dQ!2e10!4m2!3m1!1s0x479009a1f28b55cd:0xf8709cfdfee0b920'},\n",
       "    {'name': 'places/ChIJzVWL8qEJkEcRILng_v2ccPg/photos/AXQCQNRMTOXohR4n8DXsiV_w0ozmJOFPktSG1Jano8YTkKNHZdYK6JZPMJwtRDHkwlFHSo_iBYnKjiqWlf_27N4_EKwxB6SiIs8P54C8gCdm8cqUd1-Sylk2_chz1d8cnew5ZWgv3xpAPHKrJNGxn7ZTLHGnTuZsbaXVdUvUwJDD2uBQmhRR2p8BIPEXU2zQ-OLmvAmMPklrF2QkV3rRyhvhsi8W5_pA2H7oT9f5VTNm6aTOxe-NSt41JQjfz_ptkvIpIqeR0T-CEZws2l1E2MpbXTWS3uPNrM8q2rqKs7dYEx62OshOhH_qvBO8mZheMv3NU9vGPEsAHqkpvDPHrfRYShn_9LBAM--LH2rXcT6SDvpHuMUo4-rvbnoX7SOuBrz3HFh-TwANH5FWMaWxJ46kQzCZGbwCgsBq1WKe8HtHcX-PR9P9',\n",
       "     'widthPx': 4096,\n",
       "     'heightPx': 3072,\n",
       "     'authorAttributions': [{'displayName': 'Manish Singh',\n",
       "       'uri': 'https://maps.google.com/maps/contrib/109685473307113024389',\n",
       "       'photoUri': 'https://lh3.googleusercontent.com/a/ACg8ocK7b2anEN_vZGtA72EpwEzbSxWRz7NLdmvfJL3Ry7eKKAqSbQ=s100-p-k-no-mo'}],\n",
       "     'flagContentUri': 'https://www.google.com/local/imagery/report/?cb_client=maps_api_places.places_api&image_key=!1e10!2sCIHM0ogKEICAgICxofvd0QE&hl=en-US',\n",
       "     'googleMapsUri': 'https://www.google.com/maps/place//data=!3m4!1e2!3m2!1sCIHM0ogKEICAgICxofvd0QE!2e10!4m2!3m1!1s0x479009a1f28b55cd:0xf8709cfdfee0b920'},\n",
       "    {'name': 'places/ChIJzVWL8qEJkEcRILng_v2ccPg/photos/AXQCQNRauYoiIMePzTH_dgQ63fJWBvd1NEtl4wcS9GNIHkx-9KEhkb2QgIPj_mHeC7VioeKapfa3W-W9WzgbITKYTnO7gF_dTzjSAucCcXpRcC1G7dj2_5l1eclGJpmasXhyFQ_JmauRUiBtLi5Q10d0y3SYH9vd6ZHuWns2x8TJ3Y6bbxla0aTRtAQxwdEzuk74d05jr86bmqjya0NuyTDEGpAKRvo-ES_fBkP43Gh8srV_AjSgHqdhhj-LFKyDMrIATbtNT2ktaRPSrUoTT7qrJss7VUq9ztNNBsP95BqOtSYJj1oAhwNuiUq4wo0pLfYhEBjqYFKPbf0ZTbBzI2ql9oRjJsCZRcHCcO0sy0wdNTnuTGg82_MCh6BRY6s43ai7l3cBs9Pg-47SFQZ35JCt1z1dq07JW2Pek3bs7ltM1ETqwDch',\n",
       "     'widthPx': 3024,\n",
       "     'heightPx': 4032,\n",
       "     'authorAttributions': [{'displayName': 'Muzaffer 3822',\n",
       "       'uri': 'https://maps.google.com/maps/contrib/115709765653675180302',\n",
       "       'photoUri': 'https://lh3.googleusercontent.com/a-/ALV-UjWH2iapy8xL0f1U87KZ2_TxumakhS2bYBjLpNuWogC-hz2KiumI=s100-p-k-no-mo'}],\n",
       "     'flagContentUri': 'https://www.google.com/local/imagery/report/?cb_client=maps_api_places.places_api&image_key=!1e10!2sCIHM0ogKEICAgIDxgbil6QE&hl=en-US',\n",
       "     'googleMapsUri': 'https://www.google.com/maps/place//data=!3m4!1e2!3m2!1sCIHM0ogKEICAgIDxgbil6QE!2e10!4m2!3m1!1s0x479009a1f28b55cd:0xf8709cfdfee0b920'},\n",
       "    {'name': 'places/ChIJzVWL8qEJkEcRILng_v2ccPg/photos/AXQCQNSnj2HGLle8iRLIqE6PIZy8Sq8eT3uNMD04Vbsgg8l2lkvsykkvGFjeIGzrEwnz8qseqBX9FSQA6zbEkwirdH6ePnkwvIQBNUylDwvsfLC5NoY6wNLd1AcojHJr5N7pO8-QwthcwtvcyCQn3IK1MaMamUVfwhwBAM--jdeoQQEG0giM2SFv4C33jMUenoPRILCFt7uxTD_S4ILeLiVgKbeDSk7kmqwDIOKp3quqnXl5PahwAGhGl0-qP9dHLBmwON4pG4DW__3jLQ3A-wLMjc4IiC8R2qUN36Q15CxcNQ4me3H86U5aK-oPTAFbdg70TH7-uepDwu2OzZdhNi3-6g4PSObu9w1CNVE_sEH-URfvo5dTvg5etiTkutdBxq54IAFEyus9v3snXxhx8eldw1FJSxJoRfJnfXO4kaueO0uLjN4m',\n",
       "     'widthPx': 4096,\n",
       "     'heightPx': 3072,\n",
       "     'authorAttributions': [{'displayName': 'Manish Singh',\n",
       "       'uri': 'https://maps.google.com/maps/contrib/109685473307113024389',\n",
       "       'photoUri': 'https://lh3.googleusercontent.com/a/ACg8ocK7b2anEN_vZGtA72EpwEzbSxWRz7NLdmvfJL3Ry7eKKAqSbQ=s100-p-k-no-mo'}],\n",
       "     'flagContentUri': 'https://www.google.com/local/imagery/report/?cb_client=maps_api_places.places_api&image_key=!1e10!2sCIHM0ogKEICAgICxofuTnwE&hl=en-US',\n",
       "     'googleMapsUri': 'https://www.google.com/maps/place//data=!3m4!1e2!3m2!1sCIHM0ogKEICAgICxofuTnwE!2e10!4m2!3m1!1s0x479009a1f28b55cd:0xf8709cfdfee0b920'}],\n",
       "   'googleMapsLinks': {'directionsUri': \"https://www.google.com/maps/dir//''/data=!4m7!4m6!1m1!4e2!1m2!1m1!1s0x479009a1f28b55cd:0xf8709cfdfee0b920!3e0\",\n",
       "    'placeUri': 'https://maps.google.com/?cid=17901981133514520864',\n",
       "    'writeAReviewUri': 'https://www.google.com/maps/place//data=!4m3!3m2!1s0x479009a1f28b55cd:0xf8709cfdfee0b920!12e1',\n",
       "    'reviewsUri': 'https://www.google.com/maps/place//data=!4m4!3m3!1s0x479009a1f28b55cd:0xf8709cfdfee0b920!9m1!1b1',\n",
       "    'photosUri': 'https://www.google.com/maps/place//data=!4m3!3m2!1s0x479009a1f28b55cd:0xf8709cfdfee0b920!10e5'},\n",
       "   'timeZone': {'id': 'Europe/Zurich'}}],\n",
       " 'contextualContents': [{'photos': [{'name': 'places/ChIJzVWL8qEJkEcRILng_v2ccPg/photos/AXQCQNS4FEZyPvQtbd3elUng-chV0lQ1O4Ov_N0ot7J2XnOR9INP4AeO1bCneu0FL6Sr9GRcBdccFLJ2K1NZD5lmKMrrkqYUOpCUVhHz2rNYl3ly0JHVuMyxl_TaqRvQUCH402YDmXfbzcHb2p743b2kLrxfTHhNt3wRZZT953q8_ZS72aUTWHPpzHKVn1pSPSf7tZtqxJzCG20Yyr-q9n6FjUrk8KlQqEhpYKxsapbigFYbA8GoZ5acUvwt8090WIM3Lf1JXmPdQ6cZXktByhiiAfG-MSeZ-HxojmxbZsPNKzW4QjGv-ar1O2toAHI-WH9jtZGaqNzpOXHSqcV5xSb0bYLJkBhL84sYeQZLERcqiJZWL2zhDCs71tAtTEgft3RS1uKVNz8eX0btLTorhJAUDXiF',\n",
       "     'widthPx': 3319,\n",
       "     'heightPx': 1949,\n",
       "     'authorAttributions': [{'displayName': 'Sacha Leu',\n",
       "       'uri': 'https://maps.google.com/maps/contrib/118115080819670871640',\n",
       "       'photoUri': 'https://lh3.googleusercontent.com/a-/ALV-UjVjEDiWxtP_jFHps0BQWRvnvn-AUG8LAw-60lgWLrdqg6y-uBQg=s100-p-k-no-mo'}],\n",
       "     'flagContentUri': 'https://www.google.com/local/imagery/report/?cb_client=maps_api_places&image_key=!1e10!2sCIHM0ogKEICAgICeouWu5gE&hl=en-US',\n",
       "     'googleMapsUri': 'https://www.google.com/maps/place//data=!3m4!1e2!3m2!1sCIHM0ogKEICAgICeouWu5gE!2e10!4m2!3m1!1s0x479009a1f28b55cd:0xf8709cfdfee0b920'},\n",
       "    {'name': 'places/ChIJzVWL8qEJkEcRILng_v2ccPg/photos/AXQCQNSwSXxJv8mZlrvkKyul0YwoQqY_V8HvE5nfHAkFg8qtrVdeWQvlKd7Fd1uDk6-L1iYFhUpMEEoNGFbxti1YaqJJVv8XX6rvl9tZtYkM3NWxOjUZkaae41ONkJLj3klZPUXamwTZbIez0pBFFUE111XipW2GJ7BJRkEGXCPf0VCk7Gg4UsQH25C8jKsL-Yz2ZHPb53gYvxhA_oCC7DFJaawh4eZvFPtwjMog5ANRep2MY36BSYISr2DHAZaRzQdDimlmnfUwg1oHC3soN1YvfIK_Ntrs-8VSms_bjYSWIpbeYQmhAshlb5p5-s1BPI3J84cIyNZyd3cj0JzzltpqP513rnmsLBPUas9dX_ELl5M2_4l3dVNji07UTSDgUiXpTpFadj2YSwotu8ODBDg3',\n",
       "     'widthPx': 4000,\n",
       "     'heightPx': 3000,\n",
       "     'authorAttributions': [{'displayName': 'Denis Blazak',\n",
       "       'uri': 'https://maps.google.com/maps/contrib/110095663535736885131',\n",
       "       'photoUri': 'https://lh3.googleusercontent.com/a/ACg8ocI-tyRKhKPIu5SYNyISQkVCFfT2eQMTgc7zJRCo1Hj27xX8DQ=s100-p-k-no-mo'}],\n",
       "     'flagContentUri': 'https://www.google.com/local/imagery/report/?cb_client=maps_api_places&image_key=!1e10!2sCIHM0ogKEICAgICe-df4Zw&hl=en-US',\n",
       "     'googleMapsUri': 'https://www.google.com/maps/place//data=!3m4!1e2!3m2!1sCIHM0ogKEICAgICe-df4Zw!2e10!4m2!3m1!1s0x479009a1f28b55cd:0xf8709cfdfee0b920'},\n",
       "    {'name': 'places/ChIJzVWL8qEJkEcRILng_v2ccPg/photos/AXQCQNSN04wSTnv_U5fo9X_enMPQM10R5doxw8JtleNOLNEQ-z6oX-8YTjh86_1Ydm3ant8CGxV2tJC7XViwsafOSXP4KHnhXiq2fSa930vkXiIicaA0To26hlwwYNn9Pyd4yOgNuRmrYRTFbXLZeSnweLZchwpm2rkxcq_sy_xN5JaN7oYvnzW-wMc8yCoAzyd4cvwAt3lCQPs045GyDYk5EBsKa2ua8lzyd5f-RArdVJJKEoyUWddmeori6_4zB8E5H6s9LHRqbFsBD-KiAXQxirM9gJeW7n10Fa1RGDm_oLH6YSy6V7UaAqhcq3JoeL_hBT0uv4movn1B9X3aiV8dIiNK2qU4EjUuCGgrQP1jzH6yrCI7xd_PfwHGlwn69cuq2yo-lyWgDAsUTSZxIHsElOag',\n",
       "     'widthPx': 3866,\n",
       "     'heightPx': 2899,\n",
       "     'authorAttributions': [{'displayName': 'Lorenzo Wölckner',\n",
       "       'uri': 'https://maps.google.com/maps/contrib/112787289266083005867',\n",
       "       'photoUri': 'https://lh3.googleusercontent.com/a/ACg8ocIMsbsIbq9FQZ4Bsn1A1wYgkMeK20W-HoRM-ulhkCpvmZB5vw=s100-p-k-no-mo'}],\n",
       "     'flagContentUri': 'https://www.google.com/local/imagery/report/?cb_client=maps_api_places&image_key=!1e10!2sCIHM0ogKEICAgIDjqLGN6AE&hl=en-US',\n",
       "     'googleMapsUri': 'https://www.google.com/maps/place//data=!3m4!1e2!3m2!1sCIHM0ogKEICAgIDjqLGN6AE!2e10!4m2!3m1!1s0x479009a1f28b55cd:0xf8709cfdfee0b920'},\n",
       "    {'name': 'places/ChIJzVWL8qEJkEcRILng_v2ccPg/photos/AXQCQNTklYvhedzRU724Pbwu0n1akrNd53PcHcB76CSz_8vSpl9tvgDKGmk-TSats1tyQmU7hQpnP02PkLfbeI4Iqi90mKHdtFTpEkdS1J0cttN52gJg475dCSpdWcT0QIoTpNeF7DRcWGTv-ES4eEE8U4xWeF61YcgvpYxf-rw8wAtEQUrFPJMz55qqMEmcJliJKRN3AAKbCkoQXNu7G-T5-jbm_6zEKpgtIR0qZDOlhEioJdWZzm1QLgJnz6TdXvbuTfu8EqdneSuMbGV47ZJ9i7hJp0LWE2jgyAjzFWrlajEDY7OTmPPzQ5NJ40JkX59fJSc9XS3NB1Q3e7u88hkKWfjZxRHzLE-roNCYSPzM5kyhTucpTy2gWhTk8ZFW4lAM8vaheFd1CDWcSNCZRqDVPQ',\n",
       "     'widthPx': 3720,\n",
       "     'heightPx': 4688,\n",
       "     'authorAttributions': [{'displayName': 'Edwin Flüeli',\n",
       "       'uri': 'https://maps.google.com/maps/contrib/112569502794754915008',\n",
       "       'photoUri': 'https://lh3.googleusercontent.com/a-/ALV-UjURkLWh-Ac2NQlDLUTdJ911QUMRe3QOwZQXt-9OwrSuupWLEp79_w=s100-p-k-no-mo'}],\n",
       "     'flagContentUri': 'https://www.google.com/local/imagery/report/?cb_client=maps_api_places&image_key=!1e10!2sCIHM0ogKEICAgID6qLvY0gE&hl=en-US',\n",
       "     'googleMapsUri': 'https://www.google.com/maps/place//data=!3m4!1e2!3m2!1sCIHM0ogKEICAgID6qLvY0gE!2e10!4m2!3m1!1s0x479009a1f28b55cd:0xf8709cfdfee0b920'},\n",
       "    {'name': 'places/ChIJzVWL8qEJkEcRILng_v2ccPg/photos/AXQCQNRv0xqgpUBADrFDygA-Gl-6heuqSb7aBOty3yVUmU4-QAOrvJHbiBLbfE8Fl9Q--yri5YZKxH-42oDKZBS_19XhcvtuLHOpwTuH2mVnyZddkx1PYGZR7d3Ht6vG-WjmL2YEuOmCu6Wjed2fvhc4rQ3tbBMZTIfQhRarGz-B5LxUWt9alD2MjWtZFnD0sAev3r4O8UwlN5wM626bAauaorBx5r_CvwzPkgvUPFfAdzxKZyPM3QEfgrHof5ex-Yjwlvgm6PWxhN04xw7UKe4SMYtdbBca46-d_JwznMfS5FZnsT1nZeZL6idtj_1x4gMxbfUVIMlJOyW8LhSgZYTr3gH_V6Z4w3oluEx-nDba2ZKrXjXcds3KMvjhQ4lte0dqmqM9YKuV6a2T_6YvjxY',\n",
       "     'widthPx': 4032,\n",
       "     'heightPx': 3024,\n",
       "     'authorAttributions': [{'displayName': 'Beat Aebischer',\n",
       "       'uri': 'https://maps.google.com/maps/contrib/102177433881407458614',\n",
       "       'photoUri': 'https://lh3.googleusercontent.com/a-/ALV-UjXU8aA1w8dC_NRMcq71pQ1mt0ZIb6aWuC8I9jD3znxTiEZUNj54=s100-p-k-no-mo'}],\n",
       "     'flagContentUri': 'https://www.google.com/local/imagery/report/?cb_client=maps_api_places&image_key=!1e10!2sCIHM0ogKEICAgIDO_ZXZag&hl=en-US',\n",
       "     'googleMapsUri': 'https://www.google.com/maps/place//data=!3m4!1e2!3m2!1sCIHM0ogKEICAgIDO_ZXZag!2e10!4m2!3m1!1s0x479009a1f28b55cd:0xf8709cfdfee0b920'}]}],\n",
       " 'searchUri': 'https://www.google.com/maps/search/uetliberg'}"
      ]
     },
     "execution_count": 21,
     "metadata": {},
     "output_type": "execute_result"
    }
   ],
   "source": [
    "places_json"
   ]
  },
  {
   "cell_type": "code",
   "execution_count": null,
   "metadata": {},
   "outputs": [],
   "source": []
  },
  {
   "cell_type": "markdown",
   "metadata": {},
   "source": [
    "### Below is old api which you can use for inspiration but request itself would not work"
   ]
  },
  {
   "cell_type": "markdown",
   "metadata": {},
   "source": [
    "Documentation textsearch Legacy(old):  https://developers.google.com/maps/documentation/places/web-service/legacy/search-text"
   ]
  },
  {
   "cell_type": "code",
   "execution_count": 3,
   "metadata": {
    "colab": {
     "base_uri": "https://localhost:8080/"
    },
    "executionInfo": {
     "elapsed": 14193,
     "status": "ok",
     "timestamp": 1715695890517,
     "user": {
      "displayName": "Adriano Persegani",
      "userId": "17739764701888244413"
     },
     "user_tz": -120
    },
    "id": "HRgphY9tyjgo",
    "outputId": "80674282-0e75-4e12-b64e-056b7c491928"
   },
   "outputs": [
    {
     "name": "stdin",
     "output_type": "stream",
     "text": [
      "Search query:  constructor academy\n"
     ]
    },
    {
     "ename": "IndexError",
     "evalue": "list index out of range",
     "output_type": "error",
     "traceback": [
      "\u001b[0;31m---------------------------------------------------------------------------\u001b[0m",
      "\u001b[0;31mIndexError\u001b[0m                                Traceback (most recent call last)",
      "Cell \u001b[0;32mIn[3], line 19\u001b[0m\n\u001b[1;32m     16\u001b[0m my_result \u001b[38;5;241m=\u001b[39m places_json[\u001b[38;5;124m\"\u001b[39m\u001b[38;5;124mresults\u001b[39m\u001b[38;5;124m\"\u001b[39m]\n\u001b[1;32m     18\u001b[0m \u001b[38;5;66;03m# take a look at the first element\u001b[39;00m\n\u001b[0;32m---> 19\u001b[0m \u001b[43mmy_result\u001b[49m\u001b[43m[\u001b[49m\u001b[38;5;241;43m0\u001b[39;49m\u001b[43m]\u001b[49m\n",
      "\u001b[0;31mIndexError\u001b[0m: list index out of range"
     ]
    }
   ],
   "source": [
    "url = \"https://maps.googleapis.com/maps/api/place/textsearch/json?\"\n",
    "\n",
    "# text string on which to search\n",
    "query = input(\"Search query: \")\n",
    "\n",
    "# actual api key\n",
    "api_key = key_dict['key']\n",
    "\n",
    "# get method of requests module, return response object\n",
    "req = requests.get(url + \"query=\" + query + \"&key=\" + api_key)\n",
    "\n",
    "# json method of response object: json format data -> python format data\n",
    "places_json = req.json()\n",
    "\n",
    "# now result contains list of nested dictionaries\n",
    "my_result = places_json[\"results\"]\n",
    "\n",
    "# take a look at the first element\n",
    "my_result[0]"
   ]
  },
  {
   "cell_type": "code",
   "execution_count": 5,
   "metadata": {},
   "outputs": [
    {
     "data": {
      "text/plain": [
       "{'error_message': 'You’re calling a legacy API, which is not enabled for your project. To get newer features and more functionality, switch to the Places API (New) or Routes API. Learn more: https://developers.google.com/maps/legacy#LegacyApiNotActivatedMapError',\n",
       " 'html_attributions': [],\n",
       " 'results': [],\n",
       " 'status': 'REQUEST_DENIED'}"
      ]
     },
     "execution_count": 5,
     "metadata": {},
     "output_type": "execute_result"
    }
   ],
   "source": [
    "places_json"
   ]
  },
  {
   "cell_type": "code",
   "execution_count": null,
   "metadata": {
    "colab": {
     "base_uri": "https://localhost:8080/"
    },
    "executionInfo": {
     "elapsed": 479,
     "status": "ok",
     "timestamp": 1715695895896,
     "user": {
      "displayName": "Adriano Persegani",
      "userId": "17739764701888244413"
     },
     "user_tz": -120
    },
    "id": "85K9GaUpyjgp",
    "outputId": "a58a4e02-9e26-4839-e0bc-19928855a8b8"
   },
   "outputs": [
    {
     "data": {
      "text/plain": [
       "2"
      ]
     },
     "execution_count": 9,
     "metadata": {},
     "output_type": "execute_result"
    }
   ],
   "source": [
    "len(my_result)"
   ]
  },
  {
   "cell_type": "code",
   "execution_count": null,
   "metadata": {
    "colab": {
     "base_uri": "https://localhost:8080/"
    },
    "executionInfo": {
     "elapsed": 410,
     "status": "ok",
     "timestamp": 1715695898536,
     "user": {
      "displayName": "Adriano Persegani",
      "userId": "17739764701888244413"
     },
     "user_tz": -120
    },
    "id": "k9BmPAD0yjgq",
    "outputId": "1a11d4d9-e33c-40e6-aa23-0c155221c604"
   },
   "outputs": [
    {
     "name": "stdout",
     "output_type": "stream",
     "text": [
      "Constructor Academy\n",
      "Constructor Academy\n"
     ]
    }
   ],
   "source": [
    "# keep looping through the result items to extract information of interest\n",
    "for item in my_result:\n",
    "\n",
    "    # Print value corresponding to the 'name' key\n",
    "    print(item[\"name\"])"
   ]
  },
  {
   "cell_type": "code",
   "execution_count": null,
   "metadata": {
    "colab": {
     "base_uri": "https://localhost:8080/"
    },
    "executionInfo": {
     "elapsed": 417,
     "status": "ok",
     "timestamp": 1715695903313,
     "user": {
      "displayName": "Adriano Persegani",
      "userId": "17739764701888244413"
     },
     "user_tz": -120
    },
    "id": "CLvYhIODyjgq",
    "outputId": "b7d24243-ec06-445e-92ee-3cb238724fb6"
   },
   "outputs": [
    {
     "data": {
      "text/plain": [
       "{'location': {'lat': 48.1406038, 'lng': 11.5350703},\n",
       " 'viewport': {'northeast': {'lat': 48.14183602989272,\n",
       "   'lng': 11.53658217989272},\n",
       "  'southwest': {'lat': 48.13913637010727, 'lng': 11.53388252010728}}}"
      ]
     },
     "execution_count": 11,
     "metadata": {},
     "output_type": "execute_result"
    }
   ],
   "source": [
    "my_result[0][\"geometry\"]  # 'location' is a point feature of GeoJSON"
   ]
  },
  {
   "cell_type": "markdown",
   "metadata": {
    "id": "t4NP5ydmyjgq"
   },
   "source": [
    "The features include:    \n",
    "points  - therefore addresses and locations;   \n",
    "line strings - therefore streets, highways and boundaries;  \n",
    "polygons - countries, provinces, tracts of land;   \n",
    "and multi-part collections of these types."
   ]
  },
  {
   "cell_type": "markdown",
   "metadata": {
    "id": "KuQUcUeIyjgq"
   },
   "source": [
    "**Exercise** 15 min:\n",
    "\n",
    "Where will you go for lunch when the restaurants reopen?     \n",
    "or   \n",
    "What are the addresses and ratings of the restaurants we just found?\n"
   ]
  },
  {
   "cell_type": "code",
   "execution_count": null,
   "metadata": {},
   "outputs": [],
   "source": []
  },
  {
   "cell_type": "markdown",
   "metadata": {
    "id": "LAKjnWpLyjgq",
    "jp-MarkdownHeadingCollapsed": true
   },
   "source": [
    "<div style=\"border-top:0.1cm solid #EF475B\"></div>\n",
    "    <strong><a href='#Q0'><div style=\"text-align: right\"> <h3>End of this Notebook.</h3></div></a></strong>"
   ]
  }
 ],
 "metadata": {
  "celltoolbar": "Slideshow",
  "colab": {
   "collapsed_sections": [
    "UL4pH1Iqyjgm",
    "x7GO_A7Fyjgn",
    "VOoBC3zicz6u"
   ],
   "provenance": []
  },
  "kernelspec": {
   "display_name": "Python 3 (ipykernel)",
   "language": "python",
   "name": "python3"
  },
  "language_info": {
   "codemirror_mode": {
    "name": "ipython",
    "version": 3
   },
   "file_extension": ".py",
   "mimetype": "text/x-python",
   "name": "python",
   "nbconvert_exporter": "python",
   "pygments_lexer": "ipython3",
   "version": "3.10.10"
  },
  "rise": {
   "chalkboard": {
    "color": [
     "rgb(0,128,255)",
     "rgb(0,128,255)"
    ],
    "theme": "chalkboard"
   },
   "enable_chalkboard": true,
   "footer": "<img src='https://drive.google.com/uc?id=1imM8PAMMQPJKq3eVG9p9Ol6iB--J8JfD' width='30'/> Propulsion Academy, 2020",
   "scroll": true,
   "theme": "black",
   "transition": "convex"
  }
 },
 "nbformat": 4,
 "nbformat_minor": 4
}
