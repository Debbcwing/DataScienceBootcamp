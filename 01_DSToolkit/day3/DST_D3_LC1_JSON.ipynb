{
 "cells": [
  {
   "cell_type": "markdown",
   "metadata": {
    "id": "-Tnzabj3JgGU",
    "tags": [
     "headers"
    ]
   },
   "source": [
    "<center><a target=\"_blank\" href=\"https://academy.constructor.org/\">\n",
    "<img src=\"data:image/png;base64,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\" width=\"500\" style=\"background:none; border:none; box-shadow:none;\"/></a> </center>\n",
    "<hr />\n",
    "\n",
    "# <h1 align=\"center\"> Live coding 1: JSON </h1>\n",
    "\n",
    "<hr />\n",
    "<center>Constructor Academy, 2025</center>"
   ]
  },
  {
   "cell_type": "markdown",
   "metadata": {
    "id": "yJns4R5xJgGW",
    "tags": [
     "headers"
    ]
   },
   "source": [
    "<div style=\"background:#EEEDF5;border-top:0.1cm solid #EF475B;border-bottom:0.1cm solid #EF475B;\">\n",
    "    <div style=\"margin-left: 0.5cm;margin-top: 0.5cm;margin-bottom: 0.5cm;color:#303030\">\n",
    "        <p><strong>Goal:</strong> learn how to create, read and write JSON files</p>\n",
    "        <strong> Outline:</strong>\n",
    "        <a id='P0' name=\"P0\"></a>\n",
    "        <ol>\n",
    "            <li> <a style=\"color:#303030\" href='#SU'>Set up</a></li>\n",
    "            <li> <a style=\"color:#303030\" href='#P1'>The JSON String</a></li>\n",
    "            <li> <a style=\"color:#303030\" href='#P2'>Serialization/Deserialization</a></li>\n",
    "            <li> <a style=\"color:#303030\" href='#P3'>Write and Read JSON Files</a></li>\n",
    "            <li> <a style=\"color:#303030\" href='#P4'>Read JSON From URL</a></li>\n",
    "            <li> <a style=\"color:#303030\" href='#P5'>Explore deserialized JSON strings (dictionaries!)</a></li>\n",
    "        </ol>\n",
    "        <strong>Topics Trained:</strong> Requests, REST APIs, JSON\n",
    "    </div>\n",
    "</div>\n",
    "\n",
    "<nav style=\"text-align:right\"><strong>\n",
    "        <a style=\"color:#00BAE5\" href=\"https://constructor.app/learn/courses/f45190af-1e40-4fb3-b0f4-b062878d55a9/view/content/5ff0f127-9f6c-481d-91fb-27af0a765669\" title=\"momentum\"> Module 1, The Data Science Toolkit </a>|\n",
    "        <a style=\"color:#00BAE5\" href=\"https://constructor.app/learn/courses/f45190af-1e40-4fb3-b0f4-b062878d55a9/view/content/5ff0f127-9f6c-481d-91fb-27af0a765669/6fae75a0-535c-4bb3-ae75-07cbda932024\" title=\"momentum\">Day 3, JSON, REST APIS, the Request Module </a>|\n",
    "        <a style=\"color:#00BAE5\" href=\"https://drive.google.com/uc?export=download&id=1U4jqdswBXkCL2qzkubximUNPh9MT8SBr\" title=\"momentum\"> Live Coding 1, JSON</a>\n",
    "</strong></nav>"
   ]
  },
  {
   "cell_type": "markdown",
   "metadata": {
    "id": "-MTikBMDJgGX"
   },
   "source": [
    "<a id='SU' name=\"SU\"></a>\n",
    "## [Set up](#P0)"
   ]
  },
  {
   "cell_type": "markdown",
   "metadata": {
    "id": "3dQaHKl1JgGY"
   },
   "source": [
    "### Packages"
   ]
  },
  {
   "cell_type": "code",
   "execution_count": 6,
   "metadata": {
    "id": "X_B8MOWAJgGY"
   },
   "outputs": [],
   "source": [
    "import json\n",
    "import requests\n",
    "from pandas import json_normalize"
   ]
  },
  {
   "cell_type": "markdown",
   "metadata": {
    "id": "RlKEjixeJgGZ"
   },
   "source": [
    "<a id='P1' name=\"P1\"></a>\n",
    "## [The JSON String](#P0)"
   ]
  },
  {
   "cell_type": "markdown",
   "metadata": {
    "id": "ZjnDI-SgJgGZ"
   },
   "source": [
    "- JSON - Javascript Object Notation\n",
    "- Standard for exchanging data between client (browser) and server\n",
    "- Replaced XML as standard for the web (more compact and easier to read)\n",
    "- Set of key/value pairs\n",
    "- Easy to serialise objects"
   ]
  },
  {
   "cell_type": "markdown",
   "metadata": {
    "id": "N5FhKNrMJgGZ"
   },
   "source": [
    "Example of a JSON string:"
   ]
  },
  {
   "cell_type": "code",
   "execution_count": 1,
   "metadata": {
    "id": "7vugv6RqJgGZ"
   },
   "outputs": [],
   "source": [
    "json_string = \"\"\"\n",
    "{\n",
    " \"batch_tag\": \"Month Year Location\",\n",
    " \"start_date\": {\"month\": \"xx\"},\n",
    " \"curriculum\": {\"Week1\": \"DS Toolkit\", \"Week2\":\"?\"},\n",
    " \"students\": [\n",
    "             {\"name\": \"first_name\", \"surname\": \"last_name\"}\n",
    "             ]}\n",
    "\"\"\""
   ]
  },
  {
   "cell_type": "code",
   "execution_count": 2,
   "metadata": {
    "colab": {
     "base_uri": "https://localhost:8080/",
     "height": 35
    },
    "executionInfo": {
     "elapsed": 7,
     "status": "ok",
     "timestamp": 1715681830522,
     "user": {
      "displayName": "Adriano Persegani",
      "userId": "17739764701888244413"
     },
     "user_tz": -120
    },
    "id": "Ndv9085wJgGZ",
    "outputId": "54eb3c37-c967-487d-f657-407c37c35969"
   },
   "outputs": [
    {
     "data": {
      "text/plain": [
       "'\\n{\\n \"batch_tag\": \"Month Year Location\",\\n \"start_date\": {\"month\": \"xx\"},\\n \"curriculum\": {\"Week1\": \"DS Toolkit\", \"Week2\":\"?\"},\\n \"students\": [\\n             {\"name\": \"first_name\", \"surname\": \"last_name\"}\\n             ]}\\n'"
      ]
     },
     "execution_count": 2,
     "metadata": {},
     "output_type": "execute_result"
    }
   ],
   "source": [
    "json_string"
   ]
  },
  {
   "cell_type": "code",
   "execution_count": 3,
   "metadata": {},
   "outputs": [
    {
     "data": {
      "text/plain": [
       "str"
      ]
     },
     "execution_count": 3,
     "metadata": {},
     "output_type": "execute_result"
    }
   ],
   "source": [
    "type(json_string)"
   ]
  },
  {
   "cell_type": "markdown",
   "metadata": {
    "id": "5ynHmZX7JgGa"
   },
   "source": [
    "### JSON vs XML\n",
    "\n",
    "- XML - Extensible Markup Language\n",
    "- JSON - JavaScript Object Notation\n"
   ]
  },
  {
   "cell_type": "code",
   "execution_count": null,
   "metadata": {
    "colab": {
     "base_uri": "https://localhost:8080/"
    },
    "executionInfo": {
     "elapsed": 4,
     "status": "ok",
     "timestamp": 1715681832476,
     "user": {
      "displayName": "Adriano Persegani",
      "userId": "17739764701888244413"
     },
     "user_tz": -120
    },
    "id": "mdGbk2TkJgGa",
    "outputId": "894de15b-fe99-4cb2-f17d-06d90e505462"
   },
   "outputs": [
    {
     "name": "stdout",
     "output_type": "stream",
     "text": [
      "417\n",
      "284\n"
     ]
    }
   ],
   "source": [
    "XML = \"\"\"\n",
    "<users>\n",
    "    <user>\n",
    "        <username>SammyShark</username> <location>Indian Ocean</location>\n",
    "    </user>\n",
    "    <user>\n",
    "        <username>JesseOctopus</username> <location>Pacific Ocean</location>\n",
    "    </user>\n",
    "    <user>\n",
    "        <username>DrewSquir</username> <location>Atlantic Ocean</location>\n",
    "    </user>\n",
    "    <user>\n",
    "        <username>JamieMantisShrimp</username> <location>Pacific Ocean</location>\n",
    "    </user>\n",
    "</users>\"\"\"\n",
    "\n",
    "print(len(XML))  # 417 chars\n",
    "\n",
    "JSON = \"\"\"\n",
    "{\"users\": [\n",
    "      {\"username\" : \"SammyShark\", \"location\" : [\"Indian Ocean\",\"Pacific Ocean\"], \"age\": 42},\n",
    "      {\"username\" : \"JesseOctopus\", \"location\" : [\"Pacific Ocean\"]},\n",
    "      {\"username\" : \"DrewSquid\", \"location\" : [\"Atlantic Ocean\"]},\n",
    "      {\"username\" : \"JamieMantisShrimp\", \"location\" : [\"Pacific Ocean\"]}\n",
    "] }\n",
    "\"\"\"\n",
    "print(len(JSON))\n",
    "\n",
    "# 284 chars"
   ]
  },
  {
   "cell_type": "markdown",
   "metadata": {
    "id": "FJ2ZL_PKJgGb"
   },
   "source": [
    "<a id='P2' name=\"P2\"></a>\n",
    "## [Serialization/Deserialization](#P0)"
   ]
  },
  {
   "cell_type": "markdown",
   "metadata": {
    "id": "LZfOwySYJgGb"
   },
   "source": [
    "- Serialization - convert the data into the format suitable for sending over the network\n",
    "- Deserialization - from  network format to local data"
   ]
  },
  {
   "cell_type": "markdown",
   "metadata": {
    "id": "IwbVzqW-JgGb"
   },
   "source": [
    "![Selection_026.png](data:image/png;base64,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)"
   ]
  },
  {
   "cell_type": "markdown",
   "metadata": {
    "id": "vo53cARzJgGe"
   },
   "source": [
    "### Receive the reply from server - deserialize:"
   ]
  },
  {
   "cell_type": "code",
   "execution_count": 4,
   "metadata": {
    "colab": {
     "base_uri": "https://localhost:8080/",
     "height": 35
    },
    "executionInfo": {
     "elapsed": 4,
     "status": "ok",
     "timestamp": 1715681834404,
     "user": {
      "displayName": "Adriano Persegani",
      "userId": "17739764701888244413"
     },
     "user_tz": -120
    },
    "id": "nVpjy093JgGf",
    "outputId": "82f31571-0cd6-40a5-e6a6-edd25c228fa6"
   },
   "outputs": [
    {
     "data": {
      "text/plain": [
       "'\\n{\\n \"batch_tag\": \"Month Year Location\",\\n \"start_date\": {\"month\": \"xx\"},\\n \"curriculum\": {\"Week1\": \"DS Toolkit\", \"Week2\":\"?\"},\\n \"students\": [\\n             {\"name\": \"first_name\", \"surname\": \"last_name\"}\\n             ]}\\n'"
      ]
     },
     "execution_count": 4,
     "metadata": {},
     "output_type": "execute_result"
    }
   ],
   "source": [
    "json_string"
   ]
  },
  {
   "cell_type": "code",
   "execution_count": 9,
   "metadata": {},
   "outputs": [],
   "source": [
    "json_string = \"\"\"\n",
    "{\n",
    " \"batch_tag\": \"Month Year Location\",\n",
    " \"start_date\": {\"month\": \"xx\"},\n",
    " \"curriculum\": {\"Week1\": \"DS Toolkit\", \"Week2\":\"?\"},\n",
    " \"students\": [\n",
    "             {\"name\": \"first_name\", \"surname\": \"last_name\"},\n",
    "             {\"name\": \"first_name\", \"surname\": \"last_name\"}\n",
    "             ]}\n",
    "\"\"\""
   ]
  },
  {
   "cell_type": "code",
   "execution_count": 10,
   "metadata": {
    "colab": {
     "base_uri": "https://localhost:8080/"
    },
    "executionInfo": {
     "elapsed": 2,
     "status": "ok",
     "timestamp": 1715681836105,
     "user": {
      "displayName": "Adriano Persegani",
      "userId": "17739764701888244413"
     },
     "user_tz": -120
    },
    "id": "VoGn_QZAJgGf",
    "outputId": "1321872d-e5a6-44c3-bd59-c261c017ccba"
   },
   "outputs": [
    {
     "data": {
      "text/plain": [
       "{'batch_tag': 'Month Year Location',\n",
       " 'start_date': {'month': 'xx'},\n",
       " 'curriculum': {'Week1': 'DS Toolkit', 'Week2': '?'},\n",
       " 'students': [{'name': 'first_name', 'surname': 'last_name'},\n",
       "  {'name': 'first_name', 'surname': 'last_name'}]}"
      ]
     },
     "execution_count": 10,
     "metadata": {},
     "output_type": "execute_result"
    }
   ],
   "source": [
    "# FIRST load from strings, deserialize, get python dict\n",
    "dict_from_string = json.loads(json_string)\n",
    "dict_from_string"
   ]
  },
  {
   "cell_type": "code",
   "execution_count": 8,
   "metadata": {
    "colab": {
     "base_uri": "https://localhost:8080/"
    },
    "executionInfo": {
     "elapsed": 4,
     "status": "ok",
     "timestamp": 1715681836373,
     "user": {
      "displayName": "Adriano Persegani",
      "userId": "17739764701888244413"
     },
     "user_tz": -120
    },
    "id": "Mmj9o3BKJgGf",
    "outputId": "2ca12098-f5bb-4620-aeaf-88297d9fb5e2"
   },
   "outputs": [
    {
     "data": {
      "text/plain": [
       "dict"
      ]
     },
     "execution_count": 8,
     "metadata": {},
     "output_type": "execute_result"
    }
   ],
   "source": [
    "type(dict_from_string)"
   ]
  },
  {
   "cell_type": "markdown",
   "metadata": {
    "id": "tez8AJQIJgGg"
   },
   "source": [
    "In python JSON files are deserialized as dictionaries:\n",
    "- 'value' can be almost anything  \n",
    "- 'key' should be immutable!   \n",
    "\n",
    "A tuple can also be a dictionary key.\n",
    "However, neither a list nor another dictionary can serve as a dictionary key, because lists and dictionaries are mutable."
   ]
  },
  {
   "cell_type": "markdown",
   "metadata": {
    "id": "aWEMB7i_JgGg"
   },
   "source": [
    "### Pass arguments to remote – serialize  "
   ]
  },
  {
   "cell_type": "markdown",
   "metadata": {
    "id": "89NxfIdNJgGg"
   },
   "source": [
    "Dump json into string, serialize ``obj`` to a JSON formatted ``str`` (if you want to store or transmit data).  \n",
    "Returns the JSON string representation of the python dict."
   ]
  },
  {
   "cell_type": "code",
   "execution_count": 11,
   "metadata": {},
   "outputs": [
    {
     "data": {
      "text/plain": [
       "{'batch_tag': 'Month Year Location',\n",
       " 'start_date': {'month': 'xx'},\n",
       " 'curriculum': {'Week1': 'DS Toolkit', 'Week2': '?'},\n",
       " 'students': [{'name': 'first_name', 'surname': 'last_name'},\n",
       "  {'name': 'first_name', 'surname': 'last_name'}]}"
      ]
     },
     "execution_count": 11,
     "metadata": {},
     "output_type": "execute_result"
    }
   ],
   "source": [
    "dict_from_string"
   ]
  },
  {
   "cell_type": "code",
   "execution_count": 13,
   "metadata": {
    "colab": {
     "base_uri": "https://localhost:8080/",
     "height": 35
    },
    "executionInfo": {
     "elapsed": 4,
     "status": "ok",
     "timestamp": 1715681838008,
     "user": {
      "displayName": "Adriano Persegani",
      "userId": "17739764701888244413"
     },
     "user_tz": -120
    },
    "id": "Uw2ahG6xJgGg",
    "outputId": "6f020b4c-83f8-45be-a953-19f6e7443c78"
   },
   "outputs": [
    {
     "data": {
      "text/plain": [
       "'{\"batch_tag\": \"Month Year Location\", \"start_date\": {\"month\": \"xx\"}, \"curriculum\": {\"Week1\": \"DS Toolkit\", \"Week2\": \"?\"}, \"students\": [{\"name\": \"first_name\", \"surname\": \"last_name\"}, {\"name\": \"first_name\", \"surname\": \"last_name\"}]}'"
      ]
     },
     "execution_count": 13,
     "metadata": {},
     "output_type": "execute_result"
    }
   ],
   "source": [
    "new_json_string = json.dumps(dict_from_string)\n",
    "new_json_string"
   ]
  },
  {
   "cell_type": "code",
   "execution_count": 14,
   "metadata": {
    "colab": {
     "base_uri": "https://localhost:8080/"
    },
    "executionInfo": {
     "elapsed": 3,
     "status": "ok",
     "timestamp": 1715681838606,
     "user": {
      "displayName": "Adriano Persegani",
      "userId": "17739764701888244413"
     },
     "user_tz": -120
    },
    "id": "nbuHHULtJgGg",
    "outputId": "c20ff3fe-fa11-4e74-c39d-eff704656d48"
   },
   "outputs": [
    {
     "data": {
      "text/plain": [
       "str"
      ]
     },
     "execution_count": 14,
     "metadata": {},
     "output_type": "execute_result"
    }
   ],
   "source": [
    "type(new_json_string)"
   ]
  },
  {
   "cell_type": "markdown",
   "metadata": {
    "id": "Sn_aaabMJgGg"
   },
   "source": [
    "<a id='P3' name=\"P3\"></a>\n",
    "## [Write and Read JSON Files](#P0)"
   ]
  },
  {
   "cell_type": "code",
   "execution_count": 15,
   "metadata": {},
   "outputs": [
    {
     "data": {
      "text/plain": [
       "{'batch_tag': 'Month Year Location',\n",
       " 'start_date': {'month': 'xx'},\n",
       " 'curriculum': {'Week1': 'DS Toolkit', 'Week2': '?'},\n",
       " 'students': [{'name': 'first_name', 'surname': 'last_name'},\n",
       "  {'name': 'first_name', 'surname': 'last_name'}]}"
      ]
     },
     "execution_count": 15,
     "metadata": {},
     "output_type": "execute_result"
    }
   ],
   "source": [
    "dict_from_string"
   ]
  },
  {
   "cell_type": "code",
   "execution_count": 16,
   "metadata": {
    "id": "Fh_fracUJgGh"
   },
   "outputs": [],
   "source": [
    "# save as json file (dump), it is a string, not dictionary\n",
    "with open(\"ds_program.json\", \"w\") as output:\n",
    "    json.dump(dict_from_string, output)"
   ]
  },
  {
   "cell_type": "code",
   "execution_count": 17,
   "metadata": {
    "colab": {
     "base_uri": "https://localhost:8080/"
    },
    "executionInfo": {
     "elapsed": 3,
     "status": "ok",
     "timestamp": 1715681840690,
     "user": {
      "displayName": "Adriano Persegani",
      "userId": "17739764701888244413"
     },
     "user_tz": -120
    },
    "id": "3rbXaAUzJgGh",
    "outputId": "03104f52-7ca1-498a-d7b3-8bc0443e584a"
   },
   "outputs": [
    {
     "data": {
      "text/plain": [
       "{'batch_tag': 'Month Year Location',\n",
       " 'start_date': {'month': 'xx'},\n",
       " 'curriculum': {'Week1': 'DS Toolkit', 'Week2': '?'},\n",
       " 'students': [{'name': 'first_name', 'surname': 'last_name'},\n",
       "  {'name': 'first_name', 'surname': 'last_name'}]}"
      ]
     },
     "execution_count": 17,
     "metadata": {},
     "output_type": "execute_result"
    }
   ],
   "source": [
    "# open as json file (load)\n",
    "with open(\"ds_program.json\") as json_file:\n",
    "    data_json1 = json.load(json_file)\n",
    "data_json1"
   ]
  },
  {
   "cell_type": "code",
   "execution_count": 18,
   "metadata": {
    "id": "qAir-GgVJgGh"
   },
   "outputs": [],
   "source": [
    "# another way to load the json file (shorter)\n",
    "data_json2 = json.load(open(\"ds_program.json\"))"
   ]
  },
  {
   "cell_type": "code",
   "execution_count": 19,
   "metadata": {
    "colab": {
     "base_uri": "https://localhost:8080/"
    },
    "executionInfo": {
     "elapsed": 3,
     "status": "ok",
     "timestamp": 1715681841566,
     "user": {
      "displayName": "Adriano Persegani",
      "userId": "17739764701888244413"
     },
     "user_tz": -120
    },
    "id": "atIDjvE4JgGh",
    "outputId": "b5f0aeb7-53c8-4783-f05a-d05b54a79365"
   },
   "outputs": [
    {
     "data": {
      "text/plain": [
       "{'batch_tag': 'Month Year Location',\n",
       " 'start_date': {'month': 'xx'},\n",
       " 'curriculum': {'Week1': 'DS Toolkit', 'Week2': '?'},\n",
       " 'students': [{'name': 'first_name', 'surname': 'last_name'},\n",
       "  {'name': 'first_name', 'surname': 'last_name'}]}"
      ]
     },
     "execution_count": 19,
     "metadata": {},
     "output_type": "execute_result"
    }
   ],
   "source": [
    "data_json2"
   ]
  },
  {
   "cell_type": "markdown",
   "metadata": {
    "id": "Kf0ifDp7JgGh"
   },
   "source": [
    "<a id='P4' name=\"P4\"></a>\n",
    "## [Read JSON from a URL](#P0)"
   ]
  },
  {
   "cell_type": "markdown",
   "metadata": {
    "id": "N_QMbyaLJgGh"
   },
   "source": [
    "**Exercise** 5 min:   \n",
    "Load .json from URL. Try translating the following instruction into code:\n",
    "\n",
    "1. use `requests` library and `get` function of this library to send a HTTPS request to the URL.\n",
    "2. print the content attribute of the object that is returned from the get request.\n",
    "3. Then, deserialize the content attribute\n",
    "4. explore the obtained dictionary"
   ]
  },
  {
   "cell_type": "code",
   "execution_count": 21,
   "metadata": {
    "id": "FwYpUHduJgGh"
   },
   "outputs": [],
   "source": [
    "url = \"https://api.balldontlie.io/v1/players\"\n",
    "headers = {'Authorization': 'a25e92f0-92a2-4ed3-be24-028c4a7ab620'}"
   ]
  },
  {
   "cell_type": "markdown",
   "metadata": {
    "id": "LtKsKsAdJgGi"
   },
   "source": [
    "There is actually a more concise way of deserializing the content of the response object returned by the get function: you can directly use the method `.json()` on it. Try and see if it works!"
   ]
  },
  {
   "cell_type": "markdown",
   "metadata": {
    "id": "uwdgX9AqJgGi"
   },
   "source": [
    "### Questions\n",
    "\n",
    "- Remember examples on how did you use APIs recently, name several such cases.\n",
    "- Try to extend 'ds' dictionary with additional key-value pair and access this key.  \n",
    "- API for data retrieval - what can interfere with fast and painless data mining?\n",
    "\n"
   ]
  },
  {
   "cell_type": "code",
   "execution_count": 39,
   "metadata": {
    "scrolled": true
   },
   "outputs": [
    {
     "data": {
      "text/plain": [
       "<Response [401]>"
      ]
     },
     "execution_count": 39,
     "metadata": {},
     "output_type": "execute_result"
    }
   ],
   "source": [
    "response = requests.get(url)#.json()\n",
    "response"
   ]
  },
  {
   "cell_type": "code",
   "execution_count": null,
   "metadata": {},
   "outputs": [],
   "source": []
  },
  {
   "cell_type": "code",
   "execution_count": 44,
   "metadata": {
    "id": "jmoDOPF8t383"
   },
   "outputs": [],
   "source": [
    "response = requests.get(url, headers= headers)"
   ]
  },
  {
   "cell_type": "code",
   "execution_count": 31,
   "metadata": {},
   "outputs": [
    {
     "data": {
      "text/plain": [
       "<Response [200]>"
      ]
     },
     "execution_count": 31,
     "metadata": {},
     "output_type": "execute_result"
    }
   ],
   "source": [
    "response"
   ]
  },
  {
   "cell_type": "code",
   "execution_count": 32,
   "metadata": {},
   "outputs": [
    {
     "data": {
      "text/plain": [
       "{'Date': 'Wed, 06 Aug 2025 09:24:46 GMT', 'Content-Type': 'application/json; charset=utf-8', 'Transfer-Encoding': 'chunked', 'Connection': 'keep-alive', 'access-control-allow-credentials': 'true', 'access-control-allow-headers': 'Origin, X-Requested-With, Content-Type, Accept, Authorization', 'access-control-allow-methods': 'GET, POST, OPTIONS, PUT, PATCH, DELETE', 'access-control-allow-origin': '*', 'etag': 'W/\"2328-rM0+xiBBRFIZLr57jf0L+sCNLHo\"', 'rndr-id': '76ecfb05-69ce-4b96', 'vary': 'Accept-Encoding', 'x-powered-by': 'Express', 'x-ratelimit-limit': '5', 'x-ratelimit-remaining': '3', 'x-ratelimit-reset': '1754472331', 'x-render-origin-server': 'Render', 'cf-cache-status': 'DYNAMIC', 'Server': 'cloudflare', 'CF-RAY': '96ad7ba95b681453-ZRH', 'Content-Encoding': 'gzip', 'alt-svc': 'h3=\":443\"; ma=86400'}"
      ]
     },
     "execution_count": 32,
     "metadata": {},
     "output_type": "execute_result"
    }
   ],
   "source": [
    "response.headers"
   ]
  },
  {
   "cell_type": "code",
   "execution_count": 34,
   "metadata": {},
   "outputs": [
    {
     "data": {
      "text/plain": [
       "200"
      ]
     },
     "execution_count": 34,
     "metadata": {},
     "output_type": "execute_result"
    }
   ],
   "source": [
    "response.status_code"
   ]
  },
  {
   "cell_type": "code",
   "execution_count": 33,
   "metadata": {
    "scrolled": true
   },
   "outputs": [
    {
     "data": {
      "text/plain": [
       "b'{\"data\":[{\"id\":1,\"first_name\":\"Alex\",\"last_name\":\"Abrines\",\"position\":\"G\",\"height\":\"6-6\",\"weight\":\"190\",\"jersey_number\":\"8\",\"college\":\"FC Barcelona\",\"country\":\"Spain\",\"draft_year\":2013,\"draft_round\":2,\"draft_number\":32,\"team\":{\"id\":21,\"conference\":\"West\",\"division\":\"Northwest\",\"city\":\"Oklahoma City\",\"name\":\"Thunder\",\"full_name\":\"Oklahoma City Thunder\",\"abbreviation\":\"OKC\"}},{\"id\":2,\"first_name\":\"Jaylen\",\"last_name\":\"Adams\",\"position\":\"G\",\"height\":\"6-0\",\"weight\":\"225\",\"jersey_number\":\"10\",\"college\":\"St. Bonaventure\",\"country\":\"USA\",\"draft_year\":null,\"draft_round\":null,\"draft_number\":null,\"team\":{\"id\":1,\"conference\":\"East\",\"division\":\"Southeast\",\"city\":\"Atlanta\",\"name\":\"Hawks\",\"full_name\":\"Atlanta Hawks\",\"abbreviation\":\"ATL\"}},{\"id\":3,\"first_name\":\"Steven\",\"last_name\":\"Adams\",\"position\":\"C\",\"height\":\"6-11\",\"weight\":\"265\",\"jersey_number\":\"12\",\"college\":\"Pittsburgh\",\"country\":\"New Zealand\",\"draft_year\":2013,\"draft_round\":1,\"draft_number\":12,\"team\":{\"id\":11,\"conference\":\"West\",\"division\":\"Southwest\",\"city\":\"Houston\",\"name\":\"Rockets\",\"full_name\":\"Houston Rockets\",\"abbreviation\":\"HOU\"}},{\"id\":4,\"first_name\":\"Bam\",\"last_name\":\"Adebayo\",\"position\":\"C-F\",\"height\":\"6-9\",\"weight\":\"255\",\"jersey_number\":\"13\",\"college\":\"Kentucky\",\"country\":\"USA\",\"draft_year\":2017,\"draft_round\":1,\"draft_number\":14,\"team\":{\"id\":16,\"conference\":\"East\",\"division\":\"Southeast\",\"city\":\"Miami\",\"name\":\"Heat\",\"full_name\":\"Miami Heat\",\"abbreviation\":\"MIA\"}},{\"id\":5,\"first_name\":\"DeVaughn\",\"last_name\":\"Akoon-Purcell\",\"position\":\"G-F\",\"height\":\"6-5\",\"weight\":\"201\",\"jersey_number\":\"44\",\"college\":\"Illinois State\",\"country\":\"Trinidad and Tobago\",\"draft_year\":2016,\"draft_round\":null,\"draft_number\":null,\"team\":{\"id\":8,\"conference\":\"West\",\"division\":\"Northwest\",\"city\":\"Denver\",\"name\":\"Nuggets\",\"full_name\":\"Denver Nuggets\",\"abbreviation\":\"DEN\"}},{\"id\":6,\"first_name\":\"LaMarcus\",\"last_name\":\"Aldridge\",\"position\":\"F\",\"height\":\"6-11\",\"weight\":\"250\",\"jersey_number\":\"21\",\"college\":\"University of Texas at Austin\",\"country\":\"USA\",\"draft_year\":2006,\"draft_round\":1,\"draft_number\":2,\"team\":{\"id\":3,\"conference\":\"East\",\"division\":\"Atlantic\",\"city\":\"Brooklyn\",\"name\":\"Nets\",\"full_name\":\"Brooklyn Nets\",\"abbreviation\":\"BKN\"}},{\"id\":7,\"first_name\":\"Rawle\",\"last_name\":\"Alkins\",\"position\":\"G\",\"height\":\"6-5\",\"weight\":\"225\",\"jersey_number\":\"20\",\"college\":\"Arizona\",\"country\":\"USA\",\"draft_year\":null,\"draft_round\":null,\"draft_number\":null,\"team\":{\"id\":5,\"conference\":\"East\",\"division\":\"Central\",\"city\":\"Chicago\",\"name\":\"Bulls\",\"full_name\":\"Chicago Bulls\",\"abbreviation\":\"CHI\"}},{\"id\":8,\"first_name\":\"Grayson\",\"last_name\":\"Allen\",\"position\":\"G\",\"height\":\"6-4\",\"weight\":\"198\",\"jersey_number\":\"8\",\"college\":\"Duke\",\"country\":\"USA\",\"draft_year\":2018,\"draft_round\":1,\"draft_number\":21,\"team\":{\"id\":24,\"conference\":\"West\",\"division\":\"Pacific\",\"city\":\"Phoenix\",\"name\":\"Suns\",\"full_name\":\"Phoenix Suns\",\"abbreviation\":\"PHX\"}},{\"id\":9,\"first_name\":\"Jarrett\",\"last_name\":\"Allen\",\"position\":\"C\",\"height\":\"6-9\",\"weight\":\"243\",\"jersey_number\":\"31\",\"college\":\"Texas\",\"country\":\"USA\",\"draft_year\":2017,\"draft_round\":1,\"draft_number\":22,\"team\":{\"id\":6,\"conference\":\"East\",\"division\":\"Central\",\"city\":\"Cleveland\",\"name\":\"Cavaliers\",\"full_name\":\"Cleveland Cavaliers\",\"abbreviation\":\"CLE\"}},{\"id\":10,\"first_name\":\"Al-Farouq\",\"last_name\":\"Aminu\",\"position\":\"F\",\"height\":\"6-8\",\"weight\":\"220\",\"jersey_number\":\"5\",\"college\":\"Wake Forest\",\"country\":\"USA\",\"draft_year\":2010,\"draft_round\":1,\"draft_number\":8,\"team\":{\"id\":25,\"conference\":\"West\",\"division\":\"Northwest\",\"city\":\"Portland\",\"name\":\"Trail Blazers\",\"full_name\":\"Portland Trail Blazers\",\"abbreviation\":\"POR\"}},{\"id\":11,\"first_name\":\"Justin\",\"last_name\":\"Anderson\",\"position\":\"G-F\",\"height\":\"6-5\",\"weight\":\"231\",\"jersey_number\":\"10\",\"college\":\"Virginia\",\"country\":\"USA\",\"draft_year\":2015,\"draft_round\":1,\"draft_number\":21,\"team\":{\"id\":12,\"conference\":\"East\",\"division\":\"Central\",\"city\":\"Indiana\",\"name\":\"Pacers\",\"full_name\":\"Indiana Pacers\",\"abbreviation\":\"IND\"}},{\"id\":12,\"first_name\":\"Kyle\",\"last_name\":\"Anderson\",\"position\":\"F\",\"height\":\"6-9\",\"weight\":\"230\",\"jersey_number\":\"20\",\"college\":\"UCLA\",\"country\":\"USA\",\"draft_year\":2014,\"draft_round\":1,\"draft_number\":30,\"team\":{\"id\":16,\"conference\":\"East\",\"division\":\"Southeast\",\"city\":\"Miami\",\"name\":\"Heat\",\"full_name\":\"Miami Heat\",\"abbreviation\":\"MIA\"}},{\"id\":13,\"first_name\":\"Ryan\",\"last_name\":\"Anderson\",\"position\":\"F\",\"height\":\"6-10\",\"weight\":\"240\",\"jersey_number\":\"31\",\"college\":\"California\",\"country\":\"USA\",\"draft_year\":2008,\"draft_round\":1,\"draft_number\":21,\"team\":{\"id\":19,\"conference\":\"West\",\"division\":\"Southwest\",\"city\":\"New Orleans\",\"name\":\"Pelicans\",\"full_name\":\"New Orleans Pelicans\",\"abbreviation\":\"NOP\"}},{\"id\":14,\"first_name\":\"Ike\",\"last_name\":\"Anigbogu\",\"position\":\"C\",\"height\":\"6-10\",\"weight\":\"262\",\"jersey_number\":\"13\",\"college\":\"UCLA\",\"country\":\"USA\",\"draft_year\":2017,\"draft_round\":2,\"draft_number\":47,\"team\":{\"id\":12,\"conference\":\"East\",\"division\":\"Central\",\"city\":\"Indiana\",\"name\":\"Pacers\",\"full_name\":\"Indiana Pacers\",\"abbreviation\":\"IND\"}},{\"id\":15,\"first_name\":\"Giannis\",\"last_name\":\"Antetokounmpo\",\"position\":\"F\",\"height\":\"6-11\",\"weight\":\"243\",\"jersey_number\":\"34\",\"college\":\"Filathlitikos\",\"country\":\"Greece\",\"draft_year\":2013,\"draft_round\":1,\"draft_number\":15,\"team\":{\"id\":17,\"conference\":\"East\",\"division\":\"Central\",\"city\":\"Milwaukee\",\"name\":\"Bucks\",\"full_name\":\"Milwaukee Bucks\",\"abbreviation\":\"MIL\"}},{\"id\":16,\"first_name\":\"Kostas\",\"last_name\":\"Antetokounmpo\",\"position\":\"F\",\"height\":\"6-10\",\"weight\":\"200\",\"jersey_number\":\"37\",\"college\":\"Dayton\",\"country\":\"Greece\",\"draft_year\":2018,\"draft_round\":2,\"draft_number\":60,\"team\":{\"id\":5,\"conference\":\"East\",\"division\":\"Central\",\"city\":\"Chicago\",\"name\":\"Bulls\",\"full_name\":\"Chicago Bulls\",\"abbreviation\":\"CHI\"}},{\"id\":17,\"first_name\":\"Carmelo\",\"last_name\":\"Anthony\",\"position\":\"F\",\"height\":\"6-7\",\"weight\":\"238\",\"jersey_number\":\"7\",\"college\":\"Syracuse\",\"country\":\"USA\",\"draft_year\":2003,\"draft_round\":1,\"draft_number\":3,\"team\":{\"id\":14,\"conference\":\"West\",\"division\":\"Pacific\",\"city\":\"Los Angeles\",\"name\":\"Lakers\",\"full_name\":\"Los Angeles Lakers\",\"abbreviation\":\"LAL\"}},{\"id\":18,\"first_name\":\"OG\",\"last_name\":\"Anunoby\",\"position\":\"F\",\"height\":\"6-7\",\"weight\":\"240\",\"jersey_number\":\"8\",\"college\":\"Indiana\",\"country\":\"United Kingdom\",\"draft_year\":2017,\"draft_round\":1,\"draft_number\":23,\"team\":{\"id\":20,\"conference\":\"East\",\"division\":\"Atlantic\",\"city\":\"New York\",\"name\":\"Knicks\",\"full_name\":\"New York Knicks\",\"abbreviation\":\"NYK\"}},{\"id\":19,\"first_name\":\"Ryan\",\"last_name\":\"Arcidiacono\",\"position\":\"G\",\"height\":\"6-3\",\"weight\":\"195\",\"jersey_number\":\"51\",\"college\":\"Villanova\",\"country\":\"USA\",\"draft_year\":null,\"draft_round\":null,\"draft_number\":null,\"team\":{\"id\":20,\"conference\":\"East\",\"division\":\"Atlantic\",\"city\":\"New York\",\"name\":\"Knicks\",\"full_name\":\"New York Knicks\",\"abbreviation\":\"NYK\"}},{\"id\":20,\"first_name\":\"Trevor\",\"last_name\":\"Ariza\",\"position\":\"F\",\"height\":\"6-8\",\"weight\":\"215\",\"jersey_number\":\"8\",\"college\":\"UCLA\",\"country\":\"USA\",\"draft_year\":2004,\"draft_round\":2,\"draft_number\":43,\"team\":{\"id\":14,\"conference\":\"West\",\"division\":\"Pacific\",\"city\":\"Los Angeles\",\"name\":\"Lakers\",\"full_name\":\"Los Angeles Lakers\",\"abbreviation\":\"LAL\"}},{\"id\":21,\"first_name\":\"D.J.\",\"last_name\":\"Augustin\",\"position\":\"G\",\"height\":\"5-11\",\"weight\":\"183\",\"jersey_number\":\"4\",\"college\":\"Texas\",\"country\":\"USA\",\"draft_year\":2008,\"draft_round\":1,\"draft_number\":9,\"team\":{\"id\":14,\"conference\":\"West\",\"division\":\"Pacific\",\"city\":\"Los Angeles\",\"name\":\"Lakers\",\"full_name\":\"Los Angeles Lakers\",\"abbreviation\":\"LAL\"}},{\"id\":22,\"first_name\":\"Deandre\",\"last_name\":\"Ayton\",\"position\":\"C\",\"height\":\"7-0\",\"weight\":\"252\",\"jersey_number\":\"2\",\"college\":\"Arizona\",\"country\":\"Bahamas\",\"draft_year\":2018,\"draft_round\":1,\"draft_number\":1,\"team\":{\"id\":25,\"conference\":\"West\",\"division\":\"Northwest\",\"city\":\"Portland\",\"name\":\"Trail Blazers\",\"full_name\":\"Portland Trail Blazers\",\"abbreviation\":\"POR\"}},{\"id\":23,\"first_name\":\"Dwayne\",\"last_name\":\"Bacon\",\"position\":\"G-F\",\"height\":\"6-6\",\"weight\":\"221\",\"jersey_number\":\"8\",\"college\":\"Florida State\",\"country\":\"USA\",\"draft_year\":2017,\"draft_round\":2,\"draft_number\":40,\"team\":{\"id\":14,\"conference\":\"West\",\"division\":\"Pacific\",\"city\":\"Los Angeles\",\"name\":\"Lakers\",\"full_name\":\"Los Angeles Lakers\",\"abbreviation\":\"LAL\"}},{\"id\":24,\"first_name\":\"Marvin\",\"last_name\":\"Bagley III\",\"position\":\"F\",\"height\":\"6-10\",\"weight\":\"235\",\"jersey_number\":\"35\",\"college\":\"Duke\",\"country\":\"USA\",\"draft_year\":2018,\"draft_round\":1,\"draft_number\":2,\"team\":{\"id\":15,\"conference\":\"West\",\"division\":\"Southwest\",\"city\":\"Memphis\",\"name\":\"Grizzlies\",\"full_name\":\"Memphis Grizzlies\",\"abbreviation\":\"MEM\"}},{\"id\":25,\"first_name\":\"Ron\",\"last_name\":\"Baker\",\"position\":\"G\",\"height\":\"6-4\",\"weight\":\"220\",\"jersey_number\":\"31\",\"college\":\"Wichita State\",\"country\":\"USA\",\"draft_year\":null,\"draft_round\":null,\"draft_number\":null,\"team\":{\"id\":20,\"conference\":\"East\",\"division\":\"Atlantic\",\"city\":\"New York\",\"name\":\"Knicks\",\"full_name\":\"New York Knicks\",\"abbreviation\":\"NYK\"}}],\"meta\":{\"next_cursor\":25,\"per_page\":25}}'"
      ]
     },
     "execution_count": 33,
     "metadata": {},
     "output_type": "execute_result"
    }
   ],
   "source": [
    "response.content"
   ]
  },
  {
   "cell_type": "code",
   "execution_count": 42,
   "metadata": {
    "id": "UR5nT8SFt8Zn",
    "scrolled": true
   },
   "outputs": [],
   "source": [
    "# nba_json = json.loads(response.text)"
   ]
  },
  {
   "cell_type": "code",
   "execution_count": 36,
   "metadata": {
    "scrolled": true
   },
   "outputs": [],
   "source": [
    "nba_json = response.json()"
   ]
  },
  {
   "cell_type": "code",
   "execution_count": 46,
   "metadata": {},
   "outputs": [],
   "source": [
    "nba_json = json.loads(response.text)"
   ]
  },
  {
   "cell_type": "code",
   "execution_count": 40,
   "metadata": {
    "id": "lakYimp-t8L1"
   },
   "outputs": [
    {
     "data": {
      "text/plain": [
       "dict"
      ]
     },
     "execution_count": 40,
     "metadata": {},
     "output_type": "execute_result"
    }
   ],
   "source": [
    "type(nba_json)"
   ]
  },
  {
   "cell_type": "markdown",
   "metadata": {
    "id": "VRbGUv0YJgGi"
   },
   "source": [
    "<a id='P5' name=\"P5\"></a>\n",
    "## [Explore deserialized JSON strings (dictionaries!)](#P0)"
   ]
  },
  {
   "cell_type": "code",
   "execution_count": 47,
   "metadata": {
    "id": "HjJWXEDeJgGn"
   },
   "outputs": [
    {
     "data": {
      "text/plain": [
       "dict_keys(['data', 'meta'])"
      ]
     },
     "execution_count": 47,
     "metadata": {},
     "output_type": "execute_result"
    }
   ],
   "source": [
    "nba_json.keys()"
   ]
  },
  {
   "cell_type": "code",
   "execution_count": 49,
   "metadata": {
    "id": "3EDLxcxdJgGm",
    "tags": []
   },
   "outputs": [],
   "source": [
    "# nba_json.items()"
   ]
  },
  {
   "cell_type": "markdown",
   "metadata": {
    "id": "5CbHqlXGJgGn"
   },
   "source": [
    "Most straightforward way to get keys (or values) is  \n",
    "\n",
    "```python\n",
    "my_dict.keys()\n",
    "my_dict.values()\n",
    "```\n",
    "\n",
    "but keep in mind - it is not possible to access specific key by index (in python 3)"
   ]
  },
  {
   "cell_type": "code",
   "execution_count": 50,
   "metadata": {
    "id": "IpKc7s0nJgGn",
    "scrolled": true,
    "tags": []
   },
   "outputs": [
    {
     "data": {
      "text/plain": [
       "dict_values([[{'id': 1, 'first_name': 'Alex', 'last_name': 'Abrines', 'position': 'G', 'height': '6-6', 'weight': '190', 'jersey_number': '8', 'college': 'FC Barcelona', 'country': 'Spain', 'draft_year': 2013, 'draft_round': 2, 'draft_number': 32, 'team': {'id': 21, 'conference': 'West', 'division': 'Northwest', 'city': 'Oklahoma City', 'name': 'Thunder', 'full_name': 'Oklahoma City Thunder', 'abbreviation': 'OKC'}}, {'id': 2, 'first_name': 'Jaylen', 'last_name': 'Adams', 'position': 'G', 'height': '6-0', 'weight': '225', 'jersey_number': '10', 'college': 'St. Bonaventure', 'country': 'USA', 'draft_year': None, 'draft_round': None, 'draft_number': None, 'team': {'id': 1, 'conference': 'East', 'division': 'Southeast', 'city': 'Atlanta', 'name': 'Hawks', 'full_name': 'Atlanta Hawks', 'abbreviation': 'ATL'}}, {'id': 3, 'first_name': 'Steven', 'last_name': 'Adams', 'position': 'C', 'height': '6-11', 'weight': '265', 'jersey_number': '12', 'college': 'Pittsburgh', 'country': 'New Zealand', 'draft_year': 2013, 'draft_round': 1, 'draft_number': 12, 'team': {'id': 11, 'conference': 'West', 'division': 'Southwest', 'city': 'Houston', 'name': 'Rockets', 'full_name': 'Houston Rockets', 'abbreviation': 'HOU'}}, {'id': 4, 'first_name': 'Bam', 'last_name': 'Adebayo', 'position': 'C-F', 'height': '6-9', 'weight': '255', 'jersey_number': '13', 'college': 'Kentucky', 'country': 'USA', 'draft_year': 2017, 'draft_round': 1, 'draft_number': 14, 'team': {'id': 16, 'conference': 'East', 'division': 'Southeast', 'city': 'Miami', 'name': 'Heat', 'full_name': 'Miami Heat', 'abbreviation': 'MIA'}}, {'id': 5, 'first_name': 'DeVaughn', 'last_name': 'Akoon-Purcell', 'position': 'G-F', 'height': '6-5', 'weight': '201', 'jersey_number': '44', 'college': 'Illinois State', 'country': 'Trinidad and Tobago', 'draft_year': 2016, 'draft_round': None, 'draft_number': None, 'team': {'id': 8, 'conference': 'West', 'division': 'Northwest', 'city': 'Denver', 'name': 'Nuggets', 'full_name': 'Denver Nuggets', 'abbreviation': 'DEN'}}, {'id': 6, 'first_name': 'LaMarcus', 'last_name': 'Aldridge', 'position': 'F', 'height': '6-11', 'weight': '250', 'jersey_number': '21', 'college': 'University of Texas at Austin', 'country': 'USA', 'draft_year': 2006, 'draft_round': 1, 'draft_number': 2, 'team': {'id': 3, 'conference': 'East', 'division': 'Atlantic', 'city': 'Brooklyn', 'name': 'Nets', 'full_name': 'Brooklyn Nets', 'abbreviation': 'BKN'}}, {'id': 7, 'first_name': 'Rawle', 'last_name': 'Alkins', 'position': 'G', 'height': '6-5', 'weight': '225', 'jersey_number': '20', 'college': 'Arizona', 'country': 'USA', 'draft_year': None, 'draft_round': None, 'draft_number': None, 'team': {'id': 5, 'conference': 'East', 'division': 'Central', 'city': 'Chicago', 'name': 'Bulls', 'full_name': 'Chicago Bulls', 'abbreviation': 'CHI'}}, {'id': 8, 'first_name': 'Grayson', 'last_name': 'Allen', 'position': 'G', 'height': '6-4', 'weight': '198', 'jersey_number': '8', 'college': 'Duke', 'country': 'USA', 'draft_year': 2018, 'draft_round': 1, 'draft_number': 21, 'team': {'id': 24, 'conference': 'West', 'division': 'Pacific', 'city': 'Phoenix', 'name': 'Suns', 'full_name': 'Phoenix Suns', 'abbreviation': 'PHX'}}, {'id': 9, 'first_name': 'Jarrett', 'last_name': 'Allen', 'position': 'C', 'height': '6-9', 'weight': '243', 'jersey_number': '31', 'college': 'Texas', 'country': 'USA', 'draft_year': 2017, 'draft_round': 1, 'draft_number': 22, 'team': {'id': 6, 'conference': 'East', 'division': 'Central', 'city': 'Cleveland', 'name': 'Cavaliers', 'full_name': 'Cleveland Cavaliers', 'abbreviation': 'CLE'}}, {'id': 10, 'first_name': 'Al-Farouq', 'last_name': 'Aminu', 'position': 'F', 'height': '6-8', 'weight': '220', 'jersey_number': '5', 'college': 'Wake Forest', 'country': 'USA', 'draft_year': 2010, 'draft_round': 1, 'draft_number': 8, 'team': {'id': 25, 'conference': 'West', 'division': 'Northwest', 'city': 'Portland', 'name': 'Trail Blazers', 'full_name': 'Portland Trail Blazers', 'abbreviation': 'POR'}}, {'id': 11, 'first_name': 'Justin', 'last_name': 'Anderson', 'position': 'G-F', 'height': '6-5', 'weight': '231', 'jersey_number': '10', 'college': 'Virginia', 'country': 'USA', 'draft_year': 2015, 'draft_round': 1, 'draft_number': 21, 'team': {'id': 12, 'conference': 'East', 'division': 'Central', 'city': 'Indiana', 'name': 'Pacers', 'full_name': 'Indiana Pacers', 'abbreviation': 'IND'}}, {'id': 12, 'first_name': 'Kyle', 'last_name': 'Anderson', 'position': 'F', 'height': '6-9', 'weight': '230', 'jersey_number': '20', 'college': 'UCLA', 'country': 'USA', 'draft_year': 2014, 'draft_round': 1, 'draft_number': 30, 'team': {'id': 16, 'conference': 'East', 'division': 'Southeast', 'city': 'Miami', 'name': 'Heat', 'full_name': 'Miami Heat', 'abbreviation': 'MIA'}}, {'id': 13, 'first_name': 'Ryan', 'last_name': 'Anderson', 'position': 'F', 'height': '6-10', 'weight': '240', 'jersey_number': '31', 'college': 'California', 'country': 'USA', 'draft_year': 2008, 'draft_round': 1, 'draft_number': 21, 'team': {'id': 19, 'conference': 'West', 'division': 'Southwest', 'city': 'New Orleans', 'name': 'Pelicans', 'full_name': 'New Orleans Pelicans', 'abbreviation': 'NOP'}}, {'id': 14, 'first_name': 'Ike', 'last_name': 'Anigbogu', 'position': 'C', 'height': '6-10', 'weight': '262', 'jersey_number': '13', 'college': 'UCLA', 'country': 'USA', 'draft_year': 2017, 'draft_round': 2, 'draft_number': 47, 'team': {'id': 12, 'conference': 'East', 'division': 'Central', 'city': 'Indiana', 'name': 'Pacers', 'full_name': 'Indiana Pacers', 'abbreviation': 'IND'}}, {'id': 15, 'first_name': 'Giannis', 'last_name': 'Antetokounmpo', 'position': 'F', 'height': '6-11', 'weight': '243', 'jersey_number': '34', 'college': 'Filathlitikos', 'country': 'Greece', 'draft_year': 2013, 'draft_round': 1, 'draft_number': 15, 'team': {'id': 17, 'conference': 'East', 'division': 'Central', 'city': 'Milwaukee', 'name': 'Bucks', 'full_name': 'Milwaukee Bucks', 'abbreviation': 'MIL'}}, {'id': 16, 'first_name': 'Kostas', 'last_name': 'Antetokounmpo', 'position': 'F', 'height': '6-10', 'weight': '200', 'jersey_number': '37', 'college': 'Dayton', 'country': 'Greece', 'draft_year': 2018, 'draft_round': 2, 'draft_number': 60, 'team': {'id': 5, 'conference': 'East', 'division': 'Central', 'city': 'Chicago', 'name': 'Bulls', 'full_name': 'Chicago Bulls', 'abbreviation': 'CHI'}}, {'id': 17, 'first_name': 'Carmelo', 'last_name': 'Anthony', 'position': 'F', 'height': '6-7', 'weight': '238', 'jersey_number': '7', 'college': 'Syracuse', 'country': 'USA', 'draft_year': 2003, 'draft_round': 1, 'draft_number': 3, 'team': {'id': 14, 'conference': 'West', 'division': 'Pacific', 'city': 'Los Angeles', 'name': 'Lakers', 'full_name': 'Los Angeles Lakers', 'abbreviation': 'LAL'}}, {'id': 18, 'first_name': 'OG', 'last_name': 'Anunoby', 'position': 'F', 'height': '6-7', 'weight': '240', 'jersey_number': '8', 'college': 'Indiana', 'country': 'United Kingdom', 'draft_year': 2017, 'draft_round': 1, 'draft_number': 23, 'team': {'id': 20, 'conference': 'East', 'division': 'Atlantic', 'city': 'New York', 'name': 'Knicks', 'full_name': 'New York Knicks', 'abbreviation': 'NYK'}}, {'id': 19, 'first_name': 'Ryan', 'last_name': 'Arcidiacono', 'position': 'G', 'height': '6-3', 'weight': '195', 'jersey_number': '51', 'college': 'Villanova', 'country': 'USA', 'draft_year': None, 'draft_round': None, 'draft_number': None, 'team': {'id': 20, 'conference': 'East', 'division': 'Atlantic', 'city': 'New York', 'name': 'Knicks', 'full_name': 'New York Knicks', 'abbreviation': 'NYK'}}, {'id': 20, 'first_name': 'Trevor', 'last_name': 'Ariza', 'position': 'F', 'height': '6-8', 'weight': '215', 'jersey_number': '8', 'college': 'UCLA', 'country': 'USA', 'draft_year': 2004, 'draft_round': 2, 'draft_number': 43, 'team': {'id': 14, 'conference': 'West', 'division': 'Pacific', 'city': 'Los Angeles', 'name': 'Lakers', 'full_name': 'Los Angeles Lakers', 'abbreviation': 'LAL'}}, {'id': 21, 'first_name': 'D.J.', 'last_name': 'Augustin', 'position': 'G', 'height': '5-11', 'weight': '183', 'jersey_number': '4', 'college': 'Texas', 'country': 'USA', 'draft_year': 2008, 'draft_round': 1, 'draft_number': 9, 'team': {'id': 14, 'conference': 'West', 'division': 'Pacific', 'city': 'Los Angeles', 'name': 'Lakers', 'full_name': 'Los Angeles Lakers', 'abbreviation': 'LAL'}}, {'id': 22, 'first_name': 'Deandre', 'last_name': 'Ayton', 'position': 'C', 'height': '7-0', 'weight': '252', 'jersey_number': '2', 'college': 'Arizona', 'country': 'Bahamas', 'draft_year': 2018, 'draft_round': 1, 'draft_number': 1, 'team': {'id': 25, 'conference': 'West', 'division': 'Northwest', 'city': 'Portland', 'name': 'Trail Blazers', 'full_name': 'Portland Trail Blazers', 'abbreviation': 'POR'}}, {'id': 23, 'first_name': 'Dwayne', 'last_name': 'Bacon', 'position': 'G-F', 'height': '6-6', 'weight': '221', 'jersey_number': '8', 'college': 'Florida State', 'country': 'USA', 'draft_year': 2017, 'draft_round': 2, 'draft_number': 40, 'team': {'id': 14, 'conference': 'West', 'division': 'Pacific', 'city': 'Los Angeles', 'name': 'Lakers', 'full_name': 'Los Angeles Lakers', 'abbreviation': 'LAL'}}, {'id': 24, 'first_name': 'Marvin', 'last_name': 'Bagley III', 'position': 'F', 'height': '6-10', 'weight': '235', 'jersey_number': '35', 'college': 'Duke', 'country': 'USA', 'draft_year': 2018, 'draft_round': 1, 'draft_number': 2, 'team': {'id': 15, 'conference': 'West', 'division': 'Southwest', 'city': 'Memphis', 'name': 'Grizzlies', 'full_name': 'Memphis Grizzlies', 'abbreviation': 'MEM'}}, {'id': 25, 'first_name': 'Ron', 'last_name': 'Baker', 'position': 'G', 'height': '6-4', 'weight': '220', 'jersey_number': '31', 'college': 'Wichita State', 'country': 'USA', 'draft_year': None, 'draft_round': None, 'draft_number': None, 'team': {'id': 20, 'conference': 'East', 'division': 'Atlantic', 'city': 'New York', 'name': 'Knicks', 'full_name': 'New York Knicks', 'abbreviation': 'NYK'}}], {'next_cursor': 25, 'per_page': 25}])"
      ]
     },
     "execution_count": 50,
     "metadata": {},
     "output_type": "execute_result"
    }
   ],
   "source": [
    "nba_json.values()  # values() might be confusing"
   ]
  },
  {
   "cell_type": "code",
   "execution_count": 51,
   "metadata": {
    "id": "K8Lfn2E_JgGn"
   },
   "outputs": [
    {
     "data": {
      "text/plain": [
       "{'next_cursor': 25, 'per_page': 25}"
      ]
     },
     "execution_count": 51,
     "metadata": {},
     "output_type": "execute_result"
    }
   ],
   "source": [
    "nba_json[\"meta\"]  # not much here"
   ]
  },
  {
   "cell_type": "code",
   "execution_count": 52,
   "metadata": {
    "id": "pVkff-RDJgGn",
    "scrolled": true
   },
   "outputs": [
    {
     "data": {
      "text/plain": [
       "[{'id': 1,\n",
       "  'first_name': 'Alex',\n",
       "  'last_name': 'Abrines',\n",
       "  'position': 'G',\n",
       "  'height': '6-6',\n",
       "  'weight': '190',\n",
       "  'jersey_number': '8',\n",
       "  'college': 'FC Barcelona',\n",
       "  'country': 'Spain',\n",
       "  'draft_year': 2013,\n",
       "  'draft_round': 2,\n",
       "  'draft_number': 32,\n",
       "  'team': {'id': 21,\n",
       "   'conference': 'West',\n",
       "   'division': 'Northwest',\n",
       "   'city': 'Oklahoma City',\n",
       "   'name': 'Thunder',\n",
       "   'full_name': 'Oklahoma City Thunder',\n",
       "   'abbreviation': 'OKC'}},\n",
       " {'id': 2,\n",
       "  'first_name': 'Jaylen',\n",
       "  'last_name': 'Adams',\n",
       "  'position': 'G',\n",
       "  'height': '6-0',\n",
       "  'weight': '225',\n",
       "  'jersey_number': '10',\n",
       "  'college': 'St. Bonaventure',\n",
       "  'country': 'USA',\n",
       "  'draft_year': None,\n",
       "  'draft_round': None,\n",
       "  'draft_number': None,\n",
       "  'team': {'id': 1,\n",
       "   'conference': 'East',\n",
       "   'division': 'Southeast',\n",
       "   'city': 'Atlanta',\n",
       "   'name': 'Hawks',\n",
       "   'full_name': 'Atlanta Hawks',\n",
       "   'abbreviation': 'ATL'}},\n",
       " {'id': 3,\n",
       "  'first_name': 'Steven',\n",
       "  'last_name': 'Adams',\n",
       "  'position': 'C',\n",
       "  'height': '6-11',\n",
       "  'weight': '265',\n",
       "  'jersey_number': '12',\n",
       "  'college': 'Pittsburgh',\n",
       "  'country': 'New Zealand',\n",
       "  'draft_year': 2013,\n",
       "  'draft_round': 1,\n",
       "  'draft_number': 12,\n",
       "  'team': {'id': 11,\n",
       "   'conference': 'West',\n",
       "   'division': 'Southwest',\n",
       "   'city': 'Houston',\n",
       "   'name': 'Rockets',\n",
       "   'full_name': 'Houston Rockets',\n",
       "   'abbreviation': 'HOU'}},\n",
       " {'id': 4,\n",
       "  'first_name': 'Bam',\n",
       "  'last_name': 'Adebayo',\n",
       "  'position': 'C-F',\n",
       "  'height': '6-9',\n",
       "  'weight': '255',\n",
       "  'jersey_number': '13',\n",
       "  'college': 'Kentucky',\n",
       "  'country': 'USA',\n",
       "  'draft_year': 2017,\n",
       "  'draft_round': 1,\n",
       "  'draft_number': 14,\n",
       "  'team': {'id': 16,\n",
       "   'conference': 'East',\n",
       "   'division': 'Southeast',\n",
       "   'city': 'Miami',\n",
       "   'name': 'Heat',\n",
       "   'full_name': 'Miami Heat',\n",
       "   'abbreviation': 'MIA'}},\n",
       " {'id': 5,\n",
       "  'first_name': 'DeVaughn',\n",
       "  'last_name': 'Akoon-Purcell',\n",
       "  'position': 'G-F',\n",
       "  'height': '6-5',\n",
       "  'weight': '201',\n",
       "  'jersey_number': '44',\n",
       "  'college': 'Illinois State',\n",
       "  'country': 'Trinidad and Tobago',\n",
       "  'draft_year': 2016,\n",
       "  'draft_round': None,\n",
       "  'draft_number': None,\n",
       "  'team': {'id': 8,\n",
       "   'conference': 'West',\n",
       "   'division': 'Northwest',\n",
       "   'city': 'Denver',\n",
       "   'name': 'Nuggets',\n",
       "   'full_name': 'Denver Nuggets',\n",
       "   'abbreviation': 'DEN'}},\n",
       " {'id': 6,\n",
       "  'first_name': 'LaMarcus',\n",
       "  'last_name': 'Aldridge',\n",
       "  'position': 'F',\n",
       "  'height': '6-11',\n",
       "  'weight': '250',\n",
       "  'jersey_number': '21',\n",
       "  'college': 'University of Texas at Austin',\n",
       "  'country': 'USA',\n",
       "  'draft_year': 2006,\n",
       "  'draft_round': 1,\n",
       "  'draft_number': 2,\n",
       "  'team': {'id': 3,\n",
       "   'conference': 'East',\n",
       "   'division': 'Atlantic',\n",
       "   'city': 'Brooklyn',\n",
       "   'name': 'Nets',\n",
       "   'full_name': 'Brooklyn Nets',\n",
       "   'abbreviation': 'BKN'}},\n",
       " {'id': 7,\n",
       "  'first_name': 'Rawle',\n",
       "  'last_name': 'Alkins',\n",
       "  'position': 'G',\n",
       "  'height': '6-5',\n",
       "  'weight': '225',\n",
       "  'jersey_number': '20',\n",
       "  'college': 'Arizona',\n",
       "  'country': 'USA',\n",
       "  'draft_year': None,\n",
       "  'draft_round': None,\n",
       "  'draft_number': None,\n",
       "  'team': {'id': 5,\n",
       "   'conference': 'East',\n",
       "   'division': 'Central',\n",
       "   'city': 'Chicago',\n",
       "   'name': 'Bulls',\n",
       "   'full_name': 'Chicago Bulls',\n",
       "   'abbreviation': 'CHI'}},\n",
       " {'id': 8,\n",
       "  'first_name': 'Grayson',\n",
       "  'last_name': 'Allen',\n",
       "  'position': 'G',\n",
       "  'height': '6-4',\n",
       "  'weight': '198',\n",
       "  'jersey_number': '8',\n",
       "  'college': 'Duke',\n",
       "  'country': 'USA',\n",
       "  'draft_year': 2018,\n",
       "  'draft_round': 1,\n",
       "  'draft_number': 21,\n",
       "  'team': {'id': 24,\n",
       "   'conference': 'West',\n",
       "   'division': 'Pacific',\n",
       "   'city': 'Phoenix',\n",
       "   'name': 'Suns',\n",
       "   'full_name': 'Phoenix Suns',\n",
       "   'abbreviation': 'PHX'}},\n",
       " {'id': 9,\n",
       "  'first_name': 'Jarrett',\n",
       "  'last_name': 'Allen',\n",
       "  'position': 'C',\n",
       "  'height': '6-9',\n",
       "  'weight': '243',\n",
       "  'jersey_number': '31',\n",
       "  'college': 'Texas',\n",
       "  'country': 'USA',\n",
       "  'draft_year': 2017,\n",
       "  'draft_round': 1,\n",
       "  'draft_number': 22,\n",
       "  'team': {'id': 6,\n",
       "   'conference': 'East',\n",
       "   'division': 'Central',\n",
       "   'city': 'Cleveland',\n",
       "   'name': 'Cavaliers',\n",
       "   'full_name': 'Cleveland Cavaliers',\n",
       "   'abbreviation': 'CLE'}},\n",
       " {'id': 10,\n",
       "  'first_name': 'Al-Farouq',\n",
       "  'last_name': 'Aminu',\n",
       "  'position': 'F',\n",
       "  'height': '6-8',\n",
       "  'weight': '220',\n",
       "  'jersey_number': '5',\n",
       "  'college': 'Wake Forest',\n",
       "  'country': 'USA',\n",
       "  'draft_year': 2010,\n",
       "  'draft_round': 1,\n",
       "  'draft_number': 8,\n",
       "  'team': {'id': 25,\n",
       "   'conference': 'West',\n",
       "   'division': 'Northwest',\n",
       "   'city': 'Portland',\n",
       "   'name': 'Trail Blazers',\n",
       "   'full_name': 'Portland Trail Blazers',\n",
       "   'abbreviation': 'POR'}},\n",
       " {'id': 11,\n",
       "  'first_name': 'Justin',\n",
       "  'last_name': 'Anderson',\n",
       "  'position': 'G-F',\n",
       "  'height': '6-5',\n",
       "  'weight': '231',\n",
       "  'jersey_number': '10',\n",
       "  'college': 'Virginia',\n",
       "  'country': 'USA',\n",
       "  'draft_year': 2015,\n",
       "  'draft_round': 1,\n",
       "  'draft_number': 21,\n",
       "  'team': {'id': 12,\n",
       "   'conference': 'East',\n",
       "   'division': 'Central',\n",
       "   'city': 'Indiana',\n",
       "   'name': 'Pacers',\n",
       "   'full_name': 'Indiana Pacers',\n",
       "   'abbreviation': 'IND'}},\n",
       " {'id': 12,\n",
       "  'first_name': 'Kyle',\n",
       "  'last_name': 'Anderson',\n",
       "  'position': 'F',\n",
       "  'height': '6-9',\n",
       "  'weight': '230',\n",
       "  'jersey_number': '20',\n",
       "  'college': 'UCLA',\n",
       "  'country': 'USA',\n",
       "  'draft_year': 2014,\n",
       "  'draft_round': 1,\n",
       "  'draft_number': 30,\n",
       "  'team': {'id': 16,\n",
       "   'conference': 'East',\n",
       "   'division': 'Southeast',\n",
       "   'city': 'Miami',\n",
       "   'name': 'Heat',\n",
       "   'full_name': 'Miami Heat',\n",
       "   'abbreviation': 'MIA'}},\n",
       " {'id': 13,\n",
       "  'first_name': 'Ryan',\n",
       "  'last_name': 'Anderson',\n",
       "  'position': 'F',\n",
       "  'height': '6-10',\n",
       "  'weight': '240',\n",
       "  'jersey_number': '31',\n",
       "  'college': 'California',\n",
       "  'country': 'USA',\n",
       "  'draft_year': 2008,\n",
       "  'draft_round': 1,\n",
       "  'draft_number': 21,\n",
       "  'team': {'id': 19,\n",
       "   'conference': 'West',\n",
       "   'division': 'Southwest',\n",
       "   'city': 'New Orleans',\n",
       "   'name': 'Pelicans',\n",
       "   'full_name': 'New Orleans Pelicans',\n",
       "   'abbreviation': 'NOP'}},\n",
       " {'id': 14,\n",
       "  'first_name': 'Ike',\n",
       "  'last_name': 'Anigbogu',\n",
       "  'position': 'C',\n",
       "  'height': '6-10',\n",
       "  'weight': '262',\n",
       "  'jersey_number': '13',\n",
       "  'college': 'UCLA',\n",
       "  'country': 'USA',\n",
       "  'draft_year': 2017,\n",
       "  'draft_round': 2,\n",
       "  'draft_number': 47,\n",
       "  'team': {'id': 12,\n",
       "   'conference': 'East',\n",
       "   'division': 'Central',\n",
       "   'city': 'Indiana',\n",
       "   'name': 'Pacers',\n",
       "   'full_name': 'Indiana Pacers',\n",
       "   'abbreviation': 'IND'}},\n",
       " {'id': 15,\n",
       "  'first_name': 'Giannis',\n",
       "  'last_name': 'Antetokounmpo',\n",
       "  'position': 'F',\n",
       "  'height': '6-11',\n",
       "  'weight': '243',\n",
       "  'jersey_number': '34',\n",
       "  'college': 'Filathlitikos',\n",
       "  'country': 'Greece',\n",
       "  'draft_year': 2013,\n",
       "  'draft_round': 1,\n",
       "  'draft_number': 15,\n",
       "  'team': {'id': 17,\n",
       "   'conference': 'East',\n",
       "   'division': 'Central',\n",
       "   'city': 'Milwaukee',\n",
       "   'name': 'Bucks',\n",
       "   'full_name': 'Milwaukee Bucks',\n",
       "   'abbreviation': 'MIL'}},\n",
       " {'id': 16,\n",
       "  'first_name': 'Kostas',\n",
       "  'last_name': 'Antetokounmpo',\n",
       "  'position': 'F',\n",
       "  'height': '6-10',\n",
       "  'weight': '200',\n",
       "  'jersey_number': '37',\n",
       "  'college': 'Dayton',\n",
       "  'country': 'Greece',\n",
       "  'draft_year': 2018,\n",
       "  'draft_round': 2,\n",
       "  'draft_number': 60,\n",
       "  'team': {'id': 5,\n",
       "   'conference': 'East',\n",
       "   'division': 'Central',\n",
       "   'city': 'Chicago',\n",
       "   'name': 'Bulls',\n",
       "   'full_name': 'Chicago Bulls',\n",
       "   'abbreviation': 'CHI'}},\n",
       " {'id': 17,\n",
       "  'first_name': 'Carmelo',\n",
       "  'last_name': 'Anthony',\n",
       "  'position': 'F',\n",
       "  'height': '6-7',\n",
       "  'weight': '238',\n",
       "  'jersey_number': '7',\n",
       "  'college': 'Syracuse',\n",
       "  'country': 'USA',\n",
       "  'draft_year': 2003,\n",
       "  'draft_round': 1,\n",
       "  'draft_number': 3,\n",
       "  'team': {'id': 14,\n",
       "   'conference': 'West',\n",
       "   'division': 'Pacific',\n",
       "   'city': 'Los Angeles',\n",
       "   'name': 'Lakers',\n",
       "   'full_name': 'Los Angeles Lakers',\n",
       "   'abbreviation': 'LAL'}},\n",
       " {'id': 18,\n",
       "  'first_name': 'OG',\n",
       "  'last_name': 'Anunoby',\n",
       "  'position': 'F',\n",
       "  'height': '6-7',\n",
       "  'weight': '240',\n",
       "  'jersey_number': '8',\n",
       "  'college': 'Indiana',\n",
       "  'country': 'United Kingdom',\n",
       "  'draft_year': 2017,\n",
       "  'draft_round': 1,\n",
       "  'draft_number': 23,\n",
       "  'team': {'id': 20,\n",
       "   'conference': 'East',\n",
       "   'division': 'Atlantic',\n",
       "   'city': 'New York',\n",
       "   'name': 'Knicks',\n",
       "   'full_name': 'New York Knicks',\n",
       "   'abbreviation': 'NYK'}},\n",
       " {'id': 19,\n",
       "  'first_name': 'Ryan',\n",
       "  'last_name': 'Arcidiacono',\n",
       "  'position': 'G',\n",
       "  'height': '6-3',\n",
       "  'weight': '195',\n",
       "  'jersey_number': '51',\n",
       "  'college': 'Villanova',\n",
       "  'country': 'USA',\n",
       "  'draft_year': None,\n",
       "  'draft_round': None,\n",
       "  'draft_number': None,\n",
       "  'team': {'id': 20,\n",
       "   'conference': 'East',\n",
       "   'division': 'Atlantic',\n",
       "   'city': 'New York',\n",
       "   'name': 'Knicks',\n",
       "   'full_name': 'New York Knicks',\n",
       "   'abbreviation': 'NYK'}},\n",
       " {'id': 20,\n",
       "  'first_name': 'Trevor',\n",
       "  'last_name': 'Ariza',\n",
       "  'position': 'F',\n",
       "  'height': '6-8',\n",
       "  'weight': '215',\n",
       "  'jersey_number': '8',\n",
       "  'college': 'UCLA',\n",
       "  'country': 'USA',\n",
       "  'draft_year': 2004,\n",
       "  'draft_round': 2,\n",
       "  'draft_number': 43,\n",
       "  'team': {'id': 14,\n",
       "   'conference': 'West',\n",
       "   'division': 'Pacific',\n",
       "   'city': 'Los Angeles',\n",
       "   'name': 'Lakers',\n",
       "   'full_name': 'Los Angeles Lakers',\n",
       "   'abbreviation': 'LAL'}},\n",
       " {'id': 21,\n",
       "  'first_name': 'D.J.',\n",
       "  'last_name': 'Augustin',\n",
       "  'position': 'G',\n",
       "  'height': '5-11',\n",
       "  'weight': '183',\n",
       "  'jersey_number': '4',\n",
       "  'college': 'Texas',\n",
       "  'country': 'USA',\n",
       "  'draft_year': 2008,\n",
       "  'draft_round': 1,\n",
       "  'draft_number': 9,\n",
       "  'team': {'id': 14,\n",
       "   'conference': 'West',\n",
       "   'division': 'Pacific',\n",
       "   'city': 'Los Angeles',\n",
       "   'name': 'Lakers',\n",
       "   'full_name': 'Los Angeles Lakers',\n",
       "   'abbreviation': 'LAL'}},\n",
       " {'id': 22,\n",
       "  'first_name': 'Deandre',\n",
       "  'last_name': 'Ayton',\n",
       "  'position': 'C',\n",
       "  'height': '7-0',\n",
       "  'weight': '252',\n",
       "  'jersey_number': '2',\n",
       "  'college': 'Arizona',\n",
       "  'country': 'Bahamas',\n",
       "  'draft_year': 2018,\n",
       "  'draft_round': 1,\n",
       "  'draft_number': 1,\n",
       "  'team': {'id': 25,\n",
       "   'conference': 'West',\n",
       "   'division': 'Northwest',\n",
       "   'city': 'Portland',\n",
       "   'name': 'Trail Blazers',\n",
       "   'full_name': 'Portland Trail Blazers',\n",
       "   'abbreviation': 'POR'}},\n",
       " {'id': 23,\n",
       "  'first_name': 'Dwayne',\n",
       "  'last_name': 'Bacon',\n",
       "  'position': 'G-F',\n",
       "  'height': '6-6',\n",
       "  'weight': '221',\n",
       "  'jersey_number': '8',\n",
       "  'college': 'Florida State',\n",
       "  'country': 'USA',\n",
       "  'draft_year': 2017,\n",
       "  'draft_round': 2,\n",
       "  'draft_number': 40,\n",
       "  'team': {'id': 14,\n",
       "   'conference': 'West',\n",
       "   'division': 'Pacific',\n",
       "   'city': 'Los Angeles',\n",
       "   'name': 'Lakers',\n",
       "   'full_name': 'Los Angeles Lakers',\n",
       "   'abbreviation': 'LAL'}},\n",
       " {'id': 24,\n",
       "  'first_name': 'Marvin',\n",
       "  'last_name': 'Bagley III',\n",
       "  'position': 'F',\n",
       "  'height': '6-10',\n",
       "  'weight': '235',\n",
       "  'jersey_number': '35',\n",
       "  'college': 'Duke',\n",
       "  'country': 'USA',\n",
       "  'draft_year': 2018,\n",
       "  'draft_round': 1,\n",
       "  'draft_number': 2,\n",
       "  'team': {'id': 15,\n",
       "   'conference': 'West',\n",
       "   'division': 'Southwest',\n",
       "   'city': 'Memphis',\n",
       "   'name': 'Grizzlies',\n",
       "   'full_name': 'Memphis Grizzlies',\n",
       "   'abbreviation': 'MEM'}},\n",
       " {'id': 25,\n",
       "  'first_name': 'Ron',\n",
       "  'last_name': 'Baker',\n",
       "  'position': 'G',\n",
       "  'height': '6-4',\n",
       "  'weight': '220',\n",
       "  'jersey_number': '31',\n",
       "  'college': 'Wichita State',\n",
       "  'country': 'USA',\n",
       "  'draft_year': None,\n",
       "  'draft_round': None,\n",
       "  'draft_number': None,\n",
       "  'team': {'id': 20,\n",
       "   'conference': 'East',\n",
       "   'division': 'Atlantic',\n",
       "   'city': 'New York',\n",
       "   'name': 'Knicks',\n",
       "   'full_name': 'New York Knicks',\n",
       "   'abbreviation': 'NYK'}}]"
      ]
     },
     "execution_count": 52,
     "metadata": {},
     "output_type": "execute_result"
    }
   ],
   "source": [
    "nba_json[\"data\"]  # this looks more interesting"
   ]
  },
  {
   "cell_type": "code",
   "execution_count": 53,
   "metadata": {},
   "outputs": [
    {
     "data": {
      "text/plain": [
       "list"
      ]
     },
     "execution_count": 53,
     "metadata": {},
     "output_type": "execute_result"
    }
   ],
   "source": [
    "type(nba_json[\"data\"])"
   ]
  },
  {
   "cell_type": "code",
   "execution_count": 54,
   "metadata": {
    "id": "uTxrqmeEJgGn"
   },
   "outputs": [
    {
     "data": {
      "text/plain": [
       "{'id': 1,\n",
       " 'first_name': 'Alex',\n",
       " 'last_name': 'Abrines',\n",
       " 'position': 'G',\n",
       " 'height': '6-6',\n",
       " 'weight': '190',\n",
       " 'jersey_number': '8',\n",
       " 'college': 'FC Barcelona',\n",
       " 'country': 'Spain',\n",
       " 'draft_year': 2013,\n",
       " 'draft_round': 2,\n",
       " 'draft_number': 32,\n",
       " 'team': {'id': 21,\n",
       "  'conference': 'West',\n",
       "  'division': 'Northwest',\n",
       "  'city': 'Oklahoma City',\n",
       "  'name': 'Thunder',\n",
       "  'full_name': 'Oklahoma City Thunder',\n",
       "  'abbreviation': 'OKC'}}"
      ]
     },
     "execution_count": 54,
     "metadata": {},
     "output_type": "execute_result"
    }
   ],
   "source": [
    "# since its a list of items we can dive in further\n",
    "nba_json[\"data\"][0]"
   ]
  },
  {
   "cell_type": "code",
   "execution_count": 55,
   "metadata": {},
   "outputs": [
    {
     "data": {
      "text/plain": [
       "{'id': 13,\n",
       " 'first_name': 'Ryan',\n",
       " 'last_name': 'Anderson',\n",
       " 'position': 'F',\n",
       " 'height': '6-10',\n",
       " 'weight': '240',\n",
       " 'jersey_number': '31',\n",
       " 'college': 'California',\n",
       " 'country': 'USA',\n",
       " 'draft_year': 2008,\n",
       " 'draft_round': 1,\n",
       " 'draft_number': 21,\n",
       " 'team': {'id': 19,\n",
       "  'conference': 'West',\n",
       "  'division': 'Southwest',\n",
       "  'city': 'New Orleans',\n",
       "  'name': 'Pelicans',\n",
       "  'full_name': 'New Orleans Pelicans',\n",
       "  'abbreviation': 'NOP'}}"
      ]
     },
     "execution_count": 55,
     "metadata": {},
     "output_type": "execute_result"
    }
   ],
   "source": [
    "nba_json[\"data\"][12]"
   ]
  },
  {
   "cell_type": "code",
   "execution_count": 56,
   "metadata": {
    "id": "zSAeaF10JgGo"
   },
   "outputs": [
    {
     "data": {
      "text/plain": [
       "dict_keys(['id', 'first_name', 'last_name', 'position', 'height', 'weight', 'jersey_number', 'college', 'country', 'draft_year', 'draft_round', 'draft_number', 'team'])"
      ]
     },
     "execution_count": 56,
     "metadata": {},
     "output_type": "execute_result"
    }
   ],
   "source": [
    "nba_json[\"data\"][0].keys()  # [0]"
   ]
  },
  {
   "cell_type": "code",
   "execution_count": 58,
   "metadata": {},
   "outputs": [
    {
     "data": {
      "text/plain": [
       "dict_keys(['id', 'conference', 'division', 'city', 'name', 'full_name', 'abbreviation'])"
      ]
     },
     "execution_count": 58,
     "metadata": {},
     "output_type": "execute_result"
    }
   ],
   "source": [
    "nba_json[\"data\"][0]['team'].keys()"
   ]
  },
  {
   "cell_type": "markdown",
   "metadata": {
    "id": "7DvQSjeXJgGo"
   },
   "source": [
    "Sometimes you need to loop through items"
   ]
  },
  {
   "cell_type": "code",
   "execution_count": 61,
   "metadata": {
    "id": "TlczPtsxJgGo"
   },
   "outputs": [
    {
     "name": "stdout",
     "output_type": "stream",
     "text": [
      "Player: Alex - Division: Northwest\n",
      "Player: Jaylen - Division: Southeast\n",
      "Player: Steven - Division: Southwest\n",
      "Player: Bam - Division: Southeast\n",
      "Player: DeVaughn - Division: Northwest\n",
      "Player: LaMarcus - Division: Atlantic\n",
      "Player: Rawle - Division: Central\n",
      "Player: Grayson - Division: Pacific\n",
      "Player: Jarrett - Division: Central\n",
      "Player: Al-Farouq - Division: Northwest\n",
      "Player: Justin - Division: Central\n",
      "Player: Kyle - Division: Southeast\n",
      "Player: Ryan - Division: Southwest\n",
      "Player: Ike - Division: Central\n",
      "Player: Giannis - Division: Central\n",
      "Player: Kostas - Division: Central\n",
      "Player: Carmelo - Division: Pacific\n",
      "Player: OG - Division: Atlantic\n",
      "Player: Ryan - Division: Atlantic\n",
      "Player: Trevor - Division: Pacific\n",
      "Player: D.J. - Division: Pacific\n",
      "Player: Deandre - Division: Northwest\n",
      "Player: Dwayne - Division: Pacific\n",
      "Player: Marvin - Division: Southwest\n",
      "Player: Ron - Division: Atlantic\n"
     ]
    }
   ],
   "source": [
    "# if index is not needed\n",
    "for player_dict in nba_json['data']:\n",
    "    # Access the division of each player\n",
    "    division = player_dict['team']['division']\n",
    "    # Print the division of each player\n",
    "    print(f\"Player: {player_dict['first_name']} - Division: {division}\")"
   ]
  },
  {
   "cell_type": "code",
   "execution_count": 62,
   "metadata": {
    "id": "y321WgTxJgGo"
   },
   "outputs": [
    {
     "name": "stdout",
     "output_type": "stream",
     "text": [
      "Player 1 is in the Northwest division.\n",
      "Player 2 is in the Southeast division.\n",
      "Player 3 is in the Southwest division.\n",
      "Player 4 is in the Southeast division.\n",
      "Player 5 is in the Northwest division.\n",
      "Player 6 is in the Atlantic division.\n",
      "Player 7 is in the Central division.\n",
      "Player 8 is in the Pacific division.\n",
      "Player 9 is in the Central division.\n",
      "Player 10 is in the Northwest division.\n",
      "Player 11 is in the Central division.\n",
      "Player 12 is in the Southeast division.\n",
      "Player 13 is in the Southwest division.\n",
      "Player 14 is in the Central division.\n",
      "Player 15 is in the Central division.\n",
      "Player 16 is in the Central division.\n",
      "Player 17 is in the Pacific division.\n",
      "Player 18 is in the Atlantic division.\n",
      "Player 19 is in the Atlantic division.\n",
      "Player 20 is in the Pacific division.\n",
      "Player 21 is in the Pacific division.\n",
      "Player 22 is in the Northwest division.\n",
      "Player 23 is in the Pacific division.\n",
      "Player 24 is in the Southwest division.\n",
      "Player 25 is in the Atlantic division.\n"
     ]
    }
   ],
   "source": [
    "# if index is needed -> enumerate\n",
    "for index, player in enumerate(nba_json['data']):\n",
    "    # Access the division of each player\n",
    "    division = player['team']['division']\n",
    "    # Print the index and the division of each player\n",
    "    print(f\"Player {index + 1} is in the {division} division.\")"
   ]
  },
  {
   "cell_type": "code",
   "execution_count": 63,
   "metadata": {
    "id": "_eVwBgUWYNPK"
   },
   "outputs": [
    {
     "name": "stdout",
     "output_type": "stream",
     "text": [
      "Unique Divisions: {'Northwest', 'Central', 'Atlantic', 'Southwest', 'Southeast', 'Pacific'}\n"
     ]
    }
   ],
   "source": [
    "# Initialize a set to store unique divisions\n",
    "unique_divisions = set()\n",
    "\n",
    "# Loop through each player in the list\n",
    "for player in nba_json['data']:\n",
    "    # Extract the division from each player's team data\n",
    "    division = player['team']['division']\n",
    "    # Add the division to the set of unique divisions\n",
    "    unique_divisions.add(division)\n",
    "\n",
    "# Print all unique divisions\n",
    "print(\"Unique Divisions:\", unique_divisions)"
   ]
  },
  {
   "cell_type": "markdown",
   "metadata": {
    "id": "1dCR2GWtJgGp"
   },
   "source": [
    "When there is a pattern, one can try to normalize semi-structured JSON data into a flat table"
   ]
  },
  {
   "cell_type": "markdown",
   "metadata": {
    "id": "72RPnsnaJgGp"
   },
   "source": [
    "### Normalization"
   ]
  },
  {
   "cell_type": "markdown",
   "metadata": {
    "id": "5i4hmlFtJgGp"
   },
   "source": [
    "```python\n",
    "# Normalize structured JSON data into a flat table\n",
    "from pandas import json_normalize\n",
    "\n",
    "json_normalize(...)\n",
    "```"
   ]
  },
  {
   "cell_type": "markdown",
   "metadata": {
    "id": "F9UEG1s8JgGp"
   },
   "source": [
    "**Exercise**:\n",
    "\n",
    "Try to normalize the list of structured dictionaries above"
   ]
  },
  {
   "cell_type": "code",
   "execution_count": 64,
   "metadata": {},
   "outputs": [],
   "source": [
    "import pandas as pd"
   ]
  },
  {
   "cell_type": "code",
   "execution_count": 66,
   "metadata": {
    "scrolled": true
   },
   "outputs": [
    {
     "data": {
      "text/plain": [
       "[{'id': 1,\n",
       "  'first_name': 'Alex',\n",
       "  'last_name': 'Abrines',\n",
       "  'position': 'G',\n",
       "  'height': '6-6',\n",
       "  'weight': '190',\n",
       "  'jersey_number': '8',\n",
       "  'college': 'FC Barcelona',\n",
       "  'country': 'Spain',\n",
       "  'draft_year': 2013,\n",
       "  'draft_round': 2,\n",
       "  'draft_number': 32,\n",
       "  'team': {'id': 21,\n",
       "   'conference': 'West',\n",
       "   'division': 'Northwest',\n",
       "   'city': 'Oklahoma City',\n",
       "   'name': 'Thunder',\n",
       "   'full_name': 'Oklahoma City Thunder',\n",
       "   'abbreviation': 'OKC'}},\n",
       " {'id': 2,\n",
       "  'first_name': 'Jaylen',\n",
       "  'last_name': 'Adams',\n",
       "  'position': 'G',\n",
       "  'height': '6-0',\n",
       "  'weight': '225',\n",
       "  'jersey_number': '10',\n",
       "  'college': 'St. Bonaventure',\n",
       "  'country': 'USA',\n",
       "  'draft_year': None,\n",
       "  'draft_round': None,\n",
       "  'draft_number': None,\n",
       "  'team': {'id': 1,\n",
       "   'conference': 'East',\n",
       "   'division': 'Southeast',\n",
       "   'city': 'Atlanta',\n",
       "   'name': 'Hawks',\n",
       "   'full_name': 'Atlanta Hawks',\n",
       "   'abbreviation': 'ATL'}},\n",
       " {'id': 3,\n",
       "  'first_name': 'Steven',\n",
       "  'last_name': 'Adams',\n",
       "  'position': 'C',\n",
       "  'height': '6-11',\n",
       "  'weight': '265',\n",
       "  'jersey_number': '12',\n",
       "  'college': 'Pittsburgh',\n",
       "  'country': 'New Zealand',\n",
       "  'draft_year': 2013,\n",
       "  'draft_round': 1,\n",
       "  'draft_number': 12,\n",
       "  'team': {'id': 11,\n",
       "   'conference': 'West',\n",
       "   'division': 'Southwest',\n",
       "   'city': 'Houston',\n",
       "   'name': 'Rockets',\n",
       "   'full_name': 'Houston Rockets',\n",
       "   'abbreviation': 'HOU'}},\n",
       " {'id': 4,\n",
       "  'first_name': 'Bam',\n",
       "  'last_name': 'Adebayo',\n",
       "  'position': 'C-F',\n",
       "  'height': '6-9',\n",
       "  'weight': '255',\n",
       "  'jersey_number': '13',\n",
       "  'college': 'Kentucky',\n",
       "  'country': 'USA',\n",
       "  'draft_year': 2017,\n",
       "  'draft_round': 1,\n",
       "  'draft_number': 14,\n",
       "  'team': {'id': 16,\n",
       "   'conference': 'East',\n",
       "   'division': 'Southeast',\n",
       "   'city': 'Miami',\n",
       "   'name': 'Heat',\n",
       "   'full_name': 'Miami Heat',\n",
       "   'abbreviation': 'MIA'}},\n",
       " {'id': 5,\n",
       "  'first_name': 'DeVaughn',\n",
       "  'last_name': 'Akoon-Purcell',\n",
       "  'position': 'G-F',\n",
       "  'height': '6-5',\n",
       "  'weight': '201',\n",
       "  'jersey_number': '44',\n",
       "  'college': 'Illinois State',\n",
       "  'country': 'Trinidad and Tobago',\n",
       "  'draft_year': 2016,\n",
       "  'draft_round': None,\n",
       "  'draft_number': None,\n",
       "  'team': {'id': 8,\n",
       "   'conference': 'West',\n",
       "   'division': 'Northwest',\n",
       "   'city': 'Denver',\n",
       "   'name': 'Nuggets',\n",
       "   'full_name': 'Denver Nuggets',\n",
       "   'abbreviation': 'DEN'}},\n",
       " {'id': 6,\n",
       "  'first_name': 'LaMarcus',\n",
       "  'last_name': 'Aldridge',\n",
       "  'position': 'F',\n",
       "  'height': '6-11',\n",
       "  'weight': '250',\n",
       "  'jersey_number': '21',\n",
       "  'college': 'University of Texas at Austin',\n",
       "  'country': 'USA',\n",
       "  'draft_year': 2006,\n",
       "  'draft_round': 1,\n",
       "  'draft_number': 2,\n",
       "  'team': {'id': 3,\n",
       "   'conference': 'East',\n",
       "   'division': 'Atlantic',\n",
       "   'city': 'Brooklyn',\n",
       "   'name': 'Nets',\n",
       "   'full_name': 'Brooklyn Nets',\n",
       "   'abbreviation': 'BKN'}},\n",
       " {'id': 7,\n",
       "  'first_name': 'Rawle',\n",
       "  'last_name': 'Alkins',\n",
       "  'position': 'G',\n",
       "  'height': '6-5',\n",
       "  'weight': '225',\n",
       "  'jersey_number': '20',\n",
       "  'college': 'Arizona',\n",
       "  'country': 'USA',\n",
       "  'draft_year': None,\n",
       "  'draft_round': None,\n",
       "  'draft_number': None,\n",
       "  'team': {'id': 5,\n",
       "   'conference': 'East',\n",
       "   'division': 'Central',\n",
       "   'city': 'Chicago',\n",
       "   'name': 'Bulls',\n",
       "   'full_name': 'Chicago Bulls',\n",
       "   'abbreviation': 'CHI'}},\n",
       " {'id': 8,\n",
       "  'first_name': 'Grayson',\n",
       "  'last_name': 'Allen',\n",
       "  'position': 'G',\n",
       "  'height': '6-4',\n",
       "  'weight': '198',\n",
       "  'jersey_number': '8',\n",
       "  'college': 'Duke',\n",
       "  'country': 'USA',\n",
       "  'draft_year': 2018,\n",
       "  'draft_round': 1,\n",
       "  'draft_number': 21,\n",
       "  'team': {'id': 24,\n",
       "   'conference': 'West',\n",
       "   'division': 'Pacific',\n",
       "   'city': 'Phoenix',\n",
       "   'name': 'Suns',\n",
       "   'full_name': 'Phoenix Suns',\n",
       "   'abbreviation': 'PHX'}},\n",
       " {'id': 9,\n",
       "  'first_name': 'Jarrett',\n",
       "  'last_name': 'Allen',\n",
       "  'position': 'C',\n",
       "  'height': '6-9',\n",
       "  'weight': '243',\n",
       "  'jersey_number': '31',\n",
       "  'college': 'Texas',\n",
       "  'country': 'USA',\n",
       "  'draft_year': 2017,\n",
       "  'draft_round': 1,\n",
       "  'draft_number': 22,\n",
       "  'team': {'id': 6,\n",
       "   'conference': 'East',\n",
       "   'division': 'Central',\n",
       "   'city': 'Cleveland',\n",
       "   'name': 'Cavaliers',\n",
       "   'full_name': 'Cleveland Cavaliers',\n",
       "   'abbreviation': 'CLE'}},\n",
       " {'id': 10,\n",
       "  'first_name': 'Al-Farouq',\n",
       "  'last_name': 'Aminu',\n",
       "  'position': 'F',\n",
       "  'height': '6-8',\n",
       "  'weight': '220',\n",
       "  'jersey_number': '5',\n",
       "  'college': 'Wake Forest',\n",
       "  'country': 'USA',\n",
       "  'draft_year': 2010,\n",
       "  'draft_round': 1,\n",
       "  'draft_number': 8,\n",
       "  'team': {'id': 25,\n",
       "   'conference': 'West',\n",
       "   'division': 'Northwest',\n",
       "   'city': 'Portland',\n",
       "   'name': 'Trail Blazers',\n",
       "   'full_name': 'Portland Trail Blazers',\n",
       "   'abbreviation': 'POR'}},\n",
       " {'id': 11,\n",
       "  'first_name': 'Justin',\n",
       "  'last_name': 'Anderson',\n",
       "  'position': 'G-F',\n",
       "  'height': '6-5',\n",
       "  'weight': '231',\n",
       "  'jersey_number': '10',\n",
       "  'college': 'Virginia',\n",
       "  'country': 'USA',\n",
       "  'draft_year': 2015,\n",
       "  'draft_round': 1,\n",
       "  'draft_number': 21,\n",
       "  'team': {'id': 12,\n",
       "   'conference': 'East',\n",
       "   'division': 'Central',\n",
       "   'city': 'Indiana',\n",
       "   'name': 'Pacers',\n",
       "   'full_name': 'Indiana Pacers',\n",
       "   'abbreviation': 'IND'}},\n",
       " {'id': 12,\n",
       "  'first_name': 'Kyle',\n",
       "  'last_name': 'Anderson',\n",
       "  'position': 'F',\n",
       "  'height': '6-9',\n",
       "  'weight': '230',\n",
       "  'jersey_number': '20',\n",
       "  'college': 'UCLA',\n",
       "  'country': 'USA',\n",
       "  'draft_year': 2014,\n",
       "  'draft_round': 1,\n",
       "  'draft_number': 30,\n",
       "  'team': {'id': 16,\n",
       "   'conference': 'East',\n",
       "   'division': 'Southeast',\n",
       "   'city': 'Miami',\n",
       "   'name': 'Heat',\n",
       "   'full_name': 'Miami Heat',\n",
       "   'abbreviation': 'MIA'}},\n",
       " {'id': 13,\n",
       "  'first_name': 'Ryan',\n",
       "  'last_name': 'Anderson',\n",
       "  'position': 'F',\n",
       "  'height': '6-10',\n",
       "  'weight': '240',\n",
       "  'jersey_number': '31',\n",
       "  'college': 'California',\n",
       "  'country': 'USA',\n",
       "  'draft_year': 2008,\n",
       "  'draft_round': 1,\n",
       "  'draft_number': 21,\n",
       "  'team': {'id': 19,\n",
       "   'conference': 'West',\n",
       "   'division': 'Southwest',\n",
       "   'city': 'New Orleans',\n",
       "   'name': 'Pelicans',\n",
       "   'full_name': 'New Orleans Pelicans',\n",
       "   'abbreviation': 'NOP'}},\n",
       " {'id': 14,\n",
       "  'first_name': 'Ike',\n",
       "  'last_name': 'Anigbogu',\n",
       "  'position': 'C',\n",
       "  'height': '6-10',\n",
       "  'weight': '262',\n",
       "  'jersey_number': '13',\n",
       "  'college': 'UCLA',\n",
       "  'country': 'USA',\n",
       "  'draft_year': 2017,\n",
       "  'draft_round': 2,\n",
       "  'draft_number': 47,\n",
       "  'team': {'id': 12,\n",
       "   'conference': 'East',\n",
       "   'division': 'Central',\n",
       "   'city': 'Indiana',\n",
       "   'name': 'Pacers',\n",
       "   'full_name': 'Indiana Pacers',\n",
       "   'abbreviation': 'IND'}},\n",
       " {'id': 15,\n",
       "  'first_name': 'Giannis',\n",
       "  'last_name': 'Antetokounmpo',\n",
       "  'position': 'F',\n",
       "  'height': '6-11',\n",
       "  'weight': '243',\n",
       "  'jersey_number': '34',\n",
       "  'college': 'Filathlitikos',\n",
       "  'country': 'Greece',\n",
       "  'draft_year': 2013,\n",
       "  'draft_round': 1,\n",
       "  'draft_number': 15,\n",
       "  'team': {'id': 17,\n",
       "   'conference': 'East',\n",
       "   'division': 'Central',\n",
       "   'city': 'Milwaukee',\n",
       "   'name': 'Bucks',\n",
       "   'full_name': 'Milwaukee Bucks',\n",
       "   'abbreviation': 'MIL'}},\n",
       " {'id': 16,\n",
       "  'first_name': 'Kostas',\n",
       "  'last_name': 'Antetokounmpo',\n",
       "  'position': 'F',\n",
       "  'height': '6-10',\n",
       "  'weight': '200',\n",
       "  'jersey_number': '37',\n",
       "  'college': 'Dayton',\n",
       "  'country': 'Greece',\n",
       "  'draft_year': 2018,\n",
       "  'draft_round': 2,\n",
       "  'draft_number': 60,\n",
       "  'team': {'id': 5,\n",
       "   'conference': 'East',\n",
       "   'division': 'Central',\n",
       "   'city': 'Chicago',\n",
       "   'name': 'Bulls',\n",
       "   'full_name': 'Chicago Bulls',\n",
       "   'abbreviation': 'CHI'}},\n",
       " {'id': 17,\n",
       "  'first_name': 'Carmelo',\n",
       "  'last_name': 'Anthony',\n",
       "  'position': 'F',\n",
       "  'height': '6-7',\n",
       "  'weight': '238',\n",
       "  'jersey_number': '7',\n",
       "  'college': 'Syracuse',\n",
       "  'country': 'USA',\n",
       "  'draft_year': 2003,\n",
       "  'draft_round': 1,\n",
       "  'draft_number': 3,\n",
       "  'team': {'id': 14,\n",
       "   'conference': 'West',\n",
       "   'division': 'Pacific',\n",
       "   'city': 'Los Angeles',\n",
       "   'name': 'Lakers',\n",
       "   'full_name': 'Los Angeles Lakers',\n",
       "   'abbreviation': 'LAL'}},\n",
       " {'id': 18,\n",
       "  'first_name': 'OG',\n",
       "  'last_name': 'Anunoby',\n",
       "  'position': 'F',\n",
       "  'height': '6-7',\n",
       "  'weight': '240',\n",
       "  'jersey_number': '8',\n",
       "  'college': 'Indiana',\n",
       "  'country': 'United Kingdom',\n",
       "  'draft_year': 2017,\n",
       "  'draft_round': 1,\n",
       "  'draft_number': 23,\n",
       "  'team': {'id': 20,\n",
       "   'conference': 'East',\n",
       "   'division': 'Atlantic',\n",
       "   'city': 'New York',\n",
       "   'name': 'Knicks',\n",
       "   'full_name': 'New York Knicks',\n",
       "   'abbreviation': 'NYK'}},\n",
       " {'id': 19,\n",
       "  'first_name': 'Ryan',\n",
       "  'last_name': 'Arcidiacono',\n",
       "  'position': 'G',\n",
       "  'height': '6-3',\n",
       "  'weight': '195',\n",
       "  'jersey_number': '51',\n",
       "  'college': 'Villanova',\n",
       "  'country': 'USA',\n",
       "  'draft_year': None,\n",
       "  'draft_round': None,\n",
       "  'draft_number': None,\n",
       "  'team': {'id': 20,\n",
       "   'conference': 'East',\n",
       "   'division': 'Atlantic',\n",
       "   'city': 'New York',\n",
       "   'name': 'Knicks',\n",
       "   'full_name': 'New York Knicks',\n",
       "   'abbreviation': 'NYK'}},\n",
       " {'id': 20,\n",
       "  'first_name': 'Trevor',\n",
       "  'last_name': 'Ariza',\n",
       "  'position': 'F',\n",
       "  'height': '6-8',\n",
       "  'weight': '215',\n",
       "  'jersey_number': '8',\n",
       "  'college': 'UCLA',\n",
       "  'country': 'USA',\n",
       "  'draft_year': 2004,\n",
       "  'draft_round': 2,\n",
       "  'draft_number': 43,\n",
       "  'team': {'id': 14,\n",
       "   'conference': 'West',\n",
       "   'division': 'Pacific',\n",
       "   'city': 'Los Angeles',\n",
       "   'name': 'Lakers',\n",
       "   'full_name': 'Los Angeles Lakers',\n",
       "   'abbreviation': 'LAL'}},\n",
       " {'id': 21,\n",
       "  'first_name': 'D.J.',\n",
       "  'last_name': 'Augustin',\n",
       "  'position': 'G',\n",
       "  'height': '5-11',\n",
       "  'weight': '183',\n",
       "  'jersey_number': '4',\n",
       "  'college': 'Texas',\n",
       "  'country': 'USA',\n",
       "  'draft_year': 2008,\n",
       "  'draft_round': 1,\n",
       "  'draft_number': 9,\n",
       "  'team': {'id': 14,\n",
       "   'conference': 'West',\n",
       "   'division': 'Pacific',\n",
       "   'city': 'Los Angeles',\n",
       "   'name': 'Lakers',\n",
       "   'full_name': 'Los Angeles Lakers',\n",
       "   'abbreviation': 'LAL'}},\n",
       " {'id': 22,\n",
       "  'first_name': 'Deandre',\n",
       "  'last_name': 'Ayton',\n",
       "  'position': 'C',\n",
       "  'height': '7-0',\n",
       "  'weight': '252',\n",
       "  'jersey_number': '2',\n",
       "  'college': 'Arizona',\n",
       "  'country': 'Bahamas',\n",
       "  'draft_year': 2018,\n",
       "  'draft_round': 1,\n",
       "  'draft_number': 1,\n",
       "  'team': {'id': 25,\n",
       "   'conference': 'West',\n",
       "   'division': 'Northwest',\n",
       "   'city': 'Portland',\n",
       "   'name': 'Trail Blazers',\n",
       "   'full_name': 'Portland Trail Blazers',\n",
       "   'abbreviation': 'POR'}},\n",
       " {'id': 23,\n",
       "  'first_name': 'Dwayne',\n",
       "  'last_name': 'Bacon',\n",
       "  'position': 'G-F',\n",
       "  'height': '6-6',\n",
       "  'weight': '221',\n",
       "  'jersey_number': '8',\n",
       "  'college': 'Florida State',\n",
       "  'country': 'USA',\n",
       "  'draft_year': 2017,\n",
       "  'draft_round': 2,\n",
       "  'draft_number': 40,\n",
       "  'team': {'id': 14,\n",
       "   'conference': 'West',\n",
       "   'division': 'Pacific',\n",
       "   'city': 'Los Angeles',\n",
       "   'name': 'Lakers',\n",
       "   'full_name': 'Los Angeles Lakers',\n",
       "   'abbreviation': 'LAL'}},\n",
       " {'id': 24,\n",
       "  'first_name': 'Marvin',\n",
       "  'last_name': 'Bagley III',\n",
       "  'position': 'F',\n",
       "  'height': '6-10',\n",
       "  'weight': '235',\n",
       "  'jersey_number': '35',\n",
       "  'college': 'Duke',\n",
       "  'country': 'USA',\n",
       "  'draft_year': 2018,\n",
       "  'draft_round': 1,\n",
       "  'draft_number': 2,\n",
       "  'team': {'id': 15,\n",
       "   'conference': 'West',\n",
       "   'division': 'Southwest',\n",
       "   'city': 'Memphis',\n",
       "   'name': 'Grizzlies',\n",
       "   'full_name': 'Memphis Grizzlies',\n",
       "   'abbreviation': 'MEM'}},\n",
       " {'id': 25,\n",
       "  'first_name': 'Ron',\n",
       "  'last_name': 'Baker',\n",
       "  'position': 'G',\n",
       "  'height': '6-4',\n",
       "  'weight': '220',\n",
       "  'jersey_number': '31',\n",
       "  'college': 'Wichita State',\n",
       "  'country': 'USA',\n",
       "  'draft_year': None,\n",
       "  'draft_round': None,\n",
       "  'draft_number': None,\n",
       "  'team': {'id': 20,\n",
       "   'conference': 'East',\n",
       "   'division': 'Atlantic',\n",
       "   'city': 'New York',\n",
       "   'name': 'Knicks',\n",
       "   'full_name': 'New York Knicks',\n",
       "   'abbreviation': 'NYK'}}]"
      ]
     },
     "execution_count": 66,
     "metadata": {},
     "output_type": "execute_result"
    }
   ],
   "source": [
    "nba_json['data']"
   ]
  },
  {
   "cell_type": "code",
   "execution_count": 67,
   "metadata": {
    "id": "WnCIqy2UJgGp"
   },
   "outputs": [],
   "source": [
    "nba_df = pd.json_normalize(nba_json['data'])"
   ]
  },
  {
   "cell_type": "code",
   "execution_count": 68,
   "metadata": {},
   "outputs": [
    {
     "data": {
      "text/html": [
       "<div>\n",
       "<style scoped>\n",
       "    .dataframe tbody tr th:only-of-type {\n",
       "        vertical-align: middle;\n",
       "    }\n",
       "\n",
       "    .dataframe tbody tr th {\n",
       "        vertical-align: top;\n",
       "    }\n",
       "\n",
       "    .dataframe thead th {\n",
       "        text-align: right;\n",
       "    }\n",
       "</style>\n",
       "<table border=\"1\" class=\"dataframe\">\n",
       "  <thead>\n",
       "    <tr style=\"text-align: right;\">\n",
       "      <th></th>\n",
       "      <th>id</th>\n",
       "      <th>first_name</th>\n",
       "      <th>last_name</th>\n",
       "      <th>position</th>\n",
       "      <th>height</th>\n",
       "      <th>weight</th>\n",
       "      <th>jersey_number</th>\n",
       "      <th>college</th>\n",
       "      <th>country</th>\n",
       "      <th>draft_year</th>\n",
       "      <th>draft_round</th>\n",
       "      <th>draft_number</th>\n",
       "      <th>team.id</th>\n",
       "      <th>team.conference</th>\n",
       "      <th>team.division</th>\n",
       "      <th>team.city</th>\n",
       "      <th>team.name</th>\n",
       "      <th>team.full_name</th>\n",
       "      <th>team.abbreviation</th>\n",
       "    </tr>\n",
       "  </thead>\n",
       "  <tbody>\n",
       "    <tr>\n",
       "      <th>0</th>\n",
       "      <td>1</td>\n",
       "      <td>Alex</td>\n",
       "      <td>Abrines</td>\n",
       "      <td>G</td>\n",
       "      <td>6-6</td>\n",
       "      <td>190</td>\n",
       "      <td>8</td>\n",
       "      <td>FC Barcelona</td>\n",
       "      <td>Spain</td>\n",
       "      <td>2013.0</td>\n",
       "      <td>2.0</td>\n",
       "      <td>32.0</td>\n",
       "      <td>21</td>\n",
       "      <td>West</td>\n",
       "      <td>Northwest</td>\n",
       "      <td>Oklahoma City</td>\n",
       "      <td>Thunder</td>\n",
       "      <td>Oklahoma City Thunder</td>\n",
       "      <td>OKC</td>\n",
       "    </tr>\n",
       "    <tr>\n",
       "      <th>1</th>\n",
       "      <td>2</td>\n",
       "      <td>Jaylen</td>\n",
       "      <td>Adams</td>\n",
       "      <td>G</td>\n",
       "      <td>6-0</td>\n",
       "      <td>225</td>\n",
       "      <td>10</td>\n",
       "      <td>St. Bonaventure</td>\n",
       "      <td>USA</td>\n",
       "      <td>NaN</td>\n",
       "      <td>NaN</td>\n",
       "      <td>NaN</td>\n",
       "      <td>1</td>\n",
       "      <td>East</td>\n",
       "      <td>Southeast</td>\n",
       "      <td>Atlanta</td>\n",
       "      <td>Hawks</td>\n",
       "      <td>Atlanta Hawks</td>\n",
       "      <td>ATL</td>\n",
       "    </tr>\n",
       "    <tr>\n",
       "      <th>2</th>\n",
       "      <td>3</td>\n",
       "      <td>Steven</td>\n",
       "      <td>Adams</td>\n",
       "      <td>C</td>\n",
       "      <td>6-11</td>\n",
       "      <td>265</td>\n",
       "      <td>12</td>\n",
       "      <td>Pittsburgh</td>\n",
       "      <td>New Zealand</td>\n",
       "      <td>2013.0</td>\n",
       "      <td>1.0</td>\n",
       "      <td>12.0</td>\n",
       "      <td>11</td>\n",
       "      <td>West</td>\n",
       "      <td>Southwest</td>\n",
       "      <td>Houston</td>\n",
       "      <td>Rockets</td>\n",
       "      <td>Houston Rockets</td>\n",
       "      <td>HOU</td>\n",
       "    </tr>\n",
       "    <tr>\n",
       "      <th>3</th>\n",
       "      <td>4</td>\n",
       "      <td>Bam</td>\n",
       "      <td>Adebayo</td>\n",
       "      <td>C-F</td>\n",
       "      <td>6-9</td>\n",
       "      <td>255</td>\n",
       "      <td>13</td>\n",
       "      <td>Kentucky</td>\n",
       "      <td>USA</td>\n",
       "      <td>2017.0</td>\n",
       "      <td>1.0</td>\n",
       "      <td>14.0</td>\n",
       "      <td>16</td>\n",
       "      <td>East</td>\n",
       "      <td>Southeast</td>\n",
       "      <td>Miami</td>\n",
       "      <td>Heat</td>\n",
       "      <td>Miami Heat</td>\n",
       "      <td>MIA</td>\n",
       "    </tr>\n",
       "    <tr>\n",
       "      <th>4</th>\n",
       "      <td>5</td>\n",
       "      <td>DeVaughn</td>\n",
       "      <td>Akoon-Purcell</td>\n",
       "      <td>G-F</td>\n",
       "      <td>6-5</td>\n",
       "      <td>201</td>\n",
       "      <td>44</td>\n",
       "      <td>Illinois State</td>\n",
       "      <td>Trinidad and Tobago</td>\n",
       "      <td>2016.0</td>\n",
       "      <td>NaN</td>\n",
       "      <td>NaN</td>\n",
       "      <td>8</td>\n",
       "      <td>West</td>\n",
       "      <td>Northwest</td>\n",
       "      <td>Denver</td>\n",
       "      <td>Nuggets</td>\n",
       "      <td>Denver Nuggets</td>\n",
       "      <td>DEN</td>\n",
       "    </tr>\n",
       "    <tr>\n",
       "      <th>5</th>\n",
       "      <td>6</td>\n",
       "      <td>LaMarcus</td>\n",
       "      <td>Aldridge</td>\n",
       "      <td>F</td>\n",
       "      <td>6-11</td>\n",
       "      <td>250</td>\n",
       "      <td>21</td>\n",
       "      <td>University of Texas at Austin</td>\n",
       "      <td>USA</td>\n",
       "      <td>2006.0</td>\n",
       "      <td>1.0</td>\n",
       "      <td>2.0</td>\n",
       "      <td>3</td>\n",
       "      <td>East</td>\n",
       "      <td>Atlantic</td>\n",
       "      <td>Brooklyn</td>\n",
       "      <td>Nets</td>\n",
       "      <td>Brooklyn Nets</td>\n",
       "      <td>BKN</td>\n",
       "    </tr>\n",
       "    <tr>\n",
       "      <th>6</th>\n",
       "      <td>7</td>\n",
       "      <td>Rawle</td>\n",
       "      <td>Alkins</td>\n",
       "      <td>G</td>\n",
       "      <td>6-5</td>\n",
       "      <td>225</td>\n",
       "      <td>20</td>\n",
       "      <td>Arizona</td>\n",
       "      <td>USA</td>\n",
       "      <td>NaN</td>\n",
       "      <td>NaN</td>\n",
       "      <td>NaN</td>\n",
       "      <td>5</td>\n",
       "      <td>East</td>\n",
       "      <td>Central</td>\n",
       "      <td>Chicago</td>\n",
       "      <td>Bulls</td>\n",
       "      <td>Chicago Bulls</td>\n",
       "      <td>CHI</td>\n",
       "    </tr>\n",
       "    <tr>\n",
       "      <th>7</th>\n",
       "      <td>8</td>\n",
       "      <td>Grayson</td>\n",
       "      <td>Allen</td>\n",
       "      <td>G</td>\n",
       "      <td>6-4</td>\n",
       "      <td>198</td>\n",
       "      <td>8</td>\n",
       "      <td>Duke</td>\n",
       "      <td>USA</td>\n",
       "      <td>2018.0</td>\n",
       "      <td>1.0</td>\n",
       "      <td>21.0</td>\n",
       "      <td>24</td>\n",
       "      <td>West</td>\n",
       "      <td>Pacific</td>\n",
       "      <td>Phoenix</td>\n",
       "      <td>Suns</td>\n",
       "      <td>Phoenix Suns</td>\n",
       "      <td>PHX</td>\n",
       "    </tr>\n",
       "    <tr>\n",
       "      <th>8</th>\n",
       "      <td>9</td>\n",
       "      <td>Jarrett</td>\n",
       "      <td>Allen</td>\n",
       "      <td>C</td>\n",
       "      <td>6-9</td>\n",
       "      <td>243</td>\n",
       "      <td>31</td>\n",
       "      <td>Texas</td>\n",
       "      <td>USA</td>\n",
       "      <td>2017.0</td>\n",
       "      <td>1.0</td>\n",
       "      <td>22.0</td>\n",
       "      <td>6</td>\n",
       "      <td>East</td>\n",
       "      <td>Central</td>\n",
       "      <td>Cleveland</td>\n",
       "      <td>Cavaliers</td>\n",
       "      <td>Cleveland Cavaliers</td>\n",
       "      <td>CLE</td>\n",
       "    </tr>\n",
       "    <tr>\n",
       "      <th>9</th>\n",
       "      <td>10</td>\n",
       "      <td>Al-Farouq</td>\n",
       "      <td>Aminu</td>\n",
       "      <td>F</td>\n",
       "      <td>6-8</td>\n",
       "      <td>220</td>\n",
       "      <td>5</td>\n",
       "      <td>Wake Forest</td>\n",
       "      <td>USA</td>\n",
       "      <td>2010.0</td>\n",
       "      <td>1.0</td>\n",
       "      <td>8.0</td>\n",
       "      <td>25</td>\n",
       "      <td>West</td>\n",
       "      <td>Northwest</td>\n",
       "      <td>Portland</td>\n",
       "      <td>Trail Blazers</td>\n",
       "      <td>Portland Trail Blazers</td>\n",
       "      <td>POR</td>\n",
       "    </tr>\n",
       "    <tr>\n",
       "      <th>10</th>\n",
       "      <td>11</td>\n",
       "      <td>Justin</td>\n",
       "      <td>Anderson</td>\n",
       "      <td>G-F</td>\n",
       "      <td>6-5</td>\n",
       "      <td>231</td>\n",
       "      <td>10</td>\n",
       "      <td>Virginia</td>\n",
       "      <td>USA</td>\n",
       "      <td>2015.0</td>\n",
       "      <td>1.0</td>\n",
       "      <td>21.0</td>\n",
       "      <td>12</td>\n",
       "      <td>East</td>\n",
       "      <td>Central</td>\n",
       "      <td>Indiana</td>\n",
       "      <td>Pacers</td>\n",
       "      <td>Indiana Pacers</td>\n",
       "      <td>IND</td>\n",
       "    </tr>\n",
       "    <tr>\n",
       "      <th>11</th>\n",
       "      <td>12</td>\n",
       "      <td>Kyle</td>\n",
       "      <td>Anderson</td>\n",
       "      <td>F</td>\n",
       "      <td>6-9</td>\n",
       "      <td>230</td>\n",
       "      <td>20</td>\n",
       "      <td>UCLA</td>\n",
       "      <td>USA</td>\n",
       "      <td>2014.0</td>\n",
       "      <td>1.0</td>\n",
       "      <td>30.0</td>\n",
       "      <td>16</td>\n",
       "      <td>East</td>\n",
       "      <td>Southeast</td>\n",
       "      <td>Miami</td>\n",
       "      <td>Heat</td>\n",
       "      <td>Miami Heat</td>\n",
       "      <td>MIA</td>\n",
       "    </tr>\n",
       "    <tr>\n",
       "      <th>12</th>\n",
       "      <td>13</td>\n",
       "      <td>Ryan</td>\n",
       "      <td>Anderson</td>\n",
       "      <td>F</td>\n",
       "      <td>6-10</td>\n",
       "      <td>240</td>\n",
       "      <td>31</td>\n",
       "      <td>California</td>\n",
       "      <td>USA</td>\n",
       "      <td>2008.0</td>\n",
       "      <td>1.0</td>\n",
       "      <td>21.0</td>\n",
       "      <td>19</td>\n",
       "      <td>West</td>\n",
       "      <td>Southwest</td>\n",
       "      <td>New Orleans</td>\n",
       "      <td>Pelicans</td>\n",
       "      <td>New Orleans Pelicans</td>\n",
       "      <td>NOP</td>\n",
       "    </tr>\n",
       "    <tr>\n",
       "      <th>13</th>\n",
       "      <td>14</td>\n",
       "      <td>Ike</td>\n",
       "      <td>Anigbogu</td>\n",
       "      <td>C</td>\n",
       "      <td>6-10</td>\n",
       "      <td>262</td>\n",
       "      <td>13</td>\n",
       "      <td>UCLA</td>\n",
       "      <td>USA</td>\n",
       "      <td>2017.0</td>\n",
       "      <td>2.0</td>\n",
       "      <td>47.0</td>\n",
       "      <td>12</td>\n",
       "      <td>East</td>\n",
       "      <td>Central</td>\n",
       "      <td>Indiana</td>\n",
       "      <td>Pacers</td>\n",
       "      <td>Indiana Pacers</td>\n",
       "      <td>IND</td>\n",
       "    </tr>\n",
       "    <tr>\n",
       "      <th>14</th>\n",
       "      <td>15</td>\n",
       "      <td>Giannis</td>\n",
       "      <td>Antetokounmpo</td>\n",
       "      <td>F</td>\n",
       "      <td>6-11</td>\n",
       "      <td>243</td>\n",
       "      <td>34</td>\n",
       "      <td>Filathlitikos</td>\n",
       "      <td>Greece</td>\n",
       "      <td>2013.0</td>\n",
       "      <td>1.0</td>\n",
       "      <td>15.0</td>\n",
       "      <td>17</td>\n",
       "      <td>East</td>\n",
       "      <td>Central</td>\n",
       "      <td>Milwaukee</td>\n",
       "      <td>Bucks</td>\n",
       "      <td>Milwaukee Bucks</td>\n",
       "      <td>MIL</td>\n",
       "    </tr>\n",
       "    <tr>\n",
       "      <th>15</th>\n",
       "      <td>16</td>\n",
       "      <td>Kostas</td>\n",
       "      <td>Antetokounmpo</td>\n",
       "      <td>F</td>\n",
       "      <td>6-10</td>\n",
       "      <td>200</td>\n",
       "      <td>37</td>\n",
       "      <td>Dayton</td>\n",
       "      <td>Greece</td>\n",
       "      <td>2018.0</td>\n",
       "      <td>2.0</td>\n",
       "      <td>60.0</td>\n",
       "      <td>5</td>\n",
       "      <td>East</td>\n",
       "      <td>Central</td>\n",
       "      <td>Chicago</td>\n",
       "      <td>Bulls</td>\n",
       "      <td>Chicago Bulls</td>\n",
       "      <td>CHI</td>\n",
       "    </tr>\n",
       "    <tr>\n",
       "      <th>16</th>\n",
       "      <td>17</td>\n",
       "      <td>Carmelo</td>\n",
       "      <td>Anthony</td>\n",
       "      <td>F</td>\n",
       "      <td>6-7</td>\n",
       "      <td>238</td>\n",
       "      <td>7</td>\n",
       "      <td>Syracuse</td>\n",
       "      <td>USA</td>\n",
       "      <td>2003.0</td>\n",
       "      <td>1.0</td>\n",
       "      <td>3.0</td>\n",
       "      <td>14</td>\n",
       "      <td>West</td>\n",
       "      <td>Pacific</td>\n",
       "      <td>Los Angeles</td>\n",
       "      <td>Lakers</td>\n",
       "      <td>Los Angeles Lakers</td>\n",
       "      <td>LAL</td>\n",
       "    </tr>\n",
       "    <tr>\n",
       "      <th>17</th>\n",
       "      <td>18</td>\n",
       "      <td>OG</td>\n",
       "      <td>Anunoby</td>\n",
       "      <td>F</td>\n",
       "      <td>6-7</td>\n",
       "      <td>240</td>\n",
       "      <td>8</td>\n",
       "      <td>Indiana</td>\n",
       "      <td>United Kingdom</td>\n",
       "      <td>2017.0</td>\n",
       "      <td>1.0</td>\n",
       "      <td>23.0</td>\n",
       "      <td>20</td>\n",
       "      <td>East</td>\n",
       "      <td>Atlantic</td>\n",
       "      <td>New York</td>\n",
       "      <td>Knicks</td>\n",
       "      <td>New York Knicks</td>\n",
       "      <td>NYK</td>\n",
       "    </tr>\n",
       "    <tr>\n",
       "      <th>18</th>\n",
       "      <td>19</td>\n",
       "      <td>Ryan</td>\n",
       "      <td>Arcidiacono</td>\n",
       "      <td>G</td>\n",
       "      <td>6-3</td>\n",
       "      <td>195</td>\n",
       "      <td>51</td>\n",
       "      <td>Villanova</td>\n",
       "      <td>USA</td>\n",
       "      <td>NaN</td>\n",
       "      <td>NaN</td>\n",
       "      <td>NaN</td>\n",
       "      <td>20</td>\n",
       "      <td>East</td>\n",
       "      <td>Atlantic</td>\n",
       "      <td>New York</td>\n",
       "      <td>Knicks</td>\n",
       "      <td>New York Knicks</td>\n",
       "      <td>NYK</td>\n",
       "    </tr>\n",
       "    <tr>\n",
       "      <th>19</th>\n",
       "      <td>20</td>\n",
       "      <td>Trevor</td>\n",
       "      <td>Ariza</td>\n",
       "      <td>F</td>\n",
       "      <td>6-8</td>\n",
       "      <td>215</td>\n",
       "      <td>8</td>\n",
       "      <td>UCLA</td>\n",
       "      <td>USA</td>\n",
       "      <td>2004.0</td>\n",
       "      <td>2.0</td>\n",
       "      <td>43.0</td>\n",
       "      <td>14</td>\n",
       "      <td>West</td>\n",
       "      <td>Pacific</td>\n",
       "      <td>Los Angeles</td>\n",
       "      <td>Lakers</td>\n",
       "      <td>Los Angeles Lakers</td>\n",
       "      <td>LAL</td>\n",
       "    </tr>\n",
       "    <tr>\n",
       "      <th>20</th>\n",
       "      <td>21</td>\n",
       "      <td>D.J.</td>\n",
       "      <td>Augustin</td>\n",
       "      <td>G</td>\n",
       "      <td>5-11</td>\n",
       "      <td>183</td>\n",
       "      <td>4</td>\n",
       "      <td>Texas</td>\n",
       "      <td>USA</td>\n",
       "      <td>2008.0</td>\n",
       "      <td>1.0</td>\n",
       "      <td>9.0</td>\n",
       "      <td>14</td>\n",
       "      <td>West</td>\n",
       "      <td>Pacific</td>\n",
       "      <td>Los Angeles</td>\n",
       "      <td>Lakers</td>\n",
       "      <td>Los Angeles Lakers</td>\n",
       "      <td>LAL</td>\n",
       "    </tr>\n",
       "    <tr>\n",
       "      <th>21</th>\n",
       "      <td>22</td>\n",
       "      <td>Deandre</td>\n",
       "      <td>Ayton</td>\n",
       "      <td>C</td>\n",
       "      <td>7-0</td>\n",
       "      <td>252</td>\n",
       "      <td>2</td>\n",
       "      <td>Arizona</td>\n",
       "      <td>Bahamas</td>\n",
       "      <td>2018.0</td>\n",
       "      <td>1.0</td>\n",
       "      <td>1.0</td>\n",
       "      <td>25</td>\n",
       "      <td>West</td>\n",
       "      <td>Northwest</td>\n",
       "      <td>Portland</td>\n",
       "      <td>Trail Blazers</td>\n",
       "      <td>Portland Trail Blazers</td>\n",
       "      <td>POR</td>\n",
       "    </tr>\n",
       "    <tr>\n",
       "      <th>22</th>\n",
       "      <td>23</td>\n",
       "      <td>Dwayne</td>\n",
       "      <td>Bacon</td>\n",
       "      <td>G-F</td>\n",
       "      <td>6-6</td>\n",
       "      <td>221</td>\n",
       "      <td>8</td>\n",
       "      <td>Florida State</td>\n",
       "      <td>USA</td>\n",
       "      <td>2017.0</td>\n",
       "      <td>2.0</td>\n",
       "      <td>40.0</td>\n",
       "      <td>14</td>\n",
       "      <td>West</td>\n",
       "      <td>Pacific</td>\n",
       "      <td>Los Angeles</td>\n",
       "      <td>Lakers</td>\n",
       "      <td>Los Angeles Lakers</td>\n",
       "      <td>LAL</td>\n",
       "    </tr>\n",
       "    <tr>\n",
       "      <th>23</th>\n",
       "      <td>24</td>\n",
       "      <td>Marvin</td>\n",
       "      <td>Bagley III</td>\n",
       "      <td>F</td>\n",
       "      <td>6-10</td>\n",
       "      <td>235</td>\n",
       "      <td>35</td>\n",
       "      <td>Duke</td>\n",
       "      <td>USA</td>\n",
       "      <td>2018.0</td>\n",
       "      <td>1.0</td>\n",
       "      <td>2.0</td>\n",
       "      <td>15</td>\n",
       "      <td>West</td>\n",
       "      <td>Southwest</td>\n",
       "      <td>Memphis</td>\n",
       "      <td>Grizzlies</td>\n",
       "      <td>Memphis Grizzlies</td>\n",
       "      <td>MEM</td>\n",
       "    </tr>\n",
       "    <tr>\n",
       "      <th>24</th>\n",
       "      <td>25</td>\n",
       "      <td>Ron</td>\n",
       "      <td>Baker</td>\n",
       "      <td>G</td>\n",
       "      <td>6-4</td>\n",
       "      <td>220</td>\n",
       "      <td>31</td>\n",
       "      <td>Wichita State</td>\n",
       "      <td>USA</td>\n",
       "      <td>NaN</td>\n",
       "      <td>NaN</td>\n",
       "      <td>NaN</td>\n",
       "      <td>20</td>\n",
       "      <td>East</td>\n",
       "      <td>Atlantic</td>\n",
       "      <td>New York</td>\n",
       "      <td>Knicks</td>\n",
       "      <td>New York Knicks</td>\n",
       "      <td>NYK</td>\n",
       "    </tr>\n",
       "  </tbody>\n",
       "</table>\n",
       "</div>"
      ],
      "text/plain": [
       "    id first_name      last_name position height weight jersey_number  \\\n",
       "0    1       Alex        Abrines        G    6-6    190             8   \n",
       "1    2     Jaylen          Adams        G    6-0    225            10   \n",
       "2    3     Steven          Adams        C   6-11    265            12   \n",
       "3    4        Bam        Adebayo      C-F    6-9    255            13   \n",
       "4    5   DeVaughn  Akoon-Purcell      G-F    6-5    201            44   \n",
       "5    6   LaMarcus       Aldridge        F   6-11    250            21   \n",
       "6    7      Rawle         Alkins        G    6-5    225            20   \n",
       "7    8    Grayson          Allen        G    6-4    198             8   \n",
       "8    9    Jarrett          Allen        C    6-9    243            31   \n",
       "9   10  Al-Farouq          Aminu        F    6-8    220             5   \n",
       "10  11     Justin       Anderson      G-F    6-5    231            10   \n",
       "11  12       Kyle       Anderson        F    6-9    230            20   \n",
       "12  13       Ryan       Anderson        F   6-10    240            31   \n",
       "13  14        Ike       Anigbogu        C   6-10    262            13   \n",
       "14  15    Giannis  Antetokounmpo        F   6-11    243            34   \n",
       "15  16     Kostas  Antetokounmpo        F   6-10    200            37   \n",
       "16  17    Carmelo        Anthony        F    6-7    238             7   \n",
       "17  18         OG        Anunoby        F    6-7    240             8   \n",
       "18  19       Ryan    Arcidiacono        G    6-3    195            51   \n",
       "19  20     Trevor          Ariza        F    6-8    215             8   \n",
       "20  21       D.J.       Augustin        G   5-11    183             4   \n",
       "21  22    Deandre          Ayton        C    7-0    252             2   \n",
       "22  23     Dwayne          Bacon      G-F    6-6    221             8   \n",
       "23  24     Marvin     Bagley III        F   6-10    235            35   \n",
       "24  25        Ron          Baker        G    6-4    220            31   \n",
       "\n",
       "                          college              country  draft_year  \\\n",
       "0                    FC Barcelona                Spain      2013.0   \n",
       "1                 St. Bonaventure                  USA         NaN   \n",
       "2                      Pittsburgh          New Zealand      2013.0   \n",
       "3                        Kentucky                  USA      2017.0   \n",
       "4                  Illinois State  Trinidad and Tobago      2016.0   \n",
       "5   University of Texas at Austin                  USA      2006.0   \n",
       "6                         Arizona                  USA         NaN   \n",
       "7                            Duke                  USA      2018.0   \n",
       "8                           Texas                  USA      2017.0   \n",
       "9                     Wake Forest                  USA      2010.0   \n",
       "10                       Virginia                  USA      2015.0   \n",
       "11                           UCLA                  USA      2014.0   \n",
       "12                     California                  USA      2008.0   \n",
       "13                           UCLA                  USA      2017.0   \n",
       "14                  Filathlitikos               Greece      2013.0   \n",
       "15                         Dayton               Greece      2018.0   \n",
       "16                       Syracuse                  USA      2003.0   \n",
       "17                        Indiana       United Kingdom      2017.0   \n",
       "18                      Villanova                  USA         NaN   \n",
       "19                           UCLA                  USA      2004.0   \n",
       "20                          Texas                  USA      2008.0   \n",
       "21                        Arizona              Bahamas      2018.0   \n",
       "22                  Florida State                  USA      2017.0   \n",
       "23                           Duke                  USA      2018.0   \n",
       "24                  Wichita State                  USA         NaN   \n",
       "\n",
       "    draft_round  draft_number  team.id team.conference team.division  \\\n",
       "0           2.0          32.0       21            West     Northwest   \n",
       "1           NaN           NaN        1            East     Southeast   \n",
       "2           1.0          12.0       11            West     Southwest   \n",
       "3           1.0          14.0       16            East     Southeast   \n",
       "4           NaN           NaN        8            West     Northwest   \n",
       "5           1.0           2.0        3            East      Atlantic   \n",
       "6           NaN           NaN        5            East       Central   \n",
       "7           1.0          21.0       24            West       Pacific   \n",
       "8           1.0          22.0        6            East       Central   \n",
       "9           1.0           8.0       25            West     Northwest   \n",
       "10          1.0          21.0       12            East       Central   \n",
       "11          1.0          30.0       16            East     Southeast   \n",
       "12          1.0          21.0       19            West     Southwest   \n",
       "13          2.0          47.0       12            East       Central   \n",
       "14          1.0          15.0       17            East       Central   \n",
       "15          2.0          60.0        5            East       Central   \n",
       "16          1.0           3.0       14            West       Pacific   \n",
       "17          1.0          23.0       20            East      Atlantic   \n",
       "18          NaN           NaN       20            East      Atlantic   \n",
       "19          2.0          43.0       14            West       Pacific   \n",
       "20          1.0           9.0       14            West       Pacific   \n",
       "21          1.0           1.0       25            West     Northwest   \n",
       "22          2.0          40.0       14            West       Pacific   \n",
       "23          1.0           2.0       15            West     Southwest   \n",
       "24          NaN           NaN       20            East      Atlantic   \n",
       "\n",
       "        team.city      team.name          team.full_name team.abbreviation  \n",
       "0   Oklahoma City        Thunder   Oklahoma City Thunder               OKC  \n",
       "1         Atlanta          Hawks           Atlanta Hawks               ATL  \n",
       "2         Houston        Rockets         Houston Rockets               HOU  \n",
       "3           Miami           Heat              Miami Heat               MIA  \n",
       "4          Denver        Nuggets          Denver Nuggets               DEN  \n",
       "5        Brooklyn           Nets           Brooklyn Nets               BKN  \n",
       "6         Chicago          Bulls           Chicago Bulls               CHI  \n",
       "7         Phoenix           Suns            Phoenix Suns               PHX  \n",
       "8       Cleveland      Cavaliers     Cleveland Cavaliers               CLE  \n",
       "9        Portland  Trail Blazers  Portland Trail Blazers               POR  \n",
       "10        Indiana         Pacers          Indiana Pacers               IND  \n",
       "11          Miami           Heat              Miami Heat               MIA  \n",
       "12    New Orleans       Pelicans    New Orleans Pelicans               NOP  \n",
       "13        Indiana         Pacers          Indiana Pacers               IND  \n",
       "14      Milwaukee          Bucks         Milwaukee Bucks               MIL  \n",
       "15        Chicago          Bulls           Chicago Bulls               CHI  \n",
       "16    Los Angeles         Lakers      Los Angeles Lakers               LAL  \n",
       "17       New York         Knicks         New York Knicks               NYK  \n",
       "18       New York         Knicks         New York Knicks               NYK  \n",
       "19    Los Angeles         Lakers      Los Angeles Lakers               LAL  \n",
       "20    Los Angeles         Lakers      Los Angeles Lakers               LAL  \n",
       "21       Portland  Trail Blazers  Portland Trail Blazers               POR  \n",
       "22    Los Angeles         Lakers      Los Angeles Lakers               LAL  \n",
       "23        Memphis      Grizzlies       Memphis Grizzlies               MEM  \n",
       "24       New York         Knicks         New York Knicks               NYK  "
      ]
     },
     "execution_count": 68,
     "metadata": {},
     "output_type": "execute_result"
    }
   ],
   "source": [
    "nba_df"
   ]
  },
  {
   "cell_type": "code",
   "execution_count": 69,
   "metadata": {},
   "outputs": [
    {
     "name": "stdout",
     "output_type": "stream",
     "text": [
      "<class 'pandas.core.frame.DataFrame'>\n",
      "RangeIndex: 25 entries, 0 to 24\n",
      "Data columns (total 19 columns):\n",
      " #   Column             Non-Null Count  Dtype  \n",
      "---  ------             --------------  -----  \n",
      " 0   id                 25 non-null     int64  \n",
      " 1   first_name         25 non-null     object \n",
      " 2   last_name          25 non-null     object \n",
      " 3   position           25 non-null     object \n",
      " 4   height             25 non-null     object \n",
      " 5   weight             25 non-null     object \n",
      " 6   jersey_number      25 non-null     object \n",
      " 7   college            25 non-null     object \n",
      " 8   country            25 non-null     object \n",
      " 9   draft_year         21 non-null     float64\n",
      " 10  draft_round        20 non-null     float64\n",
      " 11  draft_number       20 non-null     float64\n",
      " 12  team.id            25 non-null     int64  \n",
      " 13  team.conference    25 non-null     object \n",
      " 14  team.division      25 non-null     object \n",
      " 15  team.city          25 non-null     object \n",
      " 16  team.name          25 non-null     object \n",
      " 17  team.full_name     25 non-null     object \n",
      " 18  team.abbreviation  25 non-null     object \n",
      "dtypes: float64(3), int64(2), object(14)\n",
      "memory usage: 3.8+ KB\n"
     ]
    }
   ],
   "source": [
    "nba_df.info()"
   ]
  },
  {
   "cell_type": "markdown",
   "metadata": {
    "id": "tLpsuw_2JgGp"
   },
   "source": [
    "**Summary**:\n",
    "\n",
    "This was an example on how to access structured data that web services provide us for free and without registration. But this is not always the case. Some of them don't want to work for free (and it is understandable - storing data and providing API cost money). Some of them want to know where the data will go, so they demand registration!"
   ]
  },
  {
   "cell_type": "markdown",
   "metadata": {
    "id": "kvLQYpXJJgGp",
    "tags": []
   },
   "source": [
    "<div style=\"border-top:0.1cm solid #EF475B\"></div>\n",
    "    <strong><a href='#Q0'><div style=\"text-align: right\"> <h3>End of this Notebook.</h3></div></a></strong>"
   ]
  }
 ],
 "metadata": {
  "celltoolbar": "Slideshow",
  "colab": {
   "provenance": []
  },
  "kernelspec": {
   "display_name": "Python 3 (ipykernel)",
   "language": "python",
   "name": "python3"
  },
  "language_info": {
   "codemirror_mode": {
    "name": "ipython",
    "version": 3
   },
   "file_extension": ".py",
   "mimetype": "text/x-python",
   "name": "python",
   "nbconvert_exporter": "python",
   "pygments_lexer": "ipython3",
   "version": "3.10.10"
  },
  "rise": {
   "chalkboard": {
    "color": [
     "rgb(0,128,255)",
     "rgb(0,128,255)"
    ],
    "theme": "chalkboard"
   },
   "enable_chalkboard": true,
   "footer": "<img src='https://drive.google.com/uc?id=1imM8PAMMQPJKq3eVG9p9Ol6iB--J8JfD' width='30'/> Propulsion Academy, 2020",
   "scroll": true,
   "theme": "black",
   "transition": "convex"
  }
 },
 "nbformat": 4,
 "nbformat_minor": 4
}
