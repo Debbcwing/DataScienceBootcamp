{
 "cells": [
  {
   "attachments": {},
   "cell_type": "markdown",
   "id": "fc41e5a8-a807-44b0-80ca-072f0bad95b1",
   "metadata": {
    "tags": [
     "headers"
    ]
   },
   "source": [
    "<center><a target=\"_blank\" href=\"https://academy.constructor.org/\"><img src=https://lh3.googleusercontent.com/d/1EmH3Jks5CpJy0zK3JbkvJZkeqWtVcxhB width=\"500\" style=\"background:none; border:none; box-shadow:none;\" /></a> </center>\n",
    "<hr />\n",
    "\n",
    "# <h1 align=\"center\"> DST Day 1 Exercises Part 3: Python - Intermediate </h1>\n",
    "\n",
    "<hr />\n",
    "<center>Constructor Academy, 2025</center>\n"
   ]
  },
  {
   "cell_type": "markdown",
   "id": "7b9a6bcc",
   "metadata": {},
   "source": [
    "\n",
    "<div style=\"background:#EEEDF5;border-top:0.1cm solid #EF475B;border-bottom:0.1cm solid #EF475B;\">\n",
    "    <div style=\"margin-left: 0.5cm;margin-top: 0.5cm;margin-bottom: 0.5cm;color:#303030\">\n",
    "        <p><strong>Goal:</strong> Train your coding skills in Python!</p>\n",
    "        <strong> Outline:</strong>\n",
    "        <a id='Q0' name=\"Q0\"></a>\n",
    "        <ul>\n",
    "            <li> <a style=\"color:#303030\" href='#Q1'>3.1. Counting DNA Nucleotides</a> </li>\n",
    "            <li> <a style=\"color:#303030\" href='#Q2'>3.2. Cat and Mouse</a></li>\n",
    "            <li> <a style=\"color:#303030\" href='#Q3'>3.3. Number to text</a></li>\n",
    "            <li> <a style=\"color:#303030\" href='#Q4'>3.4. Insane dictionary</a></li>\n",
    "            <li> <a style=\"color:#303030\" href='#Q5'>3.5. - Split the Bill</a></li>\n",
    "        </ul>\n",
    "        <strong>Topics Trained:</strong> list, dict, set, tuples\n",
    "    </div>\n",
    "</div>\n",
    "\n",
    "<nav style=\"text-align:right\"><strong>\n",
    "        <a style=\"color:#00BAE5\" href=\"https://constructor.app/learn/courses/f45190af-1e40-4fb3-b0f4-b062878d55a9/view/content/5ff0f127-9f6c-481d-91fb-27af0a765669\" title=\"momentum\"> Module 1, The Data Science Toolkit </a>|\n",
    "        <a style=\"color:#00BAE5\" href=\"https://constructor.app/learn/courses/f45190af-1e40-4fb3-b0f4-b062878d55a9/view/content/5ff0f127-9f6c-481d-91fb-27af0a765669/b5c79da5-6bce-4ad0-b750-630d45769526\" title=\"momentum\">Day 1, Python Fundamentals </a>|\n",
    "        <a style=\"color:#00BAE5\" href=\"https://constructor.app/learn/courses/f45190af-1e40-4fb3-b0f4-b062878d55a9/view/content/5ff0f127-9f6c-481d-91fb-27af0a765669/b5c79da5-6bce-4ad0-b750-630d45769526/87094432-13f1-4d0f-8d9c-ba0ae2706e67/d4e813f5-af1e-40f1-a4c6-5b8db897aac7\"> Execise Part 3, Python Intermediate</a>\n",
    "</strong></nav>"
   ]
  },
  {
   "cell_type": "markdown",
   "id": "bb625b77-2e26-4fd1-87b5-8220ed560dcd",
   "metadata": {},
   "source": [
    "<a id='Q1' name=\"Q1\"></a>\n",
    "## [Exercise 3.1. Counting DNA Nucleotides](#Q0)"
   ]
  },
  {
   "cell_type": "code",
   "execution_count": 1,
   "id": "metric-diana",
   "metadata": {},
   "outputs": [
    {
     "name": "stdout",
     "output_type": "stream",
     "text": [
      "A: 277 C: 253 G: 241 T 229\n",
      "GCCGCAACGUGGCUAGCAGGCCGUGUCCACUUUCAGCCGGUUAACUUGGGCUAGAGGUGUGUCCCCUCAUAUAUAGUCUUCACCUCAAGCUGGCCAAUCAAUACGGCGAUGAAAAUCUGUGGACGAAAGUCCAAGUAUGGAAGUAUAAACGUAGGGUAACCGGAUGCAACAGGUAAGCCGCUGUCUUGGGAAACGGAUUUGGACGCGCUUCACAUUUAGACGAAACUCUGCUGGCAGCGAUAUCGUAACGUAUCGAACAUAUGGCACUGAACGCUCGCCUUGCAUGGGCUUGGCGGUCGGGAAUCGCGACAUACCGUGUUCUUCGCAGAGUAUCUUAUUACGUAGACAUAAAUCUCCUUCACCAGGACUGAUCACCAGACCAGCACACGCAACCCACCCAUUCAGAAGGCCGACUCGAUGUUCGGUGCCACUAGGAUUAUACAAAUGAGCUGCGGGAAGUCGCUCGGAUCGGAGCCUUAACUAUGCAGCCUGGGUACAUUCCGGUAGGACCUUACUAAGUAUAUAAGCGGUUCAAAUUGGCAUAAUUGUUGACAGACUGUUCACGGCUCAGAACGUAACACACACUAUUUAUAUUAUGGUUCUCCAUAUGGGCGACUAGUACACUUACUGGCGGCAUUUCGGAACUGUAAUGUUUAGCUAUUCGGUCGACACGUAUUCUUCCGCUUACGGCAGGUGAUUUAUAUAAACCCGAUAUGAGCCACGGCACCUGCGUCUUGCCCUUUCGUACUCGAAUCUCGCACCAGAUAGGGAACGAAGCUUUCCGGAAAAUCAUAGCAAUUUCCUAUGGGUCCUAGGUUUCACAAGGUCGACCUCGGGUAUCAACCAACUACAGUCAGAAAGCUGGAUAGCCCUCACCCACCGGCGAAGUUAUUUCAUAGUGGUACAGAGUGAUCCUGUUACUCGCGCGAAGUGCAUUCUUGGACGGUAGCCGCUUUAAUUGGACAGAGCUGAUUGACAAGAGGAAGCUUCGAUAAUCGAA\n"
     ]
    }
   ],
   "source": [
    "\"\"\"\n",
    "Counting DNA Nucleotides\n",
    "\"\"\"\n",
    "\n",
    "# Initialize DNA string with length 1000\n",
    "\n",
    "import numpy as np\n",
    "\n",
    "bases = ('A', 'C', 'G', 'T')\n",
    "\n",
    "\n",
    "def dna_string_generator(length):\n",
    "    s = [''.join(np.random.choice(bases)) for _ in range(length)]\n",
    "    return ''.join(s)\n",
    "\n",
    "\n",
    "# Return four integers counting the number of times each symbol occurs in the string\n",
    "\n",
    "def nucleotid_counter(s):\n",
    "    return \"A: {} C: {} G: {} T {}\".format(s.count('A'), s.count('C'), s.count('G'), s.count('T'))\n",
    "\n",
    "\n",
    "s = dna_string_generator(1000)\n",
    "print(nucleotid_counter(s))\n",
    "\n",
    "\"\"\"\n",
    "Transcribing DNA into RNA\n",
    "\"\"\"\n",
    "\n",
    "import re\n",
    "\n",
    "\n",
    "def rna_transcriber(t):\n",
    "    return re.sub(\"T\", \"U\", t)\n",
    "\n",
    "\n",
    "t = dna_string_generator(1000)\n",
    "print(rna_transcriber(t))"
   ]
  },
  {
   "cell_type": "markdown",
   "id": "tested-discrimination",
   "metadata": {},
   "source": [
    "![alt text](https://media.giphy.com/media/10qh1kNK4xJl28/giphy.gif)"
   ]
  },
  {
   "cell_type": "markdown",
   "id": "26671254-4708-4841-a7fd-94a04d84cf14",
   "metadata": {},
   "source": [
    "<a id='Q2' name=\"Q2\"></a>\n",
    "## [Exercise 3.2. Cat and Mouse](#Q0)"
   ]
  },
  {
   "cell_type": "markdown",
   "id": "a29d1fa5-55b2-49a4-bde2-6d9efdac6fc4",
   "metadata": {},
   "source": [
    "You will be given a string featuring a cat ‘C’ and a mouse ‘m’. The rest of the string will be made up of ‘.’.\n",
    "\n",
    "You need to find out if the cat can catch the mouse from it’s current position. The cat can jump three characters."
   ]
  },
  {
   "cell_type": "code",
   "execution_count": 2,
   "id": "wanted-friend",
   "metadata": {},
   "outputs": [],
   "source": [
    "def is_caught(argument):\n",
    "    cat_and_mouse = list(argument)\n",
    "    \n",
    "    # index() method finds the given element in a list and returns its position.\n",
    "    c = cat_and_mouse.index('C')\n",
    "    m = cat_and_mouse.index('m')\n",
    "    \n",
    "    return True if m - c <= 3 else False\n"
   ]
  },
  {
   "cell_type": "code",
   "execution_count": 3,
   "id": "turkish-location",
   "metadata": {},
   "outputs": [
    {
     "name": "stdout",
     "output_type": "stream",
     "text": [
      "False\n",
      "True\n",
      "True\n",
      "False\n",
      "True\n"
     ]
    }
   ],
   "source": [
    "print(is_caught('C.....m'))   # False\n",
    "print(is_caught('C..m'))      # True\n",
    "print(is_caught('..C..m'))    # True\n",
    "print(is_caught('...C...m'))  # False\n",
    "print(is_caught('C.m'))       # True"
   ]
  },
  {
   "cell_type": "markdown",
   "id": "bfa075ad-bebf-4da4-861c-c6fe788f93d4",
   "metadata": {},
   "source": [
    "<a id='Q3' name=\"Q3\"></a>\n",
    "## [Exercise 3.3. Number to text](#Q0)"
   ]
  },
  {
   "cell_type": "markdown",
   "id": "7dbe8b82-8fac-48fd-9034-3cffce37f0ba",
   "metadata": {},
   "source": [
    "Create a function that based on a number between 0-99 returns it’s written value as string. Bonus points if your function supports even higher numbers!"
   ]
  },
  {
   "cell_type": "code",
   "execution_count": 4,
   "id": "natural-hours",
   "metadata": {},
   "outputs": [],
   "source": [
    "def write_number(num):\n",
    "    digits = ['', 'one', 'two', 'three', 'four', 'five', 'six', 'seven', 'eight', 'nine', 'ten']\n",
    "    tens = ['', '', 'twenty', 'thirty', 'fourty', 'fifty', 'sixty', 'seventy', 'eighty', 'ninety']\n",
    "\n",
    "    lower_20 = digits + ['eleven', 'twelve', 'thirteen', 'fourteen', 'fifteen', 'sixteen', 'seventeen', 'eighteen',\n",
    "                         'nineteen']\n",
    "\n",
    "    if num == 0:\n",
    "        # handle 0 differently\n",
    "        return 'zero'\n",
    "    \n",
    "    elif num >= 0 and num < 20:\n",
    "        # handle 1..19\n",
    "        return lower_20[num]\n",
    "    \n",
    "    elif num < 100:\n",
    "        # compose the rest\n",
    "        upper = tens[num // 10]  # get upper digit\n",
    "        lower = digits[num % 10]  # get lower digit (remainder of 10)\n",
    "\n",
    "        if lower:\n",
    "            return upper + \"-\" + lower\n",
    "        else:\n",
    "            return upper\n",
    "\n",
    "    else:\n",
    "        return \"Cannot convert, number must be between 0 and 99\"\n"
   ]
  },
  {
   "cell_type": "code",
   "execution_count": 5,
   "id": "improved-navigator",
   "metadata": {},
   "outputs": [
    {
     "name": "stdout",
     "output_type": "stream",
     "text": [
      "one\n",
      "five\n",
      "eleven\n",
      "nineteen\n",
      "twenty\n",
      "twenty-one\n",
      "thirty-three\n",
      "fourty\n",
      "ninety-nine\n"
     ]
    }
   ],
   "source": [
    "print(write_number(1))\n",
    "print(write_number(5))\n",
    "print(write_number(11))\n",
    "print(write_number(19))\n",
    "print(write_number(20))\n",
    "print(write_number(21))\n",
    "print(write_number(33))\n",
    "print(write_number(40))\n",
    "print(write_number(99))"
   ]
  },
  {
   "cell_type": "markdown",
   "id": "8403b924-2538-43e8-b749-7a607215c7f3",
   "metadata": {},
   "source": [
    "<a id='Q4' name=\"Q4\"></a>\n",
    "## [Exercise 3.4. Insane dictionary](#Q0)"
   ]
  },
  {
   "cell_type": "markdown",
   "id": "17101016-4408-4a78-b147-2015fe801f4a",
   "metadata": {},
   "source": [
    "Write a function that generates a dictionary where the keys are random numbers between 1 and 1000 and the values are the square of the keys. \n",
    "\n",
    "The function takes one parameter between 10 and 100 as an input and the output dictionary should have as many keys as this input number."
   ]
  },
  {
   "cell_type": "code",
   "execution_count": 6,
   "id": "seeing-broad",
   "metadata": {},
   "outputs": [],
   "source": [
    "def nt_dictionary(n):\n",
    "    import random\n",
    "    assert (n > 9), \"Choose a number between 10 and 100\"\n",
    "    assert (n < 101), \"Choose a number between 10 and 100\"\n",
    "    output = {}\n",
    "    for i in range(n):\n",
    "        while True:\n",
    "            rn = random.randint(1, 1000)\n",
    "            if rn in output.keys():\n",
    "                continue\n",
    "            break\n",
    "        output[rn] = rn * rn\n",
    "    return output"
   ]
  },
  {
   "cell_type": "code",
   "execution_count": 7,
   "id": "broken-metallic",
   "metadata": {},
   "outputs": [
    {
     "name": "stdout",
     "output_type": "stream",
     "text": [
      "{138: 19044, 203: 41209, 14: 196, 533: 284089, 961: 923521, 478: 228484, 218: 47524, 146: 21316, 974: 948676, 587: 344569, 400: 160000, 161: 25921, 205: 42025, 345: 119025, 31: 961, 952: 906304, 192: 36864, 770: 592900, 704: 495616, 410: 168100}\n"
     ]
    }
   ],
   "source": [
    "print(nt_dictionary(20))"
   ]
  },
  {
   "cell_type": "code",
   "execution_count": 8,
   "id": "hungry-climate",
   "metadata": {},
   "outputs": [
    {
     "name": "stdout",
     "output_type": "stream",
     "text": [
      "Length 20\n"
     ]
    }
   ],
   "source": [
    "print('Length', len(nt_dictionary(20)))"
   ]
  },
  {
   "cell_type": "markdown",
   "id": "b67ab27c-3992-47c8-9e1c-9225d92aae7b",
   "metadata": {},
   "source": [
    "<a id='Q4' name=\"Q4\"></a>\n",
    "## [Exercise 3.5. Split the Bill](#Q0)"
   ]
  },
  {
   "cell_type": "markdown",
   "id": "ffa7e329-6c04-4503-ad23-100cbc27a0d0",
   "metadata": {},
   "source": [
    "Write a function to balance who has overpaid and should be compensated or who has paid less.\n",
    "\n",
    "The function should take one parameter: a dictionary which represents the members of the group and the amount spent by each.\n",
    "\n",
    "The function should return an object with the same names, showing how much money the members should pay or receive.\n",
    "\n",
    "Negative number means they should receive money."
   ]
  },
  {
   "cell_type": "code",
   "execution_count": 9,
   "id": "golden-testament",
   "metadata": {},
   "outputs": [],
   "source": [
    "#sample output\n",
    "\n",
    "def split_the_bill(obj):\n",
    "    \n",
    "    output = {}\n",
    "    \n",
    "    average = sum(obj.values()) / len(obj)\n",
    "    \n",
    "    for key, value in obj.items():\n",
    "        output[key] = round(average - value)\n",
    "    \n",
    "    return output\n",
    "\n",
    "\n",
    "group = {\n",
    "    'Amy': 20,\n",
    "    'Bill': 15,\n",
    "    'Chris': 10\n",
    "}"
   ]
  },
  {
   "cell_type": "code",
   "execution_count": 10,
   "id": "current-amateur",
   "metadata": {},
   "outputs": [
    {
     "name": "stdout",
     "output_type": "stream",
     "text": [
      "{'Amy': -5, 'Bill': 0, 'Chris': 5}\n"
     ]
    }
   ],
   "source": [
    "print(split_the_bill(group)) "
   ]
  },
  {
   "cell_type": "markdown",
   "id": "8e7b2661-b350-4d55-a453-bcd26e7d383f",
   "metadata": {
    "tags": []
   },
   "source": [
    "<div style=\"border-top:0.1cm solid #EF475B\"></div>\n",
    "    <strong><a href='#Q0'><div style=\"text-align: right\"> <h3>End of this Notebook.</h3></div></a></strong>"
   ]
  }
 ],
 "metadata": {
  "kernelspec": {
   "display_name": "Python 3 (ipykernel)",
   "language": "python",
   "name": "python3"
  },
  "language_info": {
   "codemirror_mode": {
    "name": "ipython",
    "version": 3
   },
   "file_extension": ".py",
   "mimetype": "text/x-python",
   "name": "python",
   "nbconvert_exporter": "python",
   "pygments_lexer": "ipython3",
   "version": "3.12.3"
  },
  "vscode": {
   "interpreter": {
    "hash": "ac1a6af524aaf77d9a93b863091097e8257a45cb6a5bd695bb325a1b63099952"
   }
  }
 },
 "nbformat": 4,
 "nbformat_minor": 5
}
