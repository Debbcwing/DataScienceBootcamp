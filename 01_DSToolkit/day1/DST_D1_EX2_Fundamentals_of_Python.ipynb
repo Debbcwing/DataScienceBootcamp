{
 "cells": [
  {
   "attachments": {},
   "cell_type": "markdown",
   "metadata": {
    "tags": [
     "headers"
    ]
   },
   "source": [
    "<center><a target=\"_blank\" href=\"https://academy.constructor.org/\"><img src=https://lh3.googleusercontent.com/d/1EmH3Jks5CpJy0zK3JbkvJZkeqWtVcxhB width=\"500\" style=\"background:none; border:none; box-shadow:none;\" /></a> </center>\n",
    "<hr />\n",
    "\n",
    "# <h1 align=\"center\"> DST Day 1 Exercises Part 2: Fundamentals of Python </h1>\n",
    "\n",
    "<hr />\n",
    "<center>Constructor Academy, 2025</center>\n"
   ]
  },
  {
   "cell_type": "markdown",
   "metadata": {},
   "source": [
    "\n",
    "<div style=\"background:#EEEDF5;border-top:0.1cm solid #EF475B;border-bottom:0.1cm solid #EF475B;\">\n",
    "    <div style=\"margin-left: 0.5cm;margin-top: 0.5cm;margin-bottom: 0.5cm;color:#303030\">\n",
    "        <p><strong>Goal:</strong> learn the most important data structures in Python and how to use them</p>\n",
    "        <strong> Outline:</strong>\n",
    "        <a id='P0' name=\"P0\"></a>\n",
    "        <ul>\n",
    "            <li> <a style=\"color:#303030\" href='#Q1'> 2.2.1. First Neat List </a> </li>\n",
    "            <li> <a style=\"color:#303030\" href='#Q2'>2.2.2. Working List</a></li>\n",
    "            <li> <a style=\"color:#303030\" href='#Q3'>2.2.3. Alphabet Slices</a></li>\n",
    "            <li> <a style=\"color:#303030\" href='#Q4'>2.2.4. Multiples of Ten</a></li>\n",
    "            <li> <a style=\"color:#303030\" href='#Q5'>2.3. Tuples, Gymnast Scores</a></li>\n",
    "            <li> <a style=\"color:#303030\" href='#Q6'>2.4. Unix Timestamps</a></li>\n",
    "            <li> <a style=\"color:#303030\" href='#Q7'>2.5.1. Strings Count</a></li>\n",
    "            <li> <a style=\"color:#303030\" href='#Q8'>2.5.2. Anagrams</a></li>\n",
    "            <li> <a style=\"color:#303030\" href='#Q9'>2.6.1. Email Validation</a></li>\n",
    "            <li> <a style=\"color:#303030\" href='#Q10'>2.6.2. Password Validation</a></li>\n",
    "            <li> <a style=\"color:#303030\" href='#Q11'>2.7. Create Your Own Game</a></li>\n",
    "        </ul>\n",
    "        <strong>Topics Trained:</strong> list, dict, set, tuples\n",
    "    </div>\n",
    "</div>\n",
    "\n",
    "<nav style=\"text-align:right\"><strong>\n",
    "        <a style=\"color:#00BAE5\" href=\"https://constructor.app/learn/courses/f45190af-1e40-4fb3-b0f4-b062878d55a9/view/content/5ff0f127-9f6c-481d-91fb-27af0a765669\" title=\"momentum\"> Module 1, The Data Science Toolkit </a>|\n",
    "        <a style=\"color:#00BAE5\" href=\"https://constructor.app/learn/courses/f45190af-1e40-4fb3-b0f4-b062878d55a9/view/content/5ff0f127-9f6c-481d-91fb-27af0a765669/b5c79da5-6bce-4ad0-b750-630d45769526\" title=\"momentum\">Day 1, Python Fundamentals </a>|\n",
    "        <a style=\"color:#00BAE5\" href=\"https://constructor.app/learn/courses/f45190af-1e40-4fb3-b0f4-b062878d55a9/view/content/5ff0f127-9f6c-481d-91fb-27af0a765669/b5c79da5-6bce-4ad0-b750-630d45769526/87094432-13f1-4d0f-8d9c-ba0ae2706e67/a9aadc50-b703-449f-a616-4d32de7732ba\" title=\"momentum\"> Execise Part 2, Fundamentals of Python</a>\n",
    "</strong></nav>"
   ]
  },
  {
   "cell_type": "markdown",
   "metadata": {},
   "source": [
    "<a id='Q1' name=\"Q1\"></a>\n",
    "## [Exercise 2.2.1. - First Neat List](#Q0)"
   ]
  },
  {
   "cell_type": "code",
   "execution_count": 1,
   "metadata": {},
   "outputs": [
    {
     "name": "stdout",
     "output_type": "stream",
     "text": [
      "Jaco Pastorius was a famous Jazz bassist who died in 1987. He played a fretless 1962 Fender Jazz Bass and popularized the instrument in Jazz.\n"
     ]
    }
   ],
   "source": [
    "# Choose a person you look up to. Store their first and last names in separate Variables.\n",
    "\n",
    "first_name = \"Jaco\"\n",
    "last_name = \"Pastorius\"\n",
    "\n",
    "print(first_name, last_name,\n",
    "      \"was a famous Jazz bassist who died in 1987. He played a fretless 1962 Fender Jazz Bass and popularized the \"\n",
    "      \"instrument in Jazz.\")\n"
   ]
  },
  {
   "cell_type": "code",
   "execution_count": 2,
   "metadata": {},
   "outputs": [
    {
     "name": "stdout",
     "output_type": "stream",
     "text": [
      "We will be using python a lot\n",
      "The language c is the grandfather of the other two languages\n",
      "java is very popular for business applications but strictly enforces Object-Oriented Programming\n"
     ]
    }
   ],
   "source": [
    "# Store some values in a list and print a statement with each entry based on their position inside the list\n",
    "\n",
    "programming_languages = ['python', 'c', 'java']\n",
    "\n",
    "print(\"We will be using\", programming_languages[0], \"a lot\")\n",
    "print(\"The language\", programming_languages[1], \"is the grandfather of the other two languages\")\n",
    "print(programming_languages[2],\n",
    "      \"is very popular for business applications but strictly enforces Object-Oriented Programming\")\n"
   ]
  },
  {
   "cell_type": "markdown",
   "metadata": {
    "tags": []
   },
   "source": [
    "<a id='Q2' name=\"Q2\"></a>\n",
    "## [Exercise 2.2.2. - Working List](#Q0)"
   ]
  },
  {
   "cell_type": "code",
   "execution_count": 3,
   "metadata": {},
   "outputs": [],
   "source": [
    "#Make a list that includes four careers\n",
    "\n",
    "careers = ['alchemist', 'sorcerer', 'economist', 'hobbler']"
   ]
  },
  {
   "cell_type": "code",
   "execution_count": 4,
   "metadata": {},
   "outputs": [
    {
     "name": "stdout",
     "output_type": "stream",
     "text": [
      "2\n"
     ]
    }
   ],
   "source": [
    "# Use list.index() to find the index of one career in the list\n",
    "\n",
    "print(careers.index('economist'))"
   ]
  },
  {
   "cell_type": "code",
   "execution_count": 5,
   "metadata": {},
   "outputs": [
    {
     "name": "stdout",
     "output_type": "stream",
     "text": [
      "['alchemist', 'sorcerer', 'economist', 'hobbler', 'first mate']\n"
     ]
    }
   ],
   "source": [
    "# Use append() to add a new career to the list\n",
    "\n",
    "careers.append('first mate')\n",
    "print(careers)"
   ]
  },
  {
   "cell_type": "code",
   "execution_count": 6,
   "metadata": {},
   "outputs": [
    {
     "name": "stdout",
     "output_type": "stream",
     "text": [
      "['chef', 'alchemist', 'sorcerer', 'economist', 'hobbler', 'first mate']\n"
     ]
    }
   ],
   "source": [
    "# Use insert() to add a new career to the beginning of the list\n",
    "\n",
    "careers.insert(0, 'chef')\n",
    "print(careers)"
   ]
  },
  {
   "cell_type": "code",
   "execution_count": 7,
   "metadata": {},
   "outputs": [
    {
     "name": "stdout",
     "output_type": "stream",
     "text": [
      "alchemist\n",
      "chef\n",
      "economist\n",
      "first mate\n",
      "hobbler\n",
      "sorcerer\n"
     ]
    }
   ],
   "source": [
    "# Loop through the list and print careers in alphabetical order\n",
    "\n",
    "for career in sorted(careers):\n",
    "    print(career)"
   ]
  },
  {
   "cell_type": "code",
   "execution_count": 8,
   "metadata": {},
   "outputs": [
    {
     "name": "stdout",
     "output_type": "stream",
     "text": [
      "chef\n",
      "alchemist\n",
      "sorcerer\n",
      "economist\n",
      "hobbler\n",
      "first mate\n"
     ]
    }
   ],
   "source": [
    "# Loop through the list and print careers in original order\n",
    "\n",
    "for career in careers:\n",
    "    print(career)"
   ]
  },
  {
   "cell_type": "code",
   "execution_count": 9,
   "metadata": {},
   "outputs": [
    {
     "name": "stdout",
     "output_type": "stream",
     "text": [
      "first mate\n",
      "hobbler\n",
      "economist\n",
      "sorcerer\n",
      "alchemist\n",
      "chef\n"
     ]
    }
   ],
   "source": [
    "# Loop through the list and print careers in reverse order\n",
    "\n",
    "careers.reverse()\n",
    "for career in careers:\n",
    "    print(career)"
   ]
  },
  {
   "cell_type": "markdown",
   "metadata": {},
   "source": [
    "<a id='Q3' name=\"Q3\"></a>\n",
    "## [Exercise 2.2.3. - Alphabet Slices](#Q0)"
   ]
  },
  {
   "cell_type": "code",
   "execution_count": 10,
   "metadata": {},
   "outputs": [],
   "source": [
    "# Store first ten letters of alphabet in a list\n",
    "\n",
    "alphabet = ['a', 'b', 'c', 'd', 'e', 'f', 'g', 'h', 'i', 'j']"
   ]
  },
  {
   "cell_type": "code",
   "execution_count": 11,
   "metadata": {},
   "outputs": [
    {
     "name": "stdout",
     "output_type": "stream",
     "text": [
      "['a', 'b', 'c']\n"
     ]
    }
   ],
   "source": [
    "# Print first three letters of the alphabet with a slice\n",
    "\n",
    "print(alphabet[:3])"
   ]
  },
  {
   "cell_type": "code",
   "execution_count": 12,
   "metadata": {},
   "outputs": [
    {
     "name": "stdout",
     "output_type": "stream",
     "text": [
      "['d', 'e', 'f']\n"
     ]
    }
   ],
   "source": [
    "# Print three letters in the middle of the list with a slice\n",
    "\n",
    "print(alphabet[3:6])"
   ]
  },
  {
   "cell_type": "code",
   "execution_count": 13,
   "metadata": {},
   "outputs": [
    {
     "name": "stdout",
     "output_type": "stream",
     "text": [
      "['f', 'g', 'h', 'i', 'j']\n"
     ]
    }
   ],
   "source": [
    "# Print letters from any point in the list until the end\n",
    "\n",
    "print(alphabet[5:])"
   ]
  },
  {
   "cell_type": "markdown",
   "metadata": {},
   "source": [
    "<a id='Q4' name=\"Q4\"></a>\n",
    "## [Exercise 2.2.4. - Multiples of Ten](#Q0)"
   ]
  },
  {
   "cell_type": "code",
   "execution_count": 14,
   "metadata": {},
   "outputs": [
    {
     "name": "stdout",
     "output_type": "stream",
     "text": [
      "[10, 20, 30, 40, 50, 60, 70, 80, 90, 100]\n"
     ]
    }
   ],
   "source": [
    "# Make a list with the first ten multiples of then with list comprehension\n",
    "\n",
    "list_of_tens = [x * 10 for x in range(1, 11)]\n",
    "print(list_of_tens)"
   ]
  },
  {
   "cell_type": "markdown",
   "metadata": {},
   "source": [
    "<a id='Q5' name=\"Q5\"></a>\n",
    "## [Exercise 2.3. - Tuples, Gymnast Scores](#Q0)\n"
   ]
  },
  {
   "cell_type": "code",
   "execution_count": 15,
   "metadata": {},
   "outputs": [],
   "source": [
    "# Store the possible scores a gymnast can earn from one judge in a tuple\n",
    "\n",
    "scores = (1, 2, 3, 4, 5, 6, 7, 8, 9, 10)"
   ]
  },
  {
   "cell_type": "code",
   "execution_count": 16,
   "metadata": {},
   "outputs": [
    {
     "name": "stdout",
     "output_type": "stream",
     "text": [
      "The lowest possible score is 1\n",
      "The highest possible score is 10\n"
     ]
    }
   ],
   "source": [
    "# Print the lowest and highest possible score in a sentence\n",
    "\n",
    "print(\"The lowest possible score is\", scores[0])\n",
    "print(\"The highest possible score is\", scores[-1])"
   ]
  },
  {
   "cell_type": "code",
   "execution_count": 17,
   "metadata": {},
   "outputs": [
    {
     "name": "stdout",
     "output_type": "stream",
     "text": [
      "The judge can give a gymnast 1 point\n",
      "The judge can give a gymnast 2 points\n",
      "The judge can give a gymnast 3 points\n",
      "The judge can give a gymnast 4 points\n",
      "The judge can give a gymnast 5 points\n",
      "The judge can give a gymnast 6 points\n",
      "The judge can give a gymnast 7 points\n",
      "The judge can give a gymnast 8 points\n",
      "The judge can give a gymnast 9 points\n",
      "The judge can give a gymnast 10 points\n"
     ]
    }
   ],
   "source": [
    "# Print out a series of sentences, use python's string formatting and make sure it is grammatically correct\n",
    "\n",
    "for score in scores:\n",
    "    if score == 1:\n",
    "        print(\"%s %d %s\" % (\"The judge can give a gymnast\", score, \"point\"))\n",
    "    else:\n",
    "        print(\"%s %d %s\" % (\"The judge can give a gymnast\", score, \"points\"))"
   ]
  },
  {
   "cell_type": "markdown",
   "metadata": {},
   "source": [
    "<a id='Q6' name=\"Q6\"></a>\n",
    "## [Exercise 2.4. - Unix Timestamps](#Q0)"
   ]
  },
  {
   "cell_type": "code",
   "execution_count": 18,
   "metadata": {},
   "outputs": [
    {
     "name": "stdout",
     "output_type": "stream",
     "text": [
      "01 hour 28 minutes 00 seconds\n"
     ]
    }
   ],
   "source": [
    "#Print the difference between two UNIX Timestamps as human-readable time\n",
    "\n",
    "import time\n",
    "\n",
    "time1 = 1493565412\n",
    "time2 = 1493560132\n",
    "\n",
    "duration = time1 - time2\n",
    "\n",
    "print(time.strftime(\"%H hour %M minutes %S seconds\", time.gmtime(duration)))\n"
   ]
  },
  {
   "cell_type": "markdown",
   "metadata": {},
   "source": [
    "<a id='Q7' name=\"Q7\"></a>\n",
    "## [Exercise 2.5.1. - Words appearing in other words.](#Q0)"
   ]
  },
  {
   "cell_type": "code",
   "execution_count": 19,
   "metadata": {},
   "outputs": [
    {
     "name": "stdout",
     "output_type": "stream",
     "text": [
      "the is in there\n",
      "a is in palm\n",
      "is is in island\n",
      "a is in island\n"
     ]
    }
   ],
   "source": [
    "#For any string, print which words appear within which other words\n",
    "\n",
    "string = \"There is a palm tree on the island \"\n",
    "words = string.lower().split()\n",
    "\n",
    "for word in words:\n",
    "    for sub_word in words:\n",
    "        if sub_word in word and sub_word != word:\n",
    "            print(str(sub_word) + \" is in \" + str(word))"
   ]
  },
  {
   "cell_type": "markdown",
   "metadata": {},
   "source": [
    "__behind the scenes__"
   ]
  },
  {
   "attachments": {
    "image.png": {
     "image/png": "[encoded data removed]"
    }
   },
   "cell_type": "markdown",
   "metadata": {},
   "source": [
    "![image.png](attachment:image.png)"
   ]
  },
  {
   "cell_type": "markdown",
   "metadata": {},
   "source": [
    "<a id='Q8' name=\"Q8\"></a>\n",
    "## [Exercise 2.5.2. Anagrams](#Q0)"
   ]
  },
  {
   "cell_type": "code",
   "execution_count": 20,
   "metadata": {},
   "outputs": [
    {
     "name": "stdout",
     "output_type": "stream",
     "text": [
      "silent is an anagram of listen\n",
      "listen is an anagram of silent\n"
     ]
    }
   ],
   "source": [
    "#Print all words in a string that are anagram of each other: “How can you listen if you are not silent?”\n",
    "\n",
    "string = \"How can you listen if you are not silent?\"\n",
    "words = string.replace(\"?\", \"\").lower().split()\n",
    "\n",
    "for word in words:\n",
    "    for sub_word in words:\n",
    "        # sorted() breaks word into individual letters and arrange them alphabetically\n",
    "        # exp: listen = ['e', 'i', 'l', 'n', 's', 't']\n",
    "        if sorted(sub_word) == sorted(word) and word != sub_word:\n",
    "            print(str(sub_word) + \" is an anagram of \" + str(word))"
   ]
  },
  {
   "cell_type": "code",
   "execution_count": 21,
   "metadata": {},
   "outputs": [
    {
     "name": "stdout",
     "output_type": "stream",
     "text": [
      "['hello', 'helol', 'hello', 'helol', 'heoll', 'heoll', 'hlelo', 'hleol', 'hlleo', 'hlloe', 'hloel', 'hlole', 'hlelo', 'hleol', 'hlleo', 'hlloe', 'hloel', 'hlole', 'hoell', 'hoell', 'holel', 'holle', 'holel', 'holle', 'ehllo', 'ehlol', 'ehllo', 'ehlol', 'eholl', 'eholl', 'elhlo', 'elhol', 'ellho', 'elloh', 'elohl', 'elolh', 'elhlo', 'elhol', 'ellho', 'elloh', 'elohl', 'elolh', 'eohll', 'eohll', 'eolhl', 'eollh', 'eolhl', 'eollh', 'lhelo', 'lheol', 'lhleo', 'lhloe', 'lhoel', 'lhole', 'lehlo', 'lehol', 'lelho', 'leloh', 'leohl', 'leolh', 'llheo', 'llhoe', 'lleho', 'lleoh', 'llohe', 'lloeh', 'lohel', 'lohle', 'loehl', 'loelh', 'lolhe', 'loleh', 'lhelo', 'lheol', 'lhleo', 'lhloe', 'lhoel', 'lhole', 'lehlo', 'lehol', 'lelho', 'leloh', 'leohl', 'leolh', 'llheo', 'llhoe', 'lleho', 'lleoh', 'llohe', 'lloeh', 'lohel', 'lohle', 'loehl', 'loelh', 'lolhe', 'loleh', 'ohell', 'ohell', 'ohlel', 'ohlle', 'ohlel', 'ohlle', 'oehll', 'oehll', 'oelhl', 'oellh', 'oelhl', 'oellh', 'olhel', 'olhle', 'olehl', 'olelh', 'ollhe', 'olleh', 'olhel', 'olhle', 'olehl', 'olelh', 'ollhe', 'olleh']\n"
     ]
    }
   ],
   "source": [
    "# Bonus: how do we get all existing anagrams of a given word?\n",
    "import itertools\n",
    "\n",
    "word = \"hello\"\n",
    "\n",
    "def all_anagrams(word):\n",
    "    tup_list = list(itertools.permutations(word))\n",
    "    str_list = [''.join((tup)) for tup in tup_list]\n",
    "    return str_list\n",
    "\n",
    "print(all_anagrams(word))"
   ]
  },
  {
   "cell_type": "markdown",
   "metadata": {},
   "source": [
    "<a id='Q9' name=\"Q9\"></a>\n",
    "## [Exercise 2.6.1. - Functions E-mail Validation](#Q0)"
   ]
  },
  {
   "cell_type": "code",
   "execution_count": null,
   "metadata": {},
   "outputs": [],
   "source": [
    "# Write an email validating function, returning True or False depending on whether an email address is correctly formatted \n",
    "# (e.g. nicolas@propulsion-academy.com works, not nicolas@test)\n",
    "# No input should lead to an exception.\n",
    "\n",
    "import re\n",
    "\n",
    "email_address = input(\"Please enter an e-mail address: \")\n",
    "\n",
    "# check if @ present:\n",
    "if '@' in email_address:\n",
    "\n",
    "    # check if content before @:\n",
    "    if len(email_address.rsplit('@')[0]) > 0:\n",
    "\n",
    "        # check if no special characters directly after the other:\n",
    "        if re.search(r'[^a-zA-Z\\d][^a-zA-Z\\d]+', email_address):\n",
    "            print(\"no valid email address\")\n",
    "        else:\n",
    "            email_end = re.split('[.]', email_address)[-1:]\n",
    "            if len(email_end[0]) >= 2 and len(email_end[0]) < 4:\n",
    "                print(\"valid email address\")\n",
    "            else:\n",
    "                print(\"no valid email address\")\n",
    "    else:\n",
    "        print(\"no valid email address\")\n",
    "else:\n",
    "    print(\"no valid email address\")"
   ]
  },
  {
   "cell_type": "code",
   "execution_count": 25,
   "metadata": {},
   "outputs": [
    {
     "name": "stdin",
     "output_type": "stream",
     "text": [
      "Please type in an email address  st.wed@int.de\n"
     ]
    },
    {
     "data": {
      "text/plain": [
       "True"
      ]
     },
     "execution_count": 25,
     "metadata": {},
     "output_type": "execute_result"
    }
   ],
   "source": [
    "#another e-mail validation implementation\n",
    "import re\n",
    "\n",
    "def email_validation(email):\n",
    "    if re.match(r\"[\\w\\-_.]+@([\\w\\-]+.)+(\\.[a-z]{2,4})$\",email,re.IGNORECASE):\n",
    "        return True\n",
    "    else:\n",
    "        return False\n",
    "email_validation(input (\"Please type in an email address \"))"
   ]
  },
  {
   "cell_type": "markdown",
   "metadata": {},
   "source": [
    "__re -  regular expression module__\n",
    "\n",
    "With re, you can specify rules for a set of possible strings that you want to match. For more information and formatting syntax, you can explore the links below.\n",
    "\n",
    "https://docs.python.org/3/library/re.html<br />\n",
    "https://docs.python.org/3/howto/regex.html"
   ]
  },
  {
   "cell_type": "markdown",
   "metadata": {},
   "source": [
    "<a id='Q10' name=\"Q10\"></a>\n",
    "## [Exercise 2.6.2. - Password Validation ](#Q0)"
   ]
  },
  {
   "cell_type": "code",
   "execution_count": 27,
   "metadata": {},
   "outputs": [
    {
     "name": "stdin",
     "output_type": "stream",
     "text": [
      "Enter your password: ········\n"
     ]
    },
    {
     "name": "stdout",
     "output_type": "stream",
     "text": [
      "Password valid!\n"
     ]
    }
   ],
   "source": [
    "#Write a password validation function: the input should contain at least one lowercase letter, at least one uppercase letter, at least one digit, and at least one symbol from [$#/\\@*]. Unmet criteria or any other character should lead to an exception.\n",
    "\n",
    "import getpass as gp\n",
    "import re\n",
    "\n",
    "# One lower case letter\n",
    "# One upper case letter\n",
    "# One digit\n",
    "# One symbol [$#/\\@*]\n",
    "\n",
    "pwd = gp.getpass('Enter your password:')\n",
    "\n",
    "\n",
    "def password_validate(pwd):\n",
    "    symbol_pattern = r'[$#/\\@*]'\n",
    "    char_split = list(pwd)\n",
    "\n",
    "    condition_upper = False\n",
    "    condition_lower = False\n",
    "    condition_digit = False\n",
    "    condition_symbol = False\n",
    "\n",
    "    for char in char_split:\n",
    "        if char.isupper():\n",
    "            condition_upper = True\n",
    "        elif char.islower():\n",
    "            condition_lower = True\n",
    "        elif re.match('[0-9]', char):\n",
    "            condition_digit = True\n",
    "        elif re.match(symbol_pattern, char):\n",
    "            condition_symbol = True\n",
    "        else:\n",
    "            continue\n",
    "\n",
    "    if condition_upper == True and condition_lower == True and condition_digit == True and condition_symbol == True:\n",
    "        return \"Password valid!\"\n",
    "\n",
    "    else:\n",
    "        return \"Password invalid!\"\n",
    "\n",
    "\n",
    "print(password_validate(pwd))"
   ]
  },
  {
   "cell_type": "code",
   "execution_count": 34,
   "metadata": {},
   "outputs": [
    {
     "name": "stdin",
     "output_type": "stream",
     "text": [
      "Please type in your password:  kly\n"
     ]
    },
    {
     "name": "stdout",
     "output_type": "stream",
     "text": [
      "Error: wrong password. Please ensure that you meet all the criteria: at least \n",
      "                    - one lowercase letter\n",
      "                    - one uppercase letter\n",
      "                    - one digit \n",
      "                    - one symbol from $#/@*\n",
      "                and no other characters were used\n"
     ]
    }
   ],
   "source": [
    "#another password validation implementation\n",
    "\n",
    "def password_validation(password):\n",
    "\n",
    "    a = re.search(r\"[A-Z]\", password)\n",
    "    b = re.search(r\"[a-z]\", password)\n",
    "    c = re.search(r\"[$#/@*]\", password)\n",
    "    d = re.search(r\"[0-9]\", password)\n",
    "    e = re.match(r\"\\A[A-Za-z0-9$#/@*]+\\Z\", password)\n",
    "\n",
    "    if a and b and c and d and e:\n",
    "        print('Your password is validated successfully') \n",
    "    else:\n",
    "        print(\"\"\"Error: wrong password. Please ensure that you meet all the criteria: at least \n",
    "                    - one lowercase letter\n",
    "                    - one uppercase letter\n",
    "                    - one digit \n",
    "                    - one symbol from $#/@*\n",
    "                and no other characters were used\"\"\")\n",
    "        \n",
    "password_validation(input(\"Please type in your password: \"))"
   ]
  },
  {
   "cell_type": "markdown",
   "metadata": {},
   "source": [
    "<a id='Q11' name=\"Q11\"></a>\n",
    "## [Exercise 2.7. - Create your own game](#Q0)"
   ]
  },
  {
   "cell_type": "code",
   "execution_count": 36,
   "metadata": {},
   "outputs": [
    {
     "name": "stdin",
     "output_type": "stream",
     "text": [
      "Hello! What is your name?  Stef\n"
     ]
    },
    {
     "name": "stdout",
     "output_type": "stream",
     "text": [
      "Hello, Stef!\n"
     ]
    },
    {
     "name": "stdin",
     "output_type": "stream",
     "text": [
      "Stef, do you want to guess my number (1) or shall I guess yours (2)? Make your choice [1/2]!  1\n"
     ]
    },
    {
     "name": "stdout",
     "output_type": "stream",
     "text": [
      "Well, Stef, I am thinking of a number between 1 and 20.\n"
     ]
    },
    {
     "name": "stdin",
     "output_type": "stream",
     "text": [
      "Take a guess.  10\n"
     ]
    },
    {
     "name": "stdout",
     "output_type": "stream",
     "text": [
      "Your guess is too low.\n"
     ]
    },
    {
     "name": "stdin",
     "output_type": "stream",
     "text": [
      "Take a guess.  15\n"
     ]
    },
    {
     "name": "stdout",
     "output_type": "stream",
     "text": [
      "Your guess is too high.\n"
     ]
    },
    {
     "name": "stdin",
     "output_type": "stream",
     "text": [
      "Take a guess.  12\n"
     ]
    },
    {
     "name": "stdout",
     "output_type": "stream",
     "text": [
      "Your guess is too low.\n"
     ]
    },
    {
     "name": "stdin",
     "output_type": "stream",
     "text": [
      "Take a guess.  14\n"
     ]
    },
    {
     "name": "stdout",
     "output_type": "stream",
     "text": [
      "Your guess is too high.\n"
     ]
    },
    {
     "name": "stdin",
     "output_type": "stream",
     "text": [
      "Take a guess.  13\n"
     ]
    },
    {
     "name": "stdout",
     "output_type": "stream",
     "text": [
      "Good job, Stef! You guessed my number in 5 guesses.\n"
     ]
    }
   ],
   "source": [
    "import numpy as np\n",
    "\n",
    "name = input(\"Hello! What is your name? \")\n",
    "print(\"Hello, \" + name + \"!\")\n",
    "\n",
    "gametype = int(input(name + \", do you want to guess my number (1) or shall I guess yours (2)? Make your choice [1/2]! \"))\n",
    "\n",
    "if gametype == 1:\n",
    "    number = np.random.randint(1, 20)\n",
    "    print(\"Well, \" + name + \", I am thinking of a number between 1 and 20.\")\n",
    "    \n",
    "    guess_counter = 0\n",
    "    while True:\n",
    "        guess = int(input(\"Take a guess. \"))\n",
    "        guess_counter += 1\n",
    "\n",
    "        if guess < number:\n",
    "            print(\"Your guess is too low.\")\n",
    "        elif guess > number:\n",
    "            print(\"Your guess is too high.\")\n",
    "        else:\n",
    "            print(\"Good job, \" + name + \"! You guessed my number in \" + str(guess_counter) + \" guesses.\")\n",
    "            break\n",
    "\n",
    "elif gametype == 2:\n",
    "    low = 1\n",
    "    high = 20\n",
    "    guess_counter = 0\n",
    "\n",
    "    print(name + \", please think of a number between 1 and 20!\")\n",
    "\n",
    "    while True:\n",
    "        mid = int((low + high) / 2)\n",
    "        print(\"Is your secret number \" + str(mid) + \"?\")\n",
    "        guess_counter += 1\n",
    "\n",
    "        request = input(\"Enter 'h' for too high, 'l' for too low, 'c' for correct: \")\n",
    "\n",
    "        if request == 'h':\n",
    "            high = mid - 1\n",
    "        elif request == 'l':\n",
    "            low = mid + 1\n",
    "        elif request == 'c':\n",
    "            print(\"Game over. I guessed your secret number in \" + str(guess_counter) + \" guesses.\")\n",
    "            break\n",
    "        else:\n",
    "            print(\"Sorry, I did not understand your input.\")\n",
    "\n",
    "else:\n",
    "    print(\"Sorry, I did not understand your input.\")\n"
   ]
  },
  {
   "cell_type": "markdown",
   "metadata": {},
   "source": [
    "<div style=\"border-top:0.1cm solid #EF475B\"></div>\n",
    "    <strong><a href='#Q0'><div style=\"text-align: right\"> <h3>End of this Notebook.</h3></div></a></strong>"
   ]
  }
 ],
 "metadata": {
  "kernelspec": {
   "display_name": "Python 3 (ipykernel)",
   "language": "python",
   "name": "python3"
  },
  "language_info": {
   "codemirror_mode": {
    "name": "ipython",
    "version": 3
   },
   "file_extension": ".py",
   "mimetype": "text/x-python",
   "name": "python",
   "nbconvert_exporter": "python",
   "pygments_lexer": "ipython3",
   "version": "3.12.3"
  }
 },
 "nbformat": 4,
 "nbformat_minor": 4
}
