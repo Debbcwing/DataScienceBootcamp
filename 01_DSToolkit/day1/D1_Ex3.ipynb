{
 "cells": [
  {
   "cell_type": "markdown",
   "id": "bcb76f27-369d-4ef4-8c48-462dd70c82a6",
   "metadata": {},
   "source": [
    "# Ex. 3 Python Intermediate"
   ]
  },
  {
   "cell_type": "markdown",
   "id": "7946d2a6-aea6-417d-905b-464b1c85da8e",
   "metadata": {},
   "source": [
    "## 3.1 Counting DNA Nucleotides"
   ]
  },
  {
   "cell_type": "code",
   "execution_count": null,
   "id": "a6ea394d",
   "metadata": {},
   "outputs": [],
   "source": [
    "\"\"\"\n",
    "Counting DNA Nucleotides\n",
    "\"\"\"\n",
    "\n",
    "# initialize DNA string with max. length of 1000\n",
    "\n",
    "import numpy as np\n",
    "\n",
    "bases = ('A', 'C', 'G', 'T')\n",
    "\n",
    "def dna_string_gen(length):\n",
    "    \n"
   ]
  },
  {
   "cell_type": "code",
   "execution_count": 2,
   "id": "86644063-e079-4d72-a4e9-9be5ee9644b8",
   "metadata": {},
   "outputs": [],
   "source": [
    "s = 'ATGCTTCAGAAAGGTCTTACG'"
   ]
  },
  {
   "cell_type": "code",
   "execution_count": 12,
   "id": "d02cd492-c8c2-4c95-aed5-65cced9c9ed7",
   "metadata": {},
   "outputs": [
    {
     "data": {
      "text/plain": [
       "('A: 6', 'C: 4', 'G: 5', 'T: 6')"
      ]
     },
     "execution_count": 12,
     "metadata": {},
     "output_type": "execute_result"
    }
   ],
   "source": [
    "'A: ' + str(s.count('A')), 'C: '+str(s.count('C')), 'G: '+str(s.count('G')), 'T: '+str(s.count('T'))"
   ]
  },
  {
   "cell_type": "markdown",
   "id": "74a5a376-e332-4c93-b064-567bd8e97cf3",
   "metadata": {},
   "source": [
    "## 3.2 Cat and Mouse"
   ]
  },
  {
   "cell_type": "code",
   "execution_count": null,
   "id": "bd8f5224-8f55-439b-ae74-1daed7df3a51",
   "metadata": {},
   "outputs": [],
   "source": []
  },
  {
   "cell_type": "markdown",
   "id": "73a25f44-29eb-4eab-b535-f5363233fa4b",
   "metadata": {},
   "source": [
    "## 3.3 Number to Text"
   ]
  },
  {
   "cell_type": "code",
   "execution_count": null,
   "id": "dafcad8e-2b13-4855-a4d1-bcf113b006e5",
   "metadata": {},
   "outputs": [],
   "source": []
  },
  {
   "cell_type": "markdown",
   "id": "6930de6d-5176-4538-81cc-605e0eb7b1d9",
   "metadata": {},
   "source": []
  },
  {
   "cell_type": "code",
   "execution_count": null,
   "id": "3f9f1db2-0a71-46ec-98e4-63c6370ef83c",
   "metadata": {},
   "outputs": [],
   "source": []
  },
  {
   "cell_type": "code",
   "execution_count": null,
   "id": "042bc322-1cce-4c2c-b0bc-9a5f1e2ae440",
   "metadata": {},
   "outputs": [],
   "source": []
  }
 ],
 "metadata": {
  "kernelspec": {
   "display_name": "Python 3 (ipykernel)",
   "language": "python",
   "name": "python3"
  },
  "language_info": {
   "codemirror_mode": {
    "name": "ipython",
    "version": 3
   },
   "file_extension": ".py",
   "mimetype": "text/x-python",
   "name": "python",
   "nbconvert_exporter": "python",
   "pygments_lexer": "ipython3",
   "version": "3.10.18"
  }
 },
 "nbformat": 4,
 "nbformat_minor": 5
}
