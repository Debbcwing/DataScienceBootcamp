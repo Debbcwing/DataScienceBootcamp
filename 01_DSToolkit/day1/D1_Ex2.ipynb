{
 "cells": [
  {
   "cell_type": "markdown",
   "id": "62682881-d197-4aa7-aebd-24e22cc34eb5",
   "metadata": {},
   "source": [
    "# Ex.2 Fundamentals of Python"
   ]
  },
  {
   "cell_type": "markdown",
   "id": "baffeef2-68a8-46de-8724-a72320726b6d",
   "metadata": {},
   "source": [
    "## 2.1. Variables, Strings, and Numbers"
   ]
  },
  {
   "cell_type": "code",
   "execution_count": 5,
   "id": "bb4f46fc-894a-402c-b5b4-7f77e7c30634",
   "metadata": {},
   "outputs": [],
   "source": [
    "firstname = 'Mask'\n",
    "lastname = 'Elon'\n",
    "description = 'an American'"
   ]
  },
  {
   "cell_type": "code",
   "execution_count": 7,
   "id": "964b1853-35cd-430b-9ec1-df305b40c692",
   "metadata": {},
   "outputs": [
    {
     "data": {
      "text/plain": [
       "'Elon Mask is an American.'"
      ]
     },
     "execution_count": 7,
     "metadata": {},
     "output_type": "execute_result"
    }
   ],
   "source": [
    "lastname + ' ' + firstname + ' is ' + description + '.'"
   ]
  },
  {
   "cell_type": "markdown",
   "id": "477bb8a4-7e0f-4298-800b-93fbece6d6ee",
   "metadata": {},
   "source": [
    "## 2.2 List"
   ]
  },
  {
   "cell_type": "markdown",
   "id": "13615831-bfc7-46b3-b3fd-7379a1ab8179",
   "metadata": {},
   "source": [
    "### 2.2.1 First Neat List"
   ]
  },
  {
   "cell_type": "code",
   "execution_count": 9,
   "id": "5e899d70-2a3c-48dd-bf43-68688099ec06",
   "metadata": {},
   "outputs": [],
   "source": [
    "languages = ['python', 'c', 'java']"
   ]
  },
  {
   "cell_type": "code",
   "execution_count": 11,
   "id": "feba0ea3-f8aa-49d6-8ca9-8b913525b996",
   "metadata": {},
   "outputs": [
    {
     "data": {
      "text/plain": [
       "'A nice programming language is python'"
      ]
     },
     "execution_count": 11,
     "metadata": {},
     "output_type": "execute_result"
    }
   ],
   "source": [
    "'A nice programming language is ' + languages[0]"
   ]
  },
  {
   "cell_type": "markdown",
   "id": "dcde8765-e144-442a-bed4-95b47b30c2f2",
   "metadata": {
    "editable": true,
    "slideshow": {
     "slide_type": ""
    },
    "tags": []
   },
   "source": [
    "##### (skipped to 2.7)"
   ]
  },
  {
   "cell_type": "markdown",
   "id": "9578bb88-d6df-4a86-81f5-19805e6fadf1",
   "metadata": {},
   "source": [
    "## 2.7 Create your own game"
   ]
  },
  {
   "cell_type": "code",
   "execution_count": null,
   "id": "175b1829-00fd-4623-96c6-a28b33a687a8",
   "metadata": {},
   "outputs": [],
   "source": [
    "def game(num):\n",
    "    while 1:\n",
    "        try:\n",
    "            users_name = int(input('Hello! What is your name?'))\n",
    "            print(users_name)\n",
    "        except ValueError:\n",
    "            print(\"Please input only your name.\")\n",
    "        else:\n",
    "            print('Well, ' + users_name + 'I am thinking of a number between 1 and 20.')\n",
    "            users_num = int(input('Take a guess'))\n",
    "            print(users_num)\n",
    "            if users_num > num:\n",
    "                print('Your guess is too high.')\n",
    "                users_num = int(input('Take another guess.'))\n",
    "                print(users_num)\n",
    "            elif users_num < num:\n",
    "                print('Your guess is too low')\n",
    "                users_num = int(input('Take one more guess.'))\n",
    "                print(users_num)\n",
    "            elif users_num == num:\n",
    "                print('Good job, ' + users_name + '! You guessed my number!')\n",
    "                break"
   ]
  },
  {
   "cell_type": "code",
   "execution_count": null,
   "id": "7f9af5a8-107f-4464-9c6c-508e24652212",
   "metadata": {
    "editable": true,
    "slideshow": {
     "slide_type": ""
    },
    "tags": []
   },
   "outputs": [],
   "source": []
  }
 ],
 "metadata": {
  "kernelspec": {
   "display_name": "Python 3 (ipykernel)",
   "language": "python",
   "name": "python3"
  },
  "language_info": {
   "codemirror_mode": {
    "name": "ipython",
    "version": 3
   },
   "file_extension": ".py",
   "mimetype": "text/x-python",
   "name": "python",
   "nbconvert_exporter": "python",
   "pygments_lexer": "ipython3",
   "version": "3.10.18"
  }
 },
 "nbformat": 4,
 "nbformat_minor": 5
}
