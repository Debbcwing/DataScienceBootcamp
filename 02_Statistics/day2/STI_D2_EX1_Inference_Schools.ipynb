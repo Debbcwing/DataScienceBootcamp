{
 "cells": [
  {
   "cell_type": "markdown",
   "id": "ahead-chuck",
   "metadata": {
    "id": "ahead-chuck"
   },
   "source": [
    "<center><a target=\"_blank\" href=\"https://academy.constructor.org/\"><img src=https://lh3.googleusercontent.com/d/1EmH3Jks5CpJy0zK3JbkvJZkeqWtVcxhB width=\"800\" style=\"background:none; border:none; box-shadow:none;\" /></a> </center>\n",
    "<hr />\n",
    "\n",
    "# <h1 align=\"center\"> Day2: Inference Schools </h1> </center>\n",
    "\n",
    "<p style=\"margin-bottom:1cm;\"></p>\n",
    "\n",
    "_____\n",
    "\n",
    "<center>Constructor Academy, 2025</center>"
   ]
  },
  {
   "cell_type": "markdown",
   "id": "agricultural-operations",
   "metadata": {
    "id": "agricultural-operations"
   },
   "source": [
    "## Likelihood\n",
    "\n",
    "A scientist was studying predation data for Hyperolius spinigularis (Vonesh and Bolker 2005), an African reed frog in lakes. During the experiment some frogs were left in water tanks along with a fixed concentration of waterbugs and dragonfly larves (predators).\n",
    "  \n",
    "Load the dataset from the provided csv file. For more information about the dataset you can visit:\n",
    "https://rdrr.io/cran/emdbook/man/Reedfrog.html\n",
    "\n",
    "The dataset contains the following columns:\n",
    "\n",
    "* density = initial tadpole density (number of tadpoles in a 1.2 x 0.8 x 0.4 m tank)\n",
    "* pred = factor: predators present or absent\n",
    "* size = factor: big or small tadpoles\n",
    "* surv = number surviving\n",
    "* propsurv = proportion surviving (=surv/density)\n",
    "\n"
   ]
  },
  {
   "cell_type": "code",
   "execution_count": 2,
   "id": "anticipated-manufacturer",
   "metadata": {
    "id": "anticipated-manufacturer"
   },
   "outputs": [],
   "source": [
    "import pandas as pd"
   ]
  },
  {
   "cell_type": "code",
   "execution_count": 3,
   "id": "tight-mandate",
   "metadata": {
    "id": "tight-mandate",
    "outputId": "51108db9-03a7-4566-ce3c-9221018752e0"
   },
   "outputs": [
    {
     "name": "stdout",
     "output_type": "stream",
     "text": [
      "48\n"
     ]
    },
    {
     "data": {
      "text/html": [
       "<div>\n",
       "<style scoped>\n",
       "    .dataframe tbody tr th:only-of-type {\n",
       "        vertical-align: middle;\n",
       "    }\n",
       "\n",
       "    .dataframe tbody tr th {\n",
       "        vertical-align: top;\n",
       "    }\n",
       "\n",
       "    .dataframe thead th {\n",
       "        text-align: right;\n",
       "    }\n",
       "</style>\n",
       "<table border=\"1\" class=\"dataframe\">\n",
       "  <thead>\n",
       "    <tr style=\"text-align: right;\">\n",
       "      <th></th>\n",
       "      <th>density</th>\n",
       "      <th>pred</th>\n",
       "      <th>size</th>\n",
       "      <th>surv</th>\n",
       "      <th>propsurv</th>\n",
       "    </tr>\n",
       "  </thead>\n",
       "  <tbody>\n",
       "    <tr>\n",
       "      <th>1</th>\n",
       "      <td>10</td>\n",
       "      <td>no</td>\n",
       "      <td>big</td>\n",
       "      <td>9</td>\n",
       "      <td>0.9</td>\n",
       "    </tr>\n",
       "    <tr>\n",
       "      <th>2</th>\n",
       "      <td>10</td>\n",
       "      <td>no</td>\n",
       "      <td>big</td>\n",
       "      <td>10</td>\n",
       "      <td>1.0</td>\n",
       "    </tr>\n",
       "    <tr>\n",
       "      <th>3</th>\n",
       "      <td>10</td>\n",
       "      <td>no</td>\n",
       "      <td>big</td>\n",
       "      <td>7</td>\n",
       "      <td>0.7</td>\n",
       "    </tr>\n",
       "    <tr>\n",
       "      <th>4</th>\n",
       "      <td>10</td>\n",
       "      <td>no</td>\n",
       "      <td>big</td>\n",
       "      <td>10</td>\n",
       "      <td>1.0</td>\n",
       "    </tr>\n",
       "    <tr>\n",
       "      <th>5</th>\n",
       "      <td>10</td>\n",
       "      <td>no</td>\n",
       "      <td>small</td>\n",
       "      <td>9</td>\n",
       "      <td>0.9</td>\n",
       "    </tr>\n",
       "  </tbody>\n",
       "</table>\n",
       "</div>"
      ],
      "text/plain": [
       "   density pred   size  surv  propsurv\n",
       "1       10   no    big     9       0.9\n",
       "2       10   no    big    10       1.0\n",
       "3       10   no    big     7       0.7\n",
       "4       10   no    big    10       1.0\n",
       "5       10   no  small     9       0.9"
      ]
     },
     "execution_count": 3,
     "metadata": {},
     "output_type": "execute_result"
    }
   ],
   "source": [
    "rfp = pd.read_csv(\"/Users/szewing/Desktop/Course/CDBootcamp/debbie_to/02_Statistics/day2/reed_frog.csv\", index_col=0)\n",
    "print(len(rfp))\n",
    "rfp.head()"
   ]
  },
  {
   "cell_type": "markdown",
   "id": "ceramic-freight",
   "metadata": {
    "id": "ceramic-freight"
   },
   "source": [
    "For the purpose of this tutorial we are interested in finding out the probability of death for tanks where there was a predator (``rfp[rfp[\"pred\"]==\"pred\"]``) and only for small frogs (``rfp[rfp[\"size\"]==\"small\"]``) and a total initial frog concentration of 10. This dataset can be selected as"
   ]
  },
  {
   "cell_type": "code",
   "execution_count": 4,
   "id": "stone-liberal",
   "metadata": {
    "id": "stone-liberal",
    "outputId": "1110f8c6-2c25-4250-a153-9f2b3eb72105"
   },
   "outputs": [
    {
     "name": "stdout",
     "output_type": "stream",
     "text": [
      "4\n"
     ]
    },
    {
     "data": {
      "text/html": [
       "<div>\n",
       "<style scoped>\n",
       "    .dataframe tbody tr th:only-of-type {\n",
       "        vertical-align: middle;\n",
       "    }\n",
       "\n",
       "    .dataframe tbody tr th {\n",
       "        vertical-align: top;\n",
       "    }\n",
       "\n",
       "    .dataframe thead th {\n",
       "        text-align: right;\n",
       "    }\n",
       "</style>\n",
       "<table border=\"1\" class=\"dataframe\">\n",
       "  <thead>\n",
       "    <tr style=\"text-align: right;\">\n",
       "      <th></th>\n",
       "      <th>density</th>\n",
       "      <th>pred</th>\n",
       "      <th>size</th>\n",
       "      <th>surv</th>\n",
       "      <th>propsurv</th>\n",
       "    </tr>\n",
       "  </thead>\n",
       "  <tbody>\n",
       "    <tr>\n",
       "      <th>13</th>\n",
       "      <td>10</td>\n",
       "      <td>pred</td>\n",
       "      <td>small</td>\n",
       "      <td>7</td>\n",
       "      <td>0.7</td>\n",
       "    </tr>\n",
       "    <tr>\n",
       "      <th>14</th>\n",
       "      <td>10</td>\n",
       "      <td>pred</td>\n",
       "      <td>small</td>\n",
       "      <td>5</td>\n",
       "      <td>0.5</td>\n",
       "    </tr>\n",
       "    <tr>\n",
       "      <th>15</th>\n",
       "      <td>10</td>\n",
       "      <td>pred</td>\n",
       "      <td>small</td>\n",
       "      <td>9</td>\n",
       "      <td>0.9</td>\n",
       "    </tr>\n",
       "    <tr>\n",
       "      <th>16</th>\n",
       "      <td>10</td>\n",
       "      <td>pred</td>\n",
       "      <td>small</td>\n",
       "      <td>9</td>\n",
       "      <td>0.9</td>\n",
       "    </tr>\n",
       "  </tbody>\n",
       "</table>\n",
       "</div>"
      ],
      "text/plain": [
       "    density  pred   size  surv  propsurv\n",
       "13       10  pred  small     7       0.7\n",
       "14       10  pred  small     5       0.5\n",
       "15       10  pred  small     9       0.9\n",
       "16       10  pred  small     9       0.9"
      ]
     },
     "execution_count": 4,
     "metadata": {},
     "output_type": "execute_result"
    }
   ],
   "source": [
    "rf_sub = rfp[(rfp[\"pred\"]==\"pred\") & (rfp[\"size\"]==\"small\") & (rfp[\"density\"]==10)].copy()      # copy so as to not replacing dataset\n",
    "print(len(rf_sub))\n",
    "rf_sub"
   ]
  },
  {
   "cell_type": "markdown",
   "id": "spare-entrance",
   "metadata": {
    "id": "spare-entrance"
   },
   "source": [
    "Let's get for this subset the number of frogs that got killed:"
   ]
  },
  {
   "cell_type": "code",
   "execution_count": 5,
   "id": "considerable-arena",
   "metadata": {
    "id": "considerable-arena"
   },
   "outputs": [],
   "source": [
    "rf_sub[\"killed\"] = rf_sub[\"density\"] - rf_sub[\"surv\"]"
   ]
  },
  {
   "cell_type": "markdown",
   "id": "intellectual-genius",
   "metadata": {
    "id": "intellectual-genius"
   },
   "source": [
    "## Estimate the probability of death\n",
    "**The goal of this exercise is to estimate the probability of death given the frog type small and an initial density of N=10**\n",
    "\n",
    "For each individual, the _**per-trial probability**_ of being eaten is a binomial process (survive or die). The likelihood of binomial distributed data is given by\n",
    "\n",
    "$L(k|p, N) = \\binom{N}{k}p^{k}(1-p)^{N-k}$"
   ]
  },
  {
   "cell_type": "markdown",
   "id": "linear-editor",
   "metadata": {
    "id": "linear-editor"
   },
   "source": [
    "In class we have already seen this formula and an example on how we can find all our unknowns (N = 10, k = number of killed frogs, p = success probability). N and k are known. p is what we are trying to estimate. For a single observation the formula above holds true. However, if we have multiple observations (in this example we assume that they are all independent) the likelihood function becomes the **product of all likelihoods** (we basically multiple all likelihoods). This gives us the total likelihood of observing our data.\n",
    "\n",
    "$L = \\prod_{i=1}^{n}\\binom{N}{k_{i}}p^{k_{i}}(1-p)^{N-k_{i}}$"
   ]
  },
  {
   "cell_type": "markdown",
   "id": "attempted-vienna",
   "metadata": {
    "id": "attempted-vienna"
   },
   "source": [
    "Likelihood function is usually solved by taking the log on both sides (this makes calculations easier, called log-likelihood). The log-likelihood is defined as:\n",
    "\n",
    "$LL = \\sum_{i=1}^{n}\\left [log\\binom{N}{k_{i}}+k_{i}log(p)+(N-k_{i})log(1-p) \\right ]$\n"
   ]
  },
  {
   "cell_type": "markdown",
   "id": "naval-collapse",
   "metadata": {
    "id": "naval-collapse"
   },
   "source": [
    "In Python we can callculate this likelihood for binomial data using **``binom.logpmf`` from the ``scipy.stats`` package**. Consequently we take the sum over all data points."
   ]
  },
  {
   "cell_type": "code",
   "execution_count": 12,
   "id": "rough-launch",
   "metadata": {
    "id": "rough-launch"
   },
   "outputs": [],
   "source": [
    "from scipy.stats import binom\n",
    "import numpy as np"
   ]
  },
  {
   "cell_type": "code",
   "execution_count": null,
   "id": "computational-culture",
   "metadata": {
    "id": "computational-culture",
    "outputId": "69e2ca02-9d18-4b5b-9e4a-6e31b6d5ec4d"
   },
   "outputs": [
    {
     "data": {
      "text/plain": [
       "np.float64(-12.803796206116246)"
      ]
     },
     "execution_count": 7,
     "metadata": {},
     "output_type": "execute_result"
    }
   ],
   "source": [
    "p = 0.5\n",
    "\n",
    "np.sum(binom.logpmf(k=rf_sub[\"killed\"], n=rf_sub[\"density\"], p=p))          # after taking log, multiplication becomes a sum.\n",
    "\n",
    "# the output shows the value of loglikelihood when p=0.5."
   ]
  },
  {
   "cell_type": "markdown",
   "id": "substantial-discovery",
   "metadata": {
    "id": "substantial-discovery"
   },
   "source": [
    "### Brute Force Method\n",
    "\n",
    "\n",
    "One simple method to find the \"optimal\" p is using a brute-force approach. For this we take multiple p values (in the range of 0 to 1) and calculate the likelihood for all different values of p. The value for p that gives the best likelihood is the right one. This can be done as follows:"
   ]
  },
  {
   "cell_type": "code",
   "execution_count": 8,
   "id": "restricted-investigation",
   "metadata": {
    "id": "restricted-investigation"
   },
   "outputs": [],
   "source": [
    "p_vec = np.arange(0.01, 1.01, step=0.01)\n",
    "lik = np.zeros(100)\n",
    "\n",
    "for i, p in enumerate(p_vec):\n",
    "    lik[i] = np.prod(binom.pmf(k=rf_sub[\"killed\"], n=rf_sub[\"density\"], p=p))\n"
   ]
  },
  {
   "cell_type": "code",
   "execution_count": 10,
   "id": "future-holder",
   "metadata": {
    "id": "future-holder"
   },
   "outputs": [],
   "source": [
    "from matplotlib import pyplot as plt"
   ]
  },
  {
   "cell_type": "code",
   "execution_count": 11,
   "id": "thrown-humanitarian",
   "metadata": {
    "id": "thrown-humanitarian",
    "outputId": "c14441cb-91f7-4ecb-ba58-0ec19faa02dd"
   },
   "outputs": [
    {
     "data": {
      "text/plain": [
       "[<matplotlib.lines.Line2D at 0x169263880>]"
      ]
     },
     "execution_count": 11,
     "metadata": {},
     "output_type": "execute_result"
    },
    {
     "data": {
      "image/png": "[encoded data removed]",
      "text/plain": [
       "<Figure size 640x480 with 1 Axes>"
      ]
     },
     "metadata": {},
     "output_type": "display_data"
    }
   ],
   "source": [
    "plt.plot(p_vec, lik)"
   ]
  },
  {
   "cell_type": "markdown",
   "id": "advised-affairs",
   "metadata": {
    "id": "advised-affairs"
   },
   "source": [
    "## Exercise 1\n",
    "\n",
    "Adapt the code above to calculate the log-likelihood and estimate the value of p that maximizes the log-likelihood"
   ]
  },
  {
   "cell_type": "code",
   "execution_count": null,
   "id": "4c9f25af",
   "metadata": {},
   "outputs": [
    {
     "name": "stdout",
     "output_type": "stream",
     "text": [
      "Best value: p=0.25\n"
     ]
    },
    {
     "data": {
      "text/plain": [
       "<matplotlib.lines.Line2D at 0x1699f6b60>"
      ]
     },
     "execution_count": 21,
     "metadata": {},
     "output_type": "execute_result"
    },
    {
     "data": {
      "image/png": "[encoded data removed]",
      "text/plain": [
       "<Figure size 640x480 with 1 Axes>"
      ]
     },
     "metadata": {},
     "output_type": "display_data"
    }
   ],
   "source": [
    "import numpy as np\n",
    "from scipy.stats import binom\n",
    "import matplotlib.pyplot as plt\n",
    "\n",
    "p_vec = np.arange(0.01, 1.01, step=0.01)\n",
    "loglik = np.zeros(100)\n",
    "\n",
    "for i, p in enumerate(p_vec):\n",
    "    loglik[i] = np.sum(binom.logpmf(k=rf_sub[\"killed\"], n=rf_sub[\"density\"], p=p))\n",
    "\n",
    "max_p = p_vec[np.argmax(loglik)]\n",
    "print(f\"Best value: p={max_p}\")\n",
    "\n",
    "plt.plot(p_vec, loglik)\n",
    "plt.yscale('linear')\n",
    "plt.axvline(x = max_p, color = 'r', linestyle = '-')"
   ]
  },
  {
   "cell_type": "code",
   "execution_count": null,
   "id": "b74b12c2",
   "metadata": {},
   "outputs": [],
   "source": []
  },
  {
   "cell_type": "code",
   "execution_count": null,
   "id": "oriented-honey",
   "metadata": {
    "id": "oriented-honey"
   },
   "outputs": [],
   "source": [
    "# Your code here\n"
   ]
  },
  {
   "cell_type": "markdown",
   "id": "dressed-dubai",
   "metadata": {
    "id": "dressed-dubai"
   },
   "source": [
    "## MLE based example\n",
    "\n",
    "Alternatively we can use an optimizer to esimate the correct value of our parameter p. An MLE (mximum likelihood estimation) based approach requires you to explicity provide the likelihood function as shown below.\n",
    "\n",
    "We will use the minimizer from the ``scipy.optimize`` package. Since this is trying to minimize a given function we need to use the negative log-likelihood."
   ]
  },
  {
   "cell_type": "code",
   "execution_count": 22,
   "id": "dimensional-classic",
   "metadata": {
    "id": "dimensional-classic"
   },
   "outputs": [],
   "source": [
    "from scipy.optimize import minimize"
   ]
  },
  {
   "cell_type": "code",
   "execution_count": null,
   "id": "immune-folks",
   "metadata": {
    "id": "immune-folks"
   },
   "outputs": [],
   "source": [
    "def neg_LL(p):  # negative log likelihood\n",
    "  LL = np.sum(binom.logpmf(k=rf_sub[\"killed\"], n=rf_sub[\"density\"], p=p[0]))\n",
    "  neg_LL = -LL\n",
    "  return neg_LL"
   ]
  },
  {
   "cell_type": "code",
   "execution_count": null,
   "id": "ordered-imaging",
   "metadata": {
    "id": "ordered-imaging",
    "outputId": "7c805583-7b9c-494a-8b32-ddd2b5b058d2"
   },
   "outputs": [
    {
     "data": {
      "text/plain": [
       "      fun: 7.5713147684707724\n",
       " hess_inv: <1x1 LbfgsInvHessProduct with dtype=float64>\n",
       "      jac: array([0.])\n",
       "  message: 'CONVERGENCE: NORM_OF_PROJECTED_GRADIENT_<=_PGTOL'\n",
       "     nfev: 16\n",
       "      nit: 6\n",
       "     njev: 8\n",
       "   status: 0\n",
       "  success: True\n",
       "        x: array([0.25])"
      ]
     },
     "execution_count": 13,
     "metadata": {},
     "output_type": "execute_result"
    }
   ],
   "source": [
    "mle_model = minimize(neg_LL, x0=.5, bounds=[(1e-10, 1-1e-10)])\n",
    "mle_model"
   ]
  },
  {
   "cell_type": "markdown",
   "id": "designed-calendar",
   "metadata": {
    "id": "designed-calendar"
   },
   "source": [
    "## Exercise 2\n",
    "\n",
    "\n",
    "Adapt the code from above to select tanks with predators  (``rfp[rfp[\"pred\"]==\"pred\"]``) and a total initial frog concentration of N=10 but this time only for big frogs (``rfp[rfp[\"size\"]==\"big\"]``) to answer the question **whether bigger frogs have a higher survival probability**?"
   ]
  },
  {
   "cell_type": "code",
   "execution_count": 25,
   "id": "850c1856",
   "metadata": {},
   "outputs": [
    {
     "name": "stdout",
     "output_type": "stream",
     "text": [
      "4\n"
     ]
    },
    {
     "data": {
      "text/html": [
       "<div>\n",
       "<style scoped>\n",
       "    .dataframe tbody tr th:only-of-type {\n",
       "        vertical-align: middle;\n",
       "    }\n",
       "\n",
       "    .dataframe tbody tr th {\n",
       "        vertical-align: top;\n",
       "    }\n",
       "\n",
       "    .dataframe thead th {\n",
       "        text-align: right;\n",
       "    }\n",
       "</style>\n",
       "<table border=\"1\" class=\"dataframe\">\n",
       "  <thead>\n",
       "    <tr style=\"text-align: right;\">\n",
       "      <th></th>\n",
       "      <th>density</th>\n",
       "      <th>pred</th>\n",
       "      <th>size</th>\n",
       "      <th>surv</th>\n",
       "      <th>propsurv</th>\n",
       "      <th>killed</th>\n",
       "    </tr>\n",
       "  </thead>\n",
       "  <tbody>\n",
       "    <tr>\n",
       "      <th>9</th>\n",
       "      <td>10</td>\n",
       "      <td>pred</td>\n",
       "      <td>big</td>\n",
       "      <td>4</td>\n",
       "      <td>0.4</td>\n",
       "      <td>6</td>\n",
       "    </tr>\n",
       "    <tr>\n",
       "      <th>10</th>\n",
       "      <td>10</td>\n",
       "      <td>pred</td>\n",
       "      <td>big</td>\n",
       "      <td>9</td>\n",
       "      <td>0.9</td>\n",
       "      <td>1</td>\n",
       "    </tr>\n",
       "    <tr>\n",
       "      <th>11</th>\n",
       "      <td>10</td>\n",
       "      <td>pred</td>\n",
       "      <td>big</td>\n",
       "      <td>7</td>\n",
       "      <td>0.7</td>\n",
       "      <td>3</td>\n",
       "    </tr>\n",
       "    <tr>\n",
       "      <th>12</th>\n",
       "      <td>10</td>\n",
       "      <td>pred</td>\n",
       "      <td>big</td>\n",
       "      <td>6</td>\n",
       "      <td>0.6</td>\n",
       "      <td>4</td>\n",
       "    </tr>\n",
       "  </tbody>\n",
       "</table>\n",
       "</div>"
      ],
      "text/plain": [
       "    density  pred size  surv  propsurv  killed\n",
       "9        10  pred  big     4       0.4       6\n",
       "10       10  pred  big     9       0.9       1\n",
       "11       10  pred  big     7       0.7       3\n",
       "12       10  pred  big     6       0.6       4"
      ]
     },
     "execution_count": 25,
     "metadata": {},
     "output_type": "execute_result"
    }
   ],
   "source": [
    "rf_sub_b = rfp[(rfp[\"pred\"]==\"pred\") & (rfp[\"size\"]==\"big\") & (rfp[\"density\"]==10)].copy()      # copy so as to not replacing dataset\n",
    "print(len(rf_sub_b))\n",
    "\n",
    "rf_sub_b['killed'] = rf_sub_b['density'] - rf_sub_b['surv']\n",
    "rf_sub_b"
   ]
  },
  {
   "cell_type": "code",
   "execution_count": 26,
   "id": "invisible-collar",
   "metadata": {
    "id": "invisible-collar"
   },
   "outputs": [
    {
     "data": {
      "text/plain": [
       "np.float64(-9.941595325186778)"
      ]
     },
     "execution_count": 26,
     "metadata": {},
     "output_type": "execute_result"
    }
   ],
   "source": [
    "# Your code here\n",
    "p = 0.5\n",
    "\n",
    "np.sum(binom.logpmf(k=rf_sub_b[\"killed\"], n=rf_sub_b[\"density\"], p=p))"
   ]
  },
  {
   "cell_type": "code",
   "execution_count": 27,
   "id": "866738d3",
   "metadata": {},
   "outputs": [
    {
     "name": "stdout",
     "output_type": "stream",
     "text": [
      "Best value: p=0.35000000000000003\n"
     ]
    },
    {
     "data": {
      "text/plain": [
       "<matplotlib.lines.Line2D at 0x16ae73460>"
      ]
     },
     "execution_count": 27,
     "metadata": {},
     "output_type": "execute_result"
    },
    {
     "data": {
      "image/png": "[encoded data removed]",
      "text/plain": [
       "<Figure size 640x480 with 1 Axes>"
      ]
     },
     "metadata": {},
     "output_type": "display_data"
    }
   ],
   "source": [
    "p_vec = np.arange(0.01, 1.01, step=0.01)\n",
    "loglik = np.zeros(100)\n",
    "\n",
    "for i, p in enumerate(p_vec):\n",
    "    loglik[i] = np.sum(binom.logpmf(k=rf_sub_b[\"killed\"], n=rf_sub_b[\"density\"], p=p))\n",
    "\n",
    "max_p = p_vec[np.argmax(loglik)]\n",
    "print(f\"Best value: p={max_p}\")\n",
    "\n",
    "plt.plot(p_vec, loglik)\n",
    "plt.yscale('linear')\n",
    "plt.axvline(x = max_p, color = 'r', linestyle = '-')"
   ]
  },
  {
   "cell_type": "markdown",
   "id": "signal-broadcasting",
   "metadata": {
    "id": "signal-broadcasting"
   },
   "source": [
    "**Conclusion**: The best guess for p is now p=0.35. This shows that **bigger frogs have a higher risk of beeing killed**."
   ]
  },
  {
   "cell_type": "markdown",
   "id": "comparable-invention",
   "metadata": {
    "id": "comparable-invention"
   },
   "source": [
    "## Bayesian Parameter Estimation\n",
    "\n",
    "Bayesian estimation always requires a prior. When no previous knowledge about the data is available (which is never the case) a non-informative prior can be used. In the code below a uniform prior which is non-informative is shown.\n"
   ]
  },
  {
   "cell_type": "code",
   "execution_count": null,
   "id": "naughty-childhood",
   "metadata": {
    "id": "naughty-childhood"
   },
   "outputs": [],
   "source": [
    "from scipy.stats import uniform"
   ]
  },
  {
   "cell_type": "code",
   "execution_count": null,
   "id": "grateful-volleyball",
   "metadata": {
    "id": "grateful-volleyball",
    "outputId": "6aab128c-06c2-4fe9-db8d-4277113e8569"
   },
   "outputs": [
    {
     "data": {
      "text/plain": [
       "[<matplotlib.lines.Line2D at 0x7f9e9fa43310>]"
      ]
     },
     "execution_count": 16,
     "metadata": {},
     "output_type": "execute_result"
    },
    {
     "data": {
      "image/png": "[encoded data removed]",
      "text/plain": [
       "<Figure size 432x288 with 1 Axes>"
      ]
     },
     "metadata": {
      "needs_background": "light"
     },
     "output_type": "display_data"
    }
   ],
   "source": [
    "p_vec = np.arange(0, 1.01, step=0.01)\n",
    "p_uni = uniform.pdf(p_vec)\n",
    "\n",
    "plt.plot(p_vec, p_uni, \"r\")"
   ]
  },
  {
   "cell_type": "markdown",
   "id": "timely-garage",
   "metadata": {
    "id": "timely-garage"
   },
   "source": [
    "**Binomial distributet data has the beta distribution as its conjugate prior**.\n",
    "A beta prior can itself be non-informative. Here is an example of non-informative beta prior"
   ]
  },
  {
   "cell_type": "code",
   "execution_count": null,
   "id": "positive-medium",
   "metadata": {
    "id": "positive-medium",
    "outputId": "849c3474-5a82-490c-837b-0d7f472d8c99"
   },
   "outputs": [
    {
     "data": {
      "text/plain": [
       "[<matplotlib.lines.Line2D at 0x7f9e9fb0de70>]"
      ]
     },
     "execution_count": 17,
     "metadata": {},
     "output_type": "execute_result"
    },
    {
     "data": {
      "image/png": "[encoded data removed]",
      "text/plain": [
       "<Figure size 432x288 with 1 Axes>"
      ]
     },
     "metadata": {
      "needs_background": "light"
     },
     "output_type": "display_data"
    }
   ],
   "source": [
    "from scipy.stats import beta\n",
    "\n",
    "p_vec = np.arange(0, 1.01, step=0.01)\n",
    "p_beta = beta.pdf(p_vec, 1, 1)\n",
    "\n",
    "plt.plot(p_vec, p_beta, \"r\")"
   ]
  },
  {
   "cell_type": "markdown",
   "id": "liked-gasoline",
   "metadata": {
    "id": "liked-gasoline"
   },
   "source": [
    "### A single data point\n",
    "\n",
    "#### Brute Force Method of Bayesian estimation\n",
    "\n",
    "To understand things better let's first focus on a single example. The scientist counted the number of frogs in one tank that at the start of the experiement contained 10 frogs and found that 3 of them were missing."
   ]
  },
  {
   "cell_type": "code",
   "execution_count": null,
   "id": "proud-progressive",
   "metadata": {
    "id": "proud-progressive"
   },
   "outputs": [],
   "source": [
    "k_killed = 3\n",
    "\n",
    "param_space = np.arange(0, 1.001, step=0.001)\n",
    "likelihood = binom.pmf(k=k_killed, n=10, p=param_space)\n",
    "\n",
    "###########\n",
    "# Brute-force Bayes\n",
    "\n",
    "####\n",
    "# prior across parameter space\n",
    "prior = beta.pdf(param_space, a=1, b=1)\n",
    "\n",
    "######\n",
    "## Numerator for Bayes rule: weight the data likelihood by the prior\n",
    "weighted_likelihood = likelihood*prior      # Numerator for Bayes rule\n",
    "\n",
    "######\n",
    "## Denominator for Bayes rule: compute normalization constant\n",
    "normalization_constant = np.sum(weighted_likelihood)/len(param_space)   # \"evidence\" is a single constant number: the sum of the weighted likelihoods!\n",
    "\n",
    "######\n",
    "## Posterior!! (numerator/denominator)\n",
    "posterior = weighted_likelihood/normalization_constant   # this is Bayes' rule!\n"
   ]
  },
  {
   "cell_type": "code",
   "execution_count": null,
   "id": "downtown-horror",
   "metadata": {
    "id": "downtown-horror",
    "outputId": "ec854a6c-bd8d-458a-bdce-a78de6771ffb"
   },
   "outputs": [
    {
     "data": {
      "image/png": "[encoded data removed]",
      "text/plain": [
       "<Figure size 432x288 with 1 Axes>"
      ]
     },
     "metadata": {
      "needs_background": "light"
     },
     "output_type": "display_data"
    }
   ],
   "source": [
    "# Plot it out!\n",
    "\n",
    "plt.plot(param_space, prior, \"r\", label=\"prior\")\n",
    "plt.plot(param_space, posterior, \"b\", label=\"posterior\")\n",
    "plt.plot(param_space, likelihood, \"g\", label=\"likelihood\")\n",
    "plt.legend()\n",
    "plt.xlabel(\"p\")\n",
    "plt.ylabel(\"probability density\")\n",
    "None"
   ]
  },
  {
   "cell_type": "markdown",
   "id": "invisible-target",
   "metadata": {
    "id": "invisible-target"
   },
   "source": [
    "The posterior has a shape very similar to that of the likelihood this means that prior has been overwhelmed by the information provided by the data.\n"
   ]
  },
  {
   "cell_type": "markdown",
   "id": "increasing-breed",
   "metadata": {
    "id": "increasing-breed"
   },
   "source": [
    "#### Informative prior"
   ]
  },
  {
   "cell_type": "code",
   "execution_count": null,
   "id": "heated-royalty",
   "metadata": {
    "id": "heated-royalty"
   },
   "outputs": [],
   "source": [
    "#############\n",
    "# Try an informative prior!\n",
    "prior = beta.pdf(param_space, a=15, b=5)\n",
    "\n",
    "######\n",
    "## Numerator for Bayes rule: weight the data likelihood by the prior\n",
    "weighted_likelihood = likelihood*prior      # Numerator for Bayes rule\n",
    "\n",
    "######\n",
    "## Denominator for Bayes rule: compute normalization constant\n",
    "normalization_constant = np.sum(weighted_likelihood)/len(param_space)   # \"evidence\" is a single constant number: the sum of the weighted likelihoods!\n",
    "\n",
    "######\n",
    "## Posterior!! (numerator/denominator)\n",
    "posterior = weighted_likelihood/normalization_constant   # this is Bayes' rule!\n"
   ]
  },
  {
   "cell_type": "code",
   "execution_count": null,
   "id": "valid-aurora",
   "metadata": {
    "id": "valid-aurora",
    "outputId": "b0b8a5bc-c0d0-431b-8ecd-0b8d12c2d343"
   },
   "outputs": [
    {
     "data": {
      "image/png": "[encoded data removed]",
      "text/plain": [
       "<Figure size 432x288 with 2 Axes>"
      ]
     },
     "metadata": {
      "needs_background": "light"
     },
     "output_type": "display_data"
    }
   ],
   "source": [
    "# Plot it out!\n",
    "fig, ax1 = plt.subplots()\n",
    "ax2 = ax1.twinx()\n",
    "\n",
    "ax1.plot(param_space, prior, \"r\", label=\"prior\")\n",
    "ax1.plot(param_space, posterior, \"b\", label=\"posterior\")\n",
    "ax2.plot(param_space, likelihood, \"g\", label=\"likelihood\")\n",
    "ax1.legend()\n",
    "plt.xlabel(\"p\")\n",
    "ax1.set_ylabel(\"probability density\")\n",
    "ax2.set_ylabel(\"likelihood\")\n",
    "None"
   ]
  },
  {
   "cell_type": "markdown",
   "id": "successful-ticket",
   "metadata": {
    "id": "successful-ticket"
   },
   "source": [
    "Here we clearly see that posterior is nicely placed between our likelihood and prior. The posterial has a shape similar to the prior.\n"
   ]
  },
  {
   "cell_type": "markdown",
   "id": "comic-fusion",
   "metadata": {
    "id": "comic-fusion"
   },
   "source": [
    "## Exercise 3\n",
    "\n",
    "Your goal in this exercise is to add more experimental data and run againe the baysian estimation. The data vector has been provided to you.\n",
    "\n",
    "It is justified to assume that the individual data points are statistically independent. For this reason we can calculate the total likelihood function as the product of all the individual samples.\n",
    "\n",
    "What do you observe looking at the resulting posterior distribution?"
   ]
  },
  {
   "cell_type": "code",
   "execution_count": null,
   "id": "processed-landing",
   "metadata": {
    "id": "processed-landing"
   },
   "outputs": [],
   "source": [
    "# Collect more experimental data\n",
    "\n",
    "k_killed = [3, 1, 6, 2, 3, 2, 6, 1, 3, 3]\n",
    "\n",
    "# We use the same prior as before\n",
    "prior = beta.pdf(param_space, a=15, b=5)\n",
    "\n",
    "# Your code here:\n",
    "\n"
   ]
  },
  {
   "cell_type": "code",
   "execution_count": null,
   "id": "pregnant-partnership",
   "metadata": {
    "id": "pregnant-partnership"
   },
   "outputs": [],
   "source": [
    "# Plot it out!\n",
    "fig, ax1 = plt.subplots()\n",
    "ax2 = ax1.twinx()\n",
    "\n",
    "ax1.plot(param_space, prior, \"r\", label=\"prior\")\n",
    "ax1.plot(param_space, posterior, \"b\", label=\"posterior\")\n",
    "ax2.plot(param_space, likelihood, \"g\", label=\"likelihood\")\n",
    "ax1.legend()\n",
    "plt.xlabel(\"p\")\n",
    "ax1.set_ylabel(\"probability density\")\n",
    "ax2.set_ylabel(\"likelihood\")\n",
    "None"
   ]
  },
  {
   "cell_type": "markdown",
   "id": "authorized-wells",
   "metadata": {
    "id": "authorized-wells"
   },
   "source": [
    "In this case we see that our posterior is closer to likelihood of data which makes sense as we have more data."
   ]
  },
  {
   "cell_type": "markdown",
   "id": "prospective-discipline",
   "metadata": {
    "id": "prospective-discipline"
   },
   "source": [
    "## Exercise 4\n",
    "**Try a super informative prior**\n",
    "\n",
    "Change the code above above to try even a more informative prior with a = 150 and b = 50."
   ]
  },
  {
   "cell_type": "code",
   "execution_count": null,
   "id": "buried-management",
   "metadata": {
    "id": "buried-management"
   },
   "outputs": [],
   "source": [
    "# We use the same prior as before\n",
    "prior = beta.pdf(param_space, a=150, b=50)\n",
    "\n",
    "# Your code here\n",
    "\n",
    "\n"
   ]
  },
  {
   "cell_type": "code",
   "execution_count": null,
   "id": "cleared-uganda",
   "metadata": {
    "id": "cleared-uganda"
   },
   "outputs": [],
   "source": [
    "# Plot it out!\n",
    "fig, ax1 = plt.subplots()\n",
    "ax2 = ax1.twinx()\n",
    "\n",
    "ax1.plot(param_space, prior, \"r\", label=\"prior\")\n",
    "ax1.plot(param_space, posterior, \"b\", label=\"posterior\")\n",
    "ax2.plot(param_space, likelihood, \"g\", label=\"likelihood\")\n",
    "ax1.legend()\n",
    "plt.xlabel(\"p\")\n",
    "ax1.set_ylabel(\"probability density\")\n",
    "ax2.set_ylabel(\"likelihood\")\n",
    "None"
   ]
  },
  {
   "cell_type": "markdown",
   "id": "flexible-domain",
   "metadata": {
    "id": "flexible-domain"
   },
   "source": [
    "## Exercise 5\n",
    "\n",
    "Bayesian confidence intervals are called **credible intervals**. Though you will learn more about confidence intervals in afternoon, there is no harm in estimating them already. Credible intervals basically tell us that we are 95% sure that the parameter value is between the lower and upper bound of this interval.\n",
    "\n",
    "Your goal in this exercise is to estimate the credible interval for the case when we had one singel observation with k=3, and a non-informative prior with the a=1 and b=1.\n",
    "\n",
    "You can use the following formular to get the posterior distribution:\n",
    "\n",
    "$Posterior \\propto Beta(a+k, b+N-k)$\n"
   ]
  },
  {
   "cell_type": "code",
   "execution_count": null,
   "id": "included-iraqi",
   "metadata": {
    "id": "included-iraqi"
   },
   "outputs": [],
   "source": [
    "k_killed = 3\n",
    "N = 10\n",
    "\n",
    "# Your code here\n",
    "\n"
   ]
  },
  {
   "cell_type": "code",
   "execution_count": null,
   "id": "opposite-realtor",
   "metadata": {
    "id": "opposite-realtor",
    "outputId": "7d3d26c8-6a97-49cd-8ebd-6e24bf73bad9"
   },
   "outputs": [
    {
     "data": {
      "image/png": "[encoded data removed]",
      "text/plain": [
       "<Figure size 432x288 with 1 Axes>"
      ]
     },
     "metadata": {
      "needs_background": "light"
     },
     "output_type": "display_data"
    }
   ],
   "source": [
    "plt.plot(param_space, posterior)\n",
    "\n",
    "plt.axvline(x=credible_interval[0], color=\"r\")\n",
    "plt.axvline(x=credible_interval[1], color=\"r\")\n",
    "None"
   ]
  },
  {
   "cell_type": "markdown",
   "id": "prime-denmark",
   "metadata": {
    "id": "prime-denmark"
   },
   "source": [
    "**Done!**"
   ]
  }
 ],
 "metadata": {
  "colab": {
   "provenance": []
  },
  "kernelspec": {
   "display_name": "CDBootcamp",
   "language": "python",
   "name": "python3"
  },
  "language_info": {
   "codemirror_mode": {
    "name": "ipython",
    "version": 3
   },
   "file_extension": ".py",
   "mimetype": "text/x-python",
   "name": "python",
   "nbconvert_exporter": "python",
   "pygments_lexer": "ipython3",
   "version": "3.10.18"
  }
 },
 "nbformat": 4,
 "nbformat_minor": 5
}
