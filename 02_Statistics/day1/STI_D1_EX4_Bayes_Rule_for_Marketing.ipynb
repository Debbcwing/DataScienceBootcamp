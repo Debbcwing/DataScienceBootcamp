{
 "cells": [
  {
   "cell_type": "markdown",
   "id": "e2ddfdfa",
   "metadata": {
    "id": "e2ddfdfa"
   },
   "source": [
    "<center><a target=\"_blank\" href=\"https://academy.constructor.org/\"><img src=https://lh3.googleusercontent.com/d/1EmH3Jks5CpJy0zK3JbkvJZkeqWtVcxhB width=\"800\" style=\"background:none; border:none; box-shadow:none;\" /></a> </center>\n",
    "<hr />\n",
    "\n",
    "# <h1 align=\"center\"> Day-1-Descriptive-Statistics. Exercise session 4: Probability Computation in a Business Context </h1> </center>\n",
    "\n",
    "<p style=\"margin-bottom:1cm;\"></p>\n",
    "\n",
    "_____\n",
    "\n",
    "<center>Constructor Academy, 2025</center>\n"
   ]
  },
  {
   "cell_type": "code",
   "execution_count": null,
   "id": "733c80bc",
   "metadata": {
    "id": "733c80bc"
   },
   "outputs": [],
   "source": [
    "%matplotlib inline\n",
    "import matplotlib.pyplot as plt\n",
    "import pandas as pd"
   ]
  },
  {
   "cell_type": "markdown",
   "id": "b807bdf3",
   "metadata": {
    "id": "b807bdf3"
   },
   "source": [
    "Exercise Goal: Experiment with Bayes Law, compute frequencies and link them to probabilities.\n",
    "\n",
    "Bayes’ Law states that the probability of an event A happening given that B happened is equal to the ratio of the probability of B happening given A happened times the probability of A happening over the probability of B happening…. or in short:\n",
    "\n",
    "$$P(A|B) = \\frac{P(B|A)P(A)}{P(B)}$$\n",
    "\n",
    "Now. How can this help us infer anything in a business context? That’s what we’re gonna see in this exercise.\n",
    "\n",
    "Let’s look at the Marketing data again (we already worked on this problem when looking at train/test splits). Here is the description of the problem:\n",
    "\n",
    "You have been contacted by company B, that would like to increase their sales. They have recently done a marketing campaign where they sent a promotional email to their customer with either:\n",
    "\n",
    "- a buy one get one offer\n",
    "- a discount offer\n",
    "- no offer.\n",
    "\n",
    "They sent you the Marketing.csv file, with the following columns:\n",
    "\n",
    "- recency: months since the last purchase made by customer\n",
    "- history: total amount ever spent by the customer in the shop\n",
    "- used_discount: whether the customer has already used a discount before\n",
    "- used_bogo: whether the customer has already used a “buy one, get one” offer before\n",
    "- zip_code: class of the zip code (the customer can be either Suburban, Urban or Rural)\n",
    "- is_referral: whether the customer was acquired through a referal channel\n",
    "- channel: channels that the customer is using (Phone, Web, Multichannel)\n",
    "- offer: the offer sent ()\n",
    "- conversion: 1=customer bought something, 0= customer did not buy anything."
   ]
  },
  {
   "cell_type": "code",
   "execution_count": null,
   "id": "25f9eecf",
   "metadata": {
    "id": "25f9eecf",
    "outputId": "2af13d53-64bb-4b38-8d5b-115db2e3e728"
   },
   "outputs": [
    {
     "data": {
      "text/html": [
       "<div>\n",
       "<style scoped>\n",
       "    .dataframe tbody tr th:only-of-type {\n",
       "        vertical-align: middle;\n",
       "    }\n",
       "\n",
       "    .dataframe tbody tr th {\n",
       "        vertical-align: top;\n",
       "    }\n",
       "\n",
       "    .dataframe thead th {\n",
       "        text-align: right;\n",
       "    }\n",
       "</style>\n",
       "<table border=\"1\" class=\"dataframe\">\n",
       "  <thead>\n",
       "    <tr style=\"text-align: right;\">\n",
       "      <th></th>\n",
       "      <th>recency</th>\n",
       "      <th>history</th>\n",
       "      <th>used_discount</th>\n",
       "      <th>used_bogo</th>\n",
       "      <th>zip_code</th>\n",
       "      <th>is_referral</th>\n",
       "      <th>channel</th>\n",
       "      <th>offer</th>\n",
       "      <th>conversion</th>\n",
       "    </tr>\n",
       "  </thead>\n",
       "  <tbody>\n",
       "    <tr>\n",
       "      <th>0</th>\n",
       "      <td>10</td>\n",
       "      <td>142.44</td>\n",
       "      <td>1</td>\n",
       "      <td>0</td>\n",
       "      <td>Surburban</td>\n",
       "      <td>0</td>\n",
       "      <td>Phone</td>\n",
       "      <td>Buy One Get One</td>\n",
       "      <td>0</td>\n",
       "    </tr>\n",
       "    <tr>\n",
       "      <th>1</th>\n",
       "      <td>5</td>\n",
       "      <td>349.41</td>\n",
       "      <td>1</td>\n",
       "      <td>1</td>\n",
       "      <td>Surburban</td>\n",
       "      <td>1</td>\n",
       "      <td>Phone</td>\n",
       "      <td>Buy One Get One</td>\n",
       "      <td>0</td>\n",
       "    </tr>\n",
       "    <tr>\n",
       "      <th>2</th>\n",
       "      <td>7</td>\n",
       "      <td>64.04</td>\n",
       "      <td>0</td>\n",
       "      <td>1</td>\n",
       "      <td>Rural</td>\n",
       "      <td>0</td>\n",
       "      <td>Web</td>\n",
       "      <td>Buy One Get One</td>\n",
       "      <td>1</td>\n",
       "    </tr>\n",
       "    <tr>\n",
       "      <th>3</th>\n",
       "      <td>2</td>\n",
       "      <td>244.82</td>\n",
       "      <td>0</td>\n",
       "      <td>1</td>\n",
       "      <td>Rural</td>\n",
       "      <td>1</td>\n",
       "      <td>Web</td>\n",
       "      <td>Buy One Get One</td>\n",
       "      <td>1</td>\n",
       "    </tr>\n",
       "    <tr>\n",
       "      <th>4</th>\n",
       "      <td>11</td>\n",
       "      <td>302.15</td>\n",
       "      <td>1</td>\n",
       "      <td>0</td>\n",
       "      <td>Urban</td>\n",
       "      <td>0</td>\n",
       "      <td>Web</td>\n",
       "      <td>Buy One Get One</td>\n",
       "      <td>0</td>\n",
       "    </tr>\n",
       "    <tr>\n",
       "      <th>5</th>\n",
       "      <td>1</td>\n",
       "      <td>525.05</td>\n",
       "      <td>1</td>\n",
       "      <td>0</td>\n",
       "      <td>Surburban</td>\n",
       "      <td>1</td>\n",
       "      <td>Multichannel</td>\n",
       "      <td>Buy One Get One</td>\n",
       "      <td>0</td>\n",
       "    </tr>\n",
       "  </tbody>\n",
       "</table>\n",
       "</div>"
      ],
      "text/plain": [
       "   recency  history  used_discount  used_bogo   zip_code  is_referral  \\\n",
       "0       10   142.44              1          0  Surburban            0   \n",
       "1        5   349.41              1          1  Surburban            1   \n",
       "2        7    64.04              0          1      Rural            0   \n",
       "3        2   244.82              0          1      Rural            1   \n",
       "4       11   302.15              1          0      Urban            0   \n",
       "5        1   525.05              1          0  Surburban            1   \n",
       "\n",
       "        channel            offer  conversion  \n",
       "0         Phone  Buy One Get One           0  \n",
       "1         Phone  Buy One Get One           0  \n",
       "2           Web  Buy One Get One           1  \n",
       "3           Web  Buy One Get One           1  \n",
       "4           Web  Buy One Get One           0  \n",
       "5  Multichannel  Buy One Get One           0  "
      ]
     },
     "execution_count": 2,
     "metadata": {},
     "output_type": "execute_result"
    }
   ],
   "source": [
    "# reading data from csv\n",
    "# df = pd.read_csv('../data/Marketing3.csv', index_col=[0])\n",
    "df = pd.read_csv('/Users/szewing/Desktop/Course/CDBootcamp/debbie_to/02_Statistics/day1/Marketing3.csv', index_col=[0])\n",
    "df.head(6)"
   ]
  },
  {
   "cell_type": "markdown",
   "id": "fd445436",
   "metadata": {
    "id": "fd445436"
   },
   "source": [
    "## 1. Compute probabilities\n",
    "\n",
    "**What is the overall probability of conversion for a random customer?**\n",
    "\n",
    "$$P(conv) = \\frac{N(conv)}{N(total)}$$"
   ]
  },
  {
   "cell_type": "code",
   "execution_count": null,
   "id": "676e74b3",
   "metadata": {
    "id": "676e74b3"
   },
   "outputs": [],
   "source": [
    "# your code here"
   ]
  },
  {
   "cell_type": "markdown",
   "id": "5e01d0a6",
   "metadata": {
    "id": "5e01d0a6"
   },
   "source": [
    "**What is the probability that a randomly selected customer within the database has both been active whithin the last 6 months and has been receptive to the marketing campaign**"
   ]
  },
  {
   "cell_type": "code",
   "execution_count": null,
   "id": "4a24e662",
   "metadata": {
    "id": "4a24e662"
   },
   "outputs": [],
   "source": [
    "# your code here"
   ]
  },
  {
   "cell_type": "markdown",
   "id": "24854bb9",
   "metadata": {
    "id": "24854bb9"
   },
   "source": [
    "This is the probability of the customer **being active and subject to conversion**.\n",
    "\n",
    "**Now, what is the probability of conversion of a customer that was active within the last 6 months?**"
   ]
  },
  {
   "cell_type": "code",
   "execution_count": null,
   "id": "32f84af3",
   "metadata": {
    "id": "32f84af3"
   },
   "outputs": [],
   "source": [
    "# your code here"
   ]
  },
  {
   "cell_type": "markdown",
   "id": "4b7b59b3",
   "metadata": {
    "id": "4b7b59b3"
   },
   "source": [
    "**The Marketing team is coming back with new numbers: the demographics has**\n",
    "**changed and now they have:**\n",
    "\n",
    "- 30% rural\n",
    "- 50% urban\n",
    "- 20% Surburban\n",
    "\n",
    "How would you correct the global conversion rate?"
   ]
  },
  {
   "cell_type": "code",
   "execution_count": null,
   "id": "7127077e",
   "metadata": {
    "id": "7127077e"
   },
   "outputs": [],
   "source": [
    "# your code here"
   ]
  },
  {
   "cell_type": "markdown",
   "id": "eae7962a",
   "metadata": {
    "id": "eae7962a"
   },
   "source": [
    "## 2. Bayes law: Integrate prior knowledge\n",
    "\n",
    "Let's say you built a predictive model out of your data: you made a train/test\n",
    "split as recommended in exercise 1, then you applied a classification algorithm,\n",
    "and now you have a model that can predict, from history, recency, zip_code, ...\n",
    "whether a marketing sollicitation is going to result in a conversion.\n",
    "\n",
    "During the test phase you obtain the following counts:\n",
    "\n",
    "|                          | Customers than converted | Customers that did not convert |\n",
    "|--------------------------|-----------------|---------------------|\n",
    "| Predicted: conv = 1  | 100             | 10                  |\n",
    "| Predicted: conv = 0  | 4               | 1000                |\n",
    "\n",
    "now the marketing team is giving you new data, and for a given customer, your\n",
    "model has predicted a conversion.\n",
    "\n",
    "**Apply the Bayes theorem to compute the probability that they'll convert.**"
   ]
  },
  {
   "cell_type": "code",
   "execution_count": null,
   "id": "274f4f6a",
   "metadata": {
    "id": "274f4f6a"
   },
   "outputs": [],
   "source": [
    "# your code here"
   ]
  },
  {
   "cell_type": "markdown",
   "id": "49d4ade9",
   "metadata": {
    "id": "49d4ade9"
   },
   "source": [
    "**Now the Marketing team is contacting you again and says that historically,**\n",
    "**their conversion rate has actually been of 5%. How would you update your probability?**"
   ]
  },
  {
   "cell_type": "code",
   "execution_count": null,
   "id": "11cf374b",
   "metadata": {
    "id": "11cf374b"
   },
   "outputs": [],
   "source": [
    "# your code here"
   ]
  }
 ],
 "metadata": {
  "colab": {
   "provenance": []
  },
  "kernelspec": {
   "display_name": "Python 3",
   "language": "python",
   "name": "python3"
  },
  "language_info": {
   "codemirror_mode": {
    "name": "ipython",
    "version": 3
   },
   "file_extension": ".py",
   "mimetype": "text/x-python",
   "name": "python",
   "nbconvert_exporter": "python",
   "pygments_lexer": "ipython3",
   "version": "3.8.8"
  }
 },
 "nbformat": 4,
 "nbformat_minor": 5
}
