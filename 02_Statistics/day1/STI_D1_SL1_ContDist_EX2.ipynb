{
  "cells": [
    {
      "cell_type": "markdown",
      "metadata": {
        "id": "jkMQ9a5fpiLU"
      },
      "source": [
        "<center><a target=\"_blank\" href=\"https://academy.constructor.org/\"><img src=https://lh3.googleusercontent.com/d/1EmH3Jks5CpJy0zK3JbkvJZkeqWtVcxhB width=\"800\" style=\"background:none; border:none; box-shadow:none;\" /></a> </center>\n",
        "<hr />\n",
        "\n",
        "# <h1 align=\"center\"> Example 2: Continuous distribution</h1> </center>\n",
        "\n",
        "<p style=\"margin-bottom:1cm;\"></p>\n",
        "\n",
        "_____\n",
        "\n",
        "<center>Constructor Academy, 2024</center>"
      ]
    },
    {
      "cell_type": "markdown",
      "metadata": {
        "id": "xOqUfIEItyhr"
      },
      "source": [
        "# Generating a Random Variable from a Piecewise PDF\n",
        "\n",
        "In this exercise, we will learn how to simulate random variables from a piecewise probability density function (PDF). We will use a simple method known as rejection sampling to accomplish this.\n",
        "\n",
        "## Step 1: Understanding the PDF\n",
        "\n",
        "Our given PDF is defined as:\n",
        "\n",
        "\\begin{equation}\n",
        "f(x) = \\begin{cases}\n",
        "x & \\text{for $0 \\leq x \\leq 1$} \\\\\n",
        "2-x & \\text{for $1 < x \\leq 2$} \\\\\n",
        "0, & \\text{otherwise}\n",
        "\\end{cases}\n",
        "\\end{equation}\n",
        "\n",
        "This means that our random variable will have different behaviors depending on the value of \\( x \\).\n",
        "\n",
        "## Step 2: Implementing Rejection Sampling\n",
        "\n",
        "Rejection sampling is a technique to generate observations from a distribution. The basic idea is to choose a random point on a two-dimensional plane where one axis is your variable and the other axis is your probability, and then check if the point lies under the curve of your PDF.\n",
        "\n",
        "### Step 2.1: Write the Sampling Function\n",
        "\n",
        "First, write a function to sample points and check if they fall under our PDF's curve.\n",
        "\n",
        "```python\n",
        "def dfn():\n",
        "    while True:\n",
        "        # ...\n",
        "        if # ...\n",
        "            return # ...\n",
        "        elif # ...\n",
        "            return # ...\n"
      ]
    },
    {
      "cell_type": "code",
      "execution_count": null,
      "metadata": {
        "id": "ySAnr48z4etk"
      },
      "outputs": [],
      "source": [
        "import numpy as np\n",
        "from numpy.random import uniform as uni\n",
        "\n",
        "# your code here"
      ]
    },
    {
      "cell_type": "markdown",
      "metadata": {
        "id": "twZ2bJnSuFEP"
      },
      "source": [
        "### Step 2.2: Generate Multiple Samples\n",
        "Now create a function to generate multiple valid samples.\n",
        "\n",
        "```python\n",
        "def dfnw(n):\n",
        "    sample = []\n",
        "    while # ...\n",
        "        # ...\n",
        "        # ...\n",
        "    return # ...\n"
      ]
    },
    {
      "cell_type": "code",
      "execution_count": null,
      "metadata": {
        "id": "Tlo_zHvyvLrn"
      },
      "outputs": [],
      "source": [
        "# your code here"
      ]
    },
    {
      "cell_type": "markdown",
      "metadata": {
        "id": "05aalAYlurvL"
      },
      "source": [
        "## Step 3: Visualizing the Results\n",
        "After you have the samples, you can visualize them to check if they follow the expected PDF."
      ]
    },
    {
      "cell_type": "code",
      "execution_count": null,
      "metadata": {
        "id": "7GkbYi2yt9X-"
      },
      "outputs": [],
      "source": [
        "import matplotlib.pyplot as plt\n",
        "\n",
        "# your code here"
      ]
    }
  ],
  "metadata": {
    "colab": {
      "provenance": []
    },
    "kernelspec": {
      "display_name": "CDBootcamp",
      "language": "python",
      "name": "python3"
    },
    "language_info": {
      "name": "python",
      "version": "3.10.18"
    }
  },
  "nbformat": 4,
  "nbformat_minor": 0
}
