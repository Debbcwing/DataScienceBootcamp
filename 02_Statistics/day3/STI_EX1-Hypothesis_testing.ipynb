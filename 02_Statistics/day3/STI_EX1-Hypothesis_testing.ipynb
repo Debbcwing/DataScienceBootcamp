{
 "cells": [
  {
   "cell_type": "markdown",
   "metadata": {
    "id": "lp8Bqj6jVh48"
   },
   "source": [
    "<center><a target=\"_blank\" href=\"https://academy.constructor.org/\"><img src=https://lh3.googleusercontent.com/d/1EmH3Jks5CpJy0zK3JbkvJZkeqWtVcxhB width=\"800\" style=\"background:none; border:none; box-shadow:none;\" /></a> </center>\n",
    "<hr />\n",
    "\n",
    "# <h1 align=\"center\"> Day-3-Inductive-Statistics. Part 1 </h1> </center>\n",
    "\n",
    "<p style=\"margin-bottom:1cm;\"></p>\n",
    "\n",
    "_____\n",
    "\n",
    "<center>Constructor Academy, 2024</center>\n"
   ]
  },
  {
   "cell_type": "markdown",
   "metadata": {
    "id": "3u5dciiHy6Wz"
   },
   "source": [
    "\n",
    "## In-class Tutorial + Exercise (30 mins)\n",
    "### Part 1. Hypothesis testing.\n",
    "#### A brief introduction\n",
    "\n",
    "In this tutorial you will get familiar with elements of Inductive Statistics. Some examples on the most common statistical test - t-test!\n",
    "\n",
    "The exercises are annotated as follows:\n",
    "\n",
    "#### Exercise\n",
    "\n",
    "text of the task\n",
    "\n",
    "```python\n",
    "# your code here\n",
    "```"
   ]
  },
  {
   "cell_type": "markdown",
   "metadata": {
    "id": "YuQmXTczVh5H"
   },
   "source": [
    "## Hypothesis testing. T-test\n",
    "Concepts covered\n",
    "\n",
    "- Null and alternative hypothesis\n",
    "- t-score\n",
    "\n",
    "**For all the problems below:**\n",
    "\n",
    "- Formulate null and alternative hypothesis\n",
    "- Calculate t-score and test the hypothesis with alpha=0.05\n",
    "Assume that all variables are normally distributed. Do not make any assumptions about the variance."
   ]
  },
  {
   "cell_type": "markdown",
   "metadata": {},
   "source": [
    "### Exercise 1\n",
    "Is the number of sunny days the same in San Francisco and in Boston?\n",
    "\n",
    "Sunny days in San Francisco over last 5 years: [220, 183, 301, 199, 323] Sunny days in Boston over last 5 years: [125, 186, 156, 133, 202]\n",
    "\n"
   ]
  },
  {
   "cell_type": "code",
   "execution_count": 1,
   "metadata": {
    "id": "Ze88SFNGVh5I"
   },
   "outputs": [
    {
     "name": "stdout",
     "output_type": "stream",
     "text": [
      "245.2 160.4 3160.96 881.84\n"
     ]
    }
   ],
   "source": [
    "# your code here\n",
    "# H0: the number of sunny days in the last 5 years are the same in San Francisco and in Boston.\n",
    "\n",
    "import numpy as np\n",
    "import matplotlib.pyplot as plt\n",
    "\n",
    "sf = [220, 183, 301, 199, 323]\n",
    "bst = [125, 186, 156, 133, 202]\n",
    "\n",
    "sample_mean_sf = np.mean(sf)\n",
    "sample_mean_bst = np.mean(bst)\n",
    "var_sf = np.var(sf)\n",
    "var_bst = np.var(bst)\n",
    "\n",
    "print(sample_mean_sf, sample_mean_bst, var_sf.round(2), var_bst.round(2))     # variance not the same"
   ]
  },
  {
   "cell_type": "code",
   "execution_count": 2,
   "metadata": {},
   "outputs": [
    {
     "name": "stdout",
     "output_type": "stream",
     "text": [
      "42.4 0.027 0.096\n"
     ]
    }
   ],
   "source": [
    "# standard error of the difference between two means\n",
    "from scipy import stats\n",
    "sem = stats.sem([sample_mean_sf, sample_mean_bst])\n",
    "\n",
    "t_sf = (sample_mean_sf - sample_mean_bst) / var_sf\n",
    "t_bst = (sample_mean_sf - sample_mean_bst) / var_bst\n",
    "\n",
    "\n",
    "print(sem.round(3), t_sf.round(3), t_bst.round(3))"
   ]
  },
  {
   "cell_type": "code",
   "execution_count": 3,
   "metadata": {},
   "outputs": [
    {
     "name": "stdout",
     "output_type": "stream",
     "text": [
      "ShapiroResult(statistic=np.float64(0.8760509054990254), pvalue=np.float64(0.2917971261549101)) ShapiroResult(statistic=np.float64(0.9280757928535304), pvalue=np.float64(0.5833087259926053))\n"
     ]
    }
   ],
   "source": [
    "# Shapiro-Wilk test (normality)\n",
    "norm_sf = stats.shapiro(sf)\n",
    "norm_bst = stats.shapiro(bst)\n",
    "print(norm_sf, norm_bst)\n",
    "\n",
    "# p-values > 0.05 for both data -> the data is likely to have been drawn from a normally distributed population."
   ]
  },
  {
   "cell_type": "code",
   "execution_count": 4,
   "metadata": {},
   "outputs": [],
   "source": [
    "# F-test (equality of variance)\n",
    "# print(stats.f(var_sf, var_bst))"
   ]
  },
  {
   "cell_type": "code",
   "execution_count": 5,
   "metadata": {},
   "outputs": [
    {
     "name": "stdout",
     "output_type": "stream",
     "text": [
      "The calculated t-value is 2.0\n"
     ]
    }
   ],
   "source": [
    "# t-test\n",
    "t_value = (sample_mean_sf - sample_mean_bst) / sem\n",
    "print(f\"The calculated t-value is {t_value}\")"
   ]
  },
  {
   "cell_type": "code",
   "execution_count": 6,
   "metadata": {},
   "outputs": [
    {
     "data": {
      "text/plain": [
       "TtestResult(statistic=np.float64(2.6673789490993483), pvalue=np.float64(0.036739143285587854), df=np.float64(6.070670072953439))"
      ]
     },
     "execution_count": 6,
     "metadata": {},
     "output_type": "execute_result"
    }
   ],
   "source": [
    "# t-test in scipy\n",
    "t_stats = stats.ttest_ind(sf, bst, equal_var=False)\n",
    "t_stats\n",
    "\n",
    "#### t-value: 2.67; p-value <0.05 suggested that we reject the H0."
   ]
  },
  {
   "cell_type": "markdown",
   "metadata": {},
   "source": [
    "##### Conclusion: the number of sunny days in San Francisco and Boston is not the same.\n",
    "<br>"
   ]
  },
  {
   "cell_type": "markdown",
   "metadata": {},
   "source": [
    "### Exercise 2\n",
    "Is the sandwich price different in Zürich than in London?\n",
    "\n",
    "Sandwich prices in Zurich: [2.34, 15.24, 4.24, 9.05, 7.04, 9.09, 2.74, 4.24]\n",
    "Sandwich prices in London: [2.49, 3.13, 2.92, 3.88, 3.11, 3.31, 2.41, 3.71, 2.17, 2.64]"
   ]
  },
  {
   "cell_type": "markdown",
   "metadata": {
    "id": "DxqpgBSaVh5L"
   },
   "source": []
  },
  {
   "cell_type": "code",
   "execution_count": 7,
   "metadata": {
    "id": "6DCbQlNVVh5L"
   },
   "outputs": [
    {
     "name": "stdout",
     "output_type": "stream",
     "text": [
      "6.75 2.98 16.38 0.28\n"
     ]
    }
   ],
   "source": [
    "# your code here\n",
    "# H0: No difference between sandwich prices in Zürich than in London.\n",
    "\n",
    "sandwich_zur = [2.34, 15.24, 4.24, 9.05, 7.04, 9.09, 2.74, 4.24]\n",
    "sandwich_ldn = [2.49, 3.13, 2.92, 3.88, 3.11, 3.31, 2.41, 3.71, 2.17, 2.64]\n",
    "\n",
    "sm_zur = np.mean(sandwich_zur)\n",
    "sm_ldn = np.mean(sandwich_ldn)\n",
    "\n",
    "var_zur = np.var(sandwich_zur)\n",
    "var_ldn = np.var(sandwich_ldn)\n",
    "\n",
    "print(sm_zur.round(2), sm_ldn.round(2), var_zur.round(2), var_ldn.round(2))"
   ]
  },
  {
   "cell_type": "code",
   "execution_count": 8,
   "metadata": {},
   "outputs": [
    {
     "name": "stdout",
     "output_type": "stream",
     "text": [
      "1.8852499999999994 0.2301573767064467 13.316686739115848\n"
     ]
    }
   ],
   "source": [
    "# difference variance -> standard errors between two \n",
    "sem = stats.sem([sm_zur, sm_ldn])\n",
    "\n",
    "t_zur = (sm_zur - sm_ldn) / var_zur\n",
    "t_ldn = (sm_zur - sm_ldn) / var_ldn\n",
    "print(sem, t_zur, t_ldn)"
   ]
  },
  {
   "cell_type": "code",
   "execution_count": 9,
   "metadata": {},
   "outputs": [
    {
     "name": "stdout",
     "output_type": "stream",
     "text": [
      "ShapiroResult(statistic=np.float64(0.892335427900315), pvalue=np.float64(0.24599260797268502)) ShapiroResult(statistic=np.float64(0.9641751699967032), pvalue=np.float64(0.8322225968403058))\n"
     ]
    }
   ],
   "source": [
    "# Shapiro-Wilk test (normality)\n",
    "norm_zur = stats.shapiro(sandwich_zur)\n",
    "norm_ldn = stats.shapiro(sandwich_ldn)\n",
    "print(norm_zur, norm_ldn)\n",
    "\n",
    "# p-values > 0.05 for both data -> the data is likely to have been drawn from a normally distributed population."
   ]
  },
  {
   "cell_type": "code",
   "execution_count": 10,
   "metadata": {},
   "outputs": [
    {
     "name": "stdout",
     "output_type": "stream",
     "text": [
      "The calculated t-value is 2.0000000000000004\n"
     ]
    }
   ],
   "source": [
    "# t-test\n",
    "t_value = (sm_zur - sm_ldn) / sem\n",
    "print(f\"The calculated t-value is {t_value}\")"
   ]
  },
  {
   "cell_type": "code",
   "execution_count": 11,
   "metadata": {},
   "outputs": [
    {
     "data": {
      "text/plain": [
       "TtestResult(statistic=np.float64(2.747858215918416), pvalue=np.float64(0.014296873190874946), df=np.float64(16.0))"
      ]
     },
     "execution_count": 11,
     "metadata": {},
     "output_type": "execute_result"
    }
   ],
   "source": [
    "# t-test in scipy\n",
    "t_stats = stats.ttest_ind(sandwich_zur, sandwich_ldn)\n",
    "t_stats\n",
    "\n",
    "#### t-value: 2.75; p-value <0.05 suggested that we reject the H0."
   ]
  },
  {
   "cell_type": "markdown",
   "metadata": {},
   "source": [
    "#### Conclusion: The sandwich prices in Zürich and London are different.\n",
    "<br><br>"
   ]
  },
  {
   "cell_type": "markdown",
   "metadata": {
    "id": "UAeZQ2ynVh5M"
   },
   "source": [
    "### Exercise 3\n",
    "\n",
    "Do people who exercise every day eat differently than people who don’t exercise?\n",
    "\n",
    "Calories in daily diet of people who exercise: [2032, 1839, 2126, 2384,1759, 2247, 1890, 2373]\n",
    "\n",
    "Calories in daily diet of people who don’t exercise: [1921, 2198, 1945, 2197, 2006, 1718]"
   ]
  },
  {
   "cell_type": "code",
   "execution_count": 12,
   "metadata": {
    "id": "8KPzrvOwVh5N"
   },
   "outputs": [
    {
     "name": "stdout",
     "output_type": "stream",
     "text": [
      "2081.25 1997.5 50972.9375 27800.25\n"
     ]
    }
   ],
   "source": [
    "# your code here\n",
    "# H0: People who exercise everyday eat no differently than people who don't exercise.\n",
    "\n",
    "exer_y = [2032, 1839, 2126, 2384,1759, 2247, 1890, 2373]\n",
    "exer_n = [1921, 2198, 1945, 2197, 2006, 1718]\n",
    "\n",
    "sm_y = np.mean(exer_y)\n",
    "sm_n = np.mean(exer_n)\n",
    "var_y = np.var(exer_y)\n",
    "var_n = np.var(exer_n)\n",
    "print(sm_y, sm_n, var_y, var_n)"
   ]
  },
  {
   "cell_type": "code",
   "execution_count": 13,
   "metadata": {},
   "outputs": [
    {
     "name": "stdout",
     "output_type": "stream",
     "text": [
      "ShapiroResult(statistic=np.float64(0.9271897906032358), pvalue=np.float64(0.49085853353884773)) ShapiroResult(statistic=np.float64(0.918825512120294), pvalue=np.float64(0.4969423667764242))\n"
     ]
    }
   ],
   "source": [
    "# Shapiro-Wilk test (normality)\n",
    "norm_y = stats.shapiro(exer_y)\n",
    "norm_n = stats.shapiro(exer_n)\n",
    "print(norm_y, norm_n)\n",
    "\n",
    "# p-values > 0.05 for both data -> the data is likely to have been drawn from a normally distributed population."
   ]
  },
  {
   "cell_type": "code",
   "execution_count": 14,
   "metadata": {},
   "outputs": [
    {
     "data": {
      "text/plain": [
       "np.float64(0.007228337239692203)"
      ]
     },
     "execution_count": 14,
     "metadata": {},
     "output_type": "execute_result"
    }
   ],
   "source": [
    "# t-test\n",
    "t_value = (sm_y - sm_n) / stats.sem([var_y, var_n])\n",
    "t_value"
   ]
  },
  {
   "cell_type": "code",
   "execution_count": 15,
   "metadata": {},
   "outputs": [
    {
     "data": {
      "text/plain": [
       "TtestResult(statistic=np.float64(0.7086877037197499), pvalue=np.float64(0.49205679245540046), df=np.float64(12.0))"
      ]
     },
     "execution_count": 15,
     "metadata": {},
     "output_type": "execute_result"
    }
   ],
   "source": [
    "# from scipy\n",
    "t_stats = stats.ttest_ind(exer_y, exer_n)\n",
    "t_stats\n",
    "\n",
    "#### t-value: 0.71; p-value ~ 0.5 (>0.05) suggested that we do not the H0."
   ]
  },
  {
   "cell_type": "markdown",
   "metadata": {},
   "source": [
    "#### Conclusion: people who exercise everyday intake a similar amount of calories as people who do not exercise.\n",
    "<br><br>"
   ]
  },
  {
   "cell_type": "markdown",
   "metadata": {
    "id": "MEMNaAfNVh5O"
   },
   "source": [
    "### Exercise 4\n",
    "\n",
    "Do people in red cars drive at a different speed than people in blue cars?\n",
    "\n",
    "Speed in km/h for people in red cars: [127, 83, 94, 98, 92] Speedin km/h for people in blue cars: [151, 102, 85, 112, 104]\n"
   ]
  },
  {
   "cell_type": "code",
   "execution_count": 16,
   "metadata": {
    "id": "-ol8uFDbVh5P"
   },
   "outputs": [
    {
     "name": "stdout",
     "output_type": "stream",
     "text": [
      "98.8 110.8 222.96 481.36\n"
     ]
    }
   ],
   "source": [
    "# your code here\n",
    "# H0: People in red cars drive at the same speed than people in blue cars.\n",
    "\n",
    "speed_r = [127, 83, 94, 98, 92]\n",
    "speed_b = [151, 102, 85, 112, 104]\n",
    "\n",
    "sm_r = np.mean(speed_r)\n",
    "sm_b = np.mean(speed_b)\n",
    "var_r = np.var(speed_r)\n",
    "var_b = np.var(speed_b)\n",
    "print(sm_r, sm_b, var_r.round(2), var_b.round(2))"
   ]
  },
  {
   "cell_type": "code",
   "execution_count": 17,
   "metadata": {},
   "outputs": [
    {
     "name": "stdout",
     "output_type": "stream",
     "text": [
      "ShapiroResult(statistic=np.float64(0.8450094302193285), pvalue=np.float64(0.17925216753234574)) ShapiroResult(statistic=np.float64(0.8899032244896038), pvalue=np.float64(0.3566167912349699))\n"
     ]
    }
   ],
   "source": [
    "# Shapiro-Wilk test (normality)\n",
    "norm_r = stats.shapiro(speed_r)\n",
    "norm_b = stats.shapiro(speed_b)\n",
    "print(norm_r, norm_b)\n",
    "\n",
    "# p-values > 0.05 for both data -> the data is likely to have been drawn from a normally distributed population."
   ]
  },
  {
   "cell_type": "code",
   "execution_count": 18,
   "metadata": {},
   "outputs": [
    {
     "data": {
      "text/plain": [
       "TtestResult(statistic=np.float64(-0.9043285278726962), pvalue=np.float64(0.3956676705134941), df=np.float64(7.050943223473628))"
      ]
     },
     "execution_count": 18,
     "metadata": {},
     "output_type": "execute_result"
    }
   ],
   "source": [
    "# different variance\n",
    "t_stats = stats.ttest_ind(speed_r, speed_b, equal_var=False)\n",
    "t_stats\n",
    "\n",
    "\n",
    "#### t-value: -0.90; p-value ~ 0.4 (>0.05) suggested that we reject the H0."
   ]
  },
  {
   "cell_type": "markdown",
   "metadata": {},
   "source": [
    "a neagtive t-value only means that the mean of samples A is smaller than than of B.\n"
   ]
  },
  {
   "cell_type": "markdown",
   "metadata": {},
   "source": [
    "### Conclusion: People in red cars drive at the same speed than people in blue cars."
   ]
  },
  {
   "cell_type": "markdown",
   "metadata": {},
   "source": []
  }
 ],
 "metadata": {
  "colab": {
   "provenance": []
  },
  "kernelspec": {
   "display_name": "CDBootcamp",
   "language": "python",
   "name": "python3"
  },
  "language_info": {
   "codemirror_mode": {
    "name": "ipython",
    "version": 3
   },
   "file_extension": ".py",
   "mimetype": "text/x-python",
   "name": "python",
   "nbconvert_exporter": "python",
   "pygments_lexer": "ipython3",
   "version": "3.10.18"
  }
 },
 "nbformat": 4,
 "nbformat_minor": 0
}
