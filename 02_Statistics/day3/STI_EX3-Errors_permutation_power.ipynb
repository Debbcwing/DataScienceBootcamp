{
 "cells": [
  {
   "cell_type": "markdown",
   "id": "TiiBHwltbFtG",
   "metadata": {
    "id": "TiiBHwltbFtG"
   },
   "source": [
    "<center><a target=\"_blank\" href=\"https://academy.constructor.org/\"><img src=https://lh3.googleusercontent.com/d/1EmH3Jks5CpJy0zK3JbkvJZkeqWtVcxhB width=\"800\" style=\"background:none; border:none; box-shadow:none;\" /></a> </center>\n",
    "<hr />\n",
    "\n",
    "# <h1 align=\"center\"> Day-3-Inductive-Statistics. Part 3 </h1> </center>\n",
    "\n",
    "<p style=\"margin-bottom:1cm;\"></p>\n",
    "\n",
    "_____\n",
    "\n",
    "<center>Constructor Academy, 2024</center>\n"
   ]
  },
  {
   "cell_type": "markdown",
   "id": "gA5PmFwFbFtH",
   "metadata": {
    "id": "gA5PmFwFbFtH",
    "lines_to_next_cell": 0
   },
   "source": [
    "# In-class Tutorial + Exercise (30 mins)\n",
    "\n",
    "## Part 3.  Type I or Type II error. Permutations. Power abalysis.\n",
    "\n",
    "## A brief introduction\n",
    "\n",
    "In this tutorial you will get familiar with elements of **Inductive Statistics**.\n",
    "\n",
    "<span style=\"color: red;\"> **The exercises are annotated as follows:** </span>\n",
    "\n",
    "### Exercise\n",
    "text of the task"
   ]
  },
  {
   "cell_type": "code",
   "execution_count": null,
   "id": "U6OOoLqmbFtI",
   "metadata": {
    "id": "U6OOoLqmbFtI",
    "lines_to_next_cell": 2
   },
   "outputs": [],
   "source": [
    "# your code here"
   ]
  },
  {
   "cell_type": "markdown",
   "id": "Xs793Nq8bFtI",
   "metadata": {
    "id": "Xs793Nq8bFtI"
   },
   "source": [
    "Concepts covered\n",
    "\n",
    "* Type I or Type II error.\n",
    "* Permutations.\n",
    "* Power abalysis."
   ]
  },
  {
   "cell_type": "markdown",
   "id": "zBrL89pybFtI",
   "metadata": {
    "id": "zBrL89pybFtI"
   },
   "source": [
    "### Exercise. T-test and Type I or Type II error\n",
    "\n",
    "You work on treatment for diabetes patients. You want to understand if there is a relationship between weight and diabetes. Unfortunately, due to privacy protection laws, you are not able to get the exact weight of diabetes patients. You know, however, that normal distribution approximates well weight. The weight of healthy people follows ~ N(45,5), and the weight of diabetis patients follows ~ N(50, 5). With this information, you can make the conclusion on the null hypothesis. Now, you want also understand how often there is an error in this reasoning."
   ]
  },
  {
   "cell_type": "markdown",
   "id": "uQTJVKoFbFtJ",
   "metadata": {
    "id": "uQTJVKoFbFtJ"
   },
   "source": [
    "Draw many (1000) sets of samples with 30 observations each, where:\n",
    "\n",
    "Both samples are from the same normal distribution X ~ N(50,5);\n",
    "Each sample is from a different normal distribution, one from X ~ N(50, 5) and one from X ~ N(45, 5).\n",
    "\n",
    "Run a t-test for each set of samples. Using this simulation, how often is there a type I or type II error?\n",
    "**Bonus**: What happens if you change the sample sizes or the difference in means? We’ll talk about this “power” to detect effects later today.\n"
   ]
  },
  {
   "cell_type": "code",
   "execution_count": null,
   "id": "89qsbqr_bFtJ",
   "metadata": {
    "id": "89qsbqr_bFtJ",
    "lines_to_next_cell": 2
   },
   "outputs": [],
   "source": [
    "# your code here\n"
   ]
  },
  {
   "cell_type": "markdown",
   "id": "evOI2AvlbFtJ",
   "metadata": {
    "id": "evOI2AvlbFtJ"
   },
   "source": [
    "### Exercise. Permutation tests.\n",
    "\n",
    "Let’s go back to **plant_growth.csv** dataset. You did a literature review on your plants, and have doubts about your normality assumption.\n",
    "Use a permutation test to decide if the treatment2 had an effect. In other words, is this grouping of observations into treatment and control groups likely to happen randomly?\n",
    "\n",
    "Get all possible rearrangements of these observations into the two groups.\n",
    "For each rearrangement (combination), calculate the difference in group means.\n",
    "See what range 99% of these group means fall into.\n",
    "See if the difference in means we observe in the data falls within this 99% range.\n",
    "Alternatively, to get a p-value, see what the probability of observing a difference of the same or larger magnitude than what we saw in the data"
   ]
  },
  {
   "cell_type": "code",
   "execution_count": null,
   "id": "v1wHoWWYbFtJ",
   "metadata": {
    "id": "v1wHoWWYbFtJ",
    "lines_to_next_cell": 0
   },
   "outputs": [],
   "source": [
    "# your code here"
   ]
  },
  {
   "cell_type": "markdown",
   "id": "ekowCCzQbFtK",
   "metadata": {
    "id": "ekowCCzQbFtK"
   },
   "source": []
  },
  {
   "cell_type": "markdown",
   "id": "dlV--YTIbFtK",
   "metadata": {
    "id": "dlV--YTIbFtK"
   },
   "source": [
    "### Exercise. Power abalysis\n",
    "\n",
    "Due to Covid outbreak, the government wants to introduce the obligation to wear face masks in public spaces. It’s cumbersome and costly, so they want to be sure wearing a mask reduces the disease spread. To verify it, a control study will be conducted. What is the minimum sample size for such study?\n",
    "\n",
    "Consider the following parameters\n",
    "\n",
    "d = .2, α = .01, β = 0.1  \n",
    "d = .2, α = .05, β = 0.1  \n",
    "d = .3, α = .01, β = 0.2  \n",
    "d = .3, α = .05, β = 0.2"
   ]
  },
  {
   "cell_type": "code",
   "execution_count": null,
   "id": "zWuZkms8bFtK",
   "metadata": {
    "id": "zWuZkms8bFtK",
    "lines_to_next_cell": 0
   },
   "outputs": [],
   "source": [
    "# your code here\n"
   ]
  },
  {
   "cell_type": "markdown",
   "id": "eu_L-hFfbFtK",
   "metadata": {
    "id": "eu_L-hFfbFtK"
   },
   "source": [
    "\n",
    "\n",
    "\n",
    "\n",
    "\n",
    "\n",
    "\n"
   ]
  }
 ],
 "metadata": {
  "colab": {
   "provenance": []
  },
  "jupytext": {
   "cell_metadata_filter": "-all",
   "main_language": "R",
   "notebook_metadata_filter": "-all"
  },
  "kernelspec": {
   "display_name": "stats",
   "language": "python",
   "name": "stats"
  },
  "language_info": {
   "codemirror_mode": {
    "name": "ipython",
    "version": 3
   },
   "file_extension": ".py",
   "mimetype": "text/x-python",
   "name": "python",
   "nbconvert_exporter": "python",
   "pygments_lexer": "ipython3",
   "version": "3.9.7"
  }
 },
 "nbformat": 4,
 "nbformat_minor": 5
}
