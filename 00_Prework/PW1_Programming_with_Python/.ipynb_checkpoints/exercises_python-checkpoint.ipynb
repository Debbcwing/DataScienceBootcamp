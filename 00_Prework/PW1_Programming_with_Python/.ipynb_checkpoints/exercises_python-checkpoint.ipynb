{
 "cells": [
  {
   "cell_type": "markdown",
   "metadata": {},
   "source": [
    "<center><img src=https://lh3.googleusercontent.com/d/1EmH3Jks5CpJy0zK3JbkvJZkeqWtVcxhB width=600></center>\n",
    "\n",
    "# Programming in Python\n",
    "\n",
    "This series of exercises will help you gain more confidence with your coding and help solidify the needed basic skills. You can download this notebook (from top-left of this page) and perform your exercises directly here. \n",
    "\n",
    "Recommendations:\n",
    "\n",
    "- Start simple. Solve the problem for the simplest scenario and then slowly progress to the harder ones.\n",
    "- Solve each scenario one at a time.\n",
    "- Don't think of the most complicated solution from the beginning, you can always refactor your code after you've solved the problem.\n",
    "- Go through the [Python fundamentals](../../python/notebooks/python-intro.ipynb) before starting this exercise. \n",
    "\n"
   ]
  },
  {
   "cell_type": "markdown",
   "metadata": {},
   "source": [
    "## 1. String Checker\n",
    "\n",
    "Create a function `is_string()` that returns `true` when the parameter passed is a string and `false` otherwise.\n",
    "\n",
    "```python\n",
    "print(is_string('hello'))                    # True\n",
    "print(is_string(['hello']))                  # False\n",
    "print(is_string('this is a long sentence'))  # True\n",
    "```\n"
   ]
  },
  {
   "cell_type": "code",
   "execution_count": 20,
   "metadata": {},
   "outputs": [],
   "source": [
    "# your code here\n",
    "def is_string(input):\n",
    "    if type(input) == str:\n",
    "        return True\n",
    "    else: return False"
   ]
  },
  {
   "cell_type": "code",
   "execution_count": 22,
   "metadata": {},
   "outputs": [
    {
     "name": "stdout",
     "output_type": "stream",
     "text": [
      "True\n",
      "False\n",
      "True\n"
     ]
    }
   ],
   "source": [
    "print(is_string('hello'))                    # True\n",
    "print(is_string(['hello']))                  # False\n",
    "print(is_string('this is a long sentence'))  # True"
   ]
  },
  {
   "cell_type": "markdown",
   "metadata": {},
   "source": [
    "## 2. Spaces & Digits\n",
    "\n",
    "Based on the `is_string` function, create another function `is_only_string` that checks if the argument contains spaces and digits. If the argument contains spaces and digits return `false`, if not return `true`.\n",
    "\n",
    "```python\n",
    "print(is_only_string('11'))                       # False\n",
    "print(is_only_string('hello'))                    # True\n",
    "print(is_only_string('this is a long sentence'))  # False\n",
    "```\n"
   ]
  },
  {
   "cell_type": "code",
   "execution_count": 35,
   "metadata": {},
   "outputs": [],
   "source": [
    "# your code here\n",
    "def is_only_string(input):\n",
    "    if not type(input) == str:\n",
    "        return False\n",
    "    if any(char.isdigit() or char.isspace() for char in input):\n",
    "        return False\n",
    "    else: return True"
   ]
  },
  {
   "cell_type": "code",
   "execution_count": 36,
   "metadata": {},
   "outputs": [
    {
     "name": "stdout",
     "output_type": "stream",
     "text": [
      "False\n",
      "True\n",
      "False\n"
     ]
    }
   ],
   "source": [
    "print(is_only_string('11'))                       # False\n",
    "print(is_only_string('hello'))                    # True\n",
    "print(is_only_string('this is a long sentence'))  # False"
   ]
  },
  {
   "cell_type": "markdown",
   "metadata": {},
   "source": [
    "## 3. Number yooo?\n",
    "\n",
    "Create a new function `is_alphanumeric` that returns `true` if all characters in the string are alphanumeric and is not an empty string, `false` otherwise.\n",
    "\n",
    "```python\n",
    "print(is_alphanumeric('11'))                       # True\n",
    "print(is_alphanumeric(['hello']))                  # False\n",
    "print(is_alphanumeric('this is a long sentence'))  # False\n",
    "print(is_alphanumeric(\"this is string....!!!\"))    # False\n",
    "```\n"
   ]
  },
  {
   "cell_type": "code",
   "execution_count": 38,
   "metadata": {},
   "outputs": [],
   "source": [
    "# your code here\n",
    "def is_alphanumeric(input):\n",
    "    if any(char.isdigit() for char in input):\n",
    "        return True\n",
    "    else: return False"
   ]
  },
  {
   "cell_type": "code",
   "execution_count": 65,
   "metadata": {},
   "outputs": [
    {
     "name": "stdout",
     "output_type": "stream",
     "text": [
      "True\n",
      "False\n",
      "False\n",
      "False\n",
      "False\n"
     ]
    }
   ],
   "source": [
    "print(is_alphanumeric('11'))                       # True\n",
    "print(is_alphanumeric(['hello']))                  # False\n",
    "print(is_alphanumeric('this is a long sentence'))  # False\n",
    "print(is_alphanumeric(\"this is string....!!!\"))    # False"
   ]
  },
  {
   "cell_type": "markdown",
   "metadata": {},
   "source": [
    "## 4. Same Type\n",
    "\n",
    "Create a function that checks whether all the element of a list are the same data type. If they are the same return `true` otherwise return `false`.\n",
    "\n",
    "```python\n",
    "print(are_same_type(['hello', 'world', 'long sentence']))  # True\n",
    "print(are_same_type([1, 2, 9, 10]))                        # True\n",
    "print(are_same_type([1, 2, 9, 'hello']))                   # False\n",
    "```\n",
    "\n"
   ]
  },
  {
   "cell_type": "code",
   "execution_count": 67,
   "metadata": {},
   "outputs": [],
   "source": [
    "# your code here\n",
    "def are_same_type(array):\n",
    "    if not array:      # for empty array\n",
    "        return False\n",
    "    for i in array:\n",
    "        if type(i) != type(array[0]):\n",
    "            return False\n",
    "    else: return True"
   ]
  },
  {
   "cell_type": "code",
   "execution_count": 68,
   "metadata": {},
   "outputs": [
    {
     "name": "stdout",
     "output_type": "stream",
     "text": [
      "True\n",
      "True\n",
      "False\n"
     ]
    }
   ],
   "source": [
    "print(are_same_type(['hello', 'world', 'long sentence']))  # True\n",
    "print(are_same_type([1, 2, 9, 10]))                        # True\n",
    "print(are_same_type([1, 2, 9, 'hello']))                   # False"
   ]
  },
  {
   "cell_type": "markdown",
   "metadata": {},
   "source": [
    "## 5. Sort and Remove Duplicates\n",
    "\n",
    "You are given 2 strings, a and b, that only includes letters from a to z. Create a function which returns a new string that only contains each letter from a and/or b once. Your output must be sorted.\n",
    "\n",
    "```python\n",
    "a = 'xyaabbbccccdefww'\n",
    "b = 'xxxxyyyyabklmopq'\n",
    "x = 'abcdefghijklmnopqrstuvwxyz'\n",
    "print(intersection(a, b))  # abcdefklmopqwxy\n",
    "print(intersection(a, x))  # abcdefghijklmnopqrstuvwxyz\n",
    "```\n"
   ]
  },
  {
   "cell_type": "code",
   "execution_count": 81,
   "metadata": {},
   "outputs": [],
   "source": [
    "# your code here\n",
    "def intersection(s1, s2):\n",
    "    return ''.join(sorted(list(dict.fromkeys(s1+s2))))"
   ]
  },
  {
   "cell_type": "code",
   "execution_count": 82,
   "metadata": {},
   "outputs": [],
   "source": [
    "a = 'xyaabbbccccdefww'\n",
    "b = 'xxxxyyyyabklmopq'\n",
    "x = 'abcdefghijklmnopqrstuvwxyz'"
   ]
  },
  {
   "cell_type": "code",
   "execution_count": 83,
   "metadata": {},
   "outputs": [
    {
     "name": "stdout",
     "output_type": "stream",
     "text": [
      "abcdefklmopqwxy\n",
      "abcdefghijklmnopqrstuvwxyz\n"
     ]
    }
   ],
   "source": [
    "print(intersection(a, b))  # abcdefklmopqwxy\n",
    "print(intersection(a, x))  # abcdefghijklmnopqrstuvwxyz"
   ]
  },
  {
   "cell_type": "markdown",
   "metadata": {},
   "source": [
    "## 6. Digits Converter\n",
    "\n",
    "Create a function that takes a random number and converts it to a reverse-sorted list of digits.\n",
    "\n",
    "```python\n",
    "print(convert(429563))  # [9, 6, 5, 4, 3, 2]\n",
    "print(convert(324))     # [4, 3, 2]\n",
    "```\n"
   ]
  },
  {
   "cell_type": "code",
   "execution_count": 122,
   "metadata": {},
   "outputs": [],
   "source": [
    "# your code here\n",
    "def convert(randnum):\n",
    "    l = [int(x) for x in dict.fromkeys(str(randnum))]\n",
    "    return sorted(l, reverse=True)"
   ]
  },
  {
   "cell_type": "code",
   "execution_count": 123,
   "metadata": {},
   "outputs": [
    {
     "name": "stdout",
     "output_type": "stream",
     "text": [
      "[9, 6, 5, 4, 3, 2]\n",
      "[4, 3, 2]\n"
     ]
    }
   ],
   "source": [
    "print(convert(429563))  # [9, 6, 5, 4, 3, 2]\n",
    "print(convert(324))     # [4, 3, 2]"
   ]
  },
  {
   "cell_type": "markdown",
   "metadata": {},
   "source": [
    "## 7. Count Repetitions!\n",
    "\n",
    "You are given a list of strings. Create a function that counts the number of times each string occurs and keeps track of it in a dict. DO NOT USE `COUNTER` from `Collections` module (that would be cheating 😁)\n",
    "\n",
    "```python\n",
    "names = ['kerouac', 'fante', 'fante', 'buk', 'hemingway', 'hornby', 'kerouac', 'buk', 'fante']\n",
    "print(count_repetition(names))\n",
    "\n",
    "# 'kerouac'= 2\n",
    "# 'fante'= 3\n",
    "# 'buk'= 2\n",
    "# 'hemingway'= 1\n",
    "# 'hornby'= 1}\n",
    "\n",
    "```"
   ]
  },
  {
   "cell_type": "code",
   "execution_count": 125,
   "metadata": {},
   "outputs": [],
   "source": []
  },
  {
   "cell_type": "code",
   "execution_count": 1,
   "metadata": {},
   "outputs": [],
   "source": [
    "# your code here\n",
    "def count_repetition(input):\n",
    "    count = {}\n",
    "    for i in input:\n",
    "        if i in count:\n",
    "            count[i] += 1\n",
    "        else:\n",
    "            count[i] = 1\n",
    "    return count"
   ]
  },
  {
   "cell_type": "code",
   "execution_count": 3,
   "metadata": {},
   "outputs": [
    {
     "data": {
      "text/plain": [
       "{'kerouac': 2, 'fante': 3, 'buk': 2, 'hemingway': 1, 'hornby': 1}"
      ]
     },
     "execution_count": 3,
     "metadata": {},
     "output_type": "execute_result"
    }
   ],
   "source": [
    "names = ['kerouac', 'fante', 'fante', 'buk', 'hemingway', 'hornby', 'kerouac', 'buk', 'fante']\n",
    "count_repetition(names)"
   ]
  },
  {
   "cell_type": "markdown",
   "metadata": {},
   "source": [
    "## 8. Letter Counter\n",
    "\n",
    "Write a function that accepts a sentence and calculates the number of upper case letters and lower case letters. Use the input function providing the sentence from the console.\n",
    "\n",
    "```python\n",
    "letter_counter()\n",
    "\n",
    "# Hello World!\n",
    "# UPPER CASE 2\n",
    "# LOWER CASE 8\n",
    "```\n"
   ]
  },
  {
   "cell_type": "code",
   "execution_count": 26,
   "metadata": {},
   "outputs": [],
   "source": [
    "string = 'Hello World!'"
   ]
  },
  {
   "cell_type": "code",
   "execution_count": 30,
   "metadata": {},
   "outputs": [
    {
     "name": "stdout",
     "output_type": "stream",
     "text": [
      "Hello World! UPPER CASE 2 LOWER CASE 8\n"
     ]
    }
   ],
   "source": [
    "# your code here\n",
    "def letter_counter(s):\n",
    "    return print(s, 'UPPER CASE', sum(i.isupper() for i in s), 'LOWER CASE', sum(i.islower() for i in s))\n",
    "\n",
    "letter_counter(string)"
   ]
  },
  {
   "cell_type": "markdown",
   "metadata": {},
   "source": [
    "## 9. Permutations\n",
    "\n",
    "Create a function which returns all possible permutations from a given collection of distinct numbers\n",
    "\n",
    "**Note**: \n",
    "\n",
    " - The concept of permutations will appear in the course. Since it is a complex task, it is totally valid to  get the inspiration from StackOverflow.   \n",
    " - It is not necessary to make the most efficient algorithm but try to understand the code and repeat the approach yourself. \n",
    " - Add the source and/or comment to your code for better understandability.\n",
    "\n",
    "\n",
    "```python\n",
    "print(permute([1, 2, 3])) # [[3, 2, 1], [2, 3, 1], [2, 1, 3], [3, 1, 2], [1, 3, 2], [1, 2, 3]]\n",
    "```"
   ]
  },
  {
   "cell_type": "code",
   "execution_count": 31,
   "metadata": {},
   "outputs": [
    {
     "name": "stdout",
     "output_type": "stream",
     "text": [
      "(1, 2, 3)\n",
      "(1, 3, 2)\n",
      "(2, 1, 3)\n",
      "(2, 3, 1)\n",
      "(3, 1, 2)\n",
      "(3, 2, 1)\n"
     ]
    }
   ],
   "source": [
    "# source: https://www.geeksforgeeks.org/python/permutation-and-combination-in-python/ (Last updated 23.07.2025)\n",
    "\n",
    "from itertools import permutations\n",
    "\n",
    "perm = permutations([1, 2, 3])\n",
    "\n",
    "for i in perm:\n",
    "    print(i)"
   ]
  },
  {
   "cell_type": "code",
   "execution_count": 53,
   "metadata": {},
   "outputs": [],
   "source": [
    "# your code here\n",
    "def permute(arr):\n",
    "    out = []\n",
    "    for i in permutations(arr):\n",
    "        out.append(i)\n",
    "    return out"
   ]
  },
  {
   "cell_type": "code",
   "execution_count": 54,
   "metadata": {},
   "outputs": [
    {
     "name": "stdout",
     "output_type": "stream",
     "text": [
      "[(1, 2, 3), (1, 3, 2), (2, 1, 3), (2, 3, 1), (3, 1, 2), (3, 2, 1)]\n"
     ]
    }
   ],
   "source": [
    "print(permute([1, 2, 3]))"
   ]
  }
 ],
 "metadata": {
  "kernelspec": {
   "display_name": "Python 3 (ipykernel)",
   "language": "python",
   "name": "python3"
  },
  "language_info": {
   "codemirror_mode": {
    "name": "ipython",
    "version": 3
   },
   "file_extension": ".py",
   "mimetype": "text/x-python",
   "name": "python",
   "nbconvert_exporter": "python",
   "pygments_lexer": "ipython3",
   "version": "3.10.18"
  }
 },
 "nbformat": 4,
 "nbformat_minor": 4
}
