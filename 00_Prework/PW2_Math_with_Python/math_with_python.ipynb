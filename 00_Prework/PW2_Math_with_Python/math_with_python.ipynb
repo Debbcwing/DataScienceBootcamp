{
 "cells": [
  {
   "cell_type": "markdown",
   "metadata": {},
   "source": [
    "<center><img src=https://lh3.googleusercontent.com/d/1EmH3Jks5CpJy0zK3JbkvJZkeqWtVcxhB width=600></center>\n",
    "\n",
    "# Math with Python\n",
    "\n",
    "Let's use Python to solve some math questions."
   ]
  },
  {
   "cell_type": "markdown",
   "metadata": {},
   "source": [
    "## Exercise 1\n",
    "\n",
    "Create a null vector of size 10. (Hint: use numpy)"
   ]
  },
  {
   "cell_type": "code",
   "execution_count": 2,
   "metadata": {},
   "outputs": [],
   "source": [
    "import numpy as np"
   ]
  },
  {
   "cell_type": "code",
   "execution_count": 5,
   "metadata": {},
   "outputs": [
    {
     "data": {
      "text/plain": [
       "array([0., 0., 0., 0., 0., 0., 0., 0., 0., 0.])"
      ]
     },
     "execution_count": 5,
     "metadata": {},
     "output_type": "execute_result"
    }
   ],
   "source": [
    "# your code here\n",
    "np.zeros(10)"
   ]
  },
  {
   "cell_type": "markdown",
   "metadata": {},
   "source": [
    "## Exercise 2\n",
    "\n",
    "Create a null vector of size 10 and set the fifth value to be 1."
   ]
  },
  {
   "cell_type": "code",
   "execution_count": 9,
   "metadata": {},
   "outputs": [
    {
     "data": {
      "text/plain": [
       "array([0., 0., 0., 0., 1., 0., 0., 0., 0., 0.])"
      ]
     },
     "execution_count": 9,
     "metadata": {},
     "output_type": "execute_result"
    }
   ],
   "source": [
    "# your code here\n",
    "a = np.zeros(10)\n",
    "a[4]=1\n",
    "a"
   ]
  },
  {
   "cell_type": "markdown",
   "metadata": {},
   "source": [
    "## Exercise 3\n",
    "\n",
    "Create a 8x8 matrix and fill it with a checkerboard pattern (1 and 0 in alternating order)."
   ]
  },
  {
   "cell_type": "code",
   "execution_count": 23,
   "metadata": {},
   "outputs": [
    {
     "data": {
      "text/plain": [
       "array([[0., 1., 0., 1., 0., 1., 0., 1.],\n",
       "       [1., 0., 1., 0., 1., 0., 1., 0.],\n",
       "       [0., 1., 0., 1., 0., 1., 0., 1.],\n",
       "       [1., 0., 1., 0., 1., 0., 1., 0.],\n",
       "       [0., 1., 0., 1., 0., 1., 0., 1.],\n",
       "       [1., 0., 1., 0., 1., 0., 1., 0.],\n",
       "       [0., 1., 0., 1., 0., 1., 0., 1.],\n",
       "       [1., 0., 1., 0., 1., 0., 1., 0.]])"
      ]
     },
     "execution_count": 23,
     "metadata": {},
     "output_type": "execute_result"
    }
   ],
   "source": [
    "# your code here\n",
    "m = np.zeros((8, 8))\n",
    "m[::2, 1::2] = 1\n",
    "m[1::2, ::2] = 1\n",
    "m"
   ]
  },
  {
   "cell_type": "markdown",
   "metadata": {},
   "source": [
    "## Exercise 4\n",
    "\n",
    "Create a $5x5$ random matrix and normalize each column."
   ]
  },
  {
   "cell_type": "code",
   "execution_count": 35,
   "metadata": {},
   "outputs": [
    {
     "data": {
      "text/plain": [
       "array([[0.59834375, 0.27607113, 0.25407801, 0.4149578 , 0.24370238],\n",
       "       [0.69224223, 0.        , 0.33436453, 0.42266509, 0.65072066],\n",
       "       [0.73497121, 0.71230486, 1.        , 0.23997503, 0.90185018],\n",
       "       [0.4508809 , 0.62598398, 0.43891446, 0.46801923, 0.38532338],\n",
       "       [0.58787702, 0.98779598, 0.56771828, 0.175712  , 0.40140636]])"
      ]
     },
     "execution_count": 35,
     "metadata": {},
     "output_type": "execute_result"
    }
   ],
   "source": [
    "# your code here\n",
    "rm = np.random.randn(5, 5)\n",
    "rm = (rm - rm.min()) / (rm.max() - rm.min())\n",
    "rm"
   ]
  },
  {
   "cell_type": "markdown",
   "metadata": {},
   "source": [
    "## Exercise 5\n",
    "\n",
    "Multiply a $5x3$ matrix by a $3x2$ matrix (dot product)."
   ]
  },
  {
   "cell_type": "code",
   "execution_count": 54,
   "metadata": {},
   "outputs": [],
   "source": [
    "# your code here\n",
    "a = np.arange(5*3).reshape(5, 3)\n",
    "b = np.arange(3*2)[::-1].reshape(3, 2)"
   ]
  },
  {
   "cell_type": "code",
   "execution_count": 55,
   "metadata": {},
   "outputs": [
    {
     "data": {
      "text/plain": [
       "array([[  5,   2],\n",
       "       [ 32,  20],\n",
       "       [ 59,  38],\n",
       "       [ 86,  56],\n",
       "       [113,  74]])"
      ]
     },
     "execution_count": 55,
     "metadata": {},
     "output_type": "execute_result"
    }
   ],
   "source": [
    "np.dot(a, b)"
   ]
  },
  {
   "cell_type": "code",
   "execution_count": 56,
   "metadata": {},
   "outputs": [
    {
     "data": {
      "text/plain": [
       "array([[  5,   2],\n",
       "       [ 32,  20],\n",
       "       [ 59,  38],\n",
       "       [ 86,  56],\n",
       "       [113,  74]])"
      ]
     },
     "execution_count": 56,
     "metadata": {},
     "output_type": "execute_result"
    }
   ],
   "source": [
    "a @ b"
   ]
  },
  {
   "cell_type": "code",
   "execution_count": 59,
   "metadata": {},
   "outputs": [
    {
     "data": {
      "text/plain": [
       "array([[  5,   2],\n",
       "       [ 32,  20],\n",
       "       [ 59,  38],\n",
       "       [ 86,  56],\n",
       "       [113,  74]])"
      ]
     },
     "execution_count": 59,
     "metadata": {},
     "output_type": "execute_result"
    }
   ],
   "source": [
    "np.matmul(a, b)"
   ]
  },
  {
   "cell_type": "markdown",
   "metadata": {},
   "source": [
    "## Exercise 6\n",
    "\n",
    "Find out if the vector represented by $(−16, 3, 5)$  is orthogonal to $a = (1, −3, 5)$ and $b = (2, −1, 7)$.\n",
    "\n",
    "\n"
   ]
  },
  {
   "cell_type": "code",
   "execution_count": 68,
   "metadata": {},
   "outputs": [
    {
     "data": {
      "text/plain": [
       "(np.int64(0), np.int64(0), np.int64(40))"
      ]
     },
     "execution_count": 68,
     "metadata": {},
     "output_type": "execute_result"
    }
   ],
   "source": [
    "# your code here\n",
    "v = (-16, 3, 5)\n",
    "a = (1, -3, 5)\n",
    "b = (2, -1, 7)\n",
    "\n",
    "np.dot(v, a), np.dot(v, b), np.dot(a, b)\n",
    "# the vector is orthogonal to a and b."
   ]
  },
  {
   "cell_type": "code",
   "execution_count": 74,
   "metadata": {},
   "outputs": [
    {
     "name": "stdout",
     "output_type": "stream",
     "text": [
      "[[30 85 45]] [[ 26 122  10]] [[-16   3   5]]\n"
     ]
    }
   ],
   "source": [
    "# v = np.array([[-16, 3, 5]])\n",
    "# a = np.array([[1, -3, 5]])\n",
    "# b = np.array([[2, -1, 7]])\n",
    "# print(np.cross(v, a), np.cross(v, b), np.cross(a, b))"
   ]
  },
  {
   "cell_type": "markdown",
   "metadata": {},
   "source": [
    "## Exercise 7\n",
    "\n",
    "Create the matrix $$\\begin{bmatrix} 1 & 5 & 2 \\\\ 2 & 3 & -1 \\\\ 0 & 1 & -5 \\end{bmatrix}$$\n",
    "\n",
    "and compute its determinant and inverse. (use numpy function)"
   ]
  },
  {
   "cell_type": "code",
   "execution_count": 6,
   "metadata": {},
   "outputs": [
    {
     "data": {
      "text/plain": [
       "(np.float64(40.000000000000014),\n",
       " array([[-0.35 ,  0.675, -0.275],\n",
       "        [ 0.25 , -0.125,  0.125],\n",
       "        [ 0.05 , -0.025, -0.175]]))"
      ]
     },
     "execution_count": 6,
     "metadata": {},
     "output_type": "execute_result"
    }
   ],
   "source": [
    "# your code here\n",
    "m = np.array([[1, 5, 2], [2, 3, -1], [0, 1, -5]])\n",
    "np.linalg.det(m), np.linalg.inv(m)"
   ]
  },
  {
   "cell_type": "markdown",
   "metadata": {},
   "source": [
    "## Exercise 8\n",
    "\n",
    "Given the two equations below, solve for $x_{1}$ and $x_{2}$ \n",
    "\n",
    "$x_{1} + 3x_{2} = 2$\n",
    "\n",
    "$x_{1} + 2x_{2} = 0$\n",
    "\n",
    "(Hint: Remember $AX = B$, use the linalg function from numpy)\n",
    "\n",
    "\n"
   ]
  },
  {
   "cell_type": "code",
   "execution_count": 10,
   "metadata": {},
   "outputs": [
    {
     "data": {
      "text/plain": [
       "array([-4.,  2.])"
      ]
     },
     "execution_count": 10,
     "metadata": {},
     "output_type": "execute_result"
    }
   ],
   "source": [
    "# your code here\n",
    "A = np.array([[1, 3], \n",
    "              [1, 2]])\n",
    "B = np.array([2, 0])\n",
    "\n",
    "X = np.linalg.solve(A, B)\n",
    "X"
   ]
  },
  {
   "cell_type": "markdown",
   "metadata": {},
   "source": [
    "## Exercise 9\n",
    "\n",
    "Find the critical points of the function $f(x)= x^3−2x^2+x$ and use the second derivative test to find the maximum on interval $x⊂[0,1]$. \n",
    "\n",
    "**Hint 1**: remember the concepts of first differentiation and second differentiation;\n",
    "\n",
    "**Hint 2**: `sympy` python library with use of `solve`, `diff`."
   ]
  },
  {
   "cell_type": "code",
   "execution_count": null,
   "metadata": {},
   "outputs": [],
   "source": [
    "# your code here"
   ]
  },
  {
   "cell_type": "markdown",
   "metadata": {},
   "source": [
    "## Exercise 10\n",
    "\n",
    "Maximise $f(x, y, z) = xy + yz$, subject to the constraints $x + 2y = 6$ and $x − 3z = 0$. \n",
    "\n",
    "**Hint 1**: set up the Lagrange equation, $f (x, y, z) − λ(constraint1) − μ(constraint2)$; \n",
    "\n",
    "**Hint 2**: Set partial derivatives to zero and solve the following set of equations; \n",
    "\n",
    "**Hint 3**: Use `solve`. "
   ]
  },
  {
   "cell_type": "code",
   "execution_count": null,
   "metadata": {},
   "outputs": [],
   "source": [
    "# your code here"
   ]
  }
 ],
 "metadata": {
  "kernelspec": {
   "display_name": "Python 3 (ipykernel)",
   "language": "python",
   "name": "python3"
  },
  "language_info": {
   "codemirror_mode": {
    "name": "ipython",
    "version": 3
   },
   "file_extension": ".py",
   "mimetype": "text/x-python",
   "name": "python",
   "nbconvert_exporter": "python",
   "pygments_lexer": "ipython3",
   "version": "3.10.18"
  },
  "pycharm": {
   "stem_cell": {
    "cell_type": "raw",
    "metadata": {
     "collapsed": false
    },
    "source": []
   }
  }
 },
 "nbformat": 4,
 "nbformat_minor": 4
}
