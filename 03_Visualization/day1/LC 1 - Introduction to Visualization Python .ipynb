{
 "cells": [
  {
   "cell_type": "markdown",
   "metadata": {
    "id": "EZD2S3619sja"
   },
   "source": [
    "<center><a target=\"_blank\" href=\"https://academy.constructor.org/\"><img src=https://lh3.googleusercontent.com/d/1EmH3Jks5CpJy0zK3JbkvJZkeqWtVcxhB width=\"800\" style=\"background:none; border:none; box-shadow:none;\" /></a> </center>\n",
    "\n",
    "_____\n",
    "\n",
    "# <h1 align=\"center\"> Pandas Data Types and Plotting </h1>\n",
    "\n",
    "<p style=\"margin-bottom:1cm;\"></p>\n",
    "\n",
    "_____\n",
    "\n",
    "<center>Constructor Academy, 2024</center>\n"
   ]
  },
  {
   "cell_type": "code",
   "execution_count": 1,
   "metadata": {
    "id": "WQ_fXuW79sjb",
    "tags": []
   },
   "outputs": [],
   "source": [
    "import pandas as pd\n",
    "import numpy as np\n",
    "\n",
    "import matplotlib\n",
    "%matplotlib inline\n",
    "import matplotlib.pyplot as plt"
   ]
  },
  {
   "cell_type": "markdown",
   "metadata": {
    "id": "yuMdo3F39sjc"
   },
   "source": [
    "Let us read in some data and plot it. The data are yields on Swiss bonds over various durations (1-10 year, and 20 and 30 year)."
   ]
  },
  {
   "cell_type": "code",
   "execution_count": 2,
   "metadata": {
    "colab": {
     "base_uri": "https://localhost:8080/",
     "height": 206
    },
    "executionInfo": {
     "elapsed": 698,
     "status": "ok",
     "timestamp": 1708524458980,
     "user": {
      "displayName": "Adriano Persegani",
      "userId": "17739764701888244413"
     },
     "user_tz": -60
    },
    "id": "c0jTJoHC9sjc",
    "outputId": "785ff0d4-bf41-46ac-a627-d565b259e6fe",
    "tags": []
   },
   "outputs": [
    {
     "data": {
      "text/html": [
       "<div>\n",
       "<style scoped>\n",
       "    .dataframe tbody tr th:only-of-type {\n",
       "        vertical-align: middle;\n",
       "    }\n",
       "\n",
       "    .dataframe tbody tr th {\n",
       "        vertical-align: top;\n",
       "    }\n",
       "\n",
       "    .dataframe thead th {\n",
       "        text-align: right;\n",
       "    }\n",
       "</style>\n",
       "<table border=\"1\" class=\"dataframe\">\n",
       "  <thead>\n",
       "    <tr style=\"text-align: right;\">\n",
       "      <th></th>\n",
       "      <th>Date</th>\n",
       "      <th>D0</th>\n",
       "      <th>Value</th>\n",
       "    </tr>\n",
       "  </thead>\n",
       "  <tbody>\n",
       "    <tr>\n",
       "      <th>0</th>\n",
       "      <td>1988-01</td>\n",
       "      <td>1J</td>\n",
       "      <td>2.887</td>\n",
       "    </tr>\n",
       "    <tr>\n",
       "      <th>1</th>\n",
       "      <td>1988-01</td>\n",
       "      <td>2J</td>\n",
       "      <td>3.218</td>\n",
       "    </tr>\n",
       "    <tr>\n",
       "      <th>2</th>\n",
       "      <td>1988-01</td>\n",
       "      <td>3J</td>\n",
       "      <td>3.393</td>\n",
       "    </tr>\n",
       "    <tr>\n",
       "      <th>3</th>\n",
       "      <td>1988-01</td>\n",
       "      <td>4J</td>\n",
       "      <td>3.554</td>\n",
       "    </tr>\n",
       "    <tr>\n",
       "      <th>4</th>\n",
       "      <td>1988-01</td>\n",
       "      <td>5J</td>\n",
       "      <td>3.695</td>\n",
       "    </tr>\n",
       "  </tbody>\n",
       "</table>\n",
       "</div>"
      ],
      "text/plain": [
       "      Date  D0  Value\n",
       "0  1988-01  1J  2.887\n",
       "1  1988-01  2J  3.218\n",
       "2  1988-01  3J  3.393\n",
       "3  1988-01  4J  3.554\n",
       "4  1988-01  5J  3.695"
      ]
     },
     "execution_count": 2,
     "metadata": {},
     "output_type": "execute_result"
    }
   ],
   "source": [
    "# orig_url='https://drive.google.com/file/d/1gd_IKzjQQ1ZFmiLeCCVX176vv_rRJaRP/view?usp=sharing'\n",
    "# file_id = orig_url.split('/')[-2]\n",
    "# dwn_url='https://drive.google.com/uc?export=download&id=' + file_id\n",
    "\n",
    "df_raw = pd.read_csv(\"../data/snb-data-rendoblim-en-all-20170502_1430.csv\")\n",
    "df_raw.head()"
   ]
  },
  {
   "cell_type": "markdown",
   "metadata": {
    "id": "o3dvm1sw9sjc"
   },
   "source": [
    "This is a long-form or [tidy](https://cran.r-project.org/web/packages/tidyr/vignettes/tidy-data.html) data frame. Each row is an \"observation\" and represents the yield, `Value`, on some `Date` of a bond of duration `D0`.\n",
    "\n"
   ]
  },
  {
   "cell_type": "code",
   "execution_count": 3,
   "metadata": {
    "colab": {
     "base_uri": "https://localhost:8080/"
    },
    "executionInfo": {
     "elapsed": 367,
     "status": "ok",
     "timestamp": 1708524465942,
     "user": {
      "displayName": "Adriano Persegani",
      "userId": "17739764701888244413"
     },
     "user_tz": -60
    },
    "id": "KmPS9YsR9sjc",
    "outputId": "e8977bd8-7614-4a60-e0ec-1ca91e95542e",
    "tags": []
   },
   "outputs": [
    {
     "data": {
      "text/plain": [
       "(4224,\n",
       " 352,\n",
       " 12,\n",
       " array(['1J', '2J', '3J', '4J', '5J', '6J', '7J', '8J', '9J', '10J', '20J',\n",
       "        '30J'], dtype=object))"
      ]
     },
     "execution_count": 3,
     "metadata": {},
     "output_type": "execute_result"
    }
   ],
   "source": [
    "len(df_raw), len(pd.unique(df_raw['Date'])), len(pd.unique(df_raw['D0'])), pd.unique(df_raw['D0'])"
   ]
  },
  {
   "cell_type": "markdown",
   "metadata": {
    "id": "amcY_zpC9sjc"
   },
   "source": [
    "This isn't the only way to present this data; sometimes, a wide-form data frame is more convenient to work with and certainly a more compact display of the data."
   ]
  },
  {
   "cell_type": "code",
   "execution_count": 5,
   "metadata": {
    "colab": {
     "base_uri": "https://localhost:8080/",
     "height": 237
    },
    "executionInfo": {
     "elapsed": 4,
     "status": "ok",
     "timestamp": 1708524467672,
     "user": {
      "displayName": "Adriano Persegani",
      "userId": "17739764701888244413"
     },
     "user_tz": -60
    },
    "id": "6wdACCpR9sjc",
    "outputId": "58f8aa98-5243-4284-c44c-b1a8b2d4047c",
    "tags": []
   },
   "outputs": [
    {
     "name": "stdout",
     "output_type": "stream",
     "text": [
      "352\n"
     ]
    },
    {
     "data": {
      "text/html": [
       "<div>\n",
       "<style scoped>\n",
       "    .dataframe tbody tr th:only-of-type {\n",
       "        vertical-align: middle;\n",
       "    }\n",
       "\n",
       "    .dataframe tbody tr th {\n",
       "        vertical-align: top;\n",
       "    }\n",
       "\n",
       "    .dataframe thead th {\n",
       "        text-align: right;\n",
       "    }\n",
       "</style>\n",
       "<table border=\"1\" class=\"dataframe\">\n",
       "  <thead>\n",
       "    <tr style=\"text-align: right;\">\n",
       "      <th>D0</th>\n",
       "      <th>10J</th>\n",
       "      <th>1J</th>\n",
       "      <th>20J</th>\n",
       "      <th>2J</th>\n",
       "      <th>30J</th>\n",
       "      <th>3J</th>\n",
       "      <th>4J</th>\n",
       "      <th>5J</th>\n",
       "      <th>6J</th>\n",
       "      <th>7J</th>\n",
       "      <th>8J</th>\n",
       "      <th>9J</th>\n",
       "    </tr>\n",
       "    <tr>\n",
       "      <th>Date</th>\n",
       "      <th></th>\n",
       "      <th></th>\n",
       "      <th></th>\n",
       "      <th></th>\n",
       "      <th></th>\n",
       "      <th></th>\n",
       "      <th></th>\n",
       "      <th></th>\n",
       "      <th></th>\n",
       "      <th></th>\n",
       "      <th></th>\n",
       "      <th></th>\n",
       "    </tr>\n",
       "  </thead>\n",
       "  <tbody>\n",
       "    <tr>\n",
       "      <th>1988-01</th>\n",
       "      <td>4.092</td>\n",
       "      <td>2.887</td>\n",
       "      <td>4.326</td>\n",
       "      <td>3.218</td>\n",
       "      <td>NaN</td>\n",
       "      <td>3.393</td>\n",
       "      <td>3.554</td>\n",
       "      <td>3.695</td>\n",
       "      <td>3.810</td>\n",
       "      <td>3.904</td>\n",
       "      <td>3.980</td>\n",
       "      <td>4.041</td>\n",
       "    </tr>\n",
       "    <tr>\n",
       "      <th>1988-02</th>\n",
       "      <td>4.098</td>\n",
       "      <td>2.638</td>\n",
       "      <td>4.332</td>\n",
       "      <td>2.990</td>\n",
       "      <td>NaN</td>\n",
       "      <td>3.271</td>\n",
       "      <td>3.498</td>\n",
       "      <td>3.672</td>\n",
       "      <td>3.804</td>\n",
       "      <td>3.905</td>\n",
       "      <td>3.984</td>\n",
       "      <td>4.047</td>\n",
       "    </tr>\n",
       "    <tr>\n",
       "      <th>1988-03</th>\n",
       "      <td>3.998</td>\n",
       "      <td>2.641</td>\n",
       "      <td>4.255</td>\n",
       "      <td>3.263</td>\n",
       "      <td>NaN</td>\n",
       "      <td>3.573</td>\n",
       "      <td>3.734</td>\n",
       "      <td>3.823</td>\n",
       "      <td>3.878</td>\n",
       "      <td>3.916</td>\n",
       "      <td>3.946</td>\n",
       "      <td>3.972</td>\n",
       "    </tr>\n",
       "    <tr>\n",
       "      <th>1988-04</th>\n",
       "      <td>3.965</td>\n",
       "      <td>2.800</td>\n",
       "      <td>4.200</td>\n",
       "      <td>3.250</td>\n",
       "      <td>NaN</td>\n",
       "      <td>3.467</td>\n",
       "      <td>3.594</td>\n",
       "      <td>3.684</td>\n",
       "      <td>3.757</td>\n",
       "      <td>3.819</td>\n",
       "      <td>3.874</td>\n",
       "      <td>3.923</td>\n",
       "    </tr>\n",
       "    <tr>\n",
       "      <th>1988-05</th>\n",
       "      <td>4.127</td>\n",
       "      <td>3.191</td>\n",
       "      <td>4.247</td>\n",
       "      <td>3.602</td>\n",
       "      <td>NaN</td>\n",
       "      <td>3.802</td>\n",
       "      <td>3.909</td>\n",
       "      <td>3.974</td>\n",
       "      <td>4.019</td>\n",
       "      <td>4.054</td>\n",
       "      <td>4.082</td>\n",
       "      <td>4.106</td>\n",
       "    </tr>\n",
       "  </tbody>\n",
       "</table>\n",
       "</div>"
      ],
      "text/plain": [
       "D0         10J     1J    20J     2J  30J     3J     4J     5J     6J     7J  \\\n",
       "Date                                                                          \n",
       "1988-01  4.092  2.887  4.326  3.218  NaN  3.393  3.554  3.695  3.810  3.904   \n",
       "1988-02  4.098  2.638  4.332  2.990  NaN  3.271  3.498  3.672  3.804  3.905   \n",
       "1988-03  3.998  2.641  4.255  3.263  NaN  3.573  3.734  3.823  3.878  3.916   \n",
       "1988-04  3.965  2.800  4.200  3.250  NaN  3.467  3.594  3.684  3.757  3.819   \n",
       "1988-05  4.127  3.191  4.247  3.602  NaN  3.802  3.909  3.974  4.019  4.054   \n",
       "\n",
       "D0          8J     9J  \n",
       "Date                   \n",
       "1988-01  3.980  4.041  \n",
       "1988-02  3.984  4.047  \n",
       "1988-03  3.946  3.972  \n",
       "1988-04  3.874  3.923  \n",
       "1988-05  4.082  4.106  "
      ]
     },
     "execution_count": 5,
     "metadata": {},
     "output_type": "execute_result"
    }
   ],
   "source": [
    "print(len(df_raw.pivot(index='Date', columns='D0', values='Value')))\n",
    "df_raw.pivot(index='Date', columns='D0', values='Value').head()"
   ]
  },
  {
   "cell_type": "markdown",
   "metadata": {
    "id": "-gC0z5xT9sjc"
   },
   "source": [
    "But we will come back to that later. Let us first plot yields on 1-year bonds.\n"
   ]
  },
  {
   "cell_type": "code",
   "execution_count": 6,
   "metadata": {
    "colab": {
     "base_uri": "https://localhost:8080/",
     "height": 449
    },
    "executionInfo": {
     "elapsed": 904,
     "status": "ok",
     "timestamp": 1708524470332,
     "user": {
      "displayName": "Adriano Persegani",
      "userId": "17739764701888244413"
     },
     "user_tz": -60
    },
    "id": "g9gxXHXh9sjd",
    "outputId": "6641c541-1efc-4417-f9d7-633e00fccf85",
    "tags": []
   },
   "outputs": [
    {
     "data": {
      "image/png": "[encoded data removed]",
      "text/plain": [
       "<Figure size 640x480 with 1 Axes>"
      ]
     },
     "metadata": {},
     "output_type": "display_data"
    }
   ],
   "source": [
    "df_raw[df_raw['D0'] == '1J'].plot(x='Date', y='Value', label='1Y yield');"
   ]
  },
  {
   "cell_type": "markdown",
   "metadata": {
    "id": "zDMC9uqd9sjd"
   },
   "source": [
    "This is ok, but look at the x tick locations and labels. The dates selected seem rather arbitrary. Of course, we could clean those up, but it is indicitive of a larger problem.\n",
    "\n",
    "Pandas and Matplotlib generally do a good job of picking good tick locations, and if they have not, it might be indicative of a problem, as is the case here. When debugging these problems, it is good to look at the data types of the columns of a frame. (https://pbpython.com/pandas_dtypes.html has a good overview of pandas data types)"
   ]
  },
  {
   "cell_type": "code",
   "execution_count": 7,
   "metadata": {
    "colab": {
     "base_uri": "https://localhost:8080/"
    },
    "executionInfo": {
     "elapsed": 2,
     "status": "ok",
     "timestamp": 1708524471967,
     "user": {
      "displayName": "Adriano Persegani",
      "userId": "17739764701888244413"
     },
     "user_tz": -60
    },
    "id": "ZwDV7EZ09sjd",
    "outputId": "ea3bf9a3-34fc-4319-8f1a-2ba118ca8e88",
    "tags": []
   },
   "outputs": [
    {
     "data": {
      "text/plain": [
       "Date      object\n",
       "D0        object\n",
       "Value    float64\n",
       "dtype: object"
      ]
     },
     "execution_count": 7,
     "metadata": {},
     "output_type": "execute_result"
    }
   ],
   "source": [
    "df_raw.dtypes"
   ]
  },
  {
   "cell_type": "markdown",
   "metadata": {
    "id": "ulCMzCWJ9sjd"
   },
   "source": [
    "The type 'object' means that pandas thinks our data column is a string. We need to tell pandas that it is a date column."
   ]
  },
  {
   "cell_type": "code",
   "execution_count": 8,
   "metadata": {
    "colab": {
     "base_uri": "https://localhost:8080/",
     "height": 277
    },
    "executionInfo": {
     "elapsed": 258,
     "status": "ok",
     "timestamp": 1708524474983,
     "user": {
      "displayName": "Adriano Persegani",
      "userId": "17739764701888244413"
     },
     "user_tz": -60
    },
    "id": "JpIw8Egk9sjd",
    "outputId": "a5be2c54-a448-477e-a630-0175cb2b5872",
    "tags": []
   },
   "outputs": [
    {
     "name": "stdout",
     "output_type": "stream",
     "text": [
      "Date     datetime64[ns]\n",
      "D0               object\n",
      "Value           float64\n",
      "dtype: object\n"
     ]
    },
    {
     "data": {
      "text/html": [
       "<div>\n",
       "<style scoped>\n",
       "    .dataframe tbody tr th:only-of-type {\n",
       "        vertical-align: middle;\n",
       "    }\n",
       "\n",
       "    .dataframe tbody tr th {\n",
       "        vertical-align: top;\n",
       "    }\n",
       "\n",
       "    .dataframe thead th {\n",
       "        text-align: right;\n",
       "    }\n",
       "</style>\n",
       "<table border=\"1\" class=\"dataframe\">\n",
       "  <thead>\n",
       "    <tr style=\"text-align: right;\">\n",
       "      <th></th>\n",
       "      <th>Date</th>\n",
       "      <th>D0</th>\n",
       "      <th>Value</th>\n",
       "    </tr>\n",
       "  </thead>\n",
       "  <tbody>\n",
       "    <tr>\n",
       "      <th>0</th>\n",
       "      <td>1988-01-01</td>\n",
       "      <td>1J</td>\n",
       "      <td>2.887</td>\n",
       "    </tr>\n",
       "    <tr>\n",
       "      <th>1</th>\n",
       "      <td>1988-01-01</td>\n",
       "      <td>2J</td>\n",
       "      <td>3.218</td>\n",
       "    </tr>\n",
       "    <tr>\n",
       "      <th>2</th>\n",
       "      <td>1988-01-01</td>\n",
       "      <td>3J</td>\n",
       "      <td>3.393</td>\n",
       "    </tr>\n",
       "    <tr>\n",
       "      <th>3</th>\n",
       "      <td>1988-01-01</td>\n",
       "      <td>4J</td>\n",
       "      <td>3.554</td>\n",
       "    </tr>\n",
       "    <tr>\n",
       "      <th>4</th>\n",
       "      <td>1988-01-01</td>\n",
       "      <td>5J</td>\n",
       "      <td>3.695</td>\n",
       "    </tr>\n",
       "  </tbody>\n",
       "</table>\n",
       "</div>"
      ],
      "text/plain": [
       "        Date  D0  Value\n",
       "0 1988-01-01  1J  2.887\n",
       "1 1988-01-01  2J  3.218\n",
       "2 1988-01-01  3J  3.393\n",
       "3 1988-01-01  4J  3.554\n",
       "4 1988-01-01  5J  3.695"
      ]
     },
     "execution_count": 8,
     "metadata": {},
     "output_type": "execute_result"
    }
   ],
   "source": [
    "df = df_raw.copy()\n",
    "df['Date'] = pd.to_datetime(df['Date'])\n",
    "print(df.dtypes)\n",
    "df.head()"
   ]
  },
  {
   "cell_type": "code",
   "execution_count": 9,
   "metadata": {
    "colab": {
     "base_uri": "https://localhost:8080/",
     "height": 449
    },
    "executionInfo": {
     "elapsed": 842,
     "status": "ok",
     "timestamp": 1708524477315,
     "user": {
      "displayName": "Adriano Persegani",
      "userId": "17739764701888244413"
     },
     "user_tz": -60
    },
    "id": "wPqAIej-9sjd",
    "outputId": "a14af8c0-c6ce-4b22-9341-697b475fc46a",
    "tags": []
   },
   "outputs": [
    {
     "data": {
      "image/png": "[encoded data removed]",
      "text/plain": [
       "<Figure size 640x480 with 1 Axes>"
      ]
     },
     "metadata": {},
     "output_type": "display_data"
    }
   ],
   "source": [
    "df[df['D0'] == '1J'].plot(x='Date', y='Value', label='1Y yield');"
   ]
  },
  {
   "cell_type": "markdown",
   "metadata": {
    "id": "iTkE1kYk9sjd"
   },
   "source": [
    "That looks much better!"
   ]
  },
  {
   "cell_type": "markdown",
   "metadata": {
    "id": "7GoGE-iW9sjd"
   },
   "source": [
    "# Style"
   ]
  },
  {
   "cell_type": "markdown",
   "metadata": {
    "id": "4cKSPx1K9sjd"
   },
   "source": [
    "The default MPL style is not so appealing, but there are many better ones available."
   ]
  },
  {
   "cell_type": "code",
   "execution_count": 10,
   "metadata": {
    "colab": {
     "base_uri": "https://localhost:8080/"
    },
    "executionInfo": {
     "elapsed": 2,
     "status": "ok",
     "timestamp": 1708524479617,
     "user": {
      "displayName": "Adriano Persegani",
      "userId": "17739764701888244413"
     },
     "user_tz": -60
    },
    "id": "N6afr5cg9sje",
    "outputId": "78285659-bbee-4f6a-da48-7044282704c9",
    "tags": []
   },
   "outputs": [
    {
     "data": {
      "text/plain": [
       "['Solarize_Light2',\n",
       " '_classic_test_patch',\n",
       " '_mpl-gallery',\n",
       " '_mpl-gallery-nogrid',\n",
       " 'bmh',\n",
       " 'classic',\n",
       " 'dark_background',\n",
       " 'fast',\n",
       " 'fivethirtyeight',\n",
       " 'ggplot',\n",
       " 'grayscale',\n",
       " 'petroff10',\n",
       " 'seaborn-v0_8',\n",
       " 'seaborn-v0_8-bright',\n",
       " 'seaborn-v0_8-colorblind',\n",
       " 'seaborn-v0_8-dark',\n",
       " 'seaborn-v0_8-dark-palette',\n",
       " 'seaborn-v0_8-darkgrid',\n",
       " 'seaborn-v0_8-deep',\n",
       " 'seaborn-v0_8-muted',\n",
       " 'seaborn-v0_8-notebook',\n",
       " 'seaborn-v0_8-paper',\n",
       " 'seaborn-v0_8-pastel',\n",
       " 'seaborn-v0_8-poster',\n",
       " 'seaborn-v0_8-talk',\n",
       " 'seaborn-v0_8-ticks',\n",
       " 'seaborn-v0_8-white',\n",
       " 'seaborn-v0_8-whitegrid',\n",
       " 'tableau-colorblind10']"
      ]
     },
     "execution_count": 10,
     "metadata": {},
     "output_type": "execute_result"
    }
   ],
   "source": [
    "plt.style.available"
   ]
  },
  {
   "cell_type": "code",
   "execution_count": null,
   "metadata": {
    "colab": {
     "base_uri": "https://localhost:8080/",
     "height": 453
    },
    "executionInfo": {
     "elapsed": 407,
     "status": "ok",
     "timestamp": 1708524480931,
     "user": {
      "displayName": "Adriano Persegani",
      "userId": "17739764701888244413"
     },
     "user_tz": -60
    },
    "id": "n5NJ4jf99sje",
    "outputId": "5ba19596-4fe9-4d4a-9f87-071c31cd4c08",
    "tags": []
   },
   "outputs": [
    {
     "data": {
      "image/png": "[encoded data removed]",
      "text/plain": [
       "<Figure size 640x480 with 1 Axes>"
      ]
     },
     "metadata": {},
     "output_type": "display_data"
    }
   ],
   "source": [
    "with plt.style.context(('Solarize_Light2')):\n",
    "    df[df['D0'] == '1J'].plot(x='Date', y='Value', label='1Y yield');"
   ]
  },
  {
   "cell_type": "code",
   "execution_count": null,
   "metadata": {
    "colab": {
     "base_uri": "https://localhost:8080/",
     "height": 453
    },
    "executionInfo": {
     "elapsed": 709,
     "status": "ok",
     "timestamp": 1708524483652,
     "user": {
      "displayName": "Adriano Persegani",
      "userId": "17739764701888244413"
     },
     "user_tz": -60
    },
    "id": "ehxT1J-z9sje",
    "outputId": "95652aa0-7419-465b-8535-77d927b01224",
    "tags": []
   },
   "outputs": [
    {
     "data": {
      "image/png": "[encoded data removed]",
      "text/plain": [
       "<Figure size 640x480 with 1 Axes>"
      ]
     },
     "metadata": {},
     "output_type": "display_data"
    }
   ],
   "source": [
    "with plt.style.context(('ggplot')):\n",
    "    df[df['D0'] == '1J'].plot(x='Date', y='Value', label='1Y yield');"
   ]
  },
  {
   "cell_type": "markdown",
   "metadata": {
    "id": "sPL4koML9sje"
   },
   "source": [
    "The [Seaborn](https://seaborn.pydata.org) library includes many nice styles."
   ]
  },
  {
   "cell_type": "code",
   "execution_count": null,
   "metadata": {
    "colab": {
     "base_uri": "https://localhost:8080/",
     "height": 445
    },
    "executionInfo": {
     "elapsed": 462,
     "status": "ok",
     "timestamp": 1708524485174,
     "user": {
      "displayName": "Adriano Persegani",
      "userId": "17739764701888244413"
     },
     "user_tz": -60
    },
    "id": "qlhR_vE49sje",
    "outputId": "3642acc1-6fd8-405c-8808-be77afa20e95",
    "tags": []
   },
   "outputs": [
    {
     "data": {
      "image/png": "[encoded data removed]",
      "text/plain": [
       "<Figure size 640x480 with 1 Axes>"
      ]
     },
     "metadata": {},
     "output_type": "display_data"
    }
   ],
   "source": [
    "with plt.style.context('seaborn-v0_8-darkgrid'):\n",
    "    df[df['D0'] == '1J'].plot(x='Date', y='Value', label='1Y yield');"
   ]
  },
  {
   "cell_type": "markdown",
   "metadata": {
    "id": "60lX3Knz9sje"
   },
   "source": [
    "We don't want to set the style for every individual plot. Let us pick one we like and use it globally."
   ]
  },
  {
   "cell_type": "code",
   "execution_count": 11,
   "metadata": {
    "id": "6B4nCLeQ9sje",
    "tags": []
   },
   "outputs": [],
   "source": [
    "plt.style.use('seaborn-v0_8-darkgrid')\n",
    "# sns.set() is another way of doing this"
   ]
  },
  {
   "cell_type": "markdown",
   "metadata": {
    "id": "Rmvbpwrh9sje"
   },
   "source": [
    "# Indexing\n",
    "\n",
    "Pandas uses an `index` object to provide labels for rows and columns. The default row index is just the row number. For some data, this is fine, but if there is a semantically meaningful index, it will be easier to work with that than just a row number. Also, some pandas functions (like aggregation operations) return pandas objects with semantically meaninful indices. So, it makes sense to learn about [indexing and selecting data](https://pandas.pydata.org/docs/user_guide/indexing.html) and [multi-indexes](https://pandas.pydata.org/docs/user_guide/advanced.html).\n",
    "\n",
    "Example: How can we get the yield over 1999 on 1-year bonds?"
   ]
  },
  {
   "cell_type": "code",
   "execution_count": 12,
   "metadata": {
    "colab": {
     "base_uri": "https://localhost:8080/",
     "height": 425
    },
    "executionInfo": {
     "elapsed": 251,
     "status": "ok",
     "timestamp": 1708524489101,
     "user": {
      "displayName": "Adriano Persegani",
      "userId": "17739764701888244413"
     },
     "user_tz": -60
    },
    "id": "lDqGaqLA9sje",
    "outputId": "9b764f51-4be0-48be-9e69-115e74b17c78",
    "tags": []
   },
   "outputs": [
    {
     "data": {
      "text/html": [
       "<div>\n",
       "<style scoped>\n",
       "    .dataframe tbody tr th:only-of-type {\n",
       "        vertical-align: middle;\n",
       "    }\n",
       "\n",
       "    .dataframe tbody tr th {\n",
       "        vertical-align: top;\n",
       "    }\n",
       "\n",
       "    .dataframe thead th {\n",
       "        text-align: right;\n",
       "    }\n",
       "</style>\n",
       "<table border=\"1\" class=\"dataframe\">\n",
       "  <thead>\n",
       "    <tr style=\"text-align: right;\">\n",
       "      <th></th>\n",
       "      <th>Date</th>\n",
       "      <th>D0</th>\n",
       "      <th>Value</th>\n",
       "    </tr>\n",
       "  </thead>\n",
       "  <tbody>\n",
       "    <tr>\n",
       "      <th>1584</th>\n",
       "      <td>1999-01-01</td>\n",
       "      <td>1J</td>\n",
       "      <td>1.381</td>\n",
       "    </tr>\n",
       "    <tr>\n",
       "      <th>1596</th>\n",
       "      <td>1999-02-01</td>\n",
       "      <td>1J</td>\n",
       "      <td>1.293</td>\n",
       "    </tr>\n",
       "    <tr>\n",
       "      <th>1608</th>\n",
       "      <td>1999-03-01</td>\n",
       "      <td>1J</td>\n",
       "      <td>1.375</td>\n",
       "    </tr>\n",
       "    <tr>\n",
       "      <th>1620</th>\n",
       "      <td>1999-04-01</td>\n",
       "      <td>1J</td>\n",
       "      <td>1.171</td>\n",
       "    </tr>\n",
       "    <tr>\n",
       "      <th>1632</th>\n",
       "      <td>1999-05-01</td>\n",
       "      <td>1J</td>\n",
       "      <td>1.170</td>\n",
       "    </tr>\n",
       "    <tr>\n",
       "      <th>1644</th>\n",
       "      <td>1999-06-01</td>\n",
       "      <td>1J</td>\n",
       "      <td>1.588</td>\n",
       "    </tr>\n",
       "    <tr>\n",
       "      <th>1656</th>\n",
       "      <td>1999-07-01</td>\n",
       "      <td>1J</td>\n",
       "      <td>1.676</td>\n",
       "    </tr>\n",
       "    <tr>\n",
       "      <th>1668</th>\n",
       "      <td>1999-08-01</td>\n",
       "      <td>1J</td>\n",
       "      <td>1.720</td>\n",
       "    </tr>\n",
       "    <tr>\n",
       "      <th>1680</th>\n",
       "      <td>1999-09-01</td>\n",
       "      <td>1J</td>\n",
       "      <td>2.110</td>\n",
       "    </tr>\n",
       "    <tr>\n",
       "      <th>1692</th>\n",
       "      <td>1999-10-01</td>\n",
       "      <td>1J</td>\n",
       "      <td>2.536</td>\n",
       "    </tr>\n",
       "    <tr>\n",
       "      <th>1704</th>\n",
       "      <td>1999-11-01</td>\n",
       "      <td>1J</td>\n",
       "      <td>2.435</td>\n",
       "    </tr>\n",
       "    <tr>\n",
       "      <th>1716</th>\n",
       "      <td>1999-12-01</td>\n",
       "      <td>1J</td>\n",
       "      <td>2.170</td>\n",
       "    </tr>\n",
       "  </tbody>\n",
       "</table>\n",
       "</div>"
      ],
      "text/plain": [
       "           Date  D0  Value\n",
       "1584 1999-01-01  1J  1.381\n",
       "1596 1999-02-01  1J  1.293\n",
       "1608 1999-03-01  1J  1.375\n",
       "1620 1999-04-01  1J  1.171\n",
       "1632 1999-05-01  1J  1.170\n",
       "1644 1999-06-01  1J  1.588\n",
       "1656 1999-07-01  1J  1.676\n",
       "1668 1999-08-01  1J  1.720\n",
       "1680 1999-09-01  1J  2.110\n",
       "1692 1999-10-01  1J  2.536\n",
       "1704 1999-11-01  1J  2.435\n",
       "1716 1999-12-01  1J  2.170"
      ]
     },
     "execution_count": 12,
     "metadata": {},
     "output_type": "execute_result"
    }
   ],
   "source": [
    "df[(df['Date'].dt.year == 1999) & (df['D0'] == '1J')]"
   ]
  },
  {
   "cell_type": "markdown",
   "metadata": {
    "id": "_Zle6gIH9sje"
   },
   "source": [
    "This works, but is tedious and inefficient. A better way is to take advantage of the index. **An index must be unique,** so we need it to be made up of `Date` and `D0`."
   ]
  },
  {
   "cell_type": "code",
   "execution_count": 13,
   "metadata": {
    "colab": {
     "base_uri": "https://localhost:8080/",
     "height": 237
    },
    "executionInfo": {
     "elapsed": 4,
     "status": "ok",
     "timestamp": 1708524490642,
     "user": {
      "displayName": "Adriano Persegani",
      "userId": "17739764701888244413"
     },
     "user_tz": -60
    },
    "id": "Lbp2xhC29sje",
    "outputId": "c9f656bb-6d30-4d0c-f431-cbe14922b676",
    "tags": []
   },
   "outputs": [
    {
     "data": {
      "text/html": [
       "<div>\n",
       "<style scoped>\n",
       "    .dataframe tbody tr th:only-of-type {\n",
       "        vertical-align: middle;\n",
       "    }\n",
       "\n",
       "    .dataframe tbody tr th {\n",
       "        vertical-align: top;\n",
       "    }\n",
       "\n",
       "    .dataframe thead th {\n",
       "        text-align: right;\n",
       "    }\n",
       "</style>\n",
       "<table border=\"1\" class=\"dataframe\">\n",
       "  <thead>\n",
       "    <tr style=\"text-align: right;\">\n",
       "      <th></th>\n",
       "      <th></th>\n",
       "      <th>Value</th>\n",
       "    </tr>\n",
       "    <tr>\n",
       "      <th>Date</th>\n",
       "      <th>D0</th>\n",
       "      <th></th>\n",
       "    </tr>\n",
       "  </thead>\n",
       "  <tbody>\n",
       "    <tr>\n",
       "      <th rowspan=\"5\" valign=\"top\">1988-01-01</th>\n",
       "      <th>1J</th>\n",
       "      <td>2.887000</td>\n",
       "    </tr>\n",
       "    <tr>\n",
       "      <th>2J</th>\n",
       "      <td>3.218000</td>\n",
       "    </tr>\n",
       "    <tr>\n",
       "      <th>3J</th>\n",
       "      <td>3.393000</td>\n",
       "    </tr>\n",
       "    <tr>\n",
       "      <th>4J</th>\n",
       "      <td>3.554000</td>\n",
       "    </tr>\n",
       "    <tr>\n",
       "      <th>5J</th>\n",
       "      <td>3.695000</td>\n",
       "    </tr>\n",
       "    <tr>\n",
       "      <th>...</th>\n",
       "      <th>...</th>\n",
       "      <td>...</td>\n",
       "    </tr>\n",
       "    <tr>\n",
       "      <th rowspan=\"5\" valign=\"top\">2017-04-01</th>\n",
       "      <th>8J</th>\n",
       "      <td>-0.247314</td>\n",
       "    </tr>\n",
       "    <tr>\n",
       "      <th>9J</th>\n",
       "      <td>-0.164550</td>\n",
       "    </tr>\n",
       "    <tr>\n",
       "      <th>10J</th>\n",
       "      <td>-0.095596</td>\n",
       "    </tr>\n",
       "    <tr>\n",
       "      <th>20J</th>\n",
       "      <td>0.227055</td>\n",
       "    </tr>\n",
       "    <tr>\n",
       "      <th>30J</th>\n",
       "      <td>0.335615</td>\n",
       "    </tr>\n",
       "  </tbody>\n",
       "</table>\n",
       "<p>4224 rows × 1 columns</p>\n",
       "</div>"
      ],
      "text/plain": [
       "                   Value\n",
       "Date       D0           \n",
       "1988-01-01 1J   2.887000\n",
       "           2J   3.218000\n",
       "           3J   3.393000\n",
       "           4J   3.554000\n",
       "           5J   3.695000\n",
       "...                  ...\n",
       "2017-04-01 8J  -0.247314\n",
       "           9J  -0.164550\n",
       "           10J -0.095596\n",
       "           20J  0.227055\n",
       "           30J  0.335615\n",
       "\n",
       "[4224 rows x 1 columns]"
      ]
     },
     "execution_count": 13,
     "metadata": {},
     "output_type": "execute_result"
    }
   ],
   "source": [
    "df_indexed = df.set_index(['Date', 'D0'])\n",
    "df_indexed"
   ]
  },
  {
   "cell_type": "code",
   "execution_count": 18,
   "metadata": {},
   "outputs": [
    {
     "data": {
      "text/html": [
       "<div>\n",
       "<style scoped>\n",
       "    .dataframe tbody tr th:only-of-type {\n",
       "        vertical-align: middle;\n",
       "    }\n",
       "\n",
       "    .dataframe tbody tr th {\n",
       "        vertical-align: top;\n",
       "    }\n",
       "\n",
       "    .dataframe thead th {\n",
       "        text-align: right;\n",
       "    }\n",
       "</style>\n",
       "<table border=\"1\" class=\"dataframe\">\n",
       "  <thead>\n",
       "    <tr style=\"text-align: right;\">\n",
       "      <th></th>\n",
       "      <th></th>\n",
       "      <th>Value</th>\n",
       "    </tr>\n",
       "    <tr>\n",
       "      <th>D0</th>\n",
       "      <th>Date</th>\n",
       "      <th></th>\n",
       "    </tr>\n",
       "  </thead>\n",
       "  <tbody>\n",
       "    <tr>\n",
       "      <th>1J</th>\n",
       "      <th>1988-01-01</th>\n",
       "      <td>2.887</td>\n",
       "    </tr>\n",
       "    <tr>\n",
       "      <th>2J</th>\n",
       "      <th>1988-01-01</th>\n",
       "      <td>3.218</td>\n",
       "    </tr>\n",
       "    <tr>\n",
       "      <th>3J</th>\n",
       "      <th>1988-01-01</th>\n",
       "      <td>3.393</td>\n",
       "    </tr>\n",
       "    <tr>\n",
       "      <th>4J</th>\n",
       "      <th>1988-01-01</th>\n",
       "      <td>3.554</td>\n",
       "    </tr>\n",
       "    <tr>\n",
       "      <th>5J</th>\n",
       "      <th>1988-01-01</th>\n",
       "      <td>3.695</td>\n",
       "    </tr>\n",
       "    <tr>\n",
       "      <th>6J</th>\n",
       "      <th>1988-01-01</th>\n",
       "      <td>3.810</td>\n",
       "    </tr>\n",
       "    <tr>\n",
       "      <th>7J</th>\n",
       "      <th>1988-01-01</th>\n",
       "      <td>3.904</td>\n",
       "    </tr>\n",
       "    <tr>\n",
       "      <th>8J</th>\n",
       "      <th>1988-01-01</th>\n",
       "      <td>3.980</td>\n",
       "    </tr>\n",
       "    <tr>\n",
       "      <th>9J</th>\n",
       "      <th>1988-01-01</th>\n",
       "      <td>4.041</td>\n",
       "    </tr>\n",
       "    <tr>\n",
       "      <th>10J</th>\n",
       "      <th>1988-01-01</th>\n",
       "      <td>4.092</td>\n",
       "    </tr>\n",
       "    <tr>\n",
       "      <th>20J</th>\n",
       "      <th>1988-01-01</th>\n",
       "      <td>4.326</td>\n",
       "    </tr>\n",
       "    <tr>\n",
       "      <th>30J</th>\n",
       "      <th>1988-01-01</th>\n",
       "      <td>NaN</td>\n",
       "    </tr>\n",
       "    <tr>\n",
       "      <th>1J</th>\n",
       "      <th>1988-02-01</th>\n",
       "      <td>2.638</td>\n",
       "    </tr>\n",
       "    <tr>\n",
       "      <th>2J</th>\n",
       "      <th>1988-02-01</th>\n",
       "      <td>2.990</td>\n",
       "    </tr>\n",
       "    <tr>\n",
       "      <th>3J</th>\n",
       "      <th>1988-02-01</th>\n",
       "      <td>3.271</td>\n",
       "    </tr>\n",
       "    <tr>\n",
       "      <th>4J</th>\n",
       "      <th>1988-02-01</th>\n",
       "      <td>3.498</td>\n",
       "    </tr>\n",
       "    <tr>\n",
       "      <th>5J</th>\n",
       "      <th>1988-02-01</th>\n",
       "      <td>3.672</td>\n",
       "    </tr>\n",
       "    <tr>\n",
       "      <th>6J</th>\n",
       "      <th>1988-02-01</th>\n",
       "      <td>3.804</td>\n",
       "    </tr>\n",
       "    <tr>\n",
       "      <th>7J</th>\n",
       "      <th>1988-02-01</th>\n",
       "      <td>3.905</td>\n",
       "    </tr>\n",
       "    <tr>\n",
       "      <th>8J</th>\n",
       "      <th>1988-02-01</th>\n",
       "      <td>3.984</td>\n",
       "    </tr>\n",
       "    <tr>\n",
       "      <th>9J</th>\n",
       "      <th>1988-02-01</th>\n",
       "      <td>4.047</td>\n",
       "    </tr>\n",
       "    <tr>\n",
       "      <th>10J</th>\n",
       "      <th>1988-02-01</th>\n",
       "      <td>4.098</td>\n",
       "    </tr>\n",
       "    <tr>\n",
       "      <th>20J</th>\n",
       "      <th>1988-02-01</th>\n",
       "      <td>4.332</td>\n",
       "    </tr>\n",
       "    <tr>\n",
       "      <th>30J</th>\n",
       "      <th>1988-02-01</th>\n",
       "      <td>NaN</td>\n",
       "    </tr>\n",
       "    <tr>\n",
       "      <th>1J</th>\n",
       "      <th>1988-03-01</th>\n",
       "      <td>2.641</td>\n",
       "    </tr>\n",
       "    <tr>\n",
       "      <th>2J</th>\n",
       "      <th>1988-03-01</th>\n",
       "      <td>3.263</td>\n",
       "    </tr>\n",
       "    <tr>\n",
       "      <th>3J</th>\n",
       "      <th>1988-03-01</th>\n",
       "      <td>3.573</td>\n",
       "    </tr>\n",
       "    <tr>\n",
       "      <th>4J</th>\n",
       "      <th>1988-03-01</th>\n",
       "      <td>3.734</td>\n",
       "    </tr>\n",
       "    <tr>\n",
       "      <th>5J</th>\n",
       "      <th>1988-03-01</th>\n",
       "      <td>3.823</td>\n",
       "    </tr>\n",
       "    <tr>\n",
       "      <th>6J</th>\n",
       "      <th>1988-03-01</th>\n",
       "      <td>3.878</td>\n",
       "    </tr>\n",
       "    <tr>\n",
       "      <th>7J</th>\n",
       "      <th>1988-03-01</th>\n",
       "      <td>3.916</td>\n",
       "    </tr>\n",
       "    <tr>\n",
       "      <th>8J</th>\n",
       "      <th>1988-03-01</th>\n",
       "      <td>3.946</td>\n",
       "    </tr>\n",
       "    <tr>\n",
       "      <th>9J</th>\n",
       "      <th>1988-03-01</th>\n",
       "      <td>3.972</td>\n",
       "    </tr>\n",
       "    <tr>\n",
       "      <th>10J</th>\n",
       "      <th>1988-03-01</th>\n",
       "      <td>3.998</td>\n",
       "    </tr>\n",
       "    <tr>\n",
       "      <th>20J</th>\n",
       "      <th>1988-03-01</th>\n",
       "      <td>4.255</td>\n",
       "    </tr>\n",
       "    <tr>\n",
       "      <th>30J</th>\n",
       "      <th>1988-03-01</th>\n",
       "      <td>NaN</td>\n",
       "    </tr>\n",
       "    <tr>\n",
       "      <th>1J</th>\n",
       "      <th>1988-04-01</th>\n",
       "      <td>2.800</td>\n",
       "    </tr>\n",
       "    <tr>\n",
       "      <th>2J</th>\n",
       "      <th>1988-04-01</th>\n",
       "      <td>3.250</td>\n",
       "    </tr>\n",
       "    <tr>\n",
       "      <th>3J</th>\n",
       "      <th>1988-04-01</th>\n",
       "      <td>3.467</td>\n",
       "    </tr>\n",
       "    <tr>\n",
       "      <th>4J</th>\n",
       "      <th>1988-04-01</th>\n",
       "      <td>3.594</td>\n",
       "    </tr>\n",
       "    <tr>\n",
       "      <th>5J</th>\n",
       "      <th>1988-04-01</th>\n",
       "      <td>3.684</td>\n",
       "    </tr>\n",
       "    <tr>\n",
       "      <th>6J</th>\n",
       "      <th>1988-04-01</th>\n",
       "      <td>3.757</td>\n",
       "    </tr>\n",
       "    <tr>\n",
       "      <th>7J</th>\n",
       "      <th>1988-04-01</th>\n",
       "      <td>3.819</td>\n",
       "    </tr>\n",
       "    <tr>\n",
       "      <th>8J</th>\n",
       "      <th>1988-04-01</th>\n",
       "      <td>3.874</td>\n",
       "    </tr>\n",
       "    <tr>\n",
       "      <th>9J</th>\n",
       "      <th>1988-04-01</th>\n",
       "      <td>3.923</td>\n",
       "    </tr>\n",
       "    <tr>\n",
       "      <th>10J</th>\n",
       "      <th>1988-04-01</th>\n",
       "      <td>3.965</td>\n",
       "    </tr>\n",
       "    <tr>\n",
       "      <th>20J</th>\n",
       "      <th>1988-04-01</th>\n",
       "      <td>4.200</td>\n",
       "    </tr>\n",
       "    <tr>\n",
       "      <th>30J</th>\n",
       "      <th>1988-04-01</th>\n",
       "      <td>NaN</td>\n",
       "    </tr>\n",
       "    <tr>\n",
       "      <th>1J</th>\n",
       "      <th>1988-05-01</th>\n",
       "      <td>3.191</td>\n",
       "    </tr>\n",
       "    <tr>\n",
       "      <th>2J</th>\n",
       "      <th>1988-05-01</th>\n",
       "      <td>3.602</td>\n",
       "    </tr>\n",
       "  </tbody>\n",
       "</table>\n",
       "</div>"
      ],
      "text/plain": [
       "                Value\n",
       "D0  Date             \n",
       "1J  1988-01-01  2.887\n",
       "2J  1988-01-01  3.218\n",
       "3J  1988-01-01  3.393\n",
       "4J  1988-01-01  3.554\n",
       "5J  1988-01-01  3.695\n",
       "6J  1988-01-01  3.810\n",
       "7J  1988-01-01  3.904\n",
       "8J  1988-01-01  3.980\n",
       "9J  1988-01-01  4.041\n",
       "10J 1988-01-01  4.092\n",
       "20J 1988-01-01  4.326\n",
       "30J 1988-01-01    NaN\n",
       "1J  1988-02-01  2.638\n",
       "2J  1988-02-01  2.990\n",
       "3J  1988-02-01  3.271\n",
       "4J  1988-02-01  3.498\n",
       "5J  1988-02-01  3.672\n",
       "6J  1988-02-01  3.804\n",
       "7J  1988-02-01  3.905\n",
       "8J  1988-02-01  3.984\n",
       "9J  1988-02-01  4.047\n",
       "10J 1988-02-01  4.098\n",
       "20J 1988-02-01  4.332\n",
       "30J 1988-02-01    NaN\n",
       "1J  1988-03-01  2.641\n",
       "2J  1988-03-01  3.263\n",
       "3J  1988-03-01  3.573\n",
       "4J  1988-03-01  3.734\n",
       "5J  1988-03-01  3.823\n",
       "6J  1988-03-01  3.878\n",
       "7J  1988-03-01  3.916\n",
       "8J  1988-03-01  3.946\n",
       "9J  1988-03-01  3.972\n",
       "10J 1988-03-01  3.998\n",
       "20J 1988-03-01  4.255\n",
       "30J 1988-03-01    NaN\n",
       "1J  1988-04-01  2.800\n",
       "2J  1988-04-01  3.250\n",
       "3J  1988-04-01  3.467\n",
       "4J  1988-04-01  3.594\n",
       "5J  1988-04-01  3.684\n",
       "6J  1988-04-01  3.757\n",
       "7J  1988-04-01  3.819\n",
       "8J  1988-04-01  3.874\n",
       "9J  1988-04-01  3.923\n",
       "10J 1988-04-01  3.965\n",
       "20J 1988-04-01  4.200\n",
       "30J 1988-04-01    NaN\n",
       "1J  1988-05-01  3.191\n",
       "2J  1988-05-01  3.602"
      ]
     },
     "execution_count": 18,
     "metadata": {},
     "output_type": "execute_result"
    }
   ],
   "source": [
    "df_indexed_D0 = df.set_index(['D0', 'Date'])\n",
    "df_indexed_D0.head(50)"
   ]
  },
  {
   "cell_type": "markdown",
   "metadata": {
    "id": "AhNGnaQh9sje"
   },
   "source": [
    "Now we can ask directly for the data we are interested in -- 1-year bonds in 1999."
   ]
  },
  {
   "cell_type": "code",
   "execution_count": 20,
   "metadata": {
    "colab": {
     "base_uri": "https://localhost:8080/",
     "height": 456
    },
    "executionInfo": {
     "elapsed": 3,
     "status": "ok",
     "timestamp": 1708524492013,
     "user": {
      "displayName": "Adriano Persegani",
      "userId": "17739764701888244413"
     },
     "user_tz": -60
    },
    "id": "B8nH6HBT9sjf",
    "outputId": "2c55d388-d2a6-40a6-a576-c9a8aba607ec",
    "tags": []
   },
   "outputs": [
    {
     "data": {
      "text/html": [
       "<div>\n",
       "<style scoped>\n",
       "    .dataframe tbody tr th:only-of-type {\n",
       "        vertical-align: middle;\n",
       "    }\n",
       "\n",
       "    .dataframe tbody tr th {\n",
       "        vertical-align: top;\n",
       "    }\n",
       "\n",
       "    .dataframe thead th {\n",
       "        text-align: right;\n",
       "    }\n",
       "</style>\n",
       "<table border=\"1\" class=\"dataframe\">\n",
       "  <thead>\n",
       "    <tr style=\"text-align: right;\">\n",
       "      <th></th>\n",
       "      <th>Value</th>\n",
       "    </tr>\n",
       "    <tr>\n",
       "      <th>Date</th>\n",
       "      <th></th>\n",
       "    </tr>\n",
       "  </thead>\n",
       "  <tbody>\n",
       "    <tr>\n",
       "      <th>1999-01-01</th>\n",
       "      <td>1.381</td>\n",
       "    </tr>\n",
       "    <tr>\n",
       "      <th>1999-02-01</th>\n",
       "      <td>1.293</td>\n",
       "    </tr>\n",
       "    <tr>\n",
       "      <th>1999-03-01</th>\n",
       "      <td>1.375</td>\n",
       "    </tr>\n",
       "    <tr>\n",
       "      <th>1999-04-01</th>\n",
       "      <td>1.171</td>\n",
       "    </tr>\n",
       "    <tr>\n",
       "      <th>1999-05-01</th>\n",
       "      <td>1.170</td>\n",
       "    </tr>\n",
       "    <tr>\n",
       "      <th>1999-06-01</th>\n",
       "      <td>1.588</td>\n",
       "    </tr>\n",
       "    <tr>\n",
       "      <th>1999-07-01</th>\n",
       "      <td>1.676</td>\n",
       "    </tr>\n",
       "    <tr>\n",
       "      <th>1999-08-01</th>\n",
       "      <td>1.720</td>\n",
       "    </tr>\n",
       "    <tr>\n",
       "      <th>1999-09-01</th>\n",
       "      <td>2.110</td>\n",
       "    </tr>\n",
       "    <tr>\n",
       "      <th>1999-10-01</th>\n",
       "      <td>2.536</td>\n",
       "    </tr>\n",
       "    <tr>\n",
       "      <th>1999-11-01</th>\n",
       "      <td>2.435</td>\n",
       "    </tr>\n",
       "    <tr>\n",
       "      <th>1999-12-01</th>\n",
       "      <td>2.170</td>\n",
       "    </tr>\n",
       "  </tbody>\n",
       "</table>\n",
       "</div>"
      ],
      "text/plain": [
       "            Value\n",
       "Date             \n",
       "1999-01-01  1.381\n",
       "1999-02-01  1.293\n",
       "1999-03-01  1.375\n",
       "1999-04-01  1.171\n",
       "1999-05-01  1.170\n",
       "1999-06-01  1.588\n",
       "1999-07-01  1.676\n",
       "1999-08-01  1.720\n",
       "1999-09-01  2.110\n",
       "1999-10-01  2.536\n",
       "1999-11-01  2.435\n",
       "1999-12-01  2.170"
      ]
     },
     "execution_count": 20,
     "metadata": {},
     "output_type": "execute_result"
    }
   ],
   "source": [
    "df_indexed.loc[('1999', '1J'), :]"
   ]
  },
  {
   "cell_type": "markdown",
   "metadata": {},
   "source": [
    "If we want to set up multiple criteria, we use a list `[]`."
   ]
  },
  {
   "cell_type": "code",
   "execution_count": 22,
   "metadata": {},
   "outputs": [
    {
     "data": {
      "text/html": [
       "<div>\n",
       "<style scoped>\n",
       "    .dataframe tbody tr th:only-of-type {\n",
       "        vertical-align: middle;\n",
       "    }\n",
       "\n",
       "    .dataframe tbody tr th {\n",
       "        vertical-align: top;\n",
       "    }\n",
       "\n",
       "    .dataframe thead th {\n",
       "        text-align: right;\n",
       "    }\n",
       "</style>\n",
       "<table border=\"1\" class=\"dataframe\">\n",
       "  <thead>\n",
       "    <tr style=\"text-align: right;\">\n",
       "      <th></th>\n",
       "      <th></th>\n",
       "      <th>Value</th>\n",
       "    </tr>\n",
       "    <tr>\n",
       "      <th>Date</th>\n",
       "      <th>D0</th>\n",
       "      <th></th>\n",
       "    </tr>\n",
       "  </thead>\n",
       "  <tbody>\n",
       "    <tr>\n",
       "      <th rowspan=\"2\" valign=\"top\">1999-01-01</th>\n",
       "      <th>1J</th>\n",
       "      <td>1.381</td>\n",
       "    </tr>\n",
       "    <tr>\n",
       "      <th>2J</th>\n",
       "      <td>1.568</td>\n",
       "    </tr>\n",
       "    <tr>\n",
       "      <th rowspan=\"2\" valign=\"top\">2000-01-01</th>\n",
       "      <th>1J</th>\n",
       "      <td>2.538</td>\n",
       "    </tr>\n",
       "    <tr>\n",
       "      <th>2J</th>\n",
       "      <td>2.829</td>\n",
       "    </tr>\n",
       "    <tr>\n",
       "      <th>1999-02-01</th>\n",
       "      <th>1J</th>\n",
       "      <td>1.293</td>\n",
       "    </tr>\n",
       "    <tr>\n",
       "      <th>1999-03-01</th>\n",
       "      <th>1J</th>\n",
       "      <td>1.375</td>\n",
       "    </tr>\n",
       "    <tr>\n",
       "      <th>1999-04-01</th>\n",
       "      <th>1J</th>\n",
       "      <td>1.171</td>\n",
       "    </tr>\n",
       "    <tr>\n",
       "      <th>1999-05-01</th>\n",
       "      <th>1J</th>\n",
       "      <td>1.170</td>\n",
       "    </tr>\n",
       "    <tr>\n",
       "      <th>1999-06-01</th>\n",
       "      <th>1J</th>\n",
       "      <td>1.588</td>\n",
       "    </tr>\n",
       "    <tr>\n",
       "      <th>1999-07-01</th>\n",
       "      <th>1J</th>\n",
       "      <td>1.676</td>\n",
       "    </tr>\n",
       "    <tr>\n",
       "      <th>1999-08-01</th>\n",
       "      <th>1J</th>\n",
       "      <td>1.720</td>\n",
       "    </tr>\n",
       "    <tr>\n",
       "      <th>1999-09-01</th>\n",
       "      <th>1J</th>\n",
       "      <td>2.110</td>\n",
       "    </tr>\n",
       "    <tr>\n",
       "      <th>1999-10-01</th>\n",
       "      <th>1J</th>\n",
       "      <td>2.536</td>\n",
       "    </tr>\n",
       "    <tr>\n",
       "      <th>1999-11-01</th>\n",
       "      <th>1J</th>\n",
       "      <td>2.435</td>\n",
       "    </tr>\n",
       "    <tr>\n",
       "      <th>1999-12-01</th>\n",
       "      <th>1J</th>\n",
       "      <td>2.170</td>\n",
       "    </tr>\n",
       "    <tr>\n",
       "      <th>2000-02-01</th>\n",
       "      <th>1J</th>\n",
       "      <td>2.984</td>\n",
       "    </tr>\n",
       "    <tr>\n",
       "      <th>2000-03-01</th>\n",
       "      <th>1J</th>\n",
       "      <td>3.459</td>\n",
       "    </tr>\n",
       "    <tr>\n",
       "      <th>2000-04-01</th>\n",
       "      <th>1J</th>\n",
       "      <td>3.612</td>\n",
       "    </tr>\n",
       "    <tr>\n",
       "      <th>2000-05-01</th>\n",
       "      <th>1J</th>\n",
       "      <td>3.721</td>\n",
       "    </tr>\n",
       "    <tr>\n",
       "      <th>2000-06-01</th>\n",
       "      <th>1J</th>\n",
       "      <td>3.738</td>\n",
       "    </tr>\n",
       "    <tr>\n",
       "      <th>2000-07-01</th>\n",
       "      <th>1J</th>\n",
       "      <td>3.901</td>\n",
       "    </tr>\n",
       "    <tr>\n",
       "      <th>2000-08-01</th>\n",
       "      <th>1J</th>\n",
       "      <td>3.843</td>\n",
       "    </tr>\n",
       "    <tr>\n",
       "      <th>2000-09-01</th>\n",
       "      <th>1J</th>\n",
       "      <td>3.633</td>\n",
       "    </tr>\n",
       "    <tr>\n",
       "      <th>2000-10-01</th>\n",
       "      <th>1J</th>\n",
       "      <td>3.598</td>\n",
       "    </tr>\n",
       "    <tr>\n",
       "      <th>2000-11-01</th>\n",
       "      <th>1J</th>\n",
       "      <td>3.607</td>\n",
       "    </tr>\n",
       "    <tr>\n",
       "      <th>2000-12-01</th>\n",
       "      <th>1J</th>\n",
       "      <td>3.277</td>\n",
       "    </tr>\n",
       "    <tr>\n",
       "      <th>1999-02-01</th>\n",
       "      <th>2J</th>\n",
       "      <td>1.491</td>\n",
       "    </tr>\n",
       "    <tr>\n",
       "      <th>1999-03-01</th>\n",
       "      <th>2J</th>\n",
       "      <td>1.554</td>\n",
       "    </tr>\n",
       "    <tr>\n",
       "      <th>1999-04-01</th>\n",
       "      <th>2J</th>\n",
       "      <td>1.376</td>\n",
       "    </tr>\n",
       "    <tr>\n",
       "      <th>1999-05-01</th>\n",
       "      <th>2J</th>\n",
       "      <td>1.410</td>\n",
       "    </tr>\n",
       "    <tr>\n",
       "      <th>1999-06-01</th>\n",
       "      <th>2J</th>\n",
       "      <td>1.929</td>\n",
       "    </tr>\n",
       "    <tr>\n",
       "      <th>1999-07-01</th>\n",
       "      <th>2J</th>\n",
       "      <td>2.092</td>\n",
       "    </tr>\n",
       "    <tr>\n",
       "      <th>1999-08-01</th>\n",
       "      <th>2J</th>\n",
       "      <td>2.204</td>\n",
       "    </tr>\n",
       "    <tr>\n",
       "      <th>1999-09-01</th>\n",
       "      <th>2J</th>\n",
       "      <td>2.527</td>\n",
       "    </tr>\n",
       "    <tr>\n",
       "      <th>1999-10-01</th>\n",
       "      <th>2J</th>\n",
       "      <td>2.991</td>\n",
       "    </tr>\n",
       "    <tr>\n",
       "      <th>1999-11-01</th>\n",
       "      <th>2J</th>\n",
       "      <td>2.834</td>\n",
       "    </tr>\n",
       "    <tr>\n",
       "      <th>1999-12-01</th>\n",
       "      <th>2J</th>\n",
       "      <td>2.539</td>\n",
       "    </tr>\n",
       "    <tr>\n",
       "      <th>2000-02-01</th>\n",
       "      <th>2J</th>\n",
       "      <td>3.250</td>\n",
       "    </tr>\n",
       "    <tr>\n",
       "      <th>2000-03-01</th>\n",
       "      <th>2J</th>\n",
       "      <td>3.637</td>\n",
       "    </tr>\n",
       "    <tr>\n",
       "      <th>2000-04-01</th>\n",
       "      <th>2J</th>\n",
       "      <td>3.765</td>\n",
       "    </tr>\n",
       "    <tr>\n",
       "      <th>2000-05-01</th>\n",
       "      <th>2J</th>\n",
       "      <td>3.879</td>\n",
       "    </tr>\n",
       "    <tr>\n",
       "      <th>2000-06-01</th>\n",
       "      <th>2J</th>\n",
       "      <td>3.800</td>\n",
       "    </tr>\n",
       "    <tr>\n",
       "      <th>2000-07-01</th>\n",
       "      <th>2J</th>\n",
       "      <td>3.943</td>\n",
       "    </tr>\n",
       "    <tr>\n",
       "      <th>2000-08-01</th>\n",
       "      <th>2J</th>\n",
       "      <td>3.804</td>\n",
       "    </tr>\n",
       "    <tr>\n",
       "      <th>2000-09-01</th>\n",
       "      <th>2J</th>\n",
       "      <td>3.615</td>\n",
       "    </tr>\n",
       "    <tr>\n",
       "      <th>2000-10-01</th>\n",
       "      <th>2J</th>\n",
       "      <td>3.578</td>\n",
       "    </tr>\n",
       "    <tr>\n",
       "      <th>2000-11-01</th>\n",
       "      <th>2J</th>\n",
       "      <td>3.614</td>\n",
       "    </tr>\n",
       "    <tr>\n",
       "      <th>2000-12-01</th>\n",
       "      <th>2J</th>\n",
       "      <td>3.232</td>\n",
       "    </tr>\n",
       "  </tbody>\n",
       "</table>\n",
       "</div>"
      ],
      "text/plain": [
       "               Value\n",
       "Date       D0       \n",
       "1999-01-01 1J  1.381\n",
       "           2J  1.568\n",
       "2000-01-01 1J  2.538\n",
       "           2J  2.829\n",
       "1999-02-01 1J  1.293\n",
       "1999-03-01 1J  1.375\n",
       "1999-04-01 1J  1.171\n",
       "1999-05-01 1J  1.170\n",
       "1999-06-01 1J  1.588\n",
       "1999-07-01 1J  1.676\n",
       "1999-08-01 1J  1.720\n",
       "1999-09-01 1J  2.110\n",
       "1999-10-01 1J  2.536\n",
       "1999-11-01 1J  2.435\n",
       "1999-12-01 1J  2.170\n",
       "2000-02-01 1J  2.984\n",
       "2000-03-01 1J  3.459\n",
       "2000-04-01 1J  3.612\n",
       "2000-05-01 1J  3.721\n",
       "2000-06-01 1J  3.738\n",
       "2000-07-01 1J  3.901\n",
       "2000-08-01 1J  3.843\n",
       "2000-09-01 1J  3.633\n",
       "2000-10-01 1J  3.598\n",
       "2000-11-01 1J  3.607\n",
       "2000-12-01 1J  3.277\n",
       "1999-02-01 2J  1.491\n",
       "1999-03-01 2J  1.554\n",
       "1999-04-01 2J  1.376\n",
       "1999-05-01 2J  1.410\n",
       "1999-06-01 2J  1.929\n",
       "1999-07-01 2J  2.092\n",
       "1999-08-01 2J  2.204\n",
       "1999-09-01 2J  2.527\n",
       "1999-10-01 2J  2.991\n",
       "1999-11-01 2J  2.834\n",
       "1999-12-01 2J  2.539\n",
       "2000-02-01 2J  3.250\n",
       "2000-03-01 2J  3.637\n",
       "2000-04-01 2J  3.765\n",
       "2000-05-01 2J  3.879\n",
       "2000-06-01 2J  3.800\n",
       "2000-07-01 2J  3.943\n",
       "2000-08-01 2J  3.804\n",
       "2000-09-01 2J  3.615\n",
       "2000-10-01 2J  3.578\n",
       "2000-11-01 2J  3.614\n",
       "2000-12-01 2J  3.232"
      ]
     },
     "execution_count": 22,
     "metadata": {},
     "output_type": "execute_result"
    }
   ],
   "source": [
    "df_indexed.loc[(['1999', '2000'], ['1J', '2J']), :]"
   ]
  },
  {
   "cell_type": "markdown",
   "metadata": {
    "id": "oLRNK6699sjf"
   },
   "source": [
    "Plotting also becomes easier, because pandas by default assumes that the index should be on the x-axis. (Though we do need, in this case, to drop the second level from the index with `reset_index(1)`)\n",
    "<br><br>\n",
    "\n",
    "\n",
    "\n",
    "- `reset_index` -> use the default index. \n",
    "<br>we created an additional level of index when we `set_index`,  when we `reset_index` -> back to the original level"
   ]
  },
  {
   "cell_type": "code",
   "execution_count": null,
   "metadata": {
    "colab": {
     "base_uri": "https://localhost:8080/",
     "height": 445
    },
    "executionInfo": {
     "elapsed": 634,
     "status": "ok",
     "timestamp": 1708524493884,
     "user": {
      "displayName": "Adriano Persegani",
      "userId": "17739764701888244413"
     },
     "user_tz": -60
    },
    "id": "4RPWuKSj9sjf",
    "outputId": "d12f725e-6569-4f2f-af61-5ea39c01f815",
    "tags": []
   },
   "outputs": [
    {
     "data": {
      "image/png": "[encoded data removed]",
      "text/plain": [
       "<Figure size 640x480 with 1 Axes>"
      ]
     },
     "metadata": {},
     "output_type": "display_data"
    }
   ],
   "source": [
    "df_indexed.loc[(slice(None), '1J'), :].reset_index(1).plot(label='1Y yield');       # reset -> neat xlabel"
   ]
  },
  {
   "cell_type": "code",
   "execution_count": 26,
   "metadata": {},
   "outputs": [
    {
     "data": {
      "image/png": "[encoded data removed]",
      "text/plain": [
       "<Figure size 640x480 with 1 Axes>"
      ]
     },
     "metadata": {},
     "output_type": "display_data"
    }
   ],
   "source": [
    "# what happened if we don't reset?\n",
    "df_indexed.loc[(slice(None), '1J'), :].plot(label='1Y yield');\n",
    "\n",
    "# the xlabel will squeeze up together"
   ]
  },
  {
   "cell_type": "markdown",
   "metadata": {
    "id": "JbHIxiZx9sjf"
   },
   "source": [
    "And we can do things like get yields on 1 and 2-year bonds from Nov 1999 to Feb 2000."
   ]
  },
  {
   "cell_type": "code",
   "execution_count": null,
   "metadata": {
    "colab": {
     "base_uri": "https://localhost:8080/",
     "height": 331
    },
    "executionInfo": {
     "elapsed": 3,
     "status": "ok",
     "timestamp": 1708524495025,
     "user": {
      "displayName": "Adriano Persegani",
      "userId": "17739764701888244413"
     },
     "user_tz": -60
    },
    "id": "9K80PbjW9sjf",
    "outputId": "89b01a00-bce7-42fe-a4f5-6ad569fe21da",
    "tags": []
   },
   "outputs": [
    {
     "data": {
      "application/vnd.google.colaboratory.intrinsic+json": {
       "summary": "{\n  \"name\": \"df_indexed\",\n  \"rows\": 8,\n  \"fields\": [\n    {\n      \"column\": \"Value\",\n      \"properties\": {\n        \"dtype\": \"number\",\n        \"std\": 0.34246749063649407,\n        \"min\": 2.17,\n        \"max\": 3.25,\n        \"num_unique_values\": 8,\n        \"samples\": [\n          2.834,\n          2.829,\n          2.435\n        ],\n        \"semantic_type\": \"\",\n        \"description\": \"\"\n      }\n    }\n  ]\n}",
       "type": "dataframe"
      },
      "text/html": [
       "\n",
       "  <div id=\"df-ab0ab9bf-d9b8-4e8e-96f4-3e99418248d3\" class=\"colab-df-container\">\n",
       "    <div>\n",
       "<style scoped>\n",
       "    .dataframe tbody tr th:only-of-type {\n",
       "        vertical-align: middle;\n",
       "    }\n",
       "\n",
       "    .dataframe tbody tr th {\n",
       "        vertical-align: top;\n",
       "    }\n",
       "\n",
       "    .dataframe thead th {\n",
       "        text-align: right;\n",
       "    }\n",
       "</style>\n",
       "<table border=\"1\" class=\"dataframe\">\n",
       "  <thead>\n",
       "    <tr style=\"text-align: right;\">\n",
       "      <th></th>\n",
       "      <th></th>\n",
       "      <th>Value</th>\n",
       "    </tr>\n",
       "    <tr>\n",
       "      <th>Date</th>\n",
       "      <th>D0</th>\n",
       "      <th></th>\n",
       "    </tr>\n",
       "  </thead>\n",
       "  <tbody>\n",
       "    <tr>\n",
       "      <th rowspan=\"2\" valign=\"top\">1999-11-01</th>\n",
       "      <th>1J</th>\n",
       "      <td>2.435</td>\n",
       "    </tr>\n",
       "    <tr>\n",
       "      <th>2J</th>\n",
       "      <td>2.834</td>\n",
       "    </tr>\n",
       "    <tr>\n",
       "      <th rowspan=\"2\" valign=\"top\">1999-12-01</th>\n",
       "      <th>1J</th>\n",
       "      <td>2.170</td>\n",
       "    </tr>\n",
       "    <tr>\n",
       "      <th>2J</th>\n",
       "      <td>2.539</td>\n",
       "    </tr>\n",
       "    <tr>\n",
       "      <th rowspan=\"2\" valign=\"top\">2000-01-01</th>\n",
       "      <th>1J</th>\n",
       "      <td>2.538</td>\n",
       "    </tr>\n",
       "    <tr>\n",
       "      <th>2J</th>\n",
       "      <td>2.829</td>\n",
       "    </tr>\n",
       "    <tr>\n",
       "      <th rowspan=\"2\" valign=\"top\">2000-02-01</th>\n",
       "      <th>1J</th>\n",
       "      <td>2.984</td>\n",
       "    </tr>\n",
       "    <tr>\n",
       "      <th>2J</th>\n",
       "      <td>3.250</td>\n",
       "    </tr>\n",
       "  </tbody>\n",
       "</table>\n",
       "</div>\n",
       "    <div class=\"colab-df-buttons\">\n",
       "\n",
       "  <div class=\"colab-df-container\">\n",
       "    <button class=\"colab-df-convert\" onclick=\"convertToInteractive('df-ab0ab9bf-d9b8-4e8e-96f4-3e99418248d3')\"\n",
       "            title=\"Convert this dataframe to an interactive table.\"\n",
       "            style=\"display:none;\">\n",
       "\n",
       "  <svg xmlns=\"http://www.w3.org/2000/svg\" height=\"24px\" viewBox=\"0 -960 960 960\">\n",
       "    <path d=\"M120-120v-720h720v720H120Zm60-500h600v-160H180v160Zm220 220h160v-160H400v160Zm0 220h160v-160H400v160ZM180-400h160v-160H180v160Zm440 0h160v-160H620v160ZM180-180h160v-160H180v160Zm440 0h160v-160H620v160Z\"/>\n",
       "  </svg>\n",
       "    </button>\n",
       "\n",
       "  <style>\n",
       "    .colab-df-container {\n",
       "      display:flex;\n",
       "      gap: 12px;\n",
       "    }\n",
       "\n",
       "    .colab-df-convert {\n",
       "      background-color: #E8F0FE;\n",
       "      border: none;\n",
       "      border-radius: 50%;\n",
       "      cursor: pointer;\n",
       "      display: none;\n",
       "      fill: #1967D2;\n",
       "      height: 32px;\n",
       "      padding: 0 0 0 0;\n",
       "      width: 32px;\n",
       "    }\n",
       "\n",
       "    .colab-df-convert:hover {\n",
       "      background-color: #E2EBFA;\n",
       "      box-shadow: 0px 1px 2px rgba(60, 64, 67, 0.3), 0px 1px 3px 1px rgba(60, 64, 67, 0.15);\n",
       "      fill: #174EA6;\n",
       "    }\n",
       "\n",
       "    .colab-df-buttons div {\n",
       "      margin-bottom: 4px;\n",
       "    }\n",
       "\n",
       "    [theme=dark] .colab-df-convert {\n",
       "      background-color: #3B4455;\n",
       "      fill: #D2E3FC;\n",
       "    }\n",
       "\n",
       "    [theme=dark] .colab-df-convert:hover {\n",
       "      background-color: #434B5C;\n",
       "      box-shadow: 0px 1px 3px 1px rgba(0, 0, 0, 0.15);\n",
       "      filter: drop-shadow(0px 1px 2px rgba(0, 0, 0, 0.3));\n",
       "      fill: #FFFFFF;\n",
       "    }\n",
       "  </style>\n",
       "\n",
       "    <script>\n",
       "      const buttonEl =\n",
       "        document.querySelector('#df-ab0ab9bf-d9b8-4e8e-96f4-3e99418248d3 button.colab-df-convert');\n",
       "      buttonEl.style.display =\n",
       "        google.colab.kernel.accessAllowed ? 'block' : 'none';\n",
       "\n",
       "      async function convertToInteractive(key) {\n",
       "        const element = document.querySelector('#df-ab0ab9bf-d9b8-4e8e-96f4-3e99418248d3');\n",
       "        const dataTable =\n",
       "          await google.colab.kernel.invokeFunction('convertToInteractive',\n",
       "                                                    [key], {});\n",
       "        if (!dataTable) return;\n",
       "\n",
       "        const docLinkHtml = 'Like what you see? Visit the ' +\n",
       "          '<a target=\"_blank\" href=https://colab.research.google.com/notebooks/data_table.ipynb>data table notebook</a>'\n",
       "          + ' to learn more about interactive tables.';\n",
       "        element.innerHTML = '';\n",
       "        dataTable['output_type'] = 'display_data';\n",
       "        await google.colab.output.renderOutput(dataTable, element);\n",
       "        const docLink = document.createElement('div');\n",
       "        docLink.innerHTML = docLinkHtml;\n",
       "        element.appendChild(docLink);\n",
       "      }\n",
       "    </script>\n",
       "  </div>\n",
       "\n",
       "\n",
       "<div id=\"df-81de6d53-200b-4b6d-9a7e-615ddf8dcefa\">\n",
       "  <button class=\"colab-df-quickchart\" onclick=\"quickchart('df-81de6d53-200b-4b6d-9a7e-615ddf8dcefa')\"\n",
       "            title=\"Suggest charts\"\n",
       "            style=\"display:none;\">\n",
       "\n",
       "<svg xmlns=\"http://www.w3.org/2000/svg\" height=\"24px\"viewBox=\"0 0 24 24\"\n",
       "     width=\"24px\">\n",
       "    <g>\n",
       "        <path d=\"M19 3H5c-1.1 0-2 .9-2 2v14c0 1.1.9 2 2 2h14c1.1 0 2-.9 2-2V5c0-1.1-.9-2-2-2zM9 17H7v-7h2v7zm4 0h-2V7h2v10zm4 0h-2v-4h2v4z\"/>\n",
       "    </g>\n",
       "</svg>\n",
       "  </button>\n",
       "\n",
       "<style>\n",
       "  .colab-df-quickchart {\n",
       "      --bg-color: #E8F0FE;\n",
       "      --fill-color: #1967D2;\n",
       "      --hover-bg-color: #E2EBFA;\n",
       "      --hover-fill-color: #174EA6;\n",
       "      --disabled-fill-color: #AAA;\n",
       "      --disabled-bg-color: #DDD;\n",
       "  }\n",
       "\n",
       "  [theme=dark] .colab-df-quickchart {\n",
       "      --bg-color: #3B4455;\n",
       "      --fill-color: #D2E3FC;\n",
       "      --hover-bg-color: #434B5C;\n",
       "      --hover-fill-color: #FFFFFF;\n",
       "      --disabled-bg-color: #3B4455;\n",
       "      --disabled-fill-color: #666;\n",
       "  }\n",
       "\n",
       "  .colab-df-quickchart {\n",
       "    background-color: var(--bg-color);\n",
       "    border: none;\n",
       "    border-radius: 50%;\n",
       "    cursor: pointer;\n",
       "    display: none;\n",
       "    fill: var(--fill-color);\n",
       "    height: 32px;\n",
       "    padding: 0;\n",
       "    width: 32px;\n",
       "  }\n",
       "\n",
       "  .colab-df-quickchart:hover {\n",
       "    background-color: var(--hover-bg-color);\n",
       "    box-shadow: 0 1px 2px rgba(60, 64, 67, 0.3), 0 1px 3px 1px rgba(60, 64, 67, 0.15);\n",
       "    fill: var(--button-hover-fill-color);\n",
       "  }\n",
       "\n",
       "  .colab-df-quickchart-complete:disabled,\n",
       "  .colab-df-quickchart-complete:disabled:hover {\n",
       "    background-color: var(--disabled-bg-color);\n",
       "    fill: var(--disabled-fill-color);\n",
       "    box-shadow: none;\n",
       "  }\n",
       "\n",
       "  .colab-df-spinner {\n",
       "    border: 2px solid var(--fill-color);\n",
       "    border-color: transparent;\n",
       "    border-bottom-color: var(--fill-color);\n",
       "    animation:\n",
       "      spin 1s steps(1) infinite;\n",
       "  }\n",
       "\n",
       "  @keyframes spin {\n",
       "    0% {\n",
       "      border-color: transparent;\n",
       "      border-bottom-color: var(--fill-color);\n",
       "      border-left-color: var(--fill-color);\n",
       "    }\n",
       "    20% {\n",
       "      border-color: transparent;\n",
       "      border-left-color: var(--fill-color);\n",
       "      border-top-color: var(--fill-color);\n",
       "    }\n",
       "    30% {\n",
       "      border-color: transparent;\n",
       "      border-left-color: var(--fill-color);\n",
       "      border-top-color: var(--fill-color);\n",
       "      border-right-color: var(--fill-color);\n",
       "    }\n",
       "    40% {\n",
       "      border-color: transparent;\n",
       "      border-right-color: var(--fill-color);\n",
       "      border-top-color: var(--fill-color);\n",
       "    }\n",
       "    60% {\n",
       "      border-color: transparent;\n",
       "      border-right-color: var(--fill-color);\n",
       "    }\n",
       "    80% {\n",
       "      border-color: transparent;\n",
       "      border-right-color: var(--fill-color);\n",
       "      border-bottom-color: var(--fill-color);\n",
       "    }\n",
       "    90% {\n",
       "      border-color: transparent;\n",
       "      border-bottom-color: var(--fill-color);\n",
       "    }\n",
       "  }\n",
       "</style>\n",
       "\n",
       "  <script>\n",
       "    async function quickchart(key) {\n",
       "      const quickchartButtonEl =\n",
       "        document.querySelector('#' + key + ' button');\n",
       "      quickchartButtonEl.disabled = true;  // To prevent multiple clicks.\n",
       "      quickchartButtonEl.classList.add('colab-df-spinner');\n",
       "      try {\n",
       "        const charts = await google.colab.kernel.invokeFunction(\n",
       "            'suggestCharts', [key], {});\n",
       "      } catch (error) {\n",
       "        console.error('Error during call to suggestCharts:', error);\n",
       "      }\n",
       "      quickchartButtonEl.classList.remove('colab-df-spinner');\n",
       "      quickchartButtonEl.classList.add('colab-df-quickchart-complete');\n",
       "    }\n",
       "    (() => {\n",
       "      let quickchartButtonEl =\n",
       "        document.querySelector('#df-81de6d53-200b-4b6d-9a7e-615ddf8dcefa button');\n",
       "      quickchartButtonEl.style.display =\n",
       "        google.colab.kernel.accessAllowed ? 'block' : 'none';\n",
       "    })();\n",
       "  </script>\n",
       "</div>\n",
       "    </div>\n",
       "  </div>\n"
      ],
      "text/plain": [
       "               Value\n",
       "Date       D0       \n",
       "1999-11-01 1J  2.435\n",
       "           2J  2.834\n",
       "1999-12-01 1J  2.170\n",
       "           2J  2.539\n",
       "2000-01-01 1J  2.538\n",
       "           2J  2.829\n",
       "2000-02-01 1J  2.984\n",
       "           2J  3.250"
      ]
     },
     "execution_count": 19,
     "metadata": {},
     "output_type": "execute_result"
    }
   ],
   "source": [
    "df_indexed.loc[(slice('1999-11', '2000-02'), ['1J', '2J']), :]"
   ]
  },
  {
   "cell_type": "markdown",
   "metadata": {
    "id": "tMCNhnVX9sjf"
   },
   "source": [
    "# subplots vs plot"
   ]
  },
  {
   "cell_type": "markdown",
   "metadata": {
    "id": "kPxc7Hv99sjf"
   },
   "source": [
    "There are multiple ways to plot. We can use matplotlib alone, pandas alone, or a mix. Let us convert our frame into a wide-form frame, since this will be easier to work with."
   ]
  },
  {
   "cell_type": "code",
   "execution_count": null,
   "metadata": {
    "colab": {
     "base_uri": "https://localhost:8080/",
     "height": 237
    },
    "executionInfo": {
     "elapsed": 289,
     "status": "ok",
     "timestamp": 1708524497298,
     "user": {
      "displayName": "Adriano Persegani",
      "userId": "17739764701888244413"
     },
     "user_tz": -60
    },
    "id": "Gl-iL-TI9sjf",
    "outputId": "98893d1f-fa05-4186-88c0-e4703a60b0ec",
    "tags": []
   },
   "outputs": [
    {
     "data": {
      "application/vnd.google.colaboratory.intrinsic+json": {
       "summary": "{\n  \"name\": \"df_wide\",\n  \"rows\": 352,\n  \"fields\": [\n    {\n      \"column\": \"10J\",\n      \"properties\": {\n        \"dtype\": \"number\",\n        \"std\": 1.8491025865306816,\n        \"min\": -0.54332497,\n        \"max\": 6.924,\n        \"num_unique_values\": 345,\n        \"samples\": [\n          2.825,\n          3.556,\n          2.702\n        ],\n        \"semantic_type\": \"\",\n        \"description\": \"\"\n      }\n    },\n    {\n      \"column\": \"1J\",\n      \"properties\": {\n        \"dtype\": \"number\",\n        \"std\": 2.5307753559383133,\n        \"min\": -0.97926764,\n        \"max\": 9.093,\n        \"num_unique_values\": 336,\n        \"samples\": [\n          3.653,\n          1.287,\n          0.08511609\n        ],\n        \"semantic_type\": \"\",\n        \"description\": \"\"\n      }\n    },\n    {\n      \"column\": \"20J\",\n      \"properties\": {\n        \"dtype\": \"number\",\n        \"std\": 1.7425376586156074,\n        \"min\": -0.19847567,\n        \"max\": 6.93,\n        \"num_unique_values\": 346,\n        \"samples\": [\n          4.441,\n          3.954,\n          1.396\n        ],\n        \"semantic_type\": \"\",\n        \"description\": \"\"\n      }\n    },\n    {\n      \"column\": \"2J\",\n      \"properties\": {\n        \"dtype\": \"number\",\n        \"std\": 2.2903894315595563,\n        \"min\": -1.04848012,\n        \"max\": 7.831,\n        \"num_unique_values\": 346,\n        \"samples\": [\n          1.98,\n          3.1630000000000003,\n          0.055\n        ],\n        \"semantic_type\": \"\",\n        \"description\": \"\"\n      }\n    },\n    {\n      \"column\": \"30J\",\n      \"properties\": {\n        \"dtype\": \"number\",\n        \"std\": 1.3849336147386782,\n        \"min\": -0.07516839,\n        \"max\": 4.792,\n        \"num_unique_values\": 228,\n        \"samples\": [\n          0.27468289,\n          3.786,\n          4.281000000000001\n        ],\n        \"semantic_type\": \"\",\n        \"description\": \"\"\n      }\n    },\n    {\n      \"column\": \"3J\",\n      \"properties\": {\n        \"dtype\": \"number\",\n        \"std\": 2.164655442098091,\n        \"min\": -1.09468249,\n        \"max\": 7.31,\n        \"num_unique_values\": 342,\n        \"samples\": [\n          2.55,\n          2.491,\n          2.019\n        ],\n        \"semantic_type\": \"\",\n        \"description\": \"\"\n      }\n    },\n    {\n      \"column\": \"4J\",\n      \"properties\": {\n        \"dtype\": \"number\",\n        \"std\": 2.085651872656436,\n        \"min\": -1.06981917,\n        \"max\": 7.143,\n        \"num_unique_values\": 347,\n        \"samples\": [\n          -0.54191391,\n          2.574,\n          -0.64530708\n        ],\n        \"semantic_type\": \"\",\n        \"description\": \"\"\n      }\n    },\n    {\n      \"column\": \"5J\",\n      \"properties\": {\n        \"dtype\": \"number\",\n        \"std\": 2.025741617081875,\n        \"min\": -0.98161871,\n        \"max\": 7.047999999999999,\n        \"num_unique_values\": 346,\n        \"samples\": [\n          2.8110000000000004,\n          3.067,\n          0.3929999999999999\n        ],\n        \"semantic_type\": \"\",\n        \"description\": \"\"\n      }\n    },\n    {\n      \"column\": \"6J\",\n      \"properties\": {\n        \"dtype\": \"number\",\n        \"std\": 1.9768050279732814,\n        \"min\": -0.87239367,\n        \"max\": 7.004,\n        \"num_unique_values\": 344,\n        \"samples\": [\n          2.543,\n          3.284,\n          2.57\n        ],\n        \"semantic_type\": \"\",\n        \"description\": \"\"\n      }\n    },\n    {\n      \"column\": \"7J\",\n      \"properties\": {\n        \"dtype\": \"number\",\n        \"std\": 1.9360053743208145,\n        \"min\": -0.76422715,\n        \"max\": 6.975,\n        \"num_unique_values\": 347,\n        \"samples\": [\n          -0.19754459,\n          3.24,\n          -0.33214397\n        ],\n        \"semantic_type\": \"\",\n        \"description\": \"\"\n      }\n    },\n    {\n      \"column\": \"8J\",\n      \"properties\": {\n        \"dtype\": \"number\",\n        \"std\": 1.9018022846888727,\n        \"min\": -0.67996075,\n        \"max\": 6.952999999999999,\n        \"num_unique_values\": 340,\n        \"samples\": [\n          0.387,\n          3.1710000000000003,\n          3.414\n        ],\n        \"semantic_type\": \"\",\n        \"description\": \"\"\n      }\n    },\n    {\n      \"column\": \"9J\",\n      \"properties\": {\n        \"dtype\": \"number\",\n        \"std\": 1.8731556976916892,\n        \"min\": -0.6077844,\n        \"max\": 6.937,\n        \"num_unique_values\": 345,\n        \"samples\": [\n          2.854,\n          3.322,\n          2.678\n        ],\n        \"semantic_type\": \"\",\n        \"description\": \"\"\n      }\n    }\n  ]\n}",
       "type": "dataframe",
       "variable_name": "df_wide"
      },
      "text/html": [
       "\n",
       "  <div id=\"df-674a626b-aca6-4fab-86cf-94a2f3f6c547\" class=\"colab-df-container\">\n",
       "    <div>\n",
       "<style scoped>\n",
       "    .dataframe tbody tr th:only-of-type {\n",
       "        vertical-align: middle;\n",
       "    }\n",
       "\n",
       "    .dataframe tbody tr th {\n",
       "        vertical-align: top;\n",
       "    }\n",
       "\n",
       "    .dataframe thead th {\n",
       "        text-align: right;\n",
       "    }\n",
       "</style>\n",
       "<table border=\"1\" class=\"dataframe\">\n",
       "  <thead>\n",
       "    <tr style=\"text-align: right;\">\n",
       "      <th>D0</th>\n",
       "      <th>10J</th>\n",
       "      <th>1J</th>\n",
       "      <th>20J</th>\n",
       "      <th>2J</th>\n",
       "      <th>30J</th>\n",
       "      <th>3J</th>\n",
       "      <th>4J</th>\n",
       "      <th>5J</th>\n",
       "      <th>6J</th>\n",
       "      <th>7J</th>\n",
       "      <th>8J</th>\n",
       "      <th>9J</th>\n",
       "    </tr>\n",
       "    <tr>\n",
       "      <th>Date</th>\n",
       "      <th></th>\n",
       "      <th></th>\n",
       "      <th></th>\n",
       "      <th></th>\n",
       "      <th></th>\n",
       "      <th></th>\n",
       "      <th></th>\n",
       "      <th></th>\n",
       "      <th></th>\n",
       "      <th></th>\n",
       "      <th></th>\n",
       "      <th></th>\n",
       "    </tr>\n",
       "  </thead>\n",
       "  <tbody>\n",
       "    <tr>\n",
       "      <th>1988-01-01</th>\n",
       "      <td>4.092</td>\n",
       "      <td>2.887</td>\n",
       "      <td>4.326</td>\n",
       "      <td>3.218</td>\n",
       "      <td>NaN</td>\n",
       "      <td>3.393</td>\n",
       "      <td>3.554</td>\n",
       "      <td>3.695</td>\n",
       "      <td>3.810</td>\n",
       "      <td>3.904</td>\n",
       "      <td>3.980</td>\n",
       "      <td>4.041</td>\n",
       "    </tr>\n",
       "    <tr>\n",
       "      <th>1988-02-01</th>\n",
       "      <td>4.098</td>\n",
       "      <td>2.638</td>\n",
       "      <td>4.332</td>\n",
       "      <td>2.990</td>\n",
       "      <td>NaN</td>\n",
       "      <td>3.271</td>\n",
       "      <td>3.498</td>\n",
       "      <td>3.672</td>\n",
       "      <td>3.804</td>\n",
       "      <td>3.905</td>\n",
       "      <td>3.984</td>\n",
       "      <td>4.047</td>\n",
       "    </tr>\n",
       "    <tr>\n",
       "      <th>1988-03-01</th>\n",
       "      <td>3.998</td>\n",
       "      <td>2.641</td>\n",
       "      <td>4.255</td>\n",
       "      <td>3.263</td>\n",
       "      <td>NaN</td>\n",
       "      <td>3.573</td>\n",
       "      <td>3.734</td>\n",
       "      <td>3.823</td>\n",
       "      <td>3.878</td>\n",
       "      <td>3.916</td>\n",
       "      <td>3.946</td>\n",
       "      <td>3.972</td>\n",
       "    </tr>\n",
       "    <tr>\n",
       "      <th>1988-04-01</th>\n",
       "      <td>3.965</td>\n",
       "      <td>2.800</td>\n",
       "      <td>4.200</td>\n",
       "      <td>3.250</td>\n",
       "      <td>NaN</td>\n",
       "      <td>3.467</td>\n",
       "      <td>3.594</td>\n",
       "      <td>3.684</td>\n",
       "      <td>3.757</td>\n",
       "      <td>3.819</td>\n",
       "      <td>3.874</td>\n",
       "      <td>3.923</td>\n",
       "    </tr>\n",
       "    <tr>\n",
       "      <th>1988-05-01</th>\n",
       "      <td>4.127</td>\n",
       "      <td>3.191</td>\n",
       "      <td>4.247</td>\n",
       "      <td>3.602</td>\n",
       "      <td>NaN</td>\n",
       "      <td>3.802</td>\n",
       "      <td>3.909</td>\n",
       "      <td>3.974</td>\n",
       "      <td>4.019</td>\n",
       "      <td>4.054</td>\n",
       "      <td>4.082</td>\n",
       "      <td>4.106</td>\n",
       "    </tr>\n",
       "  </tbody>\n",
       "</table>\n",
       "</div>\n",
       "    <div class=\"colab-df-buttons\">\n",
       "\n",
       "  <div class=\"colab-df-container\">\n",
       "    <button class=\"colab-df-convert\" onclick=\"convertToInteractive('df-674a626b-aca6-4fab-86cf-94a2f3f6c547')\"\n",
       "            title=\"Convert this dataframe to an interactive table.\"\n",
       "            style=\"display:none;\">\n",
       "\n",
       "  <svg xmlns=\"http://www.w3.org/2000/svg\" height=\"24px\" viewBox=\"0 -960 960 960\">\n",
       "    <path d=\"M120-120v-720h720v720H120Zm60-500h600v-160H180v160Zm220 220h160v-160H400v160Zm0 220h160v-160H400v160ZM180-400h160v-160H180v160Zm440 0h160v-160H620v160ZM180-180h160v-160H180v160Zm440 0h160v-160H620v160Z\"/>\n",
       "  </svg>\n",
       "    </button>\n",
       "\n",
       "  <style>\n",
       "    .colab-df-container {\n",
       "      display:flex;\n",
       "      gap: 12px;\n",
       "    }\n",
       "\n",
       "    .colab-df-convert {\n",
       "      background-color: #E8F0FE;\n",
       "      border: none;\n",
       "      border-radius: 50%;\n",
       "      cursor: pointer;\n",
       "      display: none;\n",
       "      fill: #1967D2;\n",
       "      height: 32px;\n",
       "      padding: 0 0 0 0;\n",
       "      width: 32px;\n",
       "    }\n",
       "\n",
       "    .colab-df-convert:hover {\n",
       "      background-color: #E2EBFA;\n",
       "      box-shadow: 0px 1px 2px rgba(60, 64, 67, 0.3), 0px 1px 3px 1px rgba(60, 64, 67, 0.15);\n",
       "      fill: #174EA6;\n",
       "    }\n",
       "\n",
       "    .colab-df-buttons div {\n",
       "      margin-bottom: 4px;\n",
       "    }\n",
       "\n",
       "    [theme=dark] .colab-df-convert {\n",
       "      background-color: #3B4455;\n",
       "      fill: #D2E3FC;\n",
       "    }\n",
       "\n",
       "    [theme=dark] .colab-df-convert:hover {\n",
       "      background-color: #434B5C;\n",
       "      box-shadow: 0px 1px 3px 1px rgba(0, 0, 0, 0.15);\n",
       "      filter: drop-shadow(0px 1px 2px rgba(0, 0, 0, 0.3));\n",
       "      fill: #FFFFFF;\n",
       "    }\n",
       "  </style>\n",
       "\n",
       "    <script>\n",
       "      const buttonEl =\n",
       "        document.querySelector('#df-674a626b-aca6-4fab-86cf-94a2f3f6c547 button.colab-df-convert');\n",
       "      buttonEl.style.display =\n",
       "        google.colab.kernel.accessAllowed ? 'block' : 'none';\n",
       "\n",
       "      async function convertToInteractive(key) {\n",
       "        const element = document.querySelector('#df-674a626b-aca6-4fab-86cf-94a2f3f6c547');\n",
       "        const dataTable =\n",
       "          await google.colab.kernel.invokeFunction('convertToInteractive',\n",
       "                                                    [key], {});\n",
       "        if (!dataTable) return;\n",
       "\n",
       "        const docLinkHtml = 'Like what you see? Visit the ' +\n",
       "          '<a target=\"_blank\" href=https://colab.research.google.com/notebooks/data_table.ipynb>data table notebook</a>'\n",
       "          + ' to learn more about interactive tables.';\n",
       "        element.innerHTML = '';\n",
       "        dataTable['output_type'] = 'display_data';\n",
       "        await google.colab.output.renderOutput(dataTable, element);\n",
       "        const docLink = document.createElement('div');\n",
       "        docLink.innerHTML = docLinkHtml;\n",
       "        element.appendChild(docLink);\n",
       "      }\n",
       "    </script>\n",
       "  </div>\n",
       "\n",
       "\n",
       "<div id=\"df-b14464ef-a285-4a34-810f-91542552bdf9\">\n",
       "  <button class=\"colab-df-quickchart\" onclick=\"quickchart('df-b14464ef-a285-4a34-810f-91542552bdf9')\"\n",
       "            title=\"Suggest charts\"\n",
       "            style=\"display:none;\">\n",
       "\n",
       "<svg xmlns=\"http://www.w3.org/2000/svg\" height=\"24px\"viewBox=\"0 0 24 24\"\n",
       "     width=\"24px\">\n",
       "    <g>\n",
       "        <path d=\"M19 3H5c-1.1 0-2 .9-2 2v14c0 1.1.9 2 2 2h14c1.1 0 2-.9 2-2V5c0-1.1-.9-2-2-2zM9 17H7v-7h2v7zm4 0h-2V7h2v10zm4 0h-2v-4h2v4z\"/>\n",
       "    </g>\n",
       "</svg>\n",
       "  </button>\n",
       "\n",
       "<style>\n",
       "  .colab-df-quickchart {\n",
       "      --bg-color: #E8F0FE;\n",
       "      --fill-color: #1967D2;\n",
       "      --hover-bg-color: #E2EBFA;\n",
       "      --hover-fill-color: #174EA6;\n",
       "      --disabled-fill-color: #AAA;\n",
       "      --disabled-bg-color: #DDD;\n",
       "  }\n",
       "\n",
       "  [theme=dark] .colab-df-quickchart {\n",
       "      --bg-color: #3B4455;\n",
       "      --fill-color: #D2E3FC;\n",
       "      --hover-bg-color: #434B5C;\n",
       "      --hover-fill-color: #FFFFFF;\n",
       "      --disabled-bg-color: #3B4455;\n",
       "      --disabled-fill-color: #666;\n",
       "  }\n",
       "\n",
       "  .colab-df-quickchart {\n",
       "    background-color: var(--bg-color);\n",
       "    border: none;\n",
       "    border-radius: 50%;\n",
       "    cursor: pointer;\n",
       "    display: none;\n",
       "    fill: var(--fill-color);\n",
       "    height: 32px;\n",
       "    padding: 0;\n",
       "    width: 32px;\n",
       "  }\n",
       "\n",
       "  .colab-df-quickchart:hover {\n",
       "    background-color: var(--hover-bg-color);\n",
       "    box-shadow: 0 1px 2px rgba(60, 64, 67, 0.3), 0 1px 3px 1px rgba(60, 64, 67, 0.15);\n",
       "    fill: var(--button-hover-fill-color);\n",
       "  }\n",
       "\n",
       "  .colab-df-quickchart-complete:disabled,\n",
       "  .colab-df-quickchart-complete:disabled:hover {\n",
       "    background-color: var(--disabled-bg-color);\n",
       "    fill: var(--disabled-fill-color);\n",
       "    box-shadow: none;\n",
       "  }\n",
       "\n",
       "  .colab-df-spinner {\n",
       "    border: 2px solid var(--fill-color);\n",
       "    border-color: transparent;\n",
       "    border-bottom-color: var(--fill-color);\n",
       "    animation:\n",
       "      spin 1s steps(1) infinite;\n",
       "  }\n",
       "\n",
       "  @keyframes spin {\n",
       "    0% {\n",
       "      border-color: transparent;\n",
       "      border-bottom-color: var(--fill-color);\n",
       "      border-left-color: var(--fill-color);\n",
       "    }\n",
       "    20% {\n",
       "      border-color: transparent;\n",
       "      border-left-color: var(--fill-color);\n",
       "      border-top-color: var(--fill-color);\n",
       "    }\n",
       "    30% {\n",
       "      border-color: transparent;\n",
       "      border-left-color: var(--fill-color);\n",
       "      border-top-color: var(--fill-color);\n",
       "      border-right-color: var(--fill-color);\n",
       "    }\n",
       "    40% {\n",
       "      border-color: transparent;\n",
       "      border-right-color: var(--fill-color);\n",
       "      border-top-color: var(--fill-color);\n",
       "    }\n",
       "    60% {\n",
       "      border-color: transparent;\n",
       "      border-right-color: var(--fill-color);\n",
       "    }\n",
       "    80% {\n",
       "      border-color: transparent;\n",
       "      border-right-color: var(--fill-color);\n",
       "      border-bottom-color: var(--fill-color);\n",
       "    }\n",
       "    90% {\n",
       "      border-color: transparent;\n",
       "      border-bottom-color: var(--fill-color);\n",
       "    }\n",
       "  }\n",
       "</style>\n",
       "\n",
       "  <script>\n",
       "    async function quickchart(key) {\n",
       "      const quickchartButtonEl =\n",
       "        document.querySelector('#' + key + ' button');\n",
       "      quickchartButtonEl.disabled = true;  // To prevent multiple clicks.\n",
       "      quickchartButtonEl.classList.add('colab-df-spinner');\n",
       "      try {\n",
       "        const charts = await google.colab.kernel.invokeFunction(\n",
       "            'suggestCharts', [key], {});\n",
       "      } catch (error) {\n",
       "        console.error('Error during call to suggestCharts:', error);\n",
       "      }\n",
       "      quickchartButtonEl.classList.remove('colab-df-spinner');\n",
       "      quickchartButtonEl.classList.add('colab-df-quickchart-complete');\n",
       "    }\n",
       "    (() => {\n",
       "      let quickchartButtonEl =\n",
       "        document.querySelector('#df-b14464ef-a285-4a34-810f-91542552bdf9 button');\n",
       "      quickchartButtonEl.style.display =\n",
       "        google.colab.kernel.accessAllowed ? 'block' : 'none';\n",
       "    })();\n",
       "  </script>\n",
       "</div>\n",
       "    </div>\n",
       "  </div>\n"
      ],
      "text/plain": [
       "D0            10J     1J    20J     2J  30J     3J     4J     5J     6J  \\\n",
       "Date                                                                      \n",
       "1988-01-01  4.092  2.887  4.326  3.218  NaN  3.393  3.554  3.695  3.810   \n",
       "1988-02-01  4.098  2.638  4.332  2.990  NaN  3.271  3.498  3.672  3.804   \n",
       "1988-03-01  3.998  2.641  4.255  3.263  NaN  3.573  3.734  3.823  3.878   \n",
       "1988-04-01  3.965  2.800  4.200  3.250  NaN  3.467  3.594  3.684  3.757   \n",
       "1988-05-01  4.127  3.191  4.247  3.602  NaN  3.802  3.909  3.974  4.019   \n",
       "\n",
       "D0             7J     8J     9J  \n",
       "Date                             \n",
       "1988-01-01  3.904  3.980  4.041  \n",
       "1988-02-01  3.905  3.984  4.047  \n",
       "1988-03-01  3.916  3.946  3.972  \n",
       "1988-04-01  3.819  3.874  3.923  \n",
       "1988-05-01  4.054  4.082  4.106  "
      ]
     },
     "execution_count": 20,
     "metadata": {},
     "output_type": "execute_result"
    }
   ],
   "source": [
    "df_wide = df_indexed.unstack(1)['Value']\n",
    "df_wide.head()"
   ]
  },
  {
   "cell_type": "markdown",
   "metadata": {
    "id": "cV6tPoVU9sjf"
   },
   "source": [
    "## matplotlib pure\n",
    "\n",
    "This is one of many ways of using matplotlib. There are other solutions as well."
   ]
  },
  {
   "cell_type": "code",
   "execution_count": null,
   "metadata": {
    "colab": {
     "base_uri": "https://localhost:8080/",
     "height": 425
    },
    "executionInfo": {
     "elapsed": 755,
     "status": "ok",
     "timestamp": 1708524499756,
     "user": {
      "displayName": "Adriano Persegani",
      "userId": "17739764701888244413"
     },
     "user_tz": -60
    },
    "id": "sw1sdi_s9sjm",
    "outputId": "1c1e3ac1-8a8e-4758-8a56-8940f48e5602",
    "tags": []
   },
   "outputs": [
    {
     "data": {
      "image/png": "[encoded data removed]",
      "text/plain": [
       "<Figure size 640x480 with 1 Axes>"
      ]
     },
     "metadata": {},
     "output_type": "display_data"
    }
   ],
   "source": [
    "fig, ax = plt.subplots()\n",
    "ax.plot(df_wide.index, df_wide['1J']);"
   ]
  },
  {
   "cell_type": "markdown",
   "metadata": {
    "id": "45SBy-My9sjm"
   },
   "source": [
    "## pandas pure\n",
    "\n",
    "When using pandas, it will create a figure and axis for you if none is provided."
   ]
  },
  {
   "cell_type": "code",
   "execution_count": null,
   "metadata": {
    "colab": {
     "base_uri": "https://localhost:8080/",
     "height": 445
    },
    "executionInfo": {
     "elapsed": 425,
     "status": "ok",
     "timestamp": 1708524501717,
     "user": {
      "displayName": "Adriano Persegani",
      "userId": "17739764701888244413"
     },
     "user_tz": -60
    },
    "id": "T_1FhK779sjm",
    "outputId": "90beda69-7e58-4b7d-ecce-9f17a9a2a088",
    "tags": []
   },
   "outputs": [
    {
     "data": {
      "image/png": "[encoded data removed]",
      "text/plain": [
       "<Figure size 640x480 with 1 Axes>"
      ]
     },
     "metadata": {},
     "output_type": "display_data"
    }
   ],
   "source": [
    "df_wide['1J'].plot();"
   ]
  },
  {
   "cell_type": "markdown",
   "metadata": {
    "id": "uW1ZpRyM9sjm"
   },
   "source": [
    "## mixed\n",
    "\n",
    "The nice thing is, you don't have to pick. Pandas uses matplotlib, and pandas (and most seaborn) plotting functions accept MPL objects as arguments. You can have pandas plot into an axis you create outside in matplotlib by yourself."
   ]
  },
  {
   "cell_type": "code",
   "execution_count": null,
   "metadata": {
    "colab": {
     "base_uri": "https://localhost:8080/",
     "height": 445
    },
    "executionInfo": {
     "elapsed": 819,
     "status": "ok",
     "timestamp": 1708524503762,
     "user": {
      "displayName": "Adriano Persegani",
      "userId": "17739764701888244413"
     },
     "user_tz": -60
    },
    "id": "8nvwQq4K9sjm",
    "outputId": "90e61f7f-0a90-4a30-d341-37bc16ef8efe",
    "tags": []
   },
   "outputs": [
    {
     "data": {
      "image/png": "[encoded data removed]",
      "text/plain": [
       "<Figure size 640x480 with 1 Axes>"
      ]
     },
     "metadata": {},
     "output_type": "display_data"
    }
   ],
   "source": [
    "fig, ax = plt.subplots()\n",
    "df_wide['1J'].plot(ax=ax);"
   ]
  },
  {
   "cell_type": "markdown",
   "metadata": {
    "id": "iLrUeBMb9sjm"
   },
   "source": [
    "Why do this? Because MPL gives more control of features of the figure, but pandas is often a bit easier to use. This way, it is easy to create a plot with multiple subplots freely. For example..."
   ]
  },
  {
   "cell_type": "code",
   "execution_count": null,
   "metadata": {
    "colab": {
     "base_uri": "https://localhost:8080/",
     "height": 423
    },
    "executionInfo": {
     "elapsed": 957,
     "status": "ok",
     "timestamp": 1708524506134,
     "user": {
      "displayName": "Adriano Persegani",
      "userId": "17739764701888244413"
     },
     "user_tz": -60
    },
    "id": "3vTzRBVJ9sjm",
    "outputId": "3d187059-07e9-4098-ec66-7dd9ffa5d741",
    "tags": []
   },
   "outputs": [
    {
     "data": {
      "image/png": "[encoded data removed]",
      "text/plain": [
       "<Figure size 1000x400 with 2 Axes>"
      ]
     },
     "metadata": {},
     "output_type": "display_data"
    }
   ],
   "source": [
    "fig, axs = plt.subplots(1, 2, sharex=True, sharey=True, figsize=(10, 4))\n",
    "df_wide['1J'].plot(ax=axs[0])\n",
    "df_wide['2J'].plot(ax=axs[0])\n",
    "df_wide['10J'].plot(ax=axs[1])\n",
    "axs[0].set_ylabel(\"Yield (%)\")\n",
    "axs[0].set_title(\"1 and 2-year bond yields\")\n",
    "axs[1].set_title(\"10-year bond yields\")\n",
    "fig.suptitle(\"1, 2, and 10-year bond yields\");"
   ]
  },
  {
   "cell_type": "markdown",
   "metadata": {
    "id": "Os1-8iAF9sjm"
   },
   "source": [
    "# Altair\n",
    "\n",
    "[Altair](https://altair-viz.github.io) and [Bokeh](https://docs.bokeh.org/en/latest/) are two plotting libraries that are newer than MPL. They have certain advantages. They render to HTML, making it easy to add interactions (mouse-over tooltips), and they have easier to understand APIs. They have disadvantages as well, though. Altair, for example, does not give you complete control of your plot, the way matplotlib does.\n",
    "\n",
    "Every python data scientists need to be comfortable with matplotlib, because you will encounter it everywhere, but you may want to look at Altair, or Bokeh, or Holoviews, or another library for your projects.\n",
    "\n",
    "Here is an example of the same plot in Altair."
   ]
  },
  {
   "cell_type": "code",
   "execution_count": 32,
   "metadata": {
    "id": "ncGIzcYW9sjm",
    "tags": []
   },
   "outputs": [],
   "source": [
    "import altair as alt"
   ]
  },
  {
   "cell_type": "code",
   "execution_count": 33,
   "metadata": {
    "colab": {
     "base_uri": "https://localhost:8080/",
     "height": 368
    },
    "executionInfo": {
     "elapsed": 3,
     "status": "ok",
     "timestamp": 1708524508411,
     "user": {
      "displayName": "Adriano Persegani",
      "userId": "17739764701888244413"
     },
     "user_tz": -60
    },
    "id": "skpsFw0B9sjm",
    "outputId": "2b5a50d6-cde6-4586-8d85-d6ba6ae5a270",
    "tags": []
   },
   "outputs": [
    {
     "data": {
      "text/html": [
       "\n",
       "<style>\n",
       "  #altair-viz-2a9b6aa4d26e4db496c782ecb6683d2c.vega-embed {\n",
       "    width: 100%;\n",
       "    display: flex;\n",
       "  }\n",
       "\n",
       "  #altair-viz-2a9b6aa4d26e4db496c782ecb6683d2c.vega-embed details,\n",
       "  #altair-viz-2a9b6aa4d26e4db496c782ecb6683d2c.vega-embed details summary {\n",
       "    position: relative;\n",
       "  }\n",
       "</style>\n",
       "<div id=\"altair-viz-2a9b6aa4d26e4db496c782ecb6683d2c\"></div>\n",
       "<script type=\"text/javascript\">\n",
       "  var VEGA_DEBUG = (typeof VEGA_DEBUG == \"undefined\") ? {} : VEGA_DEBUG;\n",
       "  (function(spec, embedOpt){\n",
       "    let outputDiv = document.currentScript.previousElementSibling;\n",
       "    if (outputDiv.id !== \"altair-viz-2a9b6aa4d26e4db496c782ecb6683d2c\") {\n",
       "      outputDiv = document.getElementById(\"altair-viz-2a9b6aa4d26e4db496c782ecb6683d2c\");\n",
       "    }\n",
       "\n",
       "    const paths = {\n",
       "      \"vega\": \"https://cdn.jsdelivr.net/npm/vega@5?noext\",\n",
       "      \"vega-lib\": \"https://cdn.jsdelivr.net/npm/vega-lib?noext\",\n",
       "      \"vega-lite\": \"https://cdn.jsdelivr.net/npm/vega-lite@5.20.1?noext\",\n",
       "      \"vega-embed\": \"https://cdn.jsdelivr.net/npm/vega-embed@6?noext\",\n",
       "    };\n",
       "\n",
       "    function maybeLoadScript(lib, version) {\n",
       "      var key = `${lib.replace(\"-\", \"\")}_version`;\n",
       "      return (VEGA_DEBUG[key] == version) ?\n",
       "        Promise.resolve(paths[lib]) :\n",
       "        new Promise(function(resolve, reject) {\n",
       "          var s = document.createElement('script');\n",
       "          document.getElementsByTagName(\"head\")[0].appendChild(s);\n",
       "          s.async = true;\n",
       "          s.onload = () => {\n",
       "            VEGA_DEBUG[key] = version;\n",
       "            return resolve(paths[lib]);\n",
       "          };\n",
       "          s.onerror = () => reject(`Error loading script: ${paths[lib]}`);\n",
       "          s.src = paths[lib];\n",
       "        });\n",
       "    }\n",
       "\n",
       "    function showError(err) {\n",
       "      outputDiv.innerHTML = `<div class=\"error\" style=\"color:red;\">${err}</div>`;\n",
       "      throw err;\n",
       "    }\n",
       "\n",
       "    function displayChart(vegaEmbed) {\n",
       "      vegaEmbed(outputDiv, spec, embedOpt)\n",
       "        .catch(err => showError(`Javascript Error: ${err.message}<br>This usually means there's a typo in your chart specification. See the javascript console for the full traceback.`));\n",
       "    }\n",
       "\n",
       "    if(typeof define === \"function\" && define.amd) {\n",
       "      requirejs.config({paths});\n",
       "      let deps = [\"vega-embed\"];\n",
       "      require(deps, displayChart, err => showError(`Error loading script: ${err.message}`));\n",
       "    } else {\n",
       "      maybeLoadScript(\"vega\", \"5\")\n",
       "        .then(() => maybeLoadScript(\"vega-lite\", \"5.20.1\"))\n",
       "        .then(() => maybeLoadScript(\"vega-embed\", \"6\"))\n",
       "        .catch(showError)\n",
       "        .then(() => displayChart(vegaEmbed));\n",
       "    }\n",
       "  })({\"config\": {\"view\": {\"continuousWidth\": 300, \"continuousHeight\": 300}}, \"data\": {\"name\": \"data-23c60922f895f69d351d8a30efd420bc\"}, \"mark\": {\"type\": \"line\"}, \"encoding\": {\"x\": {\"field\": \"Date\", \"type\": \"temporal\"}, \"y\": {\"field\": \"Value\", \"type\": \"quantitative\"}}, \"$schema\": \"https://vega.github.io/schema/vega-lite/v5.20.1.json\", \"datasets\": {\"data-23c60922f895f69d351d8a30efd420bc\": [{\"Date\": \"1988-01-01T00:00:00\", \"D0\": \"1J\", \"Value\": 2.887}, {\"Date\": \"1988-02-01T00:00:00\", \"D0\": \"1J\", \"Value\": 2.638}, {\"Date\": \"1988-03-01T00:00:00\", \"D0\": \"1J\", \"Value\": 2.641}, {\"Date\": \"1988-04-01T00:00:00\", \"D0\": \"1J\", \"Value\": 2.8}, {\"Date\": \"1988-05-01T00:00:00\", \"D0\": \"1J\", \"Value\": 3.1910000000000003}, {\"Date\": \"1988-06-01T00:00:00\", \"D0\": \"1J\", \"Value\": 3.642}, {\"Date\": \"1988-07-01T00:00:00\", \"D0\": \"1J\", \"Value\": 4.1610000000000005}, {\"Date\": \"1988-08-01T00:00:00\", \"D0\": \"1J\", \"Value\": 4.044}, {\"Date\": \"1988-09-01T00:00:00\", \"D0\": \"1J\", \"Value\": 3.814}, {\"Date\": \"1988-10-01T00:00:00\", \"D0\": \"1J\", \"Value\": 4.1080000000000005}, {\"Date\": \"1988-11-01T00:00:00\", \"D0\": \"1J\", \"Value\": 4.506}, {\"Date\": \"1988-12-01T00:00:00\", \"D0\": \"1J\", \"Value\": 4.691}, {\"Date\": \"1989-01-01T00:00:00\", \"D0\": \"1J\", \"Value\": 5.651}, {\"Date\": \"1989-02-01T00:00:00\", \"D0\": \"1J\", \"Value\": 6.079}, {\"Date\": \"1989-03-01T00:00:00\", \"D0\": \"1J\", \"Value\": 5.992999999999999}, {\"Date\": \"1989-04-01T00:00:00\", \"D0\": \"1J\", \"Value\": 6.443}, {\"Date\": \"1989-05-01T00:00:00\", \"D0\": \"1J\", \"Value\": 7.446000000000001}, {\"Date\": \"1989-06-01T00:00:00\", \"D0\": \"1J\", \"Value\": 6.922000000000001}, {\"Date\": \"1989-07-01T00:00:00\", \"D0\": \"1J\", \"Value\": 6.397}, {\"Date\": \"1989-08-01T00:00:00\", \"D0\": \"1J\", \"Value\": 7.07}, {\"Date\": \"1989-09-01T00:00:00\", \"D0\": \"1J\", \"Value\": 7.606}, {\"Date\": \"1989-10-01T00:00:00\", \"D0\": \"1J\", \"Value\": 7.534}, {\"Date\": \"1989-11-01T00:00:00\", \"D0\": \"1J\", \"Value\": 7.456}, {\"Date\": \"1989-12-01T00:00:00\", \"D0\": \"1J\", \"Value\": 8.068999999999999}, {\"Date\": \"1990-01-01T00:00:00\", \"D0\": \"1J\", \"Value\": 9.093}, {\"Date\": \"1990-02-01T00:00:00\", \"D0\": \"1J\", \"Value\": 8.788}, {\"Date\": \"1990-03-01T00:00:00\", \"D0\": \"1J\", \"Value\": 8.683}, {\"Date\": \"1990-04-01T00:00:00\", \"D0\": \"1J\", \"Value\": 8.971}, {\"Date\": \"1990-05-01T00:00:00\", \"D0\": \"1J\", \"Value\": 8.014}, {\"Date\": \"1990-06-01T00:00:00\", \"D0\": \"1J\", \"Value\": 8.123}, {\"Date\": \"1990-07-01T00:00:00\", \"D0\": \"1J\", \"Value\": 8.263}, {\"Date\": \"1990-08-01T00:00:00\", \"D0\": \"1J\", \"Value\": 8.321}, {\"Date\": \"1990-09-01T00:00:00\", \"D0\": \"1J\", \"Value\": 7.952000000000001}, {\"Date\": \"1990-10-01T00:00:00\", \"D0\": \"1J\", \"Value\": 7.796}, {\"Date\": \"1990-11-01T00:00:00\", \"D0\": \"1J\", \"Value\": 8.36}, {\"Date\": \"1990-12-01T00:00:00\", \"D0\": \"1J\", \"Value\": 8.152000000000001}, {\"Date\": \"1991-01-01T00:00:00\", \"D0\": \"1J\", \"Value\": 7.755}, {\"Date\": \"1991-02-01T00:00:00\", \"D0\": \"1J\", \"Value\": 7.66}, {\"Date\": \"1991-03-01T00:00:00\", \"D0\": \"1J\", \"Value\": 7.629}, {\"Date\": \"1991-04-01T00:00:00\", \"D0\": \"1J\", \"Value\": 7.81}, {\"Date\": \"1991-05-01T00:00:00\", \"D0\": \"1J\", \"Value\": 7.544}, {\"Date\": \"1991-06-01T00:00:00\", \"D0\": \"1J\", \"Value\": 7.644}, {\"Date\": \"1991-07-01T00:00:00\", \"D0\": \"1J\", \"Value\": 7.451}, {\"Date\": \"1991-08-01T00:00:00\", \"D0\": \"1J\", \"Value\": 7.501}, {\"Date\": \"1991-09-01T00:00:00\", \"D0\": \"1J\", \"Value\": 7.39}, {\"Date\": \"1991-10-01T00:00:00\", \"D0\": \"1J\", \"Value\": 7.838999999999999}, {\"Date\": \"1991-11-01T00:00:00\", \"D0\": \"1J\", \"Value\": 7.636}, {\"Date\": \"1991-12-01T00:00:00\", \"D0\": \"1J\", \"Value\": 7.415}, {\"Date\": \"1992-01-01T00:00:00\", \"D0\": \"1J\", \"Value\": 7.22}, {\"Date\": \"1992-02-01T00:00:00\", \"D0\": \"1J\", \"Value\": 7.242000000000001}, {\"Date\": \"1992-03-01T00:00:00\", \"D0\": \"1J\", \"Value\": 7.917000000000001}, {\"Date\": \"1992-04-01T00:00:00\", \"D0\": \"1J\", \"Value\": 8.104}, {\"Date\": \"1992-05-01T00:00:00\", \"D0\": \"1J\", \"Value\": 8.494}, {\"Date\": \"1992-06-01T00:00:00\", \"D0\": \"1J\", \"Value\": 8.513}, {\"Date\": \"1992-07-01T00:00:00\", \"D0\": \"1J\", \"Value\": 8.322000000000001}, {\"Date\": \"1992-08-01T00:00:00\", \"D0\": \"1J\", \"Value\": 7.7}, {\"Date\": \"1992-09-01T00:00:00\", \"D0\": \"1J\", \"Value\": 6.959}, {\"Date\": \"1992-10-01T00:00:00\", \"D0\": \"1J\", \"Value\": 5.95}, {\"Date\": \"1992-11-01T00:00:00\", \"D0\": \"1J\", \"Value\": 6.064}, {\"Date\": \"1992-12-01T00:00:00\", \"D0\": \"1J\", \"Value\": 5.797000000000001}, {\"Date\": \"1993-01-01T00:00:00\", \"D0\": \"1J\", \"Value\": 5.138999999999999}, {\"Date\": \"1993-02-01T00:00:00\", \"D0\": \"1J\", \"Value\": 4.894}, {\"Date\": \"1993-03-01T00:00:00\", \"D0\": \"1J\", \"Value\": 4.509}, {\"Date\": \"1993-04-01T00:00:00\", \"D0\": \"1J\", \"Value\": 4.47}, {\"Date\": \"1993-05-01T00:00:00\", \"D0\": \"1J\", \"Value\": 4.626}, {\"Date\": \"1993-06-01T00:00:00\", \"D0\": \"1J\", \"Value\": 4.54}, {\"Date\": \"1993-07-01T00:00:00\", \"D0\": \"1J\", \"Value\": 4.317}, {\"Date\": \"1993-08-01T00:00:00\", \"D0\": \"1J\", \"Value\": 4.336}, {\"Date\": \"1993-09-01T00:00:00\", \"D0\": \"1J\", \"Value\": 4.213}, {\"Date\": \"1993-10-01T00:00:00\", \"D0\": \"1J\", \"Value\": 3.999}, {\"Date\": \"1993-11-01T00:00:00\", \"D0\": \"1J\", \"Value\": 3.867}, {\"Date\": \"1993-12-01T00:00:00\", \"D0\": \"1J\", \"Value\": 3.552}, {\"Date\": \"1994-01-01T00:00:00\", \"D0\": \"1J\", \"Value\": 3.653}, {\"Date\": \"1994-02-01T00:00:00\", \"D0\": \"1J\", \"Value\": 3.806}, {\"Date\": \"1994-03-01T00:00:00\", \"D0\": \"1J\", \"Value\": 3.941}, {\"Date\": \"1994-04-01T00:00:00\", \"D0\": \"1J\", \"Value\": 4.033}, {\"Date\": \"1994-05-01T00:00:00\", \"D0\": \"1J\", \"Value\": 4.045}, {\"Date\": \"1994-06-01T00:00:00\", \"D0\": \"1J\", \"Value\": 4.367}, {\"Date\": \"1994-07-01T00:00:00\", \"D0\": \"1J\", \"Value\": 4.452}, {\"Date\": \"1994-08-01T00:00:00\", \"D0\": \"1J\", \"Value\": 4.605}, {\"Date\": \"1994-09-01T00:00:00\", \"D0\": \"1J\", \"Value\": 4.535}, {\"Date\": \"1994-10-01T00:00:00\", \"D0\": \"1J\", \"Value\": 4.336}, {\"Date\": \"1994-11-01T00:00:00\", \"D0\": \"1J\", \"Value\": 4.424}, {\"Date\": \"1994-12-01T00:00:00\", \"D0\": \"1J\", \"Value\": 4.586}, {\"Date\": \"1995-01-01T00:00:00\", \"D0\": \"1J\", \"Value\": 4.423}, {\"Date\": \"1995-02-01T00:00:00\", \"D0\": \"1J\", \"Value\": 4.259}, {\"Date\": \"1995-03-01T00:00:00\", \"D0\": \"1J\", \"Value\": 3.812}, {\"Date\": \"1995-04-01T00:00:00\", \"D0\": \"1J\", \"Value\": 3.644}, {\"Date\": \"1995-05-01T00:00:00\", \"D0\": \"1J\", \"Value\": 3.48}, {\"Date\": \"1995-06-01T00:00:00\", \"D0\": \"1J\", \"Value\": 3.322}, {\"Date\": \"1995-07-01T00:00:00\", \"D0\": \"1J\", \"Value\": 3.034}, {\"Date\": \"1995-08-01T00:00:00\", \"D0\": \"1J\", \"Value\": 3.065}, {\"Date\": \"1995-09-01T00:00:00\", \"D0\": \"1J\", \"Value\": 2.58}, {\"Date\": \"1995-10-01T00:00:00\", \"D0\": \"1J\", \"Value\": 2.187}, {\"Date\": \"1995-11-01T00:00:00\", \"D0\": \"1J\", \"Value\": 1.896}, {\"Date\": \"1995-12-01T00:00:00\", \"D0\": \"1J\", \"Value\": 1.783}, {\"Date\": \"1996-01-01T00:00:00\", \"D0\": \"1J\", \"Value\": 1.798}, {\"Date\": \"1996-02-01T00:00:00\", \"D0\": \"1J\", \"Value\": 1.883}, {\"Date\": \"1996-03-01T00:00:00\", \"D0\": \"1J\", \"Value\": 1.829}, {\"Date\": \"1996-04-01T00:00:00\", \"D0\": \"1J\", \"Value\": 1.867}, {\"Date\": \"1996-05-01T00:00:00\", \"D0\": \"1J\", \"Value\": 2.649}, {\"Date\": \"1996-06-01T00:00:00\", \"D0\": \"1J\", \"Value\": 2.594}, {\"Date\": \"1996-07-01T00:00:00\", \"D0\": \"1J\", \"Value\": 2.517}, {\"Date\": \"1996-08-01T00:00:00\", \"D0\": \"1J\", \"Value\": 2.206}, {\"Date\": \"1996-09-01T00:00:00\", \"D0\": \"1J\", \"Value\": 1.7719999999999998}, {\"Date\": \"1996-10-01T00:00:00\", \"D0\": \"1J\", \"Value\": 1.7480000000000002}, {\"Date\": \"1996-11-01T00:00:00\", \"D0\": \"1J\", \"Value\": 2.067}, {\"Date\": \"1996-12-01T00:00:00\", \"D0\": \"1J\", \"Value\": 1.723}, {\"Date\": \"1997-01-01T00:00:00\", \"D0\": \"1J\", \"Value\": 1.6869999999999998}, {\"Date\": \"1997-02-01T00:00:00\", \"D0\": \"1J\", \"Value\": 1.571}, {\"Date\": \"1997-03-01T00:00:00\", \"D0\": \"1J\", \"Value\": 1.72}, {\"Date\": \"1997-04-01T00:00:00\", \"D0\": \"1J\", \"Value\": 1.7719999999999998}, {\"Date\": \"1997-05-01T00:00:00\", \"D0\": \"1J\", \"Value\": 1.287}, {\"Date\": \"1997-06-01T00:00:00\", \"D0\": \"1J\", \"Value\": 1.406}, {\"Date\": \"1997-07-01T00:00:00\", \"D0\": \"1J\", \"Value\": 1.5519999999999998}, {\"Date\": \"1997-08-01T00:00:00\", \"D0\": \"1J\", \"Value\": 1.608}, {\"Date\": \"1997-09-01T00:00:00\", \"D0\": \"1J\", \"Value\": 1.7180000000000002}, {\"Date\": \"1997-10-01T00:00:00\", \"D0\": \"1J\", \"Value\": 2.006}, {\"Date\": \"1997-11-01T00:00:00\", \"D0\": \"1J\", \"Value\": 1.953}, {\"Date\": \"1997-12-01T00:00:00\", \"D0\": \"1J\", \"Value\": 1.658}, {\"Date\": \"1998-01-01T00:00:00\", \"D0\": \"1J\", \"Value\": 1.4069999999999998}, {\"Date\": \"1998-02-01T00:00:00\", \"D0\": \"1J\", \"Value\": 1.128}, {\"Date\": \"1998-03-01T00:00:00\", \"D0\": \"1J\", \"Value\": 1.568}, {\"Date\": \"1998-04-01T00:00:00\", \"D0\": \"1J\", \"Value\": 1.715}, {\"Date\": \"1998-05-01T00:00:00\", \"D0\": \"1J\", \"Value\": 1.72}, {\"Date\": \"1998-06-01T00:00:00\", \"D0\": \"1J\", \"Value\": 2.117}, {\"Date\": \"1998-07-01T00:00:00\", \"D0\": \"1J\", \"Value\": 1.982}, {\"Date\": \"1998-08-01T00:00:00\", \"D0\": \"1J\", \"Value\": 1.59}, {\"Date\": \"1998-09-01T00:00:00\", \"D0\": \"1J\", \"Value\": 1.722}, {\"Date\": \"1998-10-01T00:00:00\", \"D0\": \"1J\", \"Value\": 1.398}, {\"Date\": \"1998-11-01T00:00:00\", \"D0\": \"1J\", \"Value\": 1.6840000000000002}, {\"Date\": \"1998-12-01T00:00:00\", \"D0\": \"1J\", \"Value\": 1.753}, {\"Date\": \"1999-01-01T00:00:00\", \"D0\": \"1J\", \"Value\": 1.381}, {\"Date\": \"1999-02-01T00:00:00\", \"D0\": \"1J\", \"Value\": 1.293}, {\"Date\": \"1999-03-01T00:00:00\", \"D0\": \"1J\", \"Value\": 1.375}, {\"Date\": \"1999-04-01T00:00:00\", \"D0\": \"1J\", \"Value\": 1.171}, {\"Date\": \"1999-05-01T00:00:00\", \"D0\": \"1J\", \"Value\": 1.17}, {\"Date\": \"1999-06-01T00:00:00\", \"D0\": \"1J\", \"Value\": 1.588}, {\"Date\": \"1999-07-01T00:00:00\", \"D0\": \"1J\", \"Value\": 1.676}, {\"Date\": \"1999-08-01T00:00:00\", \"D0\": \"1J\", \"Value\": 1.72}, {\"Date\": \"1999-09-01T00:00:00\", \"D0\": \"1J\", \"Value\": 2.11}, {\"Date\": \"1999-10-01T00:00:00\", \"D0\": \"1J\", \"Value\": 2.536}, {\"Date\": \"1999-11-01T00:00:00\", \"D0\": \"1J\", \"Value\": 2.435}, {\"Date\": \"1999-12-01T00:00:00\", \"D0\": \"1J\", \"Value\": 2.17}, {\"Date\": \"2000-01-01T00:00:00\", \"D0\": \"1J\", \"Value\": 2.5380000000000003}, {\"Date\": \"2000-02-01T00:00:00\", \"D0\": \"1J\", \"Value\": 2.984}, {\"Date\": \"2000-03-01T00:00:00\", \"D0\": \"1J\", \"Value\": 3.459}, {\"Date\": \"2000-04-01T00:00:00\", \"D0\": \"1J\", \"Value\": 3.612}, {\"Date\": \"2000-05-01T00:00:00\", \"D0\": \"1J\", \"Value\": 3.721}, {\"Date\": \"2000-06-01T00:00:00\", \"D0\": \"1J\", \"Value\": 3.738}, {\"Date\": \"2000-07-01T00:00:00\", \"D0\": \"1J\", \"Value\": 3.901}, {\"Date\": \"2000-08-01T00:00:00\", \"D0\": \"1J\", \"Value\": 3.843}, {\"Date\": \"2000-09-01T00:00:00\", \"D0\": \"1J\", \"Value\": 3.633}, {\"Date\": \"2000-10-01T00:00:00\", \"D0\": \"1J\", \"Value\": 3.5980000000000003}, {\"Date\": \"2000-11-01T00:00:00\", \"D0\": \"1J\", \"Value\": 3.607}, {\"Date\": \"2000-12-01T00:00:00\", \"D0\": \"1J\", \"Value\": 3.277}, {\"Date\": \"2001-01-01T00:00:00\", \"D0\": \"1J\", \"Value\": 3.225}, {\"Date\": \"2001-02-01T00:00:00\", \"D0\": \"1J\", \"Value\": 3.253}, {\"Date\": \"2001-03-01T00:00:00\", \"D0\": \"1J\", \"Value\": 3.0380000000000003}, {\"Date\": \"2001-04-01T00:00:00\", \"D0\": \"1J\", \"Value\": 3.143}, {\"Date\": \"2001-05-01T00:00:00\", \"D0\": \"1J\", \"Value\": 3.167}, {\"Date\": \"2001-06-01T00:00:00\", \"D0\": \"1J\", \"Value\": 3.128}, {\"Date\": \"2001-07-01T00:00:00\", \"D0\": \"1J\", \"Value\": 3.0980000000000003}, {\"Date\": \"2001-08-01T00:00:00\", \"D0\": \"1J\", \"Value\": 2.807}, {\"Date\": \"2001-09-01T00:00:00\", \"D0\": \"1J\", \"Value\": 2.261}, {\"Date\": \"2001-10-01T00:00:00\", \"D0\": \"1J\", \"Value\": 1.856}, {\"Date\": \"2001-11-01T00:00:00\", \"D0\": \"1J\", \"Value\": 2.147}, {\"Date\": \"2001-12-01T00:00:00\", \"D0\": \"1J\", \"Value\": 2.107}, {\"Date\": \"2002-01-01T00:00:00\", \"D0\": \"1J\", \"Value\": 2.117}, {\"Date\": \"2002-02-01T00:00:00\", \"D0\": \"1J\", \"Value\": 2.128}, {\"Date\": \"2002-03-01T00:00:00\", \"D0\": \"1J\", \"Value\": 2.112}, {\"Date\": \"2002-04-01T00:00:00\", \"D0\": \"1J\", \"Value\": 2.011}, {\"Date\": \"2002-05-01T00:00:00\", \"D0\": \"1J\", \"Value\": 1.73}, {\"Date\": \"2002-06-01T00:00:00\", \"D0\": \"1J\", \"Value\": 1.659}, {\"Date\": \"2002-07-01T00:00:00\", \"D0\": \"1J\", \"Value\": 1.078}, {\"Date\": \"2002-08-01T00:00:00\", \"D0\": \"1J\", \"Value\": 0.934}, {\"Date\": \"2002-09-01T00:00:00\", \"D0\": \"1J\", \"Value\": 0.979}, {\"Date\": \"2002-10-01T00:00:00\", \"D0\": \"1J\", \"Value\": 0.71}, {\"Date\": \"2002-11-01T00:00:00\", \"D0\": \"1J\", \"Value\": 0.923}, {\"Date\": \"2002-12-01T00:00:00\", \"D0\": \"1J\", \"Value\": 0.5589999999999999}, {\"Date\": \"2003-01-01T00:00:00\", \"D0\": \"1J\", \"Value\": 0.601}, {\"Date\": \"2003-02-01T00:00:00\", \"D0\": \"1J\", \"Value\": 0.478}, {\"Date\": \"2003-03-01T00:00:00\", \"D0\": \"1J\", \"Value\": 0.445}, {\"Date\": \"2003-04-01T00:00:00\", \"D0\": \"1J\", \"Value\": 0.44}, {\"Date\": \"2003-05-01T00:00:00\", \"D0\": \"1J\", \"Value\": 0.299}, {\"Date\": \"2003-06-01T00:00:00\", \"D0\": \"1J\", \"Value\": 0.341}, {\"Date\": \"2003-07-01T00:00:00\", \"D0\": \"1J\", \"Value\": 0.357}, {\"Date\": \"2003-08-01T00:00:00\", \"D0\": \"1J\", \"Value\": 0.3879999999999999}, {\"Date\": \"2003-09-01T00:00:00\", \"D0\": \"1J\", \"Value\": 0.315}, {\"Date\": \"2003-10-01T00:00:00\", \"D0\": \"1J\", \"Value\": 0.462}, {\"Date\": \"2003-11-01T00:00:00\", \"D0\": \"1J\", \"Value\": 0.55}, {\"Date\": \"2003-12-01T00:00:00\", \"D0\": \"1J\", \"Value\": 0.484}, {\"Date\": \"2004-01-01T00:00:00\", \"D0\": \"1J\", \"Value\": 0.462}, {\"Date\": \"2004-02-01T00:00:00\", \"D0\": \"1J\", \"Value\": 0.377}, {\"Date\": \"2004-03-01T00:00:00\", \"D0\": \"1J\", \"Value\": 0.39}, {\"Date\": \"2004-04-01T00:00:00\", \"D0\": \"1J\", \"Value\": 0.68}, {\"Date\": \"2004-05-01T00:00:00\", \"D0\": \"1J\", \"Value\": 0.7340000000000001}, {\"Date\": \"2004-06-01T00:00:00\", \"D0\": \"1J\", \"Value\": 1.028}, {\"Date\": \"2004-07-01T00:00:00\", \"D0\": \"1J\", \"Value\": 0.96}, {\"Date\": \"2004-08-01T00:00:00\", \"D0\": \"1J\", \"Value\": 0.847}, {\"Date\": \"2004-09-01T00:00:00\", \"D0\": \"1J\", \"Value\": 0.964}, {\"Date\": \"2004-10-01T00:00:00\", \"D0\": \"1J\", \"Value\": 0.888}, {\"Date\": \"2004-11-01T00:00:00\", \"D0\": \"1J\", \"Value\": 1.013}, {\"Date\": \"2004-12-01T00:00:00\", \"D0\": \"1J\", \"Value\": 0.885}, {\"Date\": \"2005-01-01T00:00:00\", \"D0\": \"1J\", \"Value\": 0.887}, {\"Date\": \"2005-02-01T00:00:00\", \"D0\": \"1J\", \"Value\": 0.899}, {\"Date\": \"2005-03-01T00:00:00\", \"D0\": \"1J\", \"Value\": 0.872}, {\"Date\": \"2005-04-01T00:00:00\", \"D0\": \"1J\", \"Value\": 0.769}, {\"Date\": \"2005-05-01T00:00:00\", \"D0\": \"1J\", \"Value\": 0.772}, {\"Date\": \"2005-06-01T00:00:00\", \"D0\": \"1J\", \"Value\": 0.688}, {\"Date\": \"2005-07-01T00:00:00\", \"D0\": \"1J\", \"Value\": 0.772}, {\"Date\": \"2005-08-01T00:00:00\", \"D0\": \"1J\", \"Value\": 0.818}, {\"Date\": \"2005-09-01T00:00:00\", \"D0\": \"1J\", \"Value\": 0.897}, {\"Date\": \"2005-10-01T00:00:00\", \"D0\": \"1J\", \"Value\": 1.074}, {\"Date\": \"2005-11-01T00:00:00\", \"D0\": \"1J\", \"Value\": 1.361}, {\"Date\": \"2005-12-01T00:00:00\", \"D0\": \"1J\", \"Value\": 1.248}, {\"Date\": \"2006-01-01T00:00:00\", \"D0\": \"1J\", \"Value\": 1.294}, {\"Date\": \"2006-02-01T00:00:00\", \"D0\": \"1J\", \"Value\": 1.476}, {\"Date\": \"2006-03-01T00:00:00\", \"D0\": \"1J\", \"Value\": 1.565}, {\"Date\": \"2006-04-01T00:00:00\", \"D0\": \"1J\", \"Value\": 1.668}, {\"Date\": \"2006-05-01T00:00:00\", \"D0\": \"1J\", \"Value\": 1.754}, {\"Date\": \"2006-06-01T00:00:00\", \"D0\": \"1J\", \"Value\": 1.896}, {\"Date\": \"2006-07-01T00:00:00\", \"D0\": \"1J\", \"Value\": 1.877}, {\"Date\": \"2006-08-01T00:00:00\", \"D0\": \"1J\", \"Value\": 1.934}, {\"Date\": \"2006-09-01T00:00:00\", \"D0\": \"1J\", \"Value\": 1.947}, {\"Date\": \"2006-10-01T00:00:00\", \"D0\": \"1J\", \"Value\": 2.043}, {\"Date\": \"2006-11-01T00:00:00\", \"D0\": \"1J\", \"Value\": 2.095}, {\"Date\": \"2006-12-01T00:00:00\", \"D0\": \"1J\", \"Value\": 2.278}, {\"Date\": \"2007-01-01T00:00:00\", \"D0\": \"1J\", \"Value\": 2.379}, {\"Date\": \"2007-02-01T00:00:00\", \"D0\": \"1J\", \"Value\": 2.338}, {\"Date\": \"2007-03-01T00:00:00\", \"D0\": \"1J\", \"Value\": 2.412}, {\"Date\": \"2007-04-01T00:00:00\", \"D0\": \"1J\", \"Value\": 2.475}, {\"Date\": \"2007-05-01T00:00:00\", \"D0\": \"1J\", \"Value\": 2.71}, {\"Date\": \"2007-06-01T00:00:00\", \"D0\": \"1J\", \"Value\": 2.863}, {\"Date\": \"2007-07-01T00:00:00\", \"D0\": \"1J\", \"Value\": 2.841}, {\"Date\": \"2007-08-01T00:00:00\", \"D0\": \"1J\", \"Value\": 2.753}, {\"Date\": \"2007-09-01T00:00:00\", \"D0\": \"1J\", \"Value\": 2.697}, {\"Date\": \"2007-10-01T00:00:00\", \"D0\": \"1J\", \"Value\": 2.71}, {\"Date\": \"2007-11-01T00:00:00\", \"D0\": \"1J\", \"Value\": 2.594}, {\"Date\": \"2007-12-01T00:00:00\", \"D0\": \"1J\", \"Value\": 2.72}, {\"Date\": \"2008-01-01T00:00:00\", \"D0\": \"1J\", \"Value\": 2.386}, {\"Date\": \"2008-02-01T00:00:00\", \"D0\": \"1J\", \"Value\": 2.484}, {\"Date\": \"2008-03-01T00:00:00\", \"D0\": \"1J\", \"Value\": 2.455}, {\"Date\": \"2008-04-01T00:00:00\", \"D0\": \"1J\", \"Value\": 2.5}, {\"Date\": \"2008-05-01T00:00:00\", \"D0\": \"1J\", \"Value\": 2.462}, {\"Date\": \"2008-06-01T00:00:00\", \"D0\": \"1J\", \"Value\": 2.5380000000000003}, {\"Date\": \"2008-07-01T00:00:00\", \"D0\": \"1J\", \"Value\": 2.45}, {\"Date\": \"2008-08-01T00:00:00\", \"D0\": \"1J\", \"Value\": 2.717}, {\"Date\": \"2008-09-01T00:00:00\", \"D0\": \"1J\", \"Value\": 2.472}, {\"Date\": \"2008-10-01T00:00:00\", \"D0\": \"1J\", \"Value\": 2.002}, {\"Date\": \"2008-11-01T00:00:00\", \"D0\": \"1J\", \"Value\": 0.899}, {\"Date\": \"2008-12-01T00:00:00\", \"D0\": \"1J\", \"Value\": 0.407}, {\"Date\": \"2009-01-01T00:00:00\", \"D0\": \"1J\", \"Value\": 0.293}, {\"Date\": \"2009-02-01T00:00:00\", \"D0\": \"1J\", \"Value\": 0.407}, {\"Date\": \"2009-03-01T00:00:00\", \"D0\": \"1J\", \"Value\": 0.325}, {\"Date\": \"2009-04-01T00:00:00\", \"D0\": \"1J\", \"Value\": 0.294}, {\"Date\": \"2009-05-01T00:00:00\", \"D0\": \"1J\", \"Value\": 0.248}, {\"Date\": \"2009-06-01T00:00:00\", \"D0\": \"1J\", \"Value\": 0.255}, {\"Date\": \"2009-07-01T00:00:00\", \"D0\": \"1J\", \"Value\": 0.248}, {\"Date\": \"2009-08-01T00:00:00\", \"D0\": \"1J\", \"Value\": 0.288}, {\"Date\": \"2009-09-01T00:00:00\", \"D0\": \"1J\", \"Value\": 0.313}, {\"Date\": \"2009-10-01T00:00:00\", \"D0\": \"1J\", \"Value\": 0.332}, {\"Date\": \"2009-11-01T00:00:00\", \"D0\": \"1J\", \"Value\": 0.2689999999999999}, {\"Date\": \"2009-12-01T00:00:00\", \"D0\": \"1J\", \"Value\": 0.281}, {\"Date\": \"2010-01-01T00:00:00\", \"D0\": \"1J\", \"Value\": 0.253}, {\"Date\": \"2010-02-01T00:00:00\", \"D0\": \"1J\", \"Value\": 0.179}, {\"Date\": \"2010-03-01T00:00:00\", \"D0\": \"1J\", \"Value\": 0.25}, {\"Date\": \"2010-04-01T00:00:00\", \"D0\": \"1J\", \"Value\": 0.259}, {\"Date\": \"2010-05-01T00:00:00\", \"D0\": \"1J\", \"Value\": 0.177}, {\"Date\": \"2010-06-01T00:00:00\", \"D0\": \"1J\", \"Value\": 0.177}, {\"Date\": \"2010-07-01T00:00:00\", \"D0\": \"1J\", \"Value\": 0.337}, {\"Date\": \"2010-08-01T00:00:00\", \"D0\": \"1J\", \"Value\": 0.4479999999999999}, {\"Date\": \"2010-09-01T00:00:00\", \"D0\": \"1J\", \"Value\": 0.507}, {\"Date\": \"2010-10-01T00:00:00\", \"D0\": \"1J\", \"Value\": 0.499}, {\"Date\": \"2010-11-01T00:00:00\", \"D0\": \"1J\", \"Value\": 0.477}, {\"Date\": \"2010-12-01T00:00:00\", \"D0\": \"1J\", \"Value\": 0.44}, {\"Date\": \"2011-01-01T00:00:00\", \"D0\": \"1J\", \"Value\": 0.428}, {\"Date\": \"2011-02-01T00:00:00\", \"D0\": \"1J\", \"Value\": 0.365}, {\"Date\": \"2011-03-01T00:00:00\", \"D0\": \"1J\", \"Value\": 0.415}, {\"Date\": \"2011-04-01T00:00:00\", \"D0\": \"1J\", \"Value\": 0.479}, {\"Date\": \"2011-05-01T00:00:00\", \"D0\": \"1J\", \"Value\": 0.3389999999999999}, {\"Date\": \"2011-06-01T00:00:00\", \"D0\": \"1J\", \"Value\": 0.352}, {\"Date\": \"2011-07-01T00:00:00\", \"D0\": \"1J\", \"Value\": 0.318}, {\"Date\": \"2011-08-01T00:00:00\", \"D0\": \"1J\", \"Value\": 0.045}, {\"Date\": \"2011-09-01T00:00:00\", \"D0\": \"1J\", \"Value\": 0.139}, {\"Date\": \"2011-10-01T00:00:00\", \"D0\": \"1J\", \"Value\": 0.127}, {\"Date\": \"2011-11-01T00:00:00\", \"D0\": \"1J\", \"Value\": 0.149}, {\"Date\": \"2011-12-01T00:00:00\", \"D0\": \"1J\", \"Value\": 0.155}, {\"Date\": \"2012-01-01T00:00:00\", \"D0\": \"1J\", \"Value\": 0.191}, {\"Date\": \"2012-02-01T00:00:00\", \"D0\": \"1J\", \"Value\": 0.1889999999999999}, {\"Date\": \"2012-03-01T00:00:00\", \"D0\": \"1J\", \"Value\": 0.225}, {\"Date\": \"2012-04-01T00:00:00\", \"D0\": \"1J\", \"Value\": 0.205}, {\"Date\": \"2012-05-01T00:00:00\", \"D0\": \"1J\", \"Value\": 0.122}, {\"Date\": \"2012-06-01T00:00:00\", \"D0\": \"1J\", \"Value\": 0.012}, {\"Date\": \"2012-07-01T00:00:00\", \"D0\": \"1J\", \"Value\": 0.038}, {\"Date\": \"2012-08-01T00:00:00\", \"D0\": \"1J\", \"Value\": 0.025}, {\"Date\": \"2012-09-01T00:00:00\", \"D0\": \"1J\", \"Value\": 0.124}, {\"Date\": \"2012-10-01T00:00:00\", \"D0\": \"1J\", \"Value\": 0.146}, {\"Date\": \"2012-11-01T00:00:00\", \"D0\": \"1J\", \"Value\": 0.1169999999999999}, {\"Date\": \"2012-12-01T00:00:00\", \"D0\": \"1J\", \"Value\": 0.059}, {\"Date\": \"2013-01-01T00:00:00\", \"D0\": \"1J\", \"Value\": 0.14}, {\"Date\": \"2013-02-01T00:00:00\", \"D0\": \"1J\", \"Value\": 0.1369999999999999}, {\"Date\": \"2013-03-01T00:00:00\", \"D0\": \"1J\", \"Value\": 0.119}, {\"Date\": \"2013-04-01T00:00:00\", \"D0\": \"1J\", \"Value\": 0.079}, {\"Date\": \"2013-05-01T00:00:00\", \"D0\": \"1J\", \"Value\": 0.07829818}, {\"Date\": \"2013-06-01T00:00:00\", \"D0\": \"1J\", \"Value\": 0.07265734}, {\"Date\": \"2013-07-01T00:00:00\", \"D0\": \"1J\", \"Value\": 0.07649304}, {\"Date\": \"2013-08-01T00:00:00\", \"D0\": \"1J\", \"Value\": 0.09603539}, {\"Date\": \"2013-09-01T00:00:00\", \"D0\": \"1J\", \"Value\": 0.09619763}, {\"Date\": \"2013-10-01T00:00:00\", \"D0\": \"1J\", \"Value\": 0.1008528}, {\"Date\": \"2013-11-01T00:00:00\", \"D0\": \"1J\", \"Value\": 0.06378918}, {\"Date\": \"2013-12-01T00:00:00\", \"D0\": \"1J\", \"Value\": 0.04519943}, {\"Date\": \"2014-01-01T00:00:00\", \"D0\": \"1J\", \"Value\": 0.04356279}, {\"Date\": \"2014-02-01T00:00:00\", \"D0\": \"1J\", \"Value\": 0.04947024}, {\"Date\": \"2014-03-01T00:00:00\", \"D0\": \"1J\", \"Value\": 0.08511609}, {\"Date\": \"2014-04-01T00:00:00\", \"D0\": \"1J\", \"Value\": 0.10388926}, {\"Date\": \"2014-05-01T00:00:00\", \"D0\": \"1J\", \"Value\": 0.06972802}, {\"Date\": \"2014-06-01T00:00:00\", \"D0\": \"1J\", \"Value\": 0.09187296}, {\"Date\": \"2014-07-01T00:00:00\", \"D0\": \"1J\", \"Value\": 0.10910633}, {\"Date\": \"2014-08-01T00:00:00\", \"D0\": \"1J\", \"Value\": 0.07810612}, {\"Date\": \"2014-09-01T00:00:00\", \"D0\": \"1J\", \"Value\": 0.05646349}, {\"Date\": \"2014-10-01T00:00:00\", \"D0\": \"1J\", \"Value\": 0.03614148}, {\"Date\": \"2014-11-01T00:00:00\", \"D0\": \"1J\", \"Value\": -0.02185726}, {\"Date\": \"2014-12-01T00:00:00\", \"D0\": \"1J\", \"Value\": -0.0942503999999999}, {\"Date\": \"2015-01-01T00:00:00\", \"D0\": \"1J\", \"Value\": -0.6938551}, {\"Date\": \"2015-02-01T00:00:00\", \"D0\": \"1J\", \"Value\": -0.85310771}, {\"Date\": \"2015-03-01T00:00:00\", \"D0\": \"1J\", \"Value\": -0.74270215}, {\"Date\": \"2015-04-01T00:00:00\", \"D0\": \"1J\", \"Value\": -0.82939553}, {\"Date\": \"2015-05-01T00:00:00\", \"D0\": \"1J\", \"Value\": -0.83892421}, {\"Date\": \"2015-06-01T00:00:00\", \"D0\": \"1J\", \"Value\": -0.9006511}, {\"Date\": \"2015-07-01T00:00:00\", \"D0\": \"1J\", \"Value\": -0.81920267}, {\"Date\": \"2015-08-01T00:00:00\", \"D0\": \"1J\", \"Value\": -0.78366347}, {\"Date\": \"2015-09-01T00:00:00\", \"D0\": \"1J\", \"Value\": -0.82084831}, {\"Date\": \"2015-10-01T00:00:00\", \"D0\": \"1J\", \"Value\": -0.86584416}, {\"Date\": \"2015-11-01T00:00:00\", \"D0\": \"1J\", \"Value\": -0.97926764}, {\"Date\": \"2015-12-01T00:00:00\", \"D0\": \"1J\", \"Value\": -0.81482743}, {\"Date\": \"2016-01-01T00:00:00\", \"D0\": \"1J\", \"Value\": -0.85791026}, {\"Date\": \"2016-02-01T00:00:00\", \"D0\": \"1J\", \"Value\": -0.95787193}, {\"Date\": \"2016-03-01T00:00:00\", \"D0\": \"1J\", \"Value\": -0.85718832}, {\"Date\": \"2016-04-01T00:00:00\", \"D0\": \"1J\", \"Value\": -0.65447807}, {\"Date\": \"2016-05-01T00:00:00\", \"D0\": \"1J\", \"Value\": -0.65539102}, {\"Date\": \"2016-06-01T00:00:00\", \"D0\": \"1J\", \"Value\": -0.77364615}, {\"Date\": \"2016-07-01T00:00:00\", \"D0\": \"1J\", \"Value\": -0.710088}, {\"Date\": \"2016-08-01T00:00:00\", \"D0\": \"1J\", \"Value\": -0.70069374}, {\"Date\": \"2016-09-01T00:00:00\", \"D0\": \"1J\", \"Value\": -0.74157999}, {\"Date\": \"2016-10-01T00:00:00\", \"D0\": \"1J\", \"Value\": -0.6159477}, {\"Date\": \"2016-11-01T00:00:00\", \"D0\": \"1J\", \"Value\": -0.65332042}, {\"Date\": \"2016-12-01T00:00:00\", \"D0\": \"1J\", \"Value\": -0.63456941}, {\"Date\": \"2017-01-01T00:00:00\", \"D0\": \"1J\", \"Value\": -0.65100887}, {\"Date\": \"2017-02-01T00:00:00\", \"D0\": \"1J\", \"Value\": -0.66859121}, {\"Date\": \"2017-03-01T00:00:00\", \"D0\": \"1J\", \"Value\": -0.62924707}, {\"Date\": \"2017-04-01T00:00:00\", \"D0\": \"1J\", \"Value\": -0.63740533}]}}, {\"mode\": \"vega-lite\"});\n",
       "</script>"
      ],
      "text/plain": [
       "alt.Chart(...)"
      ]
     },
     "execution_count": 33,
     "metadata": {},
     "output_type": "execute_result"
    }
   ],
   "source": [
    "alt.Chart(df[df['D0'] == '1J']).mark_line().encode(\n",
    "    x='Date',\n",
    "    y='Value'\n",
    ")"
   ]
  },
  {
   "cell_type": "markdown",
   "metadata": {},
   "source": [
    "### tooltip"
   ]
  },
  {
   "cell_type": "markdown",
   "metadata": {
    "id": "ULxrryg49sjn"
   },
   "source": [
    "With altair, we can easily add tooltips. Mouse over a point on the plot below."
   ]
  },
  {
   "cell_type": "code",
   "execution_count": 34,
   "metadata": {
    "colab": {
     "base_uri": "https://localhost:8080/",
     "height": 368
    },
    "executionInfo": {
     "elapsed": 319,
     "status": "ok",
     "timestamp": 1708524510313,
     "user": {
      "displayName": "Adriano Persegani",
      "userId": "17739764701888244413"
     },
     "user_tz": -60
    },
    "id": "qQMlcsR_9sjn",
    "outputId": "9a5a7d59-a62e-424e-a699-24f18ce8a429",
    "tags": []
   },
   "outputs": [
    {
     "data": {
      "text/html": [
       "\n",
       "<style>\n",
       "  #altair-viz-322eb22e4b6142b4b11d72b971975f70.vega-embed {\n",
       "    width: 100%;\n",
       "    display: flex;\n",
       "  }\n",
       "\n",
       "  #altair-viz-322eb22e4b6142b4b11d72b971975f70.vega-embed details,\n",
       "  #altair-viz-322eb22e4b6142b4b11d72b971975f70.vega-embed details summary {\n",
       "    position: relative;\n",
       "  }\n",
       "</style>\n",
       "<div id=\"altair-viz-322eb22e4b6142b4b11d72b971975f70\"></div>\n",
       "<script type=\"text/javascript\">\n",
       "  var VEGA_DEBUG = (typeof VEGA_DEBUG == \"undefined\") ? {} : VEGA_DEBUG;\n",
       "  (function(spec, embedOpt){\n",
       "    let outputDiv = document.currentScript.previousElementSibling;\n",
       "    if (outputDiv.id !== \"altair-viz-322eb22e4b6142b4b11d72b971975f70\") {\n",
       "      outputDiv = document.getElementById(\"altair-viz-322eb22e4b6142b4b11d72b971975f70\");\n",
       "    }\n",
       "\n",
       "    const paths = {\n",
       "      \"vega\": \"https://cdn.jsdelivr.net/npm/vega@5?noext\",\n",
       "      \"vega-lib\": \"https://cdn.jsdelivr.net/npm/vega-lib?noext\",\n",
       "      \"vega-lite\": \"https://cdn.jsdelivr.net/npm/vega-lite@5.20.1?noext\",\n",
       "      \"vega-embed\": \"https://cdn.jsdelivr.net/npm/vega-embed@6?noext\",\n",
       "    };\n",
       "\n",
       "    function maybeLoadScript(lib, version) {\n",
       "      var key = `${lib.replace(\"-\", \"\")}_version`;\n",
       "      return (VEGA_DEBUG[key] == version) ?\n",
       "        Promise.resolve(paths[lib]) :\n",
       "        new Promise(function(resolve, reject) {\n",
       "          var s = document.createElement('script');\n",
       "          document.getElementsByTagName(\"head\")[0].appendChild(s);\n",
       "          s.async = true;\n",
       "          s.onload = () => {\n",
       "            VEGA_DEBUG[key] = version;\n",
       "            return resolve(paths[lib]);\n",
       "          };\n",
       "          s.onerror = () => reject(`Error loading script: ${paths[lib]}`);\n",
       "          s.src = paths[lib];\n",
       "        });\n",
       "    }\n",
       "\n",
       "    function showError(err) {\n",
       "      outputDiv.innerHTML = `<div class=\"error\" style=\"color:red;\">${err}</div>`;\n",
       "      throw err;\n",
       "    }\n",
       "\n",
       "    function displayChart(vegaEmbed) {\n",
       "      vegaEmbed(outputDiv, spec, embedOpt)\n",
       "        .catch(err => showError(`Javascript Error: ${err.message}<br>This usually means there's a typo in your chart specification. See the javascript console for the full traceback.`));\n",
       "    }\n",
       "\n",
       "    if(typeof define === \"function\" && define.amd) {\n",
       "      requirejs.config({paths});\n",
       "      let deps = [\"vega-embed\"];\n",
       "      require(deps, displayChart, err => showError(`Error loading script: ${err.message}`));\n",
       "    } else {\n",
       "      maybeLoadScript(\"vega\", \"5\")\n",
       "        .then(() => maybeLoadScript(\"vega-lite\", \"5.20.1\"))\n",
       "        .then(() => maybeLoadScript(\"vega-embed\", \"6\"))\n",
       "        .catch(showError)\n",
       "        .then(() => displayChart(vegaEmbed));\n",
       "    }\n",
       "  })({\"config\": {\"view\": {\"continuousWidth\": 300, \"continuousHeight\": 300}}, \"data\": {\"name\": \"data-23c60922f895f69d351d8a30efd420bc\"}, \"mark\": {\"type\": \"line\"}, \"encoding\": {\"tooltip\": [{\"field\": \"Date\", \"type\": \"temporal\"}, {\"field\": \"Value\", \"type\": \"quantitative\"}], \"x\": {\"field\": \"Date\", \"type\": \"temporal\"}, \"y\": {\"field\": \"Value\", \"type\": \"quantitative\"}}, \"$schema\": \"https://vega.github.io/schema/vega-lite/v5.20.1.json\", \"datasets\": {\"data-23c60922f895f69d351d8a30efd420bc\": [{\"Date\": \"1988-01-01T00:00:00\", \"D0\": \"1J\", \"Value\": 2.887}, {\"Date\": \"1988-02-01T00:00:00\", \"D0\": \"1J\", \"Value\": 2.638}, {\"Date\": \"1988-03-01T00:00:00\", \"D0\": \"1J\", \"Value\": 2.641}, {\"Date\": \"1988-04-01T00:00:00\", \"D0\": \"1J\", \"Value\": 2.8}, {\"Date\": \"1988-05-01T00:00:00\", \"D0\": \"1J\", \"Value\": 3.1910000000000003}, {\"Date\": \"1988-06-01T00:00:00\", \"D0\": \"1J\", \"Value\": 3.642}, {\"Date\": \"1988-07-01T00:00:00\", \"D0\": \"1J\", \"Value\": 4.1610000000000005}, {\"Date\": \"1988-08-01T00:00:00\", \"D0\": \"1J\", \"Value\": 4.044}, {\"Date\": \"1988-09-01T00:00:00\", \"D0\": \"1J\", \"Value\": 3.814}, {\"Date\": \"1988-10-01T00:00:00\", \"D0\": \"1J\", \"Value\": 4.1080000000000005}, {\"Date\": \"1988-11-01T00:00:00\", \"D0\": \"1J\", \"Value\": 4.506}, {\"Date\": \"1988-12-01T00:00:00\", \"D0\": \"1J\", \"Value\": 4.691}, {\"Date\": \"1989-01-01T00:00:00\", \"D0\": \"1J\", \"Value\": 5.651}, {\"Date\": \"1989-02-01T00:00:00\", \"D0\": \"1J\", \"Value\": 6.079}, {\"Date\": \"1989-03-01T00:00:00\", \"D0\": \"1J\", \"Value\": 5.992999999999999}, {\"Date\": \"1989-04-01T00:00:00\", \"D0\": \"1J\", \"Value\": 6.443}, {\"Date\": \"1989-05-01T00:00:00\", \"D0\": \"1J\", \"Value\": 7.446000000000001}, {\"Date\": \"1989-06-01T00:00:00\", \"D0\": \"1J\", \"Value\": 6.922000000000001}, {\"Date\": \"1989-07-01T00:00:00\", \"D0\": \"1J\", \"Value\": 6.397}, {\"Date\": \"1989-08-01T00:00:00\", \"D0\": \"1J\", \"Value\": 7.07}, {\"Date\": \"1989-09-01T00:00:00\", \"D0\": \"1J\", \"Value\": 7.606}, {\"Date\": \"1989-10-01T00:00:00\", \"D0\": \"1J\", \"Value\": 7.534}, {\"Date\": \"1989-11-01T00:00:00\", \"D0\": \"1J\", \"Value\": 7.456}, {\"Date\": \"1989-12-01T00:00:00\", \"D0\": \"1J\", \"Value\": 8.068999999999999}, {\"Date\": \"1990-01-01T00:00:00\", \"D0\": \"1J\", \"Value\": 9.093}, {\"Date\": \"1990-02-01T00:00:00\", \"D0\": \"1J\", \"Value\": 8.788}, {\"Date\": \"1990-03-01T00:00:00\", \"D0\": \"1J\", \"Value\": 8.683}, {\"Date\": \"1990-04-01T00:00:00\", \"D0\": \"1J\", \"Value\": 8.971}, {\"Date\": \"1990-05-01T00:00:00\", \"D0\": \"1J\", \"Value\": 8.014}, {\"Date\": \"1990-06-01T00:00:00\", \"D0\": \"1J\", \"Value\": 8.123}, {\"Date\": \"1990-07-01T00:00:00\", \"D0\": \"1J\", \"Value\": 8.263}, {\"Date\": \"1990-08-01T00:00:00\", \"D0\": \"1J\", \"Value\": 8.321}, {\"Date\": \"1990-09-01T00:00:00\", \"D0\": \"1J\", \"Value\": 7.952000000000001}, {\"Date\": \"1990-10-01T00:00:00\", \"D0\": \"1J\", \"Value\": 7.796}, {\"Date\": \"1990-11-01T00:00:00\", \"D0\": \"1J\", \"Value\": 8.36}, {\"Date\": \"1990-12-01T00:00:00\", \"D0\": \"1J\", \"Value\": 8.152000000000001}, {\"Date\": \"1991-01-01T00:00:00\", \"D0\": \"1J\", \"Value\": 7.755}, {\"Date\": \"1991-02-01T00:00:00\", \"D0\": \"1J\", \"Value\": 7.66}, {\"Date\": \"1991-03-01T00:00:00\", \"D0\": \"1J\", \"Value\": 7.629}, {\"Date\": \"1991-04-01T00:00:00\", \"D0\": \"1J\", \"Value\": 7.81}, {\"Date\": \"1991-05-01T00:00:00\", \"D0\": \"1J\", \"Value\": 7.544}, {\"Date\": \"1991-06-01T00:00:00\", \"D0\": \"1J\", \"Value\": 7.644}, {\"Date\": \"1991-07-01T00:00:00\", \"D0\": \"1J\", \"Value\": 7.451}, {\"Date\": \"1991-08-01T00:00:00\", \"D0\": \"1J\", \"Value\": 7.501}, {\"Date\": \"1991-09-01T00:00:00\", \"D0\": \"1J\", \"Value\": 7.39}, {\"Date\": \"1991-10-01T00:00:00\", \"D0\": \"1J\", \"Value\": 7.838999999999999}, {\"Date\": \"1991-11-01T00:00:00\", \"D0\": \"1J\", \"Value\": 7.636}, {\"Date\": \"1991-12-01T00:00:00\", \"D0\": \"1J\", \"Value\": 7.415}, {\"Date\": \"1992-01-01T00:00:00\", \"D0\": \"1J\", \"Value\": 7.22}, {\"Date\": \"1992-02-01T00:00:00\", \"D0\": \"1J\", \"Value\": 7.242000000000001}, {\"Date\": \"1992-03-01T00:00:00\", \"D0\": \"1J\", \"Value\": 7.917000000000001}, {\"Date\": \"1992-04-01T00:00:00\", \"D0\": \"1J\", \"Value\": 8.104}, {\"Date\": \"1992-05-01T00:00:00\", \"D0\": \"1J\", \"Value\": 8.494}, {\"Date\": \"1992-06-01T00:00:00\", \"D0\": \"1J\", \"Value\": 8.513}, {\"Date\": \"1992-07-01T00:00:00\", \"D0\": \"1J\", \"Value\": 8.322000000000001}, {\"Date\": \"1992-08-01T00:00:00\", \"D0\": \"1J\", \"Value\": 7.7}, {\"Date\": \"1992-09-01T00:00:00\", \"D0\": \"1J\", \"Value\": 6.959}, {\"Date\": \"1992-10-01T00:00:00\", \"D0\": \"1J\", \"Value\": 5.95}, {\"Date\": \"1992-11-01T00:00:00\", \"D0\": \"1J\", \"Value\": 6.064}, {\"Date\": \"1992-12-01T00:00:00\", \"D0\": \"1J\", \"Value\": 5.797000000000001}, {\"Date\": \"1993-01-01T00:00:00\", \"D0\": \"1J\", \"Value\": 5.138999999999999}, {\"Date\": \"1993-02-01T00:00:00\", \"D0\": \"1J\", \"Value\": 4.894}, {\"Date\": \"1993-03-01T00:00:00\", \"D0\": \"1J\", \"Value\": 4.509}, {\"Date\": \"1993-04-01T00:00:00\", \"D0\": \"1J\", \"Value\": 4.47}, {\"Date\": \"1993-05-01T00:00:00\", \"D0\": \"1J\", \"Value\": 4.626}, {\"Date\": \"1993-06-01T00:00:00\", \"D0\": \"1J\", \"Value\": 4.54}, {\"Date\": \"1993-07-01T00:00:00\", \"D0\": \"1J\", \"Value\": 4.317}, {\"Date\": \"1993-08-01T00:00:00\", \"D0\": \"1J\", \"Value\": 4.336}, {\"Date\": \"1993-09-01T00:00:00\", \"D0\": \"1J\", \"Value\": 4.213}, {\"Date\": \"1993-10-01T00:00:00\", \"D0\": \"1J\", \"Value\": 3.999}, {\"Date\": \"1993-11-01T00:00:00\", \"D0\": \"1J\", \"Value\": 3.867}, {\"Date\": \"1993-12-01T00:00:00\", \"D0\": \"1J\", \"Value\": 3.552}, {\"Date\": \"1994-01-01T00:00:00\", \"D0\": \"1J\", \"Value\": 3.653}, {\"Date\": \"1994-02-01T00:00:00\", \"D0\": \"1J\", \"Value\": 3.806}, {\"Date\": \"1994-03-01T00:00:00\", \"D0\": \"1J\", \"Value\": 3.941}, {\"Date\": \"1994-04-01T00:00:00\", \"D0\": \"1J\", \"Value\": 4.033}, {\"Date\": \"1994-05-01T00:00:00\", \"D0\": \"1J\", \"Value\": 4.045}, {\"Date\": \"1994-06-01T00:00:00\", \"D0\": \"1J\", \"Value\": 4.367}, {\"Date\": \"1994-07-01T00:00:00\", \"D0\": \"1J\", \"Value\": 4.452}, {\"Date\": \"1994-08-01T00:00:00\", \"D0\": \"1J\", \"Value\": 4.605}, {\"Date\": \"1994-09-01T00:00:00\", \"D0\": \"1J\", \"Value\": 4.535}, {\"Date\": \"1994-10-01T00:00:00\", \"D0\": \"1J\", \"Value\": 4.336}, {\"Date\": \"1994-11-01T00:00:00\", \"D0\": \"1J\", \"Value\": 4.424}, {\"Date\": \"1994-12-01T00:00:00\", \"D0\": \"1J\", \"Value\": 4.586}, {\"Date\": \"1995-01-01T00:00:00\", \"D0\": \"1J\", \"Value\": 4.423}, {\"Date\": \"1995-02-01T00:00:00\", \"D0\": \"1J\", \"Value\": 4.259}, {\"Date\": \"1995-03-01T00:00:00\", \"D0\": \"1J\", \"Value\": 3.812}, {\"Date\": \"1995-04-01T00:00:00\", \"D0\": \"1J\", \"Value\": 3.644}, {\"Date\": \"1995-05-01T00:00:00\", \"D0\": \"1J\", \"Value\": 3.48}, {\"Date\": \"1995-06-01T00:00:00\", \"D0\": \"1J\", \"Value\": 3.322}, {\"Date\": \"1995-07-01T00:00:00\", \"D0\": \"1J\", \"Value\": 3.034}, {\"Date\": \"1995-08-01T00:00:00\", \"D0\": \"1J\", \"Value\": 3.065}, {\"Date\": \"1995-09-01T00:00:00\", \"D0\": \"1J\", \"Value\": 2.58}, {\"Date\": \"1995-10-01T00:00:00\", \"D0\": \"1J\", \"Value\": 2.187}, {\"Date\": \"1995-11-01T00:00:00\", \"D0\": \"1J\", \"Value\": 1.896}, {\"Date\": \"1995-12-01T00:00:00\", \"D0\": \"1J\", \"Value\": 1.783}, {\"Date\": \"1996-01-01T00:00:00\", \"D0\": \"1J\", \"Value\": 1.798}, {\"Date\": \"1996-02-01T00:00:00\", \"D0\": \"1J\", \"Value\": 1.883}, {\"Date\": \"1996-03-01T00:00:00\", \"D0\": \"1J\", \"Value\": 1.829}, {\"Date\": \"1996-04-01T00:00:00\", \"D0\": \"1J\", \"Value\": 1.867}, {\"Date\": \"1996-05-01T00:00:00\", \"D0\": \"1J\", \"Value\": 2.649}, {\"Date\": \"1996-06-01T00:00:00\", \"D0\": \"1J\", \"Value\": 2.594}, {\"Date\": \"1996-07-01T00:00:00\", \"D0\": \"1J\", \"Value\": 2.517}, {\"Date\": \"1996-08-01T00:00:00\", \"D0\": \"1J\", \"Value\": 2.206}, {\"Date\": \"1996-09-01T00:00:00\", \"D0\": \"1J\", \"Value\": 1.7719999999999998}, {\"Date\": \"1996-10-01T00:00:00\", \"D0\": \"1J\", \"Value\": 1.7480000000000002}, {\"Date\": \"1996-11-01T00:00:00\", \"D0\": \"1J\", \"Value\": 2.067}, {\"Date\": \"1996-12-01T00:00:00\", \"D0\": \"1J\", \"Value\": 1.723}, {\"Date\": \"1997-01-01T00:00:00\", \"D0\": \"1J\", \"Value\": 1.6869999999999998}, {\"Date\": \"1997-02-01T00:00:00\", \"D0\": \"1J\", \"Value\": 1.571}, {\"Date\": \"1997-03-01T00:00:00\", \"D0\": \"1J\", \"Value\": 1.72}, {\"Date\": \"1997-04-01T00:00:00\", \"D0\": \"1J\", \"Value\": 1.7719999999999998}, {\"Date\": \"1997-05-01T00:00:00\", \"D0\": \"1J\", \"Value\": 1.287}, {\"Date\": \"1997-06-01T00:00:00\", \"D0\": \"1J\", \"Value\": 1.406}, {\"Date\": \"1997-07-01T00:00:00\", \"D0\": \"1J\", \"Value\": 1.5519999999999998}, {\"Date\": \"1997-08-01T00:00:00\", \"D0\": \"1J\", \"Value\": 1.608}, {\"Date\": \"1997-09-01T00:00:00\", \"D0\": \"1J\", \"Value\": 1.7180000000000002}, {\"Date\": \"1997-10-01T00:00:00\", \"D0\": \"1J\", \"Value\": 2.006}, {\"Date\": \"1997-11-01T00:00:00\", \"D0\": \"1J\", \"Value\": 1.953}, {\"Date\": \"1997-12-01T00:00:00\", \"D0\": \"1J\", \"Value\": 1.658}, {\"Date\": \"1998-01-01T00:00:00\", \"D0\": \"1J\", \"Value\": 1.4069999999999998}, {\"Date\": \"1998-02-01T00:00:00\", \"D0\": \"1J\", \"Value\": 1.128}, {\"Date\": \"1998-03-01T00:00:00\", \"D0\": \"1J\", \"Value\": 1.568}, {\"Date\": \"1998-04-01T00:00:00\", \"D0\": \"1J\", \"Value\": 1.715}, {\"Date\": \"1998-05-01T00:00:00\", \"D0\": \"1J\", \"Value\": 1.72}, {\"Date\": \"1998-06-01T00:00:00\", \"D0\": \"1J\", \"Value\": 2.117}, {\"Date\": \"1998-07-01T00:00:00\", \"D0\": \"1J\", \"Value\": 1.982}, {\"Date\": \"1998-08-01T00:00:00\", \"D0\": \"1J\", \"Value\": 1.59}, {\"Date\": \"1998-09-01T00:00:00\", \"D0\": \"1J\", \"Value\": 1.722}, {\"Date\": \"1998-10-01T00:00:00\", \"D0\": \"1J\", \"Value\": 1.398}, {\"Date\": \"1998-11-01T00:00:00\", \"D0\": \"1J\", \"Value\": 1.6840000000000002}, {\"Date\": \"1998-12-01T00:00:00\", \"D0\": \"1J\", \"Value\": 1.753}, {\"Date\": \"1999-01-01T00:00:00\", \"D0\": \"1J\", \"Value\": 1.381}, {\"Date\": \"1999-02-01T00:00:00\", \"D0\": \"1J\", \"Value\": 1.293}, {\"Date\": \"1999-03-01T00:00:00\", \"D0\": \"1J\", \"Value\": 1.375}, {\"Date\": \"1999-04-01T00:00:00\", \"D0\": \"1J\", \"Value\": 1.171}, {\"Date\": \"1999-05-01T00:00:00\", \"D0\": \"1J\", \"Value\": 1.17}, {\"Date\": \"1999-06-01T00:00:00\", \"D0\": \"1J\", \"Value\": 1.588}, {\"Date\": \"1999-07-01T00:00:00\", \"D0\": \"1J\", \"Value\": 1.676}, {\"Date\": \"1999-08-01T00:00:00\", \"D0\": \"1J\", \"Value\": 1.72}, {\"Date\": \"1999-09-01T00:00:00\", \"D0\": \"1J\", \"Value\": 2.11}, {\"Date\": \"1999-10-01T00:00:00\", \"D0\": \"1J\", \"Value\": 2.536}, {\"Date\": \"1999-11-01T00:00:00\", \"D0\": \"1J\", \"Value\": 2.435}, {\"Date\": \"1999-12-01T00:00:00\", \"D0\": \"1J\", \"Value\": 2.17}, {\"Date\": \"2000-01-01T00:00:00\", \"D0\": \"1J\", \"Value\": 2.5380000000000003}, {\"Date\": \"2000-02-01T00:00:00\", \"D0\": \"1J\", \"Value\": 2.984}, {\"Date\": \"2000-03-01T00:00:00\", \"D0\": \"1J\", \"Value\": 3.459}, {\"Date\": \"2000-04-01T00:00:00\", \"D0\": \"1J\", \"Value\": 3.612}, {\"Date\": \"2000-05-01T00:00:00\", \"D0\": \"1J\", \"Value\": 3.721}, {\"Date\": \"2000-06-01T00:00:00\", \"D0\": \"1J\", \"Value\": 3.738}, {\"Date\": \"2000-07-01T00:00:00\", \"D0\": \"1J\", \"Value\": 3.901}, {\"Date\": \"2000-08-01T00:00:00\", \"D0\": \"1J\", \"Value\": 3.843}, {\"Date\": \"2000-09-01T00:00:00\", \"D0\": \"1J\", \"Value\": 3.633}, {\"Date\": \"2000-10-01T00:00:00\", \"D0\": \"1J\", \"Value\": 3.5980000000000003}, {\"Date\": \"2000-11-01T00:00:00\", \"D0\": \"1J\", \"Value\": 3.607}, {\"Date\": \"2000-12-01T00:00:00\", \"D0\": \"1J\", \"Value\": 3.277}, {\"Date\": \"2001-01-01T00:00:00\", \"D0\": \"1J\", \"Value\": 3.225}, {\"Date\": \"2001-02-01T00:00:00\", \"D0\": \"1J\", \"Value\": 3.253}, {\"Date\": \"2001-03-01T00:00:00\", \"D0\": \"1J\", \"Value\": 3.0380000000000003}, {\"Date\": \"2001-04-01T00:00:00\", \"D0\": \"1J\", \"Value\": 3.143}, {\"Date\": \"2001-05-01T00:00:00\", \"D0\": \"1J\", \"Value\": 3.167}, {\"Date\": \"2001-06-01T00:00:00\", \"D0\": \"1J\", \"Value\": 3.128}, {\"Date\": \"2001-07-01T00:00:00\", \"D0\": \"1J\", \"Value\": 3.0980000000000003}, {\"Date\": \"2001-08-01T00:00:00\", \"D0\": \"1J\", \"Value\": 2.807}, {\"Date\": \"2001-09-01T00:00:00\", \"D0\": \"1J\", \"Value\": 2.261}, {\"Date\": \"2001-10-01T00:00:00\", \"D0\": \"1J\", \"Value\": 1.856}, {\"Date\": \"2001-11-01T00:00:00\", \"D0\": \"1J\", \"Value\": 2.147}, {\"Date\": \"2001-12-01T00:00:00\", \"D0\": \"1J\", \"Value\": 2.107}, {\"Date\": \"2002-01-01T00:00:00\", \"D0\": \"1J\", \"Value\": 2.117}, {\"Date\": \"2002-02-01T00:00:00\", \"D0\": \"1J\", \"Value\": 2.128}, {\"Date\": \"2002-03-01T00:00:00\", \"D0\": \"1J\", \"Value\": 2.112}, {\"Date\": \"2002-04-01T00:00:00\", \"D0\": \"1J\", \"Value\": 2.011}, {\"Date\": \"2002-05-01T00:00:00\", \"D0\": \"1J\", \"Value\": 1.73}, {\"Date\": \"2002-06-01T00:00:00\", \"D0\": \"1J\", \"Value\": 1.659}, {\"Date\": \"2002-07-01T00:00:00\", \"D0\": \"1J\", \"Value\": 1.078}, {\"Date\": \"2002-08-01T00:00:00\", \"D0\": \"1J\", \"Value\": 0.934}, {\"Date\": \"2002-09-01T00:00:00\", \"D0\": \"1J\", \"Value\": 0.979}, {\"Date\": \"2002-10-01T00:00:00\", \"D0\": \"1J\", \"Value\": 0.71}, {\"Date\": \"2002-11-01T00:00:00\", \"D0\": \"1J\", \"Value\": 0.923}, {\"Date\": \"2002-12-01T00:00:00\", \"D0\": \"1J\", \"Value\": 0.5589999999999999}, {\"Date\": \"2003-01-01T00:00:00\", \"D0\": \"1J\", \"Value\": 0.601}, {\"Date\": \"2003-02-01T00:00:00\", \"D0\": \"1J\", \"Value\": 0.478}, {\"Date\": \"2003-03-01T00:00:00\", \"D0\": \"1J\", \"Value\": 0.445}, {\"Date\": \"2003-04-01T00:00:00\", \"D0\": \"1J\", \"Value\": 0.44}, {\"Date\": \"2003-05-01T00:00:00\", \"D0\": \"1J\", \"Value\": 0.299}, {\"Date\": \"2003-06-01T00:00:00\", \"D0\": \"1J\", \"Value\": 0.341}, {\"Date\": \"2003-07-01T00:00:00\", \"D0\": \"1J\", \"Value\": 0.357}, {\"Date\": \"2003-08-01T00:00:00\", \"D0\": \"1J\", \"Value\": 0.3879999999999999}, {\"Date\": \"2003-09-01T00:00:00\", \"D0\": \"1J\", \"Value\": 0.315}, {\"Date\": \"2003-10-01T00:00:00\", \"D0\": \"1J\", \"Value\": 0.462}, {\"Date\": \"2003-11-01T00:00:00\", \"D0\": \"1J\", \"Value\": 0.55}, {\"Date\": \"2003-12-01T00:00:00\", \"D0\": \"1J\", \"Value\": 0.484}, {\"Date\": \"2004-01-01T00:00:00\", \"D0\": \"1J\", \"Value\": 0.462}, {\"Date\": \"2004-02-01T00:00:00\", \"D0\": \"1J\", \"Value\": 0.377}, {\"Date\": \"2004-03-01T00:00:00\", \"D0\": \"1J\", \"Value\": 0.39}, {\"Date\": \"2004-04-01T00:00:00\", \"D0\": \"1J\", \"Value\": 0.68}, {\"Date\": \"2004-05-01T00:00:00\", \"D0\": \"1J\", \"Value\": 0.7340000000000001}, {\"Date\": \"2004-06-01T00:00:00\", \"D0\": \"1J\", \"Value\": 1.028}, {\"Date\": \"2004-07-01T00:00:00\", \"D0\": \"1J\", \"Value\": 0.96}, {\"Date\": \"2004-08-01T00:00:00\", \"D0\": \"1J\", \"Value\": 0.847}, {\"Date\": \"2004-09-01T00:00:00\", \"D0\": \"1J\", \"Value\": 0.964}, {\"Date\": \"2004-10-01T00:00:00\", \"D0\": \"1J\", \"Value\": 0.888}, {\"Date\": \"2004-11-01T00:00:00\", \"D0\": \"1J\", \"Value\": 1.013}, {\"Date\": \"2004-12-01T00:00:00\", \"D0\": \"1J\", \"Value\": 0.885}, {\"Date\": \"2005-01-01T00:00:00\", \"D0\": \"1J\", \"Value\": 0.887}, {\"Date\": \"2005-02-01T00:00:00\", \"D0\": \"1J\", \"Value\": 0.899}, {\"Date\": \"2005-03-01T00:00:00\", \"D0\": \"1J\", \"Value\": 0.872}, {\"Date\": \"2005-04-01T00:00:00\", \"D0\": \"1J\", \"Value\": 0.769}, {\"Date\": \"2005-05-01T00:00:00\", \"D0\": \"1J\", \"Value\": 0.772}, {\"Date\": \"2005-06-01T00:00:00\", \"D0\": \"1J\", \"Value\": 0.688}, {\"Date\": \"2005-07-01T00:00:00\", \"D0\": \"1J\", \"Value\": 0.772}, {\"Date\": \"2005-08-01T00:00:00\", \"D0\": \"1J\", \"Value\": 0.818}, {\"Date\": \"2005-09-01T00:00:00\", \"D0\": \"1J\", \"Value\": 0.897}, {\"Date\": \"2005-10-01T00:00:00\", \"D0\": \"1J\", \"Value\": 1.074}, {\"Date\": \"2005-11-01T00:00:00\", \"D0\": \"1J\", \"Value\": 1.361}, {\"Date\": \"2005-12-01T00:00:00\", \"D0\": \"1J\", \"Value\": 1.248}, {\"Date\": \"2006-01-01T00:00:00\", \"D0\": \"1J\", \"Value\": 1.294}, {\"Date\": \"2006-02-01T00:00:00\", \"D0\": \"1J\", \"Value\": 1.476}, {\"Date\": \"2006-03-01T00:00:00\", \"D0\": \"1J\", \"Value\": 1.565}, {\"Date\": \"2006-04-01T00:00:00\", \"D0\": \"1J\", \"Value\": 1.668}, {\"Date\": \"2006-05-01T00:00:00\", \"D0\": \"1J\", \"Value\": 1.754}, {\"Date\": \"2006-06-01T00:00:00\", \"D0\": \"1J\", \"Value\": 1.896}, {\"Date\": \"2006-07-01T00:00:00\", \"D0\": \"1J\", \"Value\": 1.877}, {\"Date\": \"2006-08-01T00:00:00\", \"D0\": \"1J\", \"Value\": 1.934}, {\"Date\": \"2006-09-01T00:00:00\", \"D0\": \"1J\", \"Value\": 1.947}, {\"Date\": \"2006-10-01T00:00:00\", \"D0\": \"1J\", \"Value\": 2.043}, {\"Date\": \"2006-11-01T00:00:00\", \"D0\": \"1J\", \"Value\": 2.095}, {\"Date\": \"2006-12-01T00:00:00\", \"D0\": \"1J\", \"Value\": 2.278}, {\"Date\": \"2007-01-01T00:00:00\", \"D0\": \"1J\", \"Value\": 2.379}, {\"Date\": \"2007-02-01T00:00:00\", \"D0\": \"1J\", \"Value\": 2.338}, {\"Date\": \"2007-03-01T00:00:00\", \"D0\": \"1J\", \"Value\": 2.412}, {\"Date\": \"2007-04-01T00:00:00\", \"D0\": \"1J\", \"Value\": 2.475}, {\"Date\": \"2007-05-01T00:00:00\", \"D0\": \"1J\", \"Value\": 2.71}, {\"Date\": \"2007-06-01T00:00:00\", \"D0\": \"1J\", \"Value\": 2.863}, {\"Date\": \"2007-07-01T00:00:00\", \"D0\": \"1J\", \"Value\": 2.841}, {\"Date\": \"2007-08-01T00:00:00\", \"D0\": \"1J\", \"Value\": 2.753}, {\"Date\": \"2007-09-01T00:00:00\", \"D0\": \"1J\", \"Value\": 2.697}, {\"Date\": \"2007-10-01T00:00:00\", \"D0\": \"1J\", \"Value\": 2.71}, {\"Date\": \"2007-11-01T00:00:00\", \"D0\": \"1J\", \"Value\": 2.594}, {\"Date\": \"2007-12-01T00:00:00\", \"D0\": \"1J\", \"Value\": 2.72}, {\"Date\": \"2008-01-01T00:00:00\", \"D0\": \"1J\", \"Value\": 2.386}, {\"Date\": \"2008-02-01T00:00:00\", \"D0\": \"1J\", \"Value\": 2.484}, {\"Date\": \"2008-03-01T00:00:00\", \"D0\": \"1J\", \"Value\": 2.455}, {\"Date\": \"2008-04-01T00:00:00\", \"D0\": \"1J\", \"Value\": 2.5}, {\"Date\": \"2008-05-01T00:00:00\", \"D0\": \"1J\", \"Value\": 2.462}, {\"Date\": \"2008-06-01T00:00:00\", \"D0\": \"1J\", \"Value\": 2.5380000000000003}, {\"Date\": \"2008-07-01T00:00:00\", \"D0\": \"1J\", \"Value\": 2.45}, {\"Date\": \"2008-08-01T00:00:00\", \"D0\": \"1J\", \"Value\": 2.717}, {\"Date\": \"2008-09-01T00:00:00\", \"D0\": \"1J\", \"Value\": 2.472}, {\"Date\": \"2008-10-01T00:00:00\", \"D0\": \"1J\", \"Value\": 2.002}, {\"Date\": \"2008-11-01T00:00:00\", \"D0\": \"1J\", \"Value\": 0.899}, {\"Date\": \"2008-12-01T00:00:00\", \"D0\": \"1J\", \"Value\": 0.407}, {\"Date\": \"2009-01-01T00:00:00\", \"D0\": \"1J\", \"Value\": 0.293}, {\"Date\": \"2009-02-01T00:00:00\", \"D0\": \"1J\", \"Value\": 0.407}, {\"Date\": \"2009-03-01T00:00:00\", \"D0\": \"1J\", \"Value\": 0.325}, {\"Date\": \"2009-04-01T00:00:00\", \"D0\": \"1J\", \"Value\": 0.294}, {\"Date\": \"2009-05-01T00:00:00\", \"D0\": \"1J\", \"Value\": 0.248}, {\"Date\": \"2009-06-01T00:00:00\", \"D0\": \"1J\", \"Value\": 0.255}, {\"Date\": \"2009-07-01T00:00:00\", \"D0\": \"1J\", \"Value\": 0.248}, {\"Date\": \"2009-08-01T00:00:00\", \"D0\": \"1J\", \"Value\": 0.288}, {\"Date\": \"2009-09-01T00:00:00\", \"D0\": \"1J\", \"Value\": 0.313}, {\"Date\": \"2009-10-01T00:00:00\", \"D0\": \"1J\", \"Value\": 0.332}, {\"Date\": \"2009-11-01T00:00:00\", \"D0\": \"1J\", \"Value\": 0.2689999999999999}, {\"Date\": \"2009-12-01T00:00:00\", \"D0\": \"1J\", \"Value\": 0.281}, {\"Date\": \"2010-01-01T00:00:00\", \"D0\": \"1J\", \"Value\": 0.253}, {\"Date\": \"2010-02-01T00:00:00\", \"D0\": \"1J\", \"Value\": 0.179}, {\"Date\": \"2010-03-01T00:00:00\", \"D0\": \"1J\", \"Value\": 0.25}, {\"Date\": \"2010-04-01T00:00:00\", \"D0\": \"1J\", \"Value\": 0.259}, {\"Date\": \"2010-05-01T00:00:00\", \"D0\": \"1J\", \"Value\": 0.177}, {\"Date\": \"2010-06-01T00:00:00\", \"D0\": \"1J\", \"Value\": 0.177}, {\"Date\": \"2010-07-01T00:00:00\", \"D0\": \"1J\", \"Value\": 0.337}, {\"Date\": \"2010-08-01T00:00:00\", \"D0\": \"1J\", \"Value\": 0.4479999999999999}, {\"Date\": \"2010-09-01T00:00:00\", \"D0\": \"1J\", \"Value\": 0.507}, {\"Date\": \"2010-10-01T00:00:00\", \"D0\": \"1J\", \"Value\": 0.499}, {\"Date\": \"2010-11-01T00:00:00\", \"D0\": \"1J\", \"Value\": 0.477}, {\"Date\": \"2010-12-01T00:00:00\", \"D0\": \"1J\", \"Value\": 0.44}, {\"Date\": \"2011-01-01T00:00:00\", \"D0\": \"1J\", \"Value\": 0.428}, {\"Date\": \"2011-02-01T00:00:00\", \"D0\": \"1J\", \"Value\": 0.365}, {\"Date\": \"2011-03-01T00:00:00\", \"D0\": \"1J\", \"Value\": 0.415}, {\"Date\": \"2011-04-01T00:00:00\", \"D0\": \"1J\", \"Value\": 0.479}, {\"Date\": \"2011-05-01T00:00:00\", \"D0\": \"1J\", \"Value\": 0.3389999999999999}, {\"Date\": \"2011-06-01T00:00:00\", \"D0\": \"1J\", \"Value\": 0.352}, {\"Date\": \"2011-07-01T00:00:00\", \"D0\": \"1J\", \"Value\": 0.318}, {\"Date\": \"2011-08-01T00:00:00\", \"D0\": \"1J\", \"Value\": 0.045}, {\"Date\": \"2011-09-01T00:00:00\", \"D0\": \"1J\", \"Value\": 0.139}, {\"Date\": \"2011-10-01T00:00:00\", \"D0\": \"1J\", \"Value\": 0.127}, {\"Date\": \"2011-11-01T00:00:00\", \"D0\": \"1J\", \"Value\": 0.149}, {\"Date\": \"2011-12-01T00:00:00\", \"D0\": \"1J\", \"Value\": 0.155}, {\"Date\": \"2012-01-01T00:00:00\", \"D0\": \"1J\", \"Value\": 0.191}, {\"Date\": \"2012-02-01T00:00:00\", \"D0\": \"1J\", \"Value\": 0.1889999999999999}, {\"Date\": \"2012-03-01T00:00:00\", \"D0\": \"1J\", \"Value\": 0.225}, {\"Date\": \"2012-04-01T00:00:00\", \"D0\": \"1J\", \"Value\": 0.205}, {\"Date\": \"2012-05-01T00:00:00\", \"D0\": \"1J\", \"Value\": 0.122}, {\"Date\": \"2012-06-01T00:00:00\", \"D0\": \"1J\", \"Value\": 0.012}, {\"Date\": \"2012-07-01T00:00:00\", \"D0\": \"1J\", \"Value\": 0.038}, {\"Date\": \"2012-08-01T00:00:00\", \"D0\": \"1J\", \"Value\": 0.025}, {\"Date\": \"2012-09-01T00:00:00\", \"D0\": \"1J\", \"Value\": 0.124}, {\"Date\": \"2012-10-01T00:00:00\", \"D0\": \"1J\", \"Value\": 0.146}, {\"Date\": \"2012-11-01T00:00:00\", \"D0\": \"1J\", \"Value\": 0.1169999999999999}, {\"Date\": \"2012-12-01T00:00:00\", \"D0\": \"1J\", \"Value\": 0.059}, {\"Date\": \"2013-01-01T00:00:00\", \"D0\": \"1J\", \"Value\": 0.14}, {\"Date\": \"2013-02-01T00:00:00\", \"D0\": \"1J\", \"Value\": 0.1369999999999999}, {\"Date\": \"2013-03-01T00:00:00\", \"D0\": \"1J\", \"Value\": 0.119}, {\"Date\": \"2013-04-01T00:00:00\", \"D0\": \"1J\", \"Value\": 0.079}, {\"Date\": \"2013-05-01T00:00:00\", \"D0\": \"1J\", \"Value\": 0.07829818}, {\"Date\": \"2013-06-01T00:00:00\", \"D0\": \"1J\", \"Value\": 0.07265734}, {\"Date\": \"2013-07-01T00:00:00\", \"D0\": \"1J\", \"Value\": 0.07649304}, {\"Date\": \"2013-08-01T00:00:00\", \"D0\": \"1J\", \"Value\": 0.09603539}, {\"Date\": \"2013-09-01T00:00:00\", \"D0\": \"1J\", \"Value\": 0.09619763}, {\"Date\": \"2013-10-01T00:00:00\", \"D0\": \"1J\", \"Value\": 0.1008528}, {\"Date\": \"2013-11-01T00:00:00\", \"D0\": \"1J\", \"Value\": 0.06378918}, {\"Date\": \"2013-12-01T00:00:00\", \"D0\": \"1J\", \"Value\": 0.04519943}, {\"Date\": \"2014-01-01T00:00:00\", \"D0\": \"1J\", \"Value\": 0.04356279}, {\"Date\": \"2014-02-01T00:00:00\", \"D0\": \"1J\", \"Value\": 0.04947024}, {\"Date\": \"2014-03-01T00:00:00\", \"D0\": \"1J\", \"Value\": 0.08511609}, {\"Date\": \"2014-04-01T00:00:00\", \"D0\": \"1J\", \"Value\": 0.10388926}, {\"Date\": \"2014-05-01T00:00:00\", \"D0\": \"1J\", \"Value\": 0.06972802}, {\"Date\": \"2014-06-01T00:00:00\", \"D0\": \"1J\", \"Value\": 0.09187296}, {\"Date\": \"2014-07-01T00:00:00\", \"D0\": \"1J\", \"Value\": 0.10910633}, {\"Date\": \"2014-08-01T00:00:00\", \"D0\": \"1J\", \"Value\": 0.07810612}, {\"Date\": \"2014-09-01T00:00:00\", \"D0\": \"1J\", \"Value\": 0.05646349}, {\"Date\": \"2014-10-01T00:00:00\", \"D0\": \"1J\", \"Value\": 0.03614148}, {\"Date\": \"2014-11-01T00:00:00\", \"D0\": \"1J\", \"Value\": -0.02185726}, {\"Date\": \"2014-12-01T00:00:00\", \"D0\": \"1J\", \"Value\": -0.0942503999999999}, {\"Date\": \"2015-01-01T00:00:00\", \"D0\": \"1J\", \"Value\": -0.6938551}, {\"Date\": \"2015-02-01T00:00:00\", \"D0\": \"1J\", \"Value\": -0.85310771}, {\"Date\": \"2015-03-01T00:00:00\", \"D0\": \"1J\", \"Value\": -0.74270215}, {\"Date\": \"2015-04-01T00:00:00\", \"D0\": \"1J\", \"Value\": -0.82939553}, {\"Date\": \"2015-05-01T00:00:00\", \"D0\": \"1J\", \"Value\": -0.83892421}, {\"Date\": \"2015-06-01T00:00:00\", \"D0\": \"1J\", \"Value\": -0.9006511}, {\"Date\": \"2015-07-01T00:00:00\", \"D0\": \"1J\", \"Value\": -0.81920267}, {\"Date\": \"2015-08-01T00:00:00\", \"D0\": \"1J\", \"Value\": -0.78366347}, {\"Date\": \"2015-09-01T00:00:00\", \"D0\": \"1J\", \"Value\": -0.82084831}, {\"Date\": \"2015-10-01T00:00:00\", \"D0\": \"1J\", \"Value\": -0.86584416}, {\"Date\": \"2015-11-01T00:00:00\", \"D0\": \"1J\", \"Value\": -0.97926764}, {\"Date\": \"2015-12-01T00:00:00\", \"D0\": \"1J\", \"Value\": -0.81482743}, {\"Date\": \"2016-01-01T00:00:00\", \"D0\": \"1J\", \"Value\": -0.85791026}, {\"Date\": \"2016-02-01T00:00:00\", \"D0\": \"1J\", \"Value\": -0.95787193}, {\"Date\": \"2016-03-01T00:00:00\", \"D0\": \"1J\", \"Value\": -0.85718832}, {\"Date\": \"2016-04-01T00:00:00\", \"D0\": \"1J\", \"Value\": -0.65447807}, {\"Date\": \"2016-05-01T00:00:00\", \"D0\": \"1J\", \"Value\": -0.65539102}, {\"Date\": \"2016-06-01T00:00:00\", \"D0\": \"1J\", \"Value\": -0.77364615}, {\"Date\": \"2016-07-01T00:00:00\", \"D0\": \"1J\", \"Value\": -0.710088}, {\"Date\": \"2016-08-01T00:00:00\", \"D0\": \"1J\", \"Value\": -0.70069374}, {\"Date\": \"2016-09-01T00:00:00\", \"D0\": \"1J\", \"Value\": -0.74157999}, {\"Date\": \"2016-10-01T00:00:00\", \"D0\": \"1J\", \"Value\": -0.6159477}, {\"Date\": \"2016-11-01T00:00:00\", \"D0\": \"1J\", \"Value\": -0.65332042}, {\"Date\": \"2016-12-01T00:00:00\", \"D0\": \"1J\", \"Value\": -0.63456941}, {\"Date\": \"2017-01-01T00:00:00\", \"D0\": \"1J\", \"Value\": -0.65100887}, {\"Date\": \"2017-02-01T00:00:00\", \"D0\": \"1J\", \"Value\": -0.66859121}, {\"Date\": \"2017-03-01T00:00:00\", \"D0\": \"1J\", \"Value\": -0.62924707}, {\"Date\": \"2017-04-01T00:00:00\", \"D0\": \"1J\", \"Value\": -0.63740533}]}}, {\"mode\": \"vega-lite\"});\n",
       "</script>"
      ],
      "text/plain": [
       "alt.Chart(...)"
      ]
     },
     "execution_count": 34,
     "metadata": {},
     "output_type": "execute_result"
    }
   ],
   "source": [
    "alt.Chart(df[df['D0'] == '1J']).mark_line().encode(\n",
    "    x='Date',\n",
    "    y='Value',\n",
    "    tooltip=['Date', 'Value']\n",
    ")"
   ]
  },
  {
   "cell_type": "markdown",
   "metadata": {
    "id": "rRY_aHaL9sjn"
   },
   "source": [
    "And defining more complex mappings form data to visual is also easy."
   ]
  },
  {
   "cell_type": "code",
   "execution_count": null,
   "metadata": {
    "colab": {
     "base_uri": "https://localhost:8080/",
     "height": 368
    },
    "executionInfo": {
     "elapsed": 411,
     "status": "ok",
     "timestamp": 1708524511944,
     "user": {
      "displayName": "Adriano Persegani",
      "userId": "17739764701888244413"
     },
     "user_tz": -60
    },
    "id": "qnp-JzZB9sjn",
    "outputId": "7de81b7c-bd88-41d6-ebf6-f0b264e5c70e",
    "tags": []
   },
   "outputs": [
    {
     "data": {
      "text/html": [
       "\n",
       "<style>\n",
       "  #altair-viz-e1b43c0f5bd247f0a13ceef57d6e3da4.vega-embed {\n",
       "    width: 100%;\n",
       "    display: flex;\n",
       "  }\n",
       "\n",
       "  #altair-viz-e1b43c0f5bd247f0a13ceef57d6e3da4.vega-embed details,\n",
       "  #altair-viz-e1b43c0f5bd247f0a13ceef57d6e3da4.vega-embed details summary {\n",
       "    position: relative;\n",
       "  }\n",
       "</style>\n",
       "<div id=\"altair-viz-e1b43c0f5bd247f0a13ceef57d6e3da4\"></div>\n",
       "<script type=\"text/javascript\">\n",
       "  var VEGA_DEBUG = (typeof VEGA_DEBUG == \"undefined\") ? {} : VEGA_DEBUG;\n",
       "  (function(spec, embedOpt){\n",
       "    let outputDiv = document.currentScript.previousElementSibling;\n",
       "    if (outputDiv.id !== \"altair-viz-e1b43c0f5bd247f0a13ceef57d6e3da4\") {\n",
       "      outputDiv = document.getElementById(\"altair-viz-e1b43c0f5bd247f0a13ceef57d6e3da4\");\n",
       "    }\n",
       "\n",
       "    const paths = {\n",
       "      \"vega\": \"https://cdn.jsdelivr.net/npm/vega@5?noext\",\n",
       "      \"vega-lib\": \"https://cdn.jsdelivr.net/npm/vega-lib?noext\",\n",
       "      \"vega-lite\": \"https://cdn.jsdelivr.net/npm/vega-lite@5.20.1?noext\",\n",
       "      \"vega-embed\": \"https://cdn.jsdelivr.net/npm/vega-embed@6?noext\",\n",
       "    };\n",
       "\n",
       "    function maybeLoadScript(lib, version) {\n",
       "      var key = `${lib.replace(\"-\", \"\")}_version`;\n",
       "      return (VEGA_DEBUG[key] == version) ?\n",
       "        Promise.resolve(paths[lib]) :\n",
       "        new Promise(function(resolve, reject) {\n",
       "          var s = document.createElement('script');\n",
       "          document.getElementsByTagName(\"head\")[0].appendChild(s);\n",
       "          s.async = true;\n",
       "          s.onload = () => {\n",
       "            VEGA_DEBUG[key] = version;\n",
       "            return resolve(paths[lib]);\n",
       "          };\n",
       "          s.onerror = () => reject(`Error loading script: ${paths[lib]}`);\n",
       "          s.src = paths[lib];\n",
       "        });\n",
       "    }\n",
       "\n",
       "    function showError(err) {\n",
       "      outputDiv.innerHTML = `<div class=\"error\" style=\"color:red;\">${err}</div>`;\n",
       "      throw err;\n",
       "    }\n",
       "\n",
       "    function displayChart(vegaEmbed) {\n",
       "      vegaEmbed(outputDiv, spec, embedOpt)\n",
       "        .catch(err => showError(`Javascript Error: ${err.message}<br>This usually means there's a typo in your chart specification. See the javascript console for the full traceback.`));\n",
       "    }\n",
       "\n",
       "    if(typeof define === \"function\" && define.amd) {\n",
       "      requirejs.config({paths});\n",
       "      let deps = [\"vega-embed\"];\n",
       "      require(deps, displayChart, err => showError(`Error loading script: ${err.message}`));\n",
       "    } else {\n",
       "      maybeLoadScript(\"vega\", \"5\")\n",
       "        .then(() => maybeLoadScript(\"vega-lite\", \"5.20.1\"))\n",
       "        .then(() => maybeLoadScript(\"vega-embed\", \"6\"))\n",
       "        .catch(showError)\n",
       "        .then(() => displayChart(vegaEmbed));\n",
       "    }\n",
       "  })({\"config\": {\"view\": {\"continuousWidth\": 300, \"continuousHeight\": 300}}, \"data\": {\"name\": \"data-4ae10e3eba9639d815d892c14d1a42be\"}, \"mark\": {\"type\": \"line\"}, \"encoding\": {\"color\": {\"field\": \"D0\", \"type\": \"nominal\"}, \"tooltip\": [{\"field\": \"Date\", \"type\": \"temporal\"}, {\"field\": \"Value\", \"type\": \"quantitative\"}, {\"field\": \"D0\", \"type\": \"nominal\"}], \"x\": {\"field\": \"Date\", \"type\": \"temporal\"}, \"y\": {\"field\": \"Value\", \"type\": \"quantitative\"}}, \"$schema\": \"https://vega.github.io/schema/vega-lite/v5.20.1.json\", \"datasets\": {\"data-4ae10e3eba9639d815d892c14d1a42be\": [{\"Date\": \"1988-01-01T00:00:00\", \"D0\": \"1J\", \"Value\": 2.887}, {\"Date\": \"1988-01-01T00:00:00\", \"D0\": \"2J\", \"Value\": 3.218}, {\"Date\": \"1988-01-01T00:00:00\", \"D0\": \"10J\", \"Value\": 4.092}, {\"Date\": \"1988-02-01T00:00:00\", \"D0\": \"1J\", \"Value\": 2.638}, {\"Date\": \"1988-02-01T00:00:00\", \"D0\": \"2J\", \"Value\": 2.99}, {\"Date\": \"1988-02-01T00:00:00\", \"D0\": \"10J\", \"Value\": 4.098}, {\"Date\": \"1988-03-01T00:00:00\", \"D0\": \"1J\", \"Value\": 2.641}, {\"Date\": \"1988-03-01T00:00:00\", \"D0\": \"2J\", \"Value\": 3.263}, {\"Date\": \"1988-03-01T00:00:00\", \"D0\": \"10J\", \"Value\": 3.998}, {\"Date\": \"1988-04-01T00:00:00\", \"D0\": \"1J\", \"Value\": 2.8}, {\"Date\": \"1988-04-01T00:00:00\", \"D0\": \"2J\", \"Value\": 3.25}, {\"Date\": \"1988-04-01T00:00:00\", \"D0\": \"10J\", \"Value\": 3.965}, {\"Date\": \"1988-05-01T00:00:00\", \"D0\": \"1J\", \"Value\": 3.1910000000000003}, {\"Date\": \"1988-05-01T00:00:00\", \"D0\": \"2J\", \"Value\": 3.602}, {\"Date\": \"1988-05-01T00:00:00\", \"D0\": \"10J\", \"Value\": 4.127}, {\"Date\": \"1988-06-01T00:00:00\", \"D0\": \"1J\", \"Value\": 3.642}, {\"Date\": \"1988-06-01T00:00:00\", \"D0\": \"2J\", \"Value\": 3.707}, {\"Date\": \"1988-06-01T00:00:00\", \"D0\": \"10J\", \"Value\": 4.155}, {\"Date\": \"1988-07-01T00:00:00\", \"D0\": \"1J\", \"Value\": 4.1610000000000005}, {\"Date\": \"1988-07-01T00:00:00\", \"D0\": \"2J\", \"Value\": 4.195}, {\"Date\": \"1988-07-01T00:00:00\", \"D0\": \"10J\", \"Value\": 4.222}, {\"Date\": \"1988-08-01T00:00:00\", \"D0\": \"1J\", \"Value\": 4.044}, {\"Date\": \"1988-08-01T00:00:00\", \"D0\": \"2J\", \"Value\": 3.959}, {\"Date\": \"1988-08-01T00:00:00\", \"D0\": \"10J\", \"Value\": 4.292}, {\"Date\": \"1988-09-01T00:00:00\", \"D0\": \"1J\", \"Value\": 3.814}, {\"Date\": \"1988-09-01T00:00:00\", \"D0\": \"2J\", \"Value\": 3.798}, {\"Date\": \"1988-09-01T00:00:00\", \"D0\": \"10J\", \"Value\": 4.257}, {\"Date\": \"1988-10-01T00:00:00\", \"D0\": \"1J\", \"Value\": 4.1080000000000005}, {\"Date\": \"1988-10-01T00:00:00\", \"D0\": \"2J\", \"Value\": 4.157}, {\"Date\": \"1988-10-01T00:00:00\", \"D0\": \"10J\", \"Value\": 4.013999999999999}, {\"Date\": \"1988-11-01T00:00:00\", \"D0\": \"1J\", \"Value\": 4.506}, {\"Date\": \"1988-11-01T00:00:00\", \"D0\": \"2J\", \"Value\": 4.29}, {\"Date\": \"1988-11-01T00:00:00\", \"D0\": \"10J\", \"Value\": 4.042}, {\"Date\": \"1988-12-01T00:00:00\", \"D0\": \"1J\", \"Value\": 4.691}, {\"Date\": \"1988-12-01T00:00:00\", \"D0\": \"2J\", \"Value\": 4.425}, {\"Date\": \"1988-12-01T00:00:00\", \"D0\": \"10J\", \"Value\": 4.107}, {\"Date\": \"1989-01-01T00:00:00\", \"D0\": \"1J\", \"Value\": 5.651}, {\"Date\": \"1989-01-01T00:00:00\", \"D0\": \"2J\", \"Value\": 5.14}, {\"Date\": \"1989-01-01T00:00:00\", \"D0\": \"10J\", \"Value\": 4.517}, {\"Date\": \"1989-02-01T00:00:00\", \"D0\": \"1J\", \"Value\": 6.079}, {\"Date\": \"1989-02-01T00:00:00\", \"D0\": \"2J\", \"Value\": 5.522}, {\"Date\": \"1989-02-01T00:00:00\", \"D0\": \"10J\", \"Value\": 4.718999999999999}, {\"Date\": \"1989-03-01T00:00:00\", \"D0\": \"1J\", \"Value\": 5.992999999999999}, {\"Date\": \"1989-03-01T00:00:00\", \"D0\": \"2J\", \"Value\": 5.473}, {\"Date\": \"1989-03-01T00:00:00\", \"D0\": \"10J\", \"Value\": 4.798}, {\"Date\": \"1989-04-01T00:00:00\", \"D0\": \"1J\", \"Value\": 6.443}, {\"Date\": \"1989-04-01T00:00:00\", \"D0\": \"2J\", \"Value\": 5.845}, {\"Date\": \"1989-04-01T00:00:00\", \"D0\": \"10J\", \"Value\": 5.053999999999999}, {\"Date\": \"1989-05-01T00:00:00\", \"D0\": \"1J\", \"Value\": 7.446000000000001}, {\"Date\": \"1989-05-01T00:00:00\", \"D0\": \"2J\", \"Value\": 6.476}, {\"Date\": \"1989-05-01T00:00:00\", \"D0\": \"10J\", \"Value\": 5.242000000000001}, {\"Date\": \"1989-06-01T00:00:00\", \"D0\": \"1J\", \"Value\": 6.922000000000001}, {\"Date\": \"1989-06-01T00:00:00\", \"D0\": \"2J\", \"Value\": 6.019}, {\"Date\": \"1989-06-01T00:00:00\", \"D0\": \"10J\", \"Value\": 5.105}, {\"Date\": \"1989-07-01T00:00:00\", \"D0\": \"1J\", \"Value\": 6.397}, {\"Date\": \"1989-07-01T00:00:00\", \"D0\": \"2J\", \"Value\": 5.617999999999999}, {\"Date\": \"1989-07-01T00:00:00\", \"D0\": \"10J\", \"Value\": 5.172999999999999}, {\"Date\": \"1989-08-01T00:00:00\", \"D0\": \"1J\", \"Value\": 7.07}, {\"Date\": \"1989-08-01T00:00:00\", \"D0\": \"2J\", \"Value\": 6.145}, {\"Date\": \"1989-08-01T00:00:00\", \"D0\": \"10J\", \"Value\": 5.195}, {\"Date\": \"1989-09-01T00:00:00\", \"D0\": \"1J\", \"Value\": 7.606}, {\"Date\": \"1989-09-01T00:00:00\", \"D0\": \"2J\", \"Value\": 6.648}, {\"Date\": \"1989-09-01T00:00:00\", \"D0\": \"10J\", \"Value\": 5.311}, {\"Date\": \"1989-10-01T00:00:00\", \"D0\": \"1J\", \"Value\": 7.534}, {\"Date\": \"1989-10-01T00:00:00\", \"D0\": \"2J\", \"Value\": 6.571000000000001}, {\"Date\": \"1989-10-01T00:00:00\", \"D0\": \"10J\", \"Value\": 5.31}, {\"Date\": \"1989-11-01T00:00:00\", \"D0\": \"1J\", \"Value\": 7.456}, {\"Date\": \"1989-11-01T00:00:00\", \"D0\": \"2J\", \"Value\": 6.45}, {\"Date\": \"1989-11-01T00:00:00\", \"D0\": \"10J\", \"Value\": 5.437}, {\"Date\": \"1989-12-01T00:00:00\", \"D0\": \"1J\", \"Value\": 8.068999999999999}, {\"Date\": \"1989-12-01T00:00:00\", \"D0\": \"2J\", \"Value\": 6.736000000000001}, {\"Date\": \"1989-12-01T00:00:00\", \"D0\": \"10J\", \"Value\": 5.617999999999999}, {\"Date\": \"1990-01-01T00:00:00\", \"D0\": \"1J\", \"Value\": 9.093}, {\"Date\": \"1990-01-01T00:00:00\", \"D0\": \"2J\", \"Value\": 7.649}, {\"Date\": \"1990-01-01T00:00:00\", \"D0\": \"10J\", \"Value\": 6.04}, {\"Date\": \"1990-02-01T00:00:00\", \"D0\": \"1J\", \"Value\": 8.788}, {\"Date\": \"1990-02-01T00:00:00\", \"D0\": \"2J\", \"Value\": 7.785}, {\"Date\": \"1990-02-01T00:00:00\", \"D0\": \"10J\", \"Value\": 6.292000000000001}, {\"Date\": \"1990-03-01T00:00:00\", \"D0\": \"1J\", \"Value\": 8.683}, {\"Date\": \"1990-03-01T00:00:00\", \"D0\": \"2J\", \"Value\": 7.734}, {\"Date\": \"1990-03-01T00:00:00\", \"D0\": \"10J\", \"Value\": 6.475}, {\"Date\": \"1990-04-01T00:00:00\", \"D0\": \"1J\", \"Value\": 8.971}, {\"Date\": \"1990-04-01T00:00:00\", \"D0\": \"2J\", \"Value\": 7.831}, {\"Date\": \"1990-04-01T00:00:00\", \"D0\": \"10J\", \"Value\": 6.629}, {\"Date\": \"1990-05-01T00:00:00\", \"D0\": \"1J\", \"Value\": 8.014}, {\"Date\": \"1990-05-01T00:00:00\", \"D0\": \"2J\", \"Value\": 6.922999999999999}, {\"Date\": \"1990-05-01T00:00:00\", \"D0\": \"10J\", \"Value\": 6.3}, {\"Date\": \"1990-06-01T00:00:00\", \"D0\": \"1J\", \"Value\": 8.123}, {\"Date\": \"1990-06-01T00:00:00\", \"D0\": \"2J\", \"Value\": 6.988}, {\"Date\": \"1990-06-01T00:00:00\", \"D0\": \"10J\", \"Value\": 6.147}, {\"Date\": \"1990-07-01T00:00:00\", \"D0\": \"1J\", \"Value\": 8.263}, {\"Date\": \"1990-07-01T00:00:00\", \"D0\": \"2J\", \"Value\": 6.931}, {\"Date\": \"1990-07-01T00:00:00\", \"D0\": \"10J\", \"Value\": 6.077999999999999}, {\"Date\": \"1990-08-01T00:00:00\", \"D0\": \"1J\", \"Value\": 8.321}, {\"Date\": \"1990-08-01T00:00:00\", \"D0\": \"2J\", \"Value\": 7.38}, {\"Date\": \"1990-08-01T00:00:00\", \"D0\": \"10J\", \"Value\": 6.484}, {\"Date\": \"1990-09-01T00:00:00\", \"D0\": \"1J\", \"Value\": 7.952000000000001}, {\"Date\": \"1990-09-01T00:00:00\", \"D0\": \"2J\", \"Value\": 7.071000000000001}, {\"Date\": \"1990-09-01T00:00:00\", \"D0\": \"10J\", \"Value\": 6.509}, {\"Date\": \"1990-10-01T00:00:00\", \"D0\": \"1J\", \"Value\": 7.796}, {\"Date\": \"1990-10-01T00:00:00\", \"D0\": \"2J\", \"Value\": 6.983}, {\"Date\": \"1990-10-01T00:00:00\", \"D0\": \"10J\", \"Value\": 6.4910000000000005}, {\"Date\": \"1990-11-01T00:00:00\", \"D0\": \"1J\", \"Value\": 8.36}, {\"Date\": \"1990-11-01T00:00:00\", \"D0\": \"2J\", \"Value\": 7.362999999999999}, {\"Date\": \"1990-11-01T00:00:00\", \"D0\": \"10J\", \"Value\": 6.563}, {\"Date\": \"1990-12-01T00:00:00\", \"D0\": \"1J\", \"Value\": 8.152000000000001}, {\"Date\": \"1990-12-01T00:00:00\", \"D0\": \"2J\", \"Value\": 7.358}, {\"Date\": \"1990-12-01T00:00:00\", \"D0\": \"10J\", \"Value\": 6.601}, {\"Date\": \"1991-01-01T00:00:00\", \"D0\": \"1J\", \"Value\": 7.755}, {\"Date\": \"1991-01-01T00:00:00\", \"D0\": \"2J\", \"Value\": 6.952000000000001}, {\"Date\": \"1991-01-01T00:00:00\", \"D0\": \"10J\", \"Value\": 6.415}, {\"Date\": \"1991-02-01T00:00:00\", \"D0\": \"1J\", \"Value\": 7.66}, {\"Date\": \"1991-02-01T00:00:00\", \"D0\": \"2J\", \"Value\": 6.925}, {\"Date\": \"1991-02-01T00:00:00\", \"D0\": \"10J\", \"Value\": 6.221}, {\"Date\": \"1991-03-01T00:00:00\", \"D0\": \"1J\", \"Value\": 7.629}, {\"Date\": \"1991-03-01T00:00:00\", \"D0\": \"2J\", \"Value\": 6.702000000000001}, {\"Date\": \"1991-03-01T00:00:00\", \"D0\": \"10J\", \"Value\": 6.155}, {\"Date\": \"1991-04-01T00:00:00\", \"D0\": \"1J\", \"Value\": 7.81}, {\"Date\": \"1991-04-01T00:00:00\", \"D0\": \"2J\", \"Value\": 6.851}, {\"Date\": \"1991-04-01T00:00:00\", \"D0\": \"10J\", \"Value\": 6.016}, {\"Date\": \"1991-05-01T00:00:00\", \"D0\": \"1J\", \"Value\": 7.544}, {\"Date\": \"1991-05-01T00:00:00\", \"D0\": \"2J\", \"Value\": 6.61}, {\"Date\": \"1991-05-01T00:00:00\", \"D0\": \"10J\", \"Value\": 5.813}, {\"Date\": \"1991-06-01T00:00:00\", \"D0\": \"1J\", \"Value\": 7.644}, {\"Date\": \"1991-06-01T00:00:00\", \"D0\": \"2J\", \"Value\": 6.752999999999999}, {\"Date\": \"1991-06-01T00:00:00\", \"D0\": \"10J\", \"Value\": 5.971}, {\"Date\": \"1991-07-01T00:00:00\", \"D0\": \"1J\", \"Value\": 7.451}, {\"Date\": \"1991-07-01T00:00:00\", \"D0\": \"2J\", \"Value\": 6.695}, {\"Date\": \"1991-07-01T00:00:00\", \"D0\": \"10J\", \"Value\": 5.996}, {\"Date\": \"1991-08-01T00:00:00\", \"D0\": \"1J\", \"Value\": 7.501}, {\"Date\": \"1991-08-01T00:00:00\", \"D0\": \"2J\", \"Value\": 6.775}, {\"Date\": \"1991-08-01T00:00:00\", \"D0\": \"10J\", \"Value\": 6.107}, {\"Date\": \"1991-09-01T00:00:00\", \"D0\": \"1J\", \"Value\": 7.39}, {\"Date\": \"1991-09-01T00:00:00\", \"D0\": \"2J\", \"Value\": 6.6610000000000005}, {\"Date\": \"1991-09-01T00:00:00\", \"D0\": \"10J\", \"Value\": 6.198}, {\"Date\": \"1991-10-01T00:00:00\", \"D0\": \"1J\", \"Value\": 7.838999999999999}, {\"Date\": \"1991-10-01T00:00:00\", \"D0\": \"2J\", \"Value\": 7.26}, {\"Date\": \"1991-10-01T00:00:00\", \"D0\": \"10J\", \"Value\": 6.698}, {\"Date\": \"1991-11-01T00:00:00\", \"D0\": \"1J\", \"Value\": 7.636}, {\"Date\": \"1991-11-01T00:00:00\", \"D0\": \"2J\", \"Value\": 7.056}, {\"Date\": \"1991-11-01T00:00:00\", \"D0\": \"10J\", \"Value\": 6.6370000000000005}, {\"Date\": \"1991-12-01T00:00:00\", \"D0\": \"1J\", \"Value\": 7.415}, {\"Date\": \"1991-12-01T00:00:00\", \"D0\": \"2J\", \"Value\": 6.577999999999999}, {\"Date\": \"1991-12-01T00:00:00\", \"D0\": \"10J\", \"Value\": 6.37}, {\"Date\": \"1992-01-01T00:00:00\", \"D0\": \"1J\", \"Value\": 7.22}, {\"Date\": \"1992-01-01T00:00:00\", \"D0\": \"2J\", \"Value\": 6.627000000000001}, {\"Date\": \"1992-01-01T00:00:00\", \"D0\": \"10J\", \"Value\": 6.175}, {\"Date\": \"1992-02-01T00:00:00\", \"D0\": \"1J\", \"Value\": 7.242000000000001}, {\"Date\": \"1992-02-01T00:00:00\", \"D0\": \"2J\", \"Value\": 6.697}, {\"Date\": \"1992-02-01T00:00:00\", \"D0\": \"10J\", \"Value\": 6.132000000000001}, {\"Date\": \"1992-03-01T00:00:00\", \"D0\": \"1J\", \"Value\": 7.917000000000001}, {\"Date\": \"1992-03-01T00:00:00\", \"D0\": \"2J\", \"Value\": 6.938}, {\"Date\": \"1992-03-01T00:00:00\", \"D0\": \"10J\", \"Value\": 6.676}, {\"Date\": \"1992-04-01T00:00:00\", \"D0\": \"1J\", \"Value\": 8.104}, {\"Date\": \"1992-04-01T00:00:00\", \"D0\": \"2J\", \"Value\": 7.228}, {\"Date\": \"1992-04-01T00:00:00\", \"D0\": \"10J\", \"Value\": 6.545}, {\"Date\": \"1992-05-01T00:00:00\", \"D0\": \"1J\", \"Value\": 8.494}, {\"Date\": \"1992-05-01T00:00:00\", \"D0\": \"2J\", \"Value\": 7.522}, {\"Date\": \"1992-05-01T00:00:00\", \"D0\": \"10J\", \"Value\": 6.861000000000001}, {\"Date\": \"1992-06-01T00:00:00\", \"D0\": \"1J\", \"Value\": 8.513}, {\"Date\": \"1992-06-01T00:00:00\", \"D0\": \"2J\", \"Value\": 7.622000000000001}, {\"Date\": \"1992-06-01T00:00:00\", \"D0\": \"10J\", \"Value\": 6.924}, {\"Date\": \"1992-07-01T00:00:00\", \"D0\": \"1J\", \"Value\": 8.322000000000001}, {\"Date\": \"1992-07-01T00:00:00\", \"D0\": \"2J\", \"Value\": 7.65}, {\"Date\": \"1992-07-01T00:00:00\", \"D0\": \"10J\", \"Value\": 6.867000000000001}, {\"Date\": \"1992-08-01T00:00:00\", \"D0\": \"1J\", \"Value\": 7.7}, {\"Date\": \"1992-08-01T00:00:00\", \"D0\": \"2J\", \"Value\": 7.292000000000001}, {\"Date\": \"1992-08-01T00:00:00\", \"D0\": \"10J\", \"Value\": 6.854}, {\"Date\": \"1992-09-01T00:00:00\", \"D0\": \"1J\", \"Value\": 6.959}, {\"Date\": \"1992-09-01T00:00:00\", \"D0\": \"2J\", \"Value\": 6.779}, {\"Date\": \"1992-09-01T00:00:00\", \"D0\": \"10J\", \"Value\": 6.292000000000001}, {\"Date\": \"1992-10-01T00:00:00\", \"D0\": \"1J\", \"Value\": 5.95}, {\"Date\": \"1992-10-01T00:00:00\", \"D0\": \"2J\", \"Value\": 5.821000000000001}, {\"Date\": \"1992-10-01T00:00:00\", \"D0\": \"10J\", \"Value\": 6.0920000000000005}, {\"Date\": \"1992-11-01T00:00:00\", \"D0\": \"1J\", \"Value\": 6.064}, {\"Date\": \"1992-11-01T00:00:00\", \"D0\": \"2J\", \"Value\": 5.8870000000000005}, {\"Date\": \"1992-11-01T00:00:00\", \"D0\": \"10J\", \"Value\": 6.063}, {\"Date\": \"1992-12-01T00:00:00\", \"D0\": \"1J\", \"Value\": 5.797000000000001}, {\"Date\": \"1992-12-01T00:00:00\", \"D0\": \"2J\", \"Value\": 5.529}, {\"Date\": \"1992-12-01T00:00:00\", \"D0\": \"10J\", \"Value\": 5.68}, {\"Date\": \"1993-01-01T00:00:00\", \"D0\": \"1J\", \"Value\": 5.138999999999999}, {\"Date\": \"1993-01-01T00:00:00\", \"D0\": \"2J\", \"Value\": 5.114}, {\"Date\": \"1993-01-01T00:00:00\", \"D0\": \"10J\", \"Value\": 5.539}, {\"Date\": \"1993-02-01T00:00:00\", \"D0\": \"1J\", \"Value\": 4.894}, {\"Date\": \"1993-02-01T00:00:00\", \"D0\": \"2J\", \"Value\": 4.785}, {\"Date\": \"1993-02-01T00:00:00\", \"D0\": \"10J\", \"Value\": 4.907}, {\"Date\": \"1993-03-01T00:00:00\", \"D0\": \"1J\", \"Value\": 4.509}, {\"Date\": \"1993-03-01T00:00:00\", \"D0\": \"2J\", \"Value\": 4.444}, {\"Date\": \"1993-03-01T00:00:00\", \"D0\": \"10J\", \"Value\": 4.688}, {\"Date\": \"1993-04-01T00:00:00\", \"D0\": \"1J\", \"Value\": 4.47}, {\"Date\": \"1993-04-01T00:00:00\", \"D0\": \"2J\", \"Value\": 4.267}, {\"Date\": \"1993-04-01T00:00:00\", \"D0\": \"10J\", \"Value\": 4.845}, {\"Date\": \"1993-05-01T00:00:00\", \"D0\": \"1J\", \"Value\": 4.626}, {\"Date\": \"1993-05-01T00:00:00\", \"D0\": \"2J\", \"Value\": 4.257}, {\"Date\": \"1993-05-01T00:00:00\", \"D0\": \"10J\", \"Value\": 4.846}, {\"Date\": \"1993-06-01T00:00:00\", \"D0\": \"1J\", \"Value\": 4.54}, {\"Date\": \"1993-06-01T00:00:00\", \"D0\": \"2J\", \"Value\": 4.364}, {\"Date\": \"1993-06-01T00:00:00\", \"D0\": \"10J\", \"Value\": 4.566}, {\"Date\": \"1993-07-01T00:00:00\", \"D0\": \"1J\", \"Value\": 4.317}, {\"Date\": \"1993-07-01T00:00:00\", \"D0\": \"2J\", \"Value\": 4.259}, {\"Date\": \"1993-07-01T00:00:00\", \"D0\": \"10J\", \"Value\": 4.546}, {\"Date\": \"1993-08-01T00:00:00\", \"D0\": \"1J\", \"Value\": 4.336}, {\"Date\": \"1993-08-01T00:00:00\", \"D0\": \"2J\", \"Value\": 4.225}, {\"Date\": \"1993-08-01T00:00:00\", \"D0\": \"10J\", \"Value\": 4.479}, {\"Date\": \"1993-09-01T00:00:00\", \"D0\": \"1J\", \"Value\": 4.213}, {\"Date\": \"1993-09-01T00:00:00\", \"D0\": \"2J\", \"Value\": 4.111000000000001}, {\"Date\": \"1993-09-01T00:00:00\", \"D0\": \"10J\", \"Value\": 4.455}, {\"Date\": \"1993-10-01T00:00:00\", \"D0\": \"1J\", \"Value\": 3.999}, {\"Date\": \"1993-10-01T00:00:00\", \"D0\": \"2J\", \"Value\": 3.888}, {\"Date\": \"1993-10-01T00:00:00\", \"D0\": \"10J\", \"Value\": 4.208}, {\"Date\": \"1993-11-01T00:00:00\", \"D0\": \"1J\", \"Value\": 3.867}, {\"Date\": \"1993-11-01T00:00:00\", \"D0\": \"2J\", \"Value\": 3.767}, {\"Date\": \"1993-11-01T00:00:00\", \"D0\": \"10J\", \"Value\": 4.247}, {\"Date\": \"1993-12-01T00:00:00\", \"D0\": \"1J\", \"Value\": 3.552}, {\"Date\": \"1993-12-01T00:00:00\", \"D0\": \"2J\", \"Value\": 3.457}, {\"Date\": \"1993-12-01T00:00:00\", \"D0\": \"10J\", \"Value\": 4.136}, {\"Date\": \"1994-01-01T00:00:00\", \"D0\": \"1J\", \"Value\": 3.653}, {\"Date\": \"1994-01-01T00:00:00\", \"D0\": \"2J\", \"Value\": 3.543}, {\"Date\": \"1994-01-01T00:00:00\", \"D0\": \"10J\", \"Value\": 4.206}, {\"Date\": \"1994-02-01T00:00:00\", \"D0\": \"1J\", \"Value\": 3.806}, {\"Date\": \"1994-02-01T00:00:00\", \"D0\": \"2J\", \"Value\": 3.686}, {\"Date\": \"1994-02-01T00:00:00\", \"D0\": \"10J\", \"Value\": 4.465}, {\"Date\": \"1994-03-01T00:00:00\", \"D0\": \"1J\", \"Value\": 3.941}, {\"Date\": \"1994-03-01T00:00:00\", \"D0\": \"2J\", \"Value\": 3.948}, {\"Date\": \"1994-03-01T00:00:00\", \"D0\": \"10J\", \"Value\": 4.634}, {\"Date\": \"1994-04-01T00:00:00\", \"D0\": \"1J\", \"Value\": 4.033}, {\"Date\": \"1994-04-01T00:00:00\", \"D0\": \"2J\", \"Value\": 4.1930000000000005}, {\"Date\": \"1994-04-01T00:00:00\", \"D0\": \"10J\", \"Value\": 5.062}, {\"Date\": \"1994-05-01T00:00:00\", \"D0\": \"1J\", \"Value\": 4.045}, {\"Date\": \"1994-05-01T00:00:00\", \"D0\": \"2J\", \"Value\": 3.978}, {\"Date\": \"1994-05-01T00:00:00\", \"D0\": \"10J\", \"Value\": 5.046}, {\"Date\": \"1994-06-01T00:00:00\", \"D0\": \"1J\", \"Value\": 4.367}, {\"Date\": \"1994-06-01T00:00:00\", \"D0\": \"2J\", \"Value\": 4.343}, {\"Date\": \"1994-06-01T00:00:00\", \"D0\": \"10J\", \"Value\": 5.334}, {\"Date\": \"1994-07-01T00:00:00\", \"D0\": \"1J\", \"Value\": 4.452}, {\"Date\": \"1994-07-01T00:00:00\", \"D0\": \"2J\", \"Value\": 4.449}, {\"Date\": \"1994-07-01T00:00:00\", \"D0\": \"10J\", \"Value\": 5.273}, {\"Date\": \"1994-08-01T00:00:00\", \"D0\": \"1J\", \"Value\": 4.605}, {\"Date\": \"1994-08-01T00:00:00\", \"D0\": \"2J\", \"Value\": 4.776}, {\"Date\": \"1994-08-01T00:00:00\", \"D0\": \"10J\", \"Value\": 5.492000000000001}, {\"Date\": \"1994-09-01T00:00:00\", \"D0\": \"1J\", \"Value\": 4.535}, {\"Date\": \"1994-09-01T00:00:00\", \"D0\": \"2J\", \"Value\": 4.843}, {\"Date\": \"1994-09-01T00:00:00\", \"D0\": \"10J\", \"Value\": 5.636}, {\"Date\": \"1994-10-01T00:00:00\", \"D0\": \"1J\", \"Value\": 4.336}, {\"Date\": \"1994-10-01T00:00:00\", \"D0\": \"2J\", \"Value\": 4.761}, {\"Date\": \"1994-10-01T00:00:00\", \"D0\": \"10J\", \"Value\": 5.593999999999999}, {\"Date\": \"1994-11-01T00:00:00\", \"D0\": \"1J\", \"Value\": 4.424}, {\"Date\": \"1994-11-01T00:00:00\", \"D0\": \"2J\", \"Value\": 4.723}, {\"Date\": \"1994-11-01T00:00:00\", \"D0\": \"10J\", \"Value\": 5.367999999999999}, {\"Date\": \"1994-12-01T00:00:00\", \"D0\": \"1J\", \"Value\": 4.586}, {\"Date\": \"1994-12-01T00:00:00\", \"D0\": \"2J\", \"Value\": 4.718}, {\"Date\": \"1994-12-01T00:00:00\", \"D0\": \"10J\", \"Value\": 5.303999999999999}, {\"Date\": \"1995-01-01T00:00:00\", \"D0\": \"1J\", \"Value\": 4.423}, {\"Date\": \"1995-01-01T00:00:00\", \"D0\": \"2J\", \"Value\": 4.64}, {\"Date\": \"1995-01-01T00:00:00\", \"D0\": \"10J\", \"Value\": 5.322}, {\"Date\": \"1995-02-01T00:00:00\", \"D0\": \"1J\", \"Value\": 4.259}, {\"Date\": \"1995-02-01T00:00:00\", \"D0\": \"2J\", \"Value\": 4.595}, {\"Date\": \"1995-02-01T00:00:00\", \"D0\": \"10J\", \"Value\": 5.325}, {\"Date\": \"1995-03-01T00:00:00\", \"D0\": \"1J\", \"Value\": 3.812}, {\"Date\": \"1995-03-01T00:00:00\", \"D0\": \"2J\", \"Value\": 4.2}, {\"Date\": \"1995-03-01T00:00:00\", \"D0\": \"10J\", \"Value\": 5.178999999999999}, {\"Date\": \"1995-04-01T00:00:00\", \"D0\": \"1J\", \"Value\": 3.644}, {\"Date\": \"1995-04-01T00:00:00\", \"D0\": \"2J\", \"Value\": 3.955}, {\"Date\": \"1995-04-01T00:00:00\", \"D0\": \"10J\", \"Value\": 5.033}, {\"Date\": \"1995-05-01T00:00:00\", \"D0\": \"1J\", \"Value\": 3.48}, {\"Date\": \"1995-05-01T00:00:00\", \"D0\": \"2J\", \"Value\": 3.815}, {\"Date\": \"1995-05-01T00:00:00\", \"D0\": \"10J\", \"Value\": 4.873}, {\"Date\": \"1995-06-01T00:00:00\", \"D0\": \"1J\", \"Value\": 3.322}, {\"Date\": \"1995-06-01T00:00:00\", \"D0\": \"2J\", \"Value\": 3.682}, {\"Date\": \"1995-06-01T00:00:00\", \"D0\": \"10J\", \"Value\": 4.936}, {\"Date\": \"1995-07-01T00:00:00\", \"D0\": \"1J\", \"Value\": 3.034}, {\"Date\": \"1995-07-01T00:00:00\", \"D0\": \"2J\", \"Value\": 3.46}, {\"Date\": \"1995-07-01T00:00:00\", \"D0\": \"10J\", \"Value\": 4.859}, {\"Date\": \"1995-08-01T00:00:00\", \"D0\": \"1J\", \"Value\": 3.065}, {\"Date\": \"1995-08-01T00:00:00\", \"D0\": \"2J\", \"Value\": 3.4610000000000003}, {\"Date\": \"1995-08-01T00:00:00\", \"D0\": \"10J\", \"Value\": 4.73}, {\"Date\": \"1995-09-01T00:00:00\", \"D0\": \"1J\", \"Value\": 2.58}, {\"Date\": \"1995-09-01T00:00:00\", \"D0\": \"2J\", \"Value\": 2.945}, {\"Date\": \"1995-09-01T00:00:00\", \"D0\": \"10J\", \"Value\": 4.555}, {\"Date\": \"1995-10-01T00:00:00\", \"D0\": \"1J\", \"Value\": 2.187}, {\"Date\": \"1995-10-01T00:00:00\", \"D0\": \"2J\", \"Value\": 2.758}, {\"Date\": \"1995-10-01T00:00:00\", \"D0\": \"10J\", \"Value\": 4.38}, {\"Date\": \"1995-11-01T00:00:00\", \"D0\": \"1J\", \"Value\": 1.896}, {\"Date\": \"1995-11-01T00:00:00\", \"D0\": \"2J\", \"Value\": 2.259}, {\"Date\": \"1995-11-01T00:00:00\", \"D0\": \"10J\", \"Value\": 4.057}, {\"Date\": \"1995-12-01T00:00:00\", \"D0\": \"1J\", \"Value\": 1.783}, {\"Date\": \"1995-12-01T00:00:00\", \"D0\": \"2J\", \"Value\": 2.278}, {\"Date\": \"1995-12-01T00:00:00\", \"D0\": \"10J\", \"Value\": 4.09}, {\"Date\": \"1996-01-01T00:00:00\", \"D0\": \"1J\", \"Value\": 1.798}, {\"Date\": \"1996-01-01T00:00:00\", \"D0\": \"2J\", \"Value\": 2.242}, {\"Date\": \"1996-01-01T00:00:00\", \"D0\": \"10J\", \"Value\": 4.437}, {\"Date\": \"1996-02-01T00:00:00\", \"D0\": \"1J\", \"Value\": 1.883}, {\"Date\": \"1996-02-01T00:00:00\", \"D0\": \"2J\", \"Value\": 2.378}, {\"Date\": \"1996-02-01T00:00:00\", \"D0\": \"10J\", \"Value\": 4.3580000000000005}, {\"Date\": \"1996-03-01T00:00:00\", \"D0\": \"1J\", \"Value\": 1.829}, {\"Date\": \"1996-03-01T00:00:00\", \"D0\": \"2J\", \"Value\": 2.2230000000000003}, {\"Date\": \"1996-03-01T00:00:00\", \"D0\": \"10J\", \"Value\": 4.406000000000001}, {\"Date\": \"1996-04-01T00:00:00\", \"D0\": \"1J\", \"Value\": 1.867}, {\"Date\": \"1996-04-01T00:00:00\", \"D0\": \"2J\", \"Value\": 2.17}, {\"Date\": \"1996-04-01T00:00:00\", \"D0\": \"10J\", \"Value\": 4.329}, {\"Date\": \"1996-05-01T00:00:00\", \"D0\": \"1J\", \"Value\": 2.649}, {\"Date\": \"1996-05-01T00:00:00\", \"D0\": \"2J\", \"Value\": 2.91}, {\"Date\": \"1996-05-01T00:00:00\", \"D0\": \"10J\", \"Value\": 4.682}, {\"Date\": \"1996-06-01T00:00:00\", \"D0\": \"1J\", \"Value\": 2.594}, {\"Date\": \"1996-06-01T00:00:00\", \"D0\": \"2J\", \"Value\": 2.761}, {\"Date\": \"1996-06-01T00:00:00\", \"D0\": \"10J\", \"Value\": 4.627}, {\"Date\": \"1996-07-01T00:00:00\", \"D0\": \"1J\", \"Value\": 2.517}, {\"Date\": \"1996-07-01T00:00:00\", \"D0\": \"2J\", \"Value\": 2.73}, {\"Date\": \"1996-07-01T00:00:00\", \"D0\": \"10J\", \"Value\": 4.561}, {\"Date\": \"1996-08-01T00:00:00\", \"D0\": \"1J\", \"Value\": 2.206}, {\"Date\": \"1996-08-01T00:00:00\", \"D0\": \"2J\", \"Value\": 2.503}, {\"Date\": \"1996-08-01T00:00:00\", \"D0\": \"10J\", \"Value\": 4.467}, {\"Date\": \"1996-09-01T00:00:00\", \"D0\": \"1J\", \"Value\": 1.7719999999999998}, {\"Date\": \"1996-09-01T00:00:00\", \"D0\": \"2J\", \"Value\": 2.201}, {\"Date\": \"1996-09-01T00:00:00\", \"D0\": \"10J\", \"Value\": 4.256}, {\"Date\": \"1996-10-01T00:00:00\", \"D0\": \"1J\", \"Value\": 1.7480000000000002}, {\"Date\": \"1996-10-01T00:00:00\", \"D0\": \"2J\", \"Value\": 1.997}, {\"Date\": \"1996-10-01T00:00:00\", \"D0\": \"10J\", \"Value\": 4.166}, {\"Date\": \"1996-11-01T00:00:00\", \"D0\": \"1J\", \"Value\": 2.067}, {\"Date\": \"1996-11-01T00:00:00\", \"D0\": \"2J\", \"Value\": 2.249}, {\"Date\": \"1996-11-01T00:00:00\", \"D0\": \"10J\", \"Value\": 4.191}, {\"Date\": \"1996-12-01T00:00:00\", \"D0\": \"1J\", \"Value\": 1.723}, {\"Date\": \"1996-12-01T00:00:00\", \"D0\": \"2J\", \"Value\": 2.049}, {\"Date\": \"1996-12-01T00:00:00\", \"D0\": \"10J\", \"Value\": 4.125}, {\"Date\": \"1997-01-01T00:00:00\", \"D0\": \"1J\", \"Value\": 1.6869999999999998}, {\"Date\": \"1997-01-01T00:00:00\", \"D0\": \"2J\", \"Value\": 1.98}, {\"Date\": \"1997-01-01T00:00:00\", \"D0\": \"10J\", \"Value\": 3.959}, {\"Date\": \"1997-02-01T00:00:00\", \"D0\": \"1J\", \"Value\": 1.571}, {\"Date\": \"1997-02-01T00:00:00\", \"D0\": \"2J\", \"Value\": 1.726}, {\"Date\": \"1997-02-01T00:00:00\", \"D0\": \"10J\", \"Value\": 3.517}, {\"Date\": \"1997-03-01T00:00:00\", \"D0\": \"1J\", \"Value\": 1.72}, {\"Date\": \"1997-03-01T00:00:00\", \"D0\": \"2J\", \"Value\": 1.953}, {\"Date\": \"1997-03-01T00:00:00\", \"D0\": \"10J\", \"Value\": 3.853}, {\"Date\": \"1997-04-01T00:00:00\", \"D0\": \"1J\", \"Value\": 1.7719999999999998}, {\"Date\": \"1997-04-01T00:00:00\", \"D0\": \"2J\", \"Value\": 1.862}, {\"Date\": \"1997-04-01T00:00:00\", \"D0\": \"10J\", \"Value\": 3.769}, {\"Date\": \"1997-05-01T00:00:00\", \"D0\": \"1J\", \"Value\": 1.287}, {\"Date\": \"1997-05-01T00:00:00\", \"D0\": \"2J\", \"Value\": 1.594}, {\"Date\": \"1997-05-01T00:00:00\", \"D0\": \"10J\", \"Value\": 3.5860000000000003}, {\"Date\": \"1997-06-01T00:00:00\", \"D0\": \"1J\", \"Value\": 1.406}, {\"Date\": \"1997-06-01T00:00:00\", \"D0\": \"2J\", \"Value\": 1.653}, {\"Date\": \"1997-06-01T00:00:00\", \"D0\": \"10J\", \"Value\": 3.522}, {\"Date\": \"1997-07-01T00:00:00\", \"D0\": \"1J\", \"Value\": 1.5519999999999998}, {\"Date\": \"1997-07-01T00:00:00\", \"D0\": \"2J\", \"Value\": 1.743}, {\"Date\": \"1997-07-01T00:00:00\", \"D0\": \"10J\", \"Value\": 3.585}, {\"Date\": \"1997-08-01T00:00:00\", \"D0\": \"1J\", \"Value\": 1.608}, {\"Date\": \"1997-08-01T00:00:00\", \"D0\": \"2J\", \"Value\": 1.868}, {\"Date\": \"1997-08-01T00:00:00\", \"D0\": \"10J\", \"Value\": 3.692}, {\"Date\": \"1997-09-01T00:00:00\", \"D0\": \"1J\", \"Value\": 1.7180000000000002}, {\"Date\": \"1997-09-01T00:00:00\", \"D0\": \"2J\", \"Value\": 2.002}, {\"Date\": \"1997-09-01T00:00:00\", \"D0\": \"10J\", \"Value\": 3.704}, {\"Date\": \"1997-10-01T00:00:00\", \"D0\": \"1J\", \"Value\": 2.006}, {\"Date\": \"1997-10-01T00:00:00\", \"D0\": \"2J\", \"Value\": 2.24}, {\"Date\": \"1997-10-01T00:00:00\", \"D0\": \"10J\", \"Value\": 3.719}, {\"Date\": \"1997-11-01T00:00:00\", \"D0\": \"1J\", \"Value\": 1.953}, {\"Date\": \"1997-11-01T00:00:00\", \"D0\": \"2J\", \"Value\": 2.13}, {\"Date\": \"1997-11-01T00:00:00\", \"D0\": \"10J\", \"Value\": 3.692}, {\"Date\": \"1997-12-01T00:00:00\", \"D0\": \"1J\", \"Value\": 1.658}, {\"Date\": \"1997-12-01T00:00:00\", \"D0\": \"2J\", \"Value\": 1.883}, {\"Date\": \"1997-12-01T00:00:00\", \"D0\": \"10J\", \"Value\": 3.445}, {\"Date\": \"1998-01-01T00:00:00\", \"D0\": \"1J\", \"Value\": 1.4069999999999998}, {\"Date\": \"1998-01-01T00:00:00\", \"D0\": \"2J\", \"Value\": 1.5830000000000002}, {\"Date\": \"1998-01-01T00:00:00\", \"D0\": \"10J\", \"Value\": 3.084}, {\"Date\": \"1998-02-01T00:00:00\", \"D0\": \"1J\", \"Value\": 1.128}, {\"Date\": \"1998-02-01T00:00:00\", \"D0\": \"2J\", \"Value\": 1.369}, {\"Date\": \"1998-02-01T00:00:00\", \"D0\": \"10J\", \"Value\": 2.964}, {\"Date\": \"1998-03-01T00:00:00\", \"D0\": \"1J\", \"Value\": 1.568}, {\"Date\": \"1998-03-01T00:00:00\", \"D0\": \"2J\", \"Value\": 1.758}, {\"Date\": \"1998-03-01T00:00:00\", \"D0\": \"10J\", \"Value\": 3.109}, {\"Date\": \"1998-04-01T00:00:00\", \"D0\": \"1J\", \"Value\": 1.715}, {\"Date\": \"1998-04-01T00:00:00\", \"D0\": \"2J\", \"Value\": 1.981}, {\"Date\": \"1998-04-01T00:00:00\", \"D0\": \"10J\", \"Value\": 3.344}, {\"Date\": \"1998-05-01T00:00:00\", \"D0\": \"1J\", \"Value\": 1.72}, {\"Date\": \"1998-05-01T00:00:00\", \"D0\": \"2J\", \"Value\": 1.921}, {\"Date\": \"1998-05-01T00:00:00\", \"D0\": \"10J\", \"Value\": 3.179}, {\"Date\": \"1998-06-01T00:00:00\", \"D0\": \"1J\", \"Value\": 2.117}, {\"Date\": \"1998-06-01T00:00:00\", \"D0\": \"2J\", \"Value\": 2.216}, {\"Date\": \"1998-06-01T00:00:00\", \"D0\": \"10J\", \"Value\": 3.3080000000000003}, {\"Date\": \"1998-07-01T00:00:00\", \"D0\": \"1J\", \"Value\": 1.982}, {\"Date\": \"1998-07-01T00:00:00\", \"D0\": \"2J\", \"Value\": 2.067}, {\"Date\": \"1998-07-01T00:00:00\", \"D0\": \"10J\", \"Value\": 3.19}, {\"Date\": \"1998-08-01T00:00:00\", \"D0\": \"1J\", \"Value\": 1.59}, {\"Date\": \"1998-08-01T00:00:00\", \"D0\": \"2J\", \"Value\": 1.756}, {\"Date\": \"1998-08-01T00:00:00\", \"D0\": \"10J\", \"Value\": 2.988}, {\"Date\": \"1998-09-01T00:00:00\", \"D0\": \"1J\", \"Value\": 1.722}, {\"Date\": \"1998-09-01T00:00:00\", \"D0\": \"2J\", \"Value\": 1.74}, {\"Date\": \"1998-09-01T00:00:00\", \"D0\": \"10J\", \"Value\": 3.0860000000000003}, {\"Date\": \"1998-10-01T00:00:00\", \"D0\": \"1J\", \"Value\": 1.398}, {\"Date\": \"1998-10-01T00:00:00\", \"D0\": \"2J\", \"Value\": 1.484}, {\"Date\": \"1998-10-01T00:00:00\", \"D0\": \"10J\", \"Value\": 2.914}, {\"Date\": \"1998-11-01T00:00:00\", \"D0\": \"1J\", \"Value\": 1.6840000000000002}, {\"Date\": \"1998-11-01T00:00:00\", \"D0\": \"2J\", \"Value\": 1.747}, {\"Date\": \"1998-11-01T00:00:00\", \"D0\": \"10J\", \"Value\": 2.659}, {\"Date\": \"1998-12-01T00:00:00\", \"D0\": \"1J\", \"Value\": 1.753}, {\"Date\": \"1998-12-01T00:00:00\", \"D0\": \"2J\", \"Value\": 1.7280000000000002}, {\"Date\": \"1998-12-01T00:00:00\", \"D0\": \"10J\", \"Value\": 2.71}, {\"Date\": \"1999-01-01T00:00:00\", \"D0\": \"1J\", \"Value\": 1.381}, {\"Date\": \"1999-01-01T00:00:00\", \"D0\": \"2J\", \"Value\": 1.568}, {\"Date\": \"1999-01-01T00:00:00\", \"D0\": \"10J\", \"Value\": 2.555}, {\"Date\": \"1999-02-01T00:00:00\", \"D0\": \"1J\", \"Value\": 1.293}, {\"Date\": \"1999-02-01T00:00:00\", \"D0\": \"2J\", \"Value\": 1.491}, {\"Date\": \"1999-02-01T00:00:00\", \"D0\": \"10J\", \"Value\": 2.55}, {\"Date\": \"1999-03-01T00:00:00\", \"D0\": \"1J\", \"Value\": 1.375}, {\"Date\": \"1999-03-01T00:00:00\", \"D0\": \"2J\", \"Value\": 1.554}, {\"Date\": \"1999-03-01T00:00:00\", \"D0\": \"10J\", \"Value\": 2.604}, {\"Date\": \"1999-04-01T00:00:00\", \"D0\": \"1J\", \"Value\": 1.171}, {\"Date\": \"1999-04-01T00:00:00\", \"D0\": \"2J\", \"Value\": 1.376}, {\"Date\": \"1999-04-01T00:00:00\", \"D0\": \"10J\", \"Value\": 2.5340000000000003}, {\"Date\": \"1999-05-01T00:00:00\", \"D0\": \"1J\", \"Value\": 1.17}, {\"Date\": \"1999-05-01T00:00:00\", \"D0\": \"2J\", \"Value\": 1.41}, {\"Date\": \"1999-05-01T00:00:00\", \"D0\": \"10J\", \"Value\": 2.72}, {\"Date\": \"1999-06-01T00:00:00\", \"D0\": \"1J\", \"Value\": 1.588}, {\"Date\": \"1999-06-01T00:00:00\", \"D0\": \"2J\", \"Value\": 1.929}, {\"Date\": \"1999-06-01T00:00:00\", \"D0\": \"10J\", \"Value\": 2.937}, {\"Date\": \"1999-07-01T00:00:00\", \"D0\": \"1J\", \"Value\": 1.676}, {\"Date\": \"1999-07-01T00:00:00\", \"D0\": \"2J\", \"Value\": 2.092}, {\"Date\": \"1999-07-01T00:00:00\", \"D0\": \"10J\", \"Value\": 3.044}, {\"Date\": \"1999-08-01T00:00:00\", \"D0\": \"1J\", \"Value\": 1.72}, {\"Date\": \"1999-08-01T00:00:00\", \"D0\": \"2J\", \"Value\": 2.204}, {\"Date\": \"1999-08-01T00:00:00\", \"D0\": \"10J\", \"Value\": 3.169}, {\"Date\": \"1999-09-01T00:00:00\", \"D0\": \"1J\", \"Value\": 2.11}, {\"Date\": \"1999-09-01T00:00:00\", \"D0\": \"2J\", \"Value\": 2.527}, {\"Date\": \"1999-09-01T00:00:00\", \"D0\": \"10J\", \"Value\": 3.427}, {\"Date\": \"1999-10-01T00:00:00\", \"D0\": \"1J\", \"Value\": 2.536}, {\"Date\": \"1999-10-01T00:00:00\", \"D0\": \"2J\", \"Value\": 2.991}, {\"Date\": \"1999-10-01T00:00:00\", \"D0\": \"10J\", \"Value\": 3.625}, {\"Date\": \"1999-11-01T00:00:00\", \"D0\": \"1J\", \"Value\": 2.435}, {\"Date\": \"1999-11-01T00:00:00\", \"D0\": \"2J\", \"Value\": 2.834}, {\"Date\": \"1999-11-01T00:00:00\", \"D0\": \"10J\", \"Value\": 3.69}, {\"Date\": \"1999-12-01T00:00:00\", \"D0\": \"1J\", \"Value\": 2.17}, {\"Date\": \"1999-12-01T00:00:00\", \"D0\": \"2J\", \"Value\": 2.539}, {\"Date\": \"1999-12-01T00:00:00\", \"D0\": \"10J\", \"Value\": 3.617}, {\"Date\": \"2000-01-01T00:00:00\", \"D0\": \"1J\", \"Value\": 2.5380000000000003}, {\"Date\": \"2000-01-01T00:00:00\", \"D0\": \"2J\", \"Value\": 2.829}, {\"Date\": \"2000-01-01T00:00:00\", \"D0\": \"10J\", \"Value\": 3.784}, {\"Date\": \"2000-02-01T00:00:00\", \"D0\": \"1J\", \"Value\": 2.984}, {\"Date\": \"2000-02-01T00:00:00\", \"D0\": \"2J\", \"Value\": 3.25}, {\"Date\": \"2000-02-01T00:00:00\", \"D0\": \"10J\", \"Value\": 3.868}, {\"Date\": \"2000-03-01T00:00:00\", \"D0\": \"1J\", \"Value\": 3.459}, {\"Date\": \"2000-03-01T00:00:00\", \"D0\": \"2J\", \"Value\": 3.637}, {\"Date\": \"2000-03-01T00:00:00\", \"D0\": \"10J\", \"Value\": 4.155}, {\"Date\": \"2000-04-01T00:00:00\", \"D0\": \"1J\", \"Value\": 3.612}, {\"Date\": \"2000-04-01T00:00:00\", \"D0\": \"2J\", \"Value\": 3.765}, {\"Date\": \"2000-04-01T00:00:00\", \"D0\": \"10J\", \"Value\": 4.0760000000000005}, {\"Date\": \"2000-05-01T00:00:00\", \"D0\": \"1J\", \"Value\": 3.721}, {\"Date\": \"2000-05-01T00:00:00\", \"D0\": \"2J\", \"Value\": 3.879}, {\"Date\": \"2000-05-01T00:00:00\", \"D0\": \"10J\", \"Value\": 4.19}, {\"Date\": \"2000-06-01T00:00:00\", \"D0\": \"1J\", \"Value\": 3.738}, {\"Date\": \"2000-06-01T00:00:00\", \"D0\": \"2J\", \"Value\": 3.8}, {\"Date\": \"2000-06-01T00:00:00\", \"D0\": \"10J\", \"Value\": 4.008}, {\"Date\": \"2000-07-01T00:00:00\", \"D0\": \"1J\", \"Value\": 3.901}, {\"Date\": \"2000-07-01T00:00:00\", \"D0\": \"2J\", \"Value\": 3.943}, {\"Date\": \"2000-07-01T00:00:00\", \"D0\": \"10J\", \"Value\": 3.976}, {\"Date\": \"2000-08-01T00:00:00\", \"D0\": \"1J\", \"Value\": 3.843}, {\"Date\": \"2000-08-01T00:00:00\", \"D0\": \"2J\", \"Value\": 3.804}, {\"Date\": \"2000-08-01T00:00:00\", \"D0\": \"10J\", \"Value\": 3.84}, {\"Date\": \"2000-09-01T00:00:00\", \"D0\": \"1J\", \"Value\": 3.633}, {\"Date\": \"2000-09-01T00:00:00\", \"D0\": \"2J\", \"Value\": 3.615}, {\"Date\": \"2000-09-01T00:00:00\", \"D0\": \"10J\", \"Value\": 3.954}, {\"Date\": \"2000-10-01T00:00:00\", \"D0\": \"1J\", \"Value\": 3.5980000000000003}, {\"Date\": \"2000-10-01T00:00:00\", \"D0\": \"2J\", \"Value\": 3.5780000000000003}, {\"Date\": \"2000-10-01T00:00:00\", \"D0\": \"10J\", \"Value\": 3.927}, {\"Date\": \"2000-11-01T00:00:00\", \"D0\": \"1J\", \"Value\": 3.607}, {\"Date\": \"2000-11-01T00:00:00\", \"D0\": \"2J\", \"Value\": 3.614}, {\"Date\": \"2000-11-01T00:00:00\", \"D0\": \"10J\", \"Value\": 3.771}, {\"Date\": \"2000-12-01T00:00:00\", \"D0\": \"1J\", \"Value\": 3.277}, {\"Date\": \"2000-12-01T00:00:00\", \"D0\": \"2J\", \"Value\": 3.232}, {\"Date\": \"2000-12-01T00:00:00\", \"D0\": \"10J\", \"Value\": 3.552}, {\"Date\": \"2001-01-01T00:00:00\", \"D0\": \"1J\", \"Value\": 3.225}, {\"Date\": \"2001-01-01T00:00:00\", \"D0\": \"2J\", \"Value\": 3.162}, {\"Date\": \"2001-01-01T00:00:00\", \"D0\": \"10J\", \"Value\": 3.497}, {\"Date\": \"2001-02-01T00:00:00\", \"D0\": \"1J\", \"Value\": 3.253}, {\"Date\": \"2001-02-01T00:00:00\", \"D0\": \"2J\", \"Value\": 3.156}, {\"Date\": \"2001-02-01T00:00:00\", \"D0\": \"10J\", \"Value\": 3.492}, {\"Date\": \"2001-03-01T00:00:00\", \"D0\": \"1J\", \"Value\": 3.0380000000000003}, {\"Date\": \"2001-03-01T00:00:00\", \"D0\": \"2J\", \"Value\": 2.9960000000000004}, {\"Date\": \"2001-03-01T00:00:00\", \"D0\": \"10J\", \"Value\": 3.327}, {\"Date\": \"2001-04-01T00:00:00\", \"D0\": \"1J\", \"Value\": 3.143}, {\"Date\": \"2001-04-01T00:00:00\", \"D0\": \"2J\", \"Value\": 3.1630000000000003}, {\"Date\": \"2001-04-01T00:00:00\", \"D0\": \"10J\", \"Value\": 3.529}, {\"Date\": \"2001-05-01T00:00:00\", \"D0\": \"1J\", \"Value\": 3.167}, {\"Date\": \"2001-05-01T00:00:00\", \"D0\": \"2J\", \"Value\": 3.175}, {\"Date\": \"2001-05-01T00:00:00\", \"D0\": \"10J\", \"Value\": 3.556}, {\"Date\": \"2001-06-01T00:00:00\", \"D0\": \"1J\", \"Value\": 3.128}, {\"Date\": \"2001-06-01T00:00:00\", \"D0\": \"2J\", \"Value\": 3.103}, {\"Date\": \"2001-06-01T00:00:00\", \"D0\": \"10J\", \"Value\": 3.383}, {\"Date\": \"2001-07-01T00:00:00\", \"D0\": \"1J\", \"Value\": 3.0980000000000003}, {\"Date\": \"2001-07-01T00:00:00\", \"D0\": \"2J\", \"Value\": 3.045}, {\"Date\": \"2001-07-01T00:00:00\", \"D0\": \"10J\", \"Value\": 3.357}, {\"Date\": \"2001-08-01T00:00:00\", \"D0\": \"1J\", \"Value\": 2.807}, {\"Date\": \"2001-08-01T00:00:00\", \"D0\": \"2J\", \"Value\": 2.814}, {\"Date\": \"2001-08-01T00:00:00\", \"D0\": \"10J\", \"Value\": 3.317}, {\"Date\": \"2001-09-01T00:00:00\", \"D0\": \"1J\", \"Value\": 2.261}, {\"Date\": \"2001-09-01T00:00:00\", \"D0\": \"2J\", \"Value\": 2.426}, {\"Date\": \"2001-09-01T00:00:00\", \"D0\": \"10J\", \"Value\": 3.302}, {\"Date\": \"2001-10-01T00:00:00\", \"D0\": \"1J\", \"Value\": 1.856}, {\"Date\": \"2001-10-01T00:00:00\", \"D0\": \"2J\", \"Value\": 2.0580000000000003}, {\"Date\": \"2001-10-01T00:00:00\", \"D0\": \"10J\", \"Value\": 3.005}, {\"Date\": \"2001-11-01T00:00:00\", \"D0\": \"1J\", \"Value\": 2.147}, {\"Date\": \"2001-11-01T00:00:00\", \"D0\": \"2J\", \"Value\": 2.376}, {\"Date\": \"2001-11-01T00:00:00\", \"D0\": \"10J\", \"Value\": 3.261}, {\"Date\": \"2001-12-01T00:00:00\", \"D0\": \"1J\", \"Value\": 2.107}, {\"Date\": \"2001-12-01T00:00:00\", \"D0\": \"2J\", \"Value\": 2.454}, {\"Date\": \"2001-12-01T00:00:00\", \"D0\": \"10J\", \"Value\": 3.555}, {\"Date\": \"2002-01-01T00:00:00\", \"D0\": \"1J\", \"Value\": 2.117}, {\"Date\": \"2002-01-01T00:00:00\", \"D0\": \"2J\", \"Value\": 2.575}, {\"Date\": \"2002-01-01T00:00:00\", \"D0\": \"10J\", \"Value\": 3.59}, {\"Date\": \"2002-02-01T00:00:00\", \"D0\": \"1J\", \"Value\": 2.128}, {\"Date\": \"2002-02-01T00:00:00\", \"D0\": \"2J\", \"Value\": 2.476}, {\"Date\": \"2002-02-01T00:00:00\", \"D0\": \"10J\", \"Value\": 3.61}, {\"Date\": \"2002-03-01T00:00:00\", \"D0\": \"1J\", \"Value\": 2.112}, {\"Date\": \"2002-03-01T00:00:00\", \"D0\": \"2J\", \"Value\": 2.592}, {\"Date\": \"2002-03-01T00:00:00\", \"D0\": \"10J\", \"Value\": 3.636}, {\"Date\": \"2002-04-01T00:00:00\", \"D0\": \"1J\", \"Value\": 2.011}, {\"Date\": \"2002-04-01T00:00:00\", \"D0\": \"2J\", \"Value\": 2.381}, {\"Date\": \"2002-04-01T00:00:00\", \"D0\": \"10J\", \"Value\": 3.528}, {\"Date\": \"2002-05-01T00:00:00\", \"D0\": \"1J\", \"Value\": 1.73}, {\"Date\": \"2002-05-01T00:00:00\", \"D0\": \"2J\", \"Value\": 2.192}, {\"Date\": \"2002-05-01T00:00:00\", \"D0\": \"10J\", \"Value\": 3.465}, {\"Date\": \"2002-06-01T00:00:00\", \"D0\": \"1J\", \"Value\": 1.659}, {\"Date\": \"2002-06-01T00:00:00\", \"D0\": \"2J\", \"Value\": 2.072}, {\"Date\": \"2002-06-01T00:00:00\", \"D0\": \"10J\", \"Value\": 3.299}, {\"Date\": \"2002-07-01T00:00:00\", \"D0\": \"1J\", \"Value\": 1.078}, {\"Date\": \"2002-07-01T00:00:00\", \"D0\": \"2J\", \"Value\": 1.56}, {\"Date\": \"2002-07-01T00:00:00\", \"D0\": \"10J\", \"Value\": 3.248}, {\"Date\": \"2002-08-01T00:00:00\", \"D0\": \"1J\", \"Value\": 0.934}, {\"Date\": \"2002-08-01T00:00:00\", \"D0\": \"2J\", \"Value\": 1.384}, {\"Date\": \"2002-08-01T00:00:00\", \"D0\": \"10J\", \"Value\": 3.192}, {\"Date\": \"2002-09-01T00:00:00\", \"D0\": \"1J\", \"Value\": 0.979}, {\"Date\": \"2002-09-01T00:00:00\", \"D0\": \"2J\", \"Value\": 1.275}, {\"Date\": \"2002-09-01T00:00:00\", \"D0\": \"10J\", \"Value\": 2.761}, {\"Date\": \"2002-10-01T00:00:00\", \"D0\": \"1J\", \"Value\": 0.71}, {\"Date\": \"2002-10-01T00:00:00\", \"D0\": \"2J\", \"Value\": 1.072}, {\"Date\": \"2002-10-01T00:00:00\", \"D0\": \"10J\", \"Value\": 2.863}, {\"Date\": \"2002-11-01T00:00:00\", \"D0\": \"1J\", \"Value\": 0.923}, {\"Date\": \"2002-11-01T00:00:00\", \"D0\": \"2J\", \"Value\": 1.224}, {\"Date\": \"2002-11-01T00:00:00\", \"D0\": \"10J\", \"Value\": 2.799}, {\"Date\": \"2002-12-01T00:00:00\", \"D0\": \"1J\", \"Value\": 0.5589999999999999}, {\"Date\": \"2002-12-01T00:00:00\", \"D0\": \"2J\", \"Value\": 0.7859999999999999}, {\"Date\": \"2002-12-01T00:00:00\", \"D0\": \"10J\", \"Value\": 2.396}, {\"Date\": \"2003-01-01T00:00:00\", \"D0\": \"1J\", \"Value\": 0.601}, {\"Date\": \"2003-01-01T00:00:00\", \"D0\": \"2J\", \"Value\": 0.8270000000000001}, {\"Date\": \"2003-01-01T00:00:00\", \"D0\": \"10J\", \"Value\": 2.396}, {\"Date\": \"2003-02-01T00:00:00\", \"D0\": \"1J\", \"Value\": 0.478}, {\"Date\": \"2003-02-01T00:00:00\", \"D0\": \"2J\", \"Value\": 0.6729999999999999}, {\"Date\": \"2003-02-01T00:00:00\", \"D0\": \"10J\", \"Value\": 2.375}, {\"Date\": \"2003-03-01T00:00:00\", \"D0\": \"1J\", \"Value\": 0.445}, {\"Date\": \"2003-03-01T00:00:00\", \"D0\": \"2J\", \"Value\": 0.7809999999999999}, {\"Date\": \"2003-03-01T00:00:00\", \"D0\": \"10J\", \"Value\": 2.537}, {\"Date\": \"2003-04-01T00:00:00\", \"D0\": \"1J\", \"Value\": 0.44}, {\"Date\": \"2003-04-01T00:00:00\", \"D0\": \"2J\", \"Value\": 0.823}, {\"Date\": \"2003-04-01T00:00:00\", \"D0\": \"10J\", \"Value\": 2.659}, {\"Date\": \"2003-05-01T00:00:00\", \"D0\": \"1J\", \"Value\": 0.299}, {\"Date\": \"2003-05-01T00:00:00\", \"D0\": \"2J\", \"Value\": 0.598}, {\"Date\": \"2003-05-01T00:00:00\", \"D0\": \"10J\", \"Value\": 2.358}, {\"Date\": \"2003-06-01T00:00:00\", \"D0\": \"1J\", \"Value\": 0.341}, {\"Date\": \"2003-06-01T00:00:00\", \"D0\": \"2J\", \"Value\": 0.664}, {\"Date\": \"2003-06-01T00:00:00\", \"D0\": \"10J\", \"Value\": 2.607}, {\"Date\": \"2003-07-01T00:00:00\", \"D0\": \"1J\", \"Value\": 0.357}, {\"Date\": \"2003-07-01T00:00:00\", \"D0\": \"2J\", \"Value\": 0.721}, {\"Date\": \"2003-07-01T00:00:00\", \"D0\": \"10J\", \"Value\": 2.6660000000000004}, {\"Date\": \"2003-08-01T00:00:00\", \"D0\": \"1J\", \"Value\": 0.3879999999999999}, {\"Date\": \"2003-08-01T00:00:00\", \"D0\": \"2J\", \"Value\": 0.862}, {\"Date\": \"2003-08-01T00:00:00\", \"D0\": \"10J\", \"Value\": 2.875}, {\"Date\": \"2003-09-01T00:00:00\", \"D0\": \"1J\", \"Value\": 0.315}, {\"Date\": \"2003-09-01T00:00:00\", \"D0\": \"2J\", \"Value\": 0.7290000000000001}, {\"Date\": \"2003-09-01T00:00:00\", \"D0\": \"10J\", \"Value\": 2.777}, {\"Date\": \"2003-10-01T00:00:00\", \"D0\": \"1J\", \"Value\": 0.462}, {\"Date\": \"2003-10-01T00:00:00\", \"D0\": \"2J\", \"Value\": 0.948}, {\"Date\": \"2003-10-01T00:00:00\", \"D0\": \"10J\", \"Value\": 2.882}, {\"Date\": \"2003-11-01T00:00:00\", \"D0\": \"1J\", \"Value\": 0.55}, {\"Date\": \"2003-11-01T00:00:00\", \"D0\": \"2J\", \"Value\": 1.081}, {\"Date\": \"2003-11-01T00:00:00\", \"D0\": \"10J\", \"Value\": 2.9930000000000003}, {\"Date\": \"2003-12-01T00:00:00\", \"D0\": \"1J\", \"Value\": 0.484}, {\"Date\": \"2003-12-01T00:00:00\", \"D0\": \"2J\", \"Value\": 0.938}, {\"Date\": \"2003-12-01T00:00:00\", \"D0\": \"10J\", \"Value\": 2.78}, {\"Date\": \"2004-01-01T00:00:00\", \"D0\": \"1J\", \"Value\": 0.462}, {\"Date\": \"2004-01-01T00:00:00\", \"D0\": \"2J\", \"Value\": 0.852}, {\"Date\": \"2004-01-01T00:00:00\", \"D0\": \"10J\", \"Value\": 2.852}, {\"Date\": \"2004-02-01T00:00:00\", \"D0\": \"1J\", \"Value\": 0.377}, {\"Date\": \"2004-02-01T00:00:00\", \"D0\": \"2J\", \"Value\": 0.71}, {\"Date\": \"2004-02-01T00:00:00\", \"D0\": \"10J\", \"Value\": 2.681}, {\"Date\": \"2004-03-01T00:00:00\", \"D0\": \"1J\", \"Value\": 0.39}, {\"Date\": \"2004-03-01T00:00:00\", \"D0\": \"2J\", \"Value\": 0.74}, {\"Date\": \"2004-03-01T00:00:00\", \"D0\": \"10J\", \"Value\": 2.632}, {\"Date\": \"2004-04-01T00:00:00\", \"D0\": \"1J\", \"Value\": 0.68}, {\"Date\": \"2004-04-01T00:00:00\", \"D0\": \"2J\", \"Value\": 1.132}, {\"Date\": \"2004-04-01T00:00:00\", \"D0\": \"10J\", \"Value\": 2.809}, {\"Date\": \"2004-05-01T00:00:00\", \"D0\": \"1J\", \"Value\": 0.7340000000000001}, {\"Date\": \"2004-05-01T00:00:00\", \"D0\": \"2J\", \"Value\": 1.226}, {\"Date\": \"2004-05-01T00:00:00\", \"D0\": \"10J\", \"Value\": 2.888}, {\"Date\": \"2004-06-01T00:00:00\", \"D0\": \"1J\", \"Value\": 1.028}, {\"Date\": \"2004-06-01T00:00:00\", \"D0\": \"2J\", \"Value\": 1.506}, {\"Date\": \"2004-06-01T00:00:00\", \"D0\": \"10J\", \"Value\": 3.04}, {\"Date\": \"2004-07-01T00:00:00\", \"D0\": \"1J\", \"Value\": 0.96}, {\"Date\": \"2004-07-01T00:00:00\", \"D0\": \"2J\", \"Value\": 1.415}, {\"Date\": \"2004-07-01T00:00:00\", \"D0\": \"10J\", \"Value\": 2.957}, {\"Date\": \"2004-08-01T00:00:00\", \"D0\": \"1J\", \"Value\": 0.847}, {\"Date\": \"2004-08-01T00:00:00\", \"D0\": \"2J\", \"Value\": 1.182}, {\"Date\": \"2004-08-01T00:00:00\", \"D0\": \"10J\", \"Value\": 2.825}, {\"Date\": \"2004-09-01T00:00:00\", \"D0\": \"1J\", \"Value\": 0.964}, {\"Date\": \"2004-09-01T00:00:00\", \"D0\": \"2J\", \"Value\": 1.314}, {\"Date\": \"2004-09-01T00:00:00\", \"D0\": \"10J\", \"Value\": 2.75}, {\"Date\": \"2004-10-01T00:00:00\", \"D0\": \"1J\", \"Value\": 0.888}, {\"Date\": \"2004-10-01T00:00:00\", \"D0\": \"2J\", \"Value\": 1.141}, {\"Date\": \"2004-10-01T00:00:00\", \"D0\": \"10J\", \"Value\": 2.623}, {\"Date\": \"2004-11-01T00:00:00\", \"D0\": \"1J\", \"Value\": 1.013}, {\"Date\": \"2004-11-01T00:00:00\", \"D0\": \"2J\", \"Value\": 1.245}, {\"Date\": \"2004-11-01T00:00:00\", \"D0\": \"10J\", \"Value\": 2.443}, {\"Date\": \"2004-12-01T00:00:00\", \"D0\": \"1J\", \"Value\": 0.885}, {\"Date\": \"2004-12-01T00:00:00\", \"D0\": \"2J\", \"Value\": 1.137}, {\"Date\": \"2004-12-01T00:00:00\", \"D0\": \"10J\", \"Value\": 2.382}, {\"Date\": \"2005-01-01T00:00:00\", \"D0\": \"1J\", \"Value\": 0.887}, {\"Date\": \"2005-01-01T00:00:00\", \"D0\": \"2J\", \"Value\": 1.079}, {\"Date\": \"2005-01-01T00:00:00\", \"D0\": \"10J\", \"Value\": 2.249}, {\"Date\": \"2005-02-01T00:00:00\", \"D0\": \"1J\", \"Value\": 0.899}, {\"Date\": \"2005-02-01T00:00:00\", \"D0\": \"2J\", \"Value\": 1.124}, {\"Date\": \"2005-02-01T00:00:00\", \"D0\": \"10J\", \"Value\": 2.381}, {\"Date\": \"2005-03-01T00:00:00\", \"D0\": \"1J\", \"Value\": 0.872}, {\"Date\": \"2005-03-01T00:00:00\", \"D0\": \"2J\", \"Value\": 1.14}, {\"Date\": \"2005-03-01T00:00:00\", \"D0\": \"10J\", \"Value\": 2.355}, {\"Date\": \"2005-04-01T00:00:00\", \"D0\": \"1J\", \"Value\": 0.769}, {\"Date\": \"2005-04-01T00:00:00\", \"D0\": \"2J\", \"Value\": 0.952}, {\"Date\": \"2005-04-01T00:00:00\", \"D0\": \"10J\", \"Value\": 2.074}, {\"Date\": \"2005-05-01T00:00:00\", \"D0\": \"1J\", \"Value\": 0.772}, {\"Date\": \"2005-05-01T00:00:00\", \"D0\": \"2J\", \"Value\": 0.948}, {\"Date\": \"2005-05-01T00:00:00\", \"D0\": \"10J\", \"Value\": 2.014}, {\"Date\": \"2005-06-01T00:00:00\", \"D0\": \"1J\", \"Value\": 0.688}, {\"Date\": \"2005-06-01T00:00:00\", \"D0\": \"2J\", \"Value\": 0.87}, {\"Date\": \"2005-06-01T00:00:00\", \"D0\": \"10J\", \"Value\": 1.999}, {\"Date\": \"2005-07-01T00:00:00\", \"D0\": \"1J\", \"Value\": 0.772}, {\"Date\": \"2005-07-01T00:00:00\", \"D0\": \"2J\", \"Value\": 0.948}, {\"Date\": \"2005-07-01T00:00:00\", \"D0\": \"10J\", \"Value\": 1.955}, {\"Date\": \"2005-08-01T00:00:00\", \"D0\": \"1J\", \"Value\": 0.818}, {\"Date\": \"2005-08-01T00:00:00\", \"D0\": \"2J\", \"Value\": 0.997}, {\"Date\": \"2005-08-01T00:00:00\", \"D0\": \"10J\", \"Value\": 1.928}, {\"Date\": \"2005-09-01T00:00:00\", \"D0\": \"1J\", \"Value\": 0.897}, {\"Date\": \"2005-09-01T00:00:00\", \"D0\": \"2J\", \"Value\": 1.12}, {\"Date\": \"2005-09-01T00:00:00\", \"D0\": \"10J\", \"Value\": 1.95}, {\"Date\": \"2005-10-01T00:00:00\", \"D0\": \"1J\", \"Value\": 1.074}, {\"Date\": \"2005-10-01T00:00:00\", \"D0\": \"2J\", \"Value\": 1.399}, {\"Date\": \"2005-10-01T00:00:00\", \"D0\": \"10J\", \"Value\": 2.097}, {\"Date\": \"2005-11-01T00:00:00\", \"D0\": \"1J\", \"Value\": 1.361}, {\"Date\": \"2005-11-01T00:00:00\", \"D0\": \"2J\", \"Value\": 1.6569999999999998}, {\"Date\": \"2005-11-01T00:00:00\", \"D0\": \"10J\", \"Value\": 2.184}, {\"Date\": \"2005-12-01T00:00:00\", \"D0\": \"1J\", \"Value\": 1.248}, {\"Date\": \"2005-12-01T00:00:00\", \"D0\": \"2J\", \"Value\": 1.548}, {\"Date\": \"2005-12-01T00:00:00\", \"D0\": \"10J\", \"Value\": 1.96}, {\"Date\": \"2006-01-01T00:00:00\", \"D0\": \"1J\", \"Value\": 1.294}, {\"Date\": \"2006-01-01T00:00:00\", \"D0\": \"2J\", \"Value\": 1.602}, {\"Date\": \"2006-01-01T00:00:00\", \"D0\": \"10J\", \"Value\": 2.153}, {\"Date\": \"2006-02-01T00:00:00\", \"D0\": \"1J\", \"Value\": 1.476}, {\"Date\": \"2006-02-01T00:00:00\", \"D0\": \"2J\", \"Value\": 1.689}, {\"Date\": \"2006-02-01T00:00:00\", \"D0\": \"10J\", \"Value\": 2.252}, {\"Date\": \"2006-03-01T00:00:00\", \"D0\": \"1J\", \"Value\": 1.565}, {\"Date\": \"2006-03-01T00:00:00\", \"D0\": \"2J\", \"Value\": 1.7919999999999998}, {\"Date\": \"2006-03-01T00:00:00\", \"D0\": \"10J\", \"Value\": 2.517}, {\"Date\": \"2006-04-01T00:00:00\", \"D0\": \"1J\", \"Value\": 1.668}, {\"Date\": \"2006-04-01T00:00:00\", \"D0\": \"2J\", \"Value\": 1.936}, {\"Date\": \"2006-04-01T00:00:00\", \"D0\": \"10J\", \"Value\": 2.752}, {\"Date\": \"2006-05-01T00:00:00\", \"D0\": \"1J\", \"Value\": 1.754}, {\"Date\": \"2006-05-01T00:00:00\", \"D0\": \"2J\", \"Value\": 1.986}, {\"Date\": \"2006-05-01T00:00:00\", \"D0\": \"10J\", \"Value\": 2.7}, {\"Date\": \"2006-06-01T00:00:00\", \"D0\": \"1J\", \"Value\": 1.896}, {\"Date\": \"2006-06-01T00:00:00\", \"D0\": \"2J\", \"Value\": 2.156}, {\"Date\": \"2006-06-01T00:00:00\", \"D0\": \"10J\", \"Value\": 2.8480000000000003}, {\"Date\": \"2006-07-01T00:00:00\", \"D0\": \"1J\", \"Value\": 1.877}, {\"Date\": \"2006-07-01T00:00:00\", \"D0\": \"2J\", \"Value\": 2.112}, {\"Date\": \"2006-07-01T00:00:00\", \"D0\": \"10J\", \"Value\": 2.742}, {\"Date\": \"2006-08-01T00:00:00\", \"D0\": \"1J\", \"Value\": 1.934}, {\"Date\": \"2006-08-01T00:00:00\", \"D0\": \"2J\", \"Value\": 2.093}, {\"Date\": \"2006-08-01T00:00:00\", \"D0\": \"10J\", \"Value\": 2.547}, {\"Date\": \"2006-09-01T00:00:00\", \"D0\": \"1J\", \"Value\": 1.947}, {\"Date\": \"2006-09-01T00:00:00\", \"D0\": \"2J\", \"Value\": 2.12}, {\"Date\": \"2006-09-01T00:00:00\", \"D0\": \"10J\", \"Value\": 2.369}, {\"Date\": \"2006-10-01T00:00:00\", \"D0\": \"1J\", \"Value\": 2.043}, {\"Date\": \"2006-10-01T00:00:00\", \"D0\": \"2J\", \"Value\": 2.178}, {\"Date\": \"2006-10-01T00:00:00\", \"D0\": \"10J\", \"Value\": 2.495}, {\"Date\": \"2006-11-01T00:00:00\", \"D0\": \"1J\", \"Value\": 2.095}, {\"Date\": \"2006-11-01T00:00:00\", \"D0\": \"2J\", \"Value\": 2.1790000000000003}, {\"Date\": \"2006-11-01T00:00:00\", \"D0\": \"10J\", \"Value\": 2.341}, {\"Date\": \"2006-12-01T00:00:00\", \"D0\": \"1J\", \"Value\": 2.278}, {\"Date\": \"2006-12-01T00:00:00\", \"D0\": \"2J\", \"Value\": 2.405}, {\"Date\": \"2006-12-01T00:00:00\", \"D0\": \"10J\", \"Value\": 2.489}, {\"Date\": \"2007-01-01T00:00:00\", \"D0\": \"1J\", \"Value\": 2.379}, {\"Date\": \"2007-01-01T00:00:00\", \"D0\": \"2J\", \"Value\": 2.467}, {\"Date\": \"2007-01-01T00:00:00\", \"D0\": \"10J\", \"Value\": 2.619}, {\"Date\": \"2007-02-01T00:00:00\", \"D0\": \"1J\", \"Value\": 2.338}, {\"Date\": \"2007-02-01T00:00:00\", \"D0\": \"2J\", \"Value\": 2.373}, {\"Date\": \"2007-02-01T00:00:00\", \"D0\": \"10J\", \"Value\": 2.556}, {\"Date\": \"2007-03-01T00:00:00\", \"D0\": \"1J\", \"Value\": 2.412}, {\"Date\": \"2007-03-01T00:00:00\", \"D0\": \"2J\", \"Value\": 2.411}, {\"Date\": \"2007-03-01T00:00:00\", \"D0\": \"10J\", \"Value\": 2.702}, {\"Date\": \"2007-04-01T00:00:00\", \"D0\": \"1J\", \"Value\": 2.475}, {\"Date\": \"2007-04-01T00:00:00\", \"D0\": \"2J\", \"Value\": 2.498}, {\"Date\": \"2007-04-01T00:00:00\", \"D0\": \"10J\", \"Value\": 2.801}, {\"Date\": \"2007-05-01T00:00:00\", \"D0\": \"1J\", \"Value\": 2.71}, {\"Date\": \"2007-05-01T00:00:00\", \"D0\": \"2J\", \"Value\": 2.782}, {\"Date\": \"2007-05-01T00:00:00\", \"D0\": \"10J\", \"Value\": 3.032}, {\"Date\": \"2007-06-01T00:00:00\", \"D0\": \"1J\", \"Value\": 2.863}, {\"Date\": \"2007-06-01T00:00:00\", \"D0\": \"2J\", \"Value\": 2.905}, {\"Date\": \"2007-06-01T00:00:00\", \"D0\": \"10J\", \"Value\": 3.194}, {\"Date\": \"2007-07-01T00:00:00\", \"D0\": \"1J\", \"Value\": 2.841}, {\"Date\": \"2007-07-01T00:00:00\", \"D0\": \"2J\", \"Value\": 2.859}, {\"Date\": \"2007-07-01T00:00:00\", \"D0\": \"10J\", \"Value\": 3.108}, {\"Date\": \"2007-08-01T00:00:00\", \"D0\": \"1J\", \"Value\": 2.753}, {\"Date\": \"2007-08-01T00:00:00\", \"D0\": \"2J\", \"Value\": 2.495}, {\"Date\": \"2007-08-01T00:00:00\", \"D0\": \"10J\", \"Value\": 3.049}, {\"Date\": \"2007-09-01T00:00:00\", \"D0\": \"1J\", \"Value\": 2.697}, {\"Date\": \"2007-09-01T00:00:00\", \"D0\": \"2J\", \"Value\": 2.4130000000000003}, {\"Date\": \"2007-09-01T00:00:00\", \"D0\": \"10J\", \"Value\": 3.056}, {\"Date\": \"2007-10-01T00:00:00\", \"D0\": \"1J\", \"Value\": 2.71}, {\"Date\": \"2007-10-01T00:00:00\", \"D0\": \"2J\", \"Value\": 2.536}, {\"Date\": \"2007-10-01T00:00:00\", \"D0\": \"10J\", \"Value\": 2.987}, {\"Date\": \"2007-11-01T00:00:00\", \"D0\": \"1J\", \"Value\": 2.594}, {\"Date\": \"2007-11-01T00:00:00\", \"D0\": \"2J\", \"Value\": 2.249}, {\"Date\": \"2007-11-01T00:00:00\", \"D0\": \"10J\", \"Value\": 2.906}, {\"Date\": \"2007-12-01T00:00:00\", \"D0\": \"1J\", \"Value\": 2.72}, {\"Date\": \"2007-12-01T00:00:00\", \"D0\": \"2J\", \"Value\": 2.43}, {\"Date\": \"2007-12-01T00:00:00\", \"D0\": \"10J\", \"Value\": 3.111}, {\"Date\": \"2008-01-01T00:00:00\", \"D0\": \"1J\", \"Value\": 2.386}, {\"Date\": \"2008-01-01T00:00:00\", \"D0\": \"2J\", \"Value\": 2.106}, {\"Date\": \"2008-01-01T00:00:00\", \"D0\": \"10J\", \"Value\": 2.939}, {\"Date\": \"2008-02-01T00:00:00\", \"D0\": \"1J\", \"Value\": 2.484}, {\"Date\": \"2008-02-01T00:00:00\", \"D0\": \"2J\", \"Value\": 2.13}, {\"Date\": \"2008-02-01T00:00:00\", \"D0\": \"10J\", \"Value\": 3.059}, {\"Date\": \"2008-03-01T00:00:00\", \"D0\": \"1J\", \"Value\": 2.455}, {\"Date\": \"2008-03-01T00:00:00\", \"D0\": \"2J\", \"Value\": 2.0}, {\"Date\": \"2008-03-01T00:00:00\", \"D0\": \"10J\", \"Value\": 3.033}, {\"Date\": \"2008-04-01T00:00:00\", \"D0\": \"1J\", \"Value\": 2.5}, {\"Date\": \"2008-04-01T00:00:00\", \"D0\": \"2J\", \"Value\": 2.107}, {\"Date\": \"2008-04-01T00:00:00\", \"D0\": \"10J\", \"Value\": 3.242}, {\"Date\": \"2008-05-01T00:00:00\", \"D0\": \"1J\", \"Value\": 2.462}, {\"Date\": \"2008-05-01T00:00:00\", \"D0\": \"2J\", \"Value\": 2.298}, {\"Date\": \"2008-05-01T00:00:00\", \"D0\": \"10J\", \"Value\": 3.284}, {\"Date\": \"2008-06-01T00:00:00\", \"D0\": \"1J\", \"Value\": 2.5380000000000003}, {\"Date\": \"2008-06-01T00:00:00\", \"D0\": \"2J\", \"Value\": 2.502}, {\"Date\": \"2008-06-01T00:00:00\", \"D0\": \"10J\", \"Value\": 3.29}, {\"Date\": \"2008-07-01T00:00:00\", \"D0\": \"1J\", \"Value\": 2.45}, {\"Date\": \"2008-07-01T00:00:00\", \"D0\": \"2J\", \"Value\": 2.312}, {\"Date\": \"2008-07-01T00:00:00\", \"D0\": \"10J\", \"Value\": 3.1660000000000004}, {\"Date\": \"2008-08-01T00:00:00\", \"D0\": \"1J\", \"Value\": 2.717}, {\"Date\": \"2008-08-01T00:00:00\", \"D0\": \"2J\", \"Value\": 2.408}, {\"Date\": \"2008-08-01T00:00:00\", \"D0\": \"10J\", \"Value\": 2.942}, {\"Date\": \"2008-09-01T00:00:00\", \"D0\": \"1J\", \"Value\": 2.472}, {\"Date\": \"2008-09-01T00:00:00\", \"D0\": \"2J\", \"Value\": 1.607}, {\"Date\": \"2008-09-01T00:00:00\", \"D0\": \"10J\", \"Value\": 2.669}, {\"Date\": \"2008-10-01T00:00:00\", \"D0\": \"1J\", \"Value\": 2.002}, {\"Date\": \"2008-10-01T00:00:00\", \"D0\": \"2J\", \"Value\": 1.5219999999999998}, {\"Date\": \"2008-10-01T00:00:00\", \"D0\": \"10J\", \"Value\": 2.764}, {\"Date\": \"2008-11-01T00:00:00\", \"D0\": \"1J\", \"Value\": 0.899}, {\"Date\": \"2008-11-01T00:00:00\", \"D0\": \"2J\", \"Value\": 1.285}, {\"Date\": \"2008-11-01T00:00:00\", \"D0\": \"10J\", \"Value\": 2.226}, {\"Date\": \"2008-12-01T00:00:00\", \"D0\": \"1J\", \"Value\": 0.407}, {\"Date\": \"2008-12-01T00:00:00\", \"D0\": \"2J\", \"Value\": 0.691}, {\"Date\": \"2008-12-01T00:00:00\", \"D0\": \"10J\", \"Value\": 2.148}, {\"Date\": \"2009-01-01T00:00:00\", \"D0\": \"1J\", \"Value\": 0.293}, {\"Date\": \"2009-01-01T00:00:00\", \"D0\": \"2J\", \"Value\": 0.449}, {\"Date\": \"2009-01-01T00:00:00\", \"D0\": \"10J\", \"Value\": 2.221}, {\"Date\": \"2009-02-01T00:00:00\", \"D0\": \"1J\", \"Value\": 0.407}, {\"Date\": \"2009-02-01T00:00:00\", \"D0\": \"2J\", \"Value\": 0.52}, {\"Date\": \"2009-02-01T00:00:00\", \"D0\": \"10J\", \"Value\": 2.174}, {\"Date\": \"2009-03-01T00:00:00\", \"D0\": \"1J\", \"Value\": 0.325}, {\"Date\": \"2009-03-01T00:00:00\", \"D0\": \"2J\", \"Value\": 0.523}, {\"Date\": \"2009-03-01T00:00:00\", \"D0\": \"10J\", \"Value\": 2.175}, {\"Date\": \"2009-04-01T00:00:00\", \"D0\": \"1J\", \"Value\": 0.294}, {\"Date\": \"2009-04-01T00:00:00\", \"D0\": \"2J\", \"Value\": 0.45}, {\"Date\": \"2009-04-01T00:00:00\", \"D0\": \"10J\", \"Value\": 2.196}, {\"Date\": \"2009-05-01T00:00:00\", \"D0\": \"1J\", \"Value\": 0.248}, {\"Date\": \"2009-05-01T00:00:00\", \"D0\": \"2J\", \"Value\": 0.467}, {\"Date\": \"2009-05-01T00:00:00\", \"D0\": \"10J\", \"Value\": 2.536}, {\"Date\": \"2009-06-01T00:00:00\", \"D0\": \"1J\", \"Value\": 0.255}, {\"Date\": \"2009-06-01T00:00:00\", \"D0\": \"2J\", \"Value\": 0.509}, {\"Date\": \"2009-06-01T00:00:00\", \"D0\": \"10J\", \"Value\": 2.478}, {\"Date\": \"2009-07-01T00:00:00\", \"D0\": \"1J\", \"Value\": 0.248}, {\"Date\": \"2009-07-01T00:00:00\", \"D0\": \"2J\", \"Value\": 0.4529999999999999}, {\"Date\": \"2009-07-01T00:00:00\", \"D0\": \"10J\", \"Value\": 2.192}, {\"Date\": \"2009-08-01T00:00:00\", \"D0\": \"1J\", \"Value\": 0.288}, {\"Date\": \"2009-08-01T00:00:00\", \"D0\": \"2J\", \"Value\": 0.466}, {\"Date\": \"2009-08-01T00:00:00\", \"D0\": \"10J\", \"Value\": 2.124}, {\"Date\": \"2009-09-01T00:00:00\", \"D0\": \"1J\", \"Value\": 0.313}, {\"Date\": \"2009-09-01T00:00:00\", \"D0\": \"2J\", \"Value\": 0.5670000000000001}, {\"Date\": \"2009-09-01T00:00:00\", \"D0\": \"10J\", \"Value\": 2.155}, {\"Date\": \"2009-10-01T00:00:00\", \"D0\": \"1J\", \"Value\": 0.332}, {\"Date\": \"2009-10-01T00:00:00\", \"D0\": \"2J\", \"Value\": 0.616}, {\"Date\": \"2009-10-01T00:00:00\", \"D0\": \"10J\", \"Value\": 2.207}, {\"Date\": \"2009-11-01T00:00:00\", \"D0\": \"1J\", \"Value\": 0.2689999999999999}, {\"Date\": \"2009-11-01T00:00:00\", \"D0\": \"2J\", \"Value\": 0.47}, {\"Date\": \"2009-11-01T00:00:00\", \"D0\": \"10J\", \"Value\": 2.002}, {\"Date\": \"2009-12-01T00:00:00\", \"D0\": \"1J\", \"Value\": 0.281}, {\"Date\": \"2009-12-01T00:00:00\", \"D0\": \"2J\", \"Value\": 0.4679999999999999}, {\"Date\": \"2009-12-01T00:00:00\", \"D0\": \"10J\", \"Value\": 1.972}, {\"Date\": \"2010-01-01T00:00:00\", \"D0\": \"1J\", \"Value\": 0.253}, {\"Date\": \"2010-01-01T00:00:00\", \"D0\": \"2J\", \"Value\": 0.492}, {\"Date\": \"2010-01-01T00:00:00\", \"D0\": \"10J\", \"Value\": 2.01}, {\"Date\": \"2010-02-01T00:00:00\", \"D0\": \"1J\", \"Value\": 0.179}, {\"Date\": \"2010-02-01T00:00:00\", \"D0\": \"2J\", \"Value\": 0.376}, {\"Date\": \"2010-02-01T00:00:00\", \"D0\": \"10J\", \"Value\": 1.931}, {\"Date\": \"2010-03-01T00:00:00\", \"D0\": \"1J\", \"Value\": 0.25}, {\"Date\": \"2010-03-01T00:00:00\", \"D0\": \"2J\", \"Value\": 0.472}, {\"Date\": \"2010-03-01T00:00:00\", \"D0\": \"10J\", \"Value\": 1.941}, {\"Date\": \"2010-04-01T00:00:00\", \"D0\": \"1J\", \"Value\": 0.259}, {\"Date\": \"2010-04-01T00:00:00\", \"D0\": \"2J\", \"Value\": 0.478}, {\"Date\": \"2010-04-01T00:00:00\", \"D0\": \"10J\", \"Value\": 1.865}, {\"Date\": \"2010-05-01T00:00:00\", \"D0\": \"1J\", \"Value\": 0.177}, {\"Date\": \"2010-05-01T00:00:00\", \"D0\": \"2J\", \"Value\": 0.35}, {\"Date\": \"2010-05-01T00:00:00\", \"D0\": \"10J\", \"Value\": 1.5730000000000002}, {\"Date\": \"2010-06-01T00:00:00\", \"D0\": \"1J\", \"Value\": 0.177}, {\"Date\": \"2010-06-01T00:00:00\", \"D0\": \"2J\", \"Value\": 0.347}, {\"Date\": \"2010-06-01T00:00:00\", \"D0\": \"10J\", \"Value\": 1.509}, {\"Date\": \"2010-07-01T00:00:00\", \"D0\": \"1J\", \"Value\": 0.337}, {\"Date\": \"2010-07-01T00:00:00\", \"D0\": \"2J\", \"Value\": 0.407}, {\"Date\": \"2010-07-01T00:00:00\", \"D0\": \"10J\", \"Value\": 1.5}, {\"Date\": \"2010-08-01T00:00:00\", \"D0\": \"1J\", \"Value\": 0.4479999999999999}, {\"Date\": \"2010-08-01T00:00:00\", \"D0\": \"2J\", \"Value\": 0.416}, {\"Date\": \"2010-08-01T00:00:00\", \"D0\": \"10J\", \"Value\": 1.192}, {\"Date\": \"2010-09-01T00:00:00\", \"D0\": \"1J\", \"Value\": 0.507}, {\"Date\": \"2010-09-01T00:00:00\", \"D0\": \"2J\", \"Value\": 0.462}, {\"Date\": \"2010-09-01T00:00:00\", \"D0\": \"10J\", \"Value\": 1.372}, {\"Date\": \"2010-10-01T00:00:00\", \"D0\": \"1J\", \"Value\": 0.499}, {\"Date\": \"2010-10-01T00:00:00\", \"D0\": \"2J\", \"Value\": 0.514}, {\"Date\": \"2010-10-01T00:00:00\", \"D0\": \"10J\", \"Value\": 1.4580000000000002}, {\"Date\": \"2010-11-01T00:00:00\", \"D0\": \"1J\", \"Value\": 0.477}, {\"Date\": \"2010-11-01T00:00:00\", \"D0\": \"2J\", \"Value\": 0.4629999999999999}, {\"Date\": \"2010-11-01T00:00:00\", \"D0\": \"10J\", \"Value\": 1.558}, {\"Date\": \"2010-12-01T00:00:00\", \"D0\": \"1J\", \"Value\": 0.44}, {\"Date\": \"2010-12-01T00:00:00\", \"D0\": \"2J\", \"Value\": 0.4479999999999999}, {\"Date\": \"2010-12-01T00:00:00\", \"D0\": \"10J\", \"Value\": 1.6740000000000002}, {\"Date\": \"2011-01-01T00:00:00\", \"D0\": \"1J\", \"Value\": 0.428}, {\"Date\": \"2011-01-01T00:00:00\", \"D0\": \"2J\", \"Value\": 0.605}, {\"Date\": \"2011-01-01T00:00:00\", \"D0\": \"10J\", \"Value\": 1.818}, {\"Date\": \"2011-02-01T00:00:00\", \"D0\": \"1J\", \"Value\": 0.365}, {\"Date\": \"2011-02-01T00:00:00\", \"D0\": \"2J\", \"Value\": 0.621}, {\"Date\": \"2011-02-01T00:00:00\", \"D0\": \"10J\", \"Value\": 1.897}, {\"Date\": \"2011-03-01T00:00:00\", \"D0\": \"1J\", \"Value\": 0.415}, {\"Date\": \"2011-03-01T00:00:00\", \"D0\": \"2J\", \"Value\": 0.7020000000000001}, {\"Date\": \"2011-03-01T00:00:00\", \"D0\": \"10J\", \"Value\": 1.931}, {\"Date\": \"2011-04-01T00:00:00\", \"D0\": \"1J\", \"Value\": 0.479}, {\"Date\": \"2011-04-01T00:00:00\", \"D0\": \"2J\", \"Value\": 0.758}, {\"Date\": \"2011-04-01T00:00:00\", \"D0\": \"10J\", \"Value\": 2.083}, {\"Date\": \"2011-05-01T00:00:00\", \"D0\": \"1J\", \"Value\": 0.3389999999999999}, {\"Date\": \"2011-05-01T00:00:00\", \"D0\": \"2J\", \"Value\": 0.588}, {\"Date\": \"2011-05-01T00:00:00\", \"D0\": \"10J\", \"Value\": 1.849}, {\"Date\": \"2011-06-01T00:00:00\", \"D0\": \"1J\", \"Value\": 0.352}, {\"Date\": \"2011-06-01T00:00:00\", \"D0\": \"2J\", \"Value\": 0.347}, {\"Date\": \"2011-06-01T00:00:00\", \"D0\": \"10J\", \"Value\": 1.739}, {\"Date\": \"2011-07-01T00:00:00\", \"D0\": \"1J\", \"Value\": 0.318}, {\"Date\": \"2011-07-01T00:00:00\", \"D0\": \"2J\", \"Value\": 0.218}, {\"Date\": \"2011-07-01T00:00:00\", \"D0\": \"10J\", \"Value\": 1.436}, {\"Date\": \"2011-08-01T00:00:00\", \"D0\": \"1J\", \"Value\": 0.045}, {\"Date\": \"2011-08-01T00:00:00\", \"D0\": \"2J\", \"Value\": 0.155}, {\"Date\": \"2011-08-01T00:00:00\", \"D0\": \"10J\", \"Value\": 1.133}, {\"Date\": \"2011-09-01T00:00:00\", \"D0\": \"1J\", \"Value\": 0.139}, {\"Date\": \"2011-09-01T00:00:00\", \"D0\": \"2J\", \"Value\": 0.055}, {\"Date\": \"2011-09-01T00:00:00\", \"D0\": \"10J\", \"Value\": 1.003}, {\"Date\": \"2011-10-01T00:00:00\", \"D0\": \"1J\", \"Value\": 0.127}, {\"Date\": \"2011-10-01T00:00:00\", \"D0\": \"2J\", \"Value\": 0.016}, {\"Date\": \"2011-10-01T00:00:00\", \"D0\": \"10J\", \"Value\": 1.082}, {\"Date\": \"2011-11-01T00:00:00\", \"D0\": \"1J\", \"Value\": 0.149}, {\"Date\": \"2011-11-01T00:00:00\", \"D0\": \"2J\", \"Value\": 0.003}, {\"Date\": \"2011-11-01T00:00:00\", \"D0\": \"10J\", \"Value\": 0.945}, {\"Date\": \"2011-12-01T00:00:00\", \"D0\": \"1J\", \"Value\": 0.155}, {\"Date\": \"2011-12-01T00:00:00\", \"D0\": \"2J\", \"Value\": 0.013}, {\"Date\": \"2011-12-01T00:00:00\", \"D0\": \"10J\", \"Value\": 0.74}, {\"Date\": \"2012-01-01T00:00:00\", \"D0\": \"1J\", \"Value\": 0.191}, {\"Date\": \"2012-01-01T00:00:00\", \"D0\": \"2J\", \"Value\": 0.102}, {\"Date\": \"2012-01-01T00:00:00\", \"D0\": \"10J\", \"Value\": 0.735}, {\"Date\": \"2012-02-01T00:00:00\", \"D0\": \"1J\", \"Value\": 0.1889999999999999}, {\"Date\": \"2012-02-01T00:00:00\", \"D0\": \"2J\", \"Value\": 0.0559999999999999}, {\"Date\": \"2012-02-01T00:00:00\", \"D0\": \"10J\", \"Value\": 0.72}, {\"Date\": \"2012-03-01T00:00:00\", \"D0\": \"1J\", \"Value\": 0.225}, {\"Date\": \"2012-03-01T00:00:00\", \"D0\": \"2J\", \"Value\": 0.094}, {\"Date\": \"2012-03-01T00:00:00\", \"D0\": \"10J\", \"Value\": 0.8540000000000001}, {\"Date\": \"2012-04-01T00:00:00\", \"D0\": \"1J\", \"Value\": 0.205}, {\"Date\": \"2012-04-01T00:00:00\", \"D0\": \"2J\", \"Value\": 0.039}, {\"Date\": \"2012-04-01T00:00:00\", \"D0\": \"10J\", \"Value\": 0.735}, {\"Date\": \"2012-05-01T00:00:00\", \"D0\": \"1J\", \"Value\": 0.122}, {\"Date\": \"2012-05-01T00:00:00\", \"D0\": \"2J\", \"Value\": -0.1639999999999999}, {\"Date\": \"2012-05-01T00:00:00\", \"D0\": \"10J\", \"Value\": 0.61}, {\"Date\": \"2012-06-01T00:00:00\", \"D0\": \"1J\", \"Value\": 0.012}, {\"Date\": \"2012-06-01T00:00:00\", \"D0\": \"2J\", \"Value\": -0.344}, {\"Date\": \"2012-06-01T00:00:00\", \"D0\": \"10J\", \"Value\": 0.6779999999999999}, {\"Date\": \"2012-07-01T00:00:00\", \"D0\": \"1J\", \"Value\": 0.038}, {\"Date\": \"2012-07-01T00:00:00\", \"D0\": \"2J\", \"Value\": -0.315}, {\"Date\": \"2012-07-01T00:00:00\", \"D0\": \"10J\", \"Value\": 0.561}, {\"Date\": \"2012-08-01T00:00:00\", \"D0\": \"1J\", \"Value\": 0.025}, {\"Date\": \"2012-08-01T00:00:00\", \"D0\": \"2J\", \"Value\": -0.327}, {\"Date\": \"2012-08-01T00:00:00\", \"D0\": \"10J\", \"Value\": 0.569}, {\"Date\": \"2012-09-01T00:00:00\", \"D0\": \"1J\", \"Value\": 0.124}, {\"Date\": \"2012-09-01T00:00:00\", \"D0\": \"2J\", \"Value\": -0.095}, {\"Date\": \"2012-09-01T00:00:00\", \"D0\": \"10J\", \"Value\": 0.599}, {\"Date\": \"2012-10-01T00:00:00\", \"D0\": \"1J\", \"Value\": 0.146}, {\"Date\": \"2012-10-01T00:00:00\", \"D0\": \"2J\", \"Value\": -0.063}, {\"Date\": \"2012-10-01T00:00:00\", \"D0\": \"10J\", \"Value\": 0.597}, {\"Date\": \"2012-11-01T00:00:00\", \"D0\": \"1J\", \"Value\": 0.1169999999999999}, {\"Date\": \"2012-11-01T00:00:00\", \"D0\": \"2J\", \"Value\": -0.1}, {\"Date\": \"2012-11-01T00:00:00\", \"D0\": \"10J\", \"Value\": 0.53}, {\"Date\": \"2012-12-01T00:00:00\", \"D0\": \"1J\", \"Value\": 0.059}, {\"Date\": \"2012-12-01T00:00:00\", \"D0\": \"2J\", \"Value\": -0.1159999999999999}, {\"Date\": \"2012-12-01T00:00:00\", \"D0\": \"10J\", \"Value\": 0.557}, {\"Date\": \"2013-01-01T00:00:00\", \"D0\": \"1J\", \"Value\": 0.14}, {\"Date\": \"2013-01-01T00:00:00\", \"D0\": \"2J\", \"Value\": 0.093}, {\"Date\": \"2013-01-01T00:00:00\", \"D0\": \"10J\", \"Value\": 0.789}, {\"Date\": \"2013-02-01T00:00:00\", \"D0\": \"1J\", \"Value\": 0.1369999999999999}, {\"Date\": \"2013-02-01T00:00:00\", \"D0\": \"2J\", \"Value\": 0.0289999999999999}, {\"Date\": \"2013-02-01T00:00:00\", \"D0\": \"10J\", \"Value\": 0.721}, {\"Date\": \"2013-03-01T00:00:00\", \"D0\": \"1J\", \"Value\": 0.119}, {\"Date\": \"2013-03-01T00:00:00\", \"D0\": \"2J\", \"Value\": -0.012}, {\"Date\": \"2013-03-01T00:00:00\", \"D0\": \"10J\", \"Value\": 0.747}, {\"Date\": \"2013-04-01T00:00:00\", \"D0\": \"1J\", \"Value\": 0.079}, {\"Date\": \"2013-04-01T00:00:00\", \"D0\": \"2J\", \"Value\": -0.079}, {\"Date\": \"2013-04-01T00:00:00\", \"D0\": \"10J\", \"Value\": 0.612}, {\"Date\": \"2013-05-01T00:00:00\", \"D0\": \"1J\", \"Value\": 0.07829818}, {\"Date\": \"2013-05-01T00:00:00\", \"D0\": \"2J\", \"Value\": -0.0600802}, {\"Date\": \"2013-05-01T00:00:00\", \"D0\": \"10J\", \"Value\": 0.75986748}, {\"Date\": \"2013-06-01T00:00:00\", \"D0\": \"1J\", \"Value\": 0.07265734}, {\"Date\": \"2013-06-01T00:00:00\", \"D0\": \"2J\", \"Value\": -0.00622837}, {\"Date\": \"2013-06-01T00:00:00\", \"D0\": \"10J\", \"Value\": 1.06024063}, {\"Date\": \"2013-07-01T00:00:00\", \"D0\": \"1J\", \"Value\": 0.07649304}, {\"Date\": \"2013-07-01T00:00:00\", \"D0\": \"2J\", \"Value\": -0.01279698}, {\"Date\": \"2013-07-01T00:00:00\", \"D0\": \"10J\", \"Value\": 1.09720884}, {\"Date\": \"2013-08-01T00:00:00\", \"D0\": \"1J\", \"Value\": 0.09603539}, {\"Date\": \"2013-08-01T00:00:00\", \"D0\": \"2J\", \"Value\": -0.00792735}, {\"Date\": \"2013-08-01T00:00:00\", \"D0\": \"10J\", \"Value\": 1.14236378}, {\"Date\": \"2013-09-01T00:00:00\", \"D0\": \"1J\", \"Value\": 0.09619763}, {\"Date\": \"2013-09-01T00:00:00\", \"D0\": \"2J\", \"Value\": -0.02358015}, {\"Date\": \"2013-09-01T00:00:00\", \"D0\": \"10J\", \"Value\": 1.10974866}, {\"Date\": \"2013-10-01T00:00:00\", \"D0\": \"1J\", \"Value\": 0.1008528}, {\"Date\": \"2013-10-01T00:00:00\", \"D0\": \"2J\", \"Value\": -0.00033339}, {\"Date\": \"2013-10-01T00:00:00\", \"D0\": \"10J\", \"Value\": 1.06986665}, {\"Date\": \"2013-11-01T00:00:00\", \"D0\": \"1J\", \"Value\": 0.06378918}, {\"Date\": \"2013-11-01T00:00:00\", \"D0\": \"2J\", \"Value\": -0.07560888}, {\"Date\": \"2013-11-01T00:00:00\", \"D0\": \"10J\", \"Value\": 1.0312548}, {\"Date\": \"2013-12-01T00:00:00\", \"D0\": \"1J\", \"Value\": 0.04519943}, {\"Date\": \"2013-12-01T00:00:00\", \"D0\": \"2J\", \"Value\": -0.07127951}, {\"Date\": \"2013-12-01T00:00:00\", \"D0\": \"10J\", \"Value\": 1.25296294}, {\"Date\": \"2014-01-01T00:00:00\", \"D0\": \"1J\", \"Value\": 0.04356279}, {\"Date\": \"2014-01-01T00:00:00\", \"D0\": \"2J\", \"Value\": -0.10912433}, {\"Date\": \"2014-01-01T00:00:00\", \"D0\": \"10J\", \"Value\": 0.98286496}, {\"Date\": \"2014-02-01T00:00:00\", \"D0\": \"1J\", \"Value\": 0.04947024}, {\"Date\": \"2014-02-01T00:00:00\", \"D0\": \"2J\", \"Value\": -0.07428698}, {\"Date\": \"2014-02-01T00:00:00\", \"D0\": \"10J\", \"Value\": 0.95060976}, {\"Date\": \"2014-03-01T00:00:00\", \"D0\": \"1J\", \"Value\": 0.08511609}, {\"Date\": \"2014-03-01T00:00:00\", \"D0\": \"2J\", \"Value\": -0.03094139}, {\"Date\": \"2014-03-01T00:00:00\", \"D0\": \"10J\", \"Value\": 0.95471884}, {\"Date\": \"2014-04-01T00:00:00\", \"D0\": \"1J\", \"Value\": 0.10388926}, {\"Date\": \"2014-04-01T00:00:00\", \"D0\": \"2J\", \"Value\": 0.00468943}, {\"Date\": \"2014-04-01T00:00:00\", \"D0\": \"10J\", \"Value\": 0.85983925}, {\"Date\": \"2014-05-01T00:00:00\", \"D0\": \"1J\", \"Value\": 0.06972802}, {\"Date\": \"2014-05-01T00:00:00\", \"D0\": \"2J\", \"Value\": -0.02719937}, {\"Date\": \"2014-05-01T00:00:00\", \"D0\": \"10J\", \"Value\": 0.76959865}, {\"Date\": \"2014-06-01T00:00:00\", \"D0\": \"1J\", \"Value\": 0.09187296}, {\"Date\": \"2014-06-01T00:00:00\", \"D0\": \"2J\", \"Value\": 0.03159775}, {\"Date\": \"2014-06-01T00:00:00\", \"D0\": \"10J\", \"Value\": 0.71393399}, {\"Date\": \"2014-07-01T00:00:00\", \"D0\": \"1J\", \"Value\": 0.10910633}, {\"Date\": \"2014-07-01T00:00:00\", \"D0\": \"2J\", \"Value\": 0.03285181}, {\"Date\": \"2014-07-01T00:00:00\", \"D0\": \"10J\", \"Value\": 0.61587201}, {\"Date\": \"2014-08-01T00:00:00\", \"D0\": \"1J\", \"Value\": 0.07810612}, {\"Date\": \"2014-08-01T00:00:00\", \"D0\": \"2J\", \"Value\": 0.00064333}, {\"Date\": \"2014-08-01T00:00:00\", \"D0\": \"10J\", \"Value\": 0.52884217}, {\"Date\": \"2014-09-01T00:00:00\", \"D0\": \"1J\", \"Value\": 0.05646349}, {\"Date\": \"2014-09-01T00:00:00\", \"D0\": \"2J\", \"Value\": -0.00901233}, {\"Date\": \"2014-09-01T00:00:00\", \"D0\": \"10J\", \"Value\": 0.58865734}, {\"Date\": \"2014-10-01T00:00:00\", \"D0\": \"1J\", \"Value\": 0.03614148}, {\"Date\": \"2014-10-01T00:00:00\", \"D0\": \"2J\", \"Value\": -0.04174117}, {\"Date\": \"2014-10-01T00:00:00\", \"D0\": \"10J\", \"Value\": 0.55757455}, {\"Date\": \"2014-11-01T00:00:00\", \"D0\": \"1J\", \"Value\": -0.02185726}, {\"Date\": \"2014-11-01T00:00:00\", \"D0\": \"2J\", \"Value\": -0.13354372}, {\"Date\": \"2014-11-01T00:00:00\", \"D0\": \"10J\", \"Value\": 0.41342657}, {\"Date\": \"2014-12-01T00:00:00\", \"D0\": \"1J\", \"Value\": -0.0942503999999999}, {\"Date\": \"2014-12-01T00:00:00\", \"D0\": \"2J\", \"Value\": -0.25915564}, {\"Date\": \"2014-12-01T00:00:00\", \"D0\": \"10J\", \"Value\": 0.3750382}, {\"Date\": \"2015-01-01T00:00:00\", \"D0\": \"1J\", \"Value\": -0.6938551}, {\"Date\": \"2015-01-01T00:00:00\", \"D0\": \"2J\", \"Value\": -0.70233675}, {\"Date\": \"2015-01-01T00:00:00\", \"D0\": \"10J\", \"Value\": -0.06700954}, {\"Date\": \"2015-02-01T00:00:00\", \"D0\": \"1J\", \"Value\": -0.85310771}, {\"Date\": \"2015-02-01T00:00:00\", \"D0\": \"2J\", \"Value\": -0.79996005}, {\"Date\": \"2015-02-01T00:00:00\", \"D0\": \"10J\", \"Value\": 0.01494662}, {\"Date\": \"2015-03-01T00:00:00\", \"D0\": \"1J\", \"Value\": -0.74270215}, {\"Date\": \"2015-03-01T00:00:00\", \"D0\": \"2J\", \"Value\": -0.79508629}, {\"Date\": \"2015-03-01T00:00:00\", \"D0\": \"10J\", \"Value\": -0.00070754}, {\"Date\": \"2015-04-01T00:00:00\", \"D0\": \"1J\", \"Value\": -0.82939553}, {\"Date\": \"2015-04-01T00:00:00\", \"D0\": \"2J\", \"Value\": -0.77380154}, {\"Date\": \"2015-04-01T00:00:00\", \"D0\": \"10J\", \"Value\": 0.03975019}, {\"Date\": \"2015-05-01T00:00:00\", \"D0\": \"1J\", \"Value\": -0.83892421}, {\"Date\": \"2015-05-01T00:00:00\", \"D0\": \"2J\", \"Value\": -0.81135703}, {\"Date\": \"2015-05-01T00:00:00\", \"D0\": \"10J\", \"Value\": -0.03087655}, {\"Date\": \"2015-06-01T00:00:00\", \"D0\": \"1J\", \"Value\": -0.9006511}, {\"Date\": \"2015-06-01T00:00:00\", \"D0\": \"2J\", \"Value\": -0.87884727}, {\"Date\": \"2015-06-01T00:00:00\", \"D0\": \"10J\", \"Value\": 0.10053865}, {\"Date\": \"2015-07-01T00:00:00\", \"D0\": \"1J\", \"Value\": -0.81920267}, {\"Date\": \"2015-07-01T00:00:00\", \"D0\": \"2J\", \"Value\": -0.79486001}, {\"Date\": \"2015-07-01T00:00:00\", \"D0\": \"10J\", \"Value\": -0.03533324}, {\"Date\": \"2015-08-01T00:00:00\", \"D0\": \"1J\", \"Value\": -0.78366347}, {\"Date\": \"2015-08-01T00:00:00\", \"D0\": \"2J\", \"Value\": -0.7568436}, {\"Date\": \"2015-08-01T00:00:00\", \"D0\": \"10J\", \"Value\": -0.12397577}, {\"Date\": \"2015-09-01T00:00:00\", \"D0\": \"1J\", \"Value\": -0.82084831}, {\"Date\": \"2015-09-01T00:00:00\", \"D0\": \"2J\", \"Value\": -0.79492863}, {\"Date\": \"2015-09-01T00:00:00\", \"D0\": \"10J\", \"Value\": -0.09993741}, {\"Date\": \"2015-10-01T00:00:00\", \"D0\": \"1J\", \"Value\": -0.86584416}, {\"Date\": \"2015-10-01T00:00:00\", \"D0\": \"2J\", \"Value\": -0.8899171}, {\"Date\": \"2015-10-01T00:00:00\", \"D0\": \"10J\", \"Value\": -0.27153993}, {\"Date\": \"2015-11-01T00:00:00\", \"D0\": \"1J\", \"Value\": -0.97926764}, {\"Date\": \"2015-11-01T00:00:00\", \"D0\": \"2J\", \"Value\": -1.04848012}, {\"Date\": \"2015-11-01T00:00:00\", \"D0\": \"10J\", \"Value\": -0.31123437}, {\"Date\": \"2015-12-01T00:00:00\", \"D0\": \"1J\", \"Value\": -0.81482743}, {\"Date\": \"2015-12-01T00:00:00\", \"D0\": \"2J\", \"Value\": -0.78567952}, {\"Date\": \"2015-12-01T00:00:00\", \"D0\": \"10J\", \"Value\": -0.03924985}, {\"Date\": \"2016-01-01T00:00:00\", \"D0\": \"1J\", \"Value\": -0.85791026}, {\"Date\": \"2016-01-01T00:00:00\", \"D0\": \"2J\", \"Value\": -0.88002799}, {\"Date\": \"2016-01-01T00:00:00\", \"D0\": \"10J\", \"Value\": -0.29944502}, {\"Date\": \"2016-02-01T00:00:00\", \"D0\": \"1J\", \"Value\": -0.95787193}, {\"Date\": \"2016-02-01T00:00:00\", \"D0\": \"2J\", \"Value\": -1.0273944}, {\"Date\": \"2016-02-01T00:00:00\", \"D0\": \"10J\", \"Value\": -0.45337318}, {\"Date\": \"2016-03-01T00:00:00\", \"D0\": \"1J\", \"Value\": -0.85718832}, {\"Date\": \"2016-03-01T00:00:00\", \"D0\": \"2J\", \"Value\": -0.86533201}, {\"Date\": \"2016-03-01T00:00:00\", \"D0\": \"10J\", \"Value\": -0.38706775}, {\"Date\": \"2016-04-01T00:00:00\", \"D0\": \"1J\", \"Value\": -0.65447807}, {\"Date\": \"2016-04-01T00:00:00\", \"D0\": \"2J\", \"Value\": -0.80939872}, {\"Date\": \"2016-04-01T00:00:00\", \"D0\": \"10J\", \"Value\": -0.24510809}, {\"Date\": \"2016-05-01T00:00:00\", \"D0\": \"1J\", \"Value\": -0.65539102}, {\"Date\": \"2016-05-01T00:00:00\", \"D0\": \"2J\", \"Value\": -0.80366881}, {\"Date\": \"2016-05-01T00:00:00\", \"D0\": \"10J\", \"Value\": -0.29782251}, {\"Date\": \"2016-06-01T00:00:00\", \"D0\": \"1J\", \"Value\": -0.77364615}, {\"Date\": \"2016-06-01T00:00:00\", \"D0\": \"2J\", \"Value\": -0.99751147}, {\"Date\": \"2016-06-01T00:00:00\", \"D0\": \"10J\", \"Value\": -0.50837182}, {\"Date\": \"2016-07-01T00:00:00\", \"D0\": \"1J\", \"Value\": -0.710088}, {\"Date\": \"2016-07-01T00:00:00\", \"D0\": \"2J\", \"Value\": -0.90239623}, {\"Date\": \"2016-07-01T00:00:00\", \"D0\": \"10J\", \"Value\": -0.54332497}, {\"Date\": \"2016-08-01T00:00:00\", \"D0\": \"1J\", \"Value\": -0.70069374}, {\"Date\": \"2016-08-01T00:00:00\", \"D0\": \"2J\", \"Value\": -0.86535537}, {\"Date\": \"2016-08-01T00:00:00\", \"D0\": \"10J\", \"Value\": -0.46185548}, {\"Date\": \"2016-09-01T00:00:00\", \"D0\": \"1J\", \"Value\": -0.74157999}, {\"Date\": \"2016-09-01T00:00:00\", \"D0\": \"2J\", \"Value\": -0.92026196}, {\"Date\": \"2016-09-01T00:00:00\", \"D0\": \"10J\", \"Value\": -0.52230522}, {\"Date\": \"2016-10-01T00:00:00\", \"D0\": \"1J\", \"Value\": -0.6159477}, {\"Date\": \"2016-10-01T00:00:00\", \"D0\": \"2J\", \"Value\": -0.78745335}, {\"Date\": \"2016-10-01T00:00:00\", \"D0\": \"10J\", \"Value\": -0.36153341}, {\"Date\": \"2016-11-01T00:00:00\", \"D0\": \"1J\", \"Value\": -0.65332042}, {\"Date\": \"2016-11-01T00:00:00\", \"D0\": \"2J\", \"Value\": -0.82026613}, {\"Date\": \"2016-11-01T00:00:00\", \"D0\": \"10J\", \"Value\": -0.12998198}, {\"Date\": \"2016-12-01T00:00:00\", \"D0\": \"1J\", \"Value\": -0.63456941}, {\"Date\": \"2016-12-01T00:00:00\", \"D0\": \"2J\", \"Value\": -0.79321169}, {\"Date\": \"2016-12-01T00:00:00\", \"D0\": \"10J\", \"Value\": -0.1354735}, {\"Date\": \"2017-01-01T00:00:00\", \"D0\": \"1J\", \"Value\": -0.65100887}, {\"Date\": \"2017-01-01T00:00:00\", \"D0\": \"2J\", \"Value\": -0.83464477}, {\"Date\": \"2017-01-01T00:00:00\", \"D0\": \"10J\", \"Value\": -0.07158497}, {\"Date\": \"2017-02-01T00:00:00\", \"D0\": \"1J\", \"Value\": -0.66859121}, {\"Date\": \"2017-02-01T00:00:00\", \"D0\": \"2J\", \"Value\": -0.87355566}, {\"Date\": \"2017-02-01T00:00:00\", \"D0\": \"10J\", \"Value\": -0.21265949}, {\"Date\": \"2017-03-01T00:00:00\", \"D0\": \"1J\", \"Value\": -0.62924707}, {\"Date\": \"2017-03-01T00:00:00\", \"D0\": \"2J\", \"Value\": -0.7730475}, {\"Date\": \"2017-03-01T00:00:00\", \"D0\": \"10J\", \"Value\": -0.10043115}, {\"Date\": \"2017-04-01T00:00:00\", \"D0\": \"1J\", \"Value\": -0.63740533}, {\"Date\": \"2017-04-01T00:00:00\", \"D0\": \"2J\", \"Value\": -0.77175968}, {\"Date\": \"2017-04-01T00:00:00\", \"D0\": \"10J\", \"Value\": -0.09559647}]}}, {\"mode\": \"vega-lite\"});\n",
       "</script>"
      ],
      "text/plain": [
       "alt.Chart(...)"
      ]
     },
     "execution_count": 35,
     "metadata": {},
     "output_type": "execute_result"
    }
   ],
   "source": [
    "alt.Chart(df[df['D0'].isin(['1J', '2J', '10J'])]).mark_line().encode(\n",
    "    x='Date',\n",
    "    y='Value',\n",
    "    color='D0:N',           # :N tells altair about the nominal axis\n",
    "    tooltip=['Date', 'Value', 'D0']\n",
    ")"
   ]
  },
  {
   "cell_type": "code",
   "execution_count": null,
   "metadata": {},
   "outputs": [],
   "source": []
  }
 ],
 "metadata": {
  "colab": {
   "provenance": []
  },
  "kernelspec": {
   "display_name": "CDBootcamp",
   "language": "python",
   "name": "python3"
  },
  "language_info": {
   "codemirror_mode": {
    "name": "ipython",
    "version": 3
   },
   "file_extension": ".py",
   "mimetype": "text/x-python",
   "name": "python",
   "nbconvert_exporter": "python",
   "pygments_lexer": "ipython3",
   "version": "3.10.18"
  }
 },
 "nbformat": 4,
 "nbformat_minor": 0
}
